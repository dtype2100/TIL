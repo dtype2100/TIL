{
  "cells": [
    {
      "cell_type": "markdown",
      "metadata": {
        "id": "view-in-github",
        "colab_type": "text"
      },
      "source": [
        "<a href=\"https://colab.research.google.com/github/dtype2100/TIL/blob/master/1220_practice.ipynb\" target=\"_parent\"><img src=\"https://colab.research.google.com/assets/colab-badge.svg\" alt=\"Open In Colab\"/></a>"
      ]
    },
    {
      "cell_type": "code",
      "execution_count": null,
      "id": "46b33a68",
      "metadata": {
        "id": "46b33a68"
      },
      "outputs": [],
      "source": [
        "import numpy as np"
      ]
    },
    {
      "cell_type": "code",
      "execution_count": null,
      "id": "b57160bd",
      "metadata": {
        "id": "b57160bd"
      },
      "outputs": [],
      "source": [
        "matrix_1 = [[1, 2], [3, 4]]\n",
        "matrix_2 = [[5, 6], [7, 8]]"
      ]
    },
    {
      "cell_type": "code",
      "execution_count": null,
      "id": "d102d575",
      "metadata": {
        "id": "d102d575",
        "outputId": "ec07c137-c4cf-4d36-903d-44732abb0ea9"
      },
      "outputs": [
        {
          "data": {
            "text/plain": [
              "5"
            ]
          },
          "execution_count": 6,
          "metadata": {},
          "output_type": "execute_result"
        }
      ],
      "source": [
        "matrix_2[0][0]"
      ]
    },
    {
      "cell_type": "code",
      "execution_count": null,
      "id": "fe8c73cb",
      "metadata": {
        "id": "fe8c73cb",
        "outputId": "0685755d-d21f-4e23-d489-549aca7b0651"
      },
      "outputs": [
        {
          "name": "stdout",
          "output_type": "stream",
          "text": [
            "[[6, 8], [10, 12]]\n",
            "Wall time: 0 ns\n"
          ]
        }
      ],
      "source": [
        "%%time\n",
        "sum_matrix = []\n",
        "\n",
        "for i in range(len(matrix_1)):\n",
        "    temp = []\n",
        "    for j in range(len(matrix_1[i])):\n",
        "        temp.append( matrix_1[i][j] + matrix_2[i][j])\n",
        "        \n",
        "    sum_matrix.append(temp)\n",
        "\n",
        "print(sum_matrix)"
      ]
    },
    {
      "cell_type": "code",
      "execution_count": null,
      "id": "26e998b6",
      "metadata": {
        "id": "26e998b6",
        "outputId": "65aca774-2b06-4ff2-8d7f-0da86b378e63"
      },
      "outputs": [
        {
          "name": "stdout",
          "output_type": "stream",
          "text": [
            "[[ 6  8]\n",
            " [10 12]]\n"
          ]
        },
        {
          "data": {
            "text/plain": [
              "array([[ 6,  8],\n",
              "       [10, 12]])"
            ]
          },
          "execution_count": 13,
          "metadata": {},
          "output_type": "execute_result"
        }
      ],
      "source": [
        "np_sum_matrix = np.array(matrix_1) + np.array(matrix_2)\n",
        "print(np_sum_matrix)\n",
        "np_sum_matrix"
      ]
    },
    {
      "cell_type": "code",
      "execution_count": null,
      "id": "d337b72f",
      "metadata": {
        "id": "d337b72f",
        "outputId": "431367b7-6710-4fcf-b2ce-98991a6a8246"
      },
      "outputs": [
        {
          "name": "stdout",
          "output_type": "stream",
          "text": [
            "[[2, 3], [4, 5]]\n",
            "Wall time: 0 ns\n"
          ]
        }
      ],
      "source": [
        "%%time\n",
        "add_one_matrix = []\n",
        "\n",
        "for i in range(len(matrix_1)):\n",
        "    temp = []\n",
        "    for j in range(len(matrix_1[i])):\n",
        "        temp.append( matrix_1[i][j] + 1)\n",
        "        \n",
        "    add_one_matrix.append(temp)\n",
        "\n",
        "print(add_one_matrix)"
      ]
    },
    {
      "cell_type": "code",
      "execution_count": null,
      "id": "b5e9794e",
      "metadata": {
        "id": "b5e9794e",
        "outputId": "469deb99-4dd8-4be3-a952-4d8d9f203b22"
      },
      "outputs": [
        {
          "name": "stdout",
          "output_type": "stream",
          "text": [
            "[[2 3]\n",
            " [4 5]]\n"
          ]
        },
        {
          "data": {
            "text/plain": [
              "array([[2, 3],\n",
              "       [4, 5]])"
            ]
          },
          "execution_count": 14,
          "metadata": {},
          "output_type": "execute_result"
        }
      ],
      "source": [
        "np_add_one_matrix = np.array(matrix_1) + 1\n",
        "print(np_add_one_matrix)\n",
        "np_add_one_matrix"
      ]
    },
    {
      "cell_type": "code",
      "execution_count": null,
      "id": "7212ffe0",
      "metadata": {
        "id": "7212ffe0",
        "outputId": "5ffc746b-b555-42fb-bb06-89e34322b760"
      },
      "outputs": [
        {
          "data": {
            "text/plain": [
              "1639964021.491711"
            ]
          },
          "execution_count": 15,
          "metadata": {},
          "output_type": "execute_result"
        }
      ],
      "source": [
        "import time\n",
        "time.time()"
      ]
    },
    {
      "cell_type": "code",
      "execution_count": null,
      "id": "e182ee4c",
      "metadata": {
        "id": "e182ee4c",
        "outputId": "cd2d8e38-9d1a-44e0-92f5-745bdeabeff9"
      },
      "outputs": [
        {
          "name": "stdout",
          "output_type": "stream",
          "text": [
            "리스트 걸린시간 1.1611998081207275\n",
            "넘파이 걸린시간 0.10970687866210938\n"
          ]
        }
      ],
      "source": [
        "import time\n",
        "\n",
        "size = 10000000\n",
        "\n",
        "#list\n",
        "x = list(range(size))\n",
        "y = list(range(size))\n",
        "\n",
        "start_time = time.time()\n",
        "z = [x[i]+x[i] for i in range(size)]\n",
        "print(\"리스트 걸린시간\", time.time()-start_time)\n",
        "\n",
        "#adlist\n",
        "x = np.arange(size)\n",
        "y = np.arange(size)\n",
        "start_time = time.time()\n",
        "z = x + y\n",
        "print(\"넘파이 걸린시간\", time.time()-start_time)\n"
      ]
    },
    {
      "cell_type": "code",
      "execution_count": null,
      "id": "82011dad",
      "metadata": {
        "id": "82011dad",
        "outputId": "7801e31c-04ac-47b6-fce9-55a328e5cfae"
      },
      "outputs": [
        {
          "data": {
            "text/plain": [
              "array([0, 1, 2, 3, 4, 5, 6, 7, 8, 9])"
            ]
          },
          "execution_count": 22,
          "metadata": {},
          "output_type": "execute_result"
        }
      ],
      "source": [
        "a = np.array(list(range(10)))\n",
        "a"
      ]
    },
    {
      "cell_type": "code",
      "execution_count": null,
      "id": "4d2a1a6d",
      "metadata": {
        "id": "4d2a1a6d",
        "outputId": "28a8f38d-31ee-4ad9-c2e5-657f44725889"
      },
      "outputs": [
        {
          "data": {
            "text/plain": [
              "dtype('int32')"
            ]
          },
          "execution_count": 19,
          "metadata": {},
          "output_type": "execute_result"
        }
      ],
      "source": [
        "a.dtype"
      ]
    },
    {
      "cell_type": "code",
      "execution_count": null,
      "id": "ed1a89fa",
      "metadata": {
        "id": "ed1a89fa",
        "outputId": "a9b0fe96-e67c-402a-cec9-a15a46c15fd6"
      },
      "outputs": [
        {
          "data": {
            "text/plain": [
              "array([0., 1., 2., 3., 4., 5., 6., 7., 8., 9.], dtype=float32)"
            ]
          },
          "execution_count": 21,
          "metadata": {},
          "output_type": "execute_result"
        }
      ],
      "source": [
        "a = np.array(list(range(10)), dtype=np.float32)\n",
        "a"
      ]
    },
    {
      "cell_type": "code",
      "execution_count": null,
      "id": "4fd9f5dd",
      "metadata": {
        "id": "4fd9f5dd",
        "outputId": "ba8056fe-8d71-4864-a4f0-782cb3de2663"
      },
      "outputs": [
        {
          "data": {
            "text/plain": [
              "numpy.ndarray"
            ]
          },
          "execution_count": 23,
          "metadata": {},
          "output_type": "execute_result"
        }
      ],
      "source": [
        "type(a)"
      ]
    },
    {
      "cell_type": "code",
      "execution_count": null,
      "id": "66f6538d",
      "metadata": {
        "id": "66f6538d"
      },
      "outputs": [],
      "source": [
        "b = np.array(a)"
      ]
    },
    {
      "cell_type": "code",
      "execution_count": null,
      "id": "843fce16",
      "metadata": {
        "id": "843fce16",
        "outputId": "af4a8d6a-1ef8-4b29-e2f9-4d7929b3739d"
      },
      "outputs": [
        {
          "data": {
            "text/plain": [
              "array([0, 1, 2, 3, 4, 5, 6, 7, 8, 9])"
            ]
          },
          "execution_count": 25,
          "metadata": {},
          "output_type": "execute_result"
        }
      ],
      "source": [
        "b"
      ]
    },
    {
      "cell_type": "code",
      "execution_count": null,
      "id": "747d97df",
      "metadata": {
        "id": "747d97df"
      },
      "outputs": [],
      "source": [
        "x = np.uint(32)\n"
      ]
    },
    {
      "cell_type": "code",
      "execution_count": null,
      "id": "0653a4e5",
      "metadata": {
        "id": "0653a4e5",
        "outputId": "26923ce6-6ba6-45b2-fb0d-af5e86521415"
      },
      "outputs": [
        {
          "data": {
            "text/plain": [
              "dtype('uint32')"
            ]
          },
          "execution_count": 28,
          "metadata": {},
          "output_type": "execute_result"
        }
      ],
      "source": [
        "x.dtype"
      ]
    },
    {
      "cell_type": "code",
      "execution_count": null,
      "id": "3ec7d938",
      "metadata": {
        "id": "3ec7d938",
        "outputId": "cd29cb31-9766-4d3d-e833-464df86589b2"
      },
      "outputs": [
        {
          "name": "stdout",
          "output_type": "stream",
          "text": [
            "int32\n"
          ]
        }
      ],
      "source": [
        "x = np.array([1, 2, 3, 4])\n",
        "print(x.dtype)"
      ]
    },
    {
      "cell_type": "code",
      "execution_count": null,
      "id": "25d47755",
      "metadata": {
        "id": "25d47755",
        "outputId": "560858e1-87d9-4af6-ab2f-adaded9ce4f5"
      },
      "outputs": [
        {
          "data": {
            "text/plain": [
              "dtype('float32')"
            ]
          },
          "execution_count": 30,
          "metadata": {},
          "output_type": "execute_result"
        }
      ],
      "source": [
        "x = np.float32([1, 2, 3, 4])\n",
        "x.dtype"
      ]
    },
    {
      "cell_type": "code",
      "execution_count": null,
      "id": "ba2c359b",
      "metadata": {
        "id": "ba2c359b",
        "outputId": "c9a7b576-c487-4a7b-e5cd-b2218ded389d"
      },
      "outputs": [
        {
          "name": "stdout",
          "output_type": "stream",
          "text": [
            "float32\n"
          ]
        }
      ],
      "source": [
        "x = np.array([1, 2, 3, 4], dtype=np.float32)\n",
        "print(x.dtype)"
      ]
    },
    {
      "cell_type": "code",
      "execution_count": null,
      "id": "7ccbc47a",
      "metadata": {
        "id": "7ccbc47a",
        "outputId": "f5020362-334f-484f-88aa-a631fdf5e38a"
      },
      "outputs": [
        {
          "name": "stdout",
          "output_type": "stream",
          "text": [
            "int32\n"
          ]
        }
      ],
      "source": [
        "x = np.int32(x)\n",
        "print(x.dtype)"
      ]
    },
    {
      "cell_type": "code",
      "execution_count": null,
      "id": "0bbb4ec1",
      "metadata": {
        "id": "0bbb4ec1",
        "outputId": "ad267ae5-e8fe-4de2-ada4-083297bc08cf"
      },
      "outputs": [
        {
          "data": {
            "text/plain": [
              "False"
            ]
          },
          "execution_count": 35,
          "metadata": {},
          "output_type": "execute_result"
        }
      ],
      "source": [
        "np.issubdtype(x.dtype, np.int64)"
      ]
    },
    {
      "cell_type": "code",
      "execution_count": null,
      "id": "8df1efb3",
      "metadata": {
        "id": "8df1efb3",
        "outputId": "dde669e7-6037-454c-e5a2-7f6594be87b0"
      },
      "outputs": [
        {
          "name": "stdout",
          "output_type": "stream",
          "text": [
            "1\n",
            "()\n",
            "0\n",
            "1\n"
          ]
        }
      ],
      "source": [
        "x = np.array(1)\n",
        "print(x)\n",
        "print(x.shape)\n",
        "print(x.ndim)\n",
        "print(x.size)"
      ]
    },
    {
      "cell_type": "code",
      "execution_count": null,
      "id": "da2f2062",
      "metadata": {
        "id": "da2f2062",
        "outputId": "61f28250-b7cf-42ed-f041-8e955edb8363"
      },
      "outputs": [
        {
          "name": "stdout",
          "output_type": "stream",
          "text": [
            "[1 2 3]\n",
            "(3,)\n",
            "1\n",
            "3\n"
          ]
        }
      ],
      "source": [
        "x = np.array([1, 2, 3])\n",
        "\n",
        "print(x)\n",
        "print(x.shape)\n",
        "print(x.ndim)\n",
        "print(x.size)\n"
      ]
    },
    {
      "cell_type": "code",
      "execution_count": null,
      "id": "454c0f34",
      "metadata": {
        "id": "454c0f34",
        "outputId": "e06d0f60-4413-449b-dd34-d9c7f437074e"
      },
      "outputs": [
        {
          "name": "stdout",
          "output_type": "stream",
          "text": [
            "[[1]\n",
            " [2]\n",
            " [3]]\n",
            "(3, 1)\n",
            "2\n",
            "3\n"
          ]
        }
      ],
      "source": [
        "x = np.array([[1], [2], [3]])\n",
        "\n",
        "print(x)\n",
        "print(x.shape)\n",
        "print(x.ndim)\n",
        "print(x.size)\n"
      ]
    },
    {
      "cell_type": "code",
      "execution_count": null,
      "id": "7d352855",
      "metadata": {
        "id": "7d352855",
        "outputId": "2b5ccf00-4de3-4f0d-ad41-4d3029a84acc"
      },
      "outputs": [
        {
          "name": "stdout",
          "output_type": "stream",
          "text": [
            "[[1 2 3]]\n",
            "(1, 3)\n",
            "2\n",
            "3\n"
          ]
        }
      ],
      "source": [
        "x = np.array([[1, 2, 3]])\n",
        "\n",
        "print(x)\n",
        "print(x.shape)\n",
        "print(x.ndim)\n",
        "print(x.size)\n"
      ]
    },
    {
      "cell_type": "code",
      "execution_count": null,
      "id": "60e47774",
      "metadata": {
        "id": "60e47774",
        "outputId": "0afe7a74-51a0-492f-8a69-e8b44bf304f6"
      },
      "outputs": [
        {
          "name": "stdout",
          "output_type": "stream",
          "text": [
            "[[1 2 3]\n",
            " [4 5 6]]\n",
            "(2, 3)\n",
            "2\n",
            "6\n"
          ]
        }
      ],
      "source": [
        "x = np.array([[1, 2, 3], [4, 5, 6]])\n",
        "\n",
        "print(x)\n",
        "print(x.shape)\n",
        "print(x.ndim)\n",
        "print(x.size)\n"
      ]
    },
    {
      "cell_type": "code",
      "execution_count": null,
      "id": "28c23d12",
      "metadata": {
        "scrolled": true,
        "id": "28c23d12",
        "outputId": "2b57c099-7170-4cc1-adcf-d77451d6db9f"
      },
      "outputs": [
        {
          "name": "stdout",
          "output_type": "stream",
          "text": [
            "[[[1 2 3]\n",
            "  [4 5 6]]]\n",
            "(1, 2, 3)\n",
            "3\n",
            "6\n"
          ]
        }
      ],
      "source": [
        "x = np.array([[[1, 2, 3], [4, 5, 6]]])\n",
        "\n",
        "print(x)\n",
        "print(x.shape)\n",
        "print(x.ndim)\n",
        "print(x.size)\n"
      ]
    },
    {
      "cell_type": "code",
      "execution_count": null,
      "id": "18b5fa91",
      "metadata": {
        "id": "18b5fa91",
        "outputId": "083b9a8c-823f-4044-ada7-05abf02e76f7"
      },
      "outputs": [
        {
          "data": {
            "text/plain": [
              "array([0, 1, 2, 3, 4, 5, 6, 7, 8, 9])"
            ]
          },
          "execution_count": 47,
          "metadata": {},
          "output_type": "execute_result"
        }
      ],
      "source": [
        "x = np.arange(10)\n",
        "x"
      ]
    },
    {
      "cell_type": "code",
      "execution_count": null,
      "id": "da0f915f",
      "metadata": {
        "id": "da0f915f",
        "outputId": "021b361d-f799-4963-806d-c3f13c57a2a9"
      },
      "outputs": [
        {
          "data": {
            "text/plain": [
              "array([0., 1., 2., 3., 4., 5., 6., 7., 8., 9.])"
            ]
          },
          "execution_count": 49,
          "metadata": {},
          "output_type": "execute_result"
        }
      ],
      "source": [
        "x = np.arange(10.0)\n",
        "x"
      ]
    },
    {
      "cell_type": "code",
      "execution_count": null,
      "id": "85dcc540",
      "metadata": {
        "id": "85dcc540",
        "outputId": "9b3ba951-50d4-435e-b262-870292c76f55"
      },
      "outputs": [
        {
          "data": {
            "text/plain": [
              "array([1, 3, 5, 7, 9])"
            ]
          },
          "execution_count": 50,
          "metadata": {},
          "output_type": "execute_result"
        }
      ],
      "source": [
        "x = np.arange(1, 10, 2)\n",
        "x"
      ]
    },
    {
      "cell_type": "code",
      "execution_count": null,
      "id": "d538dc03",
      "metadata": {
        "id": "d538dc03",
        "outputId": "e7f60cfb-f660-4ee8-81ef-779dda72ba0e"
      },
      "outputs": [
        {
          "data": {
            "text/plain": [
              "array([1. , 1.5, 2. , 2.5, 3. , 3.5, 4. , 4.5, 5. , 5.5, 6. , 6.5, 7. ,\n",
              "       7.5, 8. , 8.5, 9. , 9.5])"
            ]
          },
          "execution_count": 51,
          "metadata": {},
          "output_type": "execute_result"
        }
      ],
      "source": [
        "x = np.arange(1, 10, 0.5)\n",
        "x"
      ]
    },
    {
      "cell_type": "code",
      "execution_count": null,
      "id": "3c2e0c57",
      "metadata": {
        "id": "3c2e0c57",
        "outputId": "cf10da0f-dd02-49fd-b110-21d59448547c"
      },
      "outputs": [
        {
          "name": "stdout",
          "output_type": "stream",
          "text": [
            "[10.   9.5  9.   8.5  8.   7.5  7.   6.5  6.   5.5  5.   4.5  4.   3.5\n",
            "  3.   2.5  2.   1.5]\n"
          ]
        }
      ],
      "source": [
        "x = np.arange(10, 1, -0.5)\n",
        "print(x)"
      ]
    },
    {
      "cell_type": "code",
      "execution_count": null,
      "id": "5c467e4d",
      "metadata": {
        "id": "5c467e4d",
        "outputId": "26386fba-92ee-46df-cf06-1ec82715ab0e"
      },
      "outputs": [
        {
          "data": {
            "text/plain": [
              "array([ 1.  ,  5.75, 10.5 , 15.25, 20.  ])"
            ]
          },
          "execution_count": 54,
          "metadata": {},
          "output_type": "execute_result"
        }
      ],
      "source": [
        "x = np.linspace(1, 20, 5)\n",
        "x"
      ]
    },
    {
      "cell_type": "code",
      "execution_count": null,
      "id": "7182b0cf",
      "metadata": {
        "id": "7182b0cf",
        "outputId": "ec62660f-b17b-4493-be19-4f927128fb37"
      },
      "outputs": [
        {
          "data": {
            "text/plain": [
              "array([ 1.        ,  1.3877551 ,  1.7755102 ,  2.16326531,  2.55102041,\n",
              "        2.93877551,  3.32653061,  3.71428571,  4.10204082,  4.48979592,\n",
              "        4.87755102,  5.26530612,  5.65306122,  6.04081633,  6.42857143,\n",
              "        6.81632653,  7.20408163,  7.59183673,  7.97959184,  8.36734694,\n",
              "        8.75510204,  9.14285714,  9.53061224,  9.91836735, 10.30612245,\n",
              "       10.69387755, 11.08163265, 11.46938776, 11.85714286, 12.24489796,\n",
              "       12.63265306, 13.02040816, 13.40816327, 13.79591837, 14.18367347,\n",
              "       14.57142857, 14.95918367, 15.34693878, 15.73469388, 16.12244898,\n",
              "       16.51020408, 16.89795918, 17.28571429, 17.67346939, 18.06122449,\n",
              "       18.44897959, 18.83673469, 19.2244898 , 19.6122449 , 20.        ])"
            ]
          },
          "execution_count": 55,
          "metadata": {},
          "output_type": "execute_result"
        }
      ],
      "source": [
        "x = np.linspace(1, 20)\n",
        "x"
      ]
    },
    {
      "cell_type": "code",
      "execution_count": null,
      "id": "6fdb5783",
      "metadata": {
        "id": "6fdb5783"
      },
      "outputs": [],
      "source": [
        "np.linspace?"
      ]
    },
    {
      "cell_type": "code",
      "execution_count": null,
      "id": "9a150639",
      "metadata": {
        "id": "9a150639",
        "outputId": "1143b20e-6582-4589-dd6d-46fe220fdea3"
      },
      "outputs": [
        {
          "data": {
            "text/plain": [
              "array([0, 1, 2, 3, 4, 5, 6, 7, 8])"
            ]
          },
          "execution_count": 58,
          "metadata": {},
          "output_type": "execute_result"
        }
      ],
      "source": [
        "x = np.arange(9)\n",
        "x"
      ]
    },
    {
      "cell_type": "code",
      "execution_count": null,
      "id": "beb8f9fb",
      "metadata": {
        "id": "beb8f9fb",
        "outputId": "440acfc1-b4d5-41a7-8a18-dd546e3d1a6e"
      },
      "outputs": [
        {
          "data": {
            "text/plain": [
              "array([[0, 1, 2],\n",
              "       [3, 4, 5],\n",
              "       [6, 7, 8]])"
            ]
          },
          "execution_count": 59,
          "metadata": {},
          "output_type": "execute_result"
        }
      ],
      "source": [
        "x.reshape(3, 3)"
      ]
    },
    {
      "cell_type": "code",
      "execution_count": null,
      "id": "737eb721",
      "metadata": {
        "id": "737eb721",
        "outputId": "b82725be-c695-43be-ae2a-2f78d3fb084a"
      },
      "outputs": [
        {
          "data": {
            "text/plain": [
              "array([0, 1, 2, 3, 4, 5, 6, 7, 8])"
            ]
          },
          "execution_count": 60,
          "metadata": {},
          "output_type": "execute_result"
        }
      ],
      "source": [
        "x"
      ]
    },
    {
      "cell_type": "code",
      "execution_count": null,
      "id": "edb85198",
      "metadata": {
        "id": "edb85198",
        "outputId": "6ee7c1fa-6e96-4718-98ec-0d16ef249588"
      },
      "outputs": [
        {
          "data": {
            "text/plain": [
              "array([[[ 0,  1,  2,  3],\n",
              "        [ 4,  5,  6,  7],\n",
              "        [ 8,  9, 10, 11]],\n",
              "\n",
              "       [[12, 13, 14, 15],\n",
              "        [16, 17, 18, 19],\n",
              "        [20, 21, 22, 23]]])"
            ]
          },
          "execution_count": 61,
          "metadata": {},
          "output_type": "execute_result"
        }
      ],
      "source": [
        "x = np.arange(24).reshape(2, 3, 4)\n",
        "x"
      ]
    },
    {
      "cell_type": "code",
      "execution_count": null,
      "id": "2f21d010",
      "metadata": {
        "id": "2f21d010",
        "outputId": "34eaf1fb-28e4-4bbc-b27b-8586037bacf8"
      },
      "outputs": [
        {
          "data": {
            "text/plain": [
              "array([[[[ 0,  1,  2],\n",
              "         [ 3,  4,  5]]],\n",
              "\n",
              "\n",
              "       [[[ 6,  7,  8],\n",
              "         [ 9, 10, 11]]]])"
            ]
          },
          "execution_count": 67,
          "metadata": {},
          "output_type": "execute_result"
        }
      ],
      "source": [
        "x = np.arange(12).reshape(2, 1, 2, 3)\n",
        "x"
      ]
    },
    {
      "cell_type": "code",
      "execution_count": null,
      "id": "2b26151f",
      "metadata": {
        "id": "2b26151f"
      },
      "outputs": [],
      "source": [
        "x = np.array([[1, 2], [3, 4], [5, 6]])\n"
      ]
    },
    {
      "cell_type": "code",
      "execution_count": null,
      "id": "dd960d15",
      "metadata": {
        "id": "dd960d15",
        "outputId": "54f74ab7-20c1-4321-9fbc-56fe63dca3ab"
      },
      "outputs": [
        {
          "data": {
            "text/plain": [
              "array([ 0,  1,  2,  3,  4,  5,  6,  7,  8,  9, 10, 11, 12, 13, 14, 15, 16,\n",
              "       17, 18, 19])"
            ]
          },
          "execution_count": 68,
          "metadata": {},
          "output_type": "execute_result"
        }
      ],
      "source": [
        "x = np.arange(20)\n",
        "x"
      ]
    },
    {
      "cell_type": "code",
      "execution_count": null,
      "id": "6bf7aff8",
      "metadata": {
        "id": "6bf7aff8",
        "outputId": "1b9df8be-af80-4037-c691-3ef0fdb9f1a2"
      },
      "outputs": [
        {
          "name": "stdout",
          "output_type": "stream",
          "text": [
            "[1 2]\n"
          ]
        }
      ],
      "source": [
        "print(x[1:3])"
      ]
    },
    {
      "cell_type": "code",
      "execution_count": null,
      "id": "ebc42b9f",
      "metadata": {
        "id": "ebc42b9f",
        "outputId": "9f788c8e-2529-4816-aa0d-ad4531e9e6db"
      },
      "outputs": [
        {
          "data": {
            "text/plain": [
              "array([[ 0,  1,  2,  3,  4],\n",
              "       [ 5,  6,  7,  8,  9],\n",
              "       [10, 11, 12, 13, 14],\n",
              "       [15, 16, 17, 18, 19]])"
            ]
          },
          "execution_count": 70,
          "metadata": {},
          "output_type": "execute_result"
        }
      ],
      "source": [
        "x = np.arange(20).reshape(4, -1)\n",
        "x"
      ]
    },
    {
      "cell_type": "code",
      "execution_count": null,
      "id": "25ed7072",
      "metadata": {
        "id": "25ed7072",
        "outputId": "e7b0cfb8-6de9-4fde-aa85-bb579e2e1624"
      },
      "outputs": [
        {
          "name": "stdout",
          "output_type": "stream",
          "text": [
            "[[ 5  6  7  8  9]\n",
            " [10 11 12 13 14]]\n"
          ]
        }
      ],
      "source": [
        "print(x[1:3])"
      ]
    },
    {
      "cell_type": "code",
      "execution_count": null,
      "id": "405e4145",
      "metadata": {
        "id": "405e4145",
        "outputId": "9534f6e2-8b3d-457f-b789-593d00277e12"
      },
      "outputs": [
        {
          "name": "stdout",
          "output_type": "stream",
          "text": [
            "[[ 6  7]\n",
            " [11 12]]\n"
          ]
        }
      ],
      "source": [
        "print(x[1:3, 1:3])"
      ]
    },
    {
      "cell_type": "code",
      "execution_count": null,
      "id": "f3c17c4b",
      "metadata": {
        "id": "f3c17c4b",
        "outputId": "21fcc46f-2dab-4187-d7c0-e10bba5fdd97"
      },
      "outputs": [
        {
          "data": {
            "text/plain": [
              "array([[[ 0,  1,  2],\n",
              "        [ 3,  4,  5],\n",
              "        [ 6,  7,  8],\n",
              "        [ 9, 10, 11],\n",
              "        [12, 13, 14]],\n",
              "\n",
              "       [[15, 16, 17],\n",
              "        [18, 19, 20],\n",
              "        [21, 22, 23],\n",
              "        [24, 25, 26],\n",
              "        [27, 28, 29]]])"
            ]
          },
          "execution_count": 73,
          "metadata": {},
          "output_type": "execute_result"
        }
      ],
      "source": [
        "x = np.arange(30).reshape(2, 5, -1)\n",
        "x"
      ]
    },
    {
      "cell_type": "code",
      "execution_count": null,
      "id": "74f5b6cc",
      "metadata": {
        "id": "74f5b6cc",
        "outputId": "21d42505-24c3-41b3-d24f-fbd268454862"
      },
      "outputs": [
        {
          "name": "stdout",
          "output_type": "stream",
          "text": [
            "[[10 13]\n",
            " [25 28]]\n"
          ]
        }
      ],
      "source": [
        "print(x[:, 3:5, 1])"
      ]
    },
    {
      "cell_type": "code",
      "execution_count": null,
      "id": "ee5fa478",
      "metadata": {
        "id": "ee5fa478",
        "outputId": "a38f89e4-9d36-4547-e79b-e03dcefcc8a0"
      },
      "outputs": [
        {
          "data": {
            "text/plain": [
              "array([[ 0,  1,  2,  3,  4],\n",
              "       [ 5,  6,  7,  8,  9],\n",
              "       [10, 11, 12, 13, 14],\n",
              "       [15, 16, 17, 18, 19]])"
            ]
          },
          "execution_count": 75,
          "metadata": {},
          "output_type": "execute_result"
        }
      ],
      "source": [
        "a = np.arange(20).reshape(4, 5)\n",
        "a"
      ]
    },
    {
      "cell_type": "code",
      "execution_count": null,
      "id": "3dd7e6f2",
      "metadata": {
        "id": "3dd7e6f2",
        "outputId": "8204a7c2-10cc-4924-90e8-3cef9591bc88"
      },
      "outputs": [
        {
          "data": {
            "text/plain": [
              "6"
            ]
          },
          "execution_count": 76,
          "metadata": {},
          "output_type": "execute_result"
        }
      ],
      "source": [
        "a[1][1]"
      ]
    },
    {
      "cell_type": "code",
      "execution_count": null,
      "id": "2dcafffd",
      "metadata": {
        "id": "2dcafffd",
        "outputId": "564d8966-9291-400e-eca8-7f4395def84d"
      },
      "outputs": [
        {
          "data": {
            "text/plain": [
              "6"
            ]
          },
          "execution_count": 77,
          "metadata": {},
          "output_type": "execute_result"
        }
      ],
      "source": [
        "a[1, 1]"
      ]
    },
    {
      "cell_type": "code",
      "execution_count": null,
      "id": "63493264",
      "metadata": {
        "id": "63493264",
        "outputId": "69fbaf0b-9f96-44a7-ee1e-d38482bce31e"
      },
      "outputs": [
        {
          "data": {
            "text/plain": [
              "array([6, 7])"
            ]
          },
          "execution_count": 78,
          "metadata": {},
          "output_type": "execute_result"
        }
      ],
      "source": [
        "a[[1, 1], [1, 2]]"
      ]
    },
    {
      "cell_type": "code",
      "execution_count": null,
      "id": "91d8e1e7",
      "metadata": {
        "id": "91d8e1e7",
        "outputId": "48b8d497-6e69-4c23-c74f-f7761ab37f9a"
      },
      "outputs": [
        {
          "data": {
            "text/plain": [
              "array([[False, False, False, False,  True],\n",
              "       [ True,  True,  True,  True,  True],\n",
              "       [ True,  True,  True,  True,  True],\n",
              "       [ True,  True,  True,  True,  True]])"
            ]
          },
          "execution_count": 79,
          "metadata": {},
          "output_type": "execute_result"
        }
      ],
      "source": [
        "a > 3"
      ]
    },
    {
      "cell_type": "code",
      "execution_count": null,
      "id": "17eecd2d",
      "metadata": {
        "id": "17eecd2d",
        "outputId": "7b731db2-e742-46b1-f73c-410c13130797"
      },
      "outputs": [
        {
          "data": {
            "text/plain": [
              "array([ 4,  5,  6,  7,  8,  9, 10, 11, 12, 13, 14, 15, 16, 17, 18, 19])"
            ]
          },
          "execution_count": 80,
          "metadata": {},
          "output_type": "execute_result"
        }
      ],
      "source": [
        "a[a > 3]"
      ]
    },
    {
      "cell_type": "code",
      "execution_count": null,
      "id": "6e6c91e3",
      "metadata": {
        "id": "6e6c91e3",
        "outputId": "ace84b8c-5388-4dc1-ee09-39c53ca93510"
      },
      "outputs": [
        {
          "data": {
            "text/plain": [
              "array([1])"
            ]
          },
          "execution_count": 82,
          "metadata": {},
          "output_type": "execute_result"
        }
      ],
      "source": [
        "a [ a == 1]"
      ]
    },
    {
      "cell_type": "code",
      "execution_count": null,
      "id": "1a4cd8e6",
      "metadata": {
        "id": "1a4cd8e6",
        "outputId": "90e9b25e-40e6-410b-b9a4-6f20c568a1f1"
      },
      "outputs": [
        {
          "data": {
            "text/plain": [
              "array([ 0,  2,  3,  4,  5,  6,  7,  8,  9, 10, 11, 12, 13, 14, 15, 16, 17,\n",
              "       18, 19])"
            ]
          },
          "execution_count": 83,
          "metadata": {},
          "output_type": "execute_result"
        }
      ],
      "source": [
        "a[~(a == 1)]"
      ]
    },
    {
      "cell_type": "code",
      "execution_count": null,
      "id": "49f6fc71",
      "metadata": {
        "id": "49f6fc71",
        "outputId": "27b37e77-e72b-4f09-9a24-d87d1912a918"
      },
      "outputs": [
        {
          "data": {
            "text/plain": [
              "array([ 0,  2,  3,  4,  5,  6,  7,  8,  9, 10, 11, 12, 13, 14, 15, 16, 17,\n",
              "       18, 19])"
            ]
          },
          "execution_count": 84,
          "metadata": {},
          "output_type": "execute_result"
        }
      ],
      "source": [
        "a[a != 1]"
      ]
    },
    {
      "cell_type": "code",
      "execution_count": null,
      "id": "55a07231",
      "metadata": {
        "id": "55a07231",
        "outputId": "f960e420-2cf5-4cfa-cd16-41056281d028"
      },
      "outputs": [
        {
          "data": {
            "text/plain": [
              "array([4, 5, 6, 7])"
            ]
          },
          "execution_count": 85,
          "metadata": {},
          "output_type": "execute_result"
        }
      ],
      "source": [
        "a[(a > 3) & ( a < 8)]"
      ]
    },
    {
      "cell_type": "code",
      "execution_count": null,
      "id": "4b1e4781",
      "metadata": {
        "id": "4b1e4781",
        "outputId": "9631360c-ce2b-4c48-b5b5-9c74ecec62be"
      },
      "outputs": [
        {
          "data": {
            "text/plain": [
              "array([[0.11300129, 0.85571154, 0.71411026, 0.28784786, 0.32073261],\n",
              "       [0.2790515 , 0.03471428, 0.12622533, 0.31855559, 0.19596521],\n",
              "       [0.33802076, 0.67520359, 0.1811923 , 0.07381021, 0.15351455],\n",
              "       [0.4209883 , 0.18056122, 0.28247192, 0.29498811, 0.87973823],\n",
              "       [0.36964937, 0.69933605, 0.36029305, 0.92659766, 0.22035474]])"
            ]
          },
          "execution_count": 86,
          "metadata": {},
          "output_type": "execute_result"
        }
      ],
      "source": [
        "np.random.rand(5, 5)"
      ]
    },
    {
      "cell_type": "code",
      "execution_count": null,
      "id": "1bbbee72",
      "metadata": {
        "id": "1bbbee72"
      },
      "outputs": [],
      "source": [
        "np.random.rand?"
      ]
    },
    {
      "cell_type": "code",
      "execution_count": null,
      "id": "bfb17d38",
      "metadata": {
        "scrolled": true,
        "id": "bfb17d38",
        "outputId": "a32c6c96-55cb-42ff-db43-8365953846e8"
      },
      "outputs": [
        {
          "data": {
            "text/plain": [
              "6"
            ]
          },
          "execution_count": 173,
          "metadata": {},
          "output_type": "execute_result"
        }
      ],
      "source": [
        "np.random.randint(1, 10)"
      ]
    },
    {
      "cell_type": "code",
      "execution_count": null,
      "id": "b246bf33",
      "metadata": {
        "id": "b246bf33",
        "outputId": "47820c07-b1bd-49ca-9d5c-70b59982b8e1"
      },
      "outputs": [
        {
          "data": {
            "text/plain": [
              "array([9, 8, 4, 1, 7])"
            ]
          },
          "execution_count": 91,
          "metadata": {},
          "output_type": "execute_result"
        }
      ],
      "source": [
        "np.random.randint(1, 10, size=(5,))"
      ]
    },
    {
      "cell_type": "code",
      "execution_count": null,
      "id": "74dd6413",
      "metadata": {
        "id": "74dd6413",
        "outputId": "83a86aff-360f-4132-8dbc-4fd6e560826e"
      },
      "outputs": [
        {
          "data": {
            "text/plain": [
              "array([[7, 1],\n",
              "       [6, 7],\n",
              "       [8, 8],\n",
              "       [8, 8],\n",
              "       [8, 1]])"
            ]
          },
          "execution_count": 179,
          "metadata": {},
          "output_type": "execute_result"
        }
      ],
      "source": [
        "np.random.randint(1, 10, size=(5,2))"
      ]
    },
    {
      "cell_type": "code",
      "execution_count": null,
      "id": "0ea2989f",
      "metadata": {
        "id": "0ea2989f",
        "outputId": "08a2a8ea-d4f3-4426-99b6-069695f9b5d3"
      },
      "outputs": [
        {
          "data": {
            "text/plain": [
              "array([[95, 65, 23, 46],\n",
              "       [29, 12, 25, 83],\n",
              "       [47, 59, 15, 94]])"
            ]
          },
          "execution_count": 177,
          "metadata": {},
          "output_type": "execute_result"
        }
      ],
      "source": [
        "np.random.choice(100, size=(3, 4))"
      ]
    },
    {
      "cell_type": "code",
      "execution_count": null,
      "id": "ec1f392d",
      "metadata": {
        "id": "ec1f392d",
        "outputId": "a4ef444e-6dac-48b0-cae8-d310b3854ad5"
      },
      "outputs": [
        {
          "data": {
            "text/plain": [
              "array([[ 9, 12],\n",
              "       [ 3,  9]])"
            ]
          },
          "execution_count": 96,
          "metadata": {},
          "output_type": "execute_result"
        }
      ],
      "source": [
        "x = np.array([3, 6, 9, 12])\n",
        "np.random.choice(x, size=(2, 2))"
      ]
    },
    {
      "cell_type": "code",
      "execution_count": null,
      "id": "ee69037e",
      "metadata": {
        "id": "ee69037e",
        "outputId": "4772f3bb-efea-4c4a-deb8-b60f6a2a4981"
      },
      "outputs": [
        {
          "data": {
            "text/plain": [
              "array([[1., 1., 1., 1., 1.],\n",
              "       [1., 1., 1., 1., 1.],\n",
              "       [1., 1., 1., 1., 1.],\n",
              "       [1., 1., 1., 1., 1.],\n",
              "       [1., 1., 1., 1., 1.]])"
            ]
          },
          "execution_count": 97,
          "metadata": {},
          "output_type": "execute_result"
        }
      ],
      "source": [
        "np.ones([5, 5])"
      ]
    },
    {
      "cell_type": "code",
      "execution_count": null,
      "id": "ee36b60f",
      "metadata": {
        "id": "ee36b60f",
        "outputId": "002fb370-2e82-4240-848d-35be13bc42e7"
      },
      "outputs": [
        {
          "data": {
            "text/plain": [
              "array([[0., 0.],\n",
              "       [0., 0.],\n",
              "       [0., 0.]])"
            ]
          },
          "execution_count": 98,
          "metadata": {},
          "output_type": "execute_result"
        }
      ],
      "source": [
        "np.zeros([3, 2])"
      ]
    },
    {
      "cell_type": "code",
      "execution_count": null,
      "id": "4689d05d",
      "metadata": {
        "id": "4689d05d",
        "outputId": "f4ce051d-4be5-499d-8054-1507fa18041d"
      },
      "outputs": [
        {
          "data": {
            "text/plain": [
              "array([[1., 0., 0., 0.],\n",
              "       [0., 1., 0., 0.],\n",
              "       [0., 0., 1., 0.],\n",
              "       [0., 0., 0., 1.]])"
            ]
          },
          "execution_count": 99,
          "metadata": {},
          "output_type": "execute_result"
        }
      ],
      "source": [
        "np.eye(4)"
      ]
    },
    {
      "cell_type": "code",
      "execution_count": null,
      "id": "7bd8c064",
      "metadata": {
        "id": "7bd8c064",
        "outputId": "123aa216-edc8-4005-d255-47aa8a2287cc"
      },
      "outputs": [
        {
          "data": {
            "text/plain": [
              "array([[83, 68, 39, 16],\n",
              "       [73, 95, 34, 38],\n",
              "       [42, 12, 67, 94]])"
            ]
          },
          "execution_count": 103,
          "metadata": {},
          "output_type": "execute_result"
        }
      ],
      "source": [
        "c = np.random.choice(100, size=(3, 4))\n",
        "c"
      ]
    },
    {
      "cell_type": "code",
      "execution_count": null,
      "id": "a62f7e3a",
      "metadata": {
        "id": "a62f7e3a",
        "outputId": "58a19e6f-10c3-4d7e-bdfb-94313f3f00c5"
      },
      "outputs": [
        {
          "data": {
            "text/plain": [
              "array([83, 68, 39, 16, 73, 95, 34, 38, 42, 12, 67, 94])"
            ]
          },
          "execution_count": 104,
          "metadata": {},
          "output_type": "execute_result"
        }
      ],
      "source": [
        "c.ravel()"
      ]
    },
    {
      "cell_type": "code",
      "execution_count": null,
      "id": "e07027e7",
      "metadata": {
        "id": "e07027e7",
        "outputId": "19a5d3e5-ec09-4bcc-a150-33deaa419eab"
      },
      "outputs": [
        {
          "data": {
            "text/plain": [
              "array([83, 68, 39, 16, 73, 95, 34, 38, 42, 12, 67, 94])"
            ]
          },
          "execution_count": 108,
          "metadata": {},
          "output_type": "execute_result"
        }
      ],
      "source": [
        "np.ravel(c)"
      ]
    },
    {
      "cell_type": "code",
      "execution_count": null,
      "id": "539a02aa",
      "metadata": {
        "id": "539a02aa",
        "outputId": "755541af-4552-4e7e-9208-61ce04629223"
      },
      "outputs": [
        {
          "data": {
            "text/plain": [
              "array([83, 73, 42, 68, 95, 12, 39, 34, 67, 16, 38, 94])"
            ]
          },
          "execution_count": 110,
          "metadata": {},
          "output_type": "execute_result"
        }
      ],
      "source": [
        "np.ravel(c, 'F')"
      ]
    },
    {
      "cell_type": "code",
      "execution_count": null,
      "id": "5f9ab044",
      "metadata": {
        "id": "5f9ab044",
        "outputId": "32cf5b82-4e0d-4f29-cd39-4b547d894fec"
      },
      "outputs": [
        {
          "data": {
            "text/plain": [
              "array([[83, 68, 39, 16],\n",
              "       [73, 95, 34, 38],\n",
              "       [42, 12, 67, 94]])"
            ]
          },
          "execution_count": 111,
          "metadata": {},
          "output_type": "execute_result"
        }
      ],
      "source": [
        "c"
      ]
    },
    {
      "cell_type": "code",
      "execution_count": null,
      "id": "eb2c711d",
      "metadata": {
        "id": "eb2c711d",
        "outputId": "16ec855c-5364-42ad-ecd2-c6f8a000e32e"
      },
      "outputs": [
        {
          "data": {
            "text/plain": [
              "array([83, 68, 39, 16, 73, 95, 34, 38, 42, 12, 67, 94])"
            ]
          },
          "execution_count": 114,
          "metadata": {},
          "output_type": "execute_result"
        }
      ],
      "source": [
        "c.flatten()"
      ]
    },
    {
      "cell_type": "code",
      "execution_count": null,
      "id": "91322bb8",
      "metadata": {
        "id": "91322bb8",
        "outputId": "9dd7b7a0-2589-47f6-8dd5-0c978cd67616"
      },
      "outputs": [
        {
          "data": {
            "text/plain": [
              "array([[83, 68, 39, 16],\n",
              "       [73, 95, 34, 38],\n",
              "       [42, 12, 67, 94]])"
            ]
          },
          "execution_count": 113,
          "metadata": {},
          "output_type": "execute_result"
        }
      ],
      "source": [
        "c"
      ]
    },
    {
      "cell_type": "code",
      "execution_count": null,
      "id": "8327ec93",
      "metadata": {
        "id": "8327ec93",
        "outputId": "bcb1ee9b-3f7e-4aeb-eb2f-285a2562a57c"
      },
      "outputs": [
        {
          "data": {
            "text/plain": [
              "array([83, 68, 39, 16, 73, 95, 34, 38, 42, 12, 67, 94])"
            ]
          },
          "execution_count": 115,
          "metadata": {},
          "output_type": "execute_result"
        }
      ],
      "source": [
        "c.ravel()"
      ]
    },
    {
      "cell_type": "code",
      "execution_count": null,
      "id": "4d97abea",
      "metadata": {
        "id": "4d97abea",
        "outputId": "550d6f05-eb73-40b1-ab5f-61fffe7bafec"
      },
      "outputs": [
        {
          "data": {
            "text/plain": [
              "array([[83, 68, 39, 16],\n",
              "       [73, 95, 34, 38],\n",
              "       [42, 12, 67, 94]])"
            ]
          },
          "execution_count": 116,
          "metadata": {},
          "output_type": "execute_result"
        }
      ],
      "source": [
        "c"
      ]
    },
    {
      "cell_type": "code",
      "execution_count": null,
      "id": "7ffae99e",
      "metadata": {
        "id": "7ffae99e",
        "outputId": "d9d50cc6-8ace-471d-fccf-53ea91dada68"
      },
      "outputs": [
        {
          "data": {
            "text/plain": [
              "array([[[ 0,  1,  2],\n",
              "        [ 3,  4,  5]],\n",
              "\n",
              "       [[ 6,  7,  8],\n",
              "        [ 9, 10, 11]]])"
            ]
          },
          "execution_count": 119,
          "metadata": {},
          "output_type": "execute_result"
        }
      ],
      "source": [
        "x=np.arange(12).reshape(2,2,3)\n",
        "x"
      ]
    },
    {
      "cell_type": "code",
      "execution_count": null,
      "id": "3e0ceb38",
      "metadata": {
        "id": "3e0ceb38",
        "outputId": "67d4ea45-50ed-44b0-9a95-8a17b241035a"
      },
      "outputs": [
        {
          "name": "stdout",
          "output_type": "stream",
          "text": [
            "[ 0  1  2  3  4  5  6  7  8  9 10 11]\n"
          ]
        }
      ],
      "source": [
        "print(x.ravel(order='C'))"
      ]
    },
    {
      "cell_type": "code",
      "execution_count": null,
      "id": "dbb0b438",
      "metadata": {
        "id": "dbb0b438",
        "outputId": "c5e92e69-a246-479a-ff42-284a7adcc3b1"
      },
      "outputs": [
        {
          "name": "stdout",
          "output_type": "stream",
          "text": [
            "[ 0  6  3  9  1  7  4 10  2  8  5 11]\n"
          ]
        }
      ],
      "source": [
        "print(x.ravel(order='F'))"
      ]
    },
    {
      "cell_type": "code",
      "execution_count": null,
      "id": "2068e35f",
      "metadata": {
        "id": "2068e35f"
      },
      "outputs": [],
      "source": [
        "np.ravel?"
      ]
    },
    {
      "cell_type": "code",
      "execution_count": null,
      "id": "eefd96f5",
      "metadata": {
        "scrolled": true,
        "id": "eefd96f5",
        "outputId": "ff2a049b-f10c-4cd1-e2e8-af13b5ead852"
      },
      "outputs": [
        {
          "name": "stdout",
          "output_type": "stream",
          "text": [
            "[[0 1 2 3 4]\n",
            " [5 6 7 8 9]]\n",
            "[[10 11 12 13 14]\n",
            " [15 16 17 18 19]]\n"
          ]
        }
      ],
      "source": [
        "x = np.arange(10).reshape(2, 5)\n",
        "y = np.arange(10, 20).reshape(2, 5)\n",
        "print(x)\n",
        "print(y)\n"
      ]
    },
    {
      "cell_type": "code",
      "execution_count": null,
      "id": "2e40955f",
      "metadata": {
        "scrolled": true,
        "id": "2e40955f",
        "outputId": "0d406f27-5fd8-48d5-b50e-031b14042f78"
      },
      "outputs": [
        {
          "name": "stdout",
          "output_type": "stream",
          "text": [
            "[1 2 3]\n",
            "[4 5 6]\n",
            "[ 8  9 10]\n"
          ]
        }
      ],
      "source": [
        "x = np.arange(1, 4)\n",
        "y = np.arange(4, 7)\n",
        "z = np.arange(8, 11)\n",
        "print(x)\n",
        "print(y)\n",
        "print(z)"
      ]
    },
    {
      "cell_type": "code",
      "execution_count": null,
      "id": "064c66c4",
      "metadata": {
        "id": "064c66c4",
        "outputId": "edc3928b-4cc1-4158-fba2-3dc82b045bed"
      },
      "outputs": [
        {
          "data": {
            "text/plain": [
              "(3,)"
            ]
          },
          "execution_count": 143,
          "metadata": {},
          "output_type": "execute_result"
        }
      ],
      "source": [
        "x.shape"
      ]
    },
    {
      "cell_type": "code",
      "execution_count": null,
      "id": "ae0f340c",
      "metadata": {
        "id": "ae0f340c"
      },
      "outputs": [],
      "source": [
        "np.concatenate?"
      ]
    },
    {
      "cell_type": "code",
      "execution_count": null,
      "id": "d8151b2d",
      "metadata": {
        "id": "d8151b2d",
        "outputId": "2ef819a4-bcc9-4829-f5f6-5a568a260b80"
      },
      "outputs": [
        {
          "ename": "AxisError",
          "evalue": "axis 1 is out of bounds for array of dimension 1",
          "output_type": "error",
          "traceback": [
            "\u001b[1;31m---------------------------------------------------------------------------\u001b[0m",
            "\u001b[1;31mAxisError\u001b[0m                                 Traceback (most recent call last)",
            "\u001b[1;32m~\\AppData\\Local\\Temp/ipykernel_4908/3659697765.py\u001b[0m in \u001b[0;36m<module>\u001b[1;34m\u001b[0m\n\u001b[1;32m----> 1\u001b[1;33m \u001b[0mnp\u001b[0m\u001b[1;33m.\u001b[0m\u001b[0mconcatenate\u001b[0m\u001b[1;33m(\u001b[0m\u001b[1;33m[\u001b[0m\u001b[0mx\u001b[0m\u001b[1;33m,\u001b[0m \u001b[0my\u001b[0m\u001b[1;33m]\u001b[0m\u001b[1;33m,\u001b[0m  \u001b[0maxis\u001b[0m\u001b[1;33m=\u001b[0m\u001b[1;36m1\u001b[0m\u001b[1;33m)\u001b[0m\u001b[1;33m\u001b[0m\u001b[1;33m\u001b[0m\u001b[0m\n\u001b[0m",
            "\u001b[1;32m<__array_function__ internals>\u001b[0m in \u001b[0;36mconcatenate\u001b[1;34m(*args, **kwargs)\u001b[0m\n",
            "\u001b[1;31mAxisError\u001b[0m: axis 1 is out of bounds for array of dimension 1"
          ]
        }
      ],
      "source": [
        "np.concatenate([x, y],  axis=1)"
      ]
    },
    {
      "cell_type": "code",
      "execution_count": null,
      "id": "8a590c16",
      "metadata": {
        "id": "8a590c16",
        "outputId": "ccd3d21f-ba59-4c73-b4a7-75afb64b434a"
      },
      "outputs": [
        {
          "data": {
            "text/plain": [
              "array([ 1,  2,  3,  4,  5,  6,  8,  9, 10])"
            ]
          },
          "execution_count": 132,
          "metadata": {},
          "output_type": "execute_result"
        }
      ],
      "source": [
        "np.concatenate([x, y, z])"
      ]
    },
    {
      "cell_type": "code",
      "execution_count": null,
      "id": "50135f91",
      "metadata": {
        "id": "50135f91",
        "outputId": "2e587a2f-bac0-4660-f0c7-4cab7cec48c6"
      },
      "outputs": [
        {
          "ename": "AxisError",
          "evalue": "axis 1 is out of bounds for array of dimension 1",
          "output_type": "error",
          "traceback": [
            "\u001b[1;31m---------------------------------------------------------------------------\u001b[0m",
            "\u001b[1;31mAxisError\u001b[0m                                 Traceback (most recent call last)",
            "\u001b[1;32m~\\AppData\\Local\\Temp/ipykernel_4908/2803430815.py\u001b[0m in \u001b[0;36m<module>\u001b[1;34m\u001b[0m\n\u001b[1;32m----> 1\u001b[1;33m \u001b[0mnp\u001b[0m\u001b[1;33m.\u001b[0m\u001b[0mconcatenate\u001b[0m\u001b[1;33m(\u001b[0m\u001b[1;33m[\u001b[0m\u001b[0mx\u001b[0m\u001b[1;33m,\u001b[0m \u001b[0my\u001b[0m\u001b[1;33m,\u001b[0m \u001b[0mz\u001b[0m\u001b[1;33m]\u001b[0m\u001b[1;33m,\u001b[0m \u001b[0maxis\u001b[0m\u001b[1;33m=\u001b[0m\u001b[1;36m1\u001b[0m\u001b[1;33m)\u001b[0m\u001b[1;33m\u001b[0m\u001b[1;33m\u001b[0m\u001b[0m\n\u001b[0m",
            "\u001b[1;32m<__array_function__ internals>\u001b[0m in \u001b[0;36mconcatenate\u001b[1;34m(*args, **kwargs)\u001b[0m\n",
            "\u001b[1;31mAxisError\u001b[0m: axis 1 is out of bounds for array of dimension 1"
          ]
        }
      ],
      "source": [
        "np.concatenate([x, y, z], axis=1)"
      ]
    },
    {
      "cell_type": "code",
      "execution_count": null,
      "id": "438b4df4",
      "metadata": {
        "id": "438b4df4"
      },
      "outputs": [],
      "source": [
        "x = np.arange(10).reshape(2, 5)\n",
        "y = np.arange(10, 20).reshape(2, 5)\n"
      ]
    },
    {
      "cell_type": "code",
      "execution_count": null,
      "id": "ccfd03f8",
      "metadata": {
        "id": "ccfd03f8",
        "outputId": "83bd6ab3-cd11-4897-ae53-bc4d53890e83"
      },
      "outputs": [
        {
          "name": "stdout",
          "output_type": "stream",
          "text": [
            "[[0 1 2 3 4]\n",
            " [5 6 7 8 9]]\n",
            "[[10 11 12 13 14]\n",
            " [15 16 17 18 19]]\n"
          ]
        }
      ],
      "source": [
        "print(x)\n",
        "print(y)"
      ]
    },
    {
      "cell_type": "code",
      "execution_count": null,
      "id": "e9189535",
      "metadata": {
        "id": "e9189535",
        "outputId": "48d6743a-c351-45d7-a756-e0df9ed2a777"
      },
      "outputs": [
        {
          "name": "stdout",
          "output_type": "stream",
          "text": [
            "(2, 5)\n",
            "(2, 5)\n"
          ]
        }
      ],
      "source": [
        "print(x.shape)\n",
        "print(y.shape)"
      ]
    },
    {
      "cell_type": "code",
      "execution_count": null,
      "id": "434bc192",
      "metadata": {
        "id": "434bc192",
        "outputId": "96e9a392-1443-4dfd-c935-436d084daf5f"
      },
      "outputs": [
        {
          "data": {
            "text/plain": [
              "array([[ 0,  1,  2,  3,  4],\n",
              "       [ 5,  6,  7,  8,  9],\n",
              "       [10, 11, 12, 13, 14],\n",
              "       [15, 16, 17, 18, 19]])"
            ]
          },
          "execution_count": 150,
          "metadata": {},
          "output_type": "execute_result"
        }
      ],
      "source": [
        "z = np.concatenate([x, y])\n",
        "z"
      ]
    },
    {
      "cell_type": "code",
      "execution_count": null,
      "id": "b180f966",
      "metadata": {
        "id": "b180f966",
        "outputId": "b0415283-3a9f-4b23-a94c-8dbb0a528ba1"
      },
      "outputs": [
        {
          "data": {
            "text/plain": [
              "(4, 5)"
            ]
          },
          "execution_count": 151,
          "metadata": {},
          "output_type": "execute_result"
        }
      ],
      "source": [
        "z.shape"
      ]
    },
    {
      "cell_type": "code",
      "execution_count": null,
      "id": "709db076",
      "metadata": {
        "id": "709db076",
        "outputId": "3eea1b63-2581-4cc7-9d5f-cd4138148e94"
      },
      "outputs": [
        {
          "name": "stdout",
          "output_type": "stream",
          "text": [
            "(2, 10)\n"
          ]
        },
        {
          "data": {
            "text/plain": [
              "array([[ 0,  1,  2,  3,  4, 10, 11, 12, 13, 14],\n",
              "       [ 5,  6,  7,  8,  9, 15, 16, 17, 18, 19]])"
            ]
          },
          "execution_count": 152,
          "metadata": {},
          "output_type": "execute_result"
        }
      ],
      "source": [
        "z = np.concatenate([x, y], axis=1)\n",
        "print(z.shape)\n",
        "z"
      ]
    },
    {
      "cell_type": "code",
      "execution_count": null,
      "id": "0fdd53e1",
      "metadata": {
        "id": "0fdd53e1",
        "outputId": "ef57e63a-5f43-4026-d581-ec3236281ff6"
      },
      "outputs": [
        {
          "name": "stdout",
          "output_type": "stream",
          "text": [
            "[[0 1 2]\n",
            " [3 4 5]]\n",
            "[[ 7  8  9]\n",
            " [10 11 12]]\n",
            "----\n"
          ]
        }
      ],
      "source": [
        "x = np.arange(6).reshape(2,3)\n",
        "y = np.arange(7,13).reshape(2,3)\n",
        "print(x)\n",
        "print(y)\n",
        "print('----')\n"
      ]
    },
    {
      "cell_type": "code",
      "execution_count": null,
      "id": "7f685ff5",
      "metadata": {
        "id": "7f685ff5",
        "outputId": "95756e2c-0813-4ec0-8f0d-1a1dd9b5c8f7"
      },
      "outputs": [
        {
          "name": "stdout",
          "output_type": "stream",
          "text": [
            "[[ 0  1  2]\n",
            " [ 3  4  5]\n",
            " [ 7  8  9]\n",
            " [10 11 12]]\n"
          ]
        }
      ],
      "source": [
        "print(np.concatenate([x,y]))\n"
      ]
    },
    {
      "cell_type": "code",
      "execution_count": null,
      "id": "974c8ea4",
      "metadata": {
        "id": "974c8ea4",
        "outputId": "a14b23ac-ceea-48ab-b987-cafc939884f5"
      },
      "outputs": [
        {
          "name": "stdout",
          "output_type": "stream",
          "text": [
            "[[ 0  1  2  7  8  9]\n",
            " [ 3  4  5 10 11 12]]\n"
          ]
        }
      ],
      "source": [
        "print(np.concatenate([x,y], axis=1))"
      ]
    },
    {
      "cell_type": "code",
      "execution_count": null,
      "id": "fe222943",
      "metadata": {
        "id": "fe222943"
      },
      "outputs": [],
      "source": [
        "np.split?\n"
      ]
    },
    {
      "cell_type": "code",
      "execution_count": null,
      "id": "1f884632",
      "metadata": {
        "id": "1f884632"
      },
      "outputs": [],
      "source": [
        "x= np.arange(12)"
      ]
    },
    {
      "cell_type": "code",
      "execution_count": null,
      "id": "51b4cd02",
      "metadata": {
        "id": "51b4cd02",
        "outputId": "d98e5166-957a-4b69-b41a-ece285ec6c8a"
      },
      "outputs": [
        {
          "data": {
            "text/plain": [
              "array([ 0,  1,  2,  3,  4,  5,  6,  7,  8,  9, 10, 11])"
            ]
          },
          "execution_count": 158,
          "metadata": {},
          "output_type": "execute_result"
        }
      ],
      "source": [
        "x"
      ]
    },
    {
      "cell_type": "code",
      "execution_count": null,
      "id": "c7bd4346",
      "metadata": {
        "id": "c7bd4346",
        "outputId": "070ea6a5-7c41-4d7a-9e4d-5e313f4d32fa"
      },
      "outputs": [
        {
          "data": {
            "text/plain": [
              "[array([0, 1, 2]), array([3, 4, 5]), array([6, 7, 8]), array([ 9, 10, 11])]"
            ]
          },
          "execution_count": 159,
          "metadata": {},
          "output_type": "execute_result"
        }
      ],
      "source": [
        "np.split(x4, )"
      ]
    },
    {
      "cell_type": "code",
      "execution_count": null,
      "id": "908904ed",
      "metadata": {
        "id": "908904ed",
        "outputId": "ad85d937-1f1c-46af-f8cb-6f371f5b8603"
      },
      "outputs": [
        {
          "ename": "ValueError",
          "evalue": "array split does not result in an equal division",
          "output_type": "error",
          "traceback": [
            "\u001b[1;31m---------------------------------------------------------------------------\u001b[0m",
            "\u001b[1;31mValueError\u001b[0m                                Traceback (most recent call last)",
            "\u001b[1;32m~\\AppData\\Local\\Temp/ipykernel_4908/1333455919.py\u001b[0m in \u001b[0;36m<module>\u001b[1;34m\u001b[0m\n\u001b[1;32m----> 1\u001b[1;33m \u001b[0mnp\u001b[0m\u001b[1;33m.\u001b[0m\u001b[0msplit\u001b[0m\u001b[1;33m(\u001b[0m\u001b[0mx\u001b[0m\u001b[1;33m,\u001b[0m \u001b[1;36m5\u001b[0m\u001b[1;33m)\u001b[0m\u001b[1;33m\u001b[0m\u001b[1;33m\u001b[0m\u001b[0m\n\u001b[0m",
            "\u001b[1;32m<__array_function__ internals>\u001b[0m in \u001b[0;36msplit\u001b[1;34m(*args, **kwargs)\u001b[0m\n",
            "\u001b[1;32m~\\anaconda3\\lib\\site-packages\\numpy\\lib\\shape_base.py\u001b[0m in \u001b[0;36msplit\u001b[1;34m(ary, indices_or_sections, axis)\u001b[0m\n\u001b[0;32m    870\u001b[0m         \u001b[0mN\u001b[0m \u001b[1;33m=\u001b[0m \u001b[0mary\u001b[0m\u001b[1;33m.\u001b[0m\u001b[0mshape\u001b[0m\u001b[1;33m[\u001b[0m\u001b[0maxis\u001b[0m\u001b[1;33m]\u001b[0m\u001b[1;33m\u001b[0m\u001b[1;33m\u001b[0m\u001b[0m\n\u001b[0;32m    871\u001b[0m         \u001b[1;32mif\u001b[0m \u001b[0mN\u001b[0m \u001b[1;33m%\u001b[0m \u001b[0msections\u001b[0m\u001b[1;33m:\u001b[0m\u001b[1;33m\u001b[0m\u001b[1;33m\u001b[0m\u001b[0m\n\u001b[1;32m--> 872\u001b[1;33m             raise ValueError(\n\u001b[0m\u001b[0;32m    873\u001b[0m                 'array split does not result in an equal division') from None\n\u001b[0;32m    874\u001b[0m     \u001b[1;32mreturn\u001b[0m \u001b[0marray_split\u001b[0m\u001b[1;33m(\u001b[0m\u001b[0mary\u001b[0m\u001b[1;33m,\u001b[0m \u001b[0mindices_or_sections\u001b[0m\u001b[1;33m,\u001b[0m \u001b[0maxis\u001b[0m\u001b[1;33m)\u001b[0m\u001b[1;33m\u001b[0m\u001b[1;33m\u001b[0m\u001b[0m\n",
            "\u001b[1;31mValueError\u001b[0m: array split does not result in an equal division"
          ]
        }
      ],
      "source": [
        "np.split(x, 5)"
      ]
    },
    {
      "cell_type": "code",
      "execution_count": null,
      "id": "44de36c8",
      "metadata": {
        "id": "44de36c8",
        "outputId": "631646f0-9f78-49d3-f825-a911b55854d7"
      },
      "outputs": [
        {
          "data": {
            "text/plain": [
              "array([[ 0,  1,  2,  3],\n",
              "       [ 4,  5,  6,  7],\n",
              "       [ 8,  9, 10, 11]])"
            ]
          },
          "execution_count": 161,
          "metadata": {},
          "output_type": "execute_result"
        }
      ],
      "source": [
        "x = np.arange(12).reshape(3, 4)\n",
        "x"
      ]
    },
    {
      "cell_type": "code",
      "execution_count": null,
      "id": "ec606e75",
      "metadata": {
        "id": "ec606e75",
        "outputId": "fb9f8a89-b803-4251-e0b8-bb92250446f4"
      },
      "outputs": [
        {
          "ename": "ValueError",
          "evalue": "array split does not result in an equal division",
          "output_type": "error",
          "traceback": [
            "\u001b[1;31m---------------------------------------------------------------------------\u001b[0m",
            "\u001b[1;31mValueError\u001b[0m                                Traceback (most recent call last)",
            "\u001b[1;32m~\\AppData\\Local\\Temp/ipykernel_4908/1108697486.py\u001b[0m in \u001b[0;36m<module>\u001b[1;34m\u001b[0m\n\u001b[1;32m----> 1\u001b[1;33m \u001b[0mnp\u001b[0m\u001b[1;33m.\u001b[0m\u001b[0msplit\u001b[0m\u001b[1;33m(\u001b[0m\u001b[0mx\u001b[0m\u001b[1;33m,\u001b[0m \u001b[1;36m2\u001b[0m\u001b[1;33m)\u001b[0m\u001b[1;33m\u001b[0m\u001b[1;33m\u001b[0m\u001b[0m\n\u001b[0m",
            "\u001b[1;32m<__array_function__ internals>\u001b[0m in \u001b[0;36msplit\u001b[1;34m(*args, **kwargs)\u001b[0m\n",
            "\u001b[1;32m~\\anaconda3\\lib\\site-packages\\numpy\\lib\\shape_base.py\u001b[0m in \u001b[0;36msplit\u001b[1;34m(ary, indices_or_sections, axis)\u001b[0m\n\u001b[0;32m    870\u001b[0m         \u001b[0mN\u001b[0m \u001b[1;33m=\u001b[0m \u001b[0mary\u001b[0m\u001b[1;33m.\u001b[0m\u001b[0mshape\u001b[0m\u001b[1;33m[\u001b[0m\u001b[0maxis\u001b[0m\u001b[1;33m]\u001b[0m\u001b[1;33m\u001b[0m\u001b[1;33m\u001b[0m\u001b[0m\n\u001b[0;32m    871\u001b[0m         \u001b[1;32mif\u001b[0m \u001b[0mN\u001b[0m \u001b[1;33m%\u001b[0m \u001b[0msections\u001b[0m\u001b[1;33m:\u001b[0m\u001b[1;33m\u001b[0m\u001b[1;33m\u001b[0m\u001b[0m\n\u001b[1;32m--> 872\u001b[1;33m             raise ValueError(\n\u001b[0m\u001b[0;32m    873\u001b[0m                 'array split does not result in an equal division') from None\n\u001b[0;32m    874\u001b[0m     \u001b[1;32mreturn\u001b[0m \u001b[0marray_split\u001b[0m\u001b[1;33m(\u001b[0m\u001b[0mary\u001b[0m\u001b[1;33m,\u001b[0m \u001b[0mindices_or_sections\u001b[0m\u001b[1;33m,\u001b[0m \u001b[0maxis\u001b[0m\u001b[1;33m)\u001b[0m\u001b[1;33m\u001b[0m\u001b[1;33m\u001b[0m\u001b[0m\n",
            "\u001b[1;31mValueError\u001b[0m: array split does not result in an equal division"
          ]
        }
      ],
      "source": [
        "np.split(x, 2)"
      ]
    },
    {
      "cell_type": "code",
      "execution_count": null,
      "id": "0cc41981",
      "metadata": {
        "scrolled": true,
        "id": "0cc41981",
        "outputId": "6453dc3d-85eb-4b4c-962d-d0f2312c2f6f"
      },
      "outputs": [
        {
          "data": {
            "text/plain": [
              "[array([[0, 1],\n",
              "        [4, 5],\n",
              "        [8, 9]]),\n",
              " array([[ 2,  3],\n",
              "        [ 6,  7],\n",
              "        [10, 11]])]"
            ]
          },
          "execution_count": 163,
          "metadata": {},
          "output_type": "execute_result"
        }
      ],
      "source": [
        "np.split(x, 2, axis=1)"
      ]
    },
    {
      "cell_type": "code",
      "execution_count": null,
      "id": "a6740cdd",
      "metadata": {
        "id": "a6740cdd",
        "outputId": "e8eaedfd-3492-4631-ec0b-f90ec99ecec6"
      },
      "outputs": [
        {
          "data": {
            "text/plain": [
              "array([[ 0,  1,  2],\n",
              "       [ 3,  4,  5],\n",
              "       [ 6,  7,  8],\n",
              "       [ 9, 10, 11]])"
            ]
          },
          "execution_count": 164,
          "metadata": {},
          "output_type": "execute_result"
        }
      ],
      "source": [
        "x = np.arange(12).reshape(4, -1)\n",
        "x"
      ]
    },
    {
      "cell_type": "code",
      "execution_count": null,
      "id": "d325ce91",
      "metadata": {
        "id": "d325ce91",
        "outputId": "4b7c1336-d7a2-49b6-de04-8410077122de"
      },
      "outputs": [
        {
          "data": {
            "text/plain": [
              "[array([[0, 1, 2],\n",
              "        [3, 4, 5]]),\n",
              " array([[ 6,  7,  8],\n",
              "        [ 9, 10, 11]])]"
            ]
          },
          "execution_count": 165,
          "metadata": {},
          "output_type": "execute_result"
        }
      ],
      "source": [
        "np.split(x, 2)"
      ]
    },
    {
      "cell_type": "code",
      "execution_count": null,
      "id": "c1c6ec89",
      "metadata": {
        "id": "c1c6ec89"
      },
      "outputs": [],
      "source": [
        ""
      ]
    }
  ],
  "metadata": {
    "kernelspec": {
      "display_name": "Python 3 (ipykernel)",
      "language": "python",
      "name": "python3"
    },
    "language_info": {
      "codemirror_mode": {
        "name": "ipython",
        "version": 3
      },
      "file_extension": ".py",
      "mimetype": "text/x-python",
      "name": "python",
      "nbconvert_exporter": "python",
      "pygments_lexer": "ipython3",
      "version": "3.9.7"
    },
    "colab": {
      "name": "1220_practice.ipynb",
      "provenance": [],
      "include_colab_link": true
    }
  },
  "nbformat": 4,
  "nbformat_minor": 5
}