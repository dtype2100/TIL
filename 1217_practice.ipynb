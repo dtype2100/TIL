{
  "cells": [
    {
      "cell_type": "markdown",
      "metadata": {
        "id": "view-in-github",
        "colab_type": "text"
      },
      "source": [
        "<a href=\"https://colab.research.google.com/github/dtype2100/TIL/blob/master/1217_practice.ipynb\" target=\"_parent\"><img src=\"https://colab.research.google.com/assets/colab-badge.svg\" alt=\"Open In Colab\"/></a>"
      ]
    },
    {
      "cell_type": "code",
      "execution_count": null,
      "id": "2070aa99",
      "metadata": {
        "id": "2070aa99"
      },
      "outputs": [],
      "source": [
        "def make_url(a):\n",
        "    url =  \"www.\"+ a + \".com\"\n",
        "    return url"
      ]
    },
    {
      "cell_type": "code",
      "execution_count": null,
      "id": "b0612ec2",
      "metadata": {
        "id": "b0612ec2",
        "outputId": "ada570d6-3d42-4516-9046-5d03c6402b5f"
      },
      "outputs": [
        {
          "name": "stdout",
          "output_type": "stream",
          "text": [
            "www.naver.com\n"
          ]
        }
      ],
      "source": [
        "print(make_url(\"naver\"))"
      ]
    },
    {
      "cell_type": "code",
      "execution_count": null,
      "id": "fec94ac1",
      "metadata": {
        "id": "fec94ac1"
      },
      "outputs": [],
      "source": [
        "my_dict = {\"10/26\" : [100, 130, 100, 100],\n",
        "           \"10/27\" : [10, 12, 10, 11]}"
      ]
    },
    {
      "cell_type": "code",
      "execution_count": null,
      "id": "f4ab355c",
      "metadata": {
        "id": "f4ab355c"
      },
      "outputs": [],
      "source": [
        "def print_value_by_key(user_dict, key):\n",
        "    print(user_dict[key])"
      ]
    },
    {
      "cell_type": "code",
      "execution_count": null,
      "id": "7f7b7809",
      "metadata": {
        "id": "7f7b7809",
        "outputId": "f8b4e4fc-6cd2-454c-da75-0b7419169eae"
      },
      "outputs": [
        {
          "name": "stdout",
          "output_type": "stream",
          "text": [
            "100\n"
          ]
        }
      ],
      "source": [
        "print_value_by_key  (my_dict, \"10/26\")\n"
      ]
    },
    {
      "cell_type": "code",
      "execution_count": null,
      "id": "96d6f1e8",
      "metadata": {
        "id": "96d6f1e8",
        "outputId": "84956ea2-d248-470a-c6a6-25cef296b605"
      },
      "outputs": [
        {
          "ename": "TypeError",
          "evalue": "write() argument must be str, not dict",
          "output_type": "error",
          "traceback": [
            "\u001b[1;31m---------------------------------------------------------------------------\u001b[0m",
            "\u001b[1;31mTypeError\u001b[0m                                 Traceback (most recent call last)",
            "\u001b[1;32m~\\AppData\\Local\\Temp/ipykernel_10584/2311845701.py\u001b[0m in \u001b[0;36m<module>\u001b[1;34m\u001b[0m\n\u001b[0;32m      1\u001b[0m \u001b[1;32mwith\u001b[0m \u001b[0mopen\u001b[0m\u001b[1;33m(\u001b[0m\u001b[1;34m\"file.txt\"\u001b[0m\u001b[1;33m,\u001b[0m \u001b[1;34m\"w\"\u001b[0m\u001b[1;33m)\u001b[0m \u001b[1;32mas\u001b[0m \u001b[0mfile\u001b[0m\u001b[1;33m:\u001b[0m\u001b[1;33m\u001b[0m\u001b[1;33m\u001b[0m\u001b[0m\n\u001b[1;32m----> 2\u001b[1;33m     \u001b[0mfile\u001b[0m\u001b[1;33m.\u001b[0m\u001b[0mwrite\u001b[0m\u001b[1;33m(\u001b[0m\u001b[0mmy_dict\u001b[0m\u001b[1;33m)\u001b[0m\u001b[1;33m\u001b[0m\u001b[1;33m\u001b[0m\u001b[0m\n\u001b[0m",
            "\u001b[1;31mTypeError\u001b[0m: write() argument must be str, not dict"
          ]
        }
      ],
      "source": [
        "with open(\"file.txt\", \"w\") as file:\n",
        "    file.write(my_dict)\n"
      ]
    },
    {
      "cell_type": "code",
      "execution_count": null,
      "id": "f68c1003",
      "metadata": {
        "id": "f68c1003",
        "outputId": "9c4c131b-b089-46b0-80d7-da9c5fae99ba"
      },
      "outputs": [
        {
          "data": {
            "text/plain": [
              "\"{'10/26': [100, 130, 100, 100], '10/27': [10, 12, 10, 11]}\""
            ]
          },
          "execution_count": 17,
          "metadata": {},
          "output_type": "execute_result"
        }
      ],
      "source": [
        "my_dict = str(my_dict)\n",
        "my_dict"
      ]
    },
    {
      "cell_type": "code",
      "execution_count": null,
      "id": "4557bcf7",
      "metadata": {
        "id": "4557bcf7",
        "outputId": "9f1269c5-8b4e-4df4-e62a-fe46face8b9d"
      },
      "outputs": [
        {
          "ename": "TypeError",
          "evalue": "string indices must be integers",
          "output_type": "error",
          "traceback": [
            "\u001b[1;31m---------------------------------------------------------------------------\u001b[0m",
            "\u001b[1;31mTypeError\u001b[0m                                 Traceback (most recent call last)",
            "\u001b[1;32m~\\AppData\\Local\\Temp/ipykernel_10584/2456393481.py\u001b[0m in \u001b[0;36m<module>\u001b[1;34m\u001b[0m\n\u001b[1;32m----> 1\u001b[1;33m \u001b[0mmy_dict\u001b[0m\u001b[1;33m[\u001b[0m\u001b[1;34m'10/26'\u001b[0m\u001b[1;33m]\u001b[0m\u001b[1;33m\u001b[0m\u001b[1;33m\u001b[0m\u001b[0m\n\u001b[0m",
            "\u001b[1;31mTypeError\u001b[0m: string indices must be integers"
          ]
        }
      ],
      "source": [
        "my_dict['10/26']"
      ]
    },
    {
      "cell_type": "code",
      "execution_count": null,
      "id": "cbdf4589",
      "metadata": {
        "id": "cbdf4589"
      },
      "outputs": [],
      "source": [
        "my_dict = {\"10/26\" : [100, 130, 100, 100],\n",
        "           \"10/27\" : [10, 12, 10, 11]}"
      ]
    },
    {
      "cell_type": "code",
      "execution_count": null,
      "id": "033a2329",
      "metadata": {
        "id": "033a2329"
      },
      "outputs": [],
      "source": [
        "import pickle\n",
        "\n",
        "with open(\"my_dict.pkl\", \"wb\") as file:\n",
        "    pickle.dump(my_dict, file)"
      ]
    },
    {
      "cell_type": "code",
      "execution_count": null,
      "id": "99a54ec5",
      "metadata": {
        "id": "99a54ec5",
        "outputId": "05444a89-3717-4c66-bf19-2e05c8b8b539"
      },
      "outputs": [
        {
          "ename": "NameError",
          "evalue": "name 'my_dict' is not defined",
          "output_type": "error",
          "traceback": [
            "\u001b[1;31m---------------------------------------------------------------------------\u001b[0m",
            "\u001b[1;31mNameError\u001b[0m                                 Traceback (most recent call last)",
            "\u001b[1;32m~\\AppData\\Local\\Temp/ipykernel_6776/2456393481.py\u001b[0m in \u001b[0;36m<module>\u001b[1;34m\u001b[0m\n\u001b[1;32m----> 1\u001b[1;33m \u001b[0mmy_dict\u001b[0m\u001b[1;33m[\u001b[0m\u001b[1;34m'10/26'\u001b[0m\u001b[1;33m]\u001b[0m\u001b[1;33m\u001b[0m\u001b[1;33m\u001b[0m\u001b[0m\n\u001b[0m",
            "\u001b[1;31mNameError\u001b[0m: name 'my_dict' is not defined"
          ]
        }
      ],
      "source": [
        "my_dict['10/26']"
      ]
    },
    {
      "cell_type": "code",
      "execution_count": null,
      "id": "b7b82566",
      "metadata": {
        "id": "b7b82566"
      },
      "outputs": [],
      "source": [
        "import pickle\n",
        "\n",
        "with open(\"my_dict.pkl\", \"rb\") as file:\n",
        "    ohlc_info = pickle.load(file)"
      ]
    },
    {
      "cell_type": "code",
      "execution_count": null,
      "id": "9efc9e60",
      "metadata": {
        "id": "9efc9e60",
        "outputId": "85027724-1118-432f-a406-fb5048935210"
      },
      "outputs": [
        {
          "data": {
            "text/plain": [
              "{'10/26': [100, 130, 100, 100], '10/27': [10, 12, 10, 11]}"
            ]
          },
          "execution_count": 3,
          "metadata": {},
          "output_type": "execute_result"
        }
      ],
      "source": [
        "ohlc_info"
      ]
    },
    {
      "cell_type": "code",
      "execution_count": null,
      "id": "f5fd84f1",
      "metadata": {
        "id": "f5fd84f1"
      },
      "outputs": [],
      "source": [
        "class Dog:\n",
        "    def __init__(self, name, color):\n",
        "        self.hungry = 0\n",
        "        self.name = name\n",
        "        self.color = color\n",
        "        \n",
        "    def eat(self):\n",
        "        self.hungry -= 10\n",
        "        print(\"밥먹음\", self.hungry)\n",
        "        \n",
        "    def walk(self):\n",
        "        self.hungry += 10\n",
        "        print(\"산책\", self.hungry)"
      ]
    },
    {
      "cell_type": "code",
      "execution_count": null,
      "id": "e6504765",
      "metadata": {
        "id": "e6504765"
      },
      "outputs": [],
      "source": [
        "choco = Dog(\"초코\", \"Black\")\n",
        "jjong = Dog(\"쫑\", \"White\")"
      ]
    },
    {
      "cell_type": "code",
      "execution_count": null,
      "id": "46d0dd5b",
      "metadata": {
        "id": "46d0dd5b",
        "outputId": "3a6d0cbe-b0b7-45a6-c663-63fb46855372"
      },
      "outputs": [
        {
          "name": "stdout",
          "output_type": "stream",
          "text": [
            "밥먹음 -10\n",
            "밥먹음 -20\n",
            "산책 -10\n"
          ]
        }
      ],
      "source": [
        "choco.eat()\n",
        "choco.eat()\n",
        "choco.walk()"
      ]
    },
    {
      "cell_type": "code",
      "execution_count": null,
      "id": "014e94a4",
      "metadata": {
        "id": "014e94a4",
        "outputId": "2a2e6a2b-5859-4ba5-e89e-ce746d0128ac"
      },
      "outputs": [
        {
          "name": "stdout",
          "output_type": "stream",
          "text": [
            "-10\n"
          ]
        }
      ],
      "source": [
        "print(choco.hungry)"
      ]
    },
    {
      "cell_type": "code",
      "execution_count": null,
      "id": "11efbe90",
      "metadata": {
        "id": "11efbe90",
        "outputId": "8e550855-6d3f-4165-e275-e2f32be99e16"
      },
      "outputs": [
        {
          "data": {
            "text/plain": [
              "0"
            ]
          },
          "execution_count": 18,
          "metadata": {},
          "output_type": "execute_result"
        }
      ],
      "source": [
        "jjong.hungry"
      ]
    },
    {
      "cell_type": "code",
      "execution_count": null,
      "id": "7f5a8ab8",
      "metadata": {
        "id": "7f5a8ab8",
        "outputId": "3316fc2c-60ce-4ed9-dd4e-de9ec2e78e81"
      },
      "outputs": [
        {
          "name": "stdout",
          "output_type": "stream",
          "text": [
            "10\n"
          ]
        }
      ],
      "source": [
        "jjong.hungry += 10\n",
        "print(jjong.hungry)"
      ]
    },
    {
      "cell_type": "code",
      "execution_count": null,
      "id": "048641f0",
      "metadata": {
        "id": "048641f0"
      },
      "outputs": [],
      "source": [
        "class Dog2:\n",
        "    def __init__(self, name, color):\n",
        "        self.__hungry = 0\n",
        "        self.name = name\n",
        "        self.color = color\n",
        "        \n",
        "    def eat(self):\n",
        "        \n",
        "        self.__hungry -= 10\n",
        "        print(\"밥먹음\", self.__hungry)\n",
        "        \n",
        "    def walk(self):\n",
        "        self.__hungry += 10\n",
        "        print(\"산책\", self.__hungry)"
      ]
    },
    {
      "cell_type": "code",
      "execution_count": null,
      "id": "62b929a4",
      "metadata": {
        "id": "62b929a4"
      },
      "outputs": [],
      "source": [
        "mery = Dog2(\"mery\", \"black\")"
      ]
    },
    {
      "cell_type": "code",
      "execution_count": null,
      "id": "bc698a97",
      "metadata": {
        "id": "bc698a97",
        "outputId": "4ed36ec0-0e6d-4a3a-9678-bed53637d442"
      },
      "outputs": [
        {
          "name": "stdout",
          "output_type": "stream",
          "text": [
            "산책 10\n"
          ]
        }
      ],
      "source": [
        "mery.walk()"
      ]
    },
    {
      "cell_type": "code",
      "execution_count": null,
      "id": "569712fc",
      "metadata": {
        "id": "569712fc",
        "outputId": "a2bd6290-43a1-4af5-ec63-b1f9497f8534"
      },
      "outputs": [
        {
          "ename": "AttributeError",
          "evalue": "'Dog2' object has no attribute '__hungry'",
          "output_type": "error",
          "traceback": [
            "\u001b[1;31m---------------------------------------------------------------------------\u001b[0m",
            "\u001b[1;31mAttributeError\u001b[0m                            Traceback (most recent call last)",
            "\u001b[1;32m~\\AppData\\Local\\Temp/ipykernel_6776/3813614655.py\u001b[0m in \u001b[0;36m<module>\u001b[1;34m\u001b[0m\n\u001b[1;32m----> 1\u001b[1;33m \u001b[0mmery\u001b[0m\u001b[1;33m.\u001b[0m\u001b[0m__hungry\u001b[0m\u001b[1;33m\u001b[0m\u001b[1;33m\u001b[0m\u001b[0m\n\u001b[0m",
            "\u001b[1;31mAttributeError\u001b[0m: 'Dog2' object has no attribute '__hungry'"
          ]
        }
      ],
      "source": [
        "mery.__hungry"
      ]
    },
    {
      "cell_type": "code",
      "execution_count": null,
      "id": "caeed70e",
      "metadata": {
        "id": "caeed70e"
      },
      "outputs": [],
      "source": [
        "class Dog:\n",
        "    dog_count = 0\n",
        "    \n",
        "    def __init__(self, name, color):\n",
        "        self.name = name\n",
        "        self.color = color\n",
        "        Dog.dog_count += 1\n",
        "        \n",
        "    def dogCount(self):\n",
        "        print(\"총 강아지는 : \", Dog.dog_count)"
      ]
    },
    {
      "cell_type": "code",
      "execution_count": null,
      "id": "b3655807",
      "metadata": {
        "id": "b3655807"
      },
      "outputs": [],
      "source": [
        ""
      ]
    },
    {
      "cell_type": "code",
      "execution_count": null,
      "id": "53ee492a",
      "metadata": {
        "id": "53ee492a",
        "outputId": "fe915751-da0e-4c45-aa46-228d1564756e"
      },
      "outputs": [
        {
          "name": "stdout",
          "output_type": "stream",
          "text": [
            "총 강아지는 :  1\n"
          ]
        }
      ],
      "source": [
        "choco = Dog(\"Choco\", \"Black\")\n",
        "choco.dogCount()\n"
      ]
    },
    {
      "cell_type": "code",
      "execution_count": null,
      "id": "040fa8a9",
      "metadata": {
        "scrolled": true,
        "id": "040fa8a9",
        "outputId": "aed4eff4-c28c-4c44-bc27-64b668798b50"
      },
      "outputs": [
        {
          "name": "stdout",
          "output_type": "stream",
          "text": [
            "총 강아지는 :  2\n"
          ]
        }
      ],
      "source": [
        "jjong = Dog(\"jjong\", \"white\")\n",
        "jjong.dogCount()"
      ]
    },
    {
      "cell_type": "code",
      "execution_count": null,
      "id": "2a7b4281",
      "metadata": {
        "id": "2a7b4281",
        "outputId": "6be8d3cf-2fe6-4c45-ae9c-58a49a443f03"
      },
      "outputs": [
        {
          "data": {
            "text/plain": [
              "2"
            ]
          },
          "execution_count": 8,
          "metadata": {},
          "output_type": "execute_result"
        }
      ],
      "source": [
        "Dog.dog_count"
      ]
    },
    {
      "cell_type": "code",
      "execution_count": null,
      "id": "af995aab",
      "metadata": {
        "id": "af995aab"
      },
      "outputs": [],
      "source": [
        "class Calc:\n",
        "    @staticmethod\n",
        "    def add(a, b):\n",
        "        print(a + b)"
      ]
    },
    {
      "cell_type": "code",
      "execution_count": null,
      "id": "41ec2d19",
      "metadata": {
        "id": "41ec2d19",
        "outputId": "08166e23-999c-4773-adc0-e41a517a2c94"
      },
      "outputs": [
        {
          "name": "stdout",
          "output_type": "stream",
          "text": [
            "3\n"
          ]
        }
      ],
      "source": [
        "Calc.add(1, 2)"
      ]
    },
    {
      "cell_type": "code",
      "execution_count": null,
      "id": "160aaa23",
      "metadata": {
        "id": "160aaa23"
      },
      "outputs": [],
      "source": [
        "class Calc:\n",
        "    @classmethod\n",
        "    def add(cls, a, b):\n",
        "        print(a + b)"
      ]
    },
    {
      "cell_type": "code",
      "execution_count": null,
      "id": "17c7fb9c",
      "metadata": {
        "id": "17c7fb9c",
        "outputId": "de09542a-cedf-4ed3-c090-d7312bfbff0a"
      },
      "outputs": [
        {
          "name": "stdout",
          "output_type": "stream",
          "text": [
            "7\n"
          ]
        }
      ],
      "source": [
        "Calc.add(2, 5)"
      ]
    },
    {
      "cell_type": "code",
      "execution_count": null,
      "id": "f37b0fb2",
      "metadata": {
        "id": "f37b0fb2",
        "outputId": "2f211c9b-e7c9-4bce-e7ef-a9224f3e82c0"
      },
      "outputs": [
        {
          "data": {
            "text/plain": [
              "<__main__.Dog at 0x16293077df0>"
            ]
          },
          "execution_count": 9,
          "metadata": {},
          "output_type": "execute_result"
        }
      ],
      "source": [
        "choco"
      ]
    },
    {
      "cell_type": "code",
      "execution_count": null,
      "id": "b292ccce",
      "metadata": {
        "id": "b292ccce"
      },
      "outputs": [],
      "source": [
        "del choco"
      ]
    },
    {
      "cell_type": "code",
      "execution_count": null,
      "id": "51029506",
      "metadata": {
        "id": "51029506",
        "outputId": "e81ad9b1-0392-42cf-8a86-e508a81abae1"
      },
      "outputs": [
        {
          "ename": "NameError",
          "evalue": "name 'choco' is not defined",
          "output_type": "error",
          "traceback": [
            "\u001b[1;31m---------------------------------------------------------------------------\u001b[0m",
            "\u001b[1;31mNameError\u001b[0m                                 Traceback (most recent call last)",
            "\u001b[1;32m~\\AppData\\Local\\Temp/ipykernel_5916/3537445130.py\u001b[0m in \u001b[0;36m<module>\u001b[1;34m\u001b[0m\n\u001b[1;32m----> 1\u001b[1;33m \u001b[0mchoco\u001b[0m\u001b[1;33m\u001b[0m\u001b[1;33m\u001b[0m\u001b[0m\n\u001b[0m",
            "\u001b[1;31mNameError\u001b[0m: name 'choco' is not defined"
          ]
        }
      ],
      "source": [
        "choco"
      ]
    },
    {
      "cell_type": "code",
      "execution_count": null,
      "id": "ef8b61e8",
      "metadata": {
        "id": "ef8b61e8"
      },
      "outputs": [],
      "source": [
        "class OMG : \n",
        "    def print(self) :\n",
        "        print(\"Oh my god\")"
      ]
    },
    {
      "cell_type": "code",
      "execution_count": null,
      "id": "24fc59b0",
      "metadata": {
        "id": "24fc59b0"
      },
      "outputs": [],
      "source": [
        "myStock = OMG()\n",
        "myStock.print()"
      ]
    },
    {
      "cell_type": "code",
      "execution_count": null,
      "id": "542dcccc",
      "metadata": {
        "id": "542dcccc",
        "outputId": "8a850224-9928-42b1-9c83-c243907793e5"
      },
      "outputs": [
        {
          "name": "stdout",
          "output_type": "stream",
          "text": [
            "name : areum age : 25 sex : girl\n"
          ]
        }
      ],
      "source": [
        "class human:\n",
        "    def __init__(self,name, age,sex):\n",
        "        self.name=name\n",
        "        self.age=age\n",
        "        self.sex=sex\n",
        "    def who(self):\n",
        "        print(f'name : {self.name} age : {self.age} sex : {self.sex}' )\n",
        "areum=human('areum',25,'girl')\n",
        "areum.who()"
      ]
    },
    {
      "cell_type": "code",
      "execution_count": null,
      "id": "b110b87e",
      "metadata": {
        "id": "b110b87e",
        "outputId": "da1b6dba-78cc-4a93-c54b-a3b71bd51da4"
      },
      "outputs": [
        {
          "name": "stdout",
          "output_type": "stream",
          "text": [
            "이름: 모름, 나이: 0, 성별: 모름\n",
            "이름: 아름, 나이: 25, 성별: 여자\n"
          ]
        }
      ],
      "source": [
        "class Human:\n",
        "    def __init__(self,name,age,sex):\n",
        "        self.name=name\n",
        "        self.age=age\n",
        "        self.sex=sex\n",
        "        \n",
        "    def who(self):\n",
        "        print(f\"이름: {areum.name}, 나이: {areum.age}, 성별: {areum.sex}\")\n",
        "        \n",
        "    def setInfo(self,name,age,sex):\n",
        "        self.name=name\n",
        "        self.age=age\n",
        "        self.sex=sex\n",
        "        \n",
        "areum=Human(\"모름\",0,\"모름\")\n",
        "areum.who()\n",
        "\n",
        "areum.setInfo(\"아름\",25,\"여자\")\n",
        "areum.who()"
      ]
    },
    {
      "cell_type": "code",
      "execution_count": null,
      "id": "083d6ecf",
      "metadata": {
        "id": "083d6ecf"
      },
      "outputs": [],
      "source": [
        "class Stock:\n",
        "    def __init__(self, name, code):\n",
        "        self.__name = name\n",
        "        self.__code = code\n",
        "        \n",
        "    def set_code (self, code):\n",
        "        self.__code = code\n",
        "        \n",
        "    def get_code(self):\n",
        "        return self.__code"
      ]
    },
    {
      "cell_type": "code",
      "execution_count": null,
      "id": "e339834e",
      "metadata": {
        "id": "e339834e",
        "outputId": "85faff6c-57a2-4101-b5ad-d7b84dd1ae2a"
      },
      "outputs": [
        {
          "name": "stdout",
          "output_type": "stream",
          "text": [
            "None None\n"
          ]
        }
      ],
      "source": [
        "a = Stock(None, None)\n",
        "print(a.name, a.code)"
      ]
    },
    {
      "cell_type": "code",
      "execution_count": null,
      "id": "2e870d25",
      "metadata": {
        "id": "2e870d25",
        "outputId": "d92b3302-904d-429b-c0df-a935c231a25b"
      },
      "outputs": [
        {
          "name": "stdout",
          "output_type": "stream",
          "text": [
            "None 005930\n"
          ]
        }
      ],
      "source": [
        "a.set_code(\"005930\")\n",
        "print(a.name, a.code)"
      ]
    },
    {
      "cell_type": "code",
      "execution_count": null,
      "id": "31e75948",
      "metadata": {
        "id": "31e75948"
      },
      "outputs": [],
      "source": [
        "class Dog:\n",
        "    dog_count = 0\n",
        "    \n",
        "    def __init__(self, name, color):\n",
        "        self.name = name\n",
        "        self.color = color\n",
        "        Dog.dog_count += 1\n",
        "        \n",
        "    @classmethod\n",
        "    def dogCount(cls):\n",
        "        print(\"총 강아지는 : \", Dog.dog_count)"
      ]
    },
    {
      "cell_type": "code",
      "execution_count": null,
      "id": "2ae37823",
      "metadata": {
        "id": "2ae37823",
        "outputId": "9ce835a5-7503-4667-b874-aa6100f73edf"
      },
      "outputs": [
        {
          "name": "stdout",
          "output_type": "stream",
          "text": [
            "총 강아지는 :  1\n"
          ]
        }
      ],
      "source": [
        "choco = Dog(\"Choco\", \"White\")\n",
        "choco.dogCount()"
      ]
    },
    {
      "cell_type": "code",
      "execution_count": null,
      "id": "df32d129",
      "metadata": {
        "id": "df32d129",
        "outputId": "26cfcae2-e765-4afc-edae-62be17147bba"
      },
      "outputs": [
        {
          "name": "stdout",
          "output_type": "stream",
          "text": [
            "2\n"
          ]
        }
      ],
      "source": [
        "import random \n",
        "class Account:\n",
        "    accounts = 0\n",
        "    def __init__(self, name, balance):\n",
        "        self.name = name\n",
        "        self.balance = balance\n",
        "        self.bank = \"SC은행\"\n",
        "        num1 = random.randint(0,999)\n",
        "        num2 = random.randint(0,99)\n",
        "        num3 = random.randint(0,999999)\n",
        "        num1 = str(num1).zfill(3)\n",
        "        num2 = str(num2).zfill(2)\n",
        "        num3 = str(num3).zfill(6)\n",
        "        self.account_number = num1 + '-' + num2 + '-' + num3\n",
        "        Account.accounts += 1\n",
        "        \n",
        "    @classmethod\n",
        "    def get_account_num(cls):\n",
        "        print(Account.accounts)\n",
        "            \n",
        "kim = Account('김민수', 1000)\n",
        "lee = Account('이민수', 100)\n",
        "kim.get_account_num()"
      ]
    },
    {
      "cell_type": "code",
      "execution_count": null,
      "id": "16a371be",
      "metadata": {
        "id": "16a371be",
        "outputId": "ee938910-621e-4161-c9a0-abb309cb7f54"
      },
      "outputs": [
        {
          "name": "stdout",
          "output_type": "stream",
          "text": [
            "2\n"
          ]
        }
      ],
      "source": [
        "Account.get_account_num()"
      ]
    },
    {
      "cell_type": "code",
      "execution_count": null,
      "id": "e254044f",
      "metadata": {
        "id": "e254044f",
        "outputId": "36c51c1c-5bc5-40c5-8ff6-1901358c3225"
      },
      "outputs": [
        {
          "name": "stdout",
          "output_type": "stream",
          "text": [
            "12.75\n"
          ]
        }
      ],
      "source": [
        "class Stock:\n",
        "    def __init__(self, name, code,per,pbr,profit):\n",
        "        self.name = name\n",
        "        self.code = code\n",
        "        self.per = per\n",
        "        self.pbr = pbr\n",
        "        self.profit = profit\n",
        "        \n",
        "    def set_name(self, name):\n",
        "        self.name = name\n",
        "\n",
        "    def set_code(self, code):\n",
        "        self.code = code\n",
        "\n",
        "    def get_name(self):\n",
        "        return self.name\n",
        "\n",
        "    def get_code(self):\n",
        "        return self.code\n",
        "    \n",
        "    def set_per(self, per):\n",
        "        self.per = per\n",
        "    \n",
        "삼성 = Stock(\"삼성전자\",\"005930\",15.79,1.33,2.83)\n",
        "삼성.set_per(12.75)\n",
        "print(삼성.per)\n"
      ]
    },
    {
      "cell_type": "code",
      "execution_count": null,
      "id": "21985879",
      "metadata": {
        "id": "21985879",
        "outputId": "1d573a76-c6b1-46c1-d738-c9fb4647d276"
      },
      "outputs": [
        {
          "name": "stdout",
          "output_type": "stream",
          "text": [
            "1\n",
            "2\n"
          ]
        }
      ],
      "source": [
        "import random\n",
        "class Account:\n",
        "    # class variable\n",
        "    account_count = 0\n",
        "    def __init__(self, name, balance):\n",
        "        self.name = name\n",
        "        self.balance = balance\n",
        "        self.bank = \"SC은행\"\n",
        "        num1 = random.randint(0, 999)\n",
        "        num2 = random.randint(0, 99)\n",
        "        num3 = random.randint(0, 999999)\n",
        "        num1 = str(num1).zfill(3)      # 1 -> '1' -> '001'\n",
        "        num2 = str(num2).zfill(2)      # 1 -> '1' -> '01'\n",
        "        num3 = str(num3).zfill(6)      # 1 -> '1' -> '0000001'\n",
        "        self.account_number = num1 + '-' + num2 + '-' + num3  # 001-01-000001\n",
        "        Account.account_count += 1\n",
        "        \n",
        "    @classmethod\n",
        "    def get_account_num(cls):\n",
        "        return Account.account_count\n",
        "        \n",
        "kim = Account(\"김민수\", 100)\n",
        "print(Account.account_count)\n",
        "lee = Account(\"이민수\", 100)\n",
        "print(Account.account_count)"
      ]
    },
    {
      "cell_type": "code",
      "execution_count": null,
      "id": "0f6807ed",
      "metadata": {
        "id": "0f6807ed",
        "outputId": "2a20075d-2306-40f9-f382-e393989444af"
      },
      "outputs": [
        {
          "data": {
            "text/plain": [
              "2"
            ]
          },
          "execution_count": 51,
          "metadata": {},
          "output_type": "execute_result"
        }
      ],
      "source": [
        "kim.get_account_num()"
      ]
    },
    {
      "cell_type": "code",
      "execution_count": null,
      "id": "8beb1b02",
      "metadata": {
        "id": "8beb1b02",
        "outputId": "b77ee104-416f-4122-893d-365ca0e873bc"
      },
      "outputs": [
        {
          "data": {
            "text/plain": [
              "2"
            ]
          },
          "execution_count": 52,
          "metadata": {},
          "output_type": "execute_result"
        }
      ],
      "source": [
        "lee.get_account_num()"
      ]
    },
    {
      "cell_type": "code",
      "execution_count": null,
      "id": "83baea23",
      "metadata": {
        "id": "83baea23",
        "outputId": "ba507cf5-21e7-4bf5-bfb0-bd6d1da08874"
      },
      "outputs": [
        {
          "data": {
            "text/plain": [
              "2"
            ]
          },
          "execution_count": 53,
          "metadata": {},
          "output_type": "execute_result"
        }
      ],
      "source": [
        "Account.get_account_num()"
      ]
    },
    {
      "cell_type": "code",
      "execution_count": null,
      "id": "fb9d3aca",
      "metadata": {
        "id": "fb9d3aca",
        "outputId": "6529cdb4-cf3f-4cc7-a153-8a1aa3cd0b00"
      },
      "outputs": [
        {
          "name": "stdout",
          "output_type": "stream",
          "text": [
            "2\n"
          ]
        }
      ],
      "source": [
        "class Account:\n",
        "    account_count=0\n",
        "    \n",
        "    def __init__(self,name,money):\n",
        "        self.name=name\n",
        "        self.nume=money\n",
        "        self.bank=\"SC은행\"\n",
        "        num1= random.randint(0,999)\n",
        "        num2= random.randint(0,99)\n",
        "        num3= random.randint(0,999999)\n",
        "        num1=str(num1).zfill(3)\n",
        "        num2=str(num2).zfill(2)\n",
        "        num3=str(num3).zfill(6)\n",
        "        self.accout_number=num1+\"-\"+num2+\"-\"+num3\n",
        "        Account.account_count+=1\n",
        "        \n",
        "    @classmethod\n",
        "    def get_account_num(cls):\n",
        "        print(cls.account_count)\n",
        "\n",
        "kim = Account(\"김민수\", 100)\n",
        "lee = Account(\"이민수\", 100)\n",
        "Account.get_account_num()"
      ]
    },
    {
      "cell_type": "code",
      "execution_count": null,
      "id": "47e1c8ac",
      "metadata": {
        "id": "47e1c8ac",
        "outputId": "1ec98da0-32c8-4196-9017-1d978bd6a332"
      },
      "outputs": [
        {
          "name": "stdout",
          "output_type": "stream",
          "text": [
            "2\n"
          ]
        }
      ],
      "source": [
        "Account.get_account_num()"
      ]
    },
    {
      "cell_type": "code",
      "execution_count": null,
      "id": "62e8762e",
      "metadata": {
        "id": "62e8762e"
      },
      "outputs": [],
      "source": [
        "class Scores:\n",
        "    def __init__(self, kor, eng, math):\n",
        "        self.kor = kor\n",
        "        self.eng = eng\n",
        "        self.math = math\n",
        "        \n",
        "    def sum(self):\n",
        "        return self.kor + self.eng + self.math\n",
        "    \n",
        "        "
      ]
    },
    {
      "cell_type": "code",
      "execution_count": null,
      "id": "68fc34d0",
      "metadata": {
        "id": "68fc34d0",
        "outputId": "73d3c27c-3dee-43f4-a6ca-dbe7468fd9b4"
      },
      "outputs": [
        {
          "name": "stdout",
          "output_type": "stream",
          "text": [
            "국어 : 60\n",
            "영어 : 80\n",
            "수학 : 65\n"
          ]
        }
      ],
      "source": [
        "kor = int(input(\"국어 : \"))\n",
        "eng = int(input(\"영어 : \"))\n",
        "math = int(input(\"수학 : \"))"
      ]
    },
    {
      "cell_type": "code",
      "execution_count": null,
      "id": "d3b0b3e6",
      "metadata": {
        "id": "d3b0b3e6",
        "outputId": "9e32f4f0-08b5-4266-fa6b-17d14ebea82a"
      },
      "outputs": [
        {
          "data": {
            "text/plain": [
              "205"
            ]
          },
          "execution_count": 83,
          "metadata": {},
          "output_type": "execute_result"
        }
      ],
      "source": [
        "kim = Scores(kor, eng, math)\n",
        "kim.sum()"
      ]
    },
    {
      "cell_type": "code",
      "execution_count": null,
      "id": "04ccba71",
      "metadata": {
        "id": "04ccba71"
      },
      "outputs": [],
      "source": [
        "PI = 3.14\n",
        "\n",
        "class Circle:\n",
        "    def __init__(self, radius):\n",
        "        self.radius = radius\n",
        "        \n",
        "    def get_area(self):\n",
        "        return PI * self.radius * self.radius"
      ]
    },
    {
      "cell_type": "code",
      "execution_count": null,
      "id": "2b867edb",
      "metadata": {
        "id": "2b867edb",
        "outputId": "7f297829-283a-4b58-fe35-9f1beedd6d0f"
      },
      "outputs": [
        {
          "name": "stdout",
          "output_type": "stream",
          "text": [
            "반지름 : 10\n"
          ]
        },
        {
          "data": {
            "text/plain": [
              "314.0"
            ]
          },
          "execution_count": 89,
          "metadata": {},
          "output_type": "execute_result"
        }
      ],
      "source": [
        "radius = int(input(\"반지름 : \"))\n",
        "circle = Circle(radius)\n",
        "circle.get_area()"
      ]
    },
    {
      "cell_type": "code",
      "execution_count": null,
      "id": "125d4db8",
      "metadata": {
        "id": "125d4db8"
      },
      "outputs": [],
      "source": [
        "class Car:\n",
        "    \n",
        "    car_count = 0\n",
        "    \n",
        "    def __init__(self, name, cc, year):\n",
        "        self.__name = name\n",
        "        self.__cc = cc\n",
        "        self.__year = year\n",
        "        Car.car_count += 1\n",
        "        \n",
        "    def get_name(self):\n",
        "        return self.__name\n",
        "    \n",
        "    def set_name(self, name):\n",
        "        self.__name = name\n",
        "        \n",
        "    def display_cc(self):\n",
        "        if self.__cc < 1000:\n",
        "            print(\"소형\")\n",
        "        elif self.__cc <= 2000:\n",
        "            print(\"중형\")\n",
        "        else:\n",
        "            print(\"대형\")\n",
        "            \n",
        "    \n",
        "    def get_car_count(self):\n",
        "        return Car.car_count\n",
        "            \n",
        "    \n"
      ]
    },
    {
      "cell_type": "code",
      "execution_count": null,
      "id": "79f75a71",
      "metadata": {
        "id": "79f75a71"
      },
      "outputs": [],
      "source": [
        "benz = Car(\"Benz\", 2000, 2021)"
      ]
    },
    {
      "cell_type": "code",
      "execution_count": null,
      "id": "e11e031b",
      "metadata": {
        "id": "e11e031b"
      },
      "outputs": [],
      "source": [
        "bmw = Car(\"BMW\", 1800, 2000)"
      ]
    },
    {
      "cell_type": "code",
      "execution_count": null,
      "id": "c83491cc",
      "metadata": {
        "id": "c83491cc"
      },
      "outputs": [],
      "source": [
        "spark = Car(\"Spark\", 900, 2019)"
      ]
    },
    {
      "cell_type": "code",
      "execution_count": null,
      "id": "1a03f9d2",
      "metadata": {
        "id": "1a03f9d2"
      },
      "outputs": [],
      "source": [
        "benz.set_name(\"Mercedez\")"
      ]
    },
    {
      "cell_type": "code",
      "execution_count": null,
      "id": "9b62cc38",
      "metadata": {
        "id": "9b62cc38",
        "outputId": "cda0f0e0-b335-42c7-a7ae-3d6ac9dd38d8"
      },
      "outputs": [
        {
          "data": {
            "text/plain": [
              "'Mercedez'"
            ]
          },
          "execution_count": 99,
          "metadata": {},
          "output_type": "execute_result"
        }
      ],
      "source": [
        "benz.get_name()"
      ]
    },
    {
      "cell_type": "code",
      "execution_count": null,
      "id": "a2fe185d",
      "metadata": {
        "id": "a2fe185d",
        "outputId": "8c65ff65-48c1-4637-b72e-8ee8eabb7425"
      },
      "outputs": [
        {
          "data": {
            "text/plain": [
              "3"
            ]
          },
          "execution_count": 100,
          "metadata": {},
          "output_type": "execute_result"
        }
      ],
      "source": [
        "spark.get_car_count()"
      ]
    },
    {
      "cell_type": "code",
      "execution_count": null,
      "id": "0bec807f",
      "metadata": {
        "id": "0bec807f",
        "outputId": "34304f55-73b7-4c27-ed0f-148cd81bdcfc"
      },
      "outputs": [
        {
          "name": "stdout",
          "output_type": "stream",
          "text": [
            "중형\n"
          ]
        }
      ],
      "source": [
        "bmw.display_cc()"
      ]
    },
    {
      "cell_type": "code",
      "execution_count": null,
      "id": "e94017e9",
      "metadata": {
        "id": "e94017e9"
      },
      "outputs": [],
      "source": [
        "class Animal:\n",
        "    def __init__(self):\n",
        "        self.hungry = 0\n",
        "        \n",
        "    def eat(self):\n",
        "        self.hungry -= 10\n",
        "        print(\"밥먹음\", self.hungry)\n",
        "        \n",
        "    def walk(self):\n",
        "        self.hungry += 10\n",
        "        print(\"산책\", self.hungry)\n",
        "        \n",
        "        "
      ]
    },
    {
      "cell_type": "code",
      "execution_count": null,
      "id": "4be9e8d3",
      "metadata": {
        "id": "4be9e8d3"
      },
      "outputs": [],
      "source": [
        "class Dog(Animal):\n",
        "    def __init__(self):\n",
        "        super().__init__()\n",
        "        \n",
        "    def sound(self):\n",
        "        print(\"멍멍\")"
      ]
    },
    {
      "cell_type": "code",
      "execution_count": null,
      "id": "8ef0b3d2",
      "metadata": {
        "id": "8ef0b3d2"
      },
      "outputs": [],
      "source": [
        "choco = Dog()"
      ]
    },
    {
      "cell_type": "code",
      "execution_count": null,
      "id": "c24e32cc",
      "metadata": {
        "id": "c24e32cc",
        "outputId": "4d8cd8ea-7618-4d2a-f42e-84d8f7437599"
      },
      "outputs": [
        {
          "name": "stdout",
          "output_type": "stream",
          "text": [
            "밥먹음 -10\n",
            "밥먹음 -20\n",
            "밥먹음 -30\n",
            "산책 -20\n",
            "멍멍\n"
          ]
        }
      ],
      "source": [
        "choco.hungry\n",
        "choco.eat()\n",
        "choco.eat()\n",
        "choco.eat()\n",
        "choco.walk()\n",
        "choco.sound()"
      ]
    },
    {
      "cell_type": "code",
      "execution_count": null,
      "id": "7e10aab4",
      "metadata": {
        "id": "7e10aab4"
      },
      "outputs": [],
      "source": [
        "class Cat(Animal):\n",
        "    def __init__(self):\n",
        "        super().__init__()\n",
        "        \n",
        "    def sound(self):\n",
        "        print(\"야옹\")"
      ]
    },
    {
      "cell_type": "code",
      "execution_count": null,
      "id": "a9527e4a",
      "metadata": {
        "id": "a9527e4a",
        "outputId": "9c68e862-e9e6-4d68-e5bf-329179c149e4"
      },
      "outputs": [
        {
          "name": "stdout",
          "output_type": "stream",
          "text": [
            "산책 10\n",
            "산책 20\n",
            "산책 30\n",
            "야옹\n"
          ]
        }
      ],
      "source": [
        "nero = Cat()\n",
        "nero.walk()\n",
        "nero.walk()\n",
        "nero.walk()\n",
        "nero.sound()"
      ]
    },
    {
      "cell_type": "code",
      "execution_count": null,
      "id": "b0e230d4",
      "metadata": {
        "id": "b0e230d4"
      },
      "outputs": [],
      "source": [
        "class Dog(Animal):\n",
        "    def __init__(self):\n",
        "        super().__init__()\n",
        "        \n",
        "    def eat(self):\n",
        "        self.hungry -= 20\n",
        "        print(\"밥먹음\", self.hungry)\n",
        "        \n",
        "    def sound(self):\n",
        "        print(\"멍멍\")"
      ]
    },
    {
      "cell_type": "code",
      "execution_count": null,
      "id": "18b1da6e",
      "metadata": {
        "id": "18b1da6e",
        "outputId": "1e336747-03be-4405-9aa3-fd283be0a9a5"
      },
      "outputs": [
        {
          "name": "stdout",
          "output_type": "stream",
          "text": [
            "밥먹음 -20\n",
            "밥먹음 -40\n",
            "멍멍\n"
          ]
        }
      ],
      "source": [
        "jjong = Dog()\n",
        "jjong.eat()\n",
        "jjong.eat()\n",
        "jjong.sound()"
      ]
    },
    {
      "cell_type": "code",
      "execution_count": null,
      "id": "57adce1f",
      "metadata": {
        "id": "57adce1f"
      },
      "outputs": [],
      "source": [
        "class Dog(Animal):\n",
        "    def __init__(self):\n",
        "        super().__init__()\n",
        "        \n",
        "    def eat(self):\n",
        "        super().eat()\n",
        "        print(\"왈왈\")\n",
        "        \n",
        "    def sound(self):\n",
        "        print(\"멍멍\")"
      ]
    },
    {
      "cell_type": "code",
      "execution_count": null,
      "id": "ba06d615",
      "metadata": {
        "id": "ba06d615",
        "outputId": "9669fb96-2ef6-4c38-a2a6-1f654b39474f"
      },
      "outputs": [
        {
          "name": "stdout",
          "output_type": "stream",
          "text": [
            "밥먹음 -10\n",
            "왈왈\n",
            "밥먹음 -20\n",
            "왈왈\n"
          ]
        }
      ],
      "source": [
        "benji = Dog()\n",
        "benji.eat()\n",
        "benji.eat()"
      ]
    },
    {
      "cell_type": "code",
      "execution_count": null,
      "id": "2e630672",
      "metadata": {
        "id": "2e630672"
      },
      "outputs": [],
      "source": [
        "class Animal:\n",
        "    type = \"동물\"\n",
        "    \n",
        "    @staticmethod\n",
        "    def getType1():\n",
        "        return Animal.type\n",
        "    \n",
        "    @classmethod\n",
        "    def getType2(cls):\n",
        "        return cls.type\n",
        "    \n",
        "    def __init__(self):\n",
        "        self.hungry = 0\n",
        "        \n",
        "        "
      ]
    },
    {
      "cell_type": "code",
      "execution_count": null,
      "id": "af06b8bf",
      "metadata": {
        "id": "af06b8bf"
      },
      "outputs": [],
      "source": [
        "class Dog(Animal):\n",
        "    type = \"강아지\"\n",
        "    \n",
        "    def __init__(self):\n",
        "        super().__init__()\n",
        "        \n",
        "    def sound(self):\n",
        "        print(\"멍멍\")"
      ]
    },
    {
      "cell_type": "code",
      "execution_count": null,
      "id": "68a72ec5",
      "metadata": {
        "id": "68a72ec5",
        "outputId": "6d0db279-ac88-456a-c2a2-b469c4155476"
      },
      "outputs": [
        {
          "data": {
            "text/plain": [
              "'동물'"
            ]
          },
          "execution_count": 119,
          "metadata": {},
          "output_type": "execute_result"
        }
      ],
      "source": [
        "dog = Dog()\n",
        "dog.getType1()"
      ]
    },
    {
      "cell_type": "code",
      "execution_count": null,
      "id": "86e1e905",
      "metadata": {
        "id": "86e1e905",
        "outputId": "c12cad12-a9ca-4b5c-ef47-2fdefaa6a33a"
      },
      "outputs": [
        {
          "data": {
            "text/plain": [
              "'강아지'"
            ]
          },
          "execution_count": 120,
          "metadata": {},
          "output_type": "execute_result"
        }
      ],
      "source": [
        "dog.getType2()"
      ]
    },
    {
      "cell_type": "code",
      "execution_count": null,
      "id": "40edba90",
      "metadata": {
        "id": "40edba90",
        "outputId": "ceecf5e2-8a7d-4f5b-c066-fb538d9efea3"
      },
      "outputs": [
        {
          "name": "stdout",
          "output_type": "stream",
          "text": [
            "50500.0\n"
          ]
        }
      ],
      "source": [
        "class Account:\n",
        "    account_count=0\n",
        "    \n",
        "    def __init__(self,name,money):\n",
        "        self.name=name\n",
        "        self.money=money\n",
        "        self.bank=\"SC은행\"\n",
        "        num1= random.randint(0,999)\n",
        "        num2= random.randint(0,99)\n",
        "        num3= random.randint(0,999999)\n",
        "        num1=str(num1).zfill(3)\n",
        "        num2=str(num2).zfill(2)\n",
        "        num3=str(num3).zfill(6)\n",
        "        self.account_number=num1+\"-\"+num2+\"-\"+num3\n",
        "        Account.account_count+=1\n",
        "        self.deposit_count = 0\n",
        "        \n",
        "    @classmethod\n",
        "    def get_account_num(cls):\n",
        "        print(cls.account_count)\n",
        "        \n",
        "    def deposit(self,amount):\n",
        "        if amount >=1:\n",
        "            self.money+=amount\n",
        "            self.deposit_count = self.deposit_count + 1\n",
        "            if self.deposit_count % 5==0:\n",
        "                self.money = (self.money*1.01)\n",
        "     \n",
        "    def withdraw(self,amount):\n",
        "        if self.money > amount:\n",
        "            self.money -=amount\n",
        "            \n",
        "    def display_info(self):\n",
        "        print(\"은행이름: \",self.bank)\n",
        "        print(\"예금주: \",self.name)\n",
        "        print(\"계좌번호: \",self.account_number)\n",
        "        print(\"잔고: \",self.money)\n",
        "        \n",
        "p = Account(\"윤대선\", 10000)\n",
        "p.deposit(10000)\n",
        "p.deposit(10000)\n",
        "p.deposit(10000)\n",
        "p.deposit(5000)\n",
        "p.deposit(5000)\n",
        "print(p.money) "
      ]
    },
    {
      "cell_type": "code",
      "execution_count": null,
      "id": "e55e5ef4",
      "metadata": {
        "id": "e55e5ef4",
        "outputId": "90930f4e-1417-4de0-b8d9-96f44093af1c"
      },
      "outputs": [
        {
          "name": "stdout",
          "output_type": "stream",
          "text": [
            "<class '__main__.Account'>\n",
            "1\n"
          ]
        }
      ],
      "source": [
        "p.get_account_num()"
      ]
    },
    {
      "cell_type": "code",
      "execution_count": null,
      "id": "3b4af418",
      "metadata": {
        "id": "3b4af418"
      },
      "outputs": [],
      "source": [
        "def add(a, b):\n",
        "    return a + b\n",
        "\n",
        "def subtract(a, b):\n",
        "    return a - b\n",
        "\n",
        "def multiply(a, b):\n",
        "    return a * b\n",
        "\n",
        "def divide(a, b):\n",
        "    try:\n",
        "        result =  a / b\n",
        "    except:\n",
        "        print(\"0으로 나눌 수 없습니다\")\n",
        "        return\n",
        "       \n",
        "    \n",
        "    return result"
      ]
    },
    {
      "cell_type": "code",
      "execution_count": null,
      "id": "3f71f67f",
      "metadata": {
        "id": "3f71f67f",
        "outputId": "21bed8ba-3b63-4b54-eb6f-9563c77ef1f9"
      },
      "outputs": [
        {
          "ename": "TypeError",
          "evalue": "unsupported operand type(s) for -: 'str' and 'int'",
          "output_type": "error",
          "traceback": [
            "\u001b[1;31m---------------------------------------------------------------------------\u001b[0m",
            "\u001b[1;31mTypeError\u001b[0m                                 Traceback (most recent call last)",
            "\u001b[1;32m~\\AppData\\Local\\Temp/ipykernel_5916/2567698250.py\u001b[0m in \u001b[0;36m<module>\u001b[1;34m\u001b[0m\n\u001b[1;32m----> 1\u001b[1;33m \u001b[0msubtract\u001b[0m\u001b[1;33m(\u001b[0m\u001b[1;34m\"d\"\u001b[0m\u001b[1;33m,\u001b[0m \u001b[1;36m10\u001b[0m\u001b[1;33m)\u001b[0m\u001b[1;33m\u001b[0m\u001b[1;33m\u001b[0m\u001b[0m\n\u001b[0m",
            "\u001b[1;32m~\\AppData\\Local\\Temp/ipykernel_5916/1465774737.py\u001b[0m in \u001b[0;36msubtract\u001b[1;34m(a, b)\u001b[0m\n\u001b[0;32m      3\u001b[0m \u001b[1;33m\u001b[0m\u001b[0m\n\u001b[0;32m      4\u001b[0m \u001b[1;32mdef\u001b[0m \u001b[0msubtract\u001b[0m\u001b[1;33m(\u001b[0m\u001b[0ma\u001b[0m\u001b[1;33m,\u001b[0m \u001b[0mb\u001b[0m\u001b[1;33m)\u001b[0m\u001b[1;33m:\u001b[0m\u001b[1;33m\u001b[0m\u001b[1;33m\u001b[0m\u001b[0m\n\u001b[1;32m----> 5\u001b[1;33m     \u001b[1;32mreturn\u001b[0m \u001b[0ma\u001b[0m \u001b[1;33m-\u001b[0m \u001b[0mb\u001b[0m\u001b[1;33m\u001b[0m\u001b[1;33m\u001b[0m\u001b[0m\n\u001b[0m\u001b[0;32m      6\u001b[0m \u001b[1;33m\u001b[0m\u001b[0m\n\u001b[0;32m      7\u001b[0m \u001b[1;32mdef\u001b[0m \u001b[0mmultiply\u001b[0m\u001b[1;33m(\u001b[0m\u001b[0ma\u001b[0m\u001b[1;33m,\u001b[0m \u001b[0mb\u001b[0m\u001b[1;33m)\u001b[0m\u001b[1;33m:\u001b[0m\u001b[1;33m\u001b[0m\u001b[1;33m\u001b[0m\u001b[0m\n",
            "\u001b[1;31mTypeError\u001b[0m: unsupported operand type(s) for -: 'str' and 'int'"
          ]
        }
      ],
      "source": [
        "subtract(\"d\", 10)"
      ]
    },
    {
      "cell_type": "code",
      "execution_count": null,
      "id": "14b61773",
      "metadata": {
        "id": "14b61773",
        "outputId": "98bdd694-b520-4265-9e1d-59cbf9adfe41"
      },
      "outputs": [
        {
          "name": "stdout",
          "output_type": "stream",
          "text": [
            "0으로 나눌 수 없습니다\n"
          ]
        }
      ],
      "source": [
        "divide(10, 0)"
      ]
    },
    {
      "cell_type": "code",
      "execution_count": null,
      "id": "b3b35f20",
      "metadata": {
        "id": "b3b35f20"
      },
      "outputs": [],
      "source": [
        "def calc(a, b, operator):\n",
        "    if operator == \"+\":\n",
        "        return add(a, b)\n",
        "    elif operator == \"-\":\n",
        "        return subtract(a, b)\n",
        "    elif operator == \"*\":\n",
        "        return multiply(a, b)\n",
        "    elif operator == \"/\":\n",
        "        return divide(a, b)"
      ]
    },
    {
      "cell_type": "code",
      "execution_count": null,
      "id": "0d9ca209",
      "metadata": {
        "id": "0d9ca209"
      },
      "outputs": [],
      "source": [
        "x = [1, 2, 4]"
      ]
    },
    {
      "cell_type": "code",
      "execution_count": null,
      "id": "001f3c0c",
      "metadata": {
        "id": "001f3c0c",
        "outputId": "526854a5-523c-4efe-9ea8-02138a963099"
      },
      "outputs": [
        {
          "ename": "IndexError",
          "evalue": "list index out of range",
          "output_type": "error",
          "traceback": [
            "\u001b[1;31m---------------------------------------------------------------------------\u001b[0m",
            "\u001b[1;31mIndexError\u001b[0m                                Traceback (most recent call last)",
            "\u001b[1;32m~\\AppData\\Local\\Temp/ipykernel_5916/4194373236.py\u001b[0m in \u001b[0;36m<module>\u001b[1;34m\u001b[0m\n\u001b[1;32m----> 1\u001b[1;33m \u001b[0mx\u001b[0m\u001b[1;33m[\u001b[0m\u001b[1;36m5\u001b[0m\u001b[1;33m]\u001b[0m\u001b[1;33m\u001b[0m\u001b[1;33m\u001b[0m\u001b[0m\n\u001b[0m",
            "\u001b[1;31mIndexError\u001b[0m: list index out of range"
          ]
        }
      ],
      "source": [
        "x[5]\n"
      ]
    },
    {
      "cell_type": "code",
      "execution_count": null,
      "id": "fa9bb116",
      "metadata": {
        "id": "fa9bb116",
        "outputId": "4a7b1fd9-dd30-4c69-8748-7a5a51c5faa8"
      },
      "outputs": [
        {
          "name": "stdout",
          "output_type": "stream",
          "text": [
            "list index out of range\n"
          ]
        }
      ],
      "source": [
        "try:\n",
        "#     print(10/0)\n",
        "    x[5]\n",
        "except ZeroDivisionError as err:\n",
        "    print(err)\n",
        "except IndexError as err:\n",
        "    print(err)"
      ]
    },
    {
      "cell_type": "code",
      "execution_count": null,
      "id": "7387c752",
      "metadata": {
        "id": "7387c752",
        "outputId": "2ddf4432-4f0c-4421-8ef8-d7f82789ed84"
      },
      "outputs": [
        {
          "name": "stdout",
          "output_type": "stream",
          "text": [
            "division by zero\n"
          ]
        }
      ],
      "source": [
        "try:\n",
        "    print(10/0)\n",
        "#     x[5]\n",
        "except Exception as err:\n",
        "    print(err)\n"
      ]
    },
    {
      "cell_type": "code",
      "execution_count": null,
      "id": "d0adf89d",
      "metadata": {
        "id": "d0adf89d",
        "outputId": "b59a4a2a-c605-4f78-81e6-8e0b8b033094"
      },
      "outputs": [
        {
          "name": "stdout",
          "output_type": "stream",
          "text": [
            "division by zero\n",
            "무조건 실행\n",
            "끝\n"
          ]
        }
      ],
      "source": [
        "try:\n",
        "    print(10/0)\n",
        "#     x[5]\n",
        "except Exception as e:\n",
        "    print(e)\n",
        "else:\n",
        "    print(\"오류 발생하지 않음\")\n",
        "finally:\n",
        "    print(\"무조건 실행\")\n",
        "\n",
        "print(\"끝\")"
      ]
    },
    {
      "cell_type": "code",
      "execution_count": null,
      "id": "ead94d00",
      "metadata": {
        "id": "ead94d00",
        "outputId": "bfedddd6-e48d-4c67-f64a-80ae4cf8ab52"
      },
      "outputs": [
        {
          "name": "stdout",
          "output_type": "stream",
          "text": [
            "에러 :  나의 예외 발생\n"
          ]
        }
      ],
      "source": [
        "try:\n",
        "    raise Exception(\"나의 예외 발생\")\n",
        "except Exception as e:\n",
        "    print(\"에러 : \", e)"
      ]
    },
    {
      "cell_type": "code",
      "execution_count": null,
      "id": "add6a9f1",
      "metadata": {
        "id": "add6a9f1"
      },
      "outputs": [],
      "source": [
        "class MyError1(Exception):\n",
        "    def __init__(self):\n",
        "        super().__init__(\"My Errr1\")\n",
        "\n",
        "class MyError2(Exception):\n",
        "    def __init__(self):\n",
        "        super().__init__(\"My Errr2\")\n",
        "        \n",
        "class MyError3(Exception):\n",
        "    def __init__(self):\n",
        "        super().__init__(\"My Errr3\")"
      ]
    },
    {
      "cell_type": "code",
      "execution_count": null,
      "id": "a382d85f",
      "metadata": {
        "id": "a382d85f",
        "outputId": "e9f22209-2cbf-4878-c6ef-10db39a7b519"
      },
      "outputs": [
        {
          "name": "stdout",
          "output_type": "stream",
          "text": [
            "에러 :  My Errr3\n"
          ]
        }
      ],
      "source": [
        "try:\n",
        "    raise MyError3()\n",
        "except Exception as e:\n",
        "    print(\"에러 : \", e)"
      ]
    },
    {
      "cell_type": "code",
      "execution_count": null,
      "id": "a915cf3f",
      "metadata": {
        "id": "a915cf3f"
      },
      "outputs": [],
      "source": [
        "import pkcalc.calc as calc"
      ]
    },
    {
      "cell_type": "code",
      "execution_count": null,
      "id": "d89ceea3",
      "metadata": {
        "id": "d89ceea3",
        "outputId": "2eb5d8da-4472-49d7-db60-6e19dc5bfb30"
      },
      "outputs": [
        {
          "data": {
            "text/plain": [
              "'pkcalc.calc'"
            ]
          },
          "execution_count": 6,
          "metadata": {},
          "output_type": "execute_result"
        }
      ],
      "source": [
        "calc.__name__"
      ]
    },
    {
      "cell_type": "code",
      "execution_count": null,
      "id": "9fe0c1aa",
      "metadata": {
        "id": "9fe0c1aa",
        "outputId": "8106e546-32dc-4f28-9710-177a95253f8a"
      },
      "outputs": [
        {
          "data": {
            "text/plain": [
              "7"
            ]
          },
          "execution_count": 7,
          "metadata": {},
          "output_type": "execute_result"
        }
      ],
      "source": [
        "calc.add(3, 4)"
      ]
    },
    {
      "cell_type": "code",
      "execution_count": null,
      "id": "aac6f265",
      "metadata": {
        "id": "aac6f265",
        "outputId": "9ef3f8a6-405f-4c57-8bf1-92a4734c7c1b"
      },
      "outputs": [
        {
          "name": "stdout",
          "output_type": "stream",
          "text": [
            "7\n",
            "2\n"
          ]
        }
      ],
      "source": [
        "from pkcalc.calc import add, multiply\n",
        "\n",
        "print(add(3, 4))\n",
        "print(multiply(1, 2))\n"
      ]
    },
    {
      "cell_type": "code",
      "execution_count": null,
      "id": "b1f4a80e",
      "metadata": {
        "id": "b1f4a80e"
      },
      "outputs": [],
      "source": [
        "from calc import add, multiply"
      ]
    },
    {
      "cell_type": "code",
      "execution_count": null,
      "id": "7ec21a28",
      "metadata": {
        "id": "7ec21a28"
      },
      "outputs": [],
      "source": [
        "from pkcalc import add, multiply"
      ]
    },
    {
      "cell_type": "code",
      "execution_count": null,
      "id": "be1ba750",
      "metadata": {
        "id": "be1ba750",
        "outputId": "881ef07f-8e34-427f-c2ae-f2fc3ffcec04"
      },
      "outputs": [
        {
          "data": {
            "text/plain": [
              "9"
            ]
          },
          "execution_count": 3,
          "metadata": {},
          "output_type": "execute_result"
        }
      ],
      "source": [
        "add(2, 7)"
      ]
    },
    {
      "cell_type": "code",
      "execution_count": null,
      "id": "e06d28e2",
      "metadata": {
        "id": "e06d28e2"
      },
      "outputs": [],
      "source": [
        "import numpy as np\n",
        "import pandas as pd"
      ]
    },
    {
      "cell_type": "code",
      "execution_count": null,
      "id": "6cb606f3",
      "metadata": {
        "id": "6cb606f3"
      },
      "outputs": [],
      "source": [
        "class Car:\n",
        "    \n",
        "    car_count = 0\n",
        "    \n",
        "    def __init__(self, name, cc, year):\n",
        "        self.__name = name\n",
        "        self.__cc = cc\n",
        "        self.__year = year\n",
        "        Car.car_count += 1\n",
        "        \n",
        "    def get_name(self):\n",
        "        return self.__name\n",
        "    \n",
        "    def set_name(self, name):\n",
        "        self.__name = name\n",
        "        \n",
        "    def display_cc(self):\n",
        "        if self.__cc < 1000:\n",
        "            print(\"소형\")\n",
        "        elif self.__cc <= 2000:\n",
        "            print(\"중형\")\n",
        "        else:\n",
        "            print(\"대형\")\n",
        "            \n",
        "    \n",
        "    def get_car_count(self):\n",
        "        print(self)\n",
        "            "
      ]
    },
    {
      "cell_type": "code",
      "execution_count": null,
      "id": "04599bbd",
      "metadata": {
        "id": "04599bbd"
      },
      "outputs": [],
      "source": [
        "car = Car(\"spark\", 1800, 2021)"
      ]
    },
    {
      "cell_type": "code",
      "execution_count": null,
      "id": "38543a6d",
      "metadata": {
        "id": "38543a6d",
        "outputId": "9fc95609-2410-40e4-d191-7dd1d8807c95"
      },
      "outputs": [
        {
          "name": "stdout",
          "output_type": "stream",
          "text": [
            "<__main__.Car object at 0x000002C777DB3E20>\n"
          ]
        }
      ],
      "source": [
        "car.get_car_count()"
      ]
    },
    {
      "cell_type": "code",
      "execution_count": null,
      "id": "4a7e916f",
      "metadata": {
        "id": "4a7e916f"
      },
      "outputs": [],
      "source": [
        "@classmethod\n",
        "def get_account_num(cls):\n",
        "    print(cls.account_count)     # Account.account_count\n",
        "\n",
        "@classmethod\n",
        "def deposit(self, amount):\n",
        "    if amount >= 1:\n",
        "        self.balance += amount"
      ]
    },
    {
      "cell_type": "code",
      "execution_count": null,
      "id": "8d801095",
      "metadata": {
        "id": "8d801095"
      },
      "outputs": [],
      "source": [
        "import random\n",
        "\n",
        "\n",
        "class Account:\n",
        "    # class variable\n",
        "    account_count = 0\n",
        "\n",
        "    def __init__(self, name, balance):\n",
        "        self.name = name\n",
        "        self.balance = balance\n",
        "        self.bank = \"SC은행\"\n",
        "\n",
        "        # 3-2-6\n",
        "        num1 = random.randint(0, 999)\n",
        "        num2 = random.randint(0, 99)\n",
        "        num3 = random.randint(0, 999999)\n",
        "\n",
        "        num1 = str(num1).zfill(3)  # 1 -> '1' -> '001'\n",
        "        num2 = str(num2).zfill(2)  # 1 -> '1' -> '01'\n",
        "        num3 = str(num3).zfill(6)  # 1 -> '1' -> '0000001'\n",
        "        self.account_number = num1 + '-' + num2 + '-' + num3  # 001-01-000001\n",
        "        Account.account_count += 1\n",
        "\n",
        "    @classmethod\n",
        "    def get_account_num(cls):\n",
        "        print(cls.account_count)  # Account.account_count\n",
        "\n",
        "    def deposit(self, amount):\n",
        "        if amount >= 1:\n",
        "            self.balance += amount\n",
        "            \n",
        "        print(self.account_count)\n",
        "\n",
        "    def withdraw(self, amount):\n",
        "        if self.balance > amount:\n",
        "            self.balance -= amount\n",
        "\n",
        "        "
      ]
    },
    {
      "cell_type": "code",
      "execution_count": null,
      "id": "4eae45e0",
      "metadata": {
        "id": "4eae45e0",
        "outputId": "c66e2018-59b9-410c-c856-3e296c2b9ec4"
      },
      "outputs": [
        {
          "name": "stdout",
          "output_type": "stream",
          "text": [
            "1\n",
            "110\n"
          ]
        }
      ],
      "source": [
        "k = Account(\"kim\", 100)\n",
        "k.deposit(100)\n",
        "k.withdraw(90)\n",
        "print(k.balance)"
      ]
    },
    {
      "cell_type": "code",
      "execution_count": null,
      "id": "c7818277",
      "metadata": {
        "id": "c7818277",
        "outputId": "a4d08896-4a43-485d-d64f-149cfa854981"
      },
      "outputs": [
        {
          "ename": "TypeError",
          "evalue": "deposit() missing 1 required positional argument: 'amount'",
          "output_type": "error",
          "traceback": [
            "\u001b[1;31m---------------------------------------------------------------------------\u001b[0m",
            "\u001b[1;31mTypeError\u001b[0m                                 Traceback (most recent call last)",
            "\u001b[1;32m~\\AppData\\Local\\Temp/ipykernel_7672/1901734286.py\u001b[0m in \u001b[0;36m<module>\u001b[1;34m\u001b[0m\n\u001b[1;32m----> 1\u001b[1;33m \u001b[0mAccount\u001b[0m\u001b[1;33m.\u001b[0m\u001b[0mdeposit\u001b[0m\u001b[1;33m(\u001b[0m\u001b[1;36m100\u001b[0m\u001b[1;33m)\u001b[0m\u001b[1;33m\u001b[0m\u001b[1;33m\u001b[0m\u001b[0m\n\u001b[0m",
            "\u001b[1;31mTypeError\u001b[0m: deposit() missing 1 required positional argument: 'amount'"
          ]
        }
      ],
      "source": [
        "Account.deposit(100)"
      ]
    },
    {
      "cell_type": "code",
      "execution_count": null,
      "id": "5ac53622",
      "metadata": {
        "id": "5ac53622"
      },
      "outputs": [],
      "source": [
        "k.deposit(10000)\n",
        "k.deposit(2300)\n",
        "k.deposit(1000000)"
      ]
    },
    {
      "cell_type": "code",
      "execution_count": null,
      "id": "c9c1ce6f",
      "metadata": {
        "id": "c9c1ce6f",
        "outputId": "bb70f21f-7769-447a-e66c-1b19038f4674"
      },
      "outputs": [
        {
          "data": {
            "text/plain": [
              "1012610"
            ]
          },
          "execution_count": 18,
          "metadata": {},
          "output_type": "execute_result"
        }
      ],
      "source": [
        "b = k.balance\n",
        "b"
      ]
    },
    {
      "cell_type": "code",
      "execution_count": null,
      "id": "d6a9f66e",
      "metadata": {
        "id": "d6a9f66e",
        "outputId": "53bcb31b-b50a-47b8-9e81-b10ab78eee29"
      },
      "outputs": [
        {
          "name": "stdout",
          "output_type": "stream",
          "text": [
            "1012\n",
            "610\n"
          ]
        }
      ],
      "source": [
        "print(b//1000)\n",
        "print(b%1000)\n",
        "\n",
        "# while True:\n",
        "#     b / 1000"
      ]
    },
    {
      "cell_type": "code",
      "execution_count": null,
      "id": "6028b771",
      "metadata": {
        "id": "6028b771",
        "outputId": "625ca3d4-d47f-44a8-f2e6-b7da553e7359"
      },
      "outputs": [
        {
          "data": {
            "text/plain": [
              "['610']"
            ]
          },
          "execution_count": 27,
          "metadata": {},
          "output_type": "execute_result"
        }
      ],
      "source": [
        "quotient = b // 1000\n",
        "remainder = b % 1000\n",
        "\n",
        "new_balance = [\"{:0<3}\".format(remainder)]\n",
        "new_balance"
      ]
    },
    {
      "cell_type": "code",
      "execution_count": null,
      "id": "9db232ac",
      "metadata": {
        "id": "9db232ac",
        "outputId": "79902e63-899c-43e3-a763-8cd1f5c0a22e"
      },
      "outputs": [
        {
          "name": "stdout",
          "output_type": "stream",
          "text": [
            "1012 610 ['610']\n",
            "1 012 ['012', '610']\n",
            "0 1 ['1', '012', '610']\n"
          ]
        },
        {
          "data": {
            "text/plain": [
              "'1,012,610'"
            ]
          },
          "execution_count": 47,
          "metadata": {},
          "output_type": "execute_result"
        }
      ],
      "source": [
        "\n",
        "quotient = b // 1000\n",
        "remainder = b % 1000\n",
        "\n",
        "new_balance = [\"{:0<3}\".format(remainder)]\n",
        "print(quotient, remainder, new_balance)\n",
        "while quotient !=  0:\n",
        "    remainder = quotient % 1000\n",
        "    quotient = quotient // 1000\n",
        "    if quotient != 0:\n",
        "        remainder = \"{:0>3}\".format(remainder)\n",
        "    else:\n",
        "        remainder = \"{}\".format(remainder)\n",
        "    new_balance.insert(0, remainder)\n",
        "    print(quotient, remainder, new_balance)\n",
        "    \n",
        "\",\".join(new_balance)"
      ]
    },
    {
      "cell_type": "code",
      "execution_count": null,
      "id": "7ff83036",
      "metadata": {
        "id": "7ff83036",
        "outputId": "156ffa46-001a-4527-c391-985829d98ae1"
      },
      "outputs": [
        {
          "data": {
            "text/plain": [
              "12"
            ]
          },
          "execution_count": 36,
          "metadata": {},
          "output_type": "execute_result"
        }
      ],
      "source": [
        "1012 % 1000"
      ]
    },
    {
      "cell_type": "code",
      "execution_count": null,
      "id": "a14cf20e",
      "metadata": {
        "id": "a14cf20e",
        "outputId": "e1e03ad3-6f76-43fd-910a-62f687b3be01"
      },
      "outputs": [
        {
          "data": {
            "text/plain": [
              "1"
            ]
          },
          "execution_count": 42,
          "metadata": {},
          "output_type": "execute_result"
        }
      ],
      "source": [
        "remainder = 1 % 1000\n",
        "remainder"
      ]
    },
    {
      "cell_type": "code",
      "execution_count": null,
      "id": "fe2d6441",
      "metadata": {
        "id": "fe2d6441",
        "outputId": "88491a02-d71a-4ad4-97ea-8b86b5f9733d"
      },
      "outputs": [
        {
          "data": {
            "text/plain": [
              "0"
            ]
          },
          "execution_count": 44,
          "metadata": {},
          "output_type": "execute_result"
        }
      ],
      "source": [
        "quotient = 1 // 1000\n",
        "quotient"
      ]
    },
    {
      "cell_type": "code",
      "execution_count": null,
      "id": "b2cfb234",
      "metadata": {
        "id": "b2cfb234",
        "outputId": "0dc70198-4b90-4582-9c4e-f3f26a9db09f"
      },
      "outputs": [
        {
          "data": {
            "text/plain": [
              "'1,012,610'"
            ]
          },
          "execution_count": 49,
          "metadata": {},
          "output_type": "execute_result"
        }
      ],
      "source": [
        "\"{:,}\".format(b)"
      ]
    },
    {
      "cell_type": "code",
      "execution_count": null,
      "id": "279f12ca",
      "metadata": {
        "id": "279f12ca",
        "outputId": "cd736746-d6f4-4dbe-d9f4-512ba17a517d"
      },
      "outputs": [
        {
          "name": "stdout",
          "output_type": "stream",
          "text": [
            "잔고:  1,012,610\n"
          ]
        }
      ],
      "source": [
        "print(\"잔고: \", format(b, ',')) "
      ]
    },
    {
      "cell_type": "code",
      "execution_count": null,
      "id": "ec870833",
      "metadata": {
        "id": "ec870833"
      },
      "outputs": [],
      "source": [
        "f=open(\"매수종목.csv\",mode=\"wt\",encoding=\"cp949\",newline='')"
      ]
    },
    {
      "cell_type": "code",
      "execution_count": null,
      "id": "695f507e",
      "metadata": {
        "id": "695f507e"
      },
      "outputs": [],
      "source": [
        "class Person:\n",
        "    def __init__(self):\n",
        "        self.gender = \"Not reveal\"\n",
        "        self.name = \"\"\n",
        "    \n",
        "    def get_gender(self):\n",
        "        return self.gender\n",
        "    \n",
        "    def get_name(self):\n",
        "        return self.name"
      ]
    },
    {
      "cell_type": "code",
      "execution_count": null,
      "id": "61418f66",
      "metadata": {
        "id": "61418f66"
      },
      "outputs": [],
      "source": [
        "class Male(Person):\n",
        "    def __init__(self):\n",
        "        super().__init__()\n",
        "        self.gender = \"Male\"\n",
        "        \n",
        "    def get_gender(self):\n",
        "        return self.gender\n",
        "        \n",
        "\n",
        "class Female(Person):\n",
        "    def __init__(self):\n",
        "        super().__init__()\n",
        "        self.gender = \"Female\"\n",
        "        \n",
        "    def get_gender(self):\n",
        "        return self.gender\n",
        "        "
      ]
    },
    {
      "cell_type": "code",
      "execution_count": null,
      "id": "fefdf0ca",
      "metadata": {
        "id": "fefdf0ca",
        "outputId": "10023763-208f-48bc-8181-4501c6405914"
      },
      "outputs": [
        {
          "data": {
            "text/plain": [
              "'Male'"
            ]
          },
          "execution_count": 63,
          "metadata": {},
          "output_type": "execute_result"
        }
      ],
      "source": [
        "male = Male()\n",
        "male.get_gender()"
      ]
    },
    {
      "cell_type": "code",
      "execution_count": null,
      "id": "36c965c3",
      "metadata": {
        "id": "36c965c3",
        "outputId": "9820b90d-7fc5-4db3-e953-fd59d7480288"
      },
      "outputs": [
        {
          "data": {
            "text/plain": [
              "'Female'"
            ]
          },
          "execution_count": 64,
          "metadata": {},
          "output_type": "execute_result"
        }
      ],
      "source": [
        "female = Female()\n",
        "female.get_gender()"
      ]
    },
    {
      "cell_type": "code",
      "execution_count": null,
      "id": "bcec13c0",
      "metadata": {
        "id": "bcec13c0"
      },
      "outputs": [],
      "source": [
        "class Character:\n",
        "    def __init__(self):\n",
        "        self.health = 200\n",
        "    \n",
        "    def move(self):\n",
        "        self.health -= 10\n",
        "        \n",
        "    def rest(self):\n",
        "        self.health += 10\n",
        "        \n",
        "    def checkHealth(self):\n",
        "        print(self.health)"
      ]
    },
    {
      "cell_type": "code",
      "execution_count": null,
      "id": "5f80de41",
      "metadata": {
        "id": "5f80de41"
      },
      "outputs": [],
      "source": [
        "class Knight(Character):\n",
        "    def __init__(self):\n",
        "        super().__init__()\n",
        "        \n",
        "    def move(self):\n",
        "        super().move()\n",
        "        self.health -= 5\n",
        "        \n",
        "    def attack(self):\n",
        "        print(\"Attack!!!\")\n",
        "        \n",
        "    \n",
        "    "
      ]
    },
    {
      "cell_type": "code",
      "execution_count": null,
      "id": "89981e15",
      "metadata": {
        "id": "89981e15"
      },
      "outputs": [],
      "source": [
        "class Healer (Character):\n",
        "    def __init__(self):\n",
        "        super().__init__()\n",
        "        self.mana = 100\n",
        "        \n",
        "    def heal(self, char):\n",
        "        char.rest()\n",
        "        self.mana -= 10\n",
        "        \n",
        "    def checkMana(self):\n",
        "        print(f\"mana : {self.mana}\")\n",
        "        \n",
        "        \n",
        "    "
      ]
    },
    {
      "cell_type": "code",
      "execution_count": null,
      "id": "8bcf4a7f",
      "metadata": {
        "id": "8bcf4a7f",
        "outputId": "aea5c303-bf01-4959-ae79-ec4a79aebbc3"
      },
      "outputs": [
        {
          "name": "stdout",
          "output_type": "stream",
          "text": [
            "Attack!!!\n",
            "Attack!!!\n",
            "140\n"
          ]
        }
      ],
      "source": [
        "k = Knight()\n",
        "k.move()\n",
        "k.attack()\n",
        "k.move()\n",
        "k.attack()\n",
        "k.move()\n",
        "k.move()\n",
        "k.checkHealth()"
      ]
    },
    {
      "cell_type": "code",
      "execution_count": null,
      "id": "84aa2d35",
      "metadata": {
        "id": "84aa2d35",
        "outputId": "11c8213c-77ae-4784-c278-dc7400c88086"
      },
      "outputs": [
        {
          "name": "stdout",
          "output_type": "stream",
          "text": [
            "160\n",
            "mana : 80\n"
          ]
        }
      ],
      "source": [
        "h = Healer()\n",
        "h.heal(k)\n",
        "h.heal(k)\n",
        "k.checkHealth()\n",
        "h.checkMana()"
      ]
    },
    {
      "cell_type": "code",
      "execution_count": null,
      "id": "979ae51a",
      "metadata": {
        "id": "979ae51a"
      },
      "outputs": [],
      "source": [
        ""
      ]
    },
    {
      "cell_type": "code",
      "execution_count": null,
      "id": "a501b6c0",
      "metadata": {
        "id": "a501b6c0"
      },
      "outputs": [],
      "source": [
        ""
      ]
    },
    {
      "cell_type": "code",
      "execution_count": null,
      "id": "71f80906",
      "metadata": {
        "id": "71f80906"
      },
      "outputs": [],
      "source": [
        ""
      ]
    }
  ],
  "metadata": {
    "kernelspec": {
      "display_name": "Python 3 (ipykernel)",
      "language": "python",
      "name": "python3"
    },
    "language_info": {
      "codemirror_mode": {
        "name": "ipython",
        "version": 3
      },
      "file_extension": ".py",
      "mimetype": "text/x-python",
      "name": "python",
      "nbconvert_exporter": "python",
      "pygments_lexer": "ipython3",
      "version": "3.9.7"
    },
    "colab": {
      "name": "1217_practice.ipynb",
      "provenance": [],
      "include_colab_link": true
    }
  },
  "nbformat": 4,
  "nbformat_minor": 5
}