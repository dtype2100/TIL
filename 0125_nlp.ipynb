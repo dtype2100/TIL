{
  "cells": [
    {
      "cell_type": "markdown",
      "metadata": {
        "id": "view-in-github",
        "colab_type": "text"
      },
      "source": [
        "<a href=\"https://colab.research.google.com/github/dtype2100/TIL/blob/master/0125_nlp.ipynb\" target=\"_parent\"><img src=\"https://colab.research.google.com/assets/colab-badge.svg\" alt=\"Open In Colab\"/></a>"
      ]
    },
    {
      "cell_type": "code",
      "execution_count": null,
      "id": "33dee36d-11a7-4eac-8cb3-a13475080fe1",
      "metadata": {
        "id": "33dee36d-11a7-4eac-8cb3-a13475080fe1"
      },
      "outputs": [],
      "source": [
        "docs = [\"나는 양념 치킨을 좋아해 하지만 후라이드 치킨을 싫어해\", \n",
        "        \"나는 후라이드 치킨을 좋아해 하지만 양념 치킨을 좋아해\"]"
      ]
    },
    {
      "cell_type": "code",
      "execution_count": null,
      "id": "e408f1f7-4861-4fc5-a4d5-0b04bdeb64c5",
      "metadata": {
        "id": "e408f1f7-4861-4fc5-a4d5-0b04bdeb64c5",
        "outputId": "3bbb0e37-88a9-4ee9-fe27-6ba85a8e32cb"
      },
      "outputs": [
        {
          "data": {
            "text/plain": [
              "[['나는', '양념', '치킨을', '좋아해', '하지만', '후라이드', '치킨을', '싫어해'],\n",
              " ['나는', '후라이드', '치킨을', '좋아해', '하지만', '양념', '치킨을', '좋아해']]"
            ]
          },
          "execution_count": 2,
          "metadata": {},
          "output_type": "execute_result"
        }
      ],
      "source": [
        "doc_ls = [doc.split() for doc in docs ]\n",
        "doc_ls"
      ]
    },
    {
      "cell_type": "code",
      "execution_count": null,
      "id": "d0e1edea-abca-452b-86c0-1313fc2c217e",
      "metadata": {
        "id": "d0e1edea-abca-452b-86c0-1313fc2c217e",
        "outputId": "fdf50024-7cec-4c9c-8246-d5b235234c99"
      },
      "outputs": [
        {
          "data": {
            "text/plain": [
              "defaultdict(<function __main__.<lambda>()>,\n",
              "            {'나는': 0,\n",
              "             '양념': 1,\n",
              "             '치킨을': 2,\n",
              "             '좋아해': 3,\n",
              "             '하지만': 4,\n",
              "             '후라이드': 5,\n",
              "             '싫어해': 6})"
            ]
          },
          "execution_count": 3,
          "metadata": {},
          "output_type": "execute_result"
        }
      ],
      "source": [
        "from collections import defaultdict\n",
        "\n",
        "word2id = defaultdict(lambda : len(word2id))\n",
        "\n",
        "[word2id[token] for doc in doc_ls for token in doc ]\n",
        "word2id"
      ]
    },
    {
      "cell_type": "code",
      "execution_count": null,
      "id": "9c0cfac2-af6a-4a11-b8f9-7d21d8ceab08",
      "metadata": {
        "id": "9c0cfac2-af6a-4a11-b8f9-7d21d8ceab08",
        "outputId": "ab0b3d9a-4b4d-4d30-bf72-09ab67dda6d0"
      },
      "outputs": [
        {
          "data": {
            "text/plain": [
              "[[1, 1, 2, 1, 1, 1, 1], [1, 1, 2, 2, 1, 1, 0]]"
            ]
          },
          "execution_count": 5,
          "metadata": {},
          "output_type": "execute_result"
        }
      ],
      "source": [
        "import numpy as np\n",
        "\n",
        "BoW_ls = []\n",
        "\n",
        "for doc in doc_ls:\n",
        "    bow = np.zeros(len(word2id), dtype=int)\n",
        "    for token in doc:\n",
        "        bow[word2id[token]] += 1\n",
        "    BoW_ls.append(bow.tolist())\n",
        "    \n",
        "BoW_ls"
      ]
    },
    {
      "cell_type": "code",
      "execution_count": null,
      "id": "0d266e1d-4403-48cc-88e6-bafd0272a09e",
      "metadata": {
        "id": "0d266e1d-4403-48cc-88e6-bafd0272a09e",
        "outputId": "736283d0-9a8a-4aac-eb4b-b180b4a63b4a"
      },
      "outputs": [
        {
          "name": "stdout",
          "output_type": "stream",
          "text": [
            "문서 0 : 나는 양념 치킨을 좋아해 하지만 후라이드 치킨을 싫어해\n"
          ]
        },
        {
          "data": {
            "text/html": [
              "<div>\n",
              "<style scoped>\n",
              "    .dataframe tbody tr th:only-of-type {\n",
              "        vertical-align: middle;\n",
              "    }\n",
              "\n",
              "    .dataframe tbody tr th {\n",
              "        vertical-align: top;\n",
              "    }\n",
              "\n",
              "    .dataframe thead th {\n",
              "        text-align: right;\n",
              "    }\n",
              "</style>\n",
              "<table border=\"1\" class=\"dataframe\">\n",
              "  <thead>\n",
              "    <tr style=\"text-align: right;\">\n",
              "      <th></th>\n",
              "      <th>나는</th>\n",
              "      <th>양념</th>\n",
              "      <th>치킨을</th>\n",
              "      <th>좋아해</th>\n",
              "      <th>하지만</th>\n",
              "      <th>후라이드</th>\n",
              "      <th>싫어해</th>\n",
              "    </tr>\n",
              "  </thead>\n",
              "  <tbody>\n",
              "    <tr>\n",
              "      <th>0</th>\n",
              "      <td>1</td>\n",
              "      <td>1</td>\n",
              "      <td>2</td>\n",
              "      <td>1</td>\n",
              "      <td>1</td>\n",
              "      <td>1</td>\n",
              "      <td>1</td>\n",
              "    </tr>\n",
              "  </tbody>\n",
              "</table>\n",
              "</div>"
            ],
            "text/plain": [
              "   나는  양념  치킨을  좋아해  하지만  후라이드  싫어해\n",
              "0   1   1    2    1    1     1    1"
            ]
          },
          "metadata": {},
          "output_type": "display_data"
        },
        {
          "name": "stdout",
          "output_type": "stream",
          "text": [
            "\n",
            "\n",
            "문서 1 : 나는 후라이드 치킨을 좋아해 하지만 양념 치킨을 좋아해\n"
          ]
        },
        {
          "data": {
            "text/html": [
              "<div>\n",
              "<style scoped>\n",
              "    .dataframe tbody tr th:only-of-type {\n",
              "        vertical-align: middle;\n",
              "    }\n",
              "\n",
              "    .dataframe tbody tr th {\n",
              "        vertical-align: top;\n",
              "    }\n",
              "\n",
              "    .dataframe thead th {\n",
              "        text-align: right;\n",
              "    }\n",
              "</style>\n",
              "<table border=\"1\" class=\"dataframe\">\n",
              "  <thead>\n",
              "    <tr style=\"text-align: right;\">\n",
              "      <th></th>\n",
              "      <th>나는</th>\n",
              "      <th>양념</th>\n",
              "      <th>치킨을</th>\n",
              "      <th>좋아해</th>\n",
              "      <th>하지만</th>\n",
              "      <th>후라이드</th>\n",
              "      <th>싫어해</th>\n",
              "    </tr>\n",
              "  </thead>\n",
              "  <tbody>\n",
              "    <tr>\n",
              "      <th>0</th>\n",
              "      <td>1</td>\n",
              "      <td>1</td>\n",
              "      <td>2</td>\n",
              "      <td>2</td>\n",
              "      <td>1</td>\n",
              "      <td>1</td>\n",
              "      <td>0</td>\n",
              "    </tr>\n",
              "  </tbody>\n",
              "</table>\n",
              "</div>"
            ],
            "text/plain": [
              "   나는  양념  치킨을  좋아해  하지만  후라이드  싫어해\n",
              "0   1   1    2    2    1     1    0"
            ]
          },
          "metadata": {},
          "output_type": "display_data"
        },
        {
          "name": "stdout",
          "output_type": "stream",
          "text": [
            "\n",
            "\n"
          ]
        }
      ],
      "source": [
        "import pandas as pd\n",
        "from IPython.core import display as ICD\n",
        "\n",
        "sorted_vocab = sorted((value, key) for key, value in word2id.items())\n",
        "vocab = [v[1] for v in sorted_vocab]\n",
        "for i in range(len(docs)):\n",
        "    print(\"문서 {} : {}\".format(i, docs[i]))\n",
        "    ICD.display(pd.DataFrame([BoW_ls[i]], columns=vocab))\n",
        "    print(\"\\n\")"
      ]
    },
    {
      "cell_type": "code",
      "execution_count": null,
      "id": "4d50a9cc-b916-4160-a4a7-78e2a32157ef",
      "metadata": {
        "id": "4d50a9cc-b916-4160-a4a7-78e2a32157ef",
        "outputId": "bfb86682-77bc-40d8-eddc-914cd46a82d7"
      },
      "outputs": [
        {
          "name": "stdout",
          "output_type": "stream",
          "text": [
            "Collecting gensim\n",
            "  Downloading gensim-4.1.2-cp37-cp37m-win_amd64.whl (24.0 MB)\n",
            "Requirement already satisfied: smart-open>=1.8.1 in c:\\users\\student\\anaconda3\\envs\\nlp\\lib\\site-packages (from gensim) (5.2.1)\n",
            "Requirement already satisfied: numpy>=1.17.0 in c:\\users\\student\\anaconda3\\envs\\nlp\\lib\\site-packages (from gensim) (1.21.5)\n",
            "Requirement already satisfied: scipy>=0.18.1 in c:\\users\\student\\anaconda3\\envs\\nlp\\lib\\site-packages (from gensim) (1.7.3)\n",
            "Collecting Cython==0.29.23\n",
            "  Downloading Cython-0.29.23-cp37-cp37m-win_amd64.whl (1.6 MB)\n",
            "Installing collected packages: Cython, gensim\n",
            "Successfully installed Cython-0.29.23 gensim-4.1.2\n"
          ]
        }
      ],
      "source": [
        "!pip install gensim"
      ]
    },
    {
      "cell_type": "code",
      "execution_count": null,
      "id": "8e5efd7c-b46e-4217-ae91-79e1fa1ffae2",
      "metadata": {
        "id": "8e5efd7c-b46e-4217-ae91-79e1fa1ffae2",
        "outputId": "6a8ab30d-89ff-4980-fa22-250ed27b335e"
      },
      "outputs": [
        {
          "data": {
            "text/plain": [
              "[[(0, 1), (1, 1), (2, 1), (3, 1), (4, 2), (5, 1), (6, 1)],\n",
              " [(0, 1), (2, 1), (3, 2), (4, 2), (5, 1), (6, 1)]]"
            ]
          },
          "execution_count": 10,
          "metadata": {},
          "output_type": "execute_result"
        }
      ],
      "source": [
        "import gensim\n",
        "from gensim import corpora\n",
        "\n",
        "docs = [\"나는 양념 치킨을 좋아해 하지만 후라이드 치킨을 싫어해\", \n",
        "        \"나는 후라이드 치킨을 좋아해 하지만 양념 치킨을 좋아해\"]\n",
        "\n",
        "doc_ls = [doc.split() for doc in docs ]\n",
        "\n",
        "\n",
        "id2word = corpora.Dictionary(doc_ls)\n",
        "BoW =[id2word.doc2bow(doc) for doc in doc_ls]\n",
        "BoW"
      ]
    },
    {
      "cell_type": "code",
      "execution_count": null,
      "id": "aeb253d6-cc86-4c6b-8c0c-26a925afbdb5",
      "metadata": {
        "id": "aeb253d6-cc86-4c6b-8c0c-26a925afbdb5",
        "outputId": "1f719217-fc60-4caa-adeb-dc9bf125ecdb"
      },
      "outputs": [
        {
          "data": {
            "text/plain": [
              "[0, 1, 2, 3, 4, 5, 6]"
            ]
          },
          "execution_count": 11,
          "metadata": {},
          "output_type": "execute_result"
        }
      ],
      "source": [
        "id2word.keys()"
      ]
    },
    {
      "cell_type": "code",
      "execution_count": null,
      "id": "6b87c35c-b9e0-4bdb-97ed-accbc509446c",
      "metadata": {
        "id": "6b87c35c-b9e0-4bdb-97ed-accbc509446c",
        "outputId": "aea5715f-58e5-4b2d-8f3d-c570353dc5a5"
      },
      "outputs": [
        {
          "name": "stdout",
          "output_type": "stream",
          "text": [
            "0 : 나는\n",
            "1 : 싫어해\n",
            "2 : 양념\n",
            "3 : 좋아해\n",
            "4 : 치킨을\n",
            "5 : 하지만\n",
            "6 : 후라이드\n"
          ]
        }
      ],
      "source": [
        "for key in id2word.keys():\n",
        "    print(\"{} : {}\".format(key, id2word[key]))"
      ]
    },
    {
      "cell_type": "code",
      "execution_count": null,
      "id": "1a3dc2b8-ff14-442a-8efa-869fdcb791ca",
      "metadata": {
        "id": "1a3dc2b8-ff14-442a-8efa-869fdcb791ca",
        "outputId": "70b672fa-dcbf-4d92-908b-0ed7919ad7cb"
      },
      "outputs": [
        {
          "data": {
            "text/plain": [
              "array([1., 1., 1., 1., 2., 1., 1.], dtype=float32)"
            ]
          },
          "execution_count": 16,
          "metadata": {},
          "output_type": "execute_result"
        }
      ],
      "source": [
        "from gensim.matutils import sparse2full\n",
        "\n",
        "sparse2full(BoW[0], len(vocab))"
      ]
    },
    {
      "cell_type": "code",
      "execution_count": null,
      "id": "ddce201a-4be9-40b5-89dd-84e3bffc6bc7",
      "metadata": {
        "id": "ddce201a-4be9-40b5-89dd-84e3bffc6bc7",
        "outputId": "d9879c3d-4d5b-4a6a-a0f1-91686177b823"
      },
      "outputs": [
        {
          "name": "stdout",
          "output_type": "stream",
          "text": [
            "문서 0 : 나는 양념 치킨을 좋아해 하지만 후라이드 치킨을 싫어해\n"
          ]
        },
        {
          "data": {
            "text/html": [
              "<div>\n",
              "<style scoped>\n",
              "    .dataframe tbody tr th:only-of-type {\n",
              "        vertical-align: middle;\n",
              "    }\n",
              "\n",
              "    .dataframe tbody tr th {\n",
              "        vertical-align: top;\n",
              "    }\n",
              "\n",
              "    .dataframe thead th {\n",
              "        text-align: right;\n",
              "    }\n",
              "</style>\n",
              "<table border=\"1\" class=\"dataframe\">\n",
              "  <thead>\n",
              "    <tr style=\"text-align: right;\">\n",
              "      <th></th>\n",
              "      <th>나는</th>\n",
              "      <th>싫어해</th>\n",
              "      <th>양념</th>\n",
              "      <th>좋아해</th>\n",
              "      <th>치킨을</th>\n",
              "      <th>하지만</th>\n",
              "      <th>후라이드</th>\n",
              "    </tr>\n",
              "  </thead>\n",
              "  <tbody>\n",
              "    <tr>\n",
              "      <th>0</th>\n",
              "      <td>1.0</td>\n",
              "      <td>1.0</td>\n",
              "      <td>1.0</td>\n",
              "      <td>1.0</td>\n",
              "      <td>2.0</td>\n",
              "      <td>1.0</td>\n",
              "      <td>1.0</td>\n",
              "    </tr>\n",
              "  </tbody>\n",
              "</table>\n",
              "</div>"
            ],
            "text/plain": [
              "    나는  싫어해   양념  좋아해  치킨을  하지만  후라이드\n",
              "0  1.0  1.0  1.0  1.0  2.0  1.0   1.0"
            ]
          },
          "metadata": {},
          "output_type": "display_data"
        },
        {
          "name": "stdout",
          "output_type": "stream",
          "text": [
            "\n",
            "\n",
            "문서 1 : 나는 후라이드 치킨을 좋아해 하지만 양념 치킨을 좋아해\n"
          ]
        },
        {
          "data": {
            "text/html": [
              "<div>\n",
              "<style scoped>\n",
              "    .dataframe tbody tr th:only-of-type {\n",
              "        vertical-align: middle;\n",
              "    }\n",
              "\n",
              "    .dataframe tbody tr th {\n",
              "        vertical-align: top;\n",
              "    }\n",
              "\n",
              "    .dataframe thead th {\n",
              "        text-align: right;\n",
              "    }\n",
              "</style>\n",
              "<table border=\"1\" class=\"dataframe\">\n",
              "  <thead>\n",
              "    <tr style=\"text-align: right;\">\n",
              "      <th></th>\n",
              "      <th>나는</th>\n",
              "      <th>싫어해</th>\n",
              "      <th>양념</th>\n",
              "      <th>좋아해</th>\n",
              "      <th>치킨을</th>\n",
              "      <th>하지만</th>\n",
              "      <th>후라이드</th>\n",
              "    </tr>\n",
              "  </thead>\n",
              "  <tbody>\n",
              "    <tr>\n",
              "      <th>0</th>\n",
              "      <td>1.0</td>\n",
              "      <td>0.0</td>\n",
              "      <td>1.0</td>\n",
              "      <td>2.0</td>\n",
              "      <td>2.0</td>\n",
              "      <td>1.0</td>\n",
              "      <td>1.0</td>\n",
              "    </tr>\n",
              "  </tbody>\n",
              "</table>\n",
              "</div>"
            ],
            "text/plain": [
              "    나는  싫어해   양념  좋아해  치킨을  하지만  후라이드\n",
              "0  1.0  0.0  1.0  2.0  2.0  1.0   1.0"
            ]
          },
          "metadata": {},
          "output_type": "display_data"
        },
        {
          "name": "stdout",
          "output_type": "stream",
          "text": [
            "\n",
            "\n"
          ]
        }
      ],
      "source": [
        "\n",
        "vocab = [id2word[key] for key in id2word.keys()]\n",
        "for i in range(len(docs)):\n",
        "    print(\"문서 {} : {}\".format(i, docs[i]))\n",
        "    ICD.display(pd.DataFrame([sparse2full(BoW[i], len(vocab))], columns=vocab))\n",
        "    print(\"\\n\")"
      ]
    },
    {
      "cell_type": "code",
      "execution_count": null,
      "id": "5c9fd7aa-ce6b-4d6d-9138-0ed3c28f3cbf",
      "metadata": {
        "id": "5c9fd7aa-ce6b-4d6d-9138-0ed3c28f3cbf",
        "outputId": "94541f5c-ce26-4d31-8af8-7720055bfd96"
      },
      "outputs": [
        {
          "data": {
            "text/plain": [
              "array([[0, 0],\n",
              "       [0, 0],\n",
              "       [0, 0],\n",
              "       [0, 0],\n",
              "       [0, 0],\n",
              "       [0, 0],\n",
              "       [0, 0]])"
            ]
          },
          "execution_count": 20,
          "metadata": {},
          "output_type": "execute_result"
        }
      ],
      "source": [
        "TDM = np.zeros((len(word2id), len(doc_ls)), dtype=int)\n",
        "TDM"
      ]
    },
    {
      "cell_type": "code",
      "execution_count": null,
      "id": "c96480dc-0109-4aa9-ac3f-1623cd838af8",
      "metadata": {
        "id": "c96480dc-0109-4aa9-ac3f-1623cd838af8",
        "outputId": "97b8577c-c55e-4dbc-bd71-f3ca441c5c75"
      },
      "outputs": [
        {
          "data": {
            "text/plain": [
              "array([[1, 1],\n",
              "       [1, 1],\n",
              "       [2, 2],\n",
              "       [1, 2],\n",
              "       [1, 1],\n",
              "       [1, 1],\n",
              "       [1, 0]])"
            ]
          },
          "execution_count": 21,
          "metadata": {},
          "output_type": "execute_result"
        }
      ],
      "source": [
        "for i, doc in enumerate(doc_ls):\n",
        "    for token in doc:\n",
        "        TDM[word2id[token], i] += 1\n",
        "TDM"
      ]
    },
    {
      "cell_type": "code",
      "execution_count": null,
      "id": "3a96d5d1-06af-45f5-8d60-4cbfba5432b6",
      "metadata": {
        "id": "3a96d5d1-06af-45f5-8d60-4cbfba5432b6",
        "outputId": "5efaf506-62b3-44db-a878-5a12c175fc44"
      },
      "outputs": [
        {
          "data": {
            "text/html": [
              "<div>\n",
              "<style scoped>\n",
              "    .dataframe tbody tr th:only-of-type {\n",
              "        vertical-align: middle;\n",
              "    }\n",
              "\n",
              "    .dataframe tbody tr th {\n",
              "        vertical-align: top;\n",
              "    }\n",
              "\n",
              "    .dataframe thead th {\n",
              "        text-align: right;\n",
              "    }\n",
              "</style>\n",
              "<table border=\"1\" class=\"dataframe\">\n",
              "  <thead>\n",
              "    <tr style=\"text-align: right;\">\n",
              "      <th></th>\n",
              "      <th>문서0</th>\n",
              "      <th>문서1</th>\n",
              "    </tr>\n",
              "    <tr>\n",
              "      <th>단어</th>\n",
              "      <th></th>\n",
              "      <th></th>\n",
              "    </tr>\n",
              "  </thead>\n",
              "  <tbody>\n",
              "    <tr>\n",
              "      <th>나는</th>\n",
              "      <td>1</td>\n",
              "      <td>1</td>\n",
              "    </tr>\n",
              "    <tr>\n",
              "      <th>양념</th>\n",
              "      <td>1</td>\n",
              "      <td>1</td>\n",
              "    </tr>\n",
              "    <tr>\n",
              "      <th>치킨을</th>\n",
              "      <td>2</td>\n",
              "      <td>2</td>\n",
              "    </tr>\n",
              "    <tr>\n",
              "      <th>좋아해</th>\n",
              "      <td>1</td>\n",
              "      <td>2</td>\n",
              "    </tr>\n",
              "    <tr>\n",
              "      <th>하지만</th>\n",
              "      <td>1</td>\n",
              "      <td>1</td>\n",
              "    </tr>\n",
              "    <tr>\n",
              "      <th>후라이드</th>\n",
              "      <td>1</td>\n",
              "      <td>1</td>\n",
              "    </tr>\n",
              "    <tr>\n",
              "      <th>싫어해</th>\n",
              "      <td>1</td>\n",
              "      <td>0</td>\n",
              "    </tr>\n",
              "  </tbody>\n",
              "</table>\n",
              "</div>"
            ],
            "text/plain": [
              "      문서0  문서1\n",
              "단어            \n",
              "나는      1    1\n",
              "양념      1    1\n",
              "치킨을     2    2\n",
              "좋아해     1    2\n",
              "하지만     1    1\n",
              "후라이드    1    1\n",
              "싫어해     1    0"
            ]
          },
          "execution_count": 27,
          "metadata": {},
          "output_type": "execute_result"
        }
      ],
      "source": [
        "doc_names = ['문서'+str(i) for i in range(len(doc_ls))]\n",
        "sorted_vocab = sorted((value, key) for key, value in word2id.items())\n",
        "vocab = [v[1] for v in sorted_vocab]\n",
        "df_TDM = pd.DataFrame(TDM, columns=doc_names)\n",
        "df_TDM['단어'] = vocab\n",
        "df_TDM.set_index('단어', inplace=True)\n",
        "df_TDM"
      ]
    },
    {
      "cell_type": "code",
      "execution_count": null,
      "id": "828777db-c5fc-4014-ad30-6151599b2574",
      "metadata": {
        "id": "828777db-c5fc-4014-ad30-6151599b2574",
        "outputId": "db66c388-ae00-4d1a-e3a8-6a39be3d3795"
      },
      "outputs": [
        {
          "data": {
            "text/plain": [
              "array([[1, 1, 1, 1, 2, 1, 1],\n",
              "       [1, 0, 1, 2, 2, 1, 1]], dtype=int64)"
            ]
          },
          "execution_count": 28,
          "metadata": {},
          "output_type": "execute_result"
        }
      ],
      "source": [
        "from sklearn.feature_extraction.text import CountVectorizer\n",
        "\n",
        "count_vect = CountVectorizer()\n",
        "DTM = count_vect.fit_transform(docs)\n",
        "DTM.toarray()"
      ]
    },
    {
      "cell_type": "code",
      "execution_count": null,
      "id": "51e4de59-db02-4181-8c6c-0d8d7b16a1a6",
      "metadata": {
        "id": "51e4de59-db02-4181-8c6c-0d8d7b16a1a6",
        "outputId": "61f3a398-22d8-44c4-c668-82dae98ba6e5"
      },
      "outputs": [
        {
          "data": {
            "text/html": [
              "<div>\n",
              "<style scoped>\n",
              "    .dataframe tbody tr th:only-of-type {\n",
              "        vertical-align: middle;\n",
              "    }\n",
              "\n",
              "    .dataframe tbody tr th {\n",
              "        vertical-align: top;\n",
              "    }\n",
              "\n",
              "    .dataframe thead th {\n",
              "        text-align: right;\n",
              "    }\n",
              "</style>\n",
              "<table border=\"1\" class=\"dataframe\">\n",
              "  <thead>\n",
              "    <tr style=\"text-align: right;\">\n",
              "      <th></th>\n",
              "      <th>문서0</th>\n",
              "      <th>문서1</th>\n",
              "    </tr>\n",
              "    <tr>\n",
              "      <th>단어</th>\n",
              "      <th></th>\n",
              "      <th></th>\n",
              "    </tr>\n",
              "  </thead>\n",
              "  <tbody>\n",
              "    <tr>\n",
              "      <th>나는</th>\n",
              "      <td>1</td>\n",
              "      <td>1</td>\n",
              "    </tr>\n",
              "    <tr>\n",
              "      <th>싫어해</th>\n",
              "      <td>1</td>\n",
              "      <td>0</td>\n",
              "    </tr>\n",
              "    <tr>\n",
              "      <th>양념</th>\n",
              "      <td>1</td>\n",
              "      <td>1</td>\n",
              "    </tr>\n",
              "    <tr>\n",
              "      <th>좋아해</th>\n",
              "      <td>1</td>\n",
              "      <td>2</td>\n",
              "    </tr>\n",
              "    <tr>\n",
              "      <th>치킨을</th>\n",
              "      <td>2</td>\n",
              "      <td>2</td>\n",
              "    </tr>\n",
              "    <tr>\n",
              "      <th>하지만</th>\n",
              "      <td>1</td>\n",
              "      <td>1</td>\n",
              "    </tr>\n",
              "    <tr>\n",
              "      <th>후라이드</th>\n",
              "      <td>1</td>\n",
              "      <td>1</td>\n",
              "    </tr>\n",
              "  </tbody>\n",
              "</table>\n",
              "</div>"
            ],
            "text/plain": [
              "      문서0  문서1\n",
              "단어            \n",
              "나는      1    1\n",
              "싫어해     1    0\n",
              "양념      1    1\n",
              "좋아해     1    2\n",
              "치킨을     2    2\n",
              "하지만     1    1\n",
              "후라이드    1    1"
            ]
          },
          "execution_count": 29,
          "metadata": {},
          "output_type": "execute_result"
        }
      ],
      "source": [
        "doc_names = ['문서'+str(i) for i in range(len(doc_ls))]\n",
        "vocab = count_vect.get_feature_names_out()\n",
        "df_TDM = pd.DataFrame(DTM.toarray().T, columns=doc_names)\n",
        "df_TDM['단어'] = vocab\n",
        "df_TDM.set_index('단어', inplace=True)\n",
        "df_TDM"
      ]
    },
    {
      "cell_type": "code",
      "execution_count": null,
      "id": "1292f67e-66cc-4d44-9a4c-0847e0b2c330",
      "metadata": {
        "id": "1292f67e-66cc-4d44-9a4c-0847e0b2c330"
      },
      "outputs": [],
      "source": [
        "docs = [\"오늘 동물원에서 원숭이를 봤어\", \n",
        "       \"오늘 동물원에서 코끼리를 봤어 봤어\",\n",
        "       \"동물원에서 원숭이에게 바나나를 줬어 바나나를\"]"
      ]
    },
    {
      "cell_type": "code",
      "execution_count": null,
      "id": "4a15e255-76b9-4f96-a5f9-b2df80c4ea2c",
      "metadata": {
        "id": "4a15e255-76b9-4f96-a5f9-b2df80c4ea2c",
        "outputId": "da7e47b2-1876-444b-9820-cd1a1d0a0175"
      },
      "outputs": [
        {
          "data": {
            "text/plain": [
              "[['오늘', '동물원에서', '원숭이를', '봤어'],\n",
              " ['오늘', '동물원에서', '코끼리를', '봤어', '봤어'],\n",
              " ['동물원에서', '원숭이에게', '바나나를', '줬어', '바나나를']]"
            ]
          },
          "execution_count": 32,
          "metadata": {},
          "output_type": "execute_result"
        }
      ],
      "source": [
        "doc_ls = [doc.split() for doc in docs]\n",
        "doc_ls"
      ]
    },
    {
      "cell_type": "code",
      "execution_count": null,
      "id": "d18f2a1f-54cc-4449-b3f4-caf5ef1746ee",
      "metadata": {
        "id": "d18f2a1f-54cc-4449-b3f4-caf5ef1746ee",
        "outputId": "f516dd05-5248-4ebd-b01b-d048f129bff7"
      },
      "outputs": [
        {
          "data": {
            "text/plain": [
              "defaultdict(<function __main__.<lambda>()>,\n",
              "            {'오늘': 0,\n",
              "             '동물원에서': 1,\n",
              "             '원숭이를': 2,\n",
              "             '봤어': 3,\n",
              "             '코끼리를': 4,\n",
              "             '원숭이에게': 5,\n",
              "             '바나나를': 6,\n",
              "             '줬어': 7})"
            ]
          },
          "execution_count": 34,
          "metadata": {},
          "output_type": "execute_result"
        }
      ],
      "source": [
        "from collections import defaultdict\n",
        "\n",
        "word2id = defaultdict(lambda : len(word2id))\n",
        "[word2id[token] for doc in doc_ls for token in doc]\n",
        "word2id"
      ]
    },
    {
      "cell_type": "code",
      "execution_count": null,
      "id": "d932576f-b356-4f2b-9b17-e3dca2044a98",
      "metadata": {
        "id": "d932576f-b356-4f2b-9b17-e3dca2044a98",
        "outputId": "50cf9c41-25f9-46c4-f47e-58665647cd3d"
      },
      "outputs": [
        {
          "data": {
            "text/plain": [
              "array([[0, 0, 0, 0, 0, 0, 0, 0],\n",
              "       [0, 0, 0, 0, 0, 0, 0, 0],\n",
              "       [0, 0, 0, 0, 0, 0, 0, 0]])"
            ]
          },
          "execution_count": 36,
          "metadata": {},
          "output_type": "execute_result"
        }
      ],
      "source": [
        "DTM = np.zeros((len(doc_ls), len(word2id)), dtype=int)\n",
        "DTM"
      ]
    },
    {
      "cell_type": "code",
      "execution_count": null,
      "id": "9f23a6d0-667f-4552-bc73-4c3230ba3223",
      "metadata": {
        "id": "9f23a6d0-667f-4552-bc73-4c3230ba3223",
        "outputId": "f45d8557-674c-4dac-d497-c35f1d1527dd"
      },
      "outputs": [
        {
          "data": {
            "text/plain": [
              "array([[1, 1, 1, 1, 0, 0, 0, 0],\n",
              "       [1, 1, 0, 2, 1, 0, 0, 0],\n",
              "       [0, 1, 0, 0, 0, 1, 2, 1]])"
            ]
          },
          "execution_count": 37,
          "metadata": {},
          "output_type": "execute_result"
        }
      ],
      "source": [
        "for i, doc in enumerate(doc_ls):\n",
        "    for token in doc:\n",
        "        DTM[i, word2id[token]] += 1\n",
        "DTM"
      ]
    },
    {
      "cell_type": "code",
      "execution_count": null,
      "id": "330c8c42-8fbc-4f59-9787-f622216f8f9a",
      "metadata": {
        "id": "330c8c42-8fbc-4f59-9787-f622216f8f9a",
        "outputId": "de19c0bc-7908-4637-d9ae-d586d52a9e48"
      },
      "outputs": [
        {
          "data": {
            "text/plain": [
              "4"
            ]
          },
          "execution_count": 39,
          "metadata": {},
          "output_type": "execute_result"
        }
      ],
      "source": [
        "DTM[0].sum()"
      ]
    },
    {
      "cell_type": "code",
      "execution_count": null,
      "id": "4d4e5f9b-aac0-4b5c-b8d9-2367a901f18d",
      "metadata": {
        "id": "4d4e5f9b-aac0-4b5c-b8d9-2367a901f18d",
        "outputId": "5289b96a-5ee9-43bc-fbef-977dddf0ff71"
      },
      "outputs": [
        {
          "data": {
            "text/plain": [
              "array([[0.25, 0.25, 0.25, 0.25, 0.  , 0.  , 0.  , 0.  ],\n",
              "       [0.2 , 0.2 , 0.  , 0.4 , 0.2 , 0.  , 0.  , 0.  ],\n",
              "       [0.  , 0.2 , 0.  , 0.  , 0.  , 0.2 , 0.4 , 0.2 ]])"
            ]
          },
          "execution_count": 45,
          "metadata": {},
          "output_type": "execute_result"
        }
      ],
      "source": [
        "TF = np.zeros((len(doc_ls), len(word2id)))\n",
        "\n",
        "doc_len = len(doc_ls)\n",
        "word_len = len(word2id)\n",
        "\n",
        "for i  in range(doc_len):\n",
        "    sum_doc = DTM[i].sum()\n",
        "    for j in range(word_len):\n",
        "        TF[i, j] = DTM[i, j] / float(sum_doc)\n",
        "        \n",
        "        \n",
        "TF"
      ]
    },
    {
      "cell_type": "code",
      "execution_count": null,
      "id": "1c5ff938-00fc-466c-bd83-cf62581154ba",
      "metadata": {
        "id": "1c5ff938-00fc-466c-bd83-cf62581154ba",
        "outputId": "3f98e51d-8ecc-4fac-f316-f2fe204b7af3"
      },
      "outputs": [
        {
          "data": {
            "text/plain": [
              "array([1, 2, 0])"
            ]
          },
          "execution_count": 49,
          "metadata": {},
          "output_type": "execute_result"
        }
      ],
      "source": [
        "DTM[:, 3]"
      ]
    },
    {
      "cell_type": "code",
      "execution_count": null,
      "id": "321b0428-affd-4a29-b81e-cc154d4ba543",
      "metadata": {
        "id": "321b0428-affd-4a29-b81e-cc154d4ba543",
        "outputId": "aa0b346b-d72f-4339-cf4f-780718ffb84b"
      },
      "outputs": [
        {
          "data": {
            "text/plain": [
              "array([ 0.17609126, -0.        ,  0.47712125,  0.17609126,  0.47712125,\n",
              "        0.47712125,  0.47712125,  0.47712125])"
            ]
          },
          "execution_count": 51,
          "metadata": {},
          "output_type": "execute_result"
        }
      ],
      "source": [
        "import math\n",
        "\n",
        "IDF = np.zeros(word_len)\n",
        "for i in range(word_len):\n",
        "    IDF[i] = -math.log10(np.count_nonzero([DTM[:, i]])  / doc_len)\n",
        "    \n",
        "IDF\n"
      ]
    },
    {
      "cell_type": "code",
      "execution_count": null,
      "id": "1b6ce526-e8f8-436f-8e27-812a97f1a9a5",
      "metadata": {
        "id": "1b6ce526-e8f8-436f-8e27-812a97f1a9a5",
        "outputId": "7c32c547-2bd3-42db-ace8-f79f10f31640"
      },
      "outputs": [
        {
          "data": {
            "text/plain": [
              "array([[0., 0., 0., 0., 0., 0., 0., 0.],\n",
              "       [0., 0., 0., 0., 0., 0., 0., 0.],\n",
              "       [0., 0., 0., 0., 0., 0., 0., 0.]])"
            ]
          },
          "execution_count": 52,
          "metadata": {},
          "output_type": "execute_result"
        }
      ],
      "source": [
        "TFIDF = np.zeros(TF.shape)\n",
        "TFIDF"
      ]
    },
    {
      "cell_type": "code",
      "execution_count": null,
      "id": "a085166e-516e-444b-be96-892e687a65bd",
      "metadata": {
        "id": "a085166e-516e-444b-be96-892e687a65bd",
        "outputId": "65c1430e-a784-4816-9b48-bf6be7483b2b"
      },
      "outputs": [
        {
          "data": {
            "text/plain": [
              "array([[ 0.04402281, -0.        ,  0.11928031,  0.04402281,  0.        ,\n",
              "         0.        ,  0.        ,  0.        ],\n",
              "       [ 0.03521825, -0.        ,  0.        ,  0.0704365 ,  0.09542425,\n",
              "         0.        ,  0.        ,  0.        ],\n",
              "       [ 0.        , -0.        ,  0.        ,  0.        ,  0.        ,\n",
              "         0.09542425,  0.1908485 ,  0.09542425]])"
            ]
          },
          "execution_count": 53,
          "metadata": {},
          "output_type": "execute_result"
        }
      ],
      "source": [
        "for i in range(doc_len):\n",
        "    for j in range(word_len):\n",
        "        TFIDF[i, j] = TF[i, j] * IDF[j]\n",
        "        \n",
        "TFIDF"
      ]
    },
    {
      "cell_type": "code",
      "execution_count": null,
      "id": "e8911739-a560-4b22-b7e3-221e71acbe9d",
      "metadata": {
        "id": "e8911739-a560-4b22-b7e3-221e71acbe9d"
      },
      "outputs": [],
      "source": [
        ""
      ]
    }
  ],
  "metadata": {
    "kernelspec": {
      "display_name": "nlp",
      "language": "python",
      "name": "nlp"
    },
    "language_info": {
      "codemirror_mode": {
        "name": "ipython",
        "version": 3
      },
      "file_extension": ".py",
      "mimetype": "text/x-python",
      "name": "python",
      "nbconvert_exporter": "python",
      "pygments_lexer": "ipython3",
      "version": "3.7.11"
    },
    "colab": {
      "name": "0125_nlp.ipynb",
      "provenance": [],
      "include_colab_link": true
    }
  },
  "nbformat": 4,
  "nbformat_minor": 5
}