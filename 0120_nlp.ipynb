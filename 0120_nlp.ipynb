{
  "cells": [
    {
      "cell_type": "markdown",
      "metadata": {
        "id": "view-in-github",
        "colab_type": "text"
      },
      "source": [
        "<a href=\"https://colab.research.google.com/github/dtype2100/TIL/blob/master/0120_nlp.ipynb\" target=\"_parent\"><img src=\"https://colab.research.google.com/assets/colab-badge.svg\" alt=\"Open In Colab\"/></a>"
      ]
    },
    {
      "cell_type": "code",
      "execution_count": null,
      "id": "e514a36f-d9b7-4545-90d4-7a5cdafff7c7",
      "metadata": {
        "id": "e514a36f-d9b7-4545-90d4-7a5cdafff7c7",
        "outputId": "617d26d2-d554-4dd2-8895-c8ebaaca4e47"
      },
      "outputs": [
        {
          "data": {
            "text/plain": [
              "'C:\\\\Users\\\\student\\\\anaconda3\\\\envs\\\\nlp\\\\python.exe'"
            ]
          },
          "execution_count": 1,
          "metadata": {},
          "output_type": "execute_result"
        }
      ],
      "source": [
        "import sys\n",
        "sys.executable"
      ]
    },
    {
      "cell_type": "code",
      "execution_count": null,
      "id": "59f421f7-8d58-4259-99a7-573650bffee8",
      "metadata": {
        "id": "59f421f7-8d58-4259-99a7-573650bffee8",
        "outputId": "87e92837-e3a7-407b-e120-f633e9f0ed98"
      },
      "outputs": [
        {
          "name": "stdout",
          "output_type": "stream",
          "text": [
            "Collecting nltk\n",
            "  Downloading nltk-3.6.7-py3-none-any.whl (1.5 MB)\n",
            "Collecting joblib\n",
            "  Downloading joblib-1.1.0-py2.py3-none-any.whl (306 kB)\n",
            "Collecting click\n",
            "  Downloading click-8.0.3-py3-none-any.whl (97 kB)\n",
            "Collecting regex>=2021.8.3\n",
            "  Downloading regex-2022.1.18-cp37-cp37m-win_amd64.whl (272 kB)\n",
            "Collecting tqdm\n",
            "  Downloading tqdm-4.62.3-py2.py3-none-any.whl (76 kB)\n",
            "Collecting importlib-metadata\n",
            "  Downloading importlib_metadata-4.10.1-py3-none-any.whl (17 kB)\n",
            "Requirement already satisfied: colorama in c:\\users\\student\\anaconda3\\envs\\nlp\\lib\\site-packages (from click->nltk) (0.4.4)\n",
            "Collecting typing-extensions>=3.6.4\n",
            "  Downloading typing_extensions-4.0.1-py3-none-any.whl (22 kB)\n",
            "Collecting zipp>=0.5\n",
            "  Downloading zipp-3.7.0-py3-none-any.whl (5.3 kB)\n",
            "Installing collected packages: zipp, typing-extensions, importlib-metadata, tqdm, regex, joblib, click, nltk\n",
            "Successfully installed click-8.0.3 importlib-metadata-4.10.1 joblib-1.1.0 nltk-3.6.7 regex-2022.1.18 tqdm-4.62.3 typing-extensions-4.0.1 zipp-3.7.0\n"
          ]
        }
      ],
      "source": [
        "!pip install nltk"
      ]
    },
    {
      "cell_type": "code",
      "execution_count": null,
      "id": "71a94263-c42c-4e95-88d6-237ad180a7fb",
      "metadata": {
        "id": "71a94263-c42c-4e95-88d6-237ad180a7fb",
        "outputId": "ae098742-eea9-4288-b4ed-cbd6c6d05c95"
      },
      "outputs": [
        {
          "name": "stderr",
          "output_type": "stream",
          "text": [
            "[nltk_data] Downloading package punkt to\n",
            "[nltk_data]     C:\\Users\\student\\AppData\\Roaming\\nltk_data...\n",
            "[nltk_data]   Package punkt is already up-to-date!\n"
          ]
        },
        {
          "data": {
            "text/plain": [
              "True"
            ]
          },
          "execution_count": 2,
          "metadata": {},
          "output_type": "execute_result"
        }
      ],
      "source": [
        "import nltk\n",
        "nltk.download('punkt')"
      ]
    },
    {
      "cell_type": "code",
      "execution_count": null,
      "id": "232061a5-4c41-4236-8c7c-2f8f91c1d57a",
      "metadata": {
        "id": "232061a5-4c41-4236-8c7c-2f8f91c1d57a"
      },
      "outputs": [],
      "source": [
        "import requests\n",
        "from bs4 import BeautifulSoup\n",
        "\n",
        "url = \"https://www.forbes.com/sites/adrianbridgwater/2019/04/15/what-drove-the-ai-renaissance/?sh=241229d11f25\"\n"
      ]
    },
    {
      "cell_type": "code",
      "execution_count": null,
      "id": "d0e24531-4302-4bd9-b9b2-f1a8a004322a",
      "metadata": {
        "id": "d0e24531-4302-4bd9-b9b2-f1a8a004322a"
      },
      "outputs": [],
      "source": [
        ""
      ]
    },
    {
      "cell_type": "code",
      "execution_count": null,
      "id": "432b7687-2235-433c-a6e2-3d8d94d88ab2",
      "metadata": {
        "id": "432b7687-2235-433c-a6e2-3d8d94d88ab2",
        "outputId": "f53e8add-c716-4803-a1ff-1f8f7ecd7396"
      },
      "outputs": [
        {
          "data": {
            "text/plain": [
              "23"
            ]
          },
          "execution_count": 4,
          "metadata": {},
          "output_type": "execute_result"
        }
      ],
      "source": [
        "resp = requests.get(url)\n",
        "soup = BeautifulSoup(resp.text, 'html.parser')\n",
        "eng_news = soup.select(\".article-body p\")\n",
        "len(eng_news)"
      ]
    },
    {
      "cell_type": "code",
      "execution_count": null,
      "id": "910e76e6-732b-4baf-89ee-3ec92e92056f",
      "metadata": {
        "id": "910e76e6-732b-4baf-89ee-3ec92e92056f",
        "outputId": "60c6ad86-b6b2-4fe7-cef3-00721c91db1c"
      },
      "outputs": [
        {
          "data": {
            "text/plain": [
              "['It is the present-day darling of the tech world. The current renaissance of Artificial Intelligence (AI) with its sister discipline Machine Learning (ML) has led every IT firm worth its salt to engineer some form of AI onto its platform, into its toolsets and throughout its software applications.',\n",
              " 'IBM CEO Ginni Rometty has already proclaimed that AI will change 100 percent of jobs over the next decade.',\n",
              " \"And yes, she does mean everybody's job from yours to mine and onward to the role of grain farmers in Egypt, pastry chefs in Paris and dog walkers in Oregon i.e. every job. We will now be able to help direct all workers’ actions and behavior with a new degree of intelligence that comes from predictive analytics, all stemming from the AI engines we will now increasingly depend upon.\",\n",
              " 'When did it all go so right?',\n",
              " 'But AI used to be a fanciful notion mostly confined science fiction, so when did it all go right?',\n",
              " 'In recent years we’ve had some big changes in technology. Aside from the proliferation of mobile devices that has impacted us all, memory has become a lot cheaper, data storage has become a lot easier (in cloud, and elsewhere) and computer processing speeds have continued to outstrip previous records. With the power of quantum computing around the corner, is the AI renaissance simply a result of the coming together of these ‘tech ingredient’ forces?',\n",
              " \"“It isn't just massive compute power. There are important algorithmic changes that have been developed. Plus, it is much easier to gain access to more data in an Internet-connected world,” said Ted Dunning, CTO at data platform, AI and analytics company MapR. “All three aspects (compute, algorithms, data) combine to make todays machine learning possible. Also and quite frankly, a lot of applications only need data availability... we could have implemented them 25 years ago pretty easily if the data had been available and the output of the model could have been integrated back into the business flow.”\",\n",
              " 'So, in many ways, Dunning really heralds the modern era of the web as the key facilitator for the new age of AI. Information has become not just ubiquitous; it has also become easier to access and more accurately classified into structured, semi-structured and unstructured data in its rawest form.',\n",
              " 'Tuning AI towards life']"
            ]
          },
          "execution_count": 10,
          "metadata": {},
          "output_type": "execute_result"
        }
      ],
      "source": [
        "article  = [p.text for p in eng_news[1:10]]\n",
        "article"
      ]
    },
    {
      "cell_type": "code",
      "execution_count": null,
      "id": "f71eb5e5-e2cf-4015-b298-93d433935d23",
      "metadata": {
        "id": "f71eb5e5-e2cf-4015-b298-93d433935d23",
        "outputId": "c920af7e-b191-4ce6-dc68-ea0d7898f74f"
      },
      "outputs": [
        {
          "name": "stdout",
          "output_type": "stream",
          "text": [
            "It is the present-day darling of the tech world. The current renaissance of Artificial Intelligence (AI) with its sister discipline Machine Learning (ML) has led every IT firm worth its salt to engineer some form of AI onto its platform, into its toolsets and throughout its software applications.\n",
            "IBM CEO Ginni Rometty has already proclaimed that AI will change 100 percent of jobs over the next decade.\n",
            "And yes, she does mean everybody's job from yours to mine and onward to the role of grain farmers in Egypt, pastry chefs in Paris and dog walkers in Oregon i.e. every job. We will now be able to help direct all workers’ actions and behavior with a new degree of intelligence that comes from predictive analytics, all stemming from the AI engines we will now increasingly depend upon.\n",
            "When did it all go so right?\n",
            "But AI used to be a fanciful notion mostly confined science fiction, so when did it all go right?\n",
            "In recent years we’ve had some big changes in technology. Aside from the proliferation of mobile devices that has impacted us all, memory has become a lot cheaper, data storage has become a lot easier (in cloud, and elsewhere) and computer processing speeds have continued to outstrip previous records. With the power of quantum computing around the corner, is the AI renaissance simply a result of the coming together of these ‘tech ingredient’ forces?\n",
            "“It isn't just massive compute power. There are important algorithmic changes that have been developed. Plus, it is much easier to gain access to more data in an Internet-connected world,” said Ted Dunning, CTO at data platform, AI and analytics company MapR. “All three aspects (compute, algorithms, data) combine to make todays machine learning possible. Also and quite frankly, a lot of applications only need data availability... we could have implemented them 25 years ago pretty easily if the data had been available and the output of the model could have been integrated back into the business flow.”\n",
            "So, in many ways, Dunning really heralds the modern era of the web as the key facilitator for the new age of AI. Information has become not just ubiquitous; it has also become easier to access and more accurately classified into structured, semi-structured and unstructured data in its rawest form.\n",
            "Tuning AI towards life\n"
          ]
        }
      ],
      "source": [
        "text = \"\\n\".join(article)\n",
        "print(text)"
      ]
    },
    {
      "cell_type": "code",
      "execution_count": null,
      "id": "ead48ea0-bff2-4960-a78d-38198c542e89",
      "metadata": {
        "id": "ead48ea0-bff2-4960-a78d-38198c542e89",
        "outputId": "c11d257c-4444-4aed-c6d0-7e888ad7f7cd"
      },
      "outputs": [
        {
          "name": "stdout",
          "output_type": "stream",
          "text": [
            "['It', 'is', 'the', 'present-day', 'darling', 'of', 'the', 'tech', 'world', '.', 'The', 'current', 'renaissance', 'of', 'Artificial', 'Intelligence', '(', 'AI', ')', 'with', 'its', 'sister', 'discipline', 'Machine', 'Learning', '(', 'ML', ')', 'has', 'led']\n"
          ]
        }
      ],
      "source": [
        "from nltk.tokenize import word_tokenize\n",
        "word_tokens = word_tokenize(text)\n",
        "print(word_tokens[:30])"
      ]
    },
    {
      "cell_type": "code",
      "execution_count": null,
      "id": "7212c779-e0e5-4b36-a53c-a7b6fde723dc",
      "metadata": {
        "id": "7212c779-e0e5-4b36-a53c-a7b6fde723dc",
        "outputId": "3c5a113d-b105-47ad-8acb-77f4c1e690d4"
      },
      "outputs": [
        {
          "name": "stdout",
          "output_type": "stream",
          "text": [
            "['Good', 'muffins', 'cost', '$', '3.88', 'in', 'New', 'York', '.', 'Please', 'buy', 'me', 'two', 'of', 'them', '.', 'Thanks', '.']\n"
          ]
        }
      ],
      "source": [
        "text = 'Good muffins cost $3.88\\nin New York. Please buy me\\ntwo of them.\\n\\nThanks.'\n",
        "print(word_tokenize(text))"
      ]
    },
    {
      "cell_type": "code",
      "execution_count": null,
      "id": "8647993f-c840-4c27-8c52-529d68924743",
      "metadata": {
        "id": "8647993f-c840-4c27-8c52-529d68924743",
        "outputId": "0262b534-6eee-4c85-eb74-a619531032b6"
      },
      "outputs": [
        {
          "name": "stdout",
          "output_type": "stream",
          "text": [
            "['Good', 'muffins', 'cost', '$', '3', '.', '88', 'in', 'New', 'York', '.', 'Please', 'buy', 'me', 'two', 'of', 'them', '.', 'Thanks', '.']\n"
          ]
        }
      ],
      "source": [
        "from nltk.tokenize import WordPunctTokenizer\n",
        "print(WordPunctTokenizer().tokenize(text))"
      ]
    },
    {
      "cell_type": "code",
      "execution_count": null,
      "id": "0343fb94-192f-4903-9e1c-22df0fa59895",
      "metadata": {
        "id": "0343fb94-192f-4903-9e1c-22df0fa59895"
      },
      "outputs": [],
      "source": [
        "from nltk.tokenize import TreebankWordTokenizer\n",
        "word_tokens = TreebankWordTokenizer().tokenize(text)"
      ]
    },
    {
      "cell_type": "code",
      "execution_count": null,
      "id": "f243d0db-4112-4d07-89e2-289bc5319f64",
      "metadata": {
        "id": "f243d0db-4112-4d07-89e2-289bc5319f64",
        "outputId": "ad22500d-a3bb-43f5-8996-1b5829167298"
      },
      "outputs": [
        {
          "name": "stderr",
          "output_type": "stream",
          "text": [
            "[nltk_data] Downloading package averaged_perceptron_tagger to\n",
            "[nltk_data]     C:\\Users\\student\\AppData\\Roaming\\nltk_data...\n",
            "[nltk_data]   Unzipping taggers\\averaged_perceptron_tagger.zip.\n"
          ]
        },
        {
          "data": {
            "text/plain": [
              "True"
            ]
          },
          "execution_count": 22,
          "metadata": {},
          "output_type": "execute_result"
        }
      ],
      "source": [
        "nltk.download('averaged_perceptron_tagger')"
      ]
    },
    {
      "cell_type": "code",
      "execution_count": null,
      "id": "d5a5d415-7fc0-4c72-b5fe-6c06d4b82ebf",
      "metadata": {
        "id": "d5a5d415-7fc0-4c72-b5fe-6c06d4b82ebf"
      },
      "outputs": [],
      "source": [
        "from nltk import pos_tag\n",
        "pos_tagged = pos_tag(word_tokens)"
      ]
    },
    {
      "cell_type": "code",
      "execution_count": null,
      "id": "517be9b4-a67f-48f0-9e3a-edd302a15170",
      "metadata": {
        "id": "517be9b4-a67f-48f0-9e3a-edd302a15170",
        "outputId": "4b61eb07-ec7b-4905-830c-b816273b9a08"
      },
      "outputs": [
        {
          "data": {
            "text/plain": [
              "['muffins', 'New', 'York.', 'Please', 'Thanks']"
            ]
          },
          "execution_count": 27,
          "metadata": {},
          "output_type": "execute_result"
        }
      ],
      "source": [
        "nouns = []\n",
        "for word, pos in pos_tagged:\n",
        "    if pos[0] == 'N':\n",
        "        nouns.append(word)\n",
        "        \n",
        "nouns"
      ]
    },
    {
      "cell_type": "code",
      "execution_count": null,
      "id": "45e518c5-d4b7-436a-a82a-496176b00df6",
      "metadata": {
        "id": "45e518c5-d4b7-436a-a82a-496176b00df6",
        "outputId": "a651c083-2239-4657-830f-1a2d75700ff8"
      },
      "outputs": [
        {
          "data": {
            "text/plain": [
              "[('Good', 'JJ'),\n",
              " ('muffins', 'NNS'),\n",
              " ('cost', 'VBP'),\n",
              " ('$', '$'),\n",
              " ('3.88', 'CD'),\n",
              " ('in', 'IN'),\n",
              " ('New', 'NNP'),\n",
              " ('York.', 'NNP'),\n",
              " ('Please', 'NNP'),\n",
              " ('buy', 'VB'),\n",
              " ('me', 'PRP'),\n",
              " ('two', 'CD'),\n",
              " ('of', 'IN'),\n",
              " ('them.', 'JJ'),\n",
              " ('Thanks', 'NNP'),\n",
              " ('.', '.')]"
            ]
          },
          "execution_count": 30,
          "metadata": {},
          "output_type": "execute_result"
        }
      ],
      "source": [
        "pos_tagged"
      ]
    },
    {
      "cell_type": "code",
      "execution_count": null,
      "id": "973b8765-8f3f-44c2-8d0b-ed2f1b9856a7",
      "metadata": {
        "id": "973b8765-8f3f-44c2-8d0b-ed2f1b9856a7"
      },
      "outputs": [],
      "source": [
        "n = list()\n",
        "for token in pos_tagged:\n",
        "    if token[-1].startswith(\"N\"):\n",
        "        n.append(token[0])\n",
        "n"
      ]
    }
  ],
  "metadata": {
    "kernelspec": {
      "display_name": "nlp",
      "language": "python",
      "name": "nlp"
    },
    "language_info": {
      "codemirror_mode": {
        "name": "ipython",
        "version": 3
      },
      "file_extension": ".py",
      "mimetype": "text/x-python",
      "name": "python",
      "nbconvert_exporter": "python",
      "pygments_lexer": "ipython3",
      "version": "3.7.11"
    },
    "colab": {
      "name": "0120_nlp.ipynb",
      "provenance": [],
      "include_colab_link": true
    }
  },
  "nbformat": 4,
  "nbformat_minor": 5
}