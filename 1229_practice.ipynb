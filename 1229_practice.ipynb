{
  "cells": [
    {
      "cell_type": "markdown",
      "metadata": {
        "id": "view-in-github",
        "colab_type": "text"
      },
      "source": [
        "<a href=\"https://colab.research.google.com/github/dtype2100/TIL/blob/master/1229_practice.ipynb\" target=\"_parent\"><img src=\"https://colab.research.google.com/assets/colab-badge.svg\" alt=\"Open In Colab\"/></a>"
      ]
    },
    {
      "cell_type": "code",
      "execution_count": null,
      "id": "b2ae9cf3-2b52-411c-bd6a-6a083394e192",
      "metadata": {
        "id": "b2ae9cf3-2b52-411c-bd6a-6a083394e192"
      },
      "outputs": [],
      "source": [
        "import requests\n",
        "from bs4 import BeautifulSoup"
      ]
    },
    {
      "cell_type": "code",
      "execution_count": null,
      "id": "139558a5-865d-428a-8126-62066e27e517",
      "metadata": {
        "id": "139558a5-865d-428a-8126-62066e27e517"
      },
      "outputs": [],
      "source": [
        "url = \"https://scrapying-study.firebaseapp.com/03/\"\n",
        "resp = requests.get(url)\n",
        "html = BeautifulSoup(resp.text, \"html.parser\")\n"
      ]
    },
    {
      "cell_type": "code",
      "execution_count": null,
      "id": "3ca7f9b1-2d0f-441c-ad28-69afc639ef59",
      "metadata": {
        "id": "3ca7f9b1-2d0f-441c-ad28-69afc639ef59"
      },
      "outputs": [],
      "source": [
        "lis = html.select(\"#popularItemList > li\")\n",
        "lis"
      ]
    },
    {
      "cell_type": "code",
      "execution_count": null,
      "id": "039c6345-0b78-4487-bf30-f665c74fd31d",
      "metadata": {
        "id": "039c6345-0b78-4487-bf30-f665c74fd31d"
      },
      "outputs": [],
      "source": [
        "total = []\n",
        "for li in lis:\n",
        "    temp = []\n",
        "    temp.append(li.select_one(\"a\").text)\n",
        "    temp.append(li.select_one(\"span\").text)\n",
        "    total.append(temp)"
      ]
    },
    {
      "cell_type": "code",
      "execution_count": null,
      "id": "6f9c446c-0a62-480a-bdbe-f4feb6951be8",
      "metadata": {
        "id": "6f9c446c-0a62-480a-bdbe-f4feb6951be8"
      },
      "outputs": [],
      "source": [
        "total"
      ]
    },
    {
      "cell_type": "code",
      "execution_count": null,
      "id": "b89fca98-c522-4ee6-abba-3678da141734",
      "metadata": {
        "id": "b89fca98-c522-4ee6-abba-3678da141734"
      },
      "outputs": [],
      "source": [
        "def upanddown(a):\n",
        "    if a=='up':\n",
        "        return \"상한\"\n",
        "    elif a=='dn':\n",
        "        return \"하한\"\n",
        "    \n",
        "lst_upndown=[]\n",
        "for li_1 in lis_1:\n",
        "    li_lst_upndown=[]\n",
        "    name=li_1.select_one('a').text\n",
        "    upndown=li_1.select_one('.up').text.map(upanddown)\n",
        "    li_lst_upndown.append(name)\n",
        "    li_lst_upndown.append(upndown)\n",
        "    lst_upndown.append(li_lst_upndown)\n",
        "lst_upndown\n"
      ]
    },
    {
      "cell_type": "code",
      "execution_count": null,
      "id": "ad4576d4-ce48-43d6-9ddf-cebc4a4c99fd",
      "metadata": {
        "id": "ad4576d4-ce48-43d6-9ddf-cebc4a4c99fd"
      },
      "outputs": [],
      "source": [
        "total = []\n",
        "for li in lis:\n",
        "    print(li.attrs['class'])"
      ]
    },
    {
      "cell_type": "code",
      "execution_count": null,
      "id": "d107d591-693c-4e46-9b7f-54cc88d24661",
      "metadata": {
        "id": "d107d591-693c-4e46-9b7f-54cc88d24661"
      },
      "outputs": [],
      "source": [
        "total3 = []\n",
        "for li in lis:\n",
        "    temp = []\n",
        "    temp.append(li.select_one('a').text)\n",
        "    img = li.select_one(\"img\")\n",
        "    print(img.attrs['alt'])\n",
        "#     temp append(li.select('img.attrs[\"alt\"]').text)\n",
        "#     total3.append(temp)\n",
        "# total3\n"
      ]
    },
    {
      "cell_type": "code",
      "execution_count": null,
      "id": "b27cdf6e-c225-472b-a977-9f6228d18879",
      "metadata": {
        "id": "b27cdf6e-c225-472b-a977-9f6228d18879"
      },
      "outputs": [],
      "source": [
        "total = []\n",
        "lis = html.select(\"ul.lst_major > li\")\n",
        "\n",
        "for li in lis:\n",
        "    temp =[]\n",
        "    temp.append(li.select_one(\"a\").text)\n",
        "    print(li.attrs[\"class\"][0])\n",
        "\n"
      ]
    },
    {
      "cell_type": "code",
      "execution_count": null,
      "id": "64d2d84b-e6c2-46e0-96cb-5409c3b60cd7",
      "metadata": {
        "id": "64d2d84b-e6c2-46e0-96cb-5409c3b60cd7"
      },
      "outputs": [],
      "source": [
        "popular = html.select(\"#popularItemList > li\")\n",
        "\n",
        "up1=[]\n",
        "for li in popular:\n",
        "    temp=[]\n",
        "    if li.select(\".up > img\"):\n",
        "        temp.append(li.select_one(\"a\").text)\n",
        "        temp.append(li.select_one(\"span\").text)\n",
        "        up1.append(temp)\n",
        "    else:\n",
        "        "
      ]
    },
    {
      "cell_type": "code",
      "execution_count": null,
      "id": "10adfc9c-8eb9-4462-9ab6-62a3c3be1dfc",
      "metadata": {
        "id": "10adfc9c-8eb9-4462-9ab6-62a3c3be1dfc"
      },
      "outputs": [],
      "source": [
        "up1"
      ]
    },
    {
      "cell_type": "code",
      "execution_count": null,
      "id": "d24ae5bd-d8b3-4c9f-a41c-95aafe44624f",
      "metadata": {
        "id": "d24ae5bd-d8b3-4c9f-a41c-95aafe44624f"
      },
      "outputs": [],
      "source": [
        "lis = html.select(\"#popularItemList > li\")"
      ]
    },
    {
      "cell_type": "code",
      "execution_count": null,
      "id": "fa74c56b-7788-4616-acab-1687f1b5a640",
      "metadata": {
        "id": "fa74c56b-7788-4616-acab-1687f1b5a640"
      },
      "outputs": [],
      "source": [
        "result = []\n",
        "for li in lis:\n",
        "    temp = []\n",
        "    updown = li.attrs[\"class\"][0]\n",
        "    temp.append(li.select_one(\"a\").text)\n",
        "    temp.append(\"상한\" if updown == \"up\" else \"하한\")\n",
        "    result.append(temp)\n",
        "    \n",
        "result"
      ]
    },
    {
      "cell_type": "code",
      "execution_count": null,
      "id": "68c22c82-e14a-4f9d-a468-14fc0f4165fa",
      "metadata": {
        "id": "68c22c82-e14a-4f9d-a468-14fc0f4165fa"
      },
      "outputs": [],
      "source": [
        "result = []\n",
        "for li in lis:\n",
        "    temp = []\n",
        "    img = li.select_one(\"img\")\n",
        "    updown = img.attrs[\"alt\"][0]\n",
        "\n",
        "    temp.append(li.select_one(\"a\").text)\n",
        "    temp.append(\"상한\" if updown == \"상\" else \"하한\")\n",
        "    result.append(temp)\n",
        "    \n",
        "result"
      ]
    },
    {
      "cell_type": "code",
      "execution_count": null,
      "id": "d85522a2-d2a5-487d-958f-dbf376d54edd",
      "metadata": {
        "id": "d85522a2-d2a5-487d-958f-dbf376d54edd"
      },
      "outputs": [],
      "source": [
        "result = []\n",
        "for li in lis:\n",
        "    temp = []\n",
        "    if li.select(\".up > img\"):\n",
        "        temp.append(li.select_one(\"a\").text)\n",
        "        temp.append(\"상한\")\n",
        "    else:\n",
        "        temp.append(li.select_one(\"a\").text)\n",
        "        temp.append(\"하한\")\n",
        "        \n",
        "    result.append(temp)\n",
        "    \n",
        "result"
      ]
    },
    {
      "cell_type": "code",
      "execution_count": null,
      "id": "b764caa7-c0b0-4170-89d1-357e03bae546",
      "metadata": {
        "id": "b764caa7-c0b0-4170-89d1-357e03bae546"
      },
      "outputs": [],
      "source": [
        "result = []\n",
        "for li in lis:\n",
        "    temp = []\n",
        "    updown = li.attrs[\"class\"][0]\n",
        "    if updown == \"up\":\n",
        "        temp.append(li.select_one(\"a\").text)\n",
        "        temp.append(li.select_one(\"span\").text)\n",
        "        result.append(temp)\n",
        "    \n",
        "result"
      ]
    },
    {
      "cell_type": "code",
      "execution_count": null,
      "id": "edb156c1-994a-46bc-ba34-c232631dbe6a",
      "metadata": {
        "id": "edb156c1-994a-46bc-ba34-c232631dbe6a"
      },
      "outputs": [],
      "source": [
        "result = []\n",
        "lis = html.select(\".lst_major > li\")\n",
        "for li in lis:\n",
        "    temp = []\n",
        "    updown = li.attrs[\"class\"][0]\n",
        "    if updown == \"up\":\n",
        "        temp.append(li.select_one(\"a\").text)\n",
        "        temp.append(li.select_one(\"span\").text)\n",
        "        result.append(temp)\n",
        "    \n",
        "result"
      ]
    },
    {
      "cell_type": "code",
      "execution_count": null,
      "id": "97158b95-67ab-4522-8d4f-a95143b49f25",
      "metadata": {
        "id": "97158b95-67ab-4522-8d4f-a95143b49f25"
      },
      "outputs": [],
      "source": [
        "ul_lst=html.select(\".sale_list>li\")\n",
        "\n",
        "for ul in ul_lst:\n",
        "    name=ul.select_one(\".sale_tit\").text\n",
        "    price=ul.select_one(\".point\").text\n",
        "    category=ul.select(\"dd\")\n",
        "    print(category[1].text)\n",
        "    print(category[2].text)\n",
        "    print(category[3].text)\n",
        "    \n",
        "    break\n"
      ]
    },
    {
      "cell_type": "code",
      "execution_count": null,
      "id": "b0d95ee1-f9a0-4127-bd66-e994b8c9adae",
      "metadata": {
        "id": "b0d95ee1-f9a0-4127-bd66-e994b8c9adae"
      },
      "outputs": [],
      "source": [
        "url = \"https://weather.com/ko-KR/weather/monthly/l/b757e0078b0b1350973ea8930d24ef111c7b8457939f4e2046fc8bbe48119f17\""
      ]
    },
    {
      "cell_type": "code",
      "execution_count": null,
      "id": "f816bfe8-1d63-4d94-8310-1b6dbeb2fa5c",
      "metadata": {
        "id": "f816bfe8-1d63-4d94-8310-1b6dbeb2fa5c"
      },
      "outputs": [],
      "source": [
        "resp = requests.get(url)\n",
        "html = BeautifulSoup(resp.text , \"html.parser\")\n",
        "buttons = html.select('.Calendar--gridWrapper--1oa1f button[data-testid = \"ctaButton\"]')\n",
        "len(buttons)"
      ]
    },
    {
      "cell_type": "code",
      "execution_count": null,
      "id": "ccfdf080-718a-4399-b28e-316c7c5f2619",
      "metadata": {
        "id": "ccfdf080-718a-4399-b28e-316c7c5f2619"
      },
      "outputs": [],
      "source": [
        ""
      ]
    },
    {
      "cell_type": "code",
      "execution_count": null,
      "id": "a7a4ec95-3d20-48fc-8465-9a0cbec5c2c0",
      "metadata": {
        "id": "a7a4ec95-3d20-48fc-8465-9a0cbec5c2c0"
      },
      "outputs": [],
      "source": [
        "url = \"https://scrapying-study.firebaseapp.com/03/\"\n",
        "resp = requests.get(url)\n",
        "html = BeautifulSoup(resp.text, \"html.parser\")"
      ]
    },
    {
      "cell_type": "code",
      "execution_count": null,
      "id": "3be23a10-aba0-426f-a36f-a16288273901",
      "metadata": {
        "id": "3be23a10-aba0-426f-a36f-a16288273901"
      },
      "outputs": [],
      "source": [
        "apt = html.select(\"div.sale_box\")\n",
        "house = []\n",
        "\n",
        "{'이름': 'H하우스장위',  '분양가': '16000',  '유형': '아파트',  '분양유형': '일반민간임대',  '세대수': '분양 134세대',  '평형': '45㎡~65㎡'},\n",
        "\n",
        "for div in apt:\n",
        "    temp = {}\n",
        "    temp[\"이름\"] = div.select_one(\"a\").text\n",
        "    temp[\"분양가\"]  =div.select(\"dd\")[0].select_one(\"strong\").text.replace(\",\", \"\")\n",
        "    temp[\"유형\"]\n",
        "    # for i in range(3):\n",
        "        \n",
        "        # temp.append(div.select(\"dd\")[i].text)\n",
        "        # house.append(temp)\n",
        "\n",
        "# house\n"
      ]
    },
    {
      "cell_type": "code",
      "execution_count": null,
      "id": "6be65b47-de2a-4a46-a0a0-fe0798239dfa",
      "metadata": {
        "id": "6be65b47-de2a-4a46-a0a0-fe0798239dfa",
        "outputId": "afe677c0-79e9-4862-ee07-c6e829b8820f"
      },
      "outputs": [
        {
          "data": {
            "text/plain": [
              "'16000'"
            ]
          },
          "execution_count": 63,
          "metadata": {},
          "output_type": "execute_result"
        }
      ],
      "source": [
        "\"16,000\".replace(\",\", \"\")"
      ]
    },
    {
      "cell_type": "code",
      "execution_count": null,
      "id": "a701b695-056c-4b58-8e7e-e9052cb4805c",
      "metadata": {
        "id": "a701b695-056c-4b58-8e7e-e9052cb4805c",
        "outputId": "8dde4417-3687-4d71-f8b2-46682037e2f9"
      },
      "outputs": [
        {
          "name": "stdout",
          "output_type": "stream",
          "text": [
            "<class 'bs4.element.ResultSet'>\n"
          ]
        },
        {
          "data": {
            "text/plain": [
              "[{'이름': 'H하우스장위',\n",
              "  '분양가': '16000',\n",
              "  '유형': '아파트|일반민간임대',\n",
              "  '분양유형': '|',\n",
              "  '세대수': '분양 134세대|45㎡~65㎡',\n",
              "  '평형': '|'},\n",
              " {'이름': '고덕리엔파크2단지 장기전세',\n",
              "  '분양가': '38400',\n",
              "  '유형': '아파트|장기전세주택',\n",
              "  '분양유형': '|',\n",
              "  '세대수': '분양 1세대|149㎡',\n",
              "  '평형': '|'},\n",
              " {'이름': '신정이펜하우스3단지 장기전세',\n",
              "  '분양가': '39040',\n",
              "  '유형': '아파트|장기전세주택',\n",
              "  '분양유형': '|',\n",
              "  '세대수': '분양 1세대|148㎡',\n",
              "  '평형': '|'},\n",
              " {'이름': '천왕이펜하우스2단지 장기전세',\n",
              "  '분양가': '38240',\n",
              "  '유형': '아파트|장기전세주택',\n",
              "  '분양유형': '|',\n",
              "  '세대수': '분양 1세대|142㎡',\n",
              "  '평형': '|'},\n",
              " {'이름': '송파파크데일2단지 장기전세',\n",
              "  '분양가': '45600',\n",
              "  '유형': '아파트|장기전세주택',\n",
              "  '분양유형': '|',\n",
              "  '세대수': '분양 1세대|150㎡',\n",
              "  '평형': '|'}]"
            ]
          },
          "execution_count": 72,
          "metadata": {},
          "output_type": "execute_result"
        }
      ],
      "source": [
        "URL = \"https://scrapying-study.firebaseapp.com/03/\"\n",
        "response=requests.get(URL)\n",
        "html=BeautifulSoup(response.text,\"html.parser\")\n",
        "user = []\n",
        "lis= html.select(\"div.sale_box\")\n",
        "\n",
        "for div in lis:\n",
        "    temp = {}\n",
        "    temp[\"이름\"] = div.select_one(\"a\").text\n",
        "    temp[\"분양가\"] = div.select(\"dd\")[0].select_one(\"strong\").text.replace(\",\",\"\")\n",
        "    temp[\"유형\"] = div.select(\"dd\")[1].text\n",
        "    temp[\"분양유형\"] = div.select(\"dd\")[1].select_one(\"span\").text\n",
        "    temp[\"세대수\"] = div.select(\"dd\")[2].text\n",
        "    temp[\"평형\"] = div.select(\"dd\")[2].select_one(\"span\").text    \n",
        "    user.append(temp)\n",
        "user"
      ]
    },
    {
      "cell_type": "code",
      "execution_count": null,
      "id": "fdf073fa-0c4c-4cef-81ca-81fe7ae27127",
      "metadata": {
        "id": "fdf073fa-0c4c-4cef-81ca-81fe7ae27127",
        "outputId": "1c8990c7-bf45-43e7-fda1-27fee775af6c"
      },
      "outputs": [
        {
          "data": {
            "text/plain": [
              "5"
            ]
          },
          "execution_count": 73,
          "metadata": {},
          "output_type": "execute_result"
        }
      ],
      "source": [
        "\n",
        "url = \"https://scrapying-study.firebaseapp.com/03/\"\n",
        "\n",
        "resp = requests.get(url)\n",
        "html = BeautifulSoup(resp.text, \"html.parser\")\n",
        "lis = html.select(\".sale_list > li\")\n",
        "len(lis)"
      ]
    },
    {
      "cell_type": "code",
      "execution_count": null,
      "id": "a1564a36-1ce4-40f6-809b-b059e67cb03c",
      "metadata": {
        "id": "a1564a36-1ce4-40f6-809b-b059e67cb03c",
        "outputId": "a351f14f-3714-4aec-a648-088b722132f8"
      },
      "outputs": [
        {
          "data": {
            "text/plain": [
              "[{'이름': 'H하우스장위',\n",
              "  '분양가': '16000',\n",
              "  '유형': '아파트',\n",
              "  '분양유형': '일반민간임대',\n",
              "  '세대수': '분양 134세대',\n",
              "  '평형': '45㎡~65㎡'},\n",
              " {'이름': '고덕리엔파크2단지 장기전세',\n",
              "  '분양가': '38400',\n",
              "  '유형': '아파트',\n",
              "  '분양유형': '장기전세주택',\n",
              "  '세대수': '분양 1세대',\n",
              "  '평형': '149㎡'},\n",
              " {'이름': '신정이펜하우스3단지 장기전세',\n",
              "  '분양가': '39040',\n",
              "  '유형': '아파트',\n",
              "  '분양유형': '장기전세주택',\n",
              "  '세대수': '분양 1세대',\n",
              "  '평형': '148㎡'},\n",
              " {'이름': '천왕이펜하우스2단지 장기전세',\n",
              "  '분양가': '38240',\n",
              "  '유형': '아파트',\n",
              "  '분양유형': '장기전세주택',\n",
              "  '세대수': '분양 1세대',\n",
              "  '평형': '142㎡'},\n",
              " {'이름': '송파파크데일2단지 장기전세',\n",
              "  '분양가': '45600',\n",
              "  '유형': '아파트',\n",
              "  '분양유형': '장기전세주택',\n",
              "  '세대수': '분양 1세대',\n",
              "  '평형': '150㎡'}]"
            ]
          },
          "execution_count": 83,
          "metadata": {},
          "output_type": "execute_result"
        }
      ],
      "source": [
        "result = []\n",
        "for li in lis:\n",
        "    temp = {}\n",
        "    temp[\"이름\"] = li.select_one(\"a\").text\n",
        "    # print(li.select_one(\"div.sale_tit\").text)\n",
        "    \n",
        "    temp['분양가'] = li.select_one(\".point\").text.replace(\",\", \"\")\n",
        "    # print(li.select_one(\".sale_detail strong\").text.replace(\",\", \"\"))\n",
        "    \n",
        "    dds = li.select(\"dd\")\n",
        "    types = dds[1].text.split(\"|\")\n",
        "    etcs = dds[2].text.split(\"|\")\n",
        "    \n",
        "    temp['유형'] = types[0]\n",
        "    temp['분양유형'] = types[1]\n",
        "    temp['세대수'] = etcs[0]\n",
        "    temp['평형'] = etcs[1]\n",
        "    result.append(temp)\n",
        "\n",
        "result"
      ]
    },
    {
      "cell_type": "code",
      "execution_count": null,
      "id": "8450d369-f59f-440f-9cd4-504b46f7c56f",
      "metadata": {
        "id": "8450d369-f59f-440f-9cd4-504b46f7c56f",
        "outputId": "eef56b47-cc3b-4ab9-fe71-f6394c5ad871"
      },
      "outputs": [
        {
          "name": "stdout",
          "output_type": "stream",
          "text": [
            "1 스파이더맨: 노 웨이 홈\n",
            "2 매트릭스: 리저렉션\n",
            "3 킹스맨: 퍼스트 에이전트\n",
            "4 돈 룩 업\n",
            "5 드라이브 마이 카\n",
            "6 유체이탈자\n",
            "7 엔칸토: 마법의 세계\n",
            "8 레지던트 이블: 라쿤시티\n",
            "9 해피 뉴 이어\n",
            "10 너에게 가는 길\n",
            "11 연애 빠진 로맨스\n",
            "12 램\n",
            "13 경관의 피\n",
            "14 해피 아워\n",
            "15 신데렐라 2: 마법에 걸린 왕자\n",
            "16 간호중\n",
            "17 라임크라임\n",
            "18 티탄\n",
            "19 타이거마스크\n",
            "20 하나 그리고 둘\n",
            "21 기적\n",
            "22 메모리: 조작살인\n",
            "23 모가디슈\n",
            "24 닥터 스트레인지: 대혼돈의 멀티버스\n",
            "25 매트릭스\n",
            "26 특송\n",
            "27 여타짜\n",
            "28 씽2게더\n",
            "29 프렌치 디스패치\n",
            "30 이터널스\n",
            "31 듄\n",
            "32 코다\n",
            "33 나 홀로 집에\n",
            "34 러브 액츄얼리\n",
            "35 베놈 2: 렛 데어 비 카니지\n",
            "36 해적: 도깨비 깃발\n",
            "37 장르만 로맨스\n",
            "38 스파이더맨: 파 프롬 홈\n",
            "39 끝없음에 관하여\n",
            "40 피부를 판 남자\n",
            "41 노웨어 스페셜\n",
            "42 창애: 짐승 잡는 덫\n",
            "43 필로포비아\n",
            "44 기억의 시간\n",
            "45 하우스 오브 구찌\n",
            "46 블랙 위도우\n",
            "47 카페 뤼미에르\n",
            "48 마이 뉴욕 다이어리\n",
            "49 태일이\n",
            "50 웨스트 사이드 스토리\n"
          ]
        }
      ],
      "source": [
        "import requests\n",
        "from bs4 import BeautifulSoup\n",
        "\n",
        "URL = 'https://movie.naver.com/movie/sdb/rank/rmovie.nhn'\n",
        "response = requests.get(URL)\n",
        "soup = BeautifulSoup(response.text, \"html.parser\")\n",
        "result = soup.select(\".list_ranking tr > td.title a\")\n",
        "\n",
        "for i, v in enumerate(result):\n",
        "    print(i+1, v.text)\n"
      ]
    },
    {
      "cell_type": "code",
      "execution_count": null,
      "id": "2be621ee-4b6f-4348-a6bc-d5d72cad9772",
      "metadata": {
        "id": "2be621ee-4b6f-4348-a6bc-d5d72cad9772"
      },
      "outputs": [],
      "source": [
        "url='https://weather.com/ko-KR/weather/monthly/l/b757e0078b0b1350973ea8930d24ef111c7b8457939f4e2046fc8bbe48119f17'\n",
        "response=requests.get(url)\n",
        "soup=BeautifulSoup(response.text,\"html.parser\")\n",
        "weather_lst=soup.select(\".Calendar--gridWrapper--1oa1f\")\n",
        "dic={}\n",
        "total=[]\n",
        "for weather in weather_lst:\n",
        "    for i in range(4):\n",
        "        day=weather.select(\".CalendarDateCell--date--3Fw3h\")[i].text\n",
        "        maximum=weather.select(\".CalendarDateCell--temps--10Lpc span\")[i].text\n",
        "        minimum=weather.select(\".CalendarDateCell--tempLow--2Cs14 span\")[i].text\n",
        "\n",
        "        dic['날짜']=day\n",
        "        dic['최고기온']=maximum\n",
        "        dic['최저기온']=minimum\n",
        "\n",
        "        total.append(dic)\n",
        "        \n",
        "total"
      ]
    },
    {
      "cell_type": "code",
      "execution_count": null,
      "id": "e5258a43-9463-41df-9ce5-e61dc0bd2299",
      "metadata": {
        "id": "e5258a43-9463-41df-9ce5-e61dc0bd2299",
        "outputId": "de71942a-0489-491c-ef9b-748528cf315d"
      },
      "outputs": [
        {
          "data": {
            "text/plain": [
              "35"
            ]
          },
          "execution_count": 103,
          "metadata": {},
          "output_type": "execute_result"
        }
      ],
      "source": [
        "url = \"https://weather.com/ko-KR/weather/monthly/l/b757e0078b0b1350973ea8930d24ef111c7b8457939f4e2046fc8bbe48119f17\"\n",
        "resp = requests.get(url)\n",
        "html = BeautifulSoup(resp.text, 'html.parser')\n",
        "btns = html.select('.Calendar--gridWrapper--1oa1f > button')\n",
        "len(btns)"
      ]
    },
    {
      "cell_type": "code",
      "execution_count": null,
      "id": "7d218dcf-a265-44a5-b981-419459f1c24d",
      "metadata": {
        "id": "7d218dcf-a265-44a5-b981-419459f1c24d",
        "outputId": "658390cb-e222-4ac1-e77b-e4c4fa77d459"
      },
      "outputs": [
        {
          "name": "stdout",
          "output_type": "stream",
          "text": [
            "날짜 : 30\n",
            "최고기온 : 8°\n",
            "최저기온 : -2°\n",
            "\n",
            "날짜 : 1\n",
            "최고기온 : 1°\n",
            "최저기온 : -7°\n",
            "\n",
            "날짜 : 2\n",
            "최고기온 : 6°\n",
            "최저기온 : 1°\n",
            "\n",
            "날짜 : 3\n",
            "최고기온 : 4°\n",
            "최저기온 : -5°\n",
            "\n",
            "날짜 : 4\n",
            "최고기온 : 7°\n",
            "최저기온 : -5°\n",
            "\n"
          ]
        }
      ],
      "source": [
        "\n",
        "for btn in btns:\n",
        "    spans = btn.select('span')\n",
        "    if spans[1].text != \"--\":\n",
        "        print(f\"날짜 : {spans[0].text}\")\n",
        "        print(f\"최고기온 : {spans[1].text}\")\n",
        "        print(f\"최저기온 : {spans[2].text}\")\n",
        "        print()\n",
        "      \n",
        "    \n",
        "    "
      ]
    },
    {
      "cell_type": "code",
      "execution_count": null,
      "id": "30c03cbc-6b9c-4b88-b30a-7de936b82931",
      "metadata": {
        "id": "30c03cbc-6b9c-4b88-b30a-7de936b82931"
      },
      "outputs": [],
      "source": [
        ""
      ]
    }
  ],
  "metadata": {
    "kernelspec": {
      "display_name": "Python 3 (ipykernel)",
      "language": "python",
      "name": "python3"
    },
    "language_info": {
      "codemirror_mode": {
        "name": "ipython",
        "version": 3
      },
      "file_extension": ".py",
      "mimetype": "text/x-python",
      "name": "python",
      "nbconvert_exporter": "python",
      "pygments_lexer": "ipython3",
      "version": "3.9.7"
    },
    "colab": {
      "name": "1229_practice.ipynb",
      "provenance": [],
      "include_colab_link": true
    }
  },
  "nbformat": 4,
  "nbformat_minor": 5
}