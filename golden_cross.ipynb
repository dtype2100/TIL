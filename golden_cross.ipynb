{
  "nbformat": 4,
  "nbformat_minor": 0,
  "metadata": {
    "colab": {
      "name": "golden_cross.ipynb",
      "provenance": [],
      "mount_file_id": "1TMtTyOelN6NQA_PmlLHE6OgVyZgYbeVJ",
      "authorship_tag": "ABX9TyOI8AgkrtAL9GrR0oQb12mu",
      "include_colab_link": true
    },
    "kernelspec": {
      "name": "python3",
      "display_name": "Python 3"
    },
    "language_info": {
      "name": "python"
    }
  },
  "cells": [
    {
      "cell_type": "markdown",
      "metadata": {
        "id": "view-in-github",
        "colab_type": "text"
      },
      "source": [
        "<a href=\"https://colab.research.google.com/github/dtype2100/TIL/blob/master/golden_cross.ipynb\" target=\"_parent\"><img src=\"https://colab.research.google.com/assets/colab-badge.svg\" alt=\"Open In Colab\"/></a>"
      ]
    },
    {
      "cell_type": "code",
      "execution_count": null,
      "metadata": {
        "colab": {
          "base_uri": "https://localhost:8080/"
        },
        "id": "xSoXv4VyhFl_",
        "outputId": "46cd9ea0-8a92-41b1-e147-74881edd2de8"
      },
      "outputs": [
        {
          "output_type": "stream",
          "name": "stdout",
          "text": [
            "Requirement already satisfied: finance-datareader in /usr/local/lib/python3.7/dist-packages (0.9.33)\n",
            "Requirement already satisfied: tqdm in /usr/local/lib/python3.7/dist-packages (from finance-datareader) (4.63.0)\n",
            "Requirement already satisfied: pandas>=0.19.2 in /usr/local/lib/python3.7/dist-packages (from finance-datareader) (1.3.5)\n",
            "Requirement already satisfied: requests>=2.3.0 in /usr/local/lib/python3.7/dist-packages (from finance-datareader) (2.23.0)\n",
            "Requirement already satisfied: lxml in /usr/local/lib/python3.7/dist-packages (from finance-datareader) (4.2.6)\n",
            "Requirement already satisfied: requests-file in /usr/local/lib/python3.7/dist-packages (from finance-datareader) (1.5.1)\n",
            "Requirement already satisfied: numpy>=1.17.3 in /usr/local/lib/python3.7/dist-packages (from pandas>=0.19.2->finance-datareader) (1.21.5)\n",
            "Requirement already satisfied: pytz>=2017.3 in /usr/local/lib/python3.7/dist-packages (from pandas>=0.19.2->finance-datareader) (2018.9)\n",
            "Requirement already satisfied: python-dateutil>=2.7.3 in /usr/local/lib/python3.7/dist-packages (from pandas>=0.19.2->finance-datareader) (2.8.2)\n",
            "Requirement already satisfied: six>=1.5 in /usr/local/lib/python3.7/dist-packages (from python-dateutil>=2.7.3->pandas>=0.19.2->finance-datareader) (1.15.0)\n",
            "Requirement already satisfied: chardet<4,>=3.0.2 in /usr/local/lib/python3.7/dist-packages (from requests>=2.3.0->finance-datareader) (3.0.4)\n",
            "Requirement already satisfied: certifi>=2017.4.17 in /usr/local/lib/python3.7/dist-packages (from requests>=2.3.0->finance-datareader) (2021.10.8)\n",
            "Requirement already satisfied: idna<3,>=2.5 in /usr/local/lib/python3.7/dist-packages (from requests>=2.3.0->finance-datareader) (2.10)\n",
            "Requirement already satisfied: urllib3!=1.25.0,!=1.25.1,<1.26,>=1.21.1 in /usr/local/lib/python3.7/dist-packages (from requests>=2.3.0->finance-datareader) (1.24.3)\n"
          ]
        }
      ],
      "source": [
        "pip install finance-datareader"
      ]
    },
    {
      "cell_type": "code",
      "source": [
        "pip install plotly"
      ],
      "metadata": {
        "colab": {
          "base_uri": "https://localhost:8080/"
        },
        "id": "Jmr-PHv6rDPR",
        "outputId": "3f9647ac-a560-412c-8150-d81a8fc377b9"
      },
      "execution_count": null,
      "outputs": [
        {
          "output_type": "stream",
          "name": "stdout",
          "text": [
            "Requirement already satisfied: plotly in /usr/local/lib/python3.7/dist-packages (5.5.0)\n",
            "Requirement already satisfied: tenacity>=6.2.0 in /usr/local/lib/python3.7/dist-packages (from plotly) (8.0.1)\n",
            "Requirement already satisfied: six in /usr/local/lib/python3.7/dist-packages (from plotly) (1.15.0)\n"
          ]
        }
      ]
    },
    {
      "cell_type": "code",
      "source": [
        "!apt-get update -qq"
      ],
      "metadata": {
        "id": "EFeXPHFvYoUZ"
      },
      "execution_count": null,
      "outputs": []
    },
    {
      "cell_type": "code",
      "source": [
        "!apt-get install fonts-nanum* -qq"
      ],
      "metadata": {
        "id": "csWft4gyYp_R"
      },
      "execution_count": null,
      "outputs": []
    },
    {
      "cell_type": "markdown",
      "source": [
        "# 환경설정"
      ],
      "metadata": {
        "id": "WT0_oBjus2SB"
      }
    },
    {
      "cell_type": "code",
      "source": [
        "import FinanceDataReader as fdr\n",
        "import numpy as np\n",
        "import pandas as pd"
      ],
      "metadata": {
        "id": "jutLSPq5rIEP"
      },
      "execution_count": null,
      "outputs": []
    },
    {
      "cell_type": "code",
      "source": [
        "import warnings\n",
        "warnings.filterwarnings(\"ignore\")"
      ],
      "metadata": {
        "id": "y4qL8K0ZrTPw"
      },
      "execution_count": null,
      "outputs": []
    },
    {
      "cell_type": "code",
      "source": [
        "import seaborn as sns\n",
        "from matplotlib import pyplot as plt\n",
        "import matplotlib as mpl\n",
        "from matplotlib import rcParams\n",
        "sns.set()\n",
        "%matplotlib inline\n",
        "plt.rcParams['font.family'] = 'Hancom Gothic'\n",
        "# plt.rc('font', family='NanumGothic')\n",
        "rcParams['font.family'] = 'Malgun Gothic'\n",
        "rcParams['font.size'] = 20\n",
        "rcParams['axes.unicode_minus'] = False "
      ],
      "metadata": {
        "id": "-TEmzStbr8BY"
      },
      "execution_count": null,
      "outputs": []
    },
    {
      "cell_type": "code",
      "source": [
        "import os\n",
        "os.chdir(\"/content/drive/MyDrive/Colab Notebooks/Final/stock_data/samsung\")"
      ],
      "metadata": {
        "id": "_6Ym6ro_r8_P"
      },
      "execution_count": null,
      "outputs": []
    },
    {
      "cell_type": "markdown",
      "source": [
        "# 데이터 준비"
      ],
      "metadata": {
        "id": "2UvtYfy5s_o_"
      }
    },
    {
      "cell_type": "code",
      "source": [
        "sp_data_dict = dict()\n",
        "path = '/content/drive/MyDrive/Colab Notebooks/Final/stock_data/samsung/'\n",
        "\n",
        "for file_name in os.listdir(path):\n",
        "    sp_data = pd.read_csv(path + file_name, parse_dates = ['Date'])\n",
        "    stock_name = file_name.replace('.csv', '')\n",
        "    sp_data_dict[stock_name] = sp_data"
      ],
      "metadata": {
        "id": "CiH7ikzSsTYQ"
      },
      "execution_count": null,
      "outputs": []
    },
    {
      "cell_type": "markdown",
      "source": [
        "# 이동 평균 계산"
      ],
      "metadata": {
        "id": "k-EHhEcNtB0P"
      }
    },
    {
      "cell_type": "code",
      "source": [
        "for stock_name in sp_data_dict.keys():\n",
        "    # 이동 평균 계산\n",
        "    sp_data = sp_data_dict[stock_name]\n",
        "    sp_data['MA_5'] = sp_data['Close'].rolling(5).mean()\n",
        "    sp_data['MA_20'] = sp_data['Close'].rolling(20).mean()\n",
        "    sp_data['MA_60'] = sp_data['Close'].rolling(60).mean()\n",
        "    sp_data['MA_120'] = sp_data['Close'].rolling(120).mean()\n",
        "    sp_data.dropna(inplace = True)"
      ],
      "metadata": {
        "id": "jDIXmLPvs5Nq"
      },
      "execution_count": null,
      "outputs": []
    },
    {
      "cell_type": "markdown",
      "source": [
        "# 골든 크로스, 데드 크로스 변수 추가"
      ],
      "metadata": {
        "id": "Y2MEhubTtKfo"
      }
    },
    {
      "cell_type": "code",
      "source": [
        "import itertools\n",
        "import numpy as np\n",
        "\n",
        "for stock_name in sp_data_dict.keys():\n",
        "    sp_data = sp_data_dict[stock_name]\n",
        "    for cross, st, lt in itertools.product(['G', 'D'], [5, 20], [60, 120]):\n",
        "        output_col = \"{}_{}_{}\".format(cross, st, lt)\n",
        "        st_col = \"MA_\" + str(st)\n",
        "        lt_col = \"MA_\" + str(lt)\n",
        "        st_data = sp_data[st_col].values\n",
        "        lt_data = sp_data[lt_col].values\n",
        "        if cross == \"G\":\n",
        "            output = (st_data[1:] >= lt_data[1:]) & (st_data[:-1] < lt_data[:-1])\n",
        "        elif cross == \"D\":\n",
        "            output = (st_data[1:] < lt_data[1:]) & (st_data[:-1] >= lt_data[:-1])\n",
        "        output = np.insert(output, 0, False)\n",
        "        sp_data[output_col] = output"
      ],
      "metadata": {
        "id": "ursh_xSOs7Aq"
      },
      "execution_count": null,
      "outputs": []
    },
    {
      "cell_type": "code",
      "source": [
        "stock_name"
      ],
      "metadata": {
        "colab": {
          "base_uri": "https://localhost:8080/",
          "height": 35
        },
        "id": "spH4y2eZRCzn",
        "outputId": "9332fde2-6d4c-4dfa-d2a0-1a028a438dfe"
      },
      "execution_count": null,
      "outputs": [
        {
          "output_type": "execute_result",
          "data": {
            "text/plain": [
              "'samsung'"
            ],
            "application/vnd.google.colaboratory.intrinsic+json": {
              "type": "string"
            }
          },
          "metadata": {},
          "execution_count": 12
        }
      ]
    },
    {
      "cell_type": "markdown",
      "source": [
        "# 이동 평균선과 골든/데드 크로스 시각화"
      ],
      "metadata": {
        "id": "dewOZMUVtT0g"
      }
    },
    {
      "cell_type": "code",
      "source": [
        "import matplotlib\n",
        "import matplotlib.font_manager as fm\n",
        "fm.get_fontconfig_fonts()"
      ],
      "metadata": {
        "colab": {
          "base_uri": "https://localhost:8080/"
        },
        "id": "RJB0JjQDbXwd",
        "outputId": "5b88326e-fa5f-4b73-a77c-7c8df760420a"
      },
      "execution_count": null,
      "outputs": [
        {
          "output_type": "execute_result",
          "data": {
            "text/plain": [
              "['/usr/share/fonts/truetype/liberation/LiberationSans-Regular.ttf',\n",
              " '/usr/share/fonts/truetype/liberation/LiberationMono-Italic.ttf',\n",
              " '/usr/share/fonts/truetype/nanum/NanumBarunpenR.ttf',\n",
              " '/usr/share/fonts/truetype/nanum/NanumGothicLight.ttf',\n",
              " '/usr/share/fonts/truetype/nanum/NanumGothicBold.ttf',\n",
              " '/usr/share/fonts/truetype/nanum/NanumGothicEcoExtraBold.ttf',\n",
              " '/usr/share/fonts/truetype/liberation/LiberationSansNarrow-Regular.ttf',\n",
              " '/usr/share/fonts/truetype/liberation/LiberationSansNarrow-Bold.ttf',\n",
              " '/usr/share/fonts/truetype/nanum/NanumSquareRoundB.ttf',\n",
              " '/usr/share/fonts/truetype/liberation/LiberationSans-Bold.ttf',\n",
              " '/usr/share/fonts/truetype/nanum/NanumBarunpenB.ttf',\n",
              " '/usr/share/fonts/truetype/nanum/NanumMyeongjoEco.ttf',\n",
              " '/usr/share/fonts/truetype/nanum/NanumSquareL.ttf',\n",
              " '/usr/share/fonts/truetype/nanum/NanumSquareRoundEB.ttf',\n",
              " '/usr/share/fonts/truetype/liberation/LiberationMono-BoldItalic.ttf',\n",
              " '/usr/share/fonts/truetype/liberation/LiberationSerif-Regular.ttf',\n",
              " '/usr/share/fonts/truetype/nanum/NanumMyeongjoEcoExtraBold.ttf',\n",
              " '/usr/share/fonts/truetype/nanum/NanumMyeongjo.ttf',\n",
              " '/usr/share/fonts/truetype/nanum/NanumSquareRoundL.ttf',\n",
              " '/usr/share/fonts/truetype/liberation/LiberationSans-Italic.ttf',\n",
              " '/usr/share/fonts/truetype/nanum/NanumGothicCoding-Bold.ttf',\n",
              " '/usr/share/fonts/truetype/liberation/LiberationSerif-BoldItalic.ttf',\n",
              " '/usr/share/fonts/truetype/nanum/NanumGothicEcoBold.ttf',\n",
              " '/usr/share/fonts/truetype/liberation/LiberationSans-BoldItalic.ttf',\n",
              " '/usr/share/fonts/truetype/nanum/NanumBrush.ttf',\n",
              " '/usr/share/fonts/truetype/liberation/LiberationSansNarrow-BoldItalic.ttf',\n",
              " '/usr/share/fonts/truetype/liberation/LiberationSerif-Italic.ttf',\n",
              " '/usr/share/fonts/truetype/nanum/NanumGothicExtraBold.ttf',\n",
              " '/usr/share/fonts/truetype/nanum/NanumMyeongjoEcoBold.ttf',\n",
              " '/usr/share/fonts/truetype/nanum/NanumMyeongjoBold.ttf',\n",
              " '/usr/share/fonts/truetype/liberation/LiberationSansNarrow-Italic.ttf',\n",
              " '/usr/share/fonts/truetype/nanum/NanumBarunGothic.ttf',\n",
              " '/usr/share/fonts/truetype/nanum/NanumPen.ttf',\n",
              " '/usr/share/fonts/truetype/humor-sans/Humor-Sans.ttf',\n",
              " '/usr/share/fonts/truetype/liberation/LiberationMono-Regular.ttf',\n",
              " '/usr/share/fonts/truetype/nanum/NanumMyeongjoExtraBold.ttf',\n",
              " '/usr/share/fonts/truetype/nanum/NanumBarunGothicLight.ttf',\n",
              " '/usr/share/fonts/truetype/nanum/NanumBarunGothicBold.ttf',\n",
              " '/usr/share/fonts/truetype/nanum/NanumGothicCoding.ttf',\n",
              " '/usr/share/fonts/truetype/liberation/LiberationSerif-Bold.ttf',\n",
              " '/usr/share/fonts/truetype/nanum/NanumSquareRoundR.ttf',\n",
              " '/usr/share/fonts/truetype/nanum/NanumSquareB.ttf',\n",
              " '/usr/share/fonts/truetype/nanum/NanumGothic.ttf',\n",
              " '/usr/share/fonts/truetype/nanum/NanumGothicEco.ttf',\n",
              " '/usr/share/fonts/truetype/nanum/NanumBarunGothicUltraLight.ttf',\n",
              " '/usr/share/fonts/truetype/nanum/NanumSquareR.ttf',\n",
              " '/usr/share/fonts/truetype/liberation/LiberationMono-Bold.ttf',\n",
              " '/usr/share/fonts/truetype/nanum/NanumSquareEB.ttf']"
            ]
          },
          "metadata": {},
          "execution_count": 13
        }
      ]
    },
    {
      "cell_type": "code",
      "source": [
        "font_location = '/content/drive/MyDrive/Colab Notebooks/Final/stock_data/DejaVuSans.ttf'\n",
        "font_name = fm.FontProperties(fname=font_location).get_name()\n",
        "matplotlib.rc('font', family=font_name)\n",
        "%matplotlib inline"
      ],
      "metadata": {
        "id": "mCwlYc4pbkdr"
      },
      "execution_count": null,
      "outputs": []
    },
    {
      "cell_type": "code",
      "source": [
        "plt.rcParams['font.family'] = 'Hancom Gothic'\n"
      ],
      "metadata": {
        "id": "9UmfiaoqetlT"
      },
      "execution_count": null,
      "outputs": []
    },
    {
      "cell_type": "code",
      "source": [
        "plt.figure(figsize = (15, 8))\n",
        "samsung = sp_data_dict['samsung']\n",
        "plt.plot(samsung['Date'], samsung['MA_5'], label = \"5\")\n",
        "plt.plot(samsung['Date'], samsung['MA_60'], label = \"60\")\n",
        "\n",
        "golden_cross_data = samsung.loc[samsung['G_5_60']]\n",
        "dead_cross_data = samsung.loc[samsung['D_5_60']]\n",
        "\n",
        "plt.scatter(golden_cross_data['Date'], golden_cross_data['MA_60'],\n",
        "            label = \"골든크로스\", color = \"red\", s = 60)\n",
        "plt.scatter(dead_cross_data['Date'], dead_cross_data['MA_60'],\n",
        "            label = \"데드크로스\", color = \"blue\", s = 60)\n",
        "plt.legend()\n",
        "plt.ylabel(\"주가\")\n",
        "plt.xlabel(\"날짜\")"
      ],
      "metadata": {
        "colab": {
          "base_uri": "https://localhost:8080/",
          "height": 538
        },
        "id": "A1wOMxf5s686",
        "outputId": "7b25640f-be90-4e9d-be98-08270749cf5e"
      },
      "execution_count": null,
      "outputs": [
        {
          "output_type": "execute_result",
          "data": {
            "text/plain": [
              "Text(0.5, 0, '날짜')"
            ]
          },
          "metadata": {},
          "execution_count": 38
        },
        {
          "output_type": "stream",
          "name": "stderr",
          "text": [
            "findfont: Font family ['Hancom Gothic'] not found. Falling back to DejaVu Sans.\n",
            "findfont: Font family ['Hancom Gothic'] not found. Falling back to DejaVu Sans.\n"
          ]
        },
        {
          "output_type": "display_data",
          "data": {
            "text/plain": [
              "<Figure size 1080x576 with 1 Axes>"
            ],
            "image/png": "[encoded data removed]"
          },
          "metadata": {
            "needs_background": "light"
          }
        }
      ]
    },
    {
      "cell_type": "code",
      "source": [
        ""
      ],
      "metadata": {
        "id": "e16YFnrRWN1J"
      },
      "execution_count": null,
      "outputs": []
    }
  ]
}