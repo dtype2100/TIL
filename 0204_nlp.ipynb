{
  "cells": [
    {
      "cell_type": "markdown",
      "metadata": {
        "id": "view-in-github",
        "colab_type": "text"
      },
      "source": [
        "<a href=\"https://colab.research.google.com/github/dtype2100/TIL/blob/master/0204_nlp.ipynb\" target=\"_parent\"><img src=\"https://colab.research.google.com/assets/colab-badge.svg\" alt=\"Open In Colab\"/></a>"
      ]
    },
    {
      "cell_type": "code",
      "execution_count": null,
      "id": "866de37f-0899-4f9b-b287-42f75dbced76",
      "metadata": {
        "id": "866de37f-0899-4f9b-b287-42f75dbced76"
      },
      "outputs": [],
      "source": [
        "training_set = [[\"me free lottery\", 1], \n",
        "[\"free get free you\", 1],\n",
        "[\"you free scholarship\", 0],\n",
        "[\"free to contact me\", 0],\n",
        "[\"you won award\", 0],\n",
        "[\"you ticket lottery\", 1]]\n",
        "                "
      ]
    },
    {
      "cell_type": "code",
      "execution_count": null,
      "id": "22539159-19dd-45dc-921b-bbe5f44243b3",
      "metadata": {
        "id": "22539159-19dd-45dc-921b-bbe5f44243b3",
        "outputId": "ad0fe5f7-ad9c-42dc-9082-a1da71ebe975"
      },
      "outputs": [
        {
          "name": "stdout",
          "output_type": "stream",
          "text": [
            "[0, 0]\n"
          ]
        },
        {
          "data": {
            "text/plain": [
              "[0, 0]"
            ]
          },
          "execution_count": 16,
          "metadata": {},
          "output_type": "execute_result"
        }
      ],
      "source": [
        "wordfreq = defaultdict(lambda : [0, 0])\n",
        "# wordfreq = {}\n",
        "print(wordfreq[\"award\"])\n",
        "\n",
        "\n",
        "wordfreq2 = {}\n",
        "wordfreq2[\"award\"] = [0, 0]\n",
        "wordfreq2[\"award\"]"
      ]
    },
    {
      "cell_type": "code",
      "execution_count": null,
      "id": "69915b43-5301-4801-b6c0-ea72e03520f0",
      "metadata": {
        "id": "69915b43-5301-4801-b6c0-ea72e03520f0",
        "outputId": "3542f2ab-9d6e-43d0-9cfc-df373e4bae52"
      },
      "outputs": [
        {
          "name": "stdout",
          "output_type": "stream",
          "text": [
            "defaultdict(<function <lambda> at 0x000001B96870F9D8>, {'me': [1, 1], 'free': [2, 3], 'lottery': [0, 2], 'get': [0, 1], 'you': [2, 2], 'scholarship': [1, 0], 'to': [1, 0], 'contact': [1, 0], 'won': [1, 0], 'award': [1, 0], 'ticket': [0, 1]})\n",
            "10\n",
            "10\n"
          ]
        }
      ],
      "source": [
        "#spam : 1, normal : 0\n",
        "# dict = {\"award\": [1, 0], ...\n",
        "# cnt_0 (normal)\n",
        "# cnt_1 (spam)\n",
        "\n",
        "from collections import defaultdict\n",
        "\n",
        "normal_cnt  = 0\n",
        "spam_cnt  = 0\n",
        "\n",
        "wordfreq = defaultdict(lambda : [0, 0])\n",
        "for doc, label in training_set:\n",
        "    words = doc.split()\n",
        "    for word in words:\n",
        "        wordfreq[word][label] += 1\n",
        "        \n",
        "print(wordfreq)\n",
        "\n",
        "for key, (cnt0, cnt1) in wordfreq.items():\n",
        "    normal_cnt += cnt0\n",
        "    spam_cnt += cnt1\n",
        "\n",
        "print(normal_cnt)\n",
        "print(spam_cnt)\n",
        "\n"
      ]
    },
    {
      "cell_type": "code",
      "execution_count": null,
      "id": "50f25735-2523-4ea5-8f69-397ee68262a3",
      "metadata": {
        "id": "50f25735-2523-4ea5-8f69-397ee68262a3",
        "outputId": "9ce1a129-dbde-418d-8ce1-0afe2b0a6563"
      },
      "outputs": [
        {
          "data": {
            "text/plain": [
              "defaultdict(<function __main__.<lambda>()>,\n",
              "            {'me': [0.13636363636363635, 0.13636363636363635],\n",
              "             'free': [0.22727272727272727, 0.3181818181818182],\n",
              "             'lottery': [0.045454545454545456, 0.22727272727272727],\n",
              "             'get': [0.045454545454545456, 0.13636363636363635],\n",
              "             'you': [0.22727272727272727, 0.22727272727272727],\n",
              "             'scholarship': [0.13636363636363635, 0.045454545454545456],\n",
              "             'to': [0.13636363636363635, 0.045454545454545456],\n",
              "             'contact': [0.13636363636363635, 0.045454545454545456],\n",
              "             'won': [0.13636363636363635, 0.045454545454545456],\n",
              "             'award': [0.13636363636363635, 0.045454545454545456],\n",
              "             'ticket': [0.045454545454545456, 0.13636363636363635]})"
            ]
          },
          "execution_count": 6,
          "metadata": {},
          "output_type": "execute_result"
        }
      ],
      "source": [
        "\n",
        "#wordprob = {\"award\": [0.1364, 0.0455], ...\n",
        "k = 0.5\n",
        "wordprob = defaultdict(lambda : [0, 0])\n",
        "\n",
        "for key, (cnt0, cnt1) in wordfreq.items():\n",
        "    wordprob[key][0] = (k + cnt0 ) / ( 2*k + normal_cnt)\n",
        "    wordprob[key][1] = (k + cnt1 ) / ( 2*k + spam_cnt)\n",
        "    \n",
        "wordprob\n",
        "\n"
      ]
    },
    {
      "cell_type": "code",
      "execution_count": null,
      "id": "640994a2-880c-444d-bdad-224e2ade39d1",
      "metadata": {
        "id": "640994a2-880c-444d-bdad-224e2ade39d1"
      },
      "outputs": [],
      "source": [
        "import math\n",
        "\n",
        "\n",
        "\n",
        "def get_prob(doc):\n",
        "    tokens = doc.split()\n",
        "\n",
        "    log_prob0, log_prob1 = 0.0, 0.0\n",
        "\n",
        "    for word, (prob0, prob1) in wordprob.items():\n",
        "        if word in tokens:\n",
        "            log_prob0 += math.log(prob0)\n",
        "            log_prob1 += math.log(prob1)\n",
        "\n",
        "    log_prob0 += math.log(normal_cnt / (normal_cnt + spam_cnt))\n",
        "    log_prob1 += math.log(spam_cnt / (normal_cnt + spam_cnt))\n",
        "\n",
        "    prob0 = math.exp(log_prob0)\n",
        "    prob1 = math.exp(log_prob1)\n",
        "    \n",
        "    return prob0, prob1\n",
        "\n",
        "\n",
        "doc = \"scholarship ticket free\"\n",
        "prob0, prob1 = get_prob(doc)\n"
      ]
    },
    {
      "cell_type": "code",
      "execution_count": null,
      "id": "58f6e22a-dad6-4b8e-86f9-8f243ab19c60",
      "metadata": {
        "id": "58f6e22a-dad6-4b8e-86f9-8f243ab19c60",
        "outputId": "75b168d1-8225-411a-9209-9b846f8a5ce8"
      },
      "outputs": [
        {
          "name": "stdout",
          "output_type": "stream",
          "text": [
            "정상 확률 41.7%\n",
            "스팸 확률 58.3%\n"
          ]
        }
      ],
      "source": [
        "print(\"정상 확률 {:.1f}%\".format((prob0 / (prob0 + prob1)) * 100))\n",
        "print(\"스팸 확률 {:.1f}%\".format((prob1 / (prob0 + prob1)) * 100))"
      ]
    },
    {
      "cell_type": "code",
      "execution_count": null,
      "id": "19b08e3a-b550-4d48-916a-e0ad7a693388",
      "metadata": {
        "id": "19b08e3a-b550-4d48-916a-e0ad7a693388"
      },
      "outputs": [],
      "source": [
        ""
      ]
    }
  ],
  "metadata": {
    "kernelspec": {
      "display_name": "nlp",
      "language": "python",
      "name": "nlp"
    },
    "language_info": {
      "codemirror_mode": {
        "name": "ipython",
        "version": 3
      },
      "file_extension": ".py",
      "mimetype": "text/x-python",
      "name": "python",
      "nbconvert_exporter": "python",
      "pygments_lexer": "ipython3",
      "version": "3.7.11"
    },
    "colab": {
      "name": "0204_nlp.ipynb",
      "provenance": [],
      "include_colab_link": true
    }
  },
  "nbformat": 4,
  "nbformat_minor": 5
}