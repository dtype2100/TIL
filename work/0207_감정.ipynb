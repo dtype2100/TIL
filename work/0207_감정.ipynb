{
 "cells": [
  {
   "cell_type": "markdown",
   "id": "374b06aa",
   "metadata": {},
   "source": [
    "Naive Bayes 분류기 활용 감정분석"
   ]
  },
  {
   "cell_type": "markdown",
   "id": "9aee0aa4",
   "metadata": {},
   "source": [
    "내 풀이"
   ]
  },
  {
   "cell_type": "code",
   "execution_count": 29,
   "id": "8c3c1c44",
   "metadata": {},
   "outputs": [],
   "source": [
    "text = [(\"I love you\", \"P\"),\n",
    "        (\"love happy weekend\", \"P\"),\n",
    "        (\"bore work job\", \"N\"),\n",
    "        (\"I hate you\", \"N\"),\n",
    "        (\"bore weekend\", \"N\"),\n",
    "        (\"happy together\", \"P\")]"
   ]
  },
  {
   "cell_type": "code",
   "execution_count": 16,
   "id": "11e9a567",
   "metadata": {},
   "outputs": [
    {
     "data": {
      "text/plain": [
       "[('I love you', 0),\n",
       " ('love happy weekend', 0),\n",
       " ('bore work job', 1),\n",
       " ('I hate you', 1),\n",
       " ('bore weekend', 1),\n",
       " ('happy together', 0)]"
      ]
     },
     "execution_count": 16,
     "metadata": {},
     "output_type": "execute_result"
    }
   ],
   "source": [
    "#튜플-리스트-튜플 형변환 통해 긍부정 값 변경\n",
    "for i in range(len(text)):\n",
    "    text[i] = list(text[i])\n",
    "    if text[i][1] == \"P\":\n",
    "        text[i][1] = 0\n",
    "    else:\n",
    "        text[i][1] = 1\n",
    "    text[i] = tuple(text[i])\n",
    "text"
   ]
  },
  {
   "cell_type": "code",
   "execution_count": 17,
   "id": "93022f67",
   "metadata": {},
   "outputs": [
    {
     "name": "stdout",
     "output_type": "stream",
     "text": [
      "defaultdict(<function <lambda> at 0x0000021B6B68AA68>, {'I': [1, 1], 'love': [2, 0], 'you': [1, 1], 'happy': [2, 0], 'weekend': [1, 1], 'bore': [0, 2], 'work': [0, 1], 'job': [0, 1], 'hate': [0, 1], 'together': [1, 0]})\n",
      "8\n",
      "9\n"
     ]
    }
   ],
   "source": [
    "from collections import defaultdict\n",
    "pos_cnt=0\n",
    "neg_cnt=1\n",
    "\n",
    "wordfreq = defaultdict(lambda : [0,0])\n",
    "for doc, label in text:\n",
    "    words = doc.split()\n",
    "#     label =0 if label == \"P\" else 1 #라벨 바꿔주기\n",
    "    \n",
    "    for word in words:\n",
    "        wordfreq[word][label] +=1\n",
    "print(wordfreq)\n",
    "\n",
    "for key, (cnt0,cnt1) in wordfreq.items():\n",
    "    pos_cnt += cnt0\n",
    "    neg_cnt += cnt1\n",
    "print(pos_cnt)\n",
    "print(neg_cnt)"
   ]
  },
  {
   "cell_type": "code",
   "execution_count": 27,
   "id": "ce7f470a",
   "metadata": {},
   "outputs": [
    {
     "data": {
      "text/plain": [
       "defaultdict(<function __main__.<lambda>()>,\n",
       "            {'I': [0.16666666666666666, 0.15],\n",
       "             'love': [0.2777777777777778, 0.05],\n",
       "             'you': [0.16666666666666666, 0.15],\n",
       "             'happy': [0.2777777777777778, 0.05],\n",
       "             'weekend': [0.16666666666666666, 0.15],\n",
       "             'bore': [0.05555555555555555, 0.25],\n",
       "             'work': [0.05555555555555555, 0.15],\n",
       "             'job': [0.05555555555555555, 0.15],\n",
       "             'hate': [0.05555555555555555, 0.15],\n",
       "             'together': [0.16666666666666666, 0.05]})"
      ]
     },
     "execution_count": 27,
     "metadata": {},
     "output_type": "execute_result"
    }
   ],
   "source": [
    "#laplace smoothing\n",
    "k=0.5\n",
    "wordprob = defaultdict(lambda : [0,0])\n",
    "\n",
    "for key, (cnt0,cnt1) in wordfreq.items():\n",
    "    wordprob[key][0] = (k+cnt0) / (2*k + pos_cnt)\n",
    "    wordprob[key][1] = (k+cnt1) / (2*k + neg_cnt)\n",
    "wordprob"
   ]
  },
  {
   "cell_type": "code",
   "execution_count": 28,
   "id": "b5760fa5",
   "metadata": {},
   "outputs": [
    {
     "name": "stdout",
     "output_type": "stream",
     "text": [
      "0.02178649237472767\n",
      "0.003970588235294119\n"
     ]
    }
   ],
   "source": [
    "#log이용한 underflow 방지\n",
    "doc = \"happy weekend\"\n",
    "tokens = doc.split()\n",
    "\n",
    "import math\n",
    "log_prob0, log_prob1 = 0.0, 0.0\n",
    "\n",
    "for word, (prob0,prob1) in wordprob.items():\n",
    "    if word in tokens:\n",
    "        log_prob0 += math.log(prob0)\n",
    "        log_prob1 += math.log(prob1)\n",
    "\n",
    "log_prob0 += math.log(pos_cnt / (pos_cnt + neg_cnt))\n",
    "log_prob1 += math.log(neg_cnt / (pos_cnt + neg_cnt))\n",
    "\n",
    "prob0 = math.exp(log_prob0)\n",
    "prob1 = math.exp(log_prob1)\n",
    "\n",
    "print(prob0)\n",
    "print(prob1)"
   ]
  },
  {
   "cell_type": "code",
   "execution_count": 20,
   "id": "902c4cb0",
   "metadata": {},
   "outputs": [
    {
     "name": "stdout",
     "output_type": "stream",
     "text": [
      "긍정확률84.6%\n",
      "부정확률15.4%\n"
     ]
    }
   ],
   "source": [
    "print(\"긍정확률{:.1f}%\".format(prob0 / (prob0 + prob1) * 100))\n",
    "print(\"부정확률{:.1f}%\".format(prob1 / (prob0 + prob1) * 100))"
   ]
  },
  {
   "cell_type": "markdown",
   "id": "769c7ff2",
   "metadata": {},
   "source": [
    "강사님 풀이(label 변환 부분 제외하고 동일)"
   ]
  },
  {
   "cell_type": "code",
   "execution_count": 30,
   "id": "0351e8f9",
   "metadata": {},
   "outputs": [
    {
     "name": "stdout",
     "output_type": "stream",
     "text": [
      "defaultdict(<function <lambda> at 0x0000021B6B748948>, {'I': [1, 1], 'love': [2, 0], 'you': [1, 1], 'happy': [2, 0], 'weekend': [1, 1], 'bore': [0, 2], 'work': [0, 1], 'job': [0, 1], 'hate': [0, 1], 'together': [1, 0]})\n",
      "8\n",
      "9\n"
     ]
    }
   ],
   "source": [
    "'''P:0, N:1'''\n",
    "\n",
    "from collections import defaultdict\n",
    "pos_cnt=0\n",
    "neg_cnt=1\n",
    "\n",
    "wordfreq = defaultdict(lambda : [0,0])\n",
    "for doc, label in text:\n",
    "    words = doc.split()\n",
    "    label =0 if label == \"P\" else 1 #라벨 바꿔주기\n",
    "    \n",
    "    for word in words:\n",
    "        wordfreq[word][label] +=1\n",
    "print(wordfreq)\n",
    "\n",
    "for key, (cnt0,cnt1) in wordfreq.items():\n",
    "    pos_cnt += cnt0\n",
    "    neg_cnt += cnt1\n",
    "print(pos_cnt)\n",
    "print(neg_cnt)"
   ]
  },
  {
   "cell_type": "code",
   "execution_count": 31,
   "id": "6cec782c",
   "metadata": {},
   "outputs": [
    {
     "data": {
      "text/plain": [
       "defaultdict(<function __main__.<lambda>()>,\n",
       "            {'I': [0.16666666666666666, 0.15],\n",
       "             'love': [0.2777777777777778, 0.05],\n",
       "             'you': [0.16666666666666666, 0.15],\n",
       "             'happy': [0.2777777777777778, 0.05],\n",
       "             'weekend': [0.16666666666666666, 0.15],\n",
       "             'bore': [0.05555555555555555, 0.25],\n",
       "             'work': [0.05555555555555555, 0.15],\n",
       "             'job': [0.05555555555555555, 0.15],\n",
       "             'hate': [0.05555555555555555, 0.15],\n",
       "             'together': [0.16666666666666666, 0.05]})"
      ]
     },
     "execution_count": 31,
     "metadata": {},
     "output_type": "execute_result"
    }
   ],
   "source": [
    "#laplace smoothing\n",
    "k=0.5\n",
    "wordprob = defaultdict(lambda : [0,0])\n",
    "\n",
    "for key, (cnt0,cnt1) in wordfreq.items():\n",
    "    wordprob[key][0] = (k+cnt0) / (2*k + pos_cnt)\n",
    "    wordprob[key][1] = (k+cnt1) / (2*k + neg_cnt)\n",
    "wordprob"
   ]
  },
  {
   "cell_type": "code",
   "execution_count": 33,
   "id": "b8a4badf",
   "metadata": {},
   "outputs": [
    {
     "name": "stdout",
     "output_type": "stream",
     "text": [
      "0.02178649237472767\n",
      "0.003970588235294119\n"
     ]
    }
   ],
   "source": [
    "def get_prob(doc):\n",
    "    tokens = doc.split()\n",
    "\n",
    "    log_prob0, log_prob1 = 0.0, 0.0\n",
    "\n",
    "    for word, (prob0,prob1) in wordprob.items():\n",
    "        if word in tokens:\n",
    "            log_prob0 += math.log(prob0)\n",
    "            log_prob1 += math.log(prob1)\n",
    "\n",
    "    log_prob0 += math.log(pos_cnt / (pos_cnt + neg_cnt))\n",
    "    log_prob1 += math.log(neg_cnt / (pos_cnt + neg_cnt))\n",
    "\n",
    "    prob0 = math.exp(log_prob0) #우도와 사전확률 계산한 결과(사후확률)\n",
    "    prob1 = math.exp(log_prob1)\n",
    "    \n",
    "    return prob0,prob1\n",
    "\n",
    "doc = 'happy weekend'\n",
    "prob0, prob1 = get_prob(doc)\n",
    "\n",
    "print(prob0)\n",
    "print(prob1)"
   ]
  },
  {
   "cell_type": "code",
   "execution_count": 34,
   "id": "2265106b",
   "metadata": {},
   "outputs": [
    {
     "name": "stdout",
     "output_type": "stream",
     "text": [
      "긍정확률84.6%\n",
      "부정확률15.4%\n"
     ]
    }
   ],
   "source": [
    "print(\"긍정확률{:.1f}%\".format(prob0 / (prob0 + prob1) * 100))\n",
    "print(\"부정확률{:.1f}%\".format(prob1 / (prob0 + prob1) * 100))"
   ]
  },
  {
   "cell_type": "markdown",
   "id": "2e4e1cc6",
   "metadata": {},
   "source": [
    "sklearn 활용한 나이브 베이지안"
   ]
  },
  {
   "cell_type": "code",
   "execution_count": 35,
   "id": "52161913",
   "metadata": {},
   "outputs": [],
   "source": [
    "from sklearn.feature_extraction.text import CountVectorizer\n",
    "from sklearn.feature_extraction.text import TfidfTransformer\n",
    "from sklearn.naive_bayes import MultinomialNB"
   ]
  },
  {
   "cell_type": "code",
   "execution_count": 39,
   "id": "a8ff16cd",
   "metadata": {},
   "outputs": [],
   "source": [
    "#doc과 label 분리 b/c 훈련시킬 때 문서만 넣어야 하므로\n",
    "X_train = [t[0] for t in text]\n",
    "y_train = [t[1] for t in text]"
   ]
  },
  {
   "cell_type": "code",
   "execution_count": 41,
   "id": "9ba88aa3",
   "metadata": {},
   "outputs": [
    {
     "data": {
      "text/plain": [
       "MultinomialNB()"
      ]
     },
     "execution_count": 41,
     "metadata": {},
     "output_type": "execute_result"
    }
   ],
   "source": [
    "count_vect = CountVectorizer() #단어 개수 많을 때는 min,max_depth 사용\n",
    "X_train_count = count_vect.fit_transform(X_train)\n",
    "\n",
    "clf = MultinomialNB() #객체로 만들어줘야 함\n",
    "clf.fit(X_train_count, y_train)"
   ]
  },
  {
   "cell_type": "code",
   "execution_count": 42,
   "id": "f0c3b122",
   "metadata": {},
   "outputs": [
    {
     "data": {
      "text/plain": [
       "array(['P'], dtype='<U1')"
      ]
     },
     "execution_count": 42,
     "metadata": {},
     "output_type": "execute_result"
    }
   ],
   "source": [
    "#happy weekend를 검사\n",
    "clf.predict(count_vect.transform(['happy weekend']))"
   ]
  },
  {
   "cell_type": "code",
   "execution_count": 43,
   "id": "ed37b6e6",
   "metadata": {},
   "outputs": [
    {
     "data": {
      "text/plain": [
       "array([[0.25, 0.75]])"
      ]
     },
     "execution_count": 43,
     "metadata": {},
     "output_type": "execute_result"
    }
   ],
   "source": [
    "#예측력; 각 클래스에 대한 확률\n",
    "#clf.predict가 P일 확률이 75%!\n",
    "clf.predict_proba(count_vect.transform(['happy weekend']))"
   ]
  },
  {
   "cell_type": "markdown",
   "id": "f29ebe26",
   "metadata": {},
   "source": [
    "네이버영화 감성분석"
   ]
  },
  {
   "cell_type": "code",
   "execution_count": 44,
   "id": "2ce65ac4",
   "metadata": {},
   "outputs": [
    {
     "name": "stdout",
     "output_type": "stream",
     "text": [
      "<class 'pandas.core.frame.DataFrame'>\n",
      "RangeIndex: 200000 entries, 0 to 199999\n",
      "Data columns (total 3 columns):\n",
      " #   Column    Non-Null Count   Dtype \n",
      "---  ------    --------------   ----- \n",
      " 0   id        200000 non-null  int64 \n",
      " 1   document  199992 non-null  object\n",
      " 2   label     200000 non-null  int64 \n",
      "dtypes: int64(2), object(1)\n",
      "memory usage: 4.6+ MB\n"
     ]
    }
   ],
   "source": [
    "import pandas as pd\n",
    "import numpy as np\n",
    "\n",
    "df = pd.read_csv(\"https://github.com/e9t/nsmc/raw/master/ratings.txt\", sep=\"\\t\")\n",
    "df.info()"
   ]
  },
  {
   "cell_type": "code",
   "execution_count": 45,
   "id": "398d00b6",
   "metadata": {},
   "outputs": [
    {
     "name": "stdout",
     "output_type": "stream",
     "text": [
      "<class 'pandas.core.frame.DataFrame'>\n",
      "Int64Index: 199992 entries, 0 to 199999\n",
      "Data columns (total 3 columns):\n",
      " #   Column    Non-Null Count   Dtype \n",
      "---  ------    --------------   ----- \n",
      " 0   id        199992 non-null  int64 \n",
      " 1   document  199992 non-null  object\n",
      " 2   label     199992 non-null  int64 \n",
      "dtypes: int64(2), object(1)\n",
      "memory usage: 6.1+ MB\n"
     ]
    }
   ],
   "source": [
    "df.dropna(axis=0, inplace=True)\n",
    "df.info()"
   ]
  },
  {
   "cell_type": "code",
   "execution_count": 46,
   "id": "7ac58f44",
   "metadata": {},
   "outputs": [
    {
     "data": {
      "text/html": [
       "<div>\n",
       "<style scoped>\n",
       "    .dataframe tbody tr th:only-of-type {\n",
       "        vertical-align: middle;\n",
       "    }\n",
       "\n",
       "    .dataframe tbody tr th {\n",
       "        vertical-align: top;\n",
       "    }\n",
       "\n",
       "    .dataframe thead th {\n",
       "        text-align: right;\n",
       "    }\n",
       "</style>\n",
       "<table border=\"1\" class=\"dataframe\">\n",
       "  <thead>\n",
       "    <tr style=\"text-align: right;\">\n",
       "      <th></th>\n",
       "      <th>id</th>\n",
       "      <th>document</th>\n",
       "      <th>label</th>\n",
       "    </tr>\n",
       "  </thead>\n",
       "  <tbody>\n",
       "    <tr>\n",
       "      <th>0</th>\n",
       "      <td>8112052</td>\n",
       "      <td>어릴때보고 지금다시봐도 재밌어요ㅋㅋ</td>\n",
       "      <td>1</td>\n",
       "    </tr>\n",
       "    <tr>\n",
       "      <th>1</th>\n",
       "      <td>8132799</td>\n",
       "      <td>디자인을 배우는 학생으로, 외국디자이너와 그들이 일군 전통을 통해 발전해가는 문화산...</td>\n",
       "      <td>1</td>\n",
       "    </tr>\n",
       "    <tr>\n",
       "      <th>2</th>\n",
       "      <td>4655635</td>\n",
       "      <td>폴리스스토리 시리즈는 1부터 뉴까지 버릴께 하나도 없음.. 최고.</td>\n",
       "      <td>1</td>\n",
       "    </tr>\n",
       "    <tr>\n",
       "      <th>3</th>\n",
       "      <td>9251303</td>\n",
       "      <td>와.. 연기가 진짜 개쩔구나.. 지루할거라고 생각했는데 몰입해서 봤다.. 그래 이런...</td>\n",
       "      <td>1</td>\n",
       "    </tr>\n",
       "    <tr>\n",
       "      <th>4</th>\n",
       "      <td>10067386</td>\n",
       "      <td>안개 자욱한 밤하늘에 떠 있는 초승달 같은 영화.</td>\n",
       "      <td>1</td>\n",
       "    </tr>\n",
       "  </tbody>\n",
       "</table>\n",
       "</div>"
      ],
      "text/plain": [
       "         id                                           document  label\n",
       "0   8112052                                어릴때보고 지금다시봐도 재밌어요ㅋㅋ      1\n",
       "1   8132799  디자인을 배우는 학생으로, 외국디자이너와 그들이 일군 전통을 통해 발전해가는 문화산...      1\n",
       "2   4655635               폴리스스토리 시리즈는 1부터 뉴까지 버릴께 하나도 없음.. 최고.      1\n",
       "3   9251303  와.. 연기가 진짜 개쩔구나.. 지루할거라고 생각했는데 몰입해서 봤다.. 그래 이런...      1\n",
       "4  10067386                        안개 자욱한 밤하늘에 떠 있는 초승달 같은 영화.      1"
      ]
     },
     "execution_count": 46,
     "metadata": {},
     "output_type": "execute_result"
    }
   ],
   "source": [
    "df.head() #우리가 필요한건 document와 label"
   ]
  },
  {
   "cell_type": "code",
   "execution_count": 48,
   "id": "46a52309",
   "metadata": {},
   "outputs": [
    {
     "data": {
      "text/plain": [
       "186420    0\n",
       "42641     1\n",
       "110059    0\n",
       "66757     1\n",
       "164593    0\n",
       "56451     1\n",
       "130924    0\n",
       "26836     1\n",
       "67863     1\n",
       "145657    0\n",
       "Name: label, dtype: int64"
      ]
     },
     "execution_count": 48,
     "metadata": {},
     "output_type": "execute_result"
    }
   ],
   "source": [
    "#train과 test 분리\n",
    "from sklearn.model_selection import train_test_split\n",
    "\n",
    "X_train,X_test,y_train,y_test = train_test_split(df['document'], df['label'], shuffle=True, random_state=42)\n",
    "y_train[:10] #0과 1 잘 섞여 있는지 확인(shuffle 잘 되었는지)"
   ]
  },
  {
   "cell_type": "code",
   "execution_count": 49,
   "id": "3de81aff",
   "metadata": {},
   "outputs": [],
   "source": [
    "#모델에 훈련 시키기\n",
    "count_vect = CountVectorizer()\n",
    "X_train_count = count_vect.fit_transform(X_train)\n",
    "clf = MultinomialNB().fit(X_train_count,y_train)"
   ]
  },
  {
   "cell_type": "code",
   "execution_count": 50,
   "id": "5b08e773",
   "metadata": {},
   "outputs": [
    {
     "data": {
      "text/plain": [
       "0.8304132165286612"
      ]
     },
     "execution_count": 50,
     "metadata": {},
     "output_type": "execute_result"
    }
   ],
   "source": [
    "X_test_count = count_vect.transform(X_test)\n",
    "predicted = clf.predict(X_test_count)\n",
    "\n",
    "#정확도 = 맞은 것 개수 / 전체 개수\n",
    "np.mean(predicted == y_test) #y_test 개수 중 y랑 pred가 일치하는 것의 비율\n",
    "#test set에 대해 83% 정도 예측력 가짐"
   ]
  },
  {
   "cell_type": "markdown",
   "id": "ed71899e",
   "metadata": {},
   "source": [
    "Tfidf 적용"
   ]
  },
  {
   "cell_type": "code",
   "execution_count": 51,
   "id": "6cd760c2",
   "metadata": {},
   "outputs": [],
   "source": [
    "#pipeline\n",
    "#count_vect 결과를 tfidf가 받고 그 결과가 NB 입력으로 들어감\n",
    "#마지막 y_train 라벨은 multinomial fit할 때 들어감\n",
    "from sklearn.pipeline import Pipeline\n",
    "\n",
    "text_clf = Pipeline([('vect',CountVectorizer(ngram_range=(1,2))), \n",
    "                     ('tfidf',TfidfTransformer()), \n",
    "                     ('clf', MultinomialNB(alpha=0.5))])\n",
    "text_clf = text_clf.fit(X_train,y_train)"
   ]
  },
  {
   "cell_type": "code",
   "execution_count": 52,
   "id": "d370117c",
   "metadata": {},
   "outputs": [
    {
     "data": {
      "text/plain": [
       "0.8350934037361495"
      ]
     },
     "execution_count": 52,
     "metadata": {},
     "output_type": "execute_result"
    }
   ],
   "source": [
    "#text_clf는 sentence list를 입력 받았으니 predict도 sentence list 그대로 넣어주면 됨\n",
    "predicted = text_clf.predict(X_test)\n",
    "np.mean(predicted == y_test) #댓글은 짧아서 tfidf 성능이 크게 좋아지진 x"
   ]
  },
  {
   "cell_type": "code",
   "execution_count": 53,
   "id": "fe1b3ac1",
   "metadata": {},
   "outputs": [],
   "source": [
    "#교차검증; 파라미터 여러가지 적용해보며 가장 좋은 param 찾도록!\n",
    "#보통 gridsearch 보다는 randomsearch가 성능 더 좋음\n",
    "from sklearn.model_selection import GridSearchCV\n",
    "\n",
    "params_clf = {\"vect__ngram_range\":[(1,1),(1,2),(1,3)], #uni,bi,tri-gram\n",
    "             \"clf__alpha\":(1, 0.5, 0.1, 0.001)}\n",
    "gs_clf = GridSearchCV(text_clf, params_clf, n_jobs=-1)\n",
    "gs_clf = gs_clf.fit(X_train, y_train)"
   ]
  },
  {
   "cell_type": "code",
   "execution_count": 55,
   "id": "16d85006",
   "metadata": {},
   "outputs": [
    {
     "name": "stdout",
     "output_type": "stream",
     "text": [
      "clf : MultinomialNB(alpha=0.5)\n",
      "clf__alpha : 0.5\n",
      "clf__class_prior : None\n",
      "clf__fit_prior : True\n",
      "memory : None\n",
      "steps : [('vect', CountVectorizer(ngram_range=(1, 2))), ('tfidf', TfidfTransformer()), ('clf', MultinomialNB(alpha=0.5))]\n",
      "tfidf : TfidfTransformer()\n",
      "tfidf__norm : l2\n",
      "tfidf__smooth_idf : True\n",
      "tfidf__sublinear_tf : False\n",
      "tfidf__use_idf : True\n",
      "vect : CountVectorizer(ngram_range=(1, 2))\n",
      "vect__analyzer : word\n",
      "vect__binary : False\n",
      "vect__decode_error : strict\n",
      "vect__dtype : <class 'numpy.int64'>\n",
      "vect__encoding : utf-8\n",
      "vect__input : content\n",
      "vect__lowercase : True\n",
      "vect__max_df : 1.0\n",
      "vect__max_features : None\n",
      "vect__min_df : 1\n",
      "vect__ngram_range : (1, 2)\n",
      "vect__preprocessor : None\n",
      "vect__stop_words : None\n",
      "vect__strip_accents : None\n",
      "vect__token_pattern : (?u)\\b\\w\\w+\\b\n",
      "vect__tokenizer : None\n",
      "vect__vocabulary : None\n",
      "verbose : False\n"
     ]
    }
   ],
   "source": [
    "#교차검증 결과 어떤 파라미터가 가장 좋았는지 체크\n",
    "best_parameters = gs_clf.best_estimator_.get_params()\n",
    "for param_name in sorted(list(best_parameters.keys())):\n",
    "    print(\"{} : {}\".format(param_name, best_parameters[param_name]))"
   ]
  },
  {
   "cell_type": "code",
   "execution_count": 56,
   "id": "fd803dd6",
   "metadata": {},
   "outputs": [
    {
     "data": {
      "text/plain": [
       "0.8350934037361495"
      ]
     },
     "execution_count": 56,
     "metadata": {},
     "output_type": "execute_result"
    }
   ],
   "source": [
    "predicted = gs_clf.best_estimator_.predict(X_test)\n",
    "np.mean(predicted == y_test)"
   ]
  },
  {
   "cell_type": "markdown",
   "id": "3c9408ec",
   "metadata": {},
   "source": [
    "사전기반 감정분석_KNU 한국어 감성사전 활용 예제"
   ]
  },
  {
   "cell_type": "code",
   "execution_count": 66,
   "id": "ef0f9756",
   "metadata": {},
   "outputs": [],
   "source": [
    "#단어사전 만들기\n",
    "dic = {}\n",
    "with open(\"pos_pol_word.txt\",\"r\", encoding='utf-8') as f:\n",
    "    dic['pos'] = f.read().split('\\n')[19:] #각 라인이 하나의 단어로, 메타 데이터 삭제\n",
    "    \n",
    "with open(\"neg_pol_word.txt\",\"r\", encoding='utf-8') as f:\n",
    "    dic['neg'] = f.read().split('\\n')[19:]"
   ]
  },
  {
   "cell_type": "code",
   "execution_count": 67,
   "id": "4076bc1a",
   "metadata": {},
   "outputs": [
    {
     "name": "stdout",
     "output_type": "stream",
     "text": [
      "['(-;', '(^^)', '(^-^)', '(^^*', '(^_^)', '(^o^)', '*^^*', '/^o^\\\\', ':(', \":'-(\"]\n",
      "\n",
      "\n",
      "\n",
      "['가난', '가난뱅이', '가난살이', '가난살이하다', '가난설음', '가난에', '가난에 쪼들려서', '가난하게', '가난하고', '가난하고 어렵다']\n"
     ]
    }
   ],
   "source": [
    "print(dic['pos'][:10])\n",
    "print(\"\\n\\n\")\n",
    "print(dic['neg'][:10])"
   ]
  },
  {
   "cell_type": "code",
   "execution_count": 64,
   "id": "c5678b9f",
   "metadata": {},
   "outputs": [],
   "source": [
    "txt = \"코로나19의 여파로 전 세계 교사들과 학생들 모두 혼란스러운 시기를 보내고 있습니다. 초유의 상황에서도, 학생들을 위해 최선을 다하려는 선생님들의 노력이 계속되고 있는데요. 어려움 속에서, 선생님들은 어떤 방법으로 사랑을 전하고 있을까요? 뉴스G에서 전해드립니다. [리포트] 중국 저장성의 한 산골 마을. 초등학교 교사 왕진량 씨는 지난 2월 말부터, 매일 새벽 다섯 시면 부지런히 집을 나섭니다. 온라인 수업을 받을 수 없는, 깊은 산골 마을에 살고 있는 학생들을 찾아가기 위해서인데요. 선생님이 하루 동안 이동하는 거리는 대략 30km정도. 차도 없이 도보로 네 개의 마을을 돌아다니며 학생들을 만납니다. 매일 이어지는 강행군이지만, 오로지 아이들의 학습이 중단되어서는 안 된다는 생각뿐입니다. 혹시 모를 사태에 대비해 학생들과의 접촉은 최대한 줄입니다. 숙제를 내주고, 검사 후에 모르는 문제를 알려주는 식으로 일대일 수업을 진행하고 있는데요. 아이들에게 배우는 즐거움이 얼마나 소중한 것인지 잘 알기에, 선생님은 이렇게라도 수업을 할 수 있다는 데서 행복을 느낍니다. 영국의 한 초등학교 교사인 젠 포울스 씨는 매일 아침, 무거운 짐을 앞 뒤, 양 옆으로 짊어지고 씩씩하게 발걸음을 옮깁니다. 코로나19로 학교가 문을 닫은 뒤, 형편이 어려운 학생들을 위해 매일 78인분의 점심 도시락을 배달하고 있는데요. 선생님이 재직 중인 초등학교는 전체 학생의 41퍼센트가 무상 급식 대상자이기 때문입니다. 도시락의 무게는 18kg, 걸어야 하는 거리는 8km에 달하지만 기다리는 학생들을 생각하며 지치지 않고 발걸음을 재촉합니다. 학생들은 창문을 통해서 반갑게 인사하기도 하고, 선생님이 볼 수 있게 감사 메시지를 붙여 놓기도 하는데요. 선생님이 정성껏 준비해 손수 배달한 사랑의 도시락. 봉쇄된 도시의 굶주린 아이들에게 소중한 한 끼 식사, 그 이상의 의미가 되고 있습니다. 미국 사우스다코타 주의 중학교 수학 교사인 크리스 와바 씨는, 커다란 화이트보드를 들고 학생의 집을 찾았습니다. 온라인 수업 후, 학생에게 이메일로 방정식 풀이법에 대한 질문을 받았기 때문인데요. 이메일로 답변해주는 것보다 직접 풀이 과정을 보여주는 게 낫다는 생각이었죠. 깜짝 놀란 학생을 마주한 채, 선생님은 현관문 앞에서 열정적으로 문제를 풀기 시작했습니다. 이 열정적인 강의는, 학생이 풀이법을 완벽히 이해할 때까지 이어졌는데요. 바이러스는 전 세계 교실에 혼란을 불러왔지만, 선생님들의 노력은 저마다의 방식으로 계속되고 있습니다. 어려움 속에서도 학생들을 위해 안간힘을 쓰고 있는 모든 선생님들에게, 응원과 박수를 함께 보냅니다.\""
   ]
  },
  {
   "cell_type": "code",
   "execution_count": 75,
   "id": "8d7d865a",
   "metadata": {},
   "outputs": [],
   "source": [
    "from konlpy.tag import Mecab\n",
    "mecab = Mecab()\n",
    "\n",
    "#전체 단어 돌면서 해당 단어가 pos인지 neg인지 확인\n",
    "def analyze_sentiment(txt, dic):\n",
    "    pos=[]\n",
    "    neg=[]\n",
    "    \n",
    "    #word_list = mecab.morphs(txt)\n",
    "    word_list = txt.split() #이게 mecab보다 성능 better\n",
    "    \n",
    "    for word in word_list:\n",
    "        if word in dic['pos']:\n",
    "            pos.append(word)\n",
    "            \n",
    "        if word in dic['neg']:\n",
    "            neg.append(word)\n",
    "        \n",
    "    return (len(pos) / (len(pos) + len(neg)),pos), (len(neg) / (len(pos) + len(neg)),neg)"
   ]
  },
  {
   "cell_type": "code",
   "execution_count": 76,
   "id": "3e29e08a",
   "metadata": {},
   "outputs": [
    {
     "name": "stdout",
     "output_type": "stream",
     "text": [
      "(0.6666666666666666, ['사랑을', '부지런히', '즐거움이', '소중한', '잘', '행복을', '씩씩하게', '감사', '정성껏', '사랑의', '소중한', '함께']) (0.3333333333333333, ['혼란스러운', '어려움', '모르는', '어려운', '굶주린', '어려움'])\n"
     ]
    }
   ],
   "source": [
    "pos, neg = analyze_sentiment(txt,dic)\n",
    "print(pos,neg)\n",
    "#이 text의 경우 mecab 보다 split이 더 성능 좋음\n",
    "#감정분석 결과 이 텍스트는 대체로 긍정적인 글"
   ]
  },
  {
   "cell_type": "markdown",
   "id": "a43dc413",
   "metadata": {},
   "source": [
    "차원축소"
   ]
  },
  {
   "cell_type": "code",
   "execution_count": 77,
   "id": "2a00317d",
   "metadata": {},
   "outputs": [],
   "source": [
    "import pandas as pd\n",
    "\n",
    "df = pd.DataFrame(columns=['calory', 'breakfast', 'lunch', 'dinner', 'exercise', 'body_shape'])\n",
    "\n",
    "df.loc[0] = [1200, 1, 0, 0, 2, 'Skinny']\n",
    "df.loc[1] = [2800, 1, 1, 1, 1, 'Normal']\n",
    "df.loc[2] = [3500, 2, 2, 1, 0, 'Fat']\n",
    "df.loc[3] = [1400, 0, 1, 0, 3, 'Skinny']\n",
    "df.loc[4] = [5000, 2, 2, 2, 0, 'Fat']\n",
    "df.loc[5] = [1300, 0, 0, 1, 2, 'Skinny']\n",
    "df.loc[6] = [3000, 1, 0, 1, 1, 'Normal']\n",
    "df.loc[7] = [4000, 2, 2, 2, 0, 'Fat']\n",
    "df.loc[8] = [2600, 0, 2, 0, 0, 'Normal']\n",
    "df.loc[9] = [3000, 1, 2, 1, 1, 'Fat']"
   ]
  },
  {
   "cell_type": "code",
   "execution_count": 78,
   "id": "c8e1a737",
   "metadata": {},
   "outputs": [
    {
     "data": {
      "text/html": [
       "<div>\n",
       "<style scoped>\n",
       "    .dataframe tbody tr th:only-of-type {\n",
       "        vertical-align: middle;\n",
       "    }\n",
       "\n",
       "    .dataframe tbody tr th {\n",
       "        vertical-align: top;\n",
       "    }\n",
       "\n",
       "    .dataframe thead th {\n",
       "        text-align: right;\n",
       "    }\n",
       "</style>\n",
       "<table border=\"1\" class=\"dataframe\">\n",
       "  <thead>\n",
       "    <tr style=\"text-align: right;\">\n",
       "      <th></th>\n",
       "      <th>calory</th>\n",
       "      <th>breakfast</th>\n",
       "      <th>lunch</th>\n",
       "      <th>dinner</th>\n",
       "      <th>exercise</th>\n",
       "      <th>body_shape</th>\n",
       "    </tr>\n",
       "  </thead>\n",
       "  <tbody>\n",
       "    <tr>\n",
       "      <th>0</th>\n",
       "      <td>1200</td>\n",
       "      <td>1</td>\n",
       "      <td>0</td>\n",
       "      <td>0</td>\n",
       "      <td>2</td>\n",
       "      <td>Skinny</td>\n",
       "    </tr>\n",
       "    <tr>\n",
       "      <th>1</th>\n",
       "      <td>2800</td>\n",
       "      <td>1</td>\n",
       "      <td>1</td>\n",
       "      <td>1</td>\n",
       "      <td>1</td>\n",
       "      <td>Normal</td>\n",
       "    </tr>\n",
       "    <tr>\n",
       "      <th>2</th>\n",
       "      <td>3500</td>\n",
       "      <td>2</td>\n",
       "      <td>2</td>\n",
       "      <td>1</td>\n",
       "      <td>0</td>\n",
       "      <td>Fat</td>\n",
       "    </tr>\n",
       "    <tr>\n",
       "      <th>3</th>\n",
       "      <td>1400</td>\n",
       "      <td>0</td>\n",
       "      <td>1</td>\n",
       "      <td>0</td>\n",
       "      <td>3</td>\n",
       "      <td>Skinny</td>\n",
       "    </tr>\n",
       "    <tr>\n",
       "      <th>4</th>\n",
       "      <td>5000</td>\n",
       "      <td>2</td>\n",
       "      <td>2</td>\n",
       "      <td>2</td>\n",
       "      <td>0</td>\n",
       "      <td>Fat</td>\n",
       "    </tr>\n",
       "    <tr>\n",
       "      <th>5</th>\n",
       "      <td>1300</td>\n",
       "      <td>0</td>\n",
       "      <td>0</td>\n",
       "      <td>1</td>\n",
       "      <td>2</td>\n",
       "      <td>Skinny</td>\n",
       "    </tr>\n",
       "    <tr>\n",
       "      <th>6</th>\n",
       "      <td>3000</td>\n",
       "      <td>1</td>\n",
       "      <td>0</td>\n",
       "      <td>1</td>\n",
       "      <td>1</td>\n",
       "      <td>Normal</td>\n",
       "    </tr>\n",
       "    <tr>\n",
       "      <th>7</th>\n",
       "      <td>4000</td>\n",
       "      <td>2</td>\n",
       "      <td>2</td>\n",
       "      <td>2</td>\n",
       "      <td>0</td>\n",
       "      <td>Fat</td>\n",
       "    </tr>\n",
       "    <tr>\n",
       "      <th>8</th>\n",
       "      <td>2600</td>\n",
       "      <td>0</td>\n",
       "      <td>2</td>\n",
       "      <td>0</td>\n",
       "      <td>0</td>\n",
       "      <td>Normal</td>\n",
       "    </tr>\n",
       "    <tr>\n",
       "      <th>9</th>\n",
       "      <td>3000</td>\n",
       "      <td>1</td>\n",
       "      <td>2</td>\n",
       "      <td>1</td>\n",
       "      <td>1</td>\n",
       "      <td>Fat</td>\n",
       "    </tr>\n",
       "  </tbody>\n",
       "</table>\n",
       "</div>"
      ],
      "text/plain": [
       "  calory breakfast lunch dinner exercise body_shape\n",
       "0   1200         1     0      0        2     Skinny\n",
       "1   2800         1     1      1        1     Normal\n",
       "2   3500         2     2      1        0        Fat\n",
       "3   1400         0     1      0        3     Skinny\n",
       "4   5000         2     2      2        0        Fat\n",
       "5   1300         0     0      1        2     Skinny\n",
       "6   3000         1     0      1        1     Normal\n",
       "7   4000         2     2      2        0        Fat\n",
       "8   2600         0     2      0        0     Normal\n",
       "9   3000         1     2      1        1        Fat"
      ]
     },
     "execution_count": 78,
     "metadata": {},
     "output_type": "execute_result"
    }
   ],
   "source": [
    "df"
   ]
  },
  {
   "cell_type": "code",
   "execution_count": 79,
   "id": "90956f93",
   "metadata": {},
   "outputs": [
    {
     "data": {
      "text/html": [
       "<div>\n",
       "<style scoped>\n",
       "    .dataframe tbody tr th:only-of-type {\n",
       "        vertical-align: middle;\n",
       "    }\n",
       "\n",
       "    .dataframe tbody tr th {\n",
       "        vertical-align: top;\n",
       "    }\n",
       "\n",
       "    .dataframe thead th {\n",
       "        text-align: right;\n",
       "    }\n",
       "</style>\n",
       "<table border=\"1\" class=\"dataframe\">\n",
       "  <thead>\n",
       "    <tr style=\"text-align: right;\">\n",
       "      <th></th>\n",
       "      <th>calory</th>\n",
       "      <th>breakfast</th>\n",
       "      <th>lunch</th>\n",
       "      <th>dinner</th>\n",
       "      <th>exercise</th>\n",
       "    </tr>\n",
       "  </thead>\n",
       "  <tbody>\n",
       "    <tr>\n",
       "      <th>0</th>\n",
       "      <td>1200</td>\n",
       "      <td>1</td>\n",
       "      <td>0</td>\n",
       "      <td>0</td>\n",
       "      <td>2</td>\n",
       "    </tr>\n",
       "    <tr>\n",
       "      <th>1</th>\n",
       "      <td>2800</td>\n",
       "      <td>1</td>\n",
       "      <td>1</td>\n",
       "      <td>1</td>\n",
       "      <td>1</td>\n",
       "    </tr>\n",
       "    <tr>\n",
       "      <th>2</th>\n",
       "      <td>3500</td>\n",
       "      <td>2</td>\n",
       "      <td>2</td>\n",
       "      <td>1</td>\n",
       "      <td>0</td>\n",
       "    </tr>\n",
       "    <tr>\n",
       "      <th>3</th>\n",
       "      <td>1400</td>\n",
       "      <td>0</td>\n",
       "      <td>1</td>\n",
       "      <td>0</td>\n",
       "      <td>3</td>\n",
       "    </tr>\n",
       "    <tr>\n",
       "      <th>4</th>\n",
       "      <td>5000</td>\n",
       "      <td>2</td>\n",
       "      <td>2</td>\n",
       "      <td>2</td>\n",
       "      <td>0</td>\n",
       "    </tr>\n",
       "  </tbody>\n",
       "</table>\n",
       "</div>"
      ],
      "text/plain": [
       "  calory breakfast lunch dinner exercise\n",
       "0   1200         1     0      0        2\n",
       "1   2800         1     1      1        1\n",
       "2   3500         2     2      1        0\n",
       "3   1400         0     1      0        3\n",
       "4   5000         2     2      2        0"
      ]
     },
     "execution_count": 79,
     "metadata": {},
     "output_type": "execute_result"
    }
   ],
   "source": [
    "X = df[['calory', 'breakfast', 'lunch', 'dinner', 'exercise']]\n",
    "X.head()"
   ]
  },
  {
   "cell_type": "code",
   "execution_count": 84,
   "id": "15984c2b",
   "metadata": {},
   "outputs": [
    {
     "data": {
      "text/html": [
       "<div>\n",
       "<style scoped>\n",
       "    .dataframe tbody tr th:only-of-type {\n",
       "        vertical-align: middle;\n",
       "    }\n",
       "\n",
       "    .dataframe tbody tr th {\n",
       "        vertical-align: top;\n",
       "    }\n",
       "\n",
       "    .dataframe thead th {\n",
       "        text-align: right;\n",
       "    }\n",
       "</style>\n",
       "<table border=\"1\" class=\"dataframe\">\n",
       "  <thead>\n",
       "    <tr style=\"text-align: right;\">\n",
       "      <th></th>\n",
       "      <th>body_shape</th>\n",
       "    </tr>\n",
       "  </thead>\n",
       "  <tbody>\n",
       "    <tr>\n",
       "      <th>0</th>\n",
       "      <td>Skinny</td>\n",
       "    </tr>\n",
       "    <tr>\n",
       "      <th>1</th>\n",
       "      <td>Normal</td>\n",
       "    </tr>\n",
       "    <tr>\n",
       "      <th>2</th>\n",
       "      <td>Fat</td>\n",
       "    </tr>\n",
       "    <tr>\n",
       "      <th>3</th>\n",
       "      <td>Skinny</td>\n",
       "    </tr>\n",
       "    <tr>\n",
       "      <th>4</th>\n",
       "      <td>Fat</td>\n",
       "    </tr>\n",
       "  </tbody>\n",
       "</table>\n",
       "</div>"
      ],
      "text/plain": [
       "  body_shape\n",
       "0     Skinny\n",
       "1     Normal\n",
       "2        Fat\n",
       "3     Skinny\n",
       "4        Fat"
      ]
     },
     "execution_count": 84,
     "metadata": {},
     "output_type": "execute_result"
    }
   ],
   "source": [
    "Y = df[['body_shape']]\n",
    "Y.head()"
   ]
  },
  {
   "cell_type": "code",
   "execution_count": 85,
   "id": "64e88b5f",
   "metadata": {},
   "outputs": [
    {
     "data": {
      "text/plain": [
       "array([[-1.35205803,  0.        , -1.3764944 , -1.28571429,  1.        ],\n",
       "       [ 0.01711466,  0.        , -0.22941573,  0.14285714,  0.        ],\n",
       "       [ 0.61612771,  1.29099445,  0.91766294,  0.14285714, -1.        ],\n",
       "       [-1.18091145, -1.29099445, -0.22941573, -1.28571429,  2.        ],\n",
       "       [ 1.89972711,  1.29099445,  0.91766294,  1.57142857, -1.        ],\n",
       "       [-1.26648474, -1.29099445, -1.3764944 ,  0.14285714,  1.        ],\n",
       "       [ 0.18826125,  0.        , -1.3764944 ,  0.14285714,  0.        ],\n",
       "       [ 1.04399418,  1.29099445,  0.91766294,  1.57142857, -1.        ],\n",
       "       [-0.15403193, -1.29099445,  0.91766294, -1.28571429, -1.        ],\n",
       "       [ 0.18826125,  0.        ,  0.91766294,  0.14285714,  0.        ]])"
      ]
     },
     "execution_count": 85,
     "metadata": {},
     "output_type": "execute_result"
    }
   ],
   "source": [
    "#공분산 행렬 구하기 위해 feature들 정규화시킴\n",
    "#공분산은 feature간 관계를 보는 거니까 피처 특성에 따른 영향력 차이 없애기 위해 정규화\n",
    "from sklearn.preprocessing import StandardScaler\n",
    "x_std = StandardScaler().fit_transform(X)\n",
    "x_std #각 값을 정규화시킨 결과"
   ]
  },
  {
   "cell_type": "code",
   "execution_count": 86,
   "id": "5dd06934",
   "metadata": {},
   "outputs": [
    {
     "data": {
      "text/plain": [
       "3.552713678800501e-17"
      ]
     },
     "execution_count": 86,
     "metadata": {},
     "output_type": "execute_result"
    }
   ],
   "source": [
    "#정규화한 결과 평균은 0\n",
    "x_std.mean()"
   ]
  },
  {
   "cell_type": "code",
   "execution_count": 87,
   "id": "2ec88536",
   "metadata": {},
   "outputs": [
    {
     "data": {
      "text/plain": [
       "1.0"
      ]
     },
     "execution_count": 87,
     "metadata": {},
     "output_type": "execute_result"
    }
   ],
   "source": [
    "#표준편차는 1로 변화\n",
    "x_std.std()"
   ]
  },
  {
   "cell_type": "code",
   "execution_count": 88,
   "id": "7f9bc342",
   "metadata": {},
   "outputs": [],
   "source": [
    "import numpy as np"
   ]
  },
  {
   "cell_type": "code",
   "execution_count": 89,
   "id": "83ddc5ba",
   "metadata": {},
   "outputs": [
    {
     "data": {
      "text/plain": [
       "array([[ 1.11111111,  0.88379717,  0.76782385,  0.89376551, -0.93179808],\n",
       "       [ 0.88379717,  1.11111111,  0.49362406,  0.81967902, -0.71721914],\n",
       "       [ 0.76782385,  0.49362406,  1.11111111,  0.40056715, -0.76471911],\n",
       "       [ 0.89376551,  0.81967902,  0.40056715,  1.11111111, -0.63492063],\n",
       "       [-0.93179808, -0.71721914, -0.76471911, -0.63492063,  1.11111111]])"
      ]
     },
     "execution_count": 89,
     "metadata": {},
     "output_type": "execute_result"
    }
   ],
   "source": [
    "#feature를 행 방향으로 받으니까 transpose\n",
    "features = x_std.T\n",
    "\n",
    "#공분산행렬; 대각&대칭 행렬\n",
    "covariance_matrix = np.cov(features)\n",
    "\n",
    "covariance_matrix"
   ]
  },
  {
   "cell_type": "code",
   "execution_count": 91,
   "id": "64947f9d",
   "metadata": {},
   "outputs": [
    {
     "data": {
      "text/plain": [
       "array([[ 1.11111111,  0.88379717,  0.76782385,  0.89376551, -0.93179808],\n",
       "       [ 0.88379717,  1.11111111,  0.49362406,  0.81967902, -0.71721914],\n",
       "       [ 0.76782385,  0.49362406,  1.11111111,  0.40056715, -0.76471911],\n",
       "       [ 0.89376551,  0.81967902,  0.40056715,  1.11111111, -0.63492063],\n",
       "       [-0.93179808, -0.71721914, -0.76471911, -0.63492063,  1.11111111]])"
      ]
     },
     "execution_count": 91,
     "metadata": {},
     "output_type": "execute_result"
    }
   ],
   "source": [
    "#공분산 행렬 구하는 또다른 방법\n",
    "#자유도=n-1이므로 10-1해서 9로 나눠줘야 함\n",
    "x_std.T.dot(x_std)/9"
   ]
  },
  {
   "cell_type": "code",
   "execution_count": 93,
   "id": "1fbce8fb",
   "metadata": {},
   "outputs": [
    {
     "name": "stdout",
     "output_type": "stream",
     "text": [
      "eig values \n",
      " [4.0657343  0.8387565  0.07629538 0.27758568 0.2971837 ]\n",
      "eig vectors \n",
      " [[-0.508005   -0.0169937  -0.84711404  0.11637853  0.10244985]\n",
      " [-0.44660335 -0.36890361  0.12808055 -0.63112016 -0.49973822]\n",
      " [-0.38377913  0.70804084  0.20681005 -0.40305226  0.38232213]\n",
      " [-0.42845209 -0.53194699  0.3694462   0.22228235  0.58954327]\n",
      " [ 0.46002038 -0.2816592  -0.29450345 -0.61341895  0.49601841]]\n"
     ]
    }
   ],
   "source": [
    "#고유값 분해\n",
    "#공분산행렬의 eigen-value와 vector 구하기\n",
    "eig_vals, eig_vecs = np.linalg.eig(covariance_matrix)\n",
    "print(\"eig values \\n\", eig_vals)\n",
    "print(\"eig vectors \\n\", eig_vecs)"
   ]
  },
  {
   "cell_type": "code",
   "execution_count": 94,
   "id": "c12b1b15",
   "metadata": {},
   "outputs": [
    {
     "data": {
      "text/plain": [
       "0.7318321731427544"
      ]
     },
     "execution_count": 94,
     "metadata": {},
     "output_type": "execute_result"
    }
   ],
   "source": [
    "#0번째 주성분이 73% 정도의 정보량을 가지고 있는 것\n",
    "eig_vals[0]/sum(eig_vals)"
   ]
  },
  {
   "cell_type": "code",
   "execution_count": 102,
   "id": "7b53c115",
   "metadata": {},
   "outputs": [
    {
     "data": {
      "text/plain": [
       "0.8965415116468556"
      ]
     },
     "execution_count": 102,
     "metadata": {},
     "output_type": "execute_result"
    }
   ],
   "source": [
    "#주성분 3개 가져오고 싶을 때; 거의 90% 정보량 보유\n",
    "(eig_vals[0] + eig_vals[1] + eig_vals[2])/sum(eig_vals)"
   ]
  },
  {
   "cell_type": "code",
   "execution_count": 95,
   "id": "0f99b95e",
   "metadata": {},
   "outputs": [
    {
     "data": {
      "text/plain": [
       "array([ 2.22600943,  0.0181432 , -1.76296611,  2.73542407, -3.02711544,\n",
       "        2.14702579,  0.37142473, -2.59239883,  0.39347815, -0.50902498])"
      ]
     },
     "execution_count": 95,
     "metadata": {},
     "output_type": "execute_result"
    }
   ],
   "source": [
    "#위에서 구한 eig_vec를 축으로 삼아 제1주성분 투영하기\n",
    "projected_X = x_std.dot(eig_vecs.T[0]) #기존에 있는 데이터를 eig_vals 가장 큰 eig_vecs에 투영시키는 것\n",
    "projected_X"
   ]
  },
  {
   "cell_type": "code",
   "execution_count": 96,
   "id": "d1a9c06b",
   "metadata": {
    "scrolled": true
   },
   "outputs": [
    {
     "data": {
      "text/html": [
       "<div>\n",
       "<style scoped>\n",
       "    .dataframe tbody tr th:only-of-type {\n",
       "        vertical-align: middle;\n",
       "    }\n",
       "\n",
       "    .dataframe tbody tr th {\n",
       "        vertical-align: top;\n",
       "    }\n",
       "\n",
       "    .dataframe thead th {\n",
       "        text-align: right;\n",
       "    }\n",
       "</style>\n",
       "<table border=\"1\" class=\"dataframe\">\n",
       "  <thead>\n",
       "    <tr style=\"text-align: right;\">\n",
       "      <th></th>\n",
       "      <th>PC1</th>\n",
       "      <th>y_axis</th>\n",
       "      <th>label</th>\n",
       "    </tr>\n",
       "  </thead>\n",
       "  <tbody>\n",
       "    <tr>\n",
       "      <th>0</th>\n",
       "      <td>2.226009</td>\n",
       "      <td>0.0</td>\n",
       "      <td>Skinny</td>\n",
       "    </tr>\n",
       "    <tr>\n",
       "      <th>1</th>\n",
       "      <td>0.018143</td>\n",
       "      <td>0.0</td>\n",
       "      <td>Normal</td>\n",
       "    </tr>\n",
       "    <tr>\n",
       "      <th>2</th>\n",
       "      <td>-1.762966</td>\n",
       "      <td>0.0</td>\n",
       "      <td>Fat</td>\n",
       "    </tr>\n",
       "    <tr>\n",
       "      <th>3</th>\n",
       "      <td>2.735424</td>\n",
       "      <td>0.0</td>\n",
       "      <td>Skinny</td>\n",
       "    </tr>\n",
       "    <tr>\n",
       "      <th>4</th>\n",
       "      <td>-3.027115</td>\n",
       "      <td>0.0</td>\n",
       "      <td>Fat</td>\n",
       "    </tr>\n",
       "    <tr>\n",
       "      <th>5</th>\n",
       "      <td>2.147026</td>\n",
       "      <td>0.0</td>\n",
       "      <td>Skinny</td>\n",
       "    </tr>\n",
       "    <tr>\n",
       "      <th>6</th>\n",
       "      <td>0.371425</td>\n",
       "      <td>0.0</td>\n",
       "      <td>Normal</td>\n",
       "    </tr>\n",
       "    <tr>\n",
       "      <th>7</th>\n",
       "      <td>-2.592399</td>\n",
       "      <td>0.0</td>\n",
       "      <td>Fat</td>\n",
       "    </tr>\n",
       "    <tr>\n",
       "      <th>8</th>\n",
       "      <td>0.393478</td>\n",
       "      <td>0.0</td>\n",
       "      <td>Normal</td>\n",
       "    </tr>\n",
       "    <tr>\n",
       "      <th>9</th>\n",
       "      <td>-0.509025</td>\n",
       "      <td>0.0</td>\n",
       "      <td>Fat</td>\n",
       "    </tr>\n",
       "  </tbody>\n",
       "</table>\n",
       "</div>"
      ],
      "text/plain": [
       "        PC1  y_axis   label\n",
       "0  2.226009     0.0  Skinny\n",
       "1  0.018143     0.0  Normal\n",
       "2 -1.762966     0.0     Fat\n",
       "3  2.735424     0.0  Skinny\n",
       "4 -3.027115     0.0     Fat\n",
       "5  2.147026     0.0  Skinny\n",
       "6  0.371425     0.0  Normal\n",
       "7 -2.592399     0.0     Fat\n",
       "8  0.393478     0.0  Normal\n",
       "9 -0.509025     0.0     Fat"
      ]
     },
     "execution_count": 96,
     "metadata": {},
     "output_type": "execute_result"
    }
   ],
   "source": [
    "#5차원을 1차원으로 축소; PC1이라는 좌표축에 값 투영\n",
    "result = pd.DataFrame(projected_X, columns=['PC1'])\n",
    "result['y_axis'] = 0.0\n",
    "result['label'] = Y\n",
    "result"
   ]
  },
  {
   "cell_type": "code",
   "execution_count": 98,
   "id": "be397a3a",
   "metadata": {},
   "outputs": [
    {
     "name": "stdout",
     "output_type": "stream",
     "text": [
      "Requirement already satisfied: matplotlib in c:\\users\\yejin\\.conda\\envs\\nlp\\lib\\site-packages (3.5.1)\n",
      "Requirement already satisfied: numpy>=1.17 in c:\\users\\yejin\\.conda\\envs\\nlp\\lib\\site-packages (from matplotlib) (1.21.5)\n",
      "Requirement already satisfied: pillow>=6.2.0 in c:\\users\\yejin\\.conda\\envs\\nlp\\lib\\site-packages (from matplotlib) (9.0.0)\n",
      "Requirement already satisfied: fonttools>=4.22.0 in c:\\users\\yejin\\.conda\\envs\\nlp\\lib\\site-packages (from matplotlib) (4.28.5)\n",
      "Requirement already satisfied: python-dateutil>=2.7 in c:\\users\\yejin\\.conda\\envs\\nlp\\lib\\site-packages (from matplotlib) (2.8.2)\n",
      "Requirement already satisfied: pyparsing>=2.2.1 in c:\\users\\yejin\\.conda\\envs\\nlp\\lib\\site-packages (from matplotlib) (3.0.6)\n",
      "Requirement already satisfied: packaging>=20.0 in c:\\users\\yejin\\.conda\\envs\\nlp\\lib\\site-packages (from matplotlib) (21.3)\n",
      "Requirement already satisfied: kiwisolver>=1.0.1 in c:\\users\\yejin\\.conda\\envs\\nlp\\lib\\site-packages (from matplotlib) (1.3.2)\n",
      "Requirement already satisfied: cycler>=0.10 in c:\\users\\yejin\\.conda\\envs\\nlp\\lib\\site-packages (from matplotlib) (0.11.0)\n",
      "Requirement already satisfied: six>=1.5 in c:\\users\\yejin\\.conda\\envs\\nlp\\lib\\site-packages (from python-dateutil>=2.7->matplotlib) (1.16.0)\n"
     ]
    }
   ],
   "source": [
    "!pip install matplotlib"
   ]
  },
  {
   "cell_type": "code",
   "execution_count": 99,
   "id": "e2a09f8f",
   "metadata": {},
   "outputs": [
    {
     "name": "stdout",
     "output_type": "stream",
     "text": [
      "Collecting seaborn\n",
      "  Downloading seaborn-0.11.2-py3-none-any.whl (292 kB)\n",
      "Requirement already satisfied: scipy>=1.0 in c:\\users\\yejin\\.conda\\envs\\nlp\\lib\\site-packages (from seaborn) (1.7.3)\n",
      "Requirement already satisfied: matplotlib>=2.2 in c:\\users\\yejin\\.conda\\envs\\nlp\\lib\\site-packages (from seaborn) (3.5.1)\n",
      "Requirement already satisfied: numpy>=1.15 in c:\\users\\yejin\\.conda\\envs\\nlp\\lib\\site-packages (from seaborn) (1.21.5)\n",
      "Requirement already satisfied: pandas>=0.23 in c:\\users\\yejin\\.conda\\envs\\nlp\\lib\\site-packages (from seaborn) (1.3.5)\n",
      "Requirement already satisfied: python-dateutil>=2.7 in c:\\users\\yejin\\.conda\\envs\\nlp\\lib\\site-packages (from matplotlib>=2.2->seaborn) (2.8.2)\n",
      "Requirement already satisfied: kiwisolver>=1.0.1 in c:\\users\\yejin\\.conda\\envs\\nlp\\lib\\site-packages (from matplotlib>=2.2->seaborn) (1.3.2)\n",
      "Requirement already satisfied: packaging>=20.0 in c:\\users\\yejin\\.conda\\envs\\nlp\\lib\\site-packages (from matplotlib>=2.2->seaborn) (21.3)\n",
      "Requirement already satisfied: cycler>=0.10 in c:\\users\\yejin\\.conda\\envs\\nlp\\lib\\site-packages (from matplotlib>=2.2->seaborn) (0.11.0)\n",
      "Requirement already satisfied: pyparsing>=2.2.1 in c:\\users\\yejin\\.conda\\envs\\nlp\\lib\\site-packages (from matplotlib>=2.2->seaborn) (3.0.6)\n",
      "Requirement already satisfied: pillow>=6.2.0 in c:\\users\\yejin\\.conda\\envs\\nlp\\lib\\site-packages (from matplotlib>=2.2->seaborn) (9.0.0)\n",
      "Requirement already satisfied: fonttools>=4.22.0 in c:\\users\\yejin\\.conda\\envs\\nlp\\lib\\site-packages (from matplotlib>=2.2->seaborn) (4.28.5)\n",
      "Requirement already satisfied: pytz>=2017.3 in c:\\users\\yejin\\.conda\\envs\\nlp\\lib\\site-packages (from pandas>=0.23->seaborn) (2021.3)\n",
      "Requirement already satisfied: six>=1.5 in c:\\users\\yejin\\.conda\\envs\\nlp\\lib\\site-packages (from python-dateutil>=2.7->matplotlib>=2.2->seaborn) (1.16.0)\n",
      "Installing collected packages: seaborn\n",
      "Successfully installed seaborn-0.11.2\n"
     ]
    }
   ],
   "source": [
    "!pip install seaborn"
   ]
  },
  {
   "cell_type": "code",
   "execution_count": 101,
   "id": "5ef62386",
   "metadata": {},
   "outputs": [
    {
     "data": {
      "text/plain": [
       "Text(0.5, 1.0, 'PCA result')"
      ]
     },
     "execution_count": 101,
     "metadata": {},
     "output_type": "execute_result"
    },
    {
     "data": {
      "image/png": "[encoded data removed]",
      "text/plain": [
       "<Figure size 432.125x360 with 1 Axes>"
      ]
     },
     "metadata": {
      "needs_background": "light"
     },
     "output_type": "display_data"
    }
   ],
   "source": [
    "#5차원 데이터를 1차원에 투영\n",
    "import matplotlib.pyplot as plt\n",
    "import seaborn as sns\n",
    "\n",
    "sns.lmplot('PC1','y_axis', data=result, fit_reg=False, scatter_kws={\"s\":50}, hue='label')\n",
    "plt.title('PCA result')"
   ]
  },
  {
   "cell_type": "markdown",
   "id": "1b8c36f3",
   "metadata": {},
   "source": [
    "간단한 방법"
   ]
  },
  {
   "cell_type": "code",
   "execution_count": 103,
   "id": "3f5ef6fe",
   "metadata": {},
   "outputs": [
    {
     "data": {
      "text/plain": [
       "array([[-2.22600943],\n",
       "       [-0.0181432 ],\n",
       "       [ 1.76296611],\n",
       "       [-2.73542407],\n",
       "       [ 3.02711544],\n",
       "       [-2.14702579],\n",
       "       [-0.37142473],\n",
       "       [ 2.59239883],\n",
       "       [-0.39347815],\n",
       "       [ 0.50902498]])"
      ]
     },
     "execution_count": 103,
     "metadata": {},
     "output_type": "execute_result"
    }
   ],
   "source": [
    "from sklearn import decomposition\n",
    "\n",
    "pca = decomposition.PCA(n_components=1) #n_components; 몇차원으로 줄일 건지\n",
    "pca_x = pca.fit_transform(x_std)\n",
    "pca_x #부호 반대"
   ]
  },
  {
   "cell_type": "code",
   "execution_count": 105,
   "id": "faa967a5",
   "metadata": {},
   "outputs": [
    {
     "name": "stderr",
     "output_type": "stream",
     "text": [
      "C:\\Users\\Yejin\\.conda\\envs\\nlp\\lib\\site-packages\\seaborn\\_decorators.py:43: FutureWarning: Pass the following variables as keyword args: x, y. From version 0.12, the only valid positional argument will be `data`, and passing other arguments without an explicit keyword will result in an error or misinterpretation.\n",
      "  FutureWarning\n"
     ]
    },
    {
     "data": {
      "image/png": "[encoded data removed]",
      "text/plain": [
       "<Figure size 432.125x360 with 1 Axes>"
      ]
     },
     "metadata": {
      "needs_background": "light"
     },
     "output_type": "display_data"
    }
   ],
   "source": [
    "sklearn_result = pd.DataFrame(pca_x, columns=['PC1'])\n",
    "sklearn_result['y_axis'] = 0.0 #1차원에 사영시키기 위함. seaborn은 2차원이므로 y를 임의의 값 0으로 줌\n",
    "sklearn_result['label'] = Y\n",
    "\n",
    "sns.lmplot('PC1','y_axis', data=sklearn_result, fit_reg=False, scatter_kws={\"s\":50}, hue='label')\n",
    "plt.title('PCA result');"
   ]
  },
  {
   "cell_type": "code",
   "execution_count": 106,
   "id": "0d2c2d4c",
   "metadata": {},
   "outputs": [
    {
     "data": {
      "text/plain": [
       "array([[-2.22600943, -0.54936514],\n",
       "       [-0.0181432 , -0.23871898],\n",
       "       [ 1.76296611,  0.36868681],\n",
       "       [-2.73542407,  0.4544983 ],\n",
       "       [ 3.02711544, -0.41305057],\n",
       "       [-2.14702579, -0.83449111],\n",
       "       [-0.37142473, -1.05380594],\n",
       "       [ 2.59239883, -0.3985085 ],\n",
       "       [-0.39347815,  2.09420397],\n",
       "       [ 0.50902498,  0.57055116]])"
      ]
     },
     "execution_count": 106,
     "metadata": {},
     "output_type": "execute_result"
    }
   ],
   "source": [
    "#2차원 축소\n",
    "pca = decomposition.PCA(n_components=2)\n",
    "pca_x2 = pca.fit_transform(x_std)\n",
    "pca_x2"
   ]
  },
  {
   "cell_type": "code",
   "execution_count": 1,
   "id": "15944840",
   "metadata": {},
   "outputs": [
    {
     "ename": "NameError",
     "evalue": "name 'pd' is not defined",
     "output_type": "error",
     "traceback": [
      "\u001b[1;31m---------------------------------------------------------------------------\u001b[0m",
      "\u001b[1;31mNameError\u001b[0m                                 Traceback (most recent call last)",
      "\u001b[1;32m~\\AppData\\Local\\Temp\\ipykernel_6924\\2401058075.py\u001b[0m in \u001b[0;36m<module>\u001b[1;34m\u001b[0m\n\u001b[1;32m----> 1\u001b[1;33m \u001b[0msklearn_result\u001b[0m \u001b[1;33m=\u001b[0m \u001b[0mpd\u001b[0m\u001b[1;33m.\u001b[0m\u001b[0mDataFrame\u001b[0m\u001b[1;33m(\u001b[0m\u001b[0mpca_x2\u001b[0m\u001b[1;33m,\u001b[0m \u001b[0mcolumns\u001b[0m\u001b[1;33m=\u001b[0m\u001b[1;33m[\u001b[0m\u001b[1;34m'PC1'\u001b[0m\u001b[1;33m,\u001b[0m\u001b[1;34m'PC2'\u001b[0m\u001b[1;33m]\u001b[0m\u001b[1;33m)\u001b[0m\u001b[1;33m\u001b[0m\u001b[1;33m\u001b[0m\u001b[0m\n\u001b[0m\u001b[0;32m      2\u001b[0m \u001b[0msklearn_result\u001b[0m\u001b[1;33m[\u001b[0m\u001b[1;34m'label'\u001b[0m\u001b[1;33m]\u001b[0m \u001b[1;33m=\u001b[0m \u001b[0mY\u001b[0m\u001b[1;33m\u001b[0m\u001b[1;33m\u001b[0m\u001b[0m\n\u001b[0;32m      3\u001b[0m \u001b[1;33m\u001b[0m\u001b[0m\n\u001b[0;32m      4\u001b[0m \u001b[0msns\u001b[0m\u001b[1;33m.\u001b[0m\u001b[0mlmplot\u001b[0m\u001b[1;33m(\u001b[0m\u001b[1;34m'PC1'\u001b[0m\u001b[1;33m,\u001b[0m\u001b[1;34m'PC2'\u001b[0m\u001b[1;33m,\u001b[0m \u001b[0mdata\u001b[0m\u001b[1;33m=\u001b[0m\u001b[0msklearn_result\u001b[0m\u001b[1;33m,\u001b[0m \u001b[0mfit_reg\u001b[0m\u001b[1;33m=\u001b[0m\u001b[1;32mFalse\u001b[0m\u001b[1;33m,\u001b[0m \u001b[0mscatter_kws\u001b[0m\u001b[1;33m=\u001b[0m\u001b[1;33m{\u001b[0m\u001b[1;34m\"s\"\u001b[0m\u001b[1;33m:\u001b[0m\u001b[1;36m50\u001b[0m\u001b[1;33m}\u001b[0m\u001b[1;33m,\u001b[0m \u001b[0mhue\u001b[0m\u001b[1;33m=\u001b[0m\u001b[1;34m'label'\u001b[0m\u001b[1;33m)\u001b[0m\u001b[1;33m\u001b[0m\u001b[1;33m\u001b[0m\u001b[0m\n\u001b[0;32m      5\u001b[0m \u001b[0mplt\u001b[0m\u001b[1;33m.\u001b[0m\u001b[0mtitle\u001b[0m\u001b[1;33m(\u001b[0m\u001b[1;34m'PCA result'\u001b[0m\u001b[1;33m)\u001b[0m\u001b[1;33m;\u001b[0m\u001b[1;33m\u001b[0m\u001b[1;33m\u001b[0m\u001b[0m\n",
      "\u001b[1;31mNameError\u001b[0m: name 'pd' is not defined"
     ]
    }
   ],
   "source": [
    "sklearn_result = pd.DataFrame(pca_x2, columns=['PC1','PC2'])\n",
    "sklearn_result['label'] = Y\n",
    "\n",
    "sns.lmplot('PC1','PC2', data=sklearn_result, fit_reg=False, scatter_kws={\"s\":50}, hue='label')\n",
    "plt.title('PCA result');"
   ]
  },
  {
   "cell_type": "code",
   "execution_count": null,
   "id": "dcccba61",
   "metadata": {},
   "outputs": [],
   "source": []
  }
 ],
 "metadata": {
  "kernelspec": {
   "display_name": "nlp",
   "language": "python",
   "name": "nlp"
  },
  "language_info": {
   "codemirror_mode": {
    "name": "ipython",
    "version": 3
   },
   "file_extension": ".py",
   "mimetype": "text/x-python",
   "name": "python",
   "nbconvert_exporter": "python",
   "pygments_lexer": "ipython3",
   "version": "3.7.11"
  }
 },
 "nbformat": 4,
 "nbformat_minor": 5
}
