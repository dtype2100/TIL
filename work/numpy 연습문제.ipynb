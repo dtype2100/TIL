{
 "cells": [
  {
   "cell_type": "markdown",
   "metadata": {
    "id": "hgB8T3YBG1VP"
   },
   "source": [
    "## 문제 1 \n",
    "numpy 패키지를 임포트 하세요"
   ]
  },
  {
   "cell_type": "code",
   "execution_count": 8,
   "metadata": {
    "id": "Ol9J2niWCesc"
   },
   "outputs": [],
   "source": [
    "import numpy as np"
   ]
  },
  {
   "cell_type": "markdown",
   "metadata": {
    "id": "J66UaVjSCjq6"
   },
   "source": [
    "## 문제 2\n",
    "\n",
    "numpy 버전을 출력하세요"
   ]
  },
  {
   "cell_type": "code",
   "execution_count": null,
   "metadata": {
    "colab": {
     "base_uri": "https://localhost:8080/",
     "height": 172
    },
    "executionInfo": {
     "elapsed": 15,
     "status": "error",
     "timestamp": 1639986026646,
     "user": {
      "displayName": "찬구리",
      "photoUrl": "https://lh3.googleusercontent.com/a-/AOh14GjtCyIdRgJyiorWk1vWpTNzqkScYjjpGA5Ciopexw=s64",
      "userId": "07420005292514068618"
     },
     "user_tz": -540
    },
    "id": "YrJtIBeiGj4Z",
    "outputId": "21eec33d-f10b-45a8-b627-4090e4ff5d38"
   },
   "outputs": [
    {
     "ename": "NameError",
     "evalue": "ignored",
     "output_type": "error",
     "traceback": [
      "\u001b[0;31m---------------------------------------------------------------------------\u001b[0m",
      "\u001b[0;31mNameError\u001b[0m                                 Traceback (most recent call last)",
      "\u001b[0;32m<ipython-input-5-395ad90ca762>\u001b[0m in \u001b[0;36m<module>\u001b[0;34m()\u001b[0m\n\u001b[0;32m----> 1\u001b[0;31m \u001b[0mprint\u001b[0m\u001b[0;34m(\u001b[0m\u001b[0mnp\u001b[0m\u001b[0;34m.\u001b[0m\u001b[0m__version__\u001b[0m\u001b[0;34m)\u001b[0m\u001b[0;34m\u001b[0m\u001b[0;34m\u001b[0m\u001b[0m\n\u001b[0m",
      "\u001b[0;31mNameError\u001b[0m: name 'np' is not defined"
     ]
    }
   ],
   "source": [
    "print(np.__version__)"
   ]
  },
  {
   "cell_type": "markdown",
   "metadata": {
    "id": "HUW9IAsoHNwU"
   },
   "source": [
    "## 문제 3\n",
    "\n",
    "크기가 10인 zero vector Z 를 만드세요\n"
   ]
  },
  {
   "cell_type": "code",
   "execution_count": null,
   "metadata": {
    "colab": {
     "base_uri": "https://localhost:8080/",
     "height": 190
    },
    "executionInfo": {
     "elapsed": 15,
     "status": "error",
     "timestamp": 1639986142908,
     "user": {
      "displayName": "찬구리",
      "photoUrl": "https://lh3.googleusercontent.com/a-/AOh14GjtCyIdRgJyiorWk1vWpTNzqkScYjjpGA5Ciopexw=s64",
      "userId": "07420005292514068618"
     },
     "user_tz": -540
    },
    "id": "6KNf_lO3GnTz",
    "outputId": "d24681f5-dbcf-4a44-f59c-95f01511eca1"
   },
   "outputs": [
    {
     "ename": "NameError",
     "evalue": "ignored",
     "output_type": "error",
     "traceback": [
      "\u001b[0;31m---------------------------------------------------------------------------\u001b[0m",
      "\u001b[0;31mNameError\u001b[0m                                 Traceback (most recent call last)",
      "\u001b[0;32m<ipython-input-9-ccb25020bdb4>\u001b[0m in \u001b[0;36m<module>\u001b[0;34m()\u001b[0m\n\u001b[0;32m----> 1\u001b[0;31m \u001b[0mz\u001b[0m\u001b[0;34m=\u001b[0m \u001b[0mnp\u001b[0m\u001b[0;34m.\u001b[0m\u001b[0mzeros\u001b[0m\u001b[0;34m(\u001b[0m\u001b[0;36m10\u001b[0m\u001b[0;34m)\u001b[0m\u001b[0;34m\u001b[0m\u001b[0;34m\u001b[0m\u001b[0m\n\u001b[0m\u001b[1;32m      2\u001b[0m \u001b[0mprint\u001b[0m\u001b[0;34m(\u001b[0m\u001b[0mz\u001b[0m\u001b[0;34m)\u001b[0m\u001b[0;34m\u001b[0m\u001b[0;34m\u001b[0m\u001b[0m\n",
      "\u001b[0;31mNameError\u001b[0m: name 'np' is not defined"
     ]
    }
   ],
   "source": [
    "z= np.zeros(10)\n",
    "print(z)"
   ]
  },
  {
   "cell_type": "markdown",
   "metadata": {
    "id": "vJsEU6OIHcre"
   },
   "source": [
    "## 문제 4\n",
    "\n",
    "위에서 만든 zero vector의 5번째 값을 1로 수정하시오"
   ]
  },
  {
   "cell_type": "code",
   "execution_count": null,
   "metadata": {
    "colab": {
     "base_uri": "https://localhost:8080/"
    },
    "executionInfo": {
     "elapsed": 258,
     "status": "ok",
     "timestamp": 1639964058881,
     "user": {
      "displayName": "Dasom Oh",
      "photoUrl": "https://lh3.googleusercontent.com/a/default-user=s64",
      "userId": "09774935410501776649"
     },
     "user_tz": -540
    },
    "id": "VkA4rz06HXS_",
    "outputId": "26f5e2f9-f002-409f-8296-4066e6c71472"
   },
   "outputs": [
    {
     "name": "stdout",
     "output_type": "stream",
     "text": [
      "[0. 0. 0. 0. 1. 0. 0. 0. 0. 0.]\n"
     ]
    }
   ],
   "source": []
  },
  {
   "cell_type": "markdown",
   "metadata": {
    "id": "0Z4pFZv8Kxml"
   },
   "source": [
    "# 문제 5\n",
    "\n",
    "10에서 49까지 범위의 값을 갖는 벡터 Z를 만드세요"
   ]
  },
  {
   "cell_type": "code",
   "execution_count": null,
   "metadata": {
    "colab": {
     "base_uri": "https://localhost:8080/",
     "height": 190
    },
    "executionInfo": {
     "elapsed": 337,
     "status": "error",
     "timestamp": 1639986235210,
     "user": {
      "displayName": "찬구리",
      "photoUrl": "https://lh3.googleusercontent.com/a-/AOh14GjtCyIdRgJyiorWk1vWpTNzqkScYjjpGA5Ciopexw=s64",
      "userId": "07420005292514068618"
     },
     "user_tz": -540
    },
    "id": "HI75pVYbJqsY",
    "outputId": "f7f15c9e-bc9c-4e5b-b2de-6218f5adbf43"
   },
   "outputs": [
    {
     "ename": "NameError",
     "evalue": "ignored",
     "output_type": "error",
     "traceback": [
      "\u001b[0;31m---------------------------------------------------------------------------\u001b[0m",
      "\u001b[0;31mNameError\u001b[0m                                 Traceback (most recent call last)",
      "\u001b[0;32m<ipython-input-12-9140800364d3>\u001b[0m in \u001b[0;36m<module>\u001b[0;34m()\u001b[0m\n\u001b[0;32m----> 1\u001b[0;31m \u001b[0mZ\u001b[0m\u001b[0;34m=\u001b[0m \u001b[0mnp\u001b[0m\u001b[0;34m.\u001b[0m\u001b[0marange\u001b[0m\u001b[0;34m(\u001b[0m\u001b[0;36m10\u001b[0m\u001b[0;34m,\u001b[0m\u001b[0;36m50\u001b[0m\u001b[0;34m)\u001b[0m\u001b[0;34m\u001b[0m\u001b[0;34m\u001b[0m\u001b[0m\n\u001b[0m\u001b[1;32m      2\u001b[0m \u001b[0mprint\u001b[0m\u001b[0;34m(\u001b[0m\u001b[0mz\u001b[0m\u001b[0;34m)\u001b[0m\u001b[0;34m\u001b[0m\u001b[0;34m\u001b[0m\u001b[0m\n",
      "\u001b[0;31mNameError\u001b[0m: name 'np' is not defined"
     ]
    }
   ],
   "source": [
    "Z= np.arange(10,50)\n",
    "print(z)"
   ]
  },
  {
   "cell_type": "markdown",
   "metadata": {
    "id": "O5frukSnLnPK"
   },
   "source": [
    "#문제 6\n",
    "\n",
    "위에서 만든 벡터 Z를 역순으로 만드세요"
   ]
  },
  {
   "cell_type": "code",
   "execution_count": null,
   "metadata": {
    "colab": {
     "base_uri": "https://localhost:8080/",
     "height": 172
    },
    "executionInfo": {
     "elapsed": 326,
     "status": "error",
     "timestamp": 1639986282077,
     "user": {
      "displayName": "찬구리",
      "photoUrl": "https://lh3.googleusercontent.com/a-/AOh14GjtCyIdRgJyiorWk1vWpTNzqkScYjjpGA5Ciopexw=s64",
      "userId": "07420005292514068618"
     },
     "user_tz": -540
    },
    "id": "4Il0C_NDLk_3",
    "outputId": "b48ba471-ccb3-4835-e9bd-41cbcf0a7015"
   },
   "outputs": [
    {
     "ename": "NameError",
     "evalue": "ignored",
     "output_type": "error",
     "traceback": [
      "\u001b[0;31m---------------------------------------------------------------------------\u001b[0m",
      "\u001b[0;31mNameError\u001b[0m                                 Traceback (most recent call last)",
      "\u001b[0;32m<ipython-input-13-dd1357617e74>\u001b[0m in \u001b[0;36m<module>\u001b[0;34m()\u001b[0m\n\u001b[0;32m----> 1\u001b[0;31m \u001b[0mz\u001b[0m\u001b[0;34m[\u001b[0m\u001b[0;34m:\u001b[0m\u001b[0;34m:\u001b[0m\u001b[0;34m-\u001b[0m\u001b[0;36m1\u001b[0m\u001b[0;34m]\u001b[0m\u001b[0;34m\u001b[0m\u001b[0;34m\u001b[0m\u001b[0m\n\u001b[0m",
      "\u001b[0;31mNameError\u001b[0m: name 'z' is not defined"
     ]
    }
   ],
   "source": [
    "z[::-1]"
   ]
  },
  {
   "cell_type": "markdown",
   "metadata": {
    "id": "uAFouGLSZKOZ"
   },
   "source": [
    "## 문제 7\n",
    "\n",
    "\n",
    "arr = np.array([0, 1, 2, 3, 4, 5, 6, 7, 8, 9]) 의 벡터에서 홀수를 모두 -1로 바꾸세요"
   ]
  },
  {
   "cell_type": "code",
   "execution_count": null,
   "metadata": {
    "colab": {
     "base_uri": "https://localhost:8080/"
    },
    "executionInfo": {
     "elapsed": 283,
     "status": "ok",
     "timestamp": 1639964116447,
     "user": {
      "displayName": "Dasom Oh",
      "photoUrl": "https://lh3.googleusercontent.com/a/default-user=s64",
      "userId": "09774935410501776649"
     },
     "user_tz": -540
    },
    "id": "StM8UiCIZLOn",
    "outputId": "51c59f8a-00cf-43bb-855c-b3641e0d4b46"
   },
   "outputs": [
    {
     "data": {
      "text/plain": [
       "array([ 0, -1,  2, -1,  4, -1,  6, -1,  8, -1])"
      ]
     },
     "execution_count": 17,
     "metadata": {},
     "output_type": "execute_result"
    }
   ],
   "source": []
  },
  {
   "cell_type": "markdown",
   "metadata": {
    "id": "u5Cd6MS-ZnvQ"
   },
   "source": [
    "## 문제 8\n",
    "arr = np.array([0, 1, 2, 3, 4, 5, 6, 7, 8, 9]) 의 벡터에서 홀수를 모두 -1인 새로운 벡터를 만드세요"
   ]
  },
  {
   "cell_type": "code",
   "execution_count": null,
   "metadata": {
    "colab": {
     "base_uri": "https://localhost:8080/"
    },
    "executionInfo": {
     "elapsed": 271,
     "status": "ok",
     "timestamp": 1639964140567,
     "user": {
      "displayName": "Dasom Oh",
      "photoUrl": "https://lh3.googleusercontent.com/a/default-user=s64",
      "userId": "09774935410501776649"
     },
     "user_tz": -540
    },
    "id": "wWl3LbQ8ZzO-",
    "outputId": "88eeb6ba-1166-468a-9b76-0975d93d7777"
   },
   "outputs": [
    {
     "name": "stdout",
     "output_type": "stream",
     "text": [
      "[ 0 -1  2 -1  4 -1  6 -1  8 -1]\n",
      "[0 1 2 3 4 5 6 7 8 9]\n"
     ]
    }
   ],
   "source": []
  },
  {
   "cell_type": "markdown",
   "metadata": {
    "id": "ahRMBM13Z_uY"
   },
   "source": [
    "## 문제 9\n",
    "\n",
    "arr = np.array([0, 1, 2, 3, 4, 5, 6, 7, 8, 9])  벡터를 2x5 행렬로 바꾸세요"
   ]
  },
  {
   "cell_type": "code",
   "execution_count": null,
   "metadata": {
    "colab": {
     "base_uri": "https://localhost:8080/"
    },
    "executionInfo": {
     "elapsed": 244,
     "status": "ok",
     "timestamp": 1639964180520,
     "user": {
      "displayName": "Dasom Oh",
      "photoUrl": "https://lh3.googleusercontent.com/a/default-user=s64",
      "userId": "09774935410501776649"
     },
     "user_tz": -540
    },
    "id": "774ytCwUaX9F",
    "outputId": "6622c631-cf41-4612-8720-facdf413881f"
   },
   "outputs": [
    {
     "data": {
      "text/plain": [
       "array([[0, 1, 2, 3, 4],\n",
       "       [5, 6, 7, 8, 9]])"
      ]
     },
     "execution_count": 19,
     "metadata": {},
     "output_type": "execute_result"
    }
   ],
   "source": []
  },
  {
   "cell_type": "markdown",
   "metadata": {
    "id": "X-RmGzwkajPO"
   },
   "source": [
    "# 문제 10\n",
    "```\n",
    "a = np.arange(10).reshape(2,-1) \n",
    "b = np.repeat(1, 10).reshape(2,-1)\n",
    "```\n",
    "a 와 b를 아래와 같이 행 기준으로 합치세요\n",
    "```\n",
    "array([[0, 1, 2, 3, 4],\n",
    "       [5, 6, 7, 8, 9],\n",
    "       [1, 1, 1, 1, 1],\n",
    "       [1, 1, 1, 1, 1]])\n",
    "```"
   ]
  },
  {
   "cell_type": "code",
   "execution_count": 12,
   "metadata": {
    "colab": {
     "base_uri": "https://localhost:8080/"
    },
    "executionInfo": {
     "elapsed": 241,
     "status": "ok",
     "timestamp": 1639964240741,
     "user": {
      "displayName": "Dasom Oh",
      "photoUrl": "https://lh3.googleusercontent.com/a/default-user=s64",
      "userId": "09774935410501776649"
     },
     "user_tz": -540
    },
    "id": "392MJ0N-aive",
    "outputId": "0f34a4df-5e38-41fa-fee1-554e5909a1f0"
   },
   "outputs": [
    {
     "data": {
      "text/plain": [
       "array([[0, 1, 2, 3, 4],\n",
       "       [5, 6, 7, 8, 9],\n",
       "       [1, 1, 1, 1, 1],\n",
       "       [1, 1, 1, 1, 1]])"
      ]
     },
     "execution_count": 12,
     "metadata": {},
     "output_type": "execute_result"
    }
   ],
   "source": [
    "\n",
    "a = np.arange(10).reshape(2,-1)\n",
    "b = np.repeat(1, 10).reshape(2,-1)\n",
    "np.concatenate([a,b])"
   ]
  },
  {
   "cell_type": "markdown",
   "metadata": {
    "id": "K5snmc19cnz2"
   },
   "source": [
    "## 문제 11\n",
    "```\n",
    "a = np.arange(10).reshape(2,-1)\n",
    "\n",
    "b = np.repeat(1, 10).reshape(2,-1)\n",
    "```\n",
    "\n",
    "a와 b를 아래와 같이 열 기준으로 합치세요\n",
    "```\n",
    "array([[0, 1, 2, 3, 4, 1, 1, 1, 1, 1],\n",
    "       [5, 6, 7, 8, 9, 1, 1, 1, 1, 1]])\n",
    "\n",
    "```\n",
    "\n"
   ]
  },
  {
   "cell_type": "code",
   "execution_count": null,
   "metadata": {
    "colab": {
     "base_uri": "https://localhost:8080/"
    },
    "executionInfo": {
     "elapsed": 3,
     "status": "ok",
     "timestamp": 1639964275433,
     "user": {
      "displayName": "Dasom Oh",
      "photoUrl": "https://lh3.googleusercontent.com/a/default-user=s64",
      "userId": "09774935410501776649"
     },
     "user_tz": -540
    },
    "id": "tLly26F4c3xf",
    "outputId": "6375c46f-ac98-4e20-fe6b-1be5d8e7b20e"
   },
   "outputs": [
    {
     "name": "stdout",
     "output_type": "stream",
     "text": [
      "[[0 1 2 3 4 1 1 1 1 1]\n",
      " [5 6 7 8 9 1 1 1 1 1]]\n"
     ]
    },
    {
     "data": {
      "text/plain": [
       "array([[0, 1, 2, 3, 4, 1, 1, 1, 1, 1],\n",
       "       [5, 6, 7, 8, 9, 1, 1, 1, 1, 1]])"
      ]
     },
     "execution_count": 22,
     "metadata": {},
     "output_type": "execute_result"
    }
   ],
   "source": []
  },
  {
   "cell_type": "markdown",
   "metadata": {
    "id": "eKCaeCLHMOmj"
   },
   "source": [
    "## 문제 12\n",
    "\n",
    "0에서 8의 값을 갖는 3x3 행렬을 만드세요\n"
   ]
  },
  {
   "cell_type": "code",
   "execution_count": null,
   "metadata": {
    "colab": {
     "base_uri": "https://localhost:8080/"
    },
    "executionInfo": {
     "elapsed": 248,
     "status": "ok",
     "timestamp": 1639964296845,
     "user": {
      "displayName": "Dasom Oh",
      "photoUrl": "https://lh3.googleusercontent.com/a/default-user=s64",
      "userId": "09774935410501776649"
     },
     "user_tz": -540
    },
    "id": "3_3O-vnJMDau",
    "outputId": "7b090ee3-91dc-4257-bd7d-786ab49840b7"
   },
   "outputs": [
    {
     "name": "stdout",
     "output_type": "stream",
     "text": [
      "[[0 1 2]\n",
      " [3 4 5]\n",
      " [6 7 8]]\n"
     ]
    }
   ],
   "source": []
  },
  {
   "cell_type": "markdown",
   "metadata": {
    "id": "Zg_H-vFeU8EI"
   },
   "source": [
    "## 문제 13\n",
    "\n",
    "다음과 같은 행렬 [1,2,0,0,4,0] 에서 0이 아닌 값의 인덱스를 찾으세요 "
   ]
  },
  {
   "cell_type": "code",
   "execution_count": null,
   "metadata": {
    "colab": {
     "base_uri": "https://localhost:8080/"
    },
    "executionInfo": {
     "elapsed": 390,
     "status": "ok",
     "timestamp": 1639827453115,
     "user": {
      "displayName": "홍경수",
      "photoUrl": "https://lh3.googleusercontent.com/a/default-user=s64",
      "userId": "10514684854108920109"
     },
     "user_tz": -540
    },
    "id": "OAn0BTiaU2OK",
    "outputId": "a94637cd-dc6b-45d5-bd6c-304209d74509"
   },
   "outputs": [
    {
     "name": "stdout",
     "output_type": "stream",
     "text": [
      "(array([0, 1, 4]),)\n"
     ]
    }
   ],
   "source": []
  },
  {
   "cell_type": "markdown",
   "metadata": {
    "id": "083V-LkZVVvc"
   },
   "source": [
    "## 문제 14\n",
    "\n",
    "3x3 크기를 가지는 단위 행렬을 만드세요"
   ]
  },
  {
   "cell_type": "code",
   "execution_count": null,
   "metadata": {
    "colab": {
     "base_uri": "https://localhost:8080/"
    },
    "executionInfo": {
     "elapsed": 276,
     "status": "ok",
     "timestamp": 1639827667641,
     "user": {
      "displayName": "홍경수",
      "photoUrl": "https://lh3.googleusercontent.com/a/default-user=s64",
      "userId": "10514684854108920109"
     },
     "user_tz": -540
    },
    "id": "Cl0jGRZHVNTL",
    "outputId": "60c13e11-7abd-4a31-821e-cad755198522"
   },
   "outputs": [
    {
     "name": "stdout",
     "output_type": "stream",
     "text": [
      "[[1. 0. 0.]\n",
      " [0. 1. 0.]\n",
      " [0. 0. 1.]]\n"
     ]
    }
   ],
   "source": []
  },
  {
   "cell_type": "markdown",
   "metadata": {
    "id": "BUhwEnrnWQow"
   },
   "source": [
    "## 문제 15\n",
    "\n",
    "shape가 (3, 3, 3)인 랜덤값을 가지는 3차원 행렬을 만드세요"
   ]
  },
  {
   "cell_type": "code",
   "execution_count": null,
   "metadata": {
    "colab": {
     "base_uri": "https://localhost:8080/"
    },
    "executionInfo": {
     "elapsed": 243,
     "status": "ok",
     "timestamp": 1639827698263,
     "user": {
      "displayName": "홍경수",
      "photoUrl": "https://lh3.googleusercontent.com/a/default-user=s64",
      "userId": "10514684854108920109"
     },
     "user_tz": -540
    },
    "id": "mPmQsFbxWHbd",
    "outputId": "dab7ad6d-ca3b-42c3-93bb-453cf208b095"
   },
   "outputs": [
    {
     "name": "stdout",
     "output_type": "stream",
     "text": [
      "[[[0.94432862 0.04951614 0.29317509]\n",
      "  [0.99795163 0.29675516 0.90123103]\n",
      "  [0.19374989 0.29879454 0.33346999]]\n",
      "\n",
      " [[0.42530842 0.66715168 0.76739813]\n",
      "  [0.17442628 0.06646691 0.88176654]\n",
      "  [0.7575422  0.25425906 0.69130609]]\n",
      "\n",
      " [[0.54035373 0.74183953 0.71902144]\n",
      "  [0.906154   0.21976156 0.26258863]\n",
      "  [0.73261948 0.1254483  0.97203616]]]\n"
     ]
    }
   ],
   "source": []
  },
  {
   "cell_type": "markdown",
   "metadata": {
    "id": "g4TP-_BK69YX"
   },
   "source": []
  },
  {
   "cell_type": "code",
   "execution_count": null,
   "metadata": {
    "id": "nGkMYomV-Ggn"
   },
   "outputs": [],
   "source": []
  },
  {
   "cell_type": "markdown",
   "metadata": {
    "id": "sL7msD4NWq42"
   },
   "source": [
    "## 문제 16\n",
    "\n",
    "Create a 10x10 array with random values and find the minimum and maximum\n",
    "values\n",
    "\n",
    "임의의 값으로 채워진 10x10 행렬을 만들고 그 행렬의 최소값과 최대값을 찾으세요."
   ]
  },
  {
   "cell_type": "code",
   "execution_count": null,
   "metadata": {
    "colab": {
     "base_uri": "https://localhost:8080/"
    },
    "executionInfo": {
     "elapsed": 279,
     "status": "ok",
     "timestamp": 1639827850711,
     "user": {
      "displayName": "홍경수",
      "photoUrl": "https://lh3.googleusercontent.com/a/default-user=s64",
      "userId": "10514684854108920109"
     },
     "user_tz": -540
    },
    "id": "VnGUrceeWO7J",
    "outputId": "7cd62b27-163f-4885-d760-52d3795ee56e"
   },
   "outputs": [
    {
     "name": "stdout",
     "output_type": "stream",
     "text": [
      "0.014910326728743373 0.9975822149845712\n"
     ]
    }
   ],
   "source": []
  },
  {
   "cell_type": "markdown",
   "metadata": {
    "id": "gp03CR-R9ZsC"
   },
   "source": []
  },
  {
   "cell_type": "markdown",
   "metadata": {
    "id": "m4tA8GTuW2H-"
   },
   "source": [
    "## 문제 17\n",
    "\n",
    "Create a random vector of size 30 and find the mean value\n",
    "\n",
    "크기가 30인 임의의 벡터를 만들고 평균값을 찾으세요."
   ]
  },
  {
   "cell_type": "code",
   "execution_count": null,
   "metadata": {
    "colab": {
     "base_uri": "https://localhost:8080/"
    },
    "executionInfo": {
     "elapsed": 3,
     "status": "ok",
     "timestamp": 1639827876884,
     "user": {
      "displayName": "홍경수",
      "photoUrl": "https://lh3.googleusercontent.com/a/default-user=s64",
      "userId": "10514684854108920109"
     },
     "user_tz": -540
    },
    "id": "T6swqiRqW0Il",
    "outputId": "f8f2d69a-76da-4300-c7a4-3d01e23e36f9"
   },
   "outputs": [
    {
     "name": "stdout",
     "output_type": "stream",
     "text": [
      "0.5676736302376008\n"
     ]
    }
   ],
   "source": []
  },
  {
   "cell_type": "markdown",
   "metadata": {
    "id": "W4EIdpXOW7fT"
   },
   "source": [
    "## 문제 18\n",
    "\n",
    "Create a 2d array with 1 on the border and 0 inside\n",
    "\n",
    "테두리가 1이고 내부가 0으로 채워진 2차원 행렬을 만드세요."
   ]
  },
  {
   "cell_type": "code",
   "execution_count": null,
   "metadata": {
    "id": "kFSSd3V5W6hg"
   },
   "outputs": [],
   "source": []
  },
  {
   "cell_type": "markdown",
   "metadata": {
    "id": "Bj5DjuaPXCAQ"
   },
   "source": [
    "## 문제 19\n",
    "\n",
    "What is the result of the following expression? \n",
    "\n",
    "다음 연산의 결과는 유추하세요."
   ]
  },
  {
   "cell_type": "code",
   "execution_count": null,
   "metadata": {
    "colab": {
     "base_uri": "https://localhost:8080/"
    },
    "executionInfo": {
     "elapsed": 274,
     "status": "ok",
     "timestamp": 1639827928943,
     "user": {
      "displayName": "홍경수",
      "photoUrl": "https://lh3.googleusercontent.com/a/default-user=s64",
      "userId": "10514684854108920109"
     },
     "user_tz": -540
    },
    "id": "E04-Sr5WXBIK",
    "outputId": "be5e520e-3c95-4516-d6e0-1ae8a9a78941"
   },
   "outputs": [
    {
     "data": {
      "text/plain": [
       "False"
      ]
     },
     "execution_count": 20,
     "metadata": {},
     "output_type": "execute_result"
    }
   ],
   "source": []
  },
  {
   "cell_type": "markdown",
   "metadata": {
    "id": "XrWsm8IeX5CS"
   },
   "source": [
    "## 문제 20\n",
    "\n",
    "Create a vector of size 10 with values ranging from 0 to 1, both excluded\n",
    "\n",
    "0에서 1 사이에 균등하게 배분된 값을 반환하는 벡터를 생성합니다(0, 1을 포함)\n",
    "\n",
    "그 다음 처음과 마지막값을 제외한 배열을 출력하세요(출력하는 배열의 크기는 10입니다.)."
   ]
  },
  {
   "cell_type": "code",
   "execution_count": null,
   "metadata": {
    "colab": {
     "base_uri": "https://localhost:8080/"
    },
    "executionInfo": {
     "elapsed": 5,
     "status": "ok",
     "timestamp": 1639957927885,
     "user": {
      "displayName": "Dasom Oh",
      "photoUrl": "https://lh3.googleusercontent.com/a/default-user=s64",
      "userId": "09774935410501776649"
     },
     "user_tz": -540
    },
    "id": "fX3gEM6kXHPK",
    "outputId": "acfababa-23e1-4d00-ea8d-3e794462e6d3"
   },
   "outputs": [
    {
     "name": "stdout",
     "output_type": "stream",
     "text": [
      "[0.09090909 0.18181818 0.27272727 0.36363636 0.45454545 0.54545455\n",
      " 0.63636364 0.72727273 0.81818182 0.90909091]\n"
     ]
    }
   ],
   "source": []
  },
  {
   "cell_type": "markdown",
   "metadata": {
    "id": "ZvldI6uFYHZg"
   },
   "source": [
    "## 문제 21\n",
    "\n",
    "Create a random vector of size 10 and sort it\n",
    "\n",
    "크기가 10인 임의의 벡터를 만들고 정렬하세요."
   ]
  },
  {
   "cell_type": "code",
   "execution_count": null,
   "metadata": {
    "colab": {
     "base_uri": "https://localhost:8080/"
    },
    "executionInfo": {
     "elapsed": 267,
     "status": "ok",
     "timestamp": 1639828203466,
     "user": {
      "displayName": "홍경수",
      "photoUrl": "https://lh3.googleusercontent.com/a/default-user=s64",
      "userId": "10514684854108920109"
     },
     "user_tz": -540
    },
    "id": "m5w5WBWQX8WX",
    "outputId": "847e99ae-a818-442f-8ca5-380c6adbc5d3"
   },
   "outputs": [
    {
     "name": "stdout",
     "output_type": "stream",
     "text": [
      "[0.14337895 0.16515857 0.23489601 0.26305674 0.28416904 0.38331113\n",
      " 0.40315992 0.50086449 0.76905631 0.86165008]\n"
     ]
    }
   ],
   "source": []
  },
  {
   "cell_type": "markdown",
   "metadata": {
    "id": "nsOa15RlYTDO"
   },
   "source": [
    "## 문제 22\n",
    "\n",
    "Create random vector of size 10 and replace the maximum value by 0\n",
    "\n",
    "크기가 10인 임의의 벡터를 만들고 최대값을 0으로 바꾸세요."
   ]
  },
  {
   "cell_type": "code",
   "execution_count": null,
   "metadata": {
    "colab": {
     "base_uri": "https://localhost:8080/"
    },
    "executionInfo": {
     "elapsed": 247,
     "status": "ok",
     "timestamp": 1639963012081,
     "user": {
      "displayName": "Dasom Oh",
      "photoUrl": "https://lh3.googleusercontent.com/a/default-user=s64",
      "userId": "09774935410501776649"
     },
     "user_tz": -540
    },
    "id": "BESTsCWIYKQp",
    "outputId": "5c9b9512-4315-469c-f25e-8bcdd3f6da83"
   },
   "outputs": [
    {
     "name": "stdout",
     "output_type": "stream",
     "text": [
      "[0.483974   0.40540727 0.19330724 0.37986132 0.03874309 0.3459543\n",
      " 0.52953417 0.5398927  0.         0.56540744]\n"
     ]
    }
   ],
   "source": []
  },
  {
   "cell_type": "markdown",
   "metadata": {
    "id": "0ExMpgwPdSqR"
   },
   "source": [
    "\n",
    "## 문제 23\n",
    "\n",
    "```\n",
    "a = np.array([1,2,3,2,3,4,3,4,5,6])\n",
    "b = np.array([7,2,10,2,7,4,9,4,9,8])\n",
    "\n",
    "```\n",
    "\n",
    "a, b 두 벡터의 같은 위치에 있는 값이 같은 인덱스를 구하세요\n",
    "```\n",
    "결과 예)\n",
    "(array([1, 3, 5, 7]),)\n",
    "```"
   ]
  },
  {
   "cell_type": "code",
   "execution_count": null,
   "metadata": {
    "colab": {
     "base_uri": "https://localhost:8080/"
    },
    "executionInfo": {
     "elapsed": 281,
     "status": "ok",
     "timestamp": 1639829775783,
     "user": {
      "displayName": "홍경수",
      "photoUrl": "https://lh3.googleusercontent.com/a/default-user=s64",
      "userId": "10514684854108920109"
     },
     "user_tz": -540
    },
    "id": "1OkHKHwAYT0c",
    "outputId": "14b1b773-37f1-4106-f7e8-38980ad2b74f"
   },
   "outputs": [
    {
     "data": {
      "text/plain": [
       "(array([1, 3, 5, 7]),)"
      ]
     },
     "execution_count": 33,
     "metadata": {},
     "output_type": "execute_result"
    }
   ],
   "source": []
  },
  {
   "cell_type": "markdown",
   "metadata": {
    "id": "lX_KWlyJeOUJ"
   },
   "source": [
    "## 문제 24\n",
    "\n",
    "```\n",
    "a = np.array([2, 6, 1, 9, 10, 3, 27])\n",
    "```\n",
    "\n",
    "a 에서 5이상 10 이하의 값만 가지는 벡터를 만드세요\n"
   ]
  },
  {
   "cell_type": "code",
   "execution_count": null,
   "metadata": {
    "colab": {
     "base_uri": "https://localhost:8080/"
    },
    "executionInfo": {
     "elapsed": 262,
     "status": "ok",
     "timestamp": 1639830775013,
     "user": {
      "displayName": "홍경수",
      "photoUrl": "https://lh3.googleusercontent.com/a/default-user=s64",
      "userId": "10514684854108920109"
     },
     "user_tz": -540
    },
    "id": "_F-RY4A4eKG8",
    "outputId": "151750a1-e24e-40b3-a368-0123b5474503"
   },
   "outputs": [
    {
     "name": "stdout",
     "output_type": "stream",
     "text": [
      "[ 6  9 10]\n"
     ]
    },
    {
     "data": {
      "text/plain": [
       "array([ 6,  9, 10])"
      ]
     },
     "execution_count": 34,
     "metadata": {},
     "output_type": "execute_result"
    }
   ],
   "source": []
  },
  {
   "cell_type": "code",
   "execution_count": null,
   "metadata": {
    "id": "lO5nVYCih-EP"
   },
   "outputs": [],
   "source": []
  }
 ],
 "metadata": {
  "colab": {
   "collapsed_sections": [],
   "name": "numpy 연습문제.ipynb",
   "provenance": []
  },
  "kernelspec": {
   "display_name": "Python 3 (ipykernel)",
   "language": "python",
   "name": "python3"
  },
  "language_info": {
   "codemirror_mode": {
    "name": "ipython",
    "version": 3
   },
   "file_extension": ".py",
   "mimetype": "text/x-python",
   "name": "python",
   "nbconvert_exporter": "python",
   "pygments_lexer": "ipython3",
   "version": "3.9.7"
  }
 },
 "nbformat": 4,
 "nbformat_minor": 1
}
