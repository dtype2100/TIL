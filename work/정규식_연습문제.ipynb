{
 "cells": [
  {
   "cell_type": "code",
   "execution_count": 9,
   "metadata": {
    "id": "VMMH5iQiDJwV"
   },
   "outputs": [],
   "source": [
    "import re"
   ]
  },
  {
   "cell_type": "markdown",
   "metadata": {
    "id": "kXYznx8hJoxz"
   },
   "source": [
    "1) 문자열이 특정 문자 집합(이 경우 a-z, A-Z 및 0-9)만 포함하는지 확인하는 함수를 작성하세요."
   ]
  },
  {
   "cell_type": "code",
   "execution_count": 24,
   "metadata": {
    "colab": {
     "base_uri": "https://localhost:8080/"
    },
    "executionInfo": {
     "elapsed": 329,
     "status": "ok",
     "timestamp": 1640246253180,
     "user": {
      "displayName": "Dasom Oh",
      "photoUrl": "https://lh3.googleusercontent.com/a/default-user=s64",
      "userId": "09774935410501776649"
     },
     "user_tz": -540
    },
    "id": "vbDbcBPgJkuK",
    "outputId": "42e20ee4-53cd-49a5-f2d3-fe9729ac0704"
   },
   "outputs": [
    {
     "name": "stdout",
     "output_type": "stream",
     "text": [
      "True\n",
      "True\n"
     ]
    }
   ],
   "source": [
    "def is_allowed_specific_char(string):\n",
    "    charRe = re.compile('a-zA-Z0-9')\n",
    "    string = charRe.search(string)\n",
    "    return not bool(string)\n",
    "\n",
    "print(is_allowed_specific_char(\"ABCDEFabcdef123450\")) \n",
    "print(is_allowed_specific_char(\"*&%@#!}{\"))"
   ]
  },
  {
   "cell_type": "markdown",
   "metadata": {
    "id": "jvEGZAQuLj8P"
   },
   "source": [
    "2) 문자열의 뒷부분이 한개 이상의 b로 이뤄져 있는지 여부를 반환하는 함수를 작성하세요"
   ]
  },
  {
   "cell_type": "code",
   "execution_count": 137,
   "metadata": {
    "colab": {
     "base_uri": "https://localhost:8080/"
    },
    "executionInfo": {
     "elapsed": 3,
     "status": "ok",
     "timestamp": 1640244381841,
     "user": {
      "displayName": "Dasom Oh",
      "photoUrl": "https://lh3.googleusercontent.com/a/default-user=s64",
      "userId": "09774935410501776649"
     },
     "user_tz": -540
    },
    "id": "ffQxaQFxLhfB",
    "outputId": "226c1072-efd0-45cb-8ac4-8f8b872e8ea7"
   },
   "outputs": [
    {
     "name": "stdout",
     "output_type": "stream",
     "text": [
      "Not matched!\n",
      "Not matched!\n",
      "Not matched!\n",
      "Found a match!\n"
     ]
    }
   ],
   "source": [
    "def text_match(text):\n",
    "        patterns = '.*b+$'\n",
    "        if re.search(patterns,  text):\n",
    "                return 'Found a match!'\n",
    "        else:\n",
    "                return('Not matched!')\n",
    "\n",
    "print(text_match(\"ac\"))\n",
    "print(text_match(\"abc\"))\n",
    "print(text_match(\"abbc\"))\n",
    "print(text_match(\"abb\"))"
   ]
  },
  {
   "cell_type": "markdown",
   "metadata": {
    "id": "RQKXc40VL0j2"
   },
   "source": [
    "3) 문자열의 뒷부분이 한개 이상의 b로 이뤄져 있는지 여부를 반환하는 함수를 작성하세요"
   ]
  },
  {
   "cell_type": "code",
   "execution_count": 105,
   "metadata": {
    "colab": {
     "base_uri": "https://localhost:8080/"
    },
    "executionInfo": {
     "elapsed": 319,
     "status": "ok",
     "timestamp": 1640246318996,
     "user": {
      "displayName": "Dasom Oh",
      "photoUrl": "https://lh3.googleusercontent.com/a/default-user=s64",
      "userId": "09774935410501776649"
     },
     "user_tz": -540
    },
    "id": "-DB7h683LwSV",
    "outputId": "d3945c62-7bda-4e99-b8e7-3ea689745a92"
   },
   "outputs": [
    {
     "name": "stdout",
     "output_type": "stream",
     "text": [
      "Found a match!\n",
      "Found a match!\n"
     ]
    }
   ],
   "source": [
    "def text_match(text):\n",
    "        patterns = '^a'\n",
    "        if re.search(patterns,  text):\n",
    "                return 'Found a match!'\n",
    "        else:\n",
    "                return('Not matched!')\n",
    "\n",
    "print(text_match(\"ab\"))\n",
    "print(text_match(\"abc\"))"
   ]
  },
  {
   "cell_type": "markdown",
   "metadata": {
    "id": "HLx70spPMAZ5"
   },
   "source": [
    "4) 문자열의 뒷부분이 0 또는 한 개의 b로 이뤄져 있는지 여부를 반환하는 함수를 작성하세요."
   ]
  },
  {
   "cell_type": "code",
   "execution_count": 104,
   "metadata": {
    "colab": {
     "base_uri": "https://localhost:8080/"
    },
    "executionInfo": {
     "elapsed": 449,
     "status": "ok",
     "timestamp": 1640246329781,
     "user": {
      "displayName": "Dasom Oh",
      "photoUrl": "https://lh3.googleusercontent.com/a/default-user=s64",
      "userId": "09774935410501776649"
     },
     "user_tz": -540
    },
    "id": "ErGaq7dKL8H6",
    "outputId": "9884c22f-0795-44ce-d97b-4ef5cf5da401"
   },
   "outputs": [
    {
     "name": "stdout",
     "output_type": "stream",
     "text": [
      "Found a match!\n",
      "Found a match!\n",
      "Found a match!\n",
      "Found a match!\n"
     ]
    }
   ],
   "source": [
    "def text_match(text):\n",
    "        patterns = '^a' \n",
    "        if re.search(patterns,  text):\n",
    "                return 'Found a match!'\n",
    "        else:\n",
    "                return('Not matched!')\n",
    "\n",
    "print(text_match(\"ab\"))\n",
    "print(text_match(\"abc\"))\n",
    "print(text_match(\"abb\"))\n",
    "print(text_match(\"aabbcb\"))"
   ]
  },
  {
   "cell_type": "markdown",
   "metadata": {
    "id": "BjuPWCxcMOoD"
   },
   "source": [
    "5) 문자열의 뒷부분이 세 개의 b로 이뤄져 있는지 여부를 반환하는 함수를 작성하세요"
   ]
  },
  {
   "cell_type": "code",
   "execution_count": 103,
   "metadata": {
    "colab": {
     "base_uri": "https://localhost:8080/"
    },
    "executionInfo": {
     "elapsed": 384,
     "status": "ok",
     "timestamp": 1640246375298,
     "user": {
      "displayName": "Dasom Oh",
      "photoUrl": "https://lh3.googleusercontent.com/a/default-user=s64",
      "userId": "09774935410501776649"
     },
     "user_tz": -540
    },
    "id": "rzHgFwK-MLrN",
    "outputId": "98e5ae6a-6399-4b7c-d12f-184e8ed15fe8"
   },
   "outputs": [
    {
     "name": "stdout",
     "output_type": "stream",
     "text": [
      "Found a match!\n",
      "Found a match!\n",
      "Found a match!\n",
      "Found a match!\n"
     ]
    }
   ],
   "source": [
    "def text_match(text):\n",
    "        patterns = '^a'\n",
    "        if re.search(patterns,  text):\n",
    "                return 'Found a match!'\n",
    "        else:\n",
    "                return('Not matched!')\n",
    "\n",
    "print(text_match(\"abb\"))\n",
    "print(text_match(\"abbb\"))\n",
    "print(text_match(\"abbbb\"))\n",
    "print(text_match(\"aabbbc\"))"
   ]
  },
  {
   "cell_type": "markdown",
   "metadata": {
    "id": "RLeG4NgZMZEs"
   },
   "source": [
    "6) 주어진 문자열이 아래 패턴을 만족하는지 여부를 반환하는 함수를 작성하세요\n",
    "\n",
    "목적 패턴 : 2~3개의 'b'가 있는 문자열."
   ]
  },
  {
   "cell_type": "code",
   "execution_count": 136,
   "metadata": {
    "colab": {
     "base_uri": "https://localhost:8080/"
    },
    "executionInfo": {
     "elapsed": 346,
     "status": "ok",
     "timestamp": 1640244576230,
     "user": {
      "displayName": "Dasom Oh",
      "photoUrl": "https://lh3.googleusercontent.com/a/default-user=s64",
      "userId": "09774935410501776649"
     },
     "user_tz": -540
    },
    "id": "QhQavIHgMVY_",
    "outputId": "967b051d-4b12-4af3-ee00-865a5df88b19"
   },
   "outputs": [
    {
     "name": "stdout",
     "output_type": "stream",
     "text": [
      "Found a match!\n",
      "Found a match!\n",
      "Found a match!\n",
      "Found a match!\n",
      "Found a match!\n"
     ]
    }
   ],
   "source": [
    "def text_match(text):\n",
    "        patterns = r'\\b'\n",
    "        if re.search(patterns,  text):\n",
    "                return 'Found a match!'\n",
    "        else:\n",
    "                return('Not matched!')\n",
    "\n",
    "print(text_match(\"ab\"))\n",
    "print(text_match(\"abb\"))\n",
    "print(text_match(\"abbb\"))\n",
    "print(text_match(\"abbbb\"))\n",
    "print(text_match(\"abbc\"))"
   ]
  },
  {
   "cell_type": "markdown",
   "metadata": {
    "id": "ltZC_u8hMhg6"
   },
   "source": [
    "7) 주어진 문자열이 아래 패턴을 만족하는지 여부를 반환하는 함수를 작성하세요\n",
    "\n",
    "목적 패턴 : 하나의 밑줄로 연결된 일련의 소문자"
   ]
  },
  {
   "cell_type": "code",
   "execution_count": 81,
   "metadata": {
    "colab": {
     "base_uri": "https://localhost:8080/"
    },
    "executionInfo": {
     "elapsed": 4,
     "status": "ok",
     "timestamp": 1640244606306,
     "user": {
      "displayName": "Dasom Oh",
      "photoUrl": "https://lh3.googleusercontent.com/a/default-user=s64",
      "userId": "09774935410501776649"
     },
     "user_tz": -540
    },
    "id": "hkkMCBTaMeuP",
    "outputId": "2b485f48-136c-4797-f7ed-de352de1948f"
   },
   "outputs": [
    {
     "name": "stdout",
     "output_type": "stream",
     "text": [
      "Found a match!\n",
      "Found a match!\n",
      "Found a match!\n"
     ]
    }
   ],
   "source": [
    "def text_match(text):\n",
    "        patterns = 'a'\n",
    "        if re.search(patterns,  text):\n",
    "                return 'Found a match!'\n",
    "        else:\n",
    "                return('Not matched!')\n",
    "\n",
    "print(text_match(\"aab_cbbbc\"))\n",
    "print(text_match(\"aab_Abbbc\"))\n",
    "print(text_match(\"Aaab_abbbc\"))"
   ]
  },
  {
   "cell_type": "markdown",
   "metadata": {
    "id": "gByHAYkNMpkU"
   },
   "source": [
    "8) 아래 모든 패턴을 만족하는 지 여부를 반환하는 주어진 함수를 작성하세요\n",
    "\n",
    "\n",
    "목적 패턴\n",
    "\n",
    "> type 1 문자열 : 대문자와 소문자로 이뤄진 문자열\n",
    "\n",
    "> type 2 문자열 : 소문자로 이뤄진 문자열\n",
    "\n",
    "> type 3 문자열 : 대문자로 이뤄진 문자열\n",
    "\n",
    "> 예시1) type 1 or 3 _ type 2\n",
    "\n",
    "> 예시2) type 2 _ type 1 or 3\n",
    "\n",
    "> 예시3) type 1 or 3 _ type 1 or 3\n",
    "\n"
   ]
  },
  {
   "cell_type": "code",
   "execution_count": 82,
   "metadata": {
    "colab": {
     "base_uri": "https://localhost:8080/"
    },
    "executionInfo": {
     "elapsed": 322,
     "status": "ok",
     "timestamp": 1640246538894,
     "user": {
      "displayName": "Dasom Oh",
      "photoUrl": "https://lh3.googleusercontent.com/a/default-user=s64",
      "userId": "09774935410501776649"
     },
     "user_tz": -540
    },
    "id": "SZZRMD7xMnFS",
    "outputId": "e4664ee3-056b-46cb-bbb9-06b7b4b02f2e"
   },
   "outputs": [
    {
     "name": "stdout",
     "output_type": "stream",
     "text": [
      "Found a match!\n",
      "Found a match!\n",
      "Found a match!\n",
      "Found a match!\n"
     ]
    }
   ],
   "source": [
    "def text_match(text):\n",
    "        patterns = 'A-Za-z'\n",
    "        if not re.search(patterns,  text):\n",
    "                return 'Found a match!'\n",
    "        else:\n",
    "                return('Not matched!')\n",
    "\n",
    "print(text_match(\"aab_cbbbc\"))\n",
    "print(text_match(\"aab_Abbbc\"))\n",
    "print(text_match(\"Aaab_abbbc\"))\n",
    "print(text_match(\"AB_CD\"))"
   ]
  },
  {
   "cell_type": "markdown",
   "metadata": {
    "id": "fIG7pDFaNMIz"
   },
   "source": [
    "9) 문자열이 'a'로 시작하고 'b'로 끝나는지 여부를 반환하는 함수를 작성하세요."
   ]
  },
  {
   "cell_type": "code",
   "execution_count": 138,
   "metadata": {
    "colab": {
     "base_uri": "https://localhost:8080/"
    },
    "executionInfo": {
     "elapsed": 353,
     "status": "ok",
     "timestamp": 1640246548829,
     "user": {
      "displayName": "Dasom Oh",
      "photoUrl": "https://lh3.googleusercontent.com/a/default-user=s64",
      "userId": "09774935410501776649"
     },
     "user_tz": -540
    },
    "id": "yAPmKOFxNJoI",
    "outputId": "36ae6c1d-4f13-4827-9715-83c9d61864e1"
   },
   "outputs": [
    {
     "name": "stdout",
     "output_type": "stream",
     "text": [
      "Not matched!\n",
      "Not matched!\n",
      "Found a match!\n"
     ]
    }
   ],
   "source": [
    "def text_match(text):\n",
    "        patterns = '^a.*b$' #질문\n",
    "        if re.search(patterns,  text):\n",
    "                return 'Found a match!'\n",
    "        else:\n",
    "                return('Not matched!')\n",
    "\n",
    "print(text_match(\"aabbbbd\"))\n",
    "print(text_match(\"aabAbbbc\"))\n",
    "print(text_match(\"accddbbjjjb\"))"
   ]
  },
  {
   "cell_type": "markdown",
   "metadata": {
    "id": "Y-yU31dWNRU9"
   },
   "source": [
    "10) 문자열의 첫 부분이 주어진 집합에 속하는지 여부를 반환하는 정규식을 작성하세요.\n",
    "\n",
    "문자집합 : characters from a to Z, digits from 0-9, and the underscore _ character"
   ]
  },
  {
   "cell_type": "code",
   "execution_count": 100,
   "metadata": {
    "colab": {
     "base_uri": "https://localhost:8080/"
    },
    "executionInfo": {
     "elapsed": 336,
     "status": "ok",
     "timestamp": 1640246575806,
     "user": {
      "displayName": "Dasom Oh",
      "photoUrl": "https://lh3.googleusercontent.com/a/default-user=s64",
      "userId": "09774935410501776649"
     },
     "user_tz": -540
    },
    "id": "E6T_WtJwNPiR",
    "outputId": "443764e0-eb03-4dd4-f3f1-25e6c4c9c9b4"
   },
   "outputs": [
    {
     "name": "stdout",
     "output_type": "stream",
     "text": [
      "Found a match!\n",
      "Found a match!\n",
      "Found a match!\n",
      "Found a match!\n"
     ]
    }
   ],
   "source": [
    "def text_match(text):\n",
    "        patterns = 'dog.$'\n",
    "        if re.search(patterns,  text):\n",
    "                return 'Found a match!'\n",
    "        else:\n",
    "                return('Not matched!')\n",
    "\n",
    "print(text_match(\"The quick brown fox jumps over the lazy dog.\"))\n",
    "print(text_match(\" The quick brown fox jumps over the lazy dog.\"))\n",
    "print(text_match(\"!!The quick brown fox jumps over the lazy dog.\"))\n",
    "print(text_match(\"$The quick brown fox jumps over the lazy dog.\"))"
   ]
  },
  {
   "cell_type": "markdown",
   "metadata": {
    "id": "51E-qcr4OQe0"
   },
   "source": [
    "11) 문자열의 마지막이 구두점인지 여부를 반환하는 함수를 작성하세요.\n",
    "\n",
    "구두점은 아래와 같이 정의됩니다.\n",
    "\n",
    "\n",
    "```\n",
    "import string\n",
    "print(string.punctuation) \n",
    "# !\"#$%&\\'()*+,-./:;<=>?@[\\\\]^_`{|}~\n",
    "```\n",
    "\n"
   ]
  },
  {
   "cell_type": "code",
   "execution_count": 107,
   "metadata": {
    "colab": {
     "base_uri": "https://localhost:8080/"
    },
    "executionInfo": {
     "elapsed": 373,
     "status": "ok",
     "timestamp": 1640246588660,
     "user": {
      "displayName": "Dasom Oh",
      "photoUrl": "https://lh3.googleusercontent.com/a/default-user=s64",
      "userId": "09774935410501776649"
     },
     "user_tz": -540
    },
    "id": "Ndc77ZB9OMc3",
    "outputId": "f76a52cc-c53f-4d69-8bc2-7b12032bdbf1"
   },
   "outputs": [
    {
     "name": "stdout",
     "output_type": "stream",
     "text": [
      "Found a match!\n",
      "Found a match!\n",
      "Found a match!\n",
      "Found a match!\n"
     ]
    }
   ],
   "source": [
    "import string\n",
    "def text_match(text):\n",
    "        patterns = f'.$'\n",
    "        if re.search(patterns,  text):\n",
    "                return 'Found a match!'\n",
    "        else:\n",
    "                return('Not matched!')\n",
    "\n",
    "print(text_match(\"The quick brown fox jumps over the lazy dog.\"))\n",
    "print(text_match(\"The quick brown fox jumps over the lazy dog. \"))\n",
    "print(text_match(\"The quick brown fox jumps over the lazy dog \"))\n",
    "print(text_match(\"The quick brown fox jumps over the lazy dog?\"))"
   ]
  },
  {
   "cell_type": "markdown",
   "metadata": {
    "id": "0VJoG1gsOkMa"
   },
   "source": [
    "12) 주어진 문자열이 'z'를 포함하는 단어를 가지고 있는지 여부를 반환하는 함수를 작성하세요"
   ]
  },
  {
   "cell_type": "code",
   "execution_count": 108,
   "metadata": {
    "colab": {
     "base_uri": "https://localhost:8080/"
    },
    "executionInfo": {
     "elapsed": 312,
     "status": "ok",
     "timestamp": 1640246596798,
     "user": {
      "displayName": "Dasom Oh",
      "photoUrl": "https://lh3.googleusercontent.com/a/default-user=s64",
      "userId": "09774935410501776649"
     },
     "user_tz": -540
    },
    "id": "6_fHtsvBOhE2",
    "outputId": "7916956e-a019-47ee-e48b-c9e94bf555b7"
   },
   "outputs": [
    {
     "name": "stdout",
     "output_type": "stream",
     "text": [
      "Found a match!\n",
      "Not matched!\n",
      "Found a match!\n",
      "Found a match!\n"
     ]
    }
   ],
   "source": [
    "def text_match(text):\n",
    "        patterns = 'z'\n",
    "        if re.search(patterns,  text):\n",
    "                return 'Found a match!'\n",
    "        else:\n",
    "                return('Not matched!')\n",
    "\n",
    "print(text_match(\"The quick brown fox jumps over the lazy dog.\"))\n",
    "print(text_match(\"Python Exercises.\"))\n",
    "print(text_match(\"Python Exercisesz.\"))\n",
    "print(text_match(\"Python Exercisesz?\"))"
   ]
  },
  {
   "cell_type": "markdown",
   "metadata": {
    "id": "_A_mD_4BOory"
   },
   "source": [
    "13) 주어진 문자열이 일정한 패턴을 만족하는 단어를 포함하는지 여부를 반환하는 함수를 작성하세요.\n",
    "\n",
    "목적 패턴: 단어의 시작이나 끝자리를 제외한 나머지 위치에 문자 'z'가 위치\n",
    "\n",
    "비적격 문자열 : zaa, aaz\n",
    "\n",
    "적격 문자열 : zza, azz, zzz, aza"
   ]
  },
  {
   "cell_type": "code",
   "execution_count": 118,
   "metadata": {
    "colab": {
     "base_uri": "https://localhost:8080/"
    },
    "executionInfo": {
     "elapsed": 329,
     "status": "ok",
     "timestamp": 1640246621028,
     "user": {
      "displayName": "Dasom Oh",
      "photoUrl": "https://lh3.googleusercontent.com/a/default-user=s64",
      "userId": "09774935410501776649"
     },
     "user_tz": -540
    },
    "id": "mJNJLvQvOm9r",
    "outputId": "2a8d5186-bf01-4f3c-920a-3d1db1090295"
   },
   "outputs": [
    {
     "name": "stdout",
     "output_type": "stream",
     "text": [
      "Found a match!\n",
      "Found a match!\n"
     ]
    }
   ],
   "source": [
    "def text_match(text):\n",
    "        patterns = '\\w' #질문\n",
    "        if re.search(patterns,  text):\n",
    "                return 'Found a match!'\n",
    "        else:\n",
    "                return('Not matched!')\n",
    "\n",
    "print(text_match(\"The quick brown fox jumps over the lazy dog.\"))\n",
    "print(text_match(\"Python Exercises.\"))"
   ]
  },
  {
   "cell_type": "markdown",
   "metadata": {
    "id": "fj9amqULOuI_"
   },
   "source": [
    "14) 주어진 문자열이 대문자와 소문자, 숫자 및 밑줄만 포함하는지 여부를 반환하는 함수를 작성하세요."
   ]
  },
  {
   "cell_type": "code",
   "execution_count": 83,
   "metadata": {
    "colab": {
     "base_uri": "https://localhost:8080/"
    },
    "executionInfo": {
     "elapsed": 348,
     "status": "ok",
     "timestamp": 1640246630468,
     "user": {
      "displayName": "Dasom Oh",
      "photoUrl": "https://lh3.googleusercontent.com/a/default-user=s64",
      "userId": "09774935410501776649"
     },
     "user_tz": -540
    },
    "id": "Jj2kyvD4OsdW",
    "outputId": "eb090f33-64d4-4af9-d229-01b4d17dc9b0"
   },
   "outputs": [
    {
     "name": "stdout",
     "output_type": "stream",
     "text": [
      "Not matched!\n",
      "Found a match!\n"
     ]
    }
   ],
   "source": [
    "def text_match(text):\n",
    "        patterns = '\\w+$'\n",
    "        if re.search(patterns,  text):\n",
    "                return 'Found a match!'\n",
    "        else:\n",
    "                return('Not matched!')\n",
    "\n",
    "print(text_match(\"The quick brown fox jumps over the lazy dog.\"))\n",
    "print(text_match(\"Python_Exercises_1\"))"
   ]
  },
  {
   "cell_type": "markdown",
   "metadata": {
    "id": "o2AKyeVnO3Ga"
   },
   "source": [
    "15) 주어진 문자열이 특정한 숫자로 시작하는지 여부를 반환하는 함수를 작성하세요"
   ]
  },
  {
   "cell_type": "code",
   "execution_count": 120,
   "metadata": {
    "colab": {
     "base_uri": "https://localhost:8080/"
    },
    "executionInfo": {
     "elapsed": 372,
     "status": "ok",
     "timestamp": 1640246646717,
     "user": {
      "displayName": "Dasom Oh",
      "photoUrl": "https://lh3.googleusercontent.com/a/default-user=s64",
      "userId": "09774935410501776649"
     },
     "user_tz": -540
    },
    "id": "9BmXwQynOzaU",
    "outputId": "4b928913-a44e-4509-f3be-c228927dffb5"
   },
   "outputs": [
    {
     "name": "stdout",
     "output_type": "stream",
     "text": [
      "True\n",
      "True\n",
      "True\n"
     ]
    }
   ],
   "source": [
    "def match_num(number, string):\n",
    "    text = re.compile(f\"^{number}\")\n",
    "    if text.match(string):\n",
    "        return True\n",
    "    else:\n",
    "        return False\n",
    "print(match_num(5,'5-2345861'))\n",
    "print(match_num(6,'5-2345861'))\n",
    "print(match_num(6,'6-2345861'))"
   ]
  },
  {
   "cell_type": "markdown",
   "metadata": {
    "id": "iT4bocn3O-D6"
   },
   "source": [
    "16) IP 주소에서 선행하는 0을 제거하고 반환하는 함수를 작성하세요\n",
    "\n",
    "예시 ) 216.08.094.196 >> 216.8.94.196"
   ]
  },
  {
   "cell_type": "code",
   "execution_count": 14,
   "metadata": {
    "colab": {
     "base_uri": "https://localhost:8080/"
    },
    "executionInfo": {
     "elapsed": 367,
     "status": "ok",
     "timestamp": 1640247533113,
     "user": {
      "displayName": "Dasom Oh",
      "photoUrl": "https://lh3.googleusercontent.com/a/default-user=s64",
      "userId": "09774935410501776649"
     },
     "user_tz": -540
    },
    "id": "vObc0ccYO75R",
    "outputId": "ed5ea1e3-58d7-4a1d-cc86-9c250c49646e"
   },
   "outputs": [
    {
     "name": "stdout",
     "output_type": "stream",
     "text": [
      "216.8.94.196\n"
     ]
    }
   ],
   "source": [
    "def getIP(ip):\n",
    "    return re.sub('[$0]', '', ip)\n",
    "ip = \"216.08.094.196\"\n",
    "print(getIP(ip))"
   ]
  },
  {
   "cell_type": "markdown",
   "metadata": {
    "id": "I4CO70Q0PIgT"
   },
   "source": [
    "17) 문자열 끝에 숫자가 있는지 확인하는 함수를 작성하세요."
   ]
  },
  {
   "cell_type": "code",
   "execution_count": 90,
   "metadata": {
    "colab": {
     "base_uri": "https://localhost:8080/"
    },
    "executionInfo": {
     "elapsed": 3,
     "status": "ok",
     "timestamp": 1640245283175,
     "user": {
      "displayName": "Dasom Oh",
      "photoUrl": "https://lh3.googleusercontent.com/a/default-user=s64",
      "userId": "09774935410501776649"
     },
     "user_tz": -540
    },
    "id": "uBQpqHcWPCDH",
    "outputId": "6a87f3e8-b6a7-4980-a09f-3450589aa214"
   },
   "outputs": [
    {
     "name": "stdout",
     "output_type": "stream",
     "text": [
      "False\n",
      "True\n"
     ]
    }
   ],
   "source": [
    "def end_num(string):\n",
    "    text = re.compile(\".*\\d$\")\n",
    "    if text.match(string):\n",
    "        return True\n",
    "    else:\n",
    "        return False\n",
    "\n",
    "print(end_num('abcdef'))\n",
    "print(end_num('abcdef6'))"
   ]
  },
  {
   "cell_type": "markdown",
   "metadata": {
    "id": "lJEO7uZjPNsP"
   },
   "source": [
    "18) 주어진 문자열에서 발견되는 숫자 문자열(0-9)을 1 에서 3 사이의 부분 문자열로 나눠 출력하세요.\n",
    "\n",
    "주어진 문자열의 길이가 4 이상인 경우 조건에 맞는 최대 길이의 부분문자열을 우선 출력하세요.\n",
    "\n",
    "예시 ) 12345 >> 123, 45"
   ]
  },
  {
   "cell_type": "code",
   "execution_count": 92,
   "metadata": {
    "colab": {
     "base_uri": "https://localhost:8080/"
    },
    "executionInfo": {
     "elapsed": 332,
     "status": "ok",
     "timestamp": 1640246759859,
     "user": {
      "displayName": "Dasom Oh",
      "photoUrl": "https://lh3.googleusercontent.com/a/default-user=s64",
      "userId": "09774935410501776649"
     },
     "user_tz": -540
    },
    "id": "rzjFepa9PMVa",
    "outputId": "bb94f34f-865d-4e3d-8c69-d9aa1a74f57d"
   },
   "outputs": [
    {
     "name": "stdout",
     "output_type": "stream",
     "text": [
      "Number of length 1 to 3\n",
      "1\n",
      "12\n",
      "13\n",
      "345\n",
      "345\n",
      "33\n"
     ]
    }
   ],
   "source": [
    "targetString = 'Exercises number 1, 12, 13, and 345 34533 are important'\n",
    "results = re.finditer(\"[0-9]{1,3}\", targetString) #모름\n",
    "print(\"Number of length 1 to 3\")\n",
    "for n in results:\n",
    "     print(n.group(0))"
   ]
  },
  {
   "cell_type": "markdown",
   "metadata": {
    "id": "x0kzfR-uPZUR"
   },
   "source": [
    "19) 주어진 각 단어가 예시 문자열에 포함되는지 여부를 출력하세요.\n",
    "\n",
    "Sample text : 'The quick brown fox jumps over the lazy dog.'\n",
    "\n",
    "Searched words : 'fox', 'dog', 'horse'"
   ]
  },
  {
   "cell_type": "code",
   "execution_count": 97,
   "metadata": {
    "colab": {
     "base_uri": "https://localhost:8080/"
    },
    "executionInfo": {
     "elapsed": 2,
     "status": "ok",
     "timestamp": 1640245355991,
     "user": {
      "displayName": "Dasom Oh",
      "photoUrl": "https://lh3.googleusercontent.com/a/default-user=s64",
      "userId": "09774935410501776649"
     },
     "user_tz": -540
    },
    "id": "DSzzzFO3PV1c",
    "outputId": "ac0b98e8-bf57-43ff-fa06-4e624626072a"
   },
   "outputs": [
    {
     "name": "stdout",
     "output_type": "stream",
     "text": [
      "Searching for \"fox\" in \"The quick brown fox jumps over the lazy dog.\" ->\n",
      "Matched\n",
      "Searching for \"dog\" in \"The quick brown fox jumps over the lazy dog.\" ->\n",
      "Matched\n",
      "Searching for \"horse\" in \"The quick brown fox jumps over the lazy dog.\" ->\n",
      "Not Matched\n"
     ]
    }
   ],
   "source": [
    "patterns = [ 'fox', 'dog', 'horse' ]\n",
    "text = 'The quick brown fox jumps over the lazy dog.'\n",
    "for pattern in patterns:\n",
    "    print('Searching for \"%s\" in \"%s\" ->' % (pattern, text),)\n",
    "    if re.search(pattern, text):\n",
    "        print(\"Matched\")\n",
    "    else:\n",
    "        print(\"Not Matched\")\n",
    "    # 아래와 같은 내용을 출력하도록 반복문을 완성하세요\n",
    " "
   ]
  },
  {
   "cell_type": "markdown",
   "metadata": {
    "id": "Ilh3YJ8JPmtw"
   },
   "source": [
    "20) 문자열내 주어진 패턴(단어)이 발생하는 각 사례를 검색하고, 그 사례가 문자열 내에서 차지하는 위치(시작, 끝)를 출력하세요.\n",
    "\n",
    "Sample text : 'The quick brown fox jumps over the lazy dog.'\n",
    "\n",
    "Searched words : 'fox'"
   ]
  },
  {
   "cell_type": "code",
   "execution_count": null,
   "metadata": {
    "colab": {
     "base_uri": "https://localhost:8080/"
    },
    "executionInfo": {
     "elapsed": 7,
     "status": "ok",
     "timestamp": 1640245701491,
     "user": {
      "displayName": "Dasom Oh",
      "photoUrl": "https://lh3.googleusercontent.com/a/default-user=s64",
      "userId": "09774935410501776649"
     },
     "user_tz": -540
    },
    "id": "rAIRJZEJPeGA",
    "outputId": "e862b865-686a-4fdb-cbfe-d028ba66e189"
   },
   "outputs": [
    {
     "name": "stdout",
     "output_type": "stream",
     "text": [
      "Found \"fox\" in \"The quick brown fox jumps over the lazy dog.\" from 16 to 19 \n"
     ]
    }
   ],
   "source": [
    "pattern = 'fox'\n",
    "text = 'The quick brown fox jumps over the lazy dog.'\n",
    "# 아래와 같은 내용을 출력하도록 이어 작성해주세요\n",
    "\n",
    "print('Found \"%s\" in \"%s\" from %d to %d ' % (\"\", \"\", \"\", \"\"))"
   ]
  },
  {
   "cell_type": "markdown",
   "metadata": {
    "id": "7IIqY4bwQ1SH"
   },
   "source": [
    "21) 문자열 내에서 주어진 패턴(하위 문자열)을 모두 찾아 출력하세요.\n",
    "\n",
    "Sample text :\n",
    "\n",
    "'Python exercises, PHP exercises, C# exercises'\n",
    "\n",
    "Pattern :\n",
    "\n",
    "'exercises'"
   ]
  },
  {
   "cell_type": "code",
   "execution_count": null,
   "metadata": {
    "colab": {
     "base_uri": "https://localhost:8080/"
    },
    "executionInfo": {
     "elapsed": 4,
     "status": "ok",
     "timestamp": 1640245737592,
     "user": {
      "displayName": "Dasom Oh",
      "photoUrl": "https://lh3.googleusercontent.com/a/default-user=s64",
      "userId": "09774935410501776649"
     },
     "user_tz": -540
    },
    "id": "8xQGwa2YQybm",
    "outputId": "ca751519-14e2-46fd-920c-d81f684bc4a0"
   },
   "outputs": [
    {
     "name": "stdout",
     "output_type": "stream",
     "text": [
      "Found \"exercises\"\n",
      "Found \"exercises\"\n",
      "Found \"exercises\"\n"
     ]
    }
   ],
   "source": [
    "text = 'Python exercises, PHP exercises, C# exercises'\n",
    "pattern = 'exercises'\n",
    "\n",
    "# 아래와 같은 내용을 출력하도록 이어 작성해주세요\n"
   ]
  },
  {
   "cell_type": "markdown",
   "metadata": {
    "id": "jl3i4ui3RE4x"
   },
   "source": [
    "22) 문자열 내에서 주어진 패턴이 발생하는 사례를 찾고,그 사례가 문자열 내에서 차지하는 위치(시작, 끝)를 출력하세요."
   ]
  },
  {
   "cell_type": "code",
   "execution_count": null,
   "metadata": {
    "colab": {
     "base_uri": "https://localhost:8080/"
    },
    "executionInfo": {
     "elapsed": 9,
     "status": "ok",
     "timestamp": 1640245793181,
     "user": {
      "displayName": "Dasom Oh",
      "photoUrl": "https://lh3.googleusercontent.com/a/default-user=s64",
      "userId": "09774935410501776649"
     },
     "user_tz": -540
    },
    "id": "bNOPqGZVQ7VL",
    "outputId": "7e8b4014-e2e7-482c-8d8d-597861fd88d1"
   },
   "outputs": [
    {
     "name": "stdout",
     "output_type": "stream",
     "text": [
      "Found \"exercises\" at 7:16\n",
      "Found \"exercises\" at 22:31\n",
      "Found \"exercises\" at 36:45\n"
     ]
    }
   ],
   "source": [
    "text = 'Python exercises, PHP exercises, C# exercises'\n",
    "pattern = 'exercises'\n",
    "\n",
    "# 아래와 같은 내용을 출력하도록 이어 작성해주세요\n"
   ]
  },
  {
   "cell_type": "markdown",
   "metadata": {
    "id": "TveLO5C1RUgd"
   },
   "source": [
    "23) 주어진 URL에서 연도, 월, 날짜에 해당하는 정보(2016/09/02)를 추출하는 함수를 작성하세요"
   ]
  },
  {
   "cell_type": "code",
   "execution_count": 98,
   "metadata": {
    "colab": {
     "base_uri": "https://localhost:8080/"
    },
    "executionInfo": {
     "elapsed": 316,
     "status": "ok",
     "timestamp": 1640246991923,
     "user": {
      "displayName": "Dasom Oh",
      "photoUrl": "https://lh3.googleusercontent.com/a/default-user=s64",
      "userId": "09774935410501776649"
     },
     "user_tz": -540
    },
    "id": "tu5hhBiJRRnp",
    "outputId": "19056e32-7f52-4942-9a38-89f17c3e41e0"
   },
   "outputs": [
    {
     "name": "stdout",
     "output_type": "stream",
     "text": [
      "[('2016/09/02', '09', '02')]\n"
     ]
    }
   ],
   "source": [
    "def extract_date(url):\n",
    "        return re.findall('/(\\d{4}/(\\d{2})/(\\d{2}))', url)\n",
    "url1= \"https://www.washingtonpost.com/news/football-insider/wp/2016/09/02/odell-beckhams-fame-rests-on-one-stupid-little-ball-josh-norman-tells-author/\"\n",
    "print(extract_date(url1))"
   ]
  },
  {
   "cell_type": "markdown",
   "metadata": {
    "id": "urpNHYxQRZVv"
   },
   "source": [
    "24) yyyy-mm-dd 형식의 날짜를 dd-mm-yyyy 형식으로 바꿔 출력하세요."
   ]
  },
  {
   "cell_type": "code",
   "execution_count": 99,
   "metadata": {
    "colab": {
     "base_uri": "https://localhost:8080/"
    },
    "executionInfo": {
     "elapsed": 3,
     "status": "ok",
     "timestamp": 1640246998016,
     "user": {
      "displayName": "Dasom Oh",
      "photoUrl": "https://lh3.googleusercontent.com/a/default-user=s64",
      "userId": "09774935410501776649"
     },
     "user_tz": -540
    },
    "id": "gxooDE29RXiG",
    "outputId": "a2abf161-d93f-4efd-85e4-434c49b14950"
   },
   "outputs": [
    {
     "name": "stdout",
     "output_type": "stream",
     "text": [
      "Original date in YYY-MM-DD Format:  2026-01-02\n",
      "New date in DD-MM-YYYY Format:  2026-01-02\n"
     ]
    }
   ],
   "source": [
    "def change_date_format(dt):\n",
    "        return re.sub('=(\\d{4})-(\\d{2})-(\\d{2})', '\\\\3-\\\\2-\\\\1', dt)\n",
    "dt1 = \"2026-01-02\"\n",
    "print(\"Original date in YYY-MM-DD Format: \",dt1)\n",
    "print(\"New date in DD-MM-YYYY Format: \",change_date_format(dt1))"
   ]
  },
  {
   "cell_type": "markdown",
   "metadata": {
    "id": "lmOvWCAERgN2"
   },
   "source": [
    "25) 주어진 문자열의 숫자를 분리해 출력하세요"
   ]
  },
  {
   "cell_type": "code",
   "execution_count": 103,
   "metadata": {
    "colab": {
     "base_uri": "https://localhost:8080/"
    },
    "executionInfo": {
     "elapsed": 344,
     "status": "ok",
     "timestamp": 1640247008398,
     "user": {
      "displayName": "Dasom Oh",
      "photoUrl": "https://lh3.googleusercontent.com/a/default-user=s64",
      "userId": "09774935410501776649"
     },
     "user_tz": -540
    },
    "id": "9IirWqc9RdJK",
    "outputId": "d26c0cc4-d680-4f00-d192-10eb614e3ed0"
   },
   "outputs": [
    {
     "name": "stdout",
     "output_type": "stream",
     "text": [
      "\n",
      "10\n",
      "20\n",
      "30\n"
     ]
    }
   ],
   "source": [
    "# Sample string.\n",
    "text = \"Ten 10, Twenty 20, Thirty 30\"\n",
    "result = re.split(\"\\D+\", text)\n",
    "# Print results.\n",
    "for element in result:\n",
    "    print(element)"
   ]
  },
  {
   "cell_type": "markdown",
   "metadata": {
    "id": "szYE-VfeRqvi"
   },
   "source": [
    "26) 주어진 문자열에서 'a' 또는 'e'로 시작하는 모든 단어를 찾아 그 목록을 출력하세요."
   ]
  },
  {
   "cell_type": "code",
   "execution_count": 104,
   "metadata": {
    "colab": {
     "base_uri": "https://localhost:8080/"
    },
    "executionInfo": {
     "elapsed": 345,
     "status": "ok",
     "timestamp": 1640247017830,
     "user": {
      "displayName": "Dasom Oh",
      "photoUrl": "https://lh3.googleusercontent.com/a/default-user=s64",
      "userId": "09774935410501776649"
     },
     "user_tz": -540
    },
    "id": "r8C90ahTRjYk",
    "outputId": "dd937b5e-349f-4d65-dc2d-87f7aaccb50f"
   },
   "outputs": [
    {
     "name": "stdout",
     "output_type": "stream",
     "text": [
      "['ex', 'am', 'ea', 'es', 'an', 'ay', 'ap', 'ac', 'el', 'em', 'en', 'el', 'em', 'en', 'ar', 'en', 'ad', 'ed', 'ay', 'an', 'ay', 'ed', 'ac']\n"
     ]
    }
   ],
   "source": [
    "# Input.\n",
    "text = \"The following example creates an ArrayList with a capacity of 50 elements. Four elements are then added to the ArrayList and the ArrayList is trimmed accordingly.\"\n",
    "#find all the words starting with 'a' or 'e'\n",
    "list = re.findall(\"[ae][a-zA-Z]\", text)\n",
    "# Print result.\n",
    "print(list)\n",
    "\t"
   ]
  },
  {
   "cell_type": "markdown",
   "metadata": {
    "id": "9yLM2eQwR7gY"
   },
   "source": [
    "27) 주어진 문자열에서 숫자를 분리해 그 시작 위치와 함께 출력하세요"
   ]
  },
  {
   "cell_type": "code",
   "execution_count": 105,
   "metadata": {
    "colab": {
     "base_uri": "https://localhost:8080/"
    },
    "executionInfo": {
     "elapsed": 341,
     "status": "ok",
     "timestamp": 1640247027262,
     "user": {
      "displayName": "Dasom Oh",
      "photoUrl": "https://lh3.googleusercontent.com/a/default-user=s64",
      "userId": "09774935410501776649"
     },
     "user_tz": -540
    },
    "id": "sLSEFBczRy9y",
    "outputId": "b9689a7f-dffc-4b00-d736-41c5eff294fd"
   },
   "outputs": [
    {
     "name": "stdout",
     "output_type": "stream",
     "text": [
      "50\n",
      "Index position:62\n"
     ]
    }
   ],
   "source": [
    "# Input.\n",
    "text = \"The following example creates an ArrayList with a capacity of 50 elements. Four elements are then added to the ArrayList and the ArrayList is trimmed accordingly.\"\n",
    "\n",
    "# 아래와 같은 내용을 출력하도록 이어 작성해주세요\n",
    "for matched in re.finditer(\"\\d+\", text):\n",
    "    print(matched.group())\n",
    "    print(f\"Index position:{matched.start()}\")"
   ]
  },
  {
   "cell_type": "code",
   "execution_count": null,
   "metadata": {
    "id": "WXXPcIZzSaOT"
   },
   "outputs": [],
   "source": []
  }
 ],
 "metadata": {
  "colab": {
   "name": "정규식_연습문제_수정본_한글_문제.ipynb",
   "provenance": []
  },
  "kernelspec": {
   "display_name": "Python 3 (ipykernel)",
   "language": "python",
   "name": "python3"
  },
  "language_info": {
   "codemirror_mode": {
    "name": "ipython",
    "version": 3
   },
   "file_extension": ".py",
   "mimetype": "text/x-python",
   "name": "python",
   "nbconvert_exporter": "python",
   "pygments_lexer": "ipython3",
   "version": "3.9.7"
  }
 },
 "nbformat": 4,
 "nbformat_minor": 1
}
