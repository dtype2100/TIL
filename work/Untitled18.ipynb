{
 "cells": [
  {
   "cell_type": "code",
   "execution_count": 19,
   "id": "d4d853b9",
   "metadata": {},
   "outputs": [],
   "source": [
    "import numpy as np"
   ]
  },
  {
   "cell_type": "code",
   "execution_count": 6,
   "id": "11449668",
   "metadata": {},
   "outputs": [],
   "source": [
    "matrix_1 = [[1, 2], [3, 4]]\n",
    "matrix_2 = [[5, 6], [7, 8]]"
   ]
  },
  {
   "cell_type": "code",
   "execution_count": 21,
   "id": "ee02aec5",
   "metadata": {},
   "outputs": [
    {
     "name": "stdout",
     "output_type": "stream",
     "text": [
      "[[6, 8], [10, 12]]\n",
      "Wall time: 0 ns\n"
     ]
    }
   ],
   "source": [
    "%%time\n",
    "sum_matrix = []\n",
    "for i in range(len(matrix_1)):\n",
    "    temp = []\n",
    "    for j in range(len(matrix_1[i])):\n",
    "        temp.append( matrix_1[i][j] + matrix_2[i][j])\n",
    "        \n",
    "    sum_matrix.append(temp)\n",
    "    \n",
    "print(sum_matrix)"
   ]
  },
  {
   "cell_type": "code",
   "execution_count": 25,
   "id": "f66fd640",
   "metadata": {},
   "outputs": [
    {
     "name": "stdout",
     "output_type": "stream",
     "text": [
      "[[ 6  8]\n",
      " [10 12]]\n"
     ]
    },
    {
     "data": {
      "text/plain": [
       "array([[ 6,  8],\n",
       "       [10, 12]])"
      ]
     },
     "execution_count": 25,
     "metadata": {},
     "output_type": "execute_result"
    }
   ],
   "source": [
    "np_sum_matrix = np.array(matrix_1) + np.array(matrix_2)\n",
    "print(np_sum_matrix)\n",
    "np_sum_matrix"
   ]
  },
  {
   "cell_type": "code",
   "execution_count": 24,
   "id": "2c73cbfb",
   "metadata": {},
   "outputs": [
    {
     "name": "stdout",
     "output_type": "stream",
     "text": [
      "[[7, 9], [11, 13]]\n",
      "Wall time: 0 ns\n"
     ]
    }
   ],
   "source": [
    "%%time\n",
    "sum_matrix = []\n",
    "for i in range(len(matrix_1)):\n",
    "    temp = []\n",
    "    for j in range(len(matrix_1[i])):\n",
    "        temp.append( matrix_1[i][j] + matrix_2[i][j] + 1)\n",
    "        \n",
    "    sum_matrix.append(temp)\n",
    "    \n",
    "print(sum_matrix)"
   ]
  },
  {
   "cell_type": "code",
   "execution_count": 26,
   "id": "a0c18a7e",
   "metadata": {},
   "outputs": [
    {
     "name": "stdout",
     "output_type": "stream",
     "text": [
      "[[2 3]\n",
      " [4 5]]\n"
     ]
    },
    {
     "data": {
      "text/plain": [
       "array([[2, 3],\n",
       "       [4, 5]])"
      ]
     },
     "execution_count": 26,
     "metadata": {},
     "output_type": "execute_result"
    }
   ],
   "source": [
    "np_add_one_matrix = np.array(matrix_1) + 1\n",
    "print(np_add_one_matrix)\n",
    "np_add_one_matrix"
   ]
  },
  {
   "cell_type": "code",
   "execution_count": 28,
   "id": "4589766b",
   "metadata": {},
   "outputs": [
    {
     "data": {
      "text/plain": [
       "1639964027.992948"
      ]
     },
     "execution_count": 28,
     "metadata": {},
     "output_type": "execute_result"
    }
   ],
   "source": [
    "import time\n",
    "time.time()"
   ]
  },
  {
   "cell_type": "code",
   "execution_count": 29,
   "id": "9478e5f1",
   "metadata": {},
   "outputs": [
    {
     "name": "stdout",
     "output_type": "stream",
     "text": [
      "리스트 걸린시간 1.485994577407837\n",
      "넘파이 걸린시간 0.1557598114013672\n"
     ]
    }
   ],
   "source": [
    "import time\n",
    "size = 10000000\n",
    "#list\n",
    "x = list(range(size))\n",
    "y = list(range(size))\n",
    "start_time = time.time()\n",
    "z = [x[i]+x[i] for i in range(size)]\n",
    "print(\"리스트 걸린시간\", time.time()-start_time)\n",
    "#adlist\n",
    "x = np.arange(size)\n",
    "y = np.arange(size)\n",
    "start_time = time.time()\n",
    "z = x + y\n",
    "print(\"넘파이 걸린시간\", time.time()-start_time)\n"
   ]
  },
  {
   "cell_type": "code",
   "execution_count": 30,
   "id": "2cca4896",
   "metadata": {},
   "outputs": [],
   "source": [
    "for i in range(size):\n",
    "    (x[i] + x[i])\n"
   ]
  },
  {
   "cell_type": "code",
   "execution_count": 31,
   "id": "d46bf496",
   "metadata": {},
   "outputs": [],
   "source": [
    "a = np.array(list(range(10)))"
   ]
  },
  {
   "cell_type": "code",
   "execution_count": 33,
   "id": "ba9cbfa8",
   "metadata": {},
   "outputs": [
    {
     "data": {
      "text/plain": [
       "dtype('int32')"
      ]
     },
     "execution_count": 33,
     "metadata": {},
     "output_type": "execute_result"
    }
   ],
   "source": [
    "a.dtype"
   ]
  },
  {
   "cell_type": "code",
   "execution_count": 43,
   "id": "c864a925",
   "metadata": {},
   "outputs": [
    {
     "data": {
      "text/plain": [
       "array([0., 1., 2., 3., 4., 5., 6., 7., 8., 9.], dtype=float32)"
      ]
     },
     "execution_count": 43,
     "metadata": {},
     "output_type": "execute_result"
    }
   ],
   "source": [
    "a = np.array(list(range(10)), dtype=np.float32)\n",
    "a"
   ]
  },
  {
   "cell_type": "code",
   "execution_count": 45,
   "id": "1cf93ad7",
   "metadata": {},
   "outputs": [
    {
     "data": {
      "text/plain": [
       "numpy.ndarray"
      ]
     },
     "execution_count": 45,
     "metadata": {},
     "output_type": "execute_result"
    }
   ],
   "source": [
    "type(a)"
   ]
  },
  {
   "cell_type": "code",
   "execution_count": 48,
   "id": "006029fa",
   "metadata": {},
   "outputs": [
    {
     "data": {
      "text/plain": [
       "array([0., 1., 2., 3., 4., 5., 6., 7., 8., 9.], dtype=float32)"
      ]
     },
     "execution_count": 48,
     "metadata": {},
     "output_type": "execute_result"
    }
   ],
   "source": [
    "b = np.array(a)\n",
    "b"
   ]
  },
  {
   "cell_type": "code",
   "execution_count": 53,
   "id": "4bf34879",
   "metadata": {},
   "outputs": [],
   "source": [
    "x = np.uint(32)"
   ]
  },
  {
   "cell_type": "code",
   "execution_count": 54,
   "id": "0f501ee6",
   "metadata": {},
   "outputs": [
    {
     "data": {
      "text/plain": [
       "dtype('uint32')"
      ]
     },
     "execution_count": 54,
     "metadata": {},
     "output_type": "execute_result"
    }
   ],
   "source": [
    "x.dtype"
   ]
  },
  {
   "cell_type": "code",
   "execution_count": 55,
   "id": "36d7732d",
   "metadata": {},
   "outputs": [
    {
     "name": "stdout",
     "output_type": "stream",
     "text": [
      "int32\n"
     ]
    }
   ],
   "source": [
    "x = np.array([1, 2, 3, 4])\n",
    "print(x.dtype)"
   ]
  },
  {
   "cell_type": "code",
   "execution_count": 56,
   "id": "62b12157",
   "metadata": {},
   "outputs": [
    {
     "data": {
      "text/plain": [
       "dtype('float32')"
      ]
     },
     "execution_count": 56,
     "metadata": {},
     "output_type": "execute_result"
    }
   ],
   "source": [
    "x = np.float32([1, 2, 3, 4])\n",
    "x.dtype"
   ]
  },
  {
   "cell_type": "code",
   "execution_count": 58,
   "id": "c1796a02",
   "metadata": {},
   "outputs": [
    {
     "name": "stdout",
     "output_type": "stream",
     "text": [
      "float32\n"
     ]
    }
   ],
   "source": [
    "x = np.array([1, 2, 3, 4], dtype=np.float32)\n",
    "print(x.dtype)"
   ]
  },
  {
   "cell_type": "code",
   "execution_count": null,
   "id": "36bade96",
   "metadata": {},
   "outputs": [],
   "source": []
  }
 ],
 "metadata": {
  "kernelspec": {
   "display_name": "Python 3 (ipykernel)",
   "language": "python",
   "name": "python3"
  },
  "language_info": {
   "codemirror_mode": {
    "name": "ipython",
    "version": 3
   },
   "file_extension": ".py",
   "mimetype": "text/x-python",
   "name": "python",
   "nbconvert_exporter": "python",
   "pygments_lexer": "ipython3",
   "version": "3.9.7"
  }
 },
 "nbformat": 4,
 "nbformat_minor": 5
}
