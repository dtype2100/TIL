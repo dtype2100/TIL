{
 "cells": [
  {
   "cell_type": "code",
   "execution_count": 53,
   "id": "35bf4365",
   "metadata": {},
   "outputs": [
    {
     "name": "stdout",
     "output_type": "stream",
     "text": [
      "{'바나나': 0, '사과': 1, '파인애플': 2, '딸기': 3}\n",
      "{0: '바나나', 1: '사과', 2: '파인애플', 3: '딸기'}\n"
     ]
    }
   ],
   "source": [
    "tokens = [\"딸기\", \"바나나\", \"사과\", \"딸기\", \"파인애플\"]\n",
    "# nodes =  list(set(tokens))\n",
    "vocab = [\"바나나\", \"사과\", \"파인애플\", \"딸기\"]\n",
    "\n",
    "vocab2id = { vocab[i] : i for i in range(len(vocab))}\n",
    "id2vocab = { i : vocab[i] for i in range(len(vocab))}\n",
    "\n",
    "print(vocab2id)\n",
    "print(id2vocab)"
   ]
  },
  {
   "cell_type": "code",
   "execution_count": 57,
   "id": "17d99c6f",
   "metadata": {},
   "outputs": [
    {
     "name": "stdout",
     "output_type": "stream",
     "text": [
      "[[0. 1. 0. 1.]\n",
      " [1. 0. 0. 1.]\n",
      " [0. 0. 0. 1.]\n",
      " [1. 1. 1. 0.]]\n"
     ]
    },
    {
     "data": {
      "text/plain": [
       "array([[0.        , 0.5       , 0.        , 0.5       ],\n",
       "       [0.5       , 0.        , 0.        , 0.5       ],\n",
       "       [0.        , 0.        , 0.        , 1.        ],\n",
       "       [0.33333334, 0.33333334, 0.33333334, 0.        ]], dtype=float32)"
      ]
     },
     "execution_count": 57,
     "metadata": {},
     "output_type": "execute_result"
    }
   ],
   "source": [
    "import numpy as np\n",
    "\n",
    "vocab_len = len(vocab)\n",
    "weight_edge = np.zeros((vocab_len, vocab_len), dtype=np.float32)\n",
    "scores = np.ones(vocab_len, dtype=np.float32)\n",
    "\n",
    "window_size = 2\n",
    "\n",
    "covered_coocurrences = []\n",
    "\n",
    "for window_start in range(0, len(tokens)-window_size + 1):\n",
    "    window = tokens[window_start : window_start + window_size]\n",
    "    for i in range(window_size - 1):\n",
    "        for j in range(i+1, window_size):\n",
    "            \n",
    "            if window[i] in vocab and window[j] in vocab:\n",
    "                index_of_i = window_start + i\n",
    "                index_of_j = window_start + j\n",
    "\n",
    "                if (index_of_i, index_of_j) not in covered_coocurrences:\n",
    "                    weight_edge[vocab2id[window[i]]][vocab2id[window[j]]] = 1\n",
    "                    weight_edge[vocab2id[window[j]]][vocab2id[window[i]]] = 1\n",
    "                    covered_coocurrences.append((index_of_i, index_of_j))\n",
    "\n",
    "print(weight_edge)\n",
    "\n",
    "for i in range(vocab_len):\n",
    "    row_sum =  weight_edge[i].sum()\n",
    "    weight_edge[i] = weight_edge[i] / row_sum if row_sum > 0 else 0\n",
    "    \n",
    "                \n",
    "                \n",
    "weight_edge          "
   ]
  },
  {
   "cell_type": "code",
   "execution_count": 59,
   "id": "1bb9526c",
   "metadata": {},
   "outputs": [
    {
     "data": {
      "text/plain": [
       "array([1., 1., 1., 1.], dtype=float32)"
      ]
     },
     "execution_count": 59,
     "metadata": {},
     "output_type": "execute_result"
    }
   ],
   "source": [
    "scores"
   ]
  },
  {
   "cell_type": "code",
   "execution_count": 81,
   "id": "0352a1c2",
   "metadata": {},
   "outputs": [
    {
     "data": {
      "text/plain": [
       "array([0.9837155 , 0.9837155 , 0.56564105, 1.4669281 ], dtype=float32)"
      ]
     },
     "execution_count": 81,
     "metadata": {},
     "output_type": "execute_result"
    }
   ],
   "source": [
    "MAX_ITERATIONS = 50\n",
    "d = 0.85\n",
    "threshold = 0.0001\n",
    "\n",
    "for it in range(MAX_ITERATIONS):\n",
    "    prev_score = np.copy(scores)\n",
    "    \n",
    "    for i in range(vocab_len):\n",
    "        \n",
    "        summation = 0\n",
    "        \n",
    "        for j in range(vocab_len):\n",
    "            summation += weight_edge[j][i] *  prev_score[j]\n",
    "            \n",
    "        scores[i] = (1 - d) + d * summation\n",
    "            \n",
    "    if np.sum(np.fabs(prev_score - scores)) < threshold:\n",
    "        break\n",
    "        \n",
    "scores"
   ]
  },
  {
   "cell_type": "code",
   "execution_count": 82,
   "id": "6e0a9e5e",
   "metadata": {},
   "outputs": [
    {
     "data": {
      "text/plain": [
       "array([2, 0, 1, 3], dtype=int64)"
      ]
     },
     "execution_count": 82,
     "metadata": {},
     "output_type": "execute_result"
    }
   ],
   "source": [
    "np.argsort(scores)"
   ]
  },
  {
   "cell_type": "code",
   "execution_count": 84,
   "id": "c8d4b071",
   "metadata": {},
   "outputs": [
    {
     "data": {
      "text/plain": [
       "array([3, 1, 0, 2], dtype=int64)"
      ]
     },
     "execution_count": 84,
     "metadata": {},
     "output_type": "execute_result"
    }
   ],
   "source": [
    "sorted_index = np.flip(np.argsort(scores), 0)\n",
    "sorted_index"
   ]
  },
  {
   "cell_type": "code",
   "execution_count": 87,
   "id": "3c6a88ea",
   "metadata": {},
   "outputs": [
    {
     "name": "stdout",
     "output_type": "stream",
     "text": [
      "딸기 1.4669281244277954\n",
      "사과 0.9837154746055603\n",
      "바나나 0.9837154746055603\n"
     ]
    }
   ],
   "source": [
    "n = 3\n",
    "for i in range(n):\n",
    "    print(\"{} {}\".format(id2vocab[sorted_index[i]], scores[sorted_index[i]]))"
   ]
  },
  {
   "cell_type": "code",
   "execution_count": null,
   "id": "325ac7d4",
   "metadata": {},
   "outputs": [],
   "source": []
  }
 ],
 "metadata": {
  "kernelspec": {
   "display_name": "nlp",
   "language": "python",
   "name": "nlp"
  },
  "language_info": {
   "codemirror_mode": {
    "name": "ipython",
    "version": 3
   },
   "file_extension": ".py",
   "mimetype": "text/x-python",
   "name": "python",
   "nbconvert_exporter": "python",
   "pygments_lexer": "ipython3",
   "version": "3.7.11"
  }
 },
 "nbformat": 4,
 "nbformat_minor": 5
}
