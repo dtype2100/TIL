{
 "cells": [
  {
   "cell_type": "code",
   "execution_count": 1,
   "id": "d42d8502-8984-45af-a68d-cb2d424d4697",
   "metadata": {
    "id": "d42d8502-8984-45af-a68d-cb2d424d4697"
   },
   "outputs": [],
   "source": [
    "docs = [\"오늘 동물원에서 원숭이를 봤어\", \n",
    "       \"오늘 동물원에서 코끼리를 봤어 봤어\",\n",
    "       \"동물원에서 원숭이에게 바나나를 줬어 바나나를\"]"
   ]
  },
  {
   "cell_type": "code",
   "execution_count": 2,
   "id": "ac805db1-4e1f-4167-9cc5-411d2d0224a6",
   "metadata": {
    "id": "ac805db1-4e1f-4167-9cc5-411d2d0224a6",
    "outputId": "50dcf9dd-7da0-4799-fd64-0ea82ef30d56"
   },
   "outputs": [
    {
     "data": {
      "text/plain": [
       "<3x8 sparse matrix of type '<class 'numpy.float64'>'\n",
       "\twith 12 stored elements in Compressed Sparse Row format>"
      ]
     },
     "execution_count": 2,
     "metadata": {},
     "output_type": "execute_result"
    }
   ],
   "source": [
    "from sklearn.feature_extraction.text import TfidfVectorizer\n",
    "\n",
    "tfidf_vect = TfidfVectorizer()\n",
    "tfidf = tfidf_vect.fit_transform(docs)\n",
    "tfidf"
   ]
  },
  {
   "cell_type": "code",
   "execution_count": 3,
   "id": "56ff3ec9-4f71-4dd4-b1da-df3b1a888688",
   "metadata": {
    "id": "56ff3ec9-4f71-4dd4-b1da-df3b1a888688",
    "outputId": "052111fa-6e73-4e39-ed37-fe00af74632b"
   },
   "outputs": [
    {
     "data": {
      "text/plain": [
       "scipy.sparse.csr.csr_matrix"
      ]
     },
     "execution_count": 3,
     "metadata": {},
     "output_type": "execute_result"
    }
   ],
   "source": [
    "type(tfidf)"
   ]
  },
  {
   "cell_type": "code",
   "execution_count": 4,
   "id": "0f34b5b6-cd6d-42c5-a99f-b2cc26fb46ef",
   "metadata": {
    "id": "0f34b5b6-cd6d-42c5-a99f-b2cc26fb46ef",
    "outputId": "a1e91756-e137-4e22-b3e1-cb5f483c3654"
   },
   "outputs": [
    {
     "data": {
      "text/plain": [
       "matrix([[0.37311881, 0.        , 0.4804584 , 0.4804584 , 0.63174505,\n",
       "         0.        , 0.        , 0.        ],\n",
       "        [0.28680065, 0.        , 0.73861611, 0.36930805, 0.        ,\n",
       "         0.        , 0.        , 0.48559571],\n",
       "        [0.2344005 , 0.79374908, 0.        , 0.        , 0.        ,\n",
       "         0.39687454, 0.39687454, 0.        ]])"
      ]
     },
     "execution_count": 4,
     "metadata": {},
     "output_type": "execute_result"
    }
   ],
   "source": [
    "tfidf.todense()"
   ]
  },
  {
   "cell_type": "code",
   "execution_count": 5,
   "id": "0732b51e-84cf-437f-9aad-b0b905200f24",
   "metadata": {
    "id": "0732b51e-84cf-437f-9aad-b0b905200f24",
    "outputId": "8393779a-1931-4484-a464-8878b5fcc479"
   },
   "outputs": [
    {
     "data": {
      "text/plain": [
       "array(['동물원에서', '바나나를', '봤어', '오늘', '원숭이를', '원숭이에게', '줬어', '코끼리를'],\n",
       "      dtype=object)"
      ]
     },
     "execution_count": 5,
     "metadata": {},
     "output_type": "execute_result"
    }
   ],
   "source": [
    "tfidf_vect.get_feature_names_out ()"
   ]
  },
  {
   "cell_type": "code",
   "execution_count": 6,
   "id": "55c8395a-4155-4176-8923-c1befdbcaa80",
   "metadata": {
    "id": "55c8395a-4155-4176-8923-c1befdbcaa80",
    "outputId": "3615e663-138f-49d3-e712-2e58fe89cd0c"
   },
   "outputs": [
    {
     "data": {
      "text/plain": [
       "matrix([[0.37311881, 0.        , 0.4804584 , 0.4804584 , 0.63174505,\n",
       "         0.        , 0.        , 0.        ],\n",
       "        [0.28680065, 0.        , 0.73861611, 0.36930805, 0.        ,\n",
       "         0.        , 0.        , 0.48559571],\n",
       "        [0.2344005 , 0.79374908, 0.        , 0.        , 0.        ,\n",
       "         0.39687454, 0.39687454, 0.        ]])"
      ]
     },
     "execution_count": 6,
     "metadata": {},
     "output_type": "execute_result"
    }
   ],
   "source": [
    "from sklearn.feature_extraction.text import TfidfTransformer\n",
    "from sklearn.feature_extraction.text import CountVectorizer\n",
    "\n",
    "count_vect = CountVectorizer()\n",
    "BoW = count_vect.fit_transform(docs)\n",
    "BoW.todense()\n",
    "tfidf_trans = TfidfTransformer()\n",
    "tfidf = tfidf_trans.fit_transform(BoW)\n",
    "tfidf.todense()"
   ]
  },
  {
   "cell_type": "code",
   "execution_count": 7,
   "id": "a08ad236-a0d6-4ff6-b260-4a87583f694f",
   "metadata": {
    "id": "a08ad236-a0d6-4ff6-b260-4a87583f694f",
    "outputId": "0c51133c-9c14-47a0-b95c-db118d182b41"
   },
   "outputs": [
    {
     "data": {
      "text/html": [
       "<div>\n",
       "<style scoped>\n",
       "    .dataframe tbody tr th:only-of-type {\n",
       "        vertical-align: middle;\n",
       "    }\n",
       "\n",
       "    .dataframe tbody tr th {\n",
       "        vertical-align: top;\n",
       "    }\n",
       "\n",
       "    .dataframe thead th {\n",
       "        text-align: right;\n",
       "    }\n",
       "</style>\n",
       "<table border=\"1\" class=\"dataframe\">\n",
       "  <thead>\n",
       "    <tr style=\"text-align: right;\">\n",
       "      <th></th>\n",
       "      <th>동물원에서</th>\n",
       "      <th>바나나를</th>\n",
       "      <th>봤어</th>\n",
       "      <th>오늘</th>\n",
       "      <th>원숭이를</th>\n",
       "      <th>원숭이에게</th>\n",
       "      <th>줬어</th>\n",
       "      <th>코끼리를</th>\n",
       "    </tr>\n",
       "  </thead>\n",
       "  <tbody>\n",
       "    <tr>\n",
       "      <th>0</th>\n",
       "      <td>0.373119</td>\n",
       "      <td>0.000000</td>\n",
       "      <td>0.480458</td>\n",
       "      <td>0.480458</td>\n",
       "      <td>0.631745</td>\n",
       "      <td>0.000000</td>\n",
       "      <td>0.000000</td>\n",
       "      <td>0.000000</td>\n",
       "    </tr>\n",
       "    <tr>\n",
       "      <th>1</th>\n",
       "      <td>0.286801</td>\n",
       "      <td>0.000000</td>\n",
       "      <td>0.738616</td>\n",
       "      <td>0.369308</td>\n",
       "      <td>0.000000</td>\n",
       "      <td>0.000000</td>\n",
       "      <td>0.000000</td>\n",
       "      <td>0.485596</td>\n",
       "    </tr>\n",
       "    <tr>\n",
       "      <th>2</th>\n",
       "      <td>0.234400</td>\n",
       "      <td>0.793749</td>\n",
       "      <td>0.000000</td>\n",
       "      <td>0.000000</td>\n",
       "      <td>0.000000</td>\n",
       "      <td>0.396875</td>\n",
       "      <td>0.396875</td>\n",
       "      <td>0.000000</td>\n",
       "    </tr>\n",
       "  </tbody>\n",
       "</table>\n",
       "</div>"
      ],
      "text/plain": [
       "      동물원에서      바나나를        봤어        오늘      원숭이를     원숭이에게        줬어  \\\n",
       "0  0.373119  0.000000  0.480458  0.480458  0.631745  0.000000  0.000000   \n",
       "1  0.286801  0.000000  0.738616  0.369308  0.000000  0.000000  0.000000   \n",
       "2  0.234400  0.793749  0.000000  0.000000  0.000000  0.396875  0.396875   \n",
       "\n",
       "       코끼리를  \n",
       "0  0.000000  \n",
       "1  0.485596  \n",
       "2  0.000000  "
      ]
     },
     "execution_count": 7,
     "metadata": {},
     "output_type": "execute_result"
    }
   ],
   "source": [
    "import pandas as pd\n",
    "\n",
    "vocab = count_vect.get_feature_names_out()\n",
    "pd.DataFrame(tfidf.todense(), columns=vocab)"
   ]
  },
  {
   "cell_type": "code",
   "execution_count": 8,
   "id": "52d4c4dc-f4c1-431f-a54e-5dc85eff5760",
   "metadata": {
    "id": "52d4c4dc-f4c1-431f-a54e-5dc85eff5760",
    "outputId": "62d8a5a9-7ed1-4558-e6bd-ce9fe221b499"
   },
   "outputs": [
    {
     "data": {
      "text/plain": [
       "[(1, 0.32718457421365993), (2, 0.32718457421365993), (3, 0.8865102981879297)]"
      ]
     },
     "execution_count": 8,
     "metadata": {},
     "output_type": "execute_result"
    }
   ],
   "source": [
    "import gensim\n",
    "from gensim import corpora\n",
    "from gensim.models import TfidfModel\n",
    "\n",
    "doc_ls = [doc.split() for doc in docs]\n",
    "id2word = corpora.Dictionary(doc_ls)\n",
    "DTM = [id2word.doc2bow(doc) for doc in doc_ls]\n",
    "model = TfidfModel(DTM)\n",
    "tfidf = model[DTM]\n",
    "tfidf[0]"
   ]
  },
  {
   "cell_type": "code",
   "execution_count": 9,
   "id": "b17119e8-169e-4655-bc57-5f55c4184e5a",
   "metadata": {
    "id": "b17119e8-169e-4655-bc57-5f55c4184e5a",
    "outputId": "7c113f9a-d4cd-4528-9d0e-a07f44d5b654"
   },
   "outputs": [
    {
     "name": "stdout",
     "output_type": "stream",
     "text": [
      "0 : 동물원에서\n",
      "1 : 봤어\n",
      "2 : 오늘\n",
      "3 : 원숭이를\n",
      "4 : 코끼리를\n",
      "5 : 바나나를\n",
      "6 : 원숭이에게\n",
      "7 : 줬어\n"
     ]
    }
   ],
   "source": [
    "for key in id2word.keys():\n",
    "    print(\"{} : {}\".format(key, id2word[key]))"
   ]
  },
  {
   "cell_type": "code",
   "execution_count": 10,
   "id": "c21ed10b-1bf4-41be-874b-75522d5cd672",
   "metadata": {
    "id": "c21ed10b-1bf4-41be-874b-75522d5cd672",
    "outputId": "a4f87957-c271-4824-a6dc-03ea55378d10"
   },
   "outputs": [
    {
     "data": {
      "text/plain": [
       "gensim.interfaces.TransformedCorpus"
      ]
     },
     "execution_count": 10,
     "metadata": {},
     "output_type": "execute_result"
    }
   ],
   "source": [
    "type(tfidf)"
   ]
  },
  {
   "cell_type": "code",
   "execution_count": 11,
   "id": "d6fc8187-8d48-477e-8c51-0ce5fe8f65e3",
   "metadata": {
    "id": "d6fc8187-8d48-477e-8c51-0ce5fe8f65e3",
    "outputId": "78500da1-7d3f-4adb-ddb0-b0b7c54fe678"
   },
   "outputs": [
    {
     "data": {
      "text/html": [
       "<div>\n",
       "<style scoped>\n",
       "    .dataframe tbody tr th:only-of-type {\n",
       "        vertical-align: middle;\n",
       "    }\n",
       "\n",
       "    .dataframe tbody tr th {\n",
       "        vertical-align: top;\n",
       "    }\n",
       "\n",
       "    .dataframe thead th {\n",
       "        text-align: right;\n",
       "    }\n",
       "</style>\n",
       "<table border=\"1\" class=\"dataframe\">\n",
       "  <thead>\n",
       "    <tr style=\"text-align: right;\">\n",
       "      <th></th>\n",
       "      <th>동물원에서</th>\n",
       "      <th>봤어</th>\n",
       "      <th>오늘</th>\n",
       "      <th>원숭이를</th>\n",
       "      <th>코끼리를</th>\n",
       "      <th>바나나를</th>\n",
       "      <th>원숭이에게</th>\n",
       "      <th>줬어</th>\n",
       "    </tr>\n",
       "  </thead>\n",
       "  <tbody>\n",
       "    <tr>\n",
       "      <th>0</th>\n",
       "      <td>0.0</td>\n",
       "      <td>0.327185</td>\n",
       "      <td>0.327185</td>\n",
       "      <td>0.88651</td>\n",
       "      <td>0.000000</td>\n",
       "      <td>0.000000</td>\n",
       "      <td>0.000000</td>\n",
       "      <td>0.000000</td>\n",
       "    </tr>\n",
       "    <tr>\n",
       "      <th>1</th>\n",
       "      <td>0.0</td>\n",
       "      <td>0.569307</td>\n",
       "      <td>0.284654</td>\n",
       "      <td>0.00000</td>\n",
       "      <td>0.771272</td>\n",
       "      <td>0.000000</td>\n",
       "      <td>0.000000</td>\n",
       "      <td>0.000000</td>\n",
       "    </tr>\n",
       "    <tr>\n",
       "      <th>2</th>\n",
       "      <td>0.0</td>\n",
       "      <td>0.000000</td>\n",
       "      <td>0.000000</td>\n",
       "      <td>0.00000</td>\n",
       "      <td>0.000000</td>\n",
       "      <td>0.816497</td>\n",
       "      <td>0.408248</td>\n",
       "      <td>0.408248</td>\n",
       "    </tr>\n",
       "  </tbody>\n",
       "</table>\n",
       "</div>"
      ],
      "text/plain": [
       "   동물원에서        봤어        오늘     원숭이를      코끼리를      바나나를     원숭이에게        줬어\n",
       "0    0.0  0.327185  0.327185  0.88651  0.000000  0.000000  0.000000  0.000000\n",
       "1    0.0  0.569307  0.284654  0.00000  0.771272  0.000000  0.000000  0.000000\n",
       "2    0.0  0.000000  0.000000  0.00000  0.000000  0.816497  0.408248  0.408248"
      ]
     },
     "execution_count": 11,
     "metadata": {},
     "output_type": "execute_result"
    }
   ],
   "source": [
    "from gensim.matutils import sparse2full\n",
    "\n",
    "vocab = [id2word[key] for key in id2word.keys()]\n",
    "DTM_matrix = [sparse2full(doc, len(vocab)).tolist() for doc in tfidf]\n",
    "pd.DataFrame(DTM_matrix, columns=vocab)"
   ]
  },
  {
   "cell_type": "code",
   "execution_count": 12,
   "id": "41c2e086-a66f-4965-9251-4ceb7f22d677",
   "metadata": {
    "id": "41c2e086-a66f-4965-9251-4ceb7f22d677"
   },
   "outputs": [],
   "source": [
    "import requests\n",
    "from bs4 import BeautifulSoup\n",
    "\n",
    "from konlpy.tag import Mecab\n",
    "mecab = Mecab()\n",
    "\n",
    "\n",
    "def get_news(url):\n",
    "    headers = {\"user-agent\":\"Mozilla/5.0\"}\n",
    "    response = requests.get(url, headers=headers)\n",
    "    html = BeautifulSoup(response.text, 'html.parser')\n",
    "    \n",
    "    article = html.select_one(\"#articleBodyContents\").text\n",
    "\n",
    "                  \n",
    "    article = \" \".join([token[0] for token in mecab.pos(article) if token[1].strip() in [\"NNG\", \"NNP\", \"VV\"]])\n",
    "    \n",
    "    return article\n",
    "\n",
    "urls = [\"https://news.naver.com/main/read.nhn?mode=LSD&mid=sec&sid1=105&oid=018&aid=0004430108\",\n",
    "\"https://news.naver.com/main/read.nhn?mode=LSD&mid=sec&sid1=101&oid=001&aid=0011614790\",\n",
    "\"https://news.naver.com/main/read.nhn?mode=LSD&mid=sec&sid1=102&oid=014&aid=0004424362\",\n",
    "\"https://news.naver.com/main/read.nhn?mode=LSD&mid=sec&sid1=101&oid=119&aid=0002402191\",\n",
    "\"https://news.naver.com/main/read.nhn?mode=LSD&mid=sec&sid1=101&oid=030&aid=0002882728\"]\n",
    "\n",
    "docs = []\n",
    "for url in urls:\n",
    "    docs.append(get_news(url))\n"
   ]
  },
  {
   "cell_type": "code",
   "execution_count": 13,
   "id": "2e4ae4a9-2ea4-4cd5-9ca1-ca8af23cbea5",
   "metadata": {
    "id": "2e4ae4a9-2ea4-4cd5-9ca1-ca8af23cbea5",
    "outputId": "464c2b2d-2d95-4b47-f22c-fb6f69d3a5aa"
   },
   "outputs": [
    {
     "name": "stdout",
     "output_type": "stream",
     "text": [
      "과기 정통부 유영민 장관 참석 기념행사 투입 여종 데이\n",
      "한국전력공사 한국전력공사 제공 나주 연합뉴스 송 기자 \n",
      "판교 자율 주행 실증 자율 주행 데이터 개방 사업 선정\n",
      "통계청 텔레콤 모바일 빅 데이터 분석 들 회복세 코로나\n",
      "금융 결제 원 신용 정보원 지정 비씨 카드 추가 포함 \n"
     ]
    }
   ],
   "source": [
    "for doc in docs:\n",
    "    print(doc[:30])"
   ]
  },
  {
   "cell_type": "code",
   "execution_count": 14,
   "id": "1599664d-1768-4544-b8f1-a3587ef45c4f",
   "metadata": {
    "id": "1599664d-1768-4544-b8f1-a3587ef45c4f"
   },
   "outputs": [],
   "source": [
    "from sklearn.feature_extraction.text import CountVectorizer\n",
    "from sklearn.feature_extraction.text import TfidfTransformer\n",
    "\n",
    "count_vect = CountVectorizer(max_df=0.85, max_features=10000)\n",
    "word_count_vector = count_vect.fit_transform(docs)"
   ]
  },
  {
   "cell_type": "code",
   "execution_count": 15,
   "id": "8fdb20f1-6198-405e-a22e-1ec74f9f1b7b",
   "metadata": {
    "id": "8fdb20f1-6198-405e-a22e-1ec74f9f1b7b",
    "jupyter": {
     "outputs_hidden": true
    },
    "outputId": "ff4d3fd4-0ed7-491a-ce76-f6299ac9c649",
    "tags": []
   },
   "outputs": [
    {
     "data": {
      "text/plain": [
       "{'과기': 48,\n",
       " '정통부': 406,\n",
       " '유영민': 328,\n",
       " '장관': 375,\n",
       " '참석': 453,\n",
       " '기념행사': 77,\n",
       " '투입': 494,\n",
       " '여종': 292,\n",
       " '구축': 61,\n",
       " '민간': 162,\n",
       " '클라우드': 479,\n",
       " '외부': 315,\n",
       " '연계': 298,\n",
       " '체계': 460,\n",
       " '개방': 16,\n",
       " '강화': 14,\n",
       " '데일리': 124,\n",
       " '이재운': 353,\n",
       " '국가': 63,\n",
       " '차원': 449,\n",
       " '시대': 263,\n",
       " '산업': 213,\n",
       " '창출': 455,\n",
       " '기존': 85,\n",
       " '변화': 178,\n",
       " '이르': 344,\n",
       " '혁신': 539,\n",
       " '분야': 192,\n",
       " '경제': 33,\n",
       " '발전': 167,\n",
       " '정부': 404,\n",
       " '청사진': 457,\n",
       " '현실': 540,\n",
       " '구현': 62,\n",
       " '계획': 38,\n",
       " '과학': 49,\n",
       " '기술': 80,\n",
       " '정보': 402,\n",
       " '통신부': 491,\n",
       " '서울': 230,\n",
       " '중구': 428,\n",
       " '대한': 120,\n",
       " '상공': 214,\n",
       " '회의소': 559,\n",
       " '생태': 225,\n",
       " '조성': 416,\n",
       " '성장': 237,\n",
       " '기반': 79,\n",
       " '마련': 139,\n",
       " '플랫': 512,\n",
       " '출범식': 471,\n",
       " '행사': 530,\n",
       " '개최': 21,\n",
       " '노웅래': 99,\n",
       " '국회': 67,\n",
       " '방송': 170,\n",
       " '통신': 490,\n",
       " '위원회': 326,\n",
       " '위원장': 325,\n",
       " '참가': 451,\n",
       " '이미지': 346,\n",
       " '픽사': 515,\n",
       " '베이': 174,\n",
       " '이루': 343,\n",
       " '문재': 154,\n",
       " '핵심': 529,\n",
       " '요소': 317,\n",
       " '문재인': 155,\n",
       " '대통령': 119,\n",
       " '보호': 182,\n",
       " '보안': 180,\n",
       " '중요': 432,\n",
       " '강조': 13,\n",
       " '맥락': 148,\n",
       " '공공': 40,\n",
       " '협업': 544,\n",
       " '양질': 284,\n",
       " '생산': 224,\n",
       " '수집': 254,\n",
       " '분석': 191,\n",
       " '유통': 330,\n",
       " '역할': 295,\n",
       " '담당': 110,\n",
       " '기관': 76,\n",
       " '올해': 311,\n",
       " '규모': 68,\n",
       " '사업': 204,\n",
       " '추진': 468,\n",
       " '대상': 116,\n",
       " '금융': 72,\n",
       " '카드': 474,\n",
       " '환경': 553,\n",
       " '한국': 521,\n",
       " '수자원': 252,\n",
       " '공사': 43,\n",
       " '문화': 158,\n",
       " '정보원': 403,\n",
       " '교통': 58,\n",
       " '연구원': 299,\n",
       " '스케어': 258,\n",
       " '국립암센터': 65,\n",
       " '소비': 244,\n",
       " '매일': 146,\n",
       " '중소기업': 429,\n",
       " '비즈': 198,\n",
       " '지역': 439,\n",
       " '경기도': 30,\n",
       " '산림': 212,\n",
       " '임업': 365,\n",
       " '흥원': 561,\n",
       " '공모': 42,\n",
       " '선정': 231,\n",
       " '다음': 107,\n",
       " '추가': 466,\n",
       " '지원': 440,\n",
       " '운영': 321,\n",
       " '생태계': 226,\n",
       " '기업': 82,\n",
       " '경쟁력': 32,\n",
       " '제고': 407,\n",
       " '수행': 255,\n",
       " '주요': 423,\n",
       " '전략': 386,\n",
       " '사례': 202,\n",
       " '시장': 269,\n",
       " '방안': 171,\n",
       " '경우': 31,\n",
       " '신용': 274,\n",
       " '평가': 503,\n",
       " '고도': 39,\n",
       " '취약': 473,\n",
       " '계층': 37,\n",
       " '금리': 71,\n",
       " '대출': 118,\n",
       " '절감': 398,\n",
       " '연간': 296,\n",
       " '신규': 271,\n",
       " '전망': 388,\n",
       " '소상': 245,\n",
       " '공인': 46,\n",
       " '폐업': 504,\n",
       " '감소': 9,\n",
       " '예술': 308,\n",
       " '관람': 53,\n",
       " '생활': 227,\n",
       " '체육': 461,\n",
       " '참여': 454,\n",
       " '높이': 102,\n",
       " '모색': 151,\n",
       " '의료비': 337,\n",
       " '헬스': 538,\n",
       " '케어': 476,\n",
       " '매출': 147,\n",
       " '향상': 534,\n",
       " '육성': 332,\n",
       " '눈길': 103,\n",
       " '제공': 408,\n",
       " '알고리즘': 283,\n",
       " '부족': 188,\n",
       " '문제': 156,\n",
       " '해소': 528,\n",
       " '수요': 250,\n",
       " '완료': 312,\n",
       " '공급': 41,\n",
       " '사이': 208,\n",
       " '파일': 497,\n",
       " '형식': 546,\n",
       " '호환': 548,\n",
       " '표준': 508,\n",
       " '적용': 381,\n",
       " '품질': 509,\n",
       " '관리': 55,\n",
       " '기준': 86,\n",
       " '실제': 278,\n",
       " '최신': 464,\n",
       " '확보': 550,\n",
       " '수개월': 249,\n",
       " '소요': 246,\n",
       " '문제점': 157,\n",
       " '개선': 18,\n",
       " '플랫폼': 513,\n",
       " '축적': 469,\n",
       " '공유': 45,\n",
       " '연속': 301,\n",
       " '융합': 333,\n",
       " '맞춤': 145,\n",
       " '제작': 413,\n",
       " '필요': 517,\n",
       " '원하': 323,\n",
       " '형태': 547,\n",
       " '도구': 126,\n",
       " '인공지능': 356,\n",
       " '학습': 520,\n",
       " '이용자': 352,\n",
       " '사용': 207,\n",
       " '편리': 500,\n",
       " '등록': 134,\n",
       " '검색': 26,\n",
       " '보유': 181,\n",
       " '거버넌스': 23,\n",
       " '논의': 100,\n",
       " '얼라이언스': 285,\n",
       " '구성': 60,\n",
       " '전하': 396,\n",
       " '이용': 351,\n",
       " '오늘': 310,\n",
       " '대한민국': 121,\n",
       " '강국': 11,\n",
       " '초석': 463,\n",
       " '자리': 369,\n",
       " '세계': 238,\n",
       " '나아가': 91,\n",
       " '발걸음': 164,\n",
       " '지렛대': 437,\n",
       " '우리나라': 319,\n",
       " '낙후': 94,\n",
       " '단계': 108,\n",
       " '정책': 405,\n",
       " '역량': 294,\n",
       " '집중': 447,\n",
       " '네이버': 97,\n",
       " '뉴스': 104,\n",
       " '구독': 59,\n",
       " '영상': 305,\n",
       " '청춘': 458,\n",
       " '우스': 320,\n",
       " '스냅': 257,\n",
       " '타임': 481,\n",
       " '종합': 419,\n",
       " '미디어': 159,\n",
       " '무단': 153,\n",
       " '전재': 395,\n",
       " '배포': 173,\n",
       " '금지': 73,\n",
       " '한국전력공사': 523,\n",
       " '나주': 93,\n",
       " '연합뉴스': 302,\n",
       " '한국전력': 522,\n",
       " '전력': 387,\n",
       " '서비스': 229,\n",
       " '개발': 15,\n",
       " '경진': 34,\n",
       " '대회': 123,\n",
       " '한전': 524,\n",
       " '아트': 282,\n",
       " '통상': 489,\n",
       " '자원': 370,\n",
       " '주최': 425,\n",
       " '그룹': 70,\n",
       " '광주': 57,\n",
       " '기술원': 81,\n",
       " '주관': 421,\n",
       " '이번': 347,\n",
       " '모델': 149,\n",
       " '발굴': 165,\n",
       " '희망': 562,\n",
       " '학생': 519,\n",
       " '일반인': 360,\n",
       " '벤처': 175,\n",
       " '새싹': 223,\n",
       " '홈페이지': 549,\n",
       " '제안서': 412,\n",
       " '서류': 228,\n",
       " '심사': 280,\n",
       " '통과': 488,\n",
       " '개인': 20,\n",
       " '반출': 163,\n",
       " '불가': 194,\n",
       " '완성도': 313,\n",
       " '상용': 219,\n",
       " '확장': 551,\n",
       " '사내': 200,\n",
       " '직원': 442,\n",
       " '사외': 206,\n",
       " '전문': 390,\n",
       " '위원': 324,\n",
       " '시상': 265,\n",
       " '부문': 186,\n",
       " '진행': 443,\n",
       " '최종': 465,\n",
       " '상금': 215,\n",
       " '상작': 220,\n",
       " '솔루션': 248,\n",
       " '에너지': 288,\n",
       " '마켓': 142,\n",
       " '플레이스': 514,\n",
       " '기회': 89,\n",
       " '김종갑': 90,\n",
       " '사장': 209,\n",
       " '가치': 6,\n",
       " '대국민': 113,\n",
       " '편익': 502,\n",
       " '만들': 143,\n",
       " '기대': 78,\n",
       " '코로나': 477,\n",
       " '속보': 247,\n",
       " '클릭': 480,\n",
       " '체크': 462,\n",
       " '등교': 133,\n",
       " '개학': 22,\n",
       " '확진': 552,\n",
       " '나오': 92,\n",
       " '제보': 410,\n",
       " '판교': 498,\n",
       " '자율': 371,\n",
       " '주행': 426,\n",
       " '실증': 279,\n",
       " '파이낸셜': 496,\n",
       " '수원': 251,\n",
       " '장충식': 377,\n",
       " '관련': 54,\n",
       " '중점': 433,\n",
       " '조치': 417,\n",
       " '예정': 309,\n",
       " '포털': 506,\n",
       " '접속': 400,\n",
       " '단지': 109,\n",
       " '별도': 179,\n",
       " '가공': 0,\n",
       " '처리': 456,\n",
       " '하반기': 518,\n",
       " '활성': 554,\n",
       " '기여': 83,\n",
       " '임문영': 364,\n",
       " '미래': 160,\n",
       " '장정': 376,\n",
       " '관은': 56,\n",
       " '작년': 373,\n",
       " '개소': 19,\n",
       " '이후': 355,\n",
       " '건강': 24,\n",
       " '선진': 232,\n",
       " '국내': 64,\n",
       " '한편': 526,\n",
       " '차세대': 448,\n",
       " '지난해': 435,\n",
       " '출범': 470,\n",
       " '운전자': 322,\n",
       " '레벨': 137,\n",
       " '수준': 253,\n",
       " '셔틀': 242,\n",
       " '스타트업': 259,\n",
       " '테스트': 482,\n",
       " '소리': 243,\n",
       " '토리': 484,\n",
       " '두유': 132,\n",
       " '노우': 98,\n",
       " '저작권자': 380,\n",
       " '통계청': 487,\n",
       " '텔레콤': 483,\n",
       " '모바일': 150,\n",
       " '회복세': 557,\n",
       " '발생': 166,\n",
       " '미만': 161,\n",
       " '인구': 357,\n",
       " '이동': 339,\n",
       " '결과': 27,\n",
       " '토요일': 485,\n",
       " '완화': 314,\n",
       " '전년': 384,\n",
       " '대비': 115,\n",
       " '상당': 216,\n",
       " '회복': 556,\n",
       " '이동은': 342,\n",
       " '사람': 201,\n",
       " '접촉': 401,\n",
       " '상대': 217,\n",
       " '상업': 218,\n",
       " '관광지': 52,\n",
       " '레저': 138,\n",
       " '스포츠': 260,\n",
       " '시설': 266,\n",
       " '대형': 122,\n",
       " '아울렛': 281,\n",
       " '주거': 420,\n",
       " '동량': 130,\n",
       " '연휴': 303,\n",
       " '기점': 84,\n",
       " '파악': 495,\n",
       " '이동결': 340,\n",
       " '전국': 382,\n",
       " '가입자': 3,\n",
       " '주중': 424,\n",
       " '주말': 422,\n",
       " '추정': 467,\n",
       " '전후': 397,\n",
       " '점유': 399,\n",
       " '업무': 287,\n",
       " '협약': 543,\n",
       " '체결': 459,\n",
       " '일환': 363,\n",
       " '통계': 486,\n",
       " '유동': 327,\n",
       " '지도': 436,\n",
       " '연령': 300,\n",
       " '입지': 367,\n",
       " '유형': 331,\n",
       " '시도': 264,\n",
       " '다각': 105,\n",
       " '시기': 262,\n",
       " '비교': 195,\n",
       " '의미': 338,\n",
       " '본인': 184,\n",
       " '실거': 276,\n",
       " '행정동': 533,\n",
       " '이상': 348,\n",
       " '방문': 169,\n",
       " '건수': 25,\n",
       " '집계': 445,\n",
       " '센서스': 241,\n",
       " '모수': 152,\n",
       " '성과': 235,\n",
       " '세별': 239,\n",
       " '가중치': 5,\n",
       " '집단': 446,\n",
       " '감염': 10,\n",
       " '영향': 306,\n",
       " '설명': 233,\n",
       " '기간': 75,\n",
       " '변동': 176,\n",
       " '성별': 236,\n",
       " '전반': 391,\n",
       " '남성': 95,\n",
       " '여성': 290,\n",
       " '가족': 4,\n",
       " '동반': 131,\n",
       " '증가세': 434,\n",
       " '분류': 190,\n",
       " '사무': 203,\n",
       " '한정': 525,\n",
       " '제주': 414,\n",
       " '강원': 12,\n",
       " '부산': 187,\n",
       " '대구': 112,\n",
       " '관광': 51,\n",
       " '중심': 430,\n",
       " '유입': 329,\n",
       " '전남': 383,\n",
       " '전북': 392,\n",
       " '충남': 472,\n",
       " '도시': 128,\n",
       " '각종': 7,\n",
       " '사회': 211,\n",
       " '이슈': 350,\n",
       " '참고': 452,\n",
       " '기초': 87,\n",
       " '자료': 368,\n",
       " '방침': 172,\n",
       " '데일리안': 125,\n",
       " '이소희': 349,\n",
       " '변형': 177,\n",
       " '결제': 28,\n",
       " '지정': 441,\n",
       " '비씨': 196,\n",
       " '포함': 507,\n",
       " '여부': 289,\n",
       " '시행령': 270,\n",
       " '발표': 168,\n",
       " '판매': 499,\n",
       " '급물살': 74,\n",
       " '중계': 427,\n",
       " '포스': 505,\n",
       " '전송': 393,\n",
       " '항목': 527,\n",
       " '실무': 277,\n",
       " '회의': 558,\n",
       " '이동근': 341,\n",
       " '신사업': 273,\n",
       " '마이': 141,\n",
       " '통합': 493,\n",
       " '조회': 418,\n",
       " '사업자': 205,\n",
       " '연결': 297,\n",
       " '효율': 560,\n",
       " '허브': 536,\n",
       " '계약': 36,\n",
       " '비효': 199,\n",
       " '다수': 106,\n",
       " '핀테크': 516,\n",
       " '일종': 362,\n",
       " '인프라': 359,\n",
       " '따르': 135,\n",
       " '작업': 374,\n",
       " '착수': 450,\n",
       " '농협': 101,\n",
       " '중앙': 431,\n",
       " '수협': 256,\n",
       " '상호저축은행': 221,\n",
       " '신협': 275,\n",
       " '마을금고': 140,\n",
       " '코스콤': 478,\n",
       " '행정': 532,\n",
       " '전담': 385,\n",
       " '이종': 354,\n",
       " '결합': 29,\n",
       " '프로세싱': 511,\n",
       " '비씨카드': 197,\n",
       " '개별': 17,\n",
       " '공청회': 47,\n",
       " '당시': 111,\n",
       " '의견': 336,\n",
       " '일부': 361,\n",
       " '독점': 129,\n",
       " '우려': 318,\n",
       " '지속': 438,\n",
       " '제기': 409,\n",
       " '진흥': 444,\n",
       " '입장': 366,\n",
       " '제시': 411,\n",
       " '여파': 293,\n",
       " '공식': 44,\n",
       " '열리': 304,\n",
       " '시작': 268,\n",
       " '설비': 234,\n",
       " '시스템': 267,\n",
       " '업계': 286,\n",
       " '가운데': 2,\n",
       " '경험': 35,\n",
       " '전무': 389,\n",
       " '자체': 372,\n",
       " '허용': 537,\n",
       " '쟁점': 379,\n",
       " '대변': 114,\n",
       " '여신': 291,\n",
       " '협회': 545,\n",
       " '대신': 117,\n",
       " '내부': 96,\n",
       " '갈리': 8,\n",
       " '시간': 261,\n",
       " '현재': 541,\n",
       " '도맡': 127,\n",
       " '회가': 555,\n",
       " '은행': 334,\n",
       " '응용': 335,\n",
       " '프로그램': 510,\n",
       " '상황': 222,\n",
       " '부처': 189,\n",
       " '이름': 345,\n",
       " '국민': 66,\n",
       " '행안': 531,\n",
       " '부도': 185,\n",
       " '허가': 535,\n",
       " '사전': 210,\n",
       " '조사': 415,\n",
       " '예비': 307,\n",
       " '컨설팅': 475,\n",
       " '라이선스': 136,\n",
       " '세부': 240,\n",
       " '요건': 316,\n",
       " '본격': 183,\n",
       " '가동': 1,\n",
       " '관계자': 50,\n",
       " '통하': 492,\n",
       " '균일': 69,\n",
       " '편의': 501,\n",
       " '만전': 144,\n",
       " '기하': 88,\n",
       " '분위기': 193,\n",
       " '현황': 542,\n",
       " '재식': 378,\n",
       " '전자': 394,\n",
       " '신문': 272,\n",
       " '인터넷': 358}"
      ]
     },
     "execution_count": 15,
     "metadata": {},
     "output_type": "execute_result"
    }
   ],
   "source": [
    "count_vect.vocabulary_"
   ]
  },
  {
   "cell_type": "code",
   "execution_count": 16,
   "id": "31713610-ad16-4d7e-ac29-dfa100d32e43",
   "metadata": {
    "id": "31713610-ad16-4d7e-ac29-dfa100d32e43",
    "outputId": "a251b6ab-60a8-4e33-9773-83855723ab51"
   },
   "outputs": [
    {
     "data": {
      "text/plain": [
       "TfidfTransformer()"
      ]
     },
     "execution_count": 16,
     "metadata": {},
     "output_type": "execute_result"
    }
   ],
   "source": [
    "tfidf_tranformer = TfidfTransformer()\n",
    "tfidf_tranformer.fit(word_count_vector)"
   ]
  },
  {
   "cell_type": "code",
   "execution_count": 17,
   "id": "cfc1690d-6ff1-4231-9552-25ae222e829a",
   "metadata": {
    "id": "cfc1690d-6ff1-4231-9552-25ae222e829a"
   },
   "outputs": [],
   "source": [
    "def sort_keywords(keywords):\n",
    "    return sorted(zip(keywords.data, keywords.col), reverse=True)\n",
    "\n",
    "def extract_keywords(feature_name, sorted_keywords, n=5):\n",
    "    return [(feature_name[idx], score) for score, idx in sorted_keywords[:n] ]"
   ]
  },
  {
   "cell_type": "code",
   "execution_count": 18,
   "id": "d5eae6c2-b1fe-4cfe-97bc-bd4e0de0afb9",
   "metadata": {
    "id": "d5eae6c2-b1fe-4cfe-97bc-bd4e0de0afb9",
    "outputId": "c7b730e3-dbc2-4f80-f0fa-d57ddd16b82c"
   },
   "outputs": [
    {
     "data": {
      "text/plain": [
       "[('플랫', 0.2630245621515846),\n",
       " ('계획', 0.22544962470135824),\n",
       " ('정통부', 0.18787468725113188),\n",
       " ('과기', 0.18787468725113188),\n",
       " ('혁신', 0.15157611471898802)]"
      ]
     },
     "execution_count": 18,
     "metadata": {},
     "output_type": "execute_result"
    }
   ],
   "source": [
    "feature_name = count_vect.get_feature_names_out()\n",
    "tf_idf_vector = tfidf_tranformer.transform(count_vect.transform([docs[0]]))\n",
    "sorted_keywords = sort_keywords(tf_idf_vector.tocoo())\n",
    "keywords = extract_keywords(feature_name, sorted_keywords)\n",
    "keywords\n",
    "\n"
   ]
  },
  {
   "cell_type": "code",
   "execution_count": 19,
   "id": "c2202f74-31c2-4d9f-92b7-8c3c277ccb44",
   "metadata": {
    "id": "c2202f74-31c2-4d9f-92b7-8c3c277ccb44",
    "outputId": "c2601bc9-5e4c-4298-8dce-78566a542b98"
   },
   "outputs": [
    {
     "ename": "SyntaxError",
     "evalue": "invalid syntax (1335035917.py, line 6)",
     "output_type": "error",
     "traceback": [
      "\u001b[1;36m  File \u001b[1;32m\"C:\\Users\\user\\AppData\\Local\\Temp\\ipykernel_25996\\1335035917.py\"\u001b[1;36m, line \u001b[1;32m6\u001b[0m\n\u001b[1;33m    print(keywords)\u001b[0m\n\u001b[1;37m        ^\u001b[0m\n\u001b[1;31mSyntaxError\u001b[0m\u001b[1;31m:\u001b[0m invalid syntax\n"
     ]
    }
   ],
   "source": [
    "for i in range(len(docs)):\n",
    "    tf_idf_vector = tfidf_tranformer.transform(count_vect.transform([docs[i]]))\n",
    "    sorted_keywords = sort_keywords(tf_idf_vector.tocoo())\n",
    "    keywords = extract_keywords(feature_name, sorted_keywords)\n",
    "    print(f\"문서 {i}\"\n",
    "    print(keywords)\n"
   ]
  },
  {
   "cell_type": "code",
   "execution_count": null,
   "id": "d094627c",
   "metadata": {},
   "outputs": [],
   "source": []
  },
  {
   "cell_type": "code",
   "execution_count": null,
   "id": "a85faa76",
   "metadata": {},
   "outputs": [],
   "source": []
  }
 ],
 "metadata": {
  "colab": {
   "name": "0126_nlp.ipynb",
   "provenance": []
  },
  "kernelspec": {
   "display_name": "nlp",
   "language": "python",
   "name": "nlp"
  },
  "language_info": {
   "codemirror_mode": {
    "name": "ipython",
    "version": 3
   },
   "file_extension": ".py",
   "mimetype": "text/x-python",
   "name": "python",
   "nbconvert_exporter": "python",
   "pygments_lexer": "ipython3",
   "version": "3.7.11"
  }
 },
 "nbformat": 4,
 "nbformat_minor": 5
}
