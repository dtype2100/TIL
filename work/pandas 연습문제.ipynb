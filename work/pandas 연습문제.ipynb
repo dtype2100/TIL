{
 "cells": [
  {
   "cell_type": "markdown",
   "metadata": {
    "id": "w6zeeA-U40WY"
   },
   "source": [
    "## 문제 1\n",
    "\n",
    "\n",
    "판다스를 import 하고 버전을 출력하세요"
   ]
  },
  {
   "cell_type": "code",
   "execution_count": 98,
   "metadata": {
    "colab": {
     "base_uri": "https://localhost:8080/"
    },
    "executionInfo": {
     "elapsed": 5,
     "status": "ok",
     "timestamp": 1639887122865,
     "user": {
      "displayName": "홍경수",
      "photoUrl": "https://lh3.googleusercontent.com/a/default-user=s64",
      "userId": "10514684854108920109"
     },
     "user_tz": -540
    },
    "id": "AZCpoIwJ40KN",
    "outputId": "8e5b3664-68a8-4d3b-ab73-a03bf0fd46b3"
   },
   "outputs": [
    {
     "name": "stdout",
     "output_type": "stream",
     "text": [
      "1.3.4\n"
     ]
    }
   ],
   "source": [
    "import pandas as pd\n",
    "print(pd.__version__)"
   ]
  },
  {
   "cell_type": "markdown",
   "metadata": {
    "id": "3dHLU-ea482n"
   },
   "source": [
    "## 문제 2\n",
    "\n",
    "아래 list, numpy array, dictionary를 활용해 pandas series를 출력하세요\n",
    "\n",
    "```\n",
    "import numpy as np\n",
    "mylist = list('abcedfghijklmnopqrstuvwxyz')\n",
    "myarr = np.arange(26)\n",
    "mydict = dict(zip(mylist, myarr))\n",
    "```"
   ]
  },
  {
   "cell_type": "code",
   "execution_count": 104,
   "metadata": {
    "colab": {
     "base_uri": "https://localhost:8080/"
    },
    "executionInfo": {
     "elapsed": 380,
     "status": "ok",
     "timestamp": 1639887192462,
     "user": {
      "displayName": "홍경수",
      "photoUrl": "https://lh3.googleusercontent.com/a/default-user=s64",
      "userId": "10514684854108920109"
     },
     "user_tz": -540
    },
    "id": "i4vVM9tz4mBM",
    "outputId": "d6e55589-85cc-424c-e5e5-aded5519a990"
   },
   "outputs": [
    {
     "name": "stdout",
     "output_type": "stream",
     "text": [
      "['a', 'b', 'c', 'e', 'd', 'f', 'g', 'h', 'i', 'j', 'k', 'l', 'm', 'n', 'o', 'p', 'q', 'r', 's', 't', 'u', 'v', 'w', 'x', 'y', 'z']\n",
      "[ 0  1  2  3  4  5  6  7  8  9 10 11 12 13 14 15 16 17 18 19 20 21 22 23\n",
      " 24 25]\n",
      "ser1\n",
      "0     a\n",
      "1     b\n",
      "2     c\n",
      "3     e\n",
      "4     d\n",
      "5     f\n",
      "6     g\n",
      "7     h\n",
      "8     i\n",
      "9     j\n",
      "10    k\n",
      "11    l\n",
      "12    m\n",
      "13    n\n",
      "14    o\n",
      "15    p\n",
      "16    q\n",
      "17    r\n",
      "18    s\n",
      "19    t\n",
      "20    u\n",
      "21    v\n",
      "22    w\n",
      "23    x\n",
      "24    y\n",
      "25    z\n",
      "dtype: object\n",
      "ser2\n",
      "0      0\n",
      "1      1\n",
      "2      2\n",
      "3      3\n",
      "4      4\n",
      "5      5\n",
      "6      6\n",
      "7      7\n",
      "8      8\n",
      "9      9\n",
      "10    10\n",
      "11    11\n",
      "12    12\n",
      "13    13\n",
      "14    14\n",
      "15    15\n",
      "16    16\n",
      "17    17\n",
      "18    18\n",
      "19    19\n",
      "20    20\n",
      "21    21\n",
      "22    22\n",
      "23    23\n",
      "24    24\n",
      "25    25\n",
      "dtype: int32\n",
      "3\n",
      "3\n"
     ]
    }
   ],
   "source": [
    "import numpy as np\n",
    "mylist = list('abcedfghijklmnopqrstuvwxyz')\n",
    "myarr = np.arange(26)\n",
    "print(mylist)\n",
    "print(myarr)\n",
    "mydict = dict(zip(mylist, myarr))\n",
    "ser1 = pd.Series(mylist)\n",
    "print(\"ser1\")\n",
    "print(ser1)\n",
    "\n",
    "ser2 = pd.Series(myarr)\n",
    "print(\"ser2\")\n",
    "print(ser2)\n",
    "\n",
    "ser3 = pd.Series(mydict)\n",
    "print(\"3\")\n",
    "print(3)"
   ]
  },
  {
   "cell_type": "markdown",
   "metadata": {
    "id": "ya-HavKO5fBn"
   },
   "source": [
    "## 문제 3\n",
    "\n",
    "두 series의 값을 포함하는 dataframe을 출력하세요\n",
    "```\n",
    "import numpy as np\n",
    "ser1 = pd.Series(list('abcedfghijklmnopqrstuvwxyz'))\n",
    "ser2 = pd.Series(np.arange(26))\n",
    "```"
   ]
  },
  {
   "cell_type": "code",
   "execution_count": 23,
   "metadata": {
    "colab": {
     "base_uri": "https://localhost:8080/"
    },
    "executionInfo": {
     "elapsed": 265,
     "status": "ok",
     "timestamp": 1639887410321,
     "user": {
      "displayName": "홍경수",
      "photoUrl": "https://lh3.googleusercontent.com/a/default-user=s64",
      "userId": "10514684854108920109"
     },
     "user_tz": -540
    },
    "id": "tereS_oN5L1K",
    "outputId": "3800d5e0-7ea7-4eb1-d83f-843f6933505c"
   },
   "outputs": [
    {
     "data": {
      "text/html": [
       "<div>\n",
       "<style scoped>\n",
       "    .dataframe tbody tr th:only-of-type {\n",
       "        vertical-align: middle;\n",
       "    }\n",
       "\n",
       "    .dataframe tbody tr th {\n",
       "        vertical-align: top;\n",
       "    }\n",
       "\n",
       "    .dataframe thead th {\n",
       "        text-align: right;\n",
       "    }\n",
       "</style>\n",
       "<table border=\"1\" class=\"dataframe\">\n",
       "  <thead>\n",
       "    <tr style=\"text-align: right;\">\n",
       "      <th></th>\n",
       "      <th>0</th>\n",
       "      <th>1</th>\n",
       "      <th>2</th>\n",
       "      <th>3</th>\n",
       "      <th>4</th>\n",
       "      <th>5</th>\n",
       "      <th>6</th>\n",
       "      <th>7</th>\n",
       "      <th>8</th>\n",
       "      <th>9</th>\n",
       "      <th>...</th>\n",
       "      <th>16</th>\n",
       "      <th>17</th>\n",
       "      <th>18</th>\n",
       "      <th>19</th>\n",
       "      <th>20</th>\n",
       "      <th>21</th>\n",
       "      <th>22</th>\n",
       "      <th>23</th>\n",
       "      <th>24</th>\n",
       "      <th>25</th>\n",
       "    </tr>\n",
       "  </thead>\n",
       "  <tbody>\n",
       "    <tr>\n",
       "      <th>0</th>\n",
       "      <td>a</td>\n",
       "      <td>b</td>\n",
       "      <td>c</td>\n",
       "      <td>e</td>\n",
       "      <td>d</td>\n",
       "      <td>f</td>\n",
       "      <td>g</td>\n",
       "      <td>h</td>\n",
       "      <td>i</td>\n",
       "      <td>j</td>\n",
       "      <td>...</td>\n",
       "      <td>q</td>\n",
       "      <td>r</td>\n",
       "      <td>s</td>\n",
       "      <td>t</td>\n",
       "      <td>u</td>\n",
       "      <td>v</td>\n",
       "      <td>w</td>\n",
       "      <td>x</td>\n",
       "      <td>y</td>\n",
       "      <td>z</td>\n",
       "    </tr>\n",
       "    <tr>\n",
       "      <th>1</th>\n",
       "      <td>0</td>\n",
       "      <td>1</td>\n",
       "      <td>2</td>\n",
       "      <td>3</td>\n",
       "      <td>4</td>\n",
       "      <td>5</td>\n",
       "      <td>6</td>\n",
       "      <td>7</td>\n",
       "      <td>8</td>\n",
       "      <td>9</td>\n",
       "      <td>...</td>\n",
       "      <td>16</td>\n",
       "      <td>17</td>\n",
       "      <td>18</td>\n",
       "      <td>19</td>\n",
       "      <td>20</td>\n",
       "      <td>21</td>\n",
       "      <td>22</td>\n",
       "      <td>23</td>\n",
       "      <td>24</td>\n",
       "      <td>25</td>\n",
       "    </tr>\n",
       "  </tbody>\n",
       "</table>\n",
       "<p>2 rows × 26 columns</p>\n",
       "</div>"
      ],
      "text/plain": [
       "  0  1  2  3  4  5  6  7  8  9   ...  16  17  18  19  20  21  22  23  24  25\n",
       "0  a  b  c  e  d  f  g  h  i  j  ...   q   r   s   t   u   v   w   x   y   z\n",
       "1  0  1  2  3  4  5  6  7  8  9  ...  16  17  18  19  20  21  22  23  24  25\n",
       "\n",
       "[2 rows x 26 columns]"
      ]
     },
     "execution_count": 23,
     "metadata": {},
     "output_type": "execute_result"
    }
   ],
   "source": [
    "ser1 = pd.Series(list('abcedfghijklmnopqrstuvwxyz'))\n",
    "ser2 = pd.Series(np.arange(26))\n",
    "df = pd.DataFrame([ser1, ser2])\n",
    "df"
   ]
  },
  {
   "cell_type": "markdown",
   "metadata": {
    "id": "I-bzq5gw8_Hr"
   },
   "source": [
    "## 문제 4\n",
    "\n",
    "ser1 Series에서 ser2 Series에 있는 요소들을 제외한 나머지 요소를 출력하세요\n",
    "\n",
    "```\n",
    "ser1 = pd.Series([1, 2, 3, 4, 5])\n",
    "ser2 = pd.Series([4, 5, 6, 7, 8])\n",
    "```"
   ]
  },
  {
   "cell_type": "code",
   "execution_count": 110,
   "metadata": {
    "colab": {
     "base_uri": "https://localhost:8080/"
    },
    "executionInfo": {
     "elapsed": 318,
     "status": "ok",
     "timestamp": 1639888219011,
     "user": {
      "displayName": "홍경수",
      "photoUrl": "https://lh3.googleusercontent.com/a/default-user=s64",
      "userId": "10514684854108920109"
     },
     "user_tz": -540
    },
    "id": "dMVdb8vs6BDy",
    "outputId": "0e6b1f3c-ffe7-4239-e2fa-743c6ac7105e"
   },
   "outputs": [
    {
     "data": {
      "text/plain": [
       "0    1\n",
       "1    2\n",
       "2    3\n",
       "dtype: int64"
      ]
     },
     "execution_count": 110,
     "metadata": {},
     "output_type": "execute_result"
    }
   ],
   "source": [
    "ser1 = pd.Series([1, 2, 3, 4, 5])\n",
    "ser2 = pd.Series([4, 5, 6, 7, 8])\n",
    "\n",
    "ser1[~ser1.isin(ser2)]"
   ]
  },
  {
   "cell_type": "markdown",
   "metadata": {
    "id": "_hL4aMWJ9PvU"
   },
   "source": [
    "## 문제 5\n",
    "\n",
    "ser의 최소값, 25번째 백분위수(25th percentile), 중앙값(median), 75번째 백분위수(75th percentile) 및 최대값을 계산합니다. \n",
    "\n",
    "```\n",
    "\n",
    "ser = pd.Series(np.random.normal(10, 5, 25))\n",
    "```"
   ]
  },
  {
   "cell_type": "code",
   "execution_count": 117,
   "metadata": {
    "colab": {
     "base_uri": "https://localhost:8080/"
    },
    "executionInfo": {
     "elapsed": 372,
     "status": "ok",
     "timestamp": 1639888309985,
     "user": {
      "displayName": "홍경수",
      "photoUrl": "https://lh3.googleusercontent.com/a/default-user=s64",
      "userId": "10514684854108920109"
     },
     "user_tz": -540
    },
    "id": "FGJQ1Nxf9Pb7",
    "outputId": "da8e2b2e-ecac-46c0-e907-750b29f3cc57"
   },
   "outputs": [
    {
     "name": "stdout",
     "output_type": "stream",
     "text": [
      "count    25.000000\n",
      "mean     10.456601\n",
      "std       4.687715\n",
      "min      -0.773500\n",
      "25%       7.745071\n",
      "50%       9.592067\n",
      "75%      14.201607\n",
      "max      19.852414\n",
      "dtype: float64\n"
     ]
    },
    {
     "data": {
      "text/plain": [
       "array([-0.77350008,  6.79246864,  9.59206723, 14.20160651, 19.85241433])"
      ]
     },
     "execution_count": 117,
     "metadata": {},
     "output_type": "execute_result"
    }
   ],
   "source": [
    "ser = pd.Series(np.random.normal(10, 5, 25))\n",
    "print(ser.describe())\n",
    "np.percentile(ser, q=[0, 15, 50, 75, 100])"
   ]
  },
  {
   "cell_type": "code",
   "execution_count": 112,
   "metadata": {},
   "outputs": [
    {
     "data": {
      "text/plain": [
       "10.704977723230256"
      ]
     },
     "execution_count": 112,
     "metadata": {},
     "output_type": "execute_result"
    }
   ],
   "source": [
    "ser = pd.Series(np.random.normal(10, 5, 25))\n",
    "ser.median()"
   ]
  },
  {
   "cell_type": "code",
   "execution_count": null,
   "metadata": {},
   "outputs": [],
   "source": []
  },
  {
   "cell_type": "markdown",
   "metadata": {
    "id": "xVbsEAeD9i_O"
   },
   "source": [
    "## 문제 6\n",
    "\n",
    "아래 ser Series의 각 고유 값과 빈도 수를 계산합니다.\n",
    "\n",
    "```\n",
    "ser = pd.Series(np.take(list('abcdefgh'), np.random.randint(8, size=30)))\n",
    "\n",
    "```"
   ]
  },
  {
   "cell_type": "code",
   "execution_count": 49,
   "metadata": {},
   "outputs": [
    {
     "data": {
      "text/plain": [
       "array(['b', 'd', 'f', 'g', 'h', 'c', 'e', 'a'], dtype=object)"
      ]
     },
     "execution_count": 49,
     "metadata": {},
     "output_type": "execute_result"
    }
   ],
   "source": [
    "ser = pd.Series(np.take(list('abcdefgh'), np.random.randint(8, size=30)))\n",
    "ser.unique()"
   ]
  },
  {
   "cell_type": "code",
   "execution_count": null,
   "metadata": {
    "colab": {
     "base_uri": "https://localhost:8080/"
    },
    "executionInfo": {
     "elapsed": 302,
     "status": "ok",
     "timestamp": 1639959827696,
     "user": {
      "displayName": "Dasom Oh",
      "photoUrl": "https://lh3.googleusercontent.com/a/default-user=s64",
      "userId": "09774935410501776649"
     },
     "user_tz": -540
    },
    "id": "RL7sGUlE9_fR",
    "outputId": "bbb7021a-a3ac-4344-98e3-f7b2783da008"
   },
   "outputs": [
    {
     "data": {
      "text/plain": [
       "array(['a', 'h', 'd', 'd', 'e', 'a', 'f', 'h', 'c', 'g', 'c', 'd', 'c',\n",
       "       'e', 'c', 'a', 'h', 'a', 'f', 'g', 'e', 'd', 'f', 'c', 'a', 'e',\n",
       "       'f', 'g', 'f', 'f'], dtype='<U1')"
      ]
     },
     "execution_count": 2,
     "metadata": {},
     "output_type": "execute_result"
    }
   ],
   "source": []
  },
  {
   "cell_type": "markdown",
   "metadata": {
    "id": "5iDpNG8691id"
   },
   "source": [
    "## 문제 7\n",
    "\n",
    "Series ser을 7*5 행렬로 전환하세요\n",
    "전환시 재배열되는 요소의 순서는 아래 예시를 참고해주세요\n",
    "[0,1,2,3] \n",
    "=>  [ [0, 1]\n",
    "     ,[2, 3]] \n",
    "```\n",
    "ser = pd.Series(np.random.randint(1, 10, 35))\n",
    "```"
   ]
  },
  {
   "cell_type": "code",
   "execution_count": null,
   "metadata": {
    "colab": {
     "base_uri": "https://localhost:8080/"
    },
    "executionInfo": {
     "elapsed": 13,
     "status": "ok",
     "timestamp": 1639960285973,
     "user": {
      "displayName": "Dasom Oh",
      "photoUrl": "https://lh3.googleusercontent.com/a/default-user=s64",
      "userId": "09774935410501776649"
     },
     "user_tz": -540
    },
    "id": "Gq7oL98L9GeI",
    "outputId": "3081cc69-2b43-4aab-b696-723fa0c086d9"
   },
   "outputs": [
    {
     "name": "stdout",
     "output_type": "stream",
     "text": [
      "    0   1   2   3   4\n",
      "0   0   1   2   3   4\n",
      "1   5   6   7   8   9\n",
      "2  10  11  12  13  14\n",
      "3  15  16  17  18  19\n",
      "4  20  21  22  23  24\n",
      "5  25  26  27  28  29\n",
      "6  30  31  32  33  34\n"
     ]
    }
   ],
   "source": []
  },
  {
   "cell_type": "code",
   "execution_count": 58,
   "metadata": {},
   "outputs": [
    {
     "data": {
      "text/plain": [
       "array([[9, 8, 6, 1, 5],\n",
       "       [9, 1, 7, 2, 2],\n",
       "       [2, 6, 9, 6, 6],\n",
       "       [2, 4, 3, 1, 8],\n",
       "       [8, 9, 9, 6, 2],\n",
       "       [5, 1, 9, 7, 6],\n",
       "       [9, 5, 4, 3, 4]])"
      ]
     },
     "execution_count": 58,
     "metadata": {},
     "output_type": "execute_result"
    }
   ],
   "source": [
    "ser = pd.Series(np.random.randint(1, 10, 35))\n",
    "np.array(ser).reshape(7, 5)\n"
   ]
  },
  {
   "cell_type": "markdown",
   "metadata": {
    "id": "CRGfSjMj96H_"
   },
   "source": [
    "## 문제 8\n",
    "\n",
    "ser에서 3의 배수인 숫자의 위치를 찾으세요.\n",
    "```\n",
    "ser = pd.Series(np.random.randint(1, 10, 7))\n",
    "```"
   ]
  },
  {
   "cell_type": "code",
   "execution_count": null,
   "metadata": {
    "colab": {
     "base_uri": "https://localhost:8080/"
    },
    "executionInfo": {
     "elapsed": 262,
     "status": "ok",
     "timestamp": 1639889545017,
     "user": {
      "displayName": "홍경수",
      "photoUrl": "https://lh3.googleusercontent.com/a/default-user=s64",
      "userId": "10514684854108920109"
     },
     "user_tz": -540
    },
    "id": "7DCLWOZh96IA",
    "outputId": "5a8e154a-f7e2-415c-916d-eb4cd8d8c92d"
   },
   "outputs": [
    {
     "name": "stdout",
     "output_type": "stream",
     "text": [
      "0    4\n",
      "1    7\n",
      "2    3\n",
      "3    3\n",
      "4    8\n",
      "5    8\n",
      "6    1\n",
      "dtype: int64\n"
     ]
    },
    {
     "data": {
      "text/plain": [
       "(array([2, 3]),)"
      ]
     },
     "execution_count": 18,
     "metadata": {},
     "output_type": "execute_result"
    }
   ],
   "source": []
  },
  {
   "cell_type": "code",
   "execution_count": null,
   "metadata": {},
   "outputs": [],
   "source": [
    "ser = pd.Series(np.random.randint(1, 10, 7))\n",
    "ser() "
   ]
  },
  {
   "cell_type": "markdown",
   "metadata": {
    "id": "8Bj1aHeT_iYX"
   },
   "source": [
    "## 문제 9\n",
    "\n",
    "ser1 및 ser2를 수직 및 수평으로 쌓은(stack) 값을 각각 Series 및 dataframe으로 출력하세요.\n",
    "```\n",
    "ser1 = pd.Series(range(5))\n",
    "ser2 = pd.Series(list('abcde'))\n",
    "```"
   ]
  },
  {
   "cell_type": "code",
   "execution_count": null,
   "metadata": {
    "colab": {
     "base_uri": "https://localhost:8080/"
    },
    "executionInfo": {
     "elapsed": 284,
     "status": "ok",
     "timestamp": 1639960862818,
     "user": {
      "displayName": "Dasom Oh",
      "photoUrl": "https://lh3.googleusercontent.com/a/default-user=s64",
      "userId": "09774935410501776649"
     },
     "user_tz": -540
    },
    "id": "prKT5o4o_iYY",
    "outputId": "49cede8e-dcb9-4df4-a509-17482b0e52c7"
   },
   "outputs": [
    {
     "name": "stdout",
     "output_type": "stream",
     "text": [
      "   0  1\n",
      "0  0  a\n",
      "1  1  b\n",
      "2  2  c\n",
      "3  3  d\n",
      "4  4  e\n"
     ]
    }
   ],
   "source": []
  },
  {
   "cell_type": "code",
   "execution_count": 69,
   "metadata": {},
   "outputs": [
    {
     "data": {
      "text/html": [
       "<div>\n",
       "<style scoped>\n",
       "    .dataframe tbody tr th:only-of-type {\n",
       "        vertical-align: middle;\n",
       "    }\n",
       "\n",
       "    .dataframe tbody tr th {\n",
       "        vertical-align: top;\n",
       "    }\n",
       "\n",
       "    .dataframe thead th {\n",
       "        text-align: right;\n",
       "    }\n",
       "</style>\n",
       "<table border=\"1\" class=\"dataframe\">\n",
       "  <thead>\n",
       "    <tr style=\"text-align: right;\">\n",
       "      <th></th>\n",
       "      <th>0</th>\n",
       "      <th>1</th>\n",
       "      <th>2</th>\n",
       "      <th>3</th>\n",
       "      <th>4</th>\n",
       "    </tr>\n",
       "  </thead>\n",
       "  <tbody>\n",
       "    <tr>\n",
       "      <th>0</th>\n",
       "      <td>0</td>\n",
       "      <td>1</td>\n",
       "      <td>2</td>\n",
       "      <td>3</td>\n",
       "      <td>4</td>\n",
       "    </tr>\n",
       "    <tr>\n",
       "      <th>1</th>\n",
       "      <td>a</td>\n",
       "      <td>b</td>\n",
       "      <td>c</td>\n",
       "      <td>d</td>\n",
       "      <td>e</td>\n",
       "    </tr>\n",
       "  </tbody>\n",
       "</table>\n",
       "</div>"
      ],
      "text/plain": [
       "   0  1  2  3  4\n",
       "0  0  1  2  3  4\n",
       "1  a  b  c  d  e"
      ]
     },
     "execution_count": 69,
     "metadata": {},
     "output_type": "execute_result"
    }
   ],
   "source": [
    "ser1 = pd.Series(range(5))\n",
    "ser2 = pd.Series(list('abcde'))\n",
    "ser = ser1, ser2\n",
    "pd.DataFrame(ser)\n"
   ]
  },
  {
   "cell_type": "markdown",
   "metadata": {
    "id": "YvUVMuEv_if0"
   },
   "source": [
    "## 문제 10\n",
    "\n",
    "일련의 문자열을 datetime으로 변환해 주세요\n",
    "\n",
    "```\n",
    "ser = pd.Series(['01 Jan 2010', '02-02-2011', '20120303', '2013/04/04', '2014-05-05', '2015-06-06T12:20'])\n",
    "```"
   ]
  },
  {
   "cell_type": "code",
   "execution_count": 77,
   "metadata": {},
   "outputs": [
    {
     "data": {
      "text/plain": [
       "Int64Index([2010, 2011, 2012, 2013, 2014, 2015], dtype='int64')"
      ]
     },
     "execution_count": 77,
     "metadata": {},
     "output_type": "execute_result"
    }
   ],
   "source": [
    "ser = pd.to_datetime(['01 Jan 2010', '02-02-2011', '20120303', '2013/04/04', '2014-05-05', '2015-06-06T12:20'])\n",
    "ser.year"
   ]
  },
  {
   "cell_type": "code",
   "execution_count": null,
   "metadata": {
    "colab": {
     "base_uri": "https://localhost:8080/"
    },
    "executionInfo": {
     "elapsed": 283,
     "status": "ok",
     "timestamp": 1639961076788,
     "user": {
      "displayName": "Dasom Oh",
      "photoUrl": "https://lh3.googleusercontent.com/a/default-user=s64",
      "userId": "09774935410501776649"
     },
     "user_tz": -540
    },
    "id": "BB9V4kab_if0",
    "outputId": "6777df57-82ca-49ce-93a1-d35e0e1d0664"
   },
   "outputs": [
    {
     "name": "stdout",
     "output_type": "stream",
     "text": [
      "0   2010-01-01 00:00:00\n",
      "1   2011-02-02 00:00:00\n",
      "2   2012-03-03 00:00:00\n",
      "3   2013-04-04 00:00:00\n",
      "4   2014-05-05 00:00:00\n",
      "5   2015-06-06 12:20:00\n",
      "dtype: datetime64[ns]\n"
     ]
    },
    {
     "data": {
      "text/plain": [
       "0   2010-01-01 00:00:00\n",
       "1   2011-02-02 00:00:00\n",
       "2   2012-03-03 00:00:00\n",
       "3   2013-04-04 00:00:00\n",
       "4   2014-05-05 00:00:00\n",
       "5   2015-06-06 12:20:00\n",
       "dtype: datetime64[ns]"
      ]
     },
     "execution_count": 9,
     "metadata": {},
     "output_type": "execute_result"
    }
   ],
   "source": []
  },
  {
   "cell_type": "markdown",
   "metadata": {
    "id": "f4zDKpe4_iiZ"
   },
   "source": [
    "## 문제 11\n",
    "\n",
    "각 과일의 무게 평균 계산해 주세요 \n",
    "\n",
    "```\n",
    "fruit = pd.Series(np.random.choice(['apple', 'banana', 'carrot'], 10))\n",
    "weights = pd.Series(np.linspace(1, 10, 10))\n",
    "print(weight.tolist())\n",
    "print(fruit.tolist())\n",
    "```"
   ]
  },
  {
   "cell_type": "code",
   "execution_count": 90,
   "metadata": {},
   "outputs": [],
   "source": [
    "fruit = pd.Series(np.random.choice(['apple', 'banana', 'carrot'], 10))\n",
    "weights = pd.Series(np.linspace(1, 10, 10))\n"
   ]
  },
  {
   "cell_type": "code",
   "execution_count": null,
   "metadata": {
    "colab": {
     "base_uri": "https://localhost:8080/"
    },
    "executionInfo": {
     "elapsed": 4,
     "status": "ok",
     "timestamp": 1639890077646,
     "user": {
      "displayName": "홍경수",
      "photoUrl": "https://lh3.googleusercontent.com/a/default-user=s64",
      "userId": "10514684854108920109"
     },
     "user_tz": -540
    },
    "id": "99zSEV_t_iiZ",
    "outputId": "40c63a69-1ec9-4e3b-f724-36e8d4dbaf31"
   },
   "outputs": [
    {
     "data": {
      "text/plain": [
       "apple     4.000000\n",
       "banana    7.333333\n",
       "carrot    5.666667\n",
       "dtype: float64"
      ]
     },
     "execution_count": 20,
     "metadata": {},
     "output_type": "execute_result"
    }
   ],
   "source": []
  },
  {
   "cell_type": "markdown",
   "metadata": {
    "id": "FZHTWI5Y_ikr"
   },
   "source": [
    "## 문제 12\n",
    "\n",
    "ser에 누락된 날짜와 값이 있습니다. 누락된 날짜를 모두 표시하고 이전 날짜의 값으로 채우십시오.\n",
    "\n",
    "```\n",
    "ser = pd.Series([1,10,3,np.nan], index=pd.to_datetime(['2000-01-01', '2000-01-03', '2000-01-06', '2000-01-08']))\n",
    "print(ser)\n",
    "#> 2000-01-01     1.0\n",
    "#> 2000-01-03    10.0\n",
    "#> 2000-01-06     3.0\n",
    "#> 2000-01-08     NaN\n",
    "#> dtype: float64\n",
    "```"
   ]
  },
  {
   "cell_type": "code",
   "execution_count": 96,
   "metadata": {},
   "outputs": [
    {
     "data": {
      "text/plain": [
       "2000-01-01     1.0\n",
       "2000-01-03    10.0\n",
       "2000-01-06     3.0\n",
       "dtype: float64"
      ]
     },
     "execution_count": 96,
     "metadata": {},
     "output_type": "execute_result"
    }
   ],
   "source": [
    "ser = pd.Series([1,10,3,np.nan], index=pd.to_datetime(['2000-01-01', '2000-01-03', '2000-01-06', '2000-01-08']))\n",
    "ser.dropna()"
   ]
  },
  {
   "cell_type": "code",
   "execution_count": null,
   "metadata": {
    "colab": {
     "base_uri": "https://localhost:8080/"
    },
    "executionInfo": {
     "elapsed": 269,
     "status": "ok",
     "timestamp": 1639890888225,
     "user": {
      "displayName": "홍경수",
      "photoUrl": "https://lh3.googleusercontent.com/a/default-user=s64",
      "userId": "10514684854108920109"
     },
     "user_tz": -540
    },
    "id": "l7Guijzw_ikr",
    "outputId": "208428d3-58af-4ef7-b255-0269b6896173"
   },
   "outputs": [
    {
     "data": {
      "text/plain": [
       "2000-01-01     1.0\n",
       "2000-01-02    10.0\n",
       "2000-01-03    10.0\n",
       "2000-01-04     3.0\n",
       "2000-01-05     3.0\n",
       "2000-01-06     3.0\n",
       "2000-01-07     3.0\n",
       "2000-01-08     3.0\n",
       "Freq: D, dtype: float64"
      ]
     },
     "execution_count": 21,
     "metadata": {},
     "output_type": "execute_result"
    }
   ],
   "source": []
  },
  {
   "cell_type": "markdown",
   "metadata": {
    "id": "_Q22EOfl_imz"
   },
   "source": [
    "## 문제 13\n",
    "\n",
    "가격이 가장 높은 제조업체, 모델 및 유형은 무엇입니까?\n",
    "\n",
    "Price 값이 가장 높은 셀의 행과 열 번호는 무엇입니까?\n",
    "\n",
    "찾아낸 행과 열번호에 대응하는 값을 반환해주세요\n",
    "\n",
    "https://raw.githubusercontent.com/selva86/datasets/master/Cars93_miss.csv\n"
   ]
  },
  {
   "cell_type": "code",
   "execution_count": null,
   "metadata": {
    "colab": {
     "base_uri": "https://localhost:8080/"
    },
    "executionInfo": {
     "elapsed": 287,
     "status": "ok",
     "timestamp": 1639961935703,
     "user": {
      "displayName": "Dasom Oh",
      "photoUrl": "https://lh3.googleusercontent.com/a/default-user=s64",
      "userId": "09774935410501776649"
     },
     "user_tz": -540
    },
    "id": "dGBkTkAP_imz",
    "outputId": "44ade91e-29f1-4fa4-c636-63024a85fec4"
   },
   "outputs": [
    {
     "name": "stdout",
     "output_type": "stream",
     "text": [
      "[58]\n",
      "[4]\n",
      "61.9\n"
     ]
    },
    {
     "data": {
      "text/plain": [
       "61.9"
      ]
     },
     "execution_count": 16,
     "metadata": {},
     "output_type": "execute_result"
    }
   ],
   "source": []
  },
  {
   "cell_type": "markdown",
   "metadata": {
    "id": "H-GjEMVN_ipE"
   },
   "source": [
    "## 문제 14\n",
    "\n",
    "Type 열의 이름을 df에서 CarType으로 바꾸고 열 이름의 '.'를 '_'로 바꾸세요\n",
    "\n",
    "https://raw.githubusercontent.com/selva86/datasets/master/Cars93_miss.csv"
   ]
  },
  {
   "cell_type": "code",
   "execution_count": null,
   "metadata": {
    "colab": {
     "base_uri": "https://localhost:8080/"
    },
    "executionInfo": {
     "elapsed": 286,
     "status": "ok",
     "timestamp": 1639962417932,
     "user": {
      "displayName": "Dasom Oh",
      "photoUrl": "https://lh3.googleusercontent.com/a/default-user=s64",
      "userId": "09774935410501776649"
     },
     "user_tz": -540
    },
    "id": "j9lo7L5R_ipF",
    "outputId": "429d09f9-afc8-4639-b830-06c9577152c2"
   },
   "outputs": [
    {
     "name": "stdout",
     "output_type": "stream",
     "text": [
      "Index(['Manufacturer', 'Model', 'CarType', 'Min_Price', 'Price', 'Max_Price',\n",
      "       'MPG_city', 'MPG_highway', 'AirBags', 'DriveTrain', 'Cylinders',\n",
      "       'EngineSize', 'Horsepower', 'RPM', 'Rev_per_mile', 'Man_trans_avail',\n",
      "       'Fuel_tank_capacity', 'Passengers', 'Length', 'Wheelbase', 'Width',\n",
      "       'Turn_circle', 'Rear_seat_room', 'Luggage_room', 'Weight', 'Origin',\n",
      "       'Make'],\n",
      "      dtype='object')\n"
     ]
    }
   ],
   "source": []
  },
  {
   "cell_type": "markdown",
   "metadata": {
    "id": "fDl6BnTe_irO"
   },
   "source": [
    "## 문제 15\n",
    "\n",
    "df에 누락된 값이 있는지 확인하세요.\n",
    "\n",
    "입력: https://raw.githubusercontent.com/selva86/datasets/master/Cars93_miss.csv"
   ]
  },
  {
   "cell_type": "code",
   "execution_count": null,
   "metadata": {
    "id": "HZPGf4sz_irP"
   },
   "outputs": [],
   "source": []
  },
  {
   "cell_type": "markdown",
   "metadata": {
    "id": "gljgKa2a_itS"
   },
   "source": [
    "## 문제 16\n",
    "\n",
    "Min.Price 및 Max.Price 열의 누락된 값을 각각의 평균으로 교체하세요\n",
    "\n",
    "입력: df = pd.read_csv('https://raw.githubusercontent.com/selva86/datasets/master/Cars93_miss.csv')"
   ]
  },
  {
   "cell_type": "code",
   "execution_count": null,
   "metadata": {
    "colab": {
     "base_uri": "https://localhost:8080/"
    },
    "executionInfo": {
     "elapsed": 276,
     "status": "ok",
     "timestamp": 1639962593641,
     "user": {
      "displayName": "Dasom Oh",
      "photoUrl": "https://lh3.googleusercontent.com/a/default-user=s64",
      "userId": "09774935410501776649"
     },
     "user_tz": -540
    },
    "id": "CDT2W8uC_itS",
    "outputId": "dd7cdb62-fe60-4bee-9ffa-cda8661553b0"
   },
   "outputs": [
    {
     "name": "stdout",
     "output_type": "stream",
     "text": [
      "   Min.Price  Max.Price\n",
      "0  12.900000  18.800000\n",
      "1  29.200000  38.700000\n",
      "2  25.900000  32.300000\n",
      "3  17.118605  44.600000\n",
      "4  17.118605  21.459091\n"
     ]
    }
   ],
   "source": []
  }
 ],
 "metadata": {
  "colab": {
   "collapsed_sections": [],
   "name": "pandas 연습문제.ipynb",
   "provenance": []
  },
  "kernelspec": {
   "display_name": "Python 3 (ipykernel)",
   "language": "python",
   "name": "python3"
  },
  "language_info": {
   "codemirror_mode": {
    "name": "ipython",
    "version": 3
   },
   "file_extension": ".py",
   "mimetype": "text/x-python",
   "name": "python",
   "nbconvert_exporter": "python",
   "pygments_lexer": "ipython3",
   "version": "3.9.7"
  }
 },
 "nbformat": 4,
 "nbformat_minor": 1
}
