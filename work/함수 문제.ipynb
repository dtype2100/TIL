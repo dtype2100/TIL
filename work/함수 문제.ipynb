{
 "cells": [
  {
   "cell_type": "markdown",
   "metadata": {
    "id": "t6gs1i2N2c5w"
   },
   "source": [
    "## 문제 1\n",
    "\n",
    "숫자 2개를 입력 받아 사칙연산을 할 수 있는 함수 4개 (add, subtract, multiply, divide)를 만드세요 \n",
    "```\n",
    ">> print(add(3, 6))\n",
    "9\n",
    ">> print(subtract(11, 27)\n",
    "-16\n",
    ">> print(multiply(4, 5))\n",
    "20\n",
    ">> print(divide(7, 3)\n",
    "-22\n",
    "\n",
    "```"
   ]
  },
  {
   "cell_type": "code",
   "execution_count": 1,
   "metadata": {
    "id": "vjVVhdcMFunj"
   },
   "outputs": [],
   "source": [
    "def add(a, b):\n",
    "    return a + b\n",
    "\n",
    "def subtract(a, b):\n",
    "    return a - b\n",
    "\n",
    "def multiply(a, b):\n",
    "    return a * b\n",
    "\n",
    "def duvude(a, b):\n",
    "    return a / b"
   ]
  },
  {
   "cell_type": "markdown",
   "metadata": {
    "id": "fx838An5XB5Z"
   },
   "source": [
    "**굵은 텍스트**## 문제 2\n",
    "\n",
    "두 수와 사칙연산 기호를 인자로 받는 calc라는 함수를 만들어서 함수 내에서 사칙 연산 규칙에 따라 위에서 만든 함수를 호출하여 결과값을 출력하세요\n",
    "```\n",
    ">> print(calc(3, 6, '+'))\n",
    "9\n",
    ">> print(calc(11, 27, '-')\n",
    "-22\n",
    ">> print(calc(4, 5, '*'))\n",
    "20\n",
    ">> print(calc(7, 3, '/')\n",
    "-22\n",
    "\n",
    "```\n",
    "\n"
   ]
  },
  {
   "cell_type": "code",
   "execution_count": 3,
   "metadata": {
    "colab": {
     "base_uri": "https://localhost:8080/"
    },
    "executionInfo": {
     "elapsed": 448,
     "status": "ok",
     "timestamp": 1639115350177,
     "user": {
      "displayName": "홍경수",
      "photoUrl": "https://lh3.googleusercontent.com/a/default-user=s64",
      "userId": "10514684854108920109"
     },
     "user_tz": -540
    },
    "id": "e-11XW4JW8kR",
    "outputId": "73e98fa7-476d-498d-c1bc-3c7257ae2640"
   },
   "outputs": [],
   "source": [
    "def calc(a, b, operator): \n",
    "    if operator == \"+\":\n",
    "        return add(a, b)\n",
    "    elif operator == \"-\":\n",
    "        return subtract(a, b)\n",
    "    elif operator == \"*\":\n",
    "        return multiply(a, b)\n",
    "    elif operator == \"?\":\n",
    "        return duvude(a, b)"
   ]
  },
  {
   "cell_type": "markdown",
   "metadata": {
    "id": "APbCCVkwcf47"
   },
   "source": [
    "## 문제 3\n",
    "\n",
    "first = [11.25, 18.0, 20.0] <br>\n",
    "second = [10.75, 9.50] <br>\n",
    "first 와 second 리스트를 합쳐서 full 이라는 리스트를 만드세요\n",
    "sorted()  라는 함수를 구글링해서 사용방법을 익힌 후 full 리스트를 내림 차순으로 정렬해 주세요\n",
    "```\n",
    "실행 예:\n",
    ">> print(full)\n",
    "[20.0, 18.0, 11.25, 10.75, 9.5]\n",
    "\n",
    "```"
   ]
  },
  {
   "cell_type": "code",
   "execution_count": null,
   "metadata": {
    "id": "TR8h--hJcfqy"
   },
   "outputs": [],
   "source": []
  },
  {
   "cell_type": "markdown",
   "metadata": {
    "id": "mniQnwUGc4Do"
   },
   "source": [
    "## 문제 4\n",
    "\n",
    "파일 이름 (file name) 을 인자로 받아 파일을 읽어 그 내용을 문자열로 반환하는 함수를 만드세요 - (파일은 과제 폴더에 nouns.txt 를 사용하세요)\n",
    "```\n",
    "       def read_file(filename):\n",
    "```\n",
    "문자열을 입력받아 그 문자열에 해당하는 단어들의 단어 사전을 반환하는 함수를 만드세요 - 단어 사전은 단어 - 단어 빈도수 로 이루어진 딕셔너리입니다\n",
    "```\n",
    "def word_count(text):\n",
    "예시\n",
    "counts = {'가위': 1,  '할머니': 51,  '집': 5, … }\n",
    "```\n",
    "단어 사전 딕셔너리를 입력으로 받아 인자로 주어진 min_count 이상의 빈도를 가진 단어만 출력하는 함수를 만드세요\n",
    "```\n",
    "def print_count(counts, min_count=2):\n",
    "\n",
    "```"
   ]
  },
  {
   "cell_type": "code",
   "execution_count": 1,
   "metadata": {
    "colab": {
     "base_uri": "https://localhost:8080/"
    },
    "executionInfo": {
     "elapsed": 287,
     "status": "ok",
     "timestamp": 1639644507866,
     "user": {
      "displayName": "배근우",
      "photoUrl": "https://lh3.googleusercontent.com/a/default-user=s64",
      "userId": "02149756809168262451"
     },
     "user_tz": -540
    },
    "id": "lqroZC3SceIW",
    "outputId": "d10d4b51-552a-4ff0-9af7-c276a190a35b"
   },
   "outputs": [
    {
     "name": "stdout",
     "output_type": "stream",
     "text": [
      "cat: nouns.txt: No such file or directory\n"
     ]
    }
   ],
   "source": [
    "!cat nouns.txt"
   ]
  },
  {
   "cell_type": "code",
   "execution_count": null,
   "metadata": {
    "id": "TJK4rXkhbaoj"
   },
   "outputs": [],
   "source": []
  }
 ],
 "metadata": {
  "colab": {
   "collapsed_sections": [],
   "name": "함수 문제.ipynb",
   "provenance": []
  },
  "kernelspec": {
   "display_name": "Python 3 (ipykernel)",
   "language": "python",
   "name": "python3"
  },
  "language_info": {
   "codemirror_mode": {
    "name": "ipython",
    "version": 3
   },
   "file_extension": ".py",
   "mimetype": "text/x-python",
   "name": "python",
   "nbconvert_exporter": "python",
   "pygments_lexer": "ipython3",
   "version": "3.9.7"
  }
 },
 "nbformat": 4,
 "nbformat_minor": 1
}
