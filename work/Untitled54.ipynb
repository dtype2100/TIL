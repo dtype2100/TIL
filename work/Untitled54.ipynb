{
 "cells": [
  {
   "cell_type": "code",
   "execution_count": 1,
   "id": "d47d543c",
   "metadata": {},
   "outputs": [],
   "source": [
    "import sklearn"
   ]
  },
  {
   "cell_type": "code",
   "execution_count": 2,
   "id": "926a2bad",
   "metadata": {},
   "outputs": [
    {
     "data": {
      "text/plain": [
       "'0.24.2'"
      ]
     },
     "execution_count": 2,
     "metadata": {},
     "output_type": "execute_result"
    }
   ],
   "source": [
    "sklearn.__version__"
   ]
  },
  {
   "cell_type": "code",
   "execution_count": 3,
   "id": "18ec582c",
   "metadata": {},
   "outputs": [],
   "source": [
    "from sklearn.datasets import load_iris\n",
    "from sklearn.tree import DecisionTreeClassifier\n",
    "from sklearn.model_selection import train_test_split"
   ]
  },
  {
   "cell_type": "code",
   "execution_count": 4,
   "id": "e3e2a426",
   "metadata": {},
   "outputs": [
    {
     "data": {
      "text/plain": [
       "{'data': array([[5.1, 3.5, 1.4, 0.2],\n",
       "        [4.9, 3. , 1.4, 0.2],\n",
       "        [4.7, 3.2, 1.3, 0.2],\n",
       "        [4.6, 3.1, 1.5, 0.2],\n",
       "        [5. , 3.6, 1.4, 0.2],\n",
       "        [5.4, 3.9, 1.7, 0.4],\n",
       "        [4.6, 3.4, 1.4, 0.3],\n",
       "        [5. , 3.4, 1.5, 0.2],\n",
       "        [4.4, 2.9, 1.4, 0.2],\n",
       "        [4.9, 3.1, 1.5, 0.1],\n",
       "        [5.4, 3.7, 1.5, 0.2],\n",
       "        [4.8, 3.4, 1.6, 0.2],\n",
       "        [4.8, 3. , 1.4, 0.1],\n",
       "        [4.3, 3. , 1.1, 0.1],\n",
       "        [5.8, 4. , 1.2, 0.2],\n",
       "        [5.7, 4.4, 1.5, 0.4],\n",
       "        [5.4, 3.9, 1.3, 0.4],\n",
       "        [5.1, 3.5, 1.4, 0.3],\n",
       "        [5.7, 3.8, 1.7, 0.3],\n",
       "        [5.1, 3.8, 1.5, 0.3],\n",
       "        [5.4, 3.4, 1.7, 0.2],\n",
       "        [5.1, 3.7, 1.5, 0.4],\n",
       "        [4.6, 3.6, 1. , 0.2],\n",
       "        [5.1, 3.3, 1.7, 0.5],\n",
       "        [4.8, 3.4, 1.9, 0.2],\n",
       "        [5. , 3. , 1.6, 0.2],\n",
       "        [5. , 3.4, 1.6, 0.4],\n",
       "        [5.2, 3.5, 1.5, 0.2],\n",
       "        [5.2, 3.4, 1.4, 0.2],\n",
       "        [4.7, 3.2, 1.6, 0.2],\n",
       "        [4.8, 3.1, 1.6, 0.2],\n",
       "        [5.4, 3.4, 1.5, 0.4],\n",
       "        [5.2, 4.1, 1.5, 0.1],\n",
       "        [5.5, 4.2, 1.4, 0.2],\n",
       "        [4.9, 3.1, 1.5, 0.2],\n",
       "        [5. , 3.2, 1.2, 0.2],\n",
       "        [5.5, 3.5, 1.3, 0.2],\n",
       "        [4.9, 3.6, 1.4, 0.1],\n",
       "        [4.4, 3. , 1.3, 0.2],\n",
       "        [5.1, 3.4, 1.5, 0.2],\n",
       "        [5. , 3.5, 1.3, 0.3],\n",
       "        [4.5, 2.3, 1.3, 0.3],\n",
       "        [4.4, 3.2, 1.3, 0.2],\n",
       "        [5. , 3.5, 1.6, 0.6],\n",
       "        [5.1, 3.8, 1.9, 0.4],\n",
       "        [4.8, 3. , 1.4, 0.3],\n",
       "        [5.1, 3.8, 1.6, 0.2],\n",
       "        [4.6, 3.2, 1.4, 0.2],\n",
       "        [5.3, 3.7, 1.5, 0.2],\n",
       "        [5. , 3.3, 1.4, 0.2],\n",
       "        [7. , 3.2, 4.7, 1.4],\n",
       "        [6.4, 3.2, 4.5, 1.5],\n",
       "        [6.9, 3.1, 4.9, 1.5],\n",
       "        [5.5, 2.3, 4. , 1.3],\n",
       "        [6.5, 2.8, 4.6, 1.5],\n",
       "        [5.7, 2.8, 4.5, 1.3],\n",
       "        [6.3, 3.3, 4.7, 1.6],\n",
       "        [4.9, 2.4, 3.3, 1. ],\n",
       "        [6.6, 2.9, 4.6, 1.3],\n",
       "        [5.2, 2.7, 3.9, 1.4],\n",
       "        [5. , 2. , 3.5, 1. ],\n",
       "        [5.9, 3. , 4.2, 1.5],\n",
       "        [6. , 2.2, 4. , 1. ],\n",
       "        [6.1, 2.9, 4.7, 1.4],\n",
       "        [5.6, 2.9, 3.6, 1.3],\n",
       "        [6.7, 3.1, 4.4, 1.4],\n",
       "        [5.6, 3. , 4.5, 1.5],\n",
       "        [5.8, 2.7, 4.1, 1. ],\n",
       "        [6.2, 2.2, 4.5, 1.5],\n",
       "        [5.6, 2.5, 3.9, 1.1],\n",
       "        [5.9, 3.2, 4.8, 1.8],\n",
       "        [6.1, 2.8, 4. , 1.3],\n",
       "        [6.3, 2.5, 4.9, 1.5],\n",
       "        [6.1, 2.8, 4.7, 1.2],\n",
       "        [6.4, 2.9, 4.3, 1.3],\n",
       "        [6.6, 3. , 4.4, 1.4],\n",
       "        [6.8, 2.8, 4.8, 1.4],\n",
       "        [6.7, 3. , 5. , 1.7],\n",
       "        [6. , 2.9, 4.5, 1.5],\n",
       "        [5.7, 2.6, 3.5, 1. ],\n",
       "        [5.5, 2.4, 3.8, 1.1],\n",
       "        [5.5, 2.4, 3.7, 1. ],\n",
       "        [5.8, 2.7, 3.9, 1.2],\n",
       "        [6. , 2.7, 5.1, 1.6],\n",
       "        [5.4, 3. , 4.5, 1.5],\n",
       "        [6. , 3.4, 4.5, 1.6],\n",
       "        [6.7, 3.1, 4.7, 1.5],\n",
       "        [6.3, 2.3, 4.4, 1.3],\n",
       "        [5.6, 3. , 4.1, 1.3],\n",
       "        [5.5, 2.5, 4. , 1.3],\n",
       "        [5.5, 2.6, 4.4, 1.2],\n",
       "        [6.1, 3. , 4.6, 1.4],\n",
       "        [5.8, 2.6, 4. , 1.2],\n",
       "        [5. , 2.3, 3.3, 1. ],\n",
       "        [5.6, 2.7, 4.2, 1.3],\n",
       "        [5.7, 3. , 4.2, 1.2],\n",
       "        [5.7, 2.9, 4.2, 1.3],\n",
       "        [6.2, 2.9, 4.3, 1.3],\n",
       "        [5.1, 2.5, 3. , 1.1],\n",
       "        [5.7, 2.8, 4.1, 1.3],\n",
       "        [6.3, 3.3, 6. , 2.5],\n",
       "        [5.8, 2.7, 5.1, 1.9],\n",
       "        [7.1, 3. , 5.9, 2.1],\n",
       "        [6.3, 2.9, 5.6, 1.8],\n",
       "        [6.5, 3. , 5.8, 2.2],\n",
       "        [7.6, 3. , 6.6, 2.1],\n",
       "        [4.9, 2.5, 4.5, 1.7],\n",
       "        [7.3, 2.9, 6.3, 1.8],\n",
       "        [6.7, 2.5, 5.8, 1.8],\n",
       "        [7.2, 3.6, 6.1, 2.5],\n",
       "        [6.5, 3.2, 5.1, 2. ],\n",
       "        [6.4, 2.7, 5.3, 1.9],\n",
       "        [6.8, 3. , 5.5, 2.1],\n",
       "        [5.7, 2.5, 5. , 2. ],\n",
       "        [5.8, 2.8, 5.1, 2.4],\n",
       "        [6.4, 3.2, 5.3, 2.3],\n",
       "        [6.5, 3. , 5.5, 1.8],\n",
       "        [7.7, 3.8, 6.7, 2.2],\n",
       "        [7.7, 2.6, 6.9, 2.3],\n",
       "        [6. , 2.2, 5. , 1.5],\n",
       "        [6.9, 3.2, 5.7, 2.3],\n",
       "        [5.6, 2.8, 4.9, 2. ],\n",
       "        [7.7, 2.8, 6.7, 2. ],\n",
       "        [6.3, 2.7, 4.9, 1.8],\n",
       "        [6.7, 3.3, 5.7, 2.1],\n",
       "        [7.2, 3.2, 6. , 1.8],\n",
       "        [6.2, 2.8, 4.8, 1.8],\n",
       "        [6.1, 3. , 4.9, 1.8],\n",
       "        [6.4, 2.8, 5.6, 2.1],\n",
       "        [7.2, 3. , 5.8, 1.6],\n",
       "        [7.4, 2.8, 6.1, 1.9],\n",
       "        [7.9, 3.8, 6.4, 2. ],\n",
       "        [6.4, 2.8, 5.6, 2.2],\n",
       "        [6.3, 2.8, 5.1, 1.5],\n",
       "        [6.1, 2.6, 5.6, 1.4],\n",
       "        [7.7, 3. , 6.1, 2.3],\n",
       "        [6.3, 3.4, 5.6, 2.4],\n",
       "        [6.4, 3.1, 5.5, 1.8],\n",
       "        [6. , 3. , 4.8, 1.8],\n",
       "        [6.9, 3.1, 5.4, 2.1],\n",
       "        [6.7, 3.1, 5.6, 2.4],\n",
       "        [6.9, 3.1, 5.1, 2.3],\n",
       "        [5.8, 2.7, 5.1, 1.9],\n",
       "        [6.8, 3.2, 5.9, 2.3],\n",
       "        [6.7, 3.3, 5.7, 2.5],\n",
       "        [6.7, 3. , 5.2, 2.3],\n",
       "        [6.3, 2.5, 5. , 1.9],\n",
       "        [6.5, 3. , 5.2, 2. ],\n",
       "        [6.2, 3.4, 5.4, 2.3],\n",
       "        [5.9, 3. , 5.1, 1.8]]),\n",
       " 'target': array([0, 0, 0, 0, 0, 0, 0, 0, 0, 0, 0, 0, 0, 0, 0, 0, 0, 0, 0, 0, 0, 0,\n",
       "        0, 0, 0, 0, 0, 0, 0, 0, 0, 0, 0, 0, 0, 0, 0, 0, 0, 0, 0, 0, 0, 0,\n",
       "        0, 0, 0, 0, 0, 0, 1, 1, 1, 1, 1, 1, 1, 1, 1, 1, 1, 1, 1, 1, 1, 1,\n",
       "        1, 1, 1, 1, 1, 1, 1, 1, 1, 1, 1, 1, 1, 1, 1, 1, 1, 1, 1, 1, 1, 1,\n",
       "        1, 1, 1, 1, 1, 1, 1, 1, 1, 1, 1, 1, 2, 2, 2, 2, 2, 2, 2, 2, 2, 2,\n",
       "        2, 2, 2, 2, 2, 2, 2, 2, 2, 2, 2, 2, 2, 2, 2, 2, 2, 2, 2, 2, 2, 2,\n",
       "        2, 2, 2, 2, 2, 2, 2, 2, 2, 2, 2, 2, 2, 2, 2, 2, 2, 2]),\n",
       " 'frame': None,\n",
       " 'target_names': array(['setosa', 'versicolor', 'virginica'], dtype='<U10'),\n",
       " 'DESCR': '.. _iris_dataset:\\n\\nIris plants dataset\\n--------------------\\n\\n**Data Set Characteristics:**\\n\\n    :Number of Instances: 150 (50 in each of three classes)\\n    :Number of Attributes: 4 numeric, predictive attributes and the class\\n    :Attribute Information:\\n        - sepal length in cm\\n        - sepal width in cm\\n        - petal length in cm\\n        - petal width in cm\\n        - class:\\n                - Iris-Setosa\\n                - Iris-Versicolour\\n                - Iris-Virginica\\n                \\n    :Summary Statistics:\\n\\n    ============== ==== ==== ======= ===== ====================\\n                    Min  Max   Mean    SD   Class Correlation\\n    ============== ==== ==== ======= ===== ====================\\n    sepal length:   4.3  7.9   5.84   0.83    0.7826\\n    sepal width:    2.0  4.4   3.05   0.43   -0.4194\\n    petal length:   1.0  6.9   3.76   1.76    0.9490  (high!)\\n    petal width:    0.1  2.5   1.20   0.76    0.9565  (high!)\\n    ============== ==== ==== ======= ===== ====================\\n\\n    :Missing Attribute Values: None\\n    :Class Distribution: 33.3% for each of 3 classes.\\n    :Creator: R.A. Fisher\\n    :Donor: Michael Marshall (MARSHALL%PLU@io.arc.nasa.gov)\\n    :Date: July, 1988\\n\\nThe famous Iris database, first used by Sir R.A. Fisher. The dataset is taken\\nfrom Fisher\\'s paper. Note that it\\'s the same as in R, but not as in the UCI\\nMachine Learning Repository, which has two wrong data points.\\n\\nThis is perhaps the best known database to be found in the\\npattern recognition literature.  Fisher\\'s paper is a classic in the field and\\nis referenced frequently to this day.  (See Duda & Hart, for example.)  The\\ndata set contains 3 classes of 50 instances each, where each class refers to a\\ntype of iris plant.  One class is linearly separable from the other 2; the\\nlatter are NOT linearly separable from each other.\\n\\n.. topic:: References\\n\\n   - Fisher, R.A. \"The use of multiple measurements in taxonomic problems\"\\n     Annual Eugenics, 7, Part II, 179-188 (1936); also in \"Contributions to\\n     Mathematical Statistics\" (John Wiley, NY, 1950).\\n   - Duda, R.O., & Hart, P.E. (1973) Pattern Classification and Scene Analysis.\\n     (Q327.D83) John Wiley & Sons.  ISBN 0-471-22361-1.  See page 218.\\n   - Dasarathy, B.V. (1980) \"Nosing Around the Neighborhood: A New System\\n     Structure and Classification Rule for Recognition in Partially Exposed\\n     Environments\".  IEEE Transactions on Pattern Analysis and Machine\\n     Intelligence, Vol. PAMI-2, No. 1, 67-71.\\n   - Gates, G.W. (1972) \"The Reduced Nearest Neighbor Rule\".  IEEE Transactions\\n     on Information Theory, May 1972, 431-433.\\n   - See also: 1988 MLC Proceedings, 54-64.  Cheeseman et al\"s AUTOCLASS II\\n     conceptual clustering system finds 3 classes in the data.\\n   - Many, many more ...',\n",
       " 'feature_names': ['sepal length (cm)',\n",
       "  'sepal width (cm)',\n",
       "  'petal length (cm)',\n",
       "  'petal width (cm)'],\n",
       " 'filename': 'C:\\\\Users\\\\user\\\\anaconda3\\\\lib\\\\site-packages\\\\sklearn\\\\datasets\\\\data\\\\iris.csv'}"
      ]
     },
     "execution_count": 4,
     "metadata": {},
     "output_type": "execute_result"
    }
   ],
   "source": [
    "import pandas as pd\n",
    "\n",
    "iris = load_iris()\n",
    "iris"
   ]
  },
  {
   "cell_type": "code",
   "execution_count": 5,
   "id": "536f1c15",
   "metadata": {},
   "outputs": [
    {
     "data": {
      "text/plain": [
       "sklearn.utils.Bunch"
      ]
     },
     "execution_count": 5,
     "metadata": {},
     "output_type": "execute_result"
    }
   ],
   "source": [
    "type(iris)"
   ]
  },
  {
   "cell_type": "code",
   "execution_count": 6,
   "id": "a4253773",
   "metadata": {},
   "outputs": [
    {
     "data": {
      "text/html": [
       "<div>\n",
       "<style scoped>\n",
       "    .dataframe tbody tr th:only-of-type {\n",
       "        vertical-align: middle;\n",
       "    }\n",
       "\n",
       "    .dataframe tbody tr th {\n",
       "        vertical-align: top;\n",
       "    }\n",
       "\n",
       "    .dataframe thead th {\n",
       "        text-align: right;\n",
       "    }\n",
       "</style>\n",
       "<table border=\"1\" class=\"dataframe\">\n",
       "  <thead>\n",
       "    <tr style=\"text-align: right;\">\n",
       "      <th></th>\n",
       "      <th>sepal length (cm)</th>\n",
       "      <th>sepal width (cm)</th>\n",
       "      <th>petal length (cm)</th>\n",
       "      <th>petal width (cm)</th>\n",
       "      <th>label</th>\n",
       "    </tr>\n",
       "  </thead>\n",
       "  <tbody>\n",
       "    <tr>\n",
       "      <th>0</th>\n",
       "      <td>5.1</td>\n",
       "      <td>3.5</td>\n",
       "      <td>1.4</td>\n",
       "      <td>0.2</td>\n",
       "      <td>0</td>\n",
       "    </tr>\n",
       "    <tr>\n",
       "      <th>1</th>\n",
       "      <td>4.9</td>\n",
       "      <td>3.0</td>\n",
       "      <td>1.4</td>\n",
       "      <td>0.2</td>\n",
       "      <td>0</td>\n",
       "    </tr>\n",
       "    <tr>\n",
       "      <th>2</th>\n",
       "      <td>4.7</td>\n",
       "      <td>3.2</td>\n",
       "      <td>1.3</td>\n",
       "      <td>0.2</td>\n",
       "      <td>0</td>\n",
       "    </tr>\n",
       "  </tbody>\n",
       "</table>\n",
       "</div>"
      ],
      "text/plain": [
       "   sepal length (cm)  sepal width (cm)  petal length (cm)  petal width (cm)  \\\n",
       "0                5.1               3.5                1.4               0.2   \n",
       "1                4.9               3.0                1.4               0.2   \n",
       "2                4.7               3.2                1.3               0.2   \n",
       "\n",
       "   label  \n",
       "0      0  \n",
       "1      0  \n",
       "2      0  "
      ]
     },
     "execution_count": 6,
     "metadata": {},
     "output_type": "execute_result"
    }
   ],
   "source": [
    "iris_data = iris.data\n",
    "iris_label = iris.target\n",
    "\n",
    "iris_df = pd.DataFrame(data=iris_data, columns=iris.feature_names)\n",
    "iris_df['label'] = iris_label\n",
    "iris_df.head(3)"
   ]
  },
  {
   "cell_type": "code",
   "execution_count": 7,
   "id": "780736e9",
   "metadata": {},
   "outputs": [
    {
     "data": {
      "text/plain": [
       "(150, 5)"
      ]
     },
     "execution_count": 7,
     "metadata": {},
     "output_type": "execute_result"
    }
   ],
   "source": [
    "iris_df.shape"
   ]
  },
  {
   "cell_type": "code",
   "execution_count": 8,
   "id": "990a9f2b",
   "metadata": {},
   "outputs": [
    {
     "data": {
      "text/plain": [
       "dict_keys(['data', 'target', 'frame', 'target_names', 'DESCR', 'feature_names', 'filename'])"
      ]
     },
     "execution_count": 8,
     "metadata": {},
     "output_type": "execute_result"
    }
   ],
   "source": [
    "iris.keys()"
   ]
  },
  {
   "cell_type": "code",
   "execution_count": 9,
   "id": "4fab7ce1",
   "metadata": {},
   "outputs": [],
   "source": [
    "X_train, X_test, y_train, y_test = train_test_split(iris_data, iris_label, test_size=0.2, random_state=11)"
   ]
  },
  {
   "cell_type": "code",
   "execution_count": 10,
   "id": "1439871d",
   "metadata": {},
   "outputs": [
    {
     "name": "stdout",
     "output_type": "stream",
     "text": [
      "(120, 4)\n",
      "(30, 4)\n",
      "(120,)\n",
      "(30,)\n"
     ]
    }
   ],
   "source": [
    "print(X_train.shape)\n",
    "print(X_test.shape)\n",
    "print(y_train.shape)\n",
    "print(y_test.shape)"
   ]
  },
  {
   "cell_type": "code",
   "execution_count": 11,
   "id": "c078929b",
   "metadata": {},
   "outputs": [
    {
     "data": {
      "text/plain": [
       "array([2, 2, 2, 1, 2, 0, 1, 0, 0, 1, 2, 1, 1, 2, 2, 0, 2, 1, 2, 2, 1, 0,\n",
       "       0, 1, 0, 0, 2, 1, 0, 1])"
      ]
     },
     "execution_count": 11,
     "metadata": {},
     "output_type": "execute_result"
    }
   ],
   "source": [
    "y_test"
   ]
  },
  {
   "cell_type": "code",
   "execution_count": 12,
   "id": "4473b1ea",
   "metadata": {},
   "outputs": [
    {
     "data": {
      "text/plain": [
       "array([0, 2, 2, 0, 0, 2, 2, 1, 0, 1, 1, 2, 0, 1, 2, 1, 1, 0, 2, 0, 2, 2,\n",
       "       1, 2, 1, 0, 0, 1, 0, 0, 2, 2, 2, 0, 0, 0, 1, 0, 1, 2, 2, 1, 1, 2,\n",
       "       2, 0, 1, 1, 2, 2, 2, 0, 2, 0, 0, 0, 0, 2, 0, 0, 0, 1, 0, 1, 1, 2,\n",
       "       1, 0, 0, 0, 1, 1, 1, 2, 1, 0, 1, 2, 0, 2, 2, 1, 0, 0, 0, 2, 1, 0,\n",
       "       2, 1, 2, 0, 0, 1, 1, 2, 1, 2, 2, 1, 1, 2, 2, 0, 1, 2, 0, 2, 2, 0,\n",
       "       1, 2, 0, 1, 1, 1, 0, 1, 1, 1])"
      ]
     },
     "execution_count": 12,
     "metadata": {},
     "output_type": "execute_result"
    }
   ],
   "source": [
    "y_train"
   ]
  },
  {
   "cell_type": "code",
   "execution_count": 13,
   "id": "923fc0c9",
   "metadata": {},
   "outputs": [
    {
     "data": {
      "text/plain": [
       "DecisionTreeClassifier()"
      ]
     },
     "execution_count": 13,
     "metadata": {},
     "output_type": "execute_result"
    }
   ],
   "source": [
    "dt_clf = DecisionTreeClassifier()\n",
    "\n",
    "dt_clf.fit(X_train, y_train)"
   ]
  },
  {
   "cell_type": "code",
   "execution_count": 14,
   "id": "b22b1a4c",
   "metadata": {},
   "outputs": [],
   "source": [
    "pred = dt_clf.predict(X_test)"
   ]
  },
  {
   "cell_type": "code",
   "execution_count": 15,
   "id": "97da2fc3",
   "metadata": {},
   "outputs": [
    {
     "data": {
      "text/plain": [
       "array([2, 2, 1, 1, 2, 0, 1, 0, 0, 1, 1, 1, 1, 2, 2, 0, 2, 1, 2, 2, 1, 0,\n",
       "       0, 1, 0, 0, 2, 1, 0, 1])"
      ]
     },
     "execution_count": 15,
     "metadata": {},
     "output_type": "execute_result"
    }
   ],
   "source": [
    "pred"
   ]
  },
  {
   "cell_type": "code",
   "execution_count": 16,
   "id": "2358bc1b",
   "metadata": {},
   "outputs": [
    {
     "data": {
      "text/plain": [
       "array([[6.8, 3. , 5.5, 2.1],\n",
       "       [6.7, 3. , 5.2, 2.3],\n",
       "       [6.3, 2.8, 5.1, 1.5],\n",
       "       [6.3, 3.3, 4.7, 1.6],\n",
       "       [6.4, 2.7, 5.3, 1.9]])"
      ]
     },
     "execution_count": 16,
     "metadata": {},
     "output_type": "execute_result"
    }
   ],
   "source": [
    "X_test[:5]"
   ]
  },
  {
   "cell_type": "code",
   "execution_count": 17,
   "id": "fcebdb72",
   "metadata": {},
   "outputs": [
    {
     "data": {
      "text/plain": [
       "array([2, 2, 2, 1, 2, 0, 1, 0, 0, 1, 2, 1, 1, 2, 2, 0, 2, 1, 2, 2, 1, 0,\n",
       "       0, 1, 0, 0, 2, 1, 0, 1])"
      ]
     },
     "execution_count": 17,
     "metadata": {},
     "output_type": "execute_result"
    }
   ],
   "source": [
    "y_test"
   ]
  },
  {
   "cell_type": "code",
   "execution_count": 18,
   "id": "abc2e72b",
   "metadata": {},
   "outputs": [],
   "source": [
    "from sklearn.metrics import accuracy_score"
   ]
  },
  {
   "cell_type": "code",
   "execution_count": 19,
   "id": "622eec75",
   "metadata": {},
   "outputs": [
    {
     "data": {
      "text/plain": [
       "0.9333333333333333"
      ]
     },
     "execution_count": 19,
     "metadata": {},
     "output_type": "execute_result"
    }
   ],
   "source": [
    "accuracy_score(y_test, pred)"
   ]
  },
  {
   "cell_type": "markdown",
   "id": "286b18bd",
   "metadata": {},
   "source": [
    "y = 6+4x"
   ]
  },
  {
   "cell_type": "code",
   "execution_count": 20,
   "id": "d87ec6c2",
   "metadata": {},
   "outputs": [],
   "source": [
    "import numpy as np\n",
    "import matplotlib.pyplot as plt\n",
    "\n",
    "np.random.seed(0)"
   ]
  },
  {
   "cell_type": "code",
   "execution_count": 21,
   "id": "2185c97b",
   "metadata": {},
   "outputs": [
    {
     "data": {
      "text/plain": [
       "<matplotlib.collections.PathCollection at 0x23329b95790>"
      ]
     },
     "execution_count": 21,
     "metadata": {},
     "output_type": "execute_result"
    },
    {
     "data": {
      "image/png": "[encoded data removed]",
      "text/plain": [
       "<Figure size 432x288 with 1 Axes>"
      ]
     },
     "metadata": {
      "needs_background": "light"
     },
     "output_type": "display_data"
    }
   ],
   "source": [
    "X = 2 * np.random.rand(100,1)\n",
    "y = 4 * X + 6 + np.random.randn(100, 1)\n",
    "\n",
    "plt.scatter(X, y)"
   ]
  },
  {
   "cell_type": "code",
   "execution_count": 22,
   "id": "732737fa",
   "metadata": {},
   "outputs": [
    {
     "data": {
      "text/plain": [
       "((100, 1), (100, 1))"
      ]
     },
     "execution_count": 22,
     "metadata": {},
     "output_type": "execute_result"
    }
   ],
   "source": [
    "X.shape, y.shape"
   ]
  },
  {
   "cell_type": "code",
   "execution_count": 23,
   "id": "6caaf9e5",
   "metadata": {},
   "outputs": [
    {
     "data": {
      "text/plain": [
       "(array([[0.]]), array([[0.]]))"
      ]
     },
     "execution_count": 23,
     "metadata": {},
     "output_type": "execute_result"
    }
   ],
   "source": [
    "w0 = np.zeros((1, 1))\n",
    "w1 = np.zeros((1, 1))\n",
    "\n",
    "w0, w1"
   ]
  },
  {
   "cell_type": "code",
   "execution_count": 24,
   "id": "e9ffbd3e",
   "metadata": {},
   "outputs": [
    {
     "name": "stdout",
     "output_type": "stream",
     "text": [
      "(100, 1)\n"
     ]
    }
   ],
   "source": [
    "y_pred = np.dot(X, w1.T) + w0\n",
    "diff = y - y_pred\n",
    "print(diff.shape)"
   ]
  },
  {
   "cell_type": "code",
   "execution_count": 25,
   "id": "5923813a",
   "metadata": {},
   "outputs": [
    {
     "data": {
      "text/plain": [
       "(1, 100)"
      ]
     },
     "execution_count": 25,
     "metadata": {},
     "output_type": "execute_result"
    }
   ],
   "source": [
    "X.T.shape"
   ]
  },
  {
   "cell_type": "code",
   "execution_count": 26,
   "id": "3e5df9ca",
   "metadata": {},
   "outputs": [
    {
     "data": {
      "text/plain": [
       "(array([[-0.21502681]]), array([[-0.1994937]]))"
      ]
     },
     "execution_count": 26,
     "metadata": {},
     "output_type": "execute_result"
    }
   ],
   "source": [
    "w1_update = -(2/100) * 0.01 * (np.dot(X.T, diff))\n",
    "w0_factor = np.ones((100, 1))\n",
    "w0_update = -(2/100) * 0.01 * (np.dot(w0_factor.T, diff))\n",
    "w1_update, w0_update"
   ]
  },
  {
   "cell_type": "code",
   "execution_count": 27,
   "id": "b0745e3d",
   "metadata": {},
   "outputs": [],
   "source": [
    "def get_weight_updates(w0, w1, X, y, learning_rate=0.01):\n",
    "    N = len(y)\n",
    "    \n",
    "    w0_update = np.zeros_like(w0)\n",
    "    w1_update = np.zeros_like(w1)\n",
    "    \n",
    "    y_pred = np.dot(X, w1.T) +w0\n",
    "    diff = y - y_pred\n",
    "    \n",
    "    w0_factor = np.ones((N, 1))\n",
    "    \n",
    "    w1_update = -(2/N) * learning_rate * (np.dot(X.T, diff))\n",
    "    w0_update = -(2/N) * learning_rate * (np.dot(w0_factor.T, diff))\n",
    "    \n",
    "    return w0_update, w1_update"
   ]
  },
  {
   "cell_type": "code",
   "execution_count": 28,
   "id": "a8440eb4",
   "metadata": {},
   "outputs": [
    {
     "name": "stdout",
     "output_type": "stream",
     "text": [
      "0 = w0 : 0.19949370120354531, w1 : 0.21502681391647024\n",
      "100 = w0 : 0.1917563524197762, w1 : 0.20633844020667913\n",
      "200 = w0 : 0.1917563524197762, w1 : 0.20633844020667913\n",
      "300 = w0 : 0.1917563524197762, w1 : 0.20633844020667913\n",
      "400 = w0 : 0.1917563524197762, w1 : 0.20633844020667913\n",
      "500 = w0 : 0.1917563524197762, w1 : 0.20633844020667913\n",
      "600 = w0 : 0.1917563524197762, w1 : 0.20633844020667913\n",
      "700 = w0 : 0.1917563524197762, w1 : 0.20633844020667913\n",
      "800 = w0 : 0.1917563524197762, w1 : 0.20633844020667913\n",
      "900 = w0 : 0.1917563524197762, w1 : 0.20633844020667913\n"
     ]
    }
   ],
   "source": [
    "w0 = np.zeros((1, 1))\n",
    "w1 = np.zeros((1, 1))\n",
    "\n",
    "for ind in range(1000):\n",
    "    w0_update, w1_update = get_weight_updates(w0, w1, X, y, learning_rate=0.01)\n",
    "    w0 = w0 = - w0_update\n",
    "    w1 = w1 = - w1_update\n",
    "    \n",
    "    if ind % 100 == 0:\n",
    "        print(f\"{ind} = w0 : {w0[0][0]}, w1 : {w1[0][0]}\")"
   ]
  },
  {
   "cell_type": "code",
   "execution_count": 29,
   "id": "edae8af1",
   "metadata": {},
   "outputs": [
    {
     "data": {
      "text/plain": [
       "(array([[0.19175635]]), array([[0.20633844]]))"
      ]
     },
     "execution_count": 29,
     "metadata": {},
     "output_type": "execute_result"
    }
   ],
   "source": [
    "w0, w1"
   ]
  },
  {
   "cell_type": "code",
   "execution_count": 30,
   "id": "4e98cd0e",
   "metadata": {},
   "outputs": [],
   "source": [
    "def gradient_descent_steps(X, y, iters=10000):\n",
    "    w0 = np.zeros((1, 1))\n",
    "    w1 = np.zeros((1, 1))\n",
    "    \n",
    "    for ind in range(iters):\n",
    "        w0_update, w1_update = get_weight_updates(w0, w1, X, y, learning_rate=0.01)\n",
    "        w0 = w0 - w0_update\n",
    "        w1 = w1- w1_update\n",
    "        \n",
    "        return w0, w1"
   ]
  },
  {
   "cell_type": "code",
   "execution_count": 31,
   "id": "29b8b963",
   "metadata": {},
   "outputs": [
    {
     "data": {
      "text/plain": [
       "(array([[0.1994937]]), array([[0.21502681]]))"
      ]
     },
     "execution_count": 31,
     "metadata": {},
     "output_type": "execute_result"
    }
   ],
   "source": [
    "w0, w1 = gradient_descent_steps(X, y, 1000)\n",
    "w0, w1"
   ]
  },
  {
   "cell_type": "code",
   "execution_count": 32,
   "id": "8a0f7918",
   "metadata": {},
   "outputs": [
    {
     "name": "stdout",
     "output_type": "stream",
     "text": [
      "cost : 105.723 w0: 0.199 w1:0.215\n",
      "cost : 105.723 w0: 5.065 w1:4.862\n",
      "cost : 105.723 w0: 5.431 w1:4.669\n",
      "cost : 105.723 w0: 5.650 w1:4.476\n",
      "cost : 105.723 w0: 5.807 w1:4.336\n",
      "cost : 105.723 w0: 5.922 w1:4.235\n",
      "cost : 105.723 w0: 6.005 w1:4.162\n",
      "cost : 105.723 w0: 6.064 w1:4.108\n",
      "cost : 105.723 w0: 6.108 w1:4.070\n",
      "cost : 105.723 w0: 6.139 w1:4.042\n"
     ]
    }
   ],
   "source": [
    "def get_cost(y, y_pred):\n",
    "    N = len(y)\n",
    "    cost = np.sum(np.square(y - y_pred))/N\n",
    "    return cost\n",
    "\n",
    "w0 = np.zeros((1, 1))\n",
    "w1 = np.zeros((1, 1))\n",
    "\n",
    "for ind in range(1000):\n",
    "    w0_update, w1_update = get_weight_updates(w0, w1, X, y, learning_rate=0.01)\n",
    "    w0 = w0 - w0_update\n",
    "    w1 = w1 - w1_update\n",
    "    \n",
    "    if ind % 100 == 0:\n",
    "        ypred = w1 * X + w0\n",
    "        print(\"cost : {:.3f} w0: {:.3f} w1:{:.3f}\".format(get_cost(y, y_pred), w0[0,0], w1[0,0]))"
   ]
  },
  {
   "cell_type": "code",
   "execution_count": 33,
   "id": "3527e9ef",
   "metadata": {},
   "outputs": [
    {
     "data": {
      "image/png": "[encoded data removed]",
      "text/plain": [
       "<Figure size 432x288 with 1 Axes>"
      ]
     },
     "metadata": {
      "needs_background": "light"
     },
     "output_type": "display_data"
    }
   ],
   "source": [
    "plt.scatter(X, y)\n",
    "plt.plot(X, y_pred)\n",
    "plt.show();"
   ]
  },
  {
   "cell_type": "code",
   "execution_count": 40,
   "id": "3e6b3110",
   "metadata": {},
   "outputs": [],
   "source": [
    "def stochastic_gradient_descent_steps(X, y, batch_size = 10, iters=10000):\n",
    "    w0 = np.zeros((1, 1))\n",
    "    w1 = np.zeros((1, 1))\n",
    "    \n",
    "    for ind in range(iters):\n",
    "        stochastic_random_index = np.random.permutation(X.shape[0])\n",
    "        sample_X = X[stochastic_random_index[:batch_size]]\n",
    "        sample_y = y[stochastic_random_index[:batch_size]]\n",
    "        w0_update, w1_update = get_weight_updates(w0, w1, sample_X, sample_y, learning_rate=0.01)\n",
    "        w0 = w0 - w0_update\n",
    "        w1 = w1 - w1_update\n",
    "        \n",
    "    return w0, w1"
   ]
  },
  {
   "cell_type": "code",
   "execution_count": 41,
   "id": "8993f2ae",
   "metadata": {},
   "outputs": [
    {
     "data": {
      "text/plain": [
       "array([5, 7, 8, 9, 0, 6, 1, 2, 4, 3])"
      ]
     },
     "execution_count": 41,
     "metadata": {},
     "output_type": "execute_result"
    }
   ],
   "source": [
    "np.random.permutation(10)"
   ]
  },
  {
   "cell_type": "code",
   "execution_count": 42,
   "id": "61844ca0",
   "metadata": {},
   "outputs": [
    {
     "data": {
      "text/plain": [
       "(100, 1)"
      ]
     },
     "execution_count": 42,
     "metadata": {},
     "output_type": "execute_result"
    }
   ],
   "source": [
    "X.shape"
   ]
  },
  {
   "cell_type": "code",
   "execution_count": 43,
   "id": "753210ed",
   "metadata": {},
   "outputs": [
    {
     "data": {
      "text/plain": [
       "array([[0.14207212],\n",
       "       [1.33482076],\n",
       "       [0.32261904],\n",
       "       [0.39316472],\n",
       "       [0.73745034],\n",
       "       [1.95291893],\n",
       "       [0.41775351],\n",
       "       [1.17302587],\n",
       "       [0.24039312],\n",
       "       [1.27984204]])"
      ]
     },
     "execution_count": 43,
     "metadata": {},
     "output_type": "execute_result"
    }
   ],
   "source": [
    "batch_size = 10\n",
    "stochastic_random_index = np.random.permutation(X.shape[0])\n",
    "sample_X = X[stochastic_random_index[:batch_size]]\n",
    "sample_X"
   ]
  },
  {
   "cell_type": "code",
   "execution_count": 44,
   "id": "4282d313",
   "metadata": {},
   "outputs": [
    {
     "data": {
      "text/plain": [
       "(array([[6.13753935]]), array([[3.99311841]]))"
      ]
     },
     "execution_count": 44,
     "metadata": {},
     "output_type": "execute_result"
    }
   ],
   "source": [
    "w0, w1 = stochastic_gradient_descent_steps(X, y, 10, 1000)\n",
    "w0, w1"
   ]
  },
  {
   "cell_type": "code",
   "execution_count": 51,
   "id": "68a2aa53",
   "metadata": {},
   "outputs": [
    {
     "name": "stdout",
     "output_type": "stream",
     "text": [
      "1500\t cost : 0.992  w0:6.210 w1:3.979\n",
      "Wall time: 31.9 ms\n"
     ]
    }
   ],
   "source": [
    "%%time\n",
    "w0 = np.zeros((1, 1))\n",
    "w1 = np.zeros((1, 1))\n",
    "\n",
    "for ind in range(1501):\n",
    "    w0_update, w1_update = get_weight_updates(w0, w1, X, y, learning_rate=0.01)\n",
    "    w0 = w0 - w0_update\n",
    "    w1 = w1 - w1_update\n",
    "  \n",
    "y_pred = w1 * X + w0\n",
    "print(\"{}\\t cost : {:.3f}  w0:{:.3f} w1:{:.3f}\".format( ind, get_cost(y, y_pred), w0[0,0], w1[0,0]))"
   ]
  },
  {
   "cell_type": "code",
   "execution_count": 53,
   "id": "2a18ec11",
   "metadata": {},
   "outputs": [
    {
     "name": "stdout",
     "output_type": "stream",
     "text": [
      "2800\t cost : 0.993 w0:6.195 w1:3.992\n",
      "Wall time: 90.8 ms\n"
     ]
    }
   ],
   "source": [
    "%%time\n",
    "w0 = np.zeros((1, 1))\n",
    "w1 = np.zeros((1, 1))\n",
    "batch_size = 10\n",
    "for ind in range(2801):\n",
    "    stochastic_random_index = np.random.permutation(X.shape[0])\n",
    "    sample_X = X[stochastic_random_index[:batch_size]]\n",
    "    sample_y = y[stochastic_random_index[:batch_size]]\n",
    "    w0_update, w1_update = get_weight_updates(w0, w1, sample_X, sample_y, learning_rate=0.01)\n",
    "    w0 = w0 - w0_update\n",
    "    w1 = w1 - w1_update\n",
    "    \n",
    "y_pred = w1 * X + w0\n",
    "print(\"{}\\t cost : {:.3f} w0:{:.3f} w1:{:.3f}\". format(ind, get_cost(y, y_pred), w0[0,0], w1[0,0]))\n"
   ]
  },
  {
   "cell_type": "code",
   "execution_count": 61,
   "id": "afe1c0f3",
   "metadata": {},
   "outputs": [
    {
     "name": "stdout",
     "output_type": "stream",
     "text": [
      "속성수 : 1 데이터 크기 : 500 소요시간 차이 : -1021\n",
      "속성수 : 1 데이터 크기 : 1500 소요시간 차이 : -4039\n",
      "속성수 : 1 데이터 크기 : 2500 소요시간 차이 : -6000\n",
      "속성수 : 1 데이터 크기 : 3500 소요시간 차이 : -6956\n",
      "속성수 : 1 데이터 크기 : 4500 소요시간 차이 : -6934\n",
      "속성수 : 1 데이터 크기 : 5500 소요시간 차이 : -8938\n",
      "속성수 : 1 데이터 크기 : 6500 소요시간 차이 : -11969\n",
      "속성수 : 1 데이터 크기 : 7500 소요시간 차이 : -11911\n",
      "속성수 : 1 데이터 크기 : 8500 소요시간 차이 : -13963\n",
      "속성수 : 1 데이터 크기 : 9500 소요시간 차이 : -13963\n",
      "속성수 : 101 데이터 크기 : 500 소요시간 차이 : 1\n",
      "속성수 : 101 데이터 크기 : 1500 소요시간 차이 : -998\n",
      "속성수 : 101 데이터 크기 : 2500 소요시간 차이 : -1993\n",
      "속성수 : 101 데이터 크기 : 3500 소요시간 차이 : -996\n",
      "속성수 : 101 데이터 크기 : 4500 소요시간 차이 : -1995\n",
      "속성수 : 101 데이터 크기 : 5500 소요시간 차이 : -2993\n",
      "속성수 : 101 데이터 크기 : 6500 소요시간 차이 : -1997\n",
      "속성수 : 101 데이터 크기 : 7500 소요시간 차이 : -1000\n",
      "속성수 : 101 데이터 크기 : 8500 소요시간 차이 : 10973\n",
      "속성수 : 101 데이터 크기 : 9500 소요시간 차이 : 13967\n",
      "속성수 : 201 데이터 크기 : 500 소요시간 차이 : -1509\n",
      "속성수 : 201 데이터 크기 : 1500 소요시간 차이 : -998\n",
      "속성수 : 201 데이터 크기 : 2500 소요시간 차이 : 5\n",
      "속성수 : 201 데이터 크기 : 3500 소요시간 차이 : 2\n",
      "속성수 : 201 데이터 크기 : 4500 소요시간 차이 : 15963\n",
      "속성수 : 201 데이터 크기 : 5500 소요시간 차이 : 96261\n",
      "속성수 : 201 데이터 크기 : 6500 소요시간 차이 : 63834\n",
      "속성수 : 201 데이터 크기 : 7500 소요시간 차이 : 45879\n",
      "속성수 : 201 데이터 크기 : 8500 소요시간 차이 : 288740\n",
      "속성수 : 201 데이터 크기 : 9500 소요시간 차이 : 221917\n",
      "속성수 : 301 데이터 크기 : 500 소요시간 차이 : -999\n",
      "속성수 : 301 데이터 크기 : 1500 소요시간 차이 : -2994\n",
      "속성수 : 301 데이터 크기 : 2500 소요시간 차이 : 2504\n",
      "속성수 : 301 데이터 크기 : 3500 소요시간 차이 : 23941\n",
      "속성수 : 301 데이터 크기 : 4500 소요시간 차이 : 64827\n",
      "속성수 : 301 데이터 크기 : 5500 소요시간 차이 : 82295\n",
      "속성수 : 301 데이터 크기 : 6500 소요시간 차이 : 164075\n",
      "속성수 : 301 데이터 크기 : 7500 소요시간 차이 : 202488\n",
      "속성수 : 301 데이터 크기 : 8500 소요시간 차이 : 264302\n",
      "속성수 : 301 데이터 크기 : 9500 소요시간 차이 : 250841\n",
      "속성수 : 401 데이터 크기 : 500 소요시간 차이 : -2991\n",
      "속성수 : 401 데이터 크기 : 1500 소요시간 차이 : 5496\n",
      "속성수 : 401 데이터 크기 : 2500 소요시간 차이 : 73806\n",
      "속성수 : 401 데이터 크기 : 3500 소요시간 차이 : 89277\n",
      "속성수 : 401 데이터 크기 : 4500 소요시간 차이 : 133163\n",
      "속성수 : 401 데이터 크기 : 5500 소요시간 차이 : 163084\n",
      "속성수 : 401 데이터 크기 : 6500 소요시간 차이 : 203975\n",
      "속성수 : 401 데이터 크기 : 7500 소요시간 차이 : 325643\n",
      "속성수 : 401 데이터 크기 : 8500 소요시간 차이 : 376026\n",
      "속성수 : 401 데이터 크기 : 9500 소요시간 차이 : 363048\n",
      "속성수 : 501 데이터 크기 : 500 소요시간 차이 : -1\n",
      "속성수 : 501 데이터 크기 : 1500 소요시간 차이 : 13478\n",
      "속성수 : 501 데이터 크기 : 2500 소요시간 차이 : 77797\n",
      "속성수 : 501 데이터 크기 : 3500 소요시간 차이 : 136154\n",
      "속성수 : 501 데이터 크기 : 4500 소요시간 차이 : 158089\n",
      "속성수 : 501 데이터 크기 : 5500 소요시간 차이 : 285258\n",
      "속성수 : 501 데이터 크기 : 6500 소요시간 차이 : 387497\n",
      "속성수 : 501 데이터 크기 : 7500 소요시간 차이 : 595942\n",
      "속성수 : 501 데이터 크기 : 8500 소요시간 차이 : 536590\n",
      "속성수 : 501 데이터 크기 : 9500 소요시간 차이 : 535097\n",
      "속성수 : 601 데이터 크기 : 500 소요시간 차이 : 995\n",
      "속성수 : 601 데이터 크기 : 1500 소요시간 차이 : 20947\n",
      "속성수 : 601 데이터 크기 : 2500 소요시간 차이 : 159085\n",
      "속성수 : 601 데이터 크기 : 3500 소요시간 차이 : 178039\n",
      "속성수 : 601 데이터 크기 : 4500 소요시간 차이 : 236882\n",
      "속성수 : 601 데이터 크기 : 5500 소요시간 차이 : 339111\n",
      "속성수 : 601 데이터 크기 : 6500 소요시간 차이 : 434860\n",
      "속성수 : 601 데이터 크기 : 7500 소요시간 차이 : 514156\n",
      "속성수 : 601 데이터 크기 : 8500 소요시간 차이 : 535106\n",
      "속성수 : 601 데이터 크기 : 9500 소요시간 차이 : 644323\n",
      "속성수 : 701 데이터 크기 : 500 소요시간 차이 : -2994\n",
      "속성수 : 701 데이터 크기 : 1500 소요시간 차이 : 32918\n",
      "속성수 : 701 데이터 크기 : 2500 소요시간 차이 : 201488\n",
      "속성수 : 701 데이터 크기 : 3500 소요시간 차이 : 287750\n",
      "속성수 : 701 데이터 크기 : 4500 소요시간 차이 : 352082\n",
      "속성수 : 701 데이터 크기 : 5500 소요시간 차이 : 446320\n",
      "속성수 : 701 데이터 크기 : 6500 소요시간 차이 : 502191\n",
      "속성수 : 701 데이터 크기 : 7500 소요시간 차이 : 549068\n",
      "속성수 : 701 데이터 크기 : 8500 소요시간 차이 : 664755\n",
      "속성수 : 701 데이터 크기 : 9500 소요시간 차이 : 774968\n",
      "속성수 : 801 데이터 크기 : 500 소요시간 차이 : -999\n",
      "속성수 : 801 데이터 크기 : 1500 소요시간 차이 : 50381\n",
      "속성수 : 801 데이터 크기 : 2500 소요시간 차이 : 211949\n",
      "속성수 : 801 데이터 크기 : 3500 소요시간 차이 : 262317\n",
      "속성수 : 801 데이터 크기 : 4500 소요시간 차이 : 443835\n",
      "속성수 : 801 데이터 크기 : 5500 소요시간 차이 : 447826\n",
      "속성수 : 801 데이터 크기 : 6500 소요시간 차이 : 541096\n",
      "속성수 : 801 데이터 크기 : 7500 소요시간 차이 : 728099\n",
      "속성수 : 801 데이터 크기 : 8500 소요시간 차이 : 822348\n",
      "속성수 : 801 데이터 크기 : 9500 소요시간 차이 : 882171\n",
      "속성수 : 901 데이터 크기 : 500 소요시간 차이 : -3989\n",
      "속성수 : 901 데이터 크기 : 1500 소요시간 차이 : 112221\n",
      "속성수 : 901 데이터 크기 : 2500 소요시간 차이 : 244862\n",
      "속성수 : 901 데이터 크기 : 3500 소요시간 차이 : 339114\n",
      "속성수 : 901 데이터 크기 : 4500 소요시간 차이 : 374025\n",
      "속성수 : 901 데이터 크기 : 5500 소요시간 차이 : 542089\n",
      "속성수 : 901 데이터 크기 : 6500 소요시간 차이 : 630370\n",
      "속성수 : 901 데이터 크기 : 7500 소요시간 차이 : 687213\n",
      "속성수 : 901 데이터 크기 : 8500 소요시간 차이 : 775499\n",
      "속성수 : 901 데이터 크기 : 9500 소요시간 차이 : 867242\n"
     ]
    }
   ],
   "source": [
    "from datetime import date, datetime\n",
    "import numpy as np\n",
    "\n",
    "def update_weights(w0, w1, X, y, lr = 0.01):\n",
    "    # w0 = np.zeros_like(w0)\n",
    "    # w1 = np.zeros_like(w1)    \n",
    "    pred = np.dot(X, w1)+w0\n",
    "    diff = y - pred\n",
    "    w1_gradient = - (2/X.shape[0])*(np.dot(X.T, diff))# feature size ,1\n",
    "    dummy = np.ones(X.shape[0])\n",
    "    w0_gradient = - (2/X.shape[0])*(np.dot(dummy, diff))# 1,1\n",
    "    w0 = w0 - (lr * w0_gradient)\n",
    "    w1 = w1 - (lr * w1_gradient)\n",
    "\n",
    "    return w0, w1\n",
    "def gradient_descent_steps(x, y, iters=100):\n",
    "    starttime = datetime.now()\n",
    "    w0 = np.zeros((1, 1))\n",
    "    # w1 = np.zeros((1, 1))\n",
    "    w1 = np.zeros((x.shape[-1],1))\n",
    "    for ind in range(iters):\n",
    "        # w0_update, w1_update = get_weight_updates(w0, w1, x, y, 0.01)\n",
    "        w0, w1 =  update_weights(w0, w1, X, y, lr = 0.01)\n",
    "        # w0 = w0 - w0_update\n",
    "        # w1 = w1 - w1_update\n",
    "        # print(w0, w1)\n",
    "    return w0, w1, (datetime.now()-starttime).microseconds\n",
    "\n",
    "def stochastic_gradient_descent_steps(x, y, batch_size=100, iters=100):\n",
    "    starttime = datetime.now()\n",
    "    w0 = np.zeros((1, 1))\n",
    "    # w1 = np.zeros((1, 1))\n",
    "    w1 = np.zeros((x.shape[-1],1))\n",
    "    \n",
    "    for ind in range(iters):\n",
    "        stochastic_random_index = np.random.permutation(X.shape[0])\n",
    "        sample_X = X[stochastic_random_index[:batch_size]]\n",
    "        sample_y = y[stochastic_random_index[:batch_size]]\n",
    "        w0, w1 = update_weights(w0, w1, sample_X, sample_y, lr = 0.01)\n",
    "        # w0 = w0 - w0_update\n",
    "        # w1 = w1 - w1_update\n",
    "        # print('2 : ',np.sum(np.square(y-(np.dot(X, w1)+w0)))/X.shape[0])\n",
    "        # print(w0, w1)\n",
    "    return w0, w1, (datetime.now()-starttime).microseconds\n",
    "\n",
    "for feature_num in range(1,10**3,100):\n",
    "    for size in range(500,10**4,10**3):\n",
    "        X = np.random.rand(size,feature_num)\n",
    "        y = np.dot(X,np.ones(feature_num).reshape(-1,1)*4) + 6+ np.random.randn(size, 1)\n",
    "        w11, w12, time1 = gradient_descent_steps(X,y)\n",
    "        w21, w22, time2 = stochastic_gradient_descent_steps(X,y)\n",
    "        print(f'속성수 : {feature_num} 데이터 크기 : {size} 소요시간 차이 : {time1-time2}')"
   ]
  },
  {
   "cell_type": "code",
   "execution_count": 62,
   "id": "c2903853",
   "metadata": {},
   "outputs": [],
   "source": [
    "import numpy as np\n",
    "import matplotlib.pyplot as plt\n",
    "import pandas as pd\n",
    "import seaborn as sns\n",
    "from sklearn.datasets import load_boston"
   ]
  },
  {
   "cell_type": "code",
   "execution_count": 63,
   "id": "82174679",
   "metadata": {},
   "outputs": [
    {
     "data": {
      "text/plain": [
       "{'data': array([[6.3200e-03, 1.8000e+01, 2.3100e+00, ..., 1.5300e+01, 3.9690e+02,\n",
       "         4.9800e+00],\n",
       "        [2.7310e-02, 0.0000e+00, 7.0700e+00, ..., 1.7800e+01, 3.9690e+02,\n",
       "         9.1400e+00],\n",
       "        [2.7290e-02, 0.0000e+00, 7.0700e+00, ..., 1.7800e+01, 3.9283e+02,\n",
       "         4.0300e+00],\n",
       "        ...,\n",
       "        [6.0760e-02, 0.0000e+00, 1.1930e+01, ..., 2.1000e+01, 3.9690e+02,\n",
       "         5.6400e+00],\n",
       "        [1.0959e-01, 0.0000e+00, 1.1930e+01, ..., 2.1000e+01, 3.9345e+02,\n",
       "         6.4800e+00],\n",
       "        [4.7410e-02, 0.0000e+00, 1.1930e+01, ..., 2.1000e+01, 3.9690e+02,\n",
       "         7.8800e+00]]),\n",
       " 'target': array([24. , 21.6, 34.7, 33.4, 36.2, 28.7, 22.9, 27.1, 16.5, 18.9, 15. ,\n",
       "        18.9, 21.7, 20.4, 18.2, 19.9, 23.1, 17.5, 20.2, 18.2, 13.6, 19.6,\n",
       "        15.2, 14.5, 15.6, 13.9, 16.6, 14.8, 18.4, 21. , 12.7, 14.5, 13.2,\n",
       "        13.1, 13.5, 18.9, 20. , 21. , 24.7, 30.8, 34.9, 26.6, 25.3, 24.7,\n",
       "        21.2, 19.3, 20. , 16.6, 14.4, 19.4, 19.7, 20.5, 25. , 23.4, 18.9,\n",
       "        35.4, 24.7, 31.6, 23.3, 19.6, 18.7, 16. , 22.2, 25. , 33. , 23.5,\n",
       "        19.4, 22. , 17.4, 20.9, 24.2, 21.7, 22.8, 23.4, 24.1, 21.4, 20. ,\n",
       "        20.8, 21.2, 20.3, 28. , 23.9, 24.8, 22.9, 23.9, 26.6, 22.5, 22.2,\n",
       "        23.6, 28.7, 22.6, 22. , 22.9, 25. , 20.6, 28.4, 21.4, 38.7, 43.8,\n",
       "        33.2, 27.5, 26.5, 18.6, 19.3, 20.1, 19.5, 19.5, 20.4, 19.8, 19.4,\n",
       "        21.7, 22.8, 18.8, 18.7, 18.5, 18.3, 21.2, 19.2, 20.4, 19.3, 22. ,\n",
       "        20.3, 20.5, 17.3, 18.8, 21.4, 15.7, 16.2, 18. , 14.3, 19.2, 19.6,\n",
       "        23. , 18.4, 15.6, 18.1, 17.4, 17.1, 13.3, 17.8, 14. , 14.4, 13.4,\n",
       "        15.6, 11.8, 13.8, 15.6, 14.6, 17.8, 15.4, 21.5, 19.6, 15.3, 19.4,\n",
       "        17. , 15.6, 13.1, 41.3, 24.3, 23.3, 27. , 50. , 50. , 50. , 22.7,\n",
       "        25. , 50. , 23.8, 23.8, 22.3, 17.4, 19.1, 23.1, 23.6, 22.6, 29.4,\n",
       "        23.2, 24.6, 29.9, 37.2, 39.8, 36.2, 37.9, 32.5, 26.4, 29.6, 50. ,\n",
       "        32. , 29.8, 34.9, 37. , 30.5, 36.4, 31.1, 29.1, 50. , 33.3, 30.3,\n",
       "        34.6, 34.9, 32.9, 24.1, 42.3, 48.5, 50. , 22.6, 24.4, 22.5, 24.4,\n",
       "        20. , 21.7, 19.3, 22.4, 28.1, 23.7, 25. , 23.3, 28.7, 21.5, 23. ,\n",
       "        26.7, 21.7, 27.5, 30.1, 44.8, 50. , 37.6, 31.6, 46.7, 31.5, 24.3,\n",
       "        31.7, 41.7, 48.3, 29. , 24. , 25.1, 31.5, 23.7, 23.3, 22. , 20.1,\n",
       "        22.2, 23.7, 17.6, 18.5, 24.3, 20.5, 24.5, 26.2, 24.4, 24.8, 29.6,\n",
       "        42.8, 21.9, 20.9, 44. , 50. , 36. , 30.1, 33.8, 43.1, 48.8, 31. ,\n",
       "        36.5, 22.8, 30.7, 50. , 43.5, 20.7, 21.1, 25.2, 24.4, 35.2, 32.4,\n",
       "        32. , 33.2, 33.1, 29.1, 35.1, 45.4, 35.4, 46. , 50. , 32.2, 22. ,\n",
       "        20.1, 23.2, 22.3, 24.8, 28.5, 37.3, 27.9, 23.9, 21.7, 28.6, 27.1,\n",
       "        20.3, 22.5, 29. , 24.8, 22. , 26.4, 33.1, 36.1, 28.4, 33.4, 28.2,\n",
       "        22.8, 20.3, 16.1, 22.1, 19.4, 21.6, 23.8, 16.2, 17.8, 19.8, 23.1,\n",
       "        21. , 23.8, 23.1, 20.4, 18.5, 25. , 24.6, 23. , 22.2, 19.3, 22.6,\n",
       "        19.8, 17.1, 19.4, 22.2, 20.7, 21.1, 19.5, 18.5, 20.6, 19. , 18.7,\n",
       "        32.7, 16.5, 23.9, 31.2, 17.5, 17.2, 23.1, 24.5, 26.6, 22.9, 24.1,\n",
       "        18.6, 30.1, 18.2, 20.6, 17.8, 21.7, 22.7, 22.6, 25. , 19.9, 20.8,\n",
       "        16.8, 21.9, 27.5, 21.9, 23.1, 50. , 50. , 50. , 50. , 50. , 13.8,\n",
       "        13.8, 15. , 13.9, 13.3, 13.1, 10.2, 10.4, 10.9, 11.3, 12.3,  8.8,\n",
       "         7.2, 10.5,  7.4, 10.2, 11.5, 15.1, 23.2,  9.7, 13.8, 12.7, 13.1,\n",
       "        12.5,  8.5,  5. ,  6.3,  5.6,  7.2, 12.1,  8.3,  8.5,  5. , 11.9,\n",
       "        27.9, 17.2, 27.5, 15. , 17.2, 17.9, 16.3,  7. ,  7.2,  7.5, 10.4,\n",
       "         8.8,  8.4, 16.7, 14.2, 20.8, 13.4, 11.7,  8.3, 10.2, 10.9, 11. ,\n",
       "         9.5, 14.5, 14.1, 16.1, 14.3, 11.7, 13.4,  9.6,  8.7,  8.4, 12.8,\n",
       "        10.5, 17.1, 18.4, 15.4, 10.8, 11.8, 14.9, 12.6, 14.1, 13. , 13.4,\n",
       "        15.2, 16.1, 17.8, 14.9, 14.1, 12.7, 13.5, 14.9, 20. , 16.4, 17.7,\n",
       "        19.5, 20.2, 21.4, 19.9, 19. , 19.1, 19.1, 20.1, 19.9, 19.6, 23.2,\n",
       "        29.8, 13.8, 13.3, 16.7, 12. , 14.6, 21.4, 23. , 23.7, 25. , 21.8,\n",
       "        20.6, 21.2, 19.1, 20.6, 15.2,  7. ,  8.1, 13.6, 20.1, 21.8, 24.5,\n",
       "        23.1, 19.7, 18.3, 21.2, 17.5, 16.8, 22.4, 20.6, 23.9, 22. , 11.9]),\n",
       " 'feature_names': array(['CRIM', 'ZN', 'INDUS', 'CHAS', 'NOX', 'RM', 'AGE', 'DIS', 'RAD',\n",
       "        'TAX', 'PTRATIO', 'B', 'LSTAT'], dtype='<U7'),\n",
       " 'DESCR': \".. _boston_dataset:\\n\\nBoston house prices dataset\\n---------------------------\\n\\n**Data Set Characteristics:**  \\n\\n    :Number of Instances: 506 \\n\\n    :Number of Attributes: 13 numeric/categorical predictive. Median Value (attribute 14) is usually the target.\\n\\n    :Attribute Information (in order):\\n        - CRIM     per capita crime rate by town\\n        - ZN       proportion of residential land zoned for lots over 25,000 sq.ft.\\n        - INDUS    proportion of non-retail business acres per town\\n        - CHAS     Charles River dummy variable (= 1 if tract bounds river; 0 otherwise)\\n        - NOX      nitric oxides concentration (parts per 10 million)\\n        - RM       average number of rooms per dwelling\\n        - AGE      proportion of owner-occupied units built prior to 1940\\n        - DIS      weighted distances to five Boston employment centres\\n        - RAD      index of accessibility to radial highways\\n        - TAX      full-value property-tax rate per $10,000\\n        - PTRATIO  pupil-teacher ratio by town\\n        - B        1000(Bk - 0.63)^2 where Bk is the proportion of black people by town\\n        - LSTAT    % lower status of the population\\n        - MEDV     Median value of owner-occupied homes in $1000's\\n\\n    :Missing Attribute Values: None\\n\\n    :Creator: Harrison, D. and Rubinfeld, D.L.\\n\\nThis is a copy of UCI ML housing dataset.\\nhttps://archive.ics.uci.edu/ml/machine-learning-databases/housing/\\n\\n\\nThis dataset was taken from the StatLib library which is maintained at Carnegie Mellon University.\\n\\nThe Boston house-price data of Harrison, D. and Rubinfeld, D.L. 'Hedonic\\nprices and the demand for clean air', J. Environ. Economics & Management,\\nvol.5, 81-102, 1978.   Used in Belsley, Kuh & Welsch, 'Regression diagnostics\\n...', Wiley, 1980.   N.B. Various transformations are used in the table on\\npages 244-261 of the latter.\\n\\nThe Boston house-price data has been used in many machine learning papers that address regression\\nproblems.   \\n     \\n.. topic:: References\\n\\n   - Belsley, Kuh & Welsch, 'Regression diagnostics: Identifying Influential Data and Sources of Collinearity', Wiley, 1980. 244-261.\\n   - Quinlan,R. (1993). Combining Instance-Based and Model-Based Learning. In Proceedings on the Tenth International Conference of Machine Learning, 236-243, University of Massachusetts, Amherst. Morgan Kaufmann.\\n\",\n",
       " 'filename': 'C:\\\\Users\\\\user\\\\anaconda3\\\\lib\\\\site-packages\\\\sklearn\\\\datasets\\\\data\\\\boston_house_prices.csv'}"
      ]
     },
     "execution_count": 63,
     "metadata": {},
     "output_type": "execute_result"
    }
   ],
   "source": [
    "boston = load_boston()\n",
    "boston"
   ]
  },
  {
   "cell_type": "code",
   "execution_count": 65,
   "id": "2b095c14",
   "metadata": {},
   "outputs": [
    {
     "name": "stdout",
     "output_type": "stream",
     "text": [
      "<class 'pandas.core.frame.DataFrame'>\n",
      "RangeIndex: 506 entries, 0 to 505\n",
      "Data columns (total 13 columns):\n",
      " #   Column   Non-Null Count  Dtype  \n",
      "---  ------   --------------  -----  \n",
      " 0   CRIM     506 non-null    float64\n",
      " 1   ZN       506 non-null    float64\n",
      " 2   INDUS    506 non-null    float64\n",
      " 3   CHAS     506 non-null    float64\n",
      " 4   NOX      506 non-null    float64\n",
      " 5   RM       506 non-null    float64\n",
      " 6   AGE      506 non-null    float64\n",
      " 7   DIS      506 non-null    float64\n",
      " 8   RAD      506 non-null    float64\n",
      " 9   TAX      506 non-null    float64\n",
      " 10  PTRATIO  506 non-null    float64\n",
      " 11  B        506 non-null    float64\n",
      " 12  LSTAT    506 non-null    float64\n",
      "dtypes: float64(13)\n",
      "memory usage: 51.5 KB\n"
     ]
    }
   ],
   "source": [
    "boston_df = pd.DataFrame(boston.data, columns=boston.feature_names)\n",
    "boston_df.info()"
   ]
  },
  {
   "cell_type": "code",
   "execution_count": 66,
   "id": "d7a1027e",
   "metadata": {},
   "outputs": [
    {
     "data": {
      "text/html": [
       "<div>\n",
       "<style scoped>\n",
       "    .dataframe tbody tr th:only-of-type {\n",
       "        vertical-align: middle;\n",
       "    }\n",
       "\n",
       "    .dataframe tbody tr th {\n",
       "        vertical-align: top;\n",
       "    }\n",
       "\n",
       "    .dataframe thead th {\n",
       "        text-align: right;\n",
       "    }\n",
       "</style>\n",
       "<table border=\"1\" class=\"dataframe\">\n",
       "  <thead>\n",
       "    <tr style=\"text-align: right;\">\n",
       "      <th></th>\n",
       "      <th>CRIM</th>\n",
       "      <th>ZN</th>\n",
       "      <th>INDUS</th>\n",
       "      <th>CHAS</th>\n",
       "      <th>NOX</th>\n",
       "      <th>RM</th>\n",
       "      <th>AGE</th>\n",
       "      <th>DIS</th>\n",
       "      <th>RAD</th>\n",
       "      <th>TAX</th>\n",
       "      <th>PTRATIO</th>\n",
       "      <th>B</th>\n",
       "      <th>LSTAT</th>\n",
       "    </tr>\n",
       "  </thead>\n",
       "  <tbody>\n",
       "    <tr>\n",
       "      <th>0</th>\n",
       "      <td>0.00632</td>\n",
       "      <td>18.0</td>\n",
       "      <td>2.31</td>\n",
       "      <td>0.0</td>\n",
       "      <td>0.538</td>\n",
       "      <td>6.575</td>\n",
       "      <td>65.2</td>\n",
       "      <td>4.0900</td>\n",
       "      <td>1.0</td>\n",
       "      <td>296.0</td>\n",
       "      <td>15.3</td>\n",
       "      <td>396.90</td>\n",
       "      <td>4.98</td>\n",
       "    </tr>\n",
       "    <tr>\n",
       "      <th>1</th>\n",
       "      <td>0.02731</td>\n",
       "      <td>0.0</td>\n",
       "      <td>7.07</td>\n",
       "      <td>0.0</td>\n",
       "      <td>0.469</td>\n",
       "      <td>6.421</td>\n",
       "      <td>78.9</td>\n",
       "      <td>4.9671</td>\n",
       "      <td>2.0</td>\n",
       "      <td>242.0</td>\n",
       "      <td>17.8</td>\n",
       "      <td>396.90</td>\n",
       "      <td>9.14</td>\n",
       "    </tr>\n",
       "    <tr>\n",
       "      <th>2</th>\n",
       "      <td>0.02729</td>\n",
       "      <td>0.0</td>\n",
       "      <td>7.07</td>\n",
       "      <td>0.0</td>\n",
       "      <td>0.469</td>\n",
       "      <td>7.185</td>\n",
       "      <td>61.1</td>\n",
       "      <td>4.9671</td>\n",
       "      <td>2.0</td>\n",
       "      <td>242.0</td>\n",
       "      <td>17.8</td>\n",
       "      <td>392.83</td>\n",
       "      <td>4.03</td>\n",
       "    </tr>\n",
       "    <tr>\n",
       "      <th>3</th>\n",
       "      <td>0.03237</td>\n",
       "      <td>0.0</td>\n",
       "      <td>2.18</td>\n",
       "      <td>0.0</td>\n",
       "      <td>0.458</td>\n",
       "      <td>6.998</td>\n",
       "      <td>45.8</td>\n",
       "      <td>6.0622</td>\n",
       "      <td>3.0</td>\n",
       "      <td>222.0</td>\n",
       "      <td>18.7</td>\n",
       "      <td>394.63</td>\n",
       "      <td>2.94</td>\n",
       "    </tr>\n",
       "    <tr>\n",
       "      <th>4</th>\n",
       "      <td>0.06905</td>\n",
       "      <td>0.0</td>\n",
       "      <td>2.18</td>\n",
       "      <td>0.0</td>\n",
       "      <td>0.458</td>\n",
       "      <td>7.147</td>\n",
       "      <td>54.2</td>\n",
       "      <td>6.0622</td>\n",
       "      <td>3.0</td>\n",
       "      <td>222.0</td>\n",
       "      <td>18.7</td>\n",
       "      <td>396.90</td>\n",
       "      <td>5.33</td>\n",
       "    </tr>\n",
       "  </tbody>\n",
       "</table>\n",
       "</div>"
      ],
      "text/plain": [
       "      CRIM    ZN  INDUS  CHAS    NOX     RM   AGE     DIS  RAD    TAX  \\\n",
       "0  0.00632  18.0   2.31   0.0  0.538  6.575  65.2  4.0900  1.0  296.0   \n",
       "1  0.02731   0.0   7.07   0.0  0.469  6.421  78.9  4.9671  2.0  242.0   \n",
       "2  0.02729   0.0   7.07   0.0  0.469  7.185  61.1  4.9671  2.0  242.0   \n",
       "3  0.03237   0.0   2.18   0.0  0.458  6.998  45.8  6.0622  3.0  222.0   \n",
       "4  0.06905   0.0   2.18   0.0  0.458  7.147  54.2  6.0622  3.0  222.0   \n",
       "\n",
       "   PTRATIO       B  LSTAT  \n",
       "0     15.3  396.90   4.98  \n",
       "1     17.8  396.90   9.14  \n",
       "2     17.8  392.83   4.03  \n",
       "3     18.7  394.63   2.94  \n",
       "4     18.7  396.90   5.33  "
      ]
     },
     "execution_count": 66,
     "metadata": {},
     "output_type": "execute_result"
    }
   ],
   "source": [
    "boston_df.head()"
   ]
  },
  {
   "cell_type": "code",
   "execution_count": 67,
   "id": "eb3e7a8f",
   "metadata": {},
   "outputs": [
    {
     "data": {
      "text/html": [
       "<div>\n",
       "<style scoped>\n",
       "    .dataframe tbody tr th:only-of-type {\n",
       "        vertical-align: middle;\n",
       "    }\n",
       "\n",
       "    .dataframe tbody tr th {\n",
       "        vertical-align: top;\n",
       "    }\n",
       "\n",
       "    .dataframe thead th {\n",
       "        text-align: right;\n",
       "    }\n",
       "</style>\n",
       "<table border=\"1\" class=\"dataframe\">\n",
       "  <thead>\n",
       "    <tr style=\"text-align: right;\">\n",
       "      <th></th>\n",
       "      <th>CRIM</th>\n",
       "      <th>ZN</th>\n",
       "      <th>INDUS</th>\n",
       "      <th>CHAS</th>\n",
       "      <th>NOX</th>\n",
       "      <th>RM</th>\n",
       "      <th>AGE</th>\n",
       "      <th>DIS</th>\n",
       "      <th>RAD</th>\n",
       "      <th>TAX</th>\n",
       "      <th>PTRATIO</th>\n",
       "      <th>B</th>\n",
       "      <th>LSTAT</th>\n",
       "      <th>PRICE</th>\n",
       "    </tr>\n",
       "  </thead>\n",
       "  <tbody>\n",
       "    <tr>\n",
       "      <th>0</th>\n",
       "      <td>0.00632</td>\n",
       "      <td>18.0</td>\n",
       "      <td>2.31</td>\n",
       "      <td>0.0</td>\n",
       "      <td>0.538</td>\n",
       "      <td>6.575</td>\n",
       "      <td>65.2</td>\n",
       "      <td>4.0900</td>\n",
       "      <td>1.0</td>\n",
       "      <td>296.0</td>\n",
       "      <td>15.3</td>\n",
       "      <td>396.90</td>\n",
       "      <td>4.98</td>\n",
       "      <td>24.0</td>\n",
       "    </tr>\n",
       "    <tr>\n",
       "      <th>1</th>\n",
       "      <td>0.02731</td>\n",
       "      <td>0.0</td>\n",
       "      <td>7.07</td>\n",
       "      <td>0.0</td>\n",
       "      <td>0.469</td>\n",
       "      <td>6.421</td>\n",
       "      <td>78.9</td>\n",
       "      <td>4.9671</td>\n",
       "      <td>2.0</td>\n",
       "      <td>242.0</td>\n",
       "      <td>17.8</td>\n",
       "      <td>396.90</td>\n",
       "      <td>9.14</td>\n",
       "      <td>21.6</td>\n",
       "    </tr>\n",
       "    <tr>\n",
       "      <th>2</th>\n",
       "      <td>0.02729</td>\n",
       "      <td>0.0</td>\n",
       "      <td>7.07</td>\n",
       "      <td>0.0</td>\n",
       "      <td>0.469</td>\n",
       "      <td>7.185</td>\n",
       "      <td>61.1</td>\n",
       "      <td>4.9671</td>\n",
       "      <td>2.0</td>\n",
       "      <td>242.0</td>\n",
       "      <td>17.8</td>\n",
       "      <td>392.83</td>\n",
       "      <td>4.03</td>\n",
       "      <td>34.7</td>\n",
       "    </tr>\n",
       "    <tr>\n",
       "      <th>3</th>\n",
       "      <td>0.03237</td>\n",
       "      <td>0.0</td>\n",
       "      <td>2.18</td>\n",
       "      <td>0.0</td>\n",
       "      <td>0.458</td>\n",
       "      <td>6.998</td>\n",
       "      <td>45.8</td>\n",
       "      <td>6.0622</td>\n",
       "      <td>3.0</td>\n",
       "      <td>222.0</td>\n",
       "      <td>18.7</td>\n",
       "      <td>394.63</td>\n",
       "      <td>2.94</td>\n",
       "      <td>33.4</td>\n",
       "    </tr>\n",
       "    <tr>\n",
       "      <th>4</th>\n",
       "      <td>0.06905</td>\n",
       "      <td>0.0</td>\n",
       "      <td>2.18</td>\n",
       "      <td>0.0</td>\n",
       "      <td>0.458</td>\n",
       "      <td>7.147</td>\n",
       "      <td>54.2</td>\n",
       "      <td>6.0622</td>\n",
       "      <td>3.0</td>\n",
       "      <td>222.0</td>\n",
       "      <td>18.7</td>\n",
       "      <td>396.90</td>\n",
       "      <td>5.33</td>\n",
       "      <td>36.2</td>\n",
       "    </tr>\n",
       "  </tbody>\n",
       "</table>\n",
       "</div>"
      ],
      "text/plain": [
       "      CRIM    ZN  INDUS  CHAS    NOX     RM   AGE     DIS  RAD    TAX  \\\n",
       "0  0.00632  18.0   2.31   0.0  0.538  6.575  65.2  4.0900  1.0  296.0   \n",
       "1  0.02731   0.0   7.07   0.0  0.469  6.421  78.9  4.9671  2.0  242.0   \n",
       "2  0.02729   0.0   7.07   0.0  0.469  7.185  61.1  4.9671  2.0  242.0   \n",
       "3  0.03237   0.0   2.18   0.0  0.458  6.998  45.8  6.0622  3.0  222.0   \n",
       "4  0.06905   0.0   2.18   0.0  0.458  7.147  54.2  6.0622  3.0  222.0   \n",
       "\n",
       "   PTRATIO       B  LSTAT  PRICE  \n",
       "0     15.3  396.90   4.98   24.0  \n",
       "1     17.8  396.90   9.14   21.6  \n",
       "2     17.8  392.83   4.03   34.7  \n",
       "3     18.7  394.63   2.94   33.4  \n",
       "4     18.7  396.90   5.33   36.2  "
      ]
     },
     "execution_count": 67,
     "metadata": {},
     "output_type": "execute_result"
    }
   ],
   "source": [
    "boston_df[\"PRICE\"] = boston.target\n",
    "boston_df.head()"
   ]
  },
  {
   "cell_type": "code",
   "execution_count": 68,
   "id": "b92accde",
   "metadata": {},
   "outputs": [
    {
     "data": {
      "text/plain": [
       "(506, 14)"
      ]
     },
     "execution_count": 68,
     "metadata": {},
     "output_type": "execute_result"
    }
   ],
   "source": [
    "boston_df.shape"
   ]
  },
  {
   "cell_type": "code",
   "execution_count": 69,
   "id": "aae11e47",
   "metadata": {},
   "outputs": [
    {
     "data": {
      "image/png": "[encoded data removed]",
      "text/plain": [
       "<Figure size 1152x576 with 8 Axes>"
      ]
     },
     "metadata": {
      "needs_background": "light"
     },
     "output_type": "display_data"
    }
   ],
   "source": [
    "fig, axs = plt.subplots(figsize=(16, 8), ncols=4, nrows=2)\n",
    "lm_features = [\"RM\", \"ZN\", \"INDUS\", \"NOX\", \"AGE\", \"PTRATIO\", \"LSTAT\", \"RAD\"]\n",
    "colors = plt.rcParams[\"axes.prop_cycle\"]()\n",
    "\n",
    "for i, feature in enumerate(lm_features):\n",
    "    row = int(i / 4)\n",
    "    col = i % 4\n",
    "    \n",
    "    c = next(colors)[\"color\"]\n",
    "    sns.regplot(x=feature, y=\"PRICE\", data=boston_df, ax=axs[row][col], color=c)"
   ]
  },
  {
   "cell_type": "code",
   "execution_count": 70,
   "id": "23267c26",
   "metadata": {},
   "outputs": [
    {
     "name": "stdout",
     "output_type": "stream",
     "text": [
      "MSE : 24.291, RMSE : 4.929\n",
      "Variance score : 0.669\n"
     ]
    }
   ],
   "source": [
    "from sklearn.model_selection import train_test_split\n",
    "from sklearn.linear_model import LinearRegression\n",
    "from sklearn.metrics import mean_squared_error, r2_score\n",
    "\n",
    "y_target = boston_df[\"PRICE\"]\n",
    "X_data = boston_df.drop([\"PRICE\"], axis=1)\n",
    "\n",
    "X_train, X_test, y_train, y_test  = train_test_split(X_data, y_target, test_size=0.2, random_state=42)\n",
    "\n",
    "lr = LinearRegression()\n",
    "lr.fit(X_train, y_train)\n",
    "y_preds = lr.predict(X_test)\n",
    "mse = mean_squared_error(y_test, y_preds)\n",
    "rmse = np.sqrt(mse)\n",
    "\n",
    "print(\"MSE : {:.3f}, RMSE : {:.3f}\".format(mse, rmse))\n",
    "print(\"Variance score : {:.3f}\".format(r2_score(y_test, y_preds)))"
   ]
  },
  {
   "cell_type": "code",
   "execution_count": 71,
   "id": "309e60d6",
   "metadata": {},
   "outputs": [
    {
     "data": {
      "text/plain": [
       "array([ -0.1,   0. ,   0. ,   2.8, -17.2,   4.4,  -0. ,  -1.4,   0.3,\n",
       "        -0. ,  -0.9,   0. ,  -0.5])"
      ]
     },
     "execution_count": 71,
     "metadata": {},
     "output_type": "execute_result"
    }
   ],
   "source": [
    "np.round(lr.coef_, 1)"
   ]
  },
  {
   "cell_type": "code",
   "execution_count": 72,
   "id": "ce265299",
   "metadata": {},
   "outputs": [
    {
     "data": {
      "text/plain": [
       "30.24675099392408"
      ]
     },
     "execution_count": 72,
     "metadata": {},
     "output_type": "execute_result"
    }
   ],
   "source": [
    "lr.intercept_"
   ]
  },
  {
   "cell_type": "code",
   "execution_count": 73,
   "id": "44fe0422",
   "metadata": {},
   "outputs": [
    {
     "data": {
      "text/plain": [
       "RM          4.4\n",
       "CHAS        2.8\n",
       "RAD         0.3\n",
       "ZN          0.0\n",
       "INDUS       0.0\n",
       "AGE        -0.0\n",
       "TAX        -0.0\n",
       "B           0.0\n",
       "CRIM       -0.1\n",
       "LSTAT      -0.5\n",
       "PTRATIO    -0.9\n",
       "DIS        -1.4\n",
       "NOX       -17.2\n",
       "dtype: float64"
      ]
     },
     "execution_count": 73,
     "metadata": {},
     "output_type": "execute_result"
    }
   ],
   "source": [
    "coeff = pd.Series(data=np.round(lr.coef_, 1), index=X_data.columns)\n",
    "coeff.sort_values(ascending=False)"
   ]
  },
  {
   "cell_type": "code",
   "execution_count": 74,
   "id": "b6ab0561",
   "metadata": {},
   "outputs": [
    {
     "name": "stdout",
     "output_type": "stream",
     "text": [
      "[[0 1]\n",
      " [2 3]]\n",
      "[[1. 0. 1. 0. 0. 1.]\n",
      " [1. 2. 3. 4. 6. 9.]]\n"
     ]
    }
   ],
   "source": [
    "from sklearn.preprocessing import PolynomialFeatures\n",
    "\n",
    "import numpy as np\n",
    "\n",
    "X = np.arange(4).reshape(2, 2)\n",
    "print(X)\n",
    "\n",
    "poly = PolynomialFeatures(degree=2)\n",
    "poly.fit(X)\n",
    "poly_ftr = poly.transform(X)\n",
    "print(poly_ftr)"
   ]
  },
  {
   "cell_type": "code",
   "execution_count": 75,
   "id": "2c9d5695",
   "metadata": {},
   "outputs": [
    {
     "data": {
      "image/png": "[encoded data removed]",
      "text/plain": [
       "<Figure size 432x288 with 1 Axes>"
      ]
     },
     "metadata": {
      "needs_background": "light"
     },
     "output_type": "display_data"
    }
   ],
   "source": [
    "def true_func(X):\n",
    "    return np.cos(1.5 * np.pi *X)\n",
    "\n",
    "np.random.seed(0)\n",
    "n_samples = 30\n",
    "X = np.sort(np.random.rand(n_samples))\n",
    "y = true_func(X) + np.random.randn(n_samples) * 0.1\n",
    "\n",
    "plt.scatter(X, y);"
   ]
  },
  {
   "cell_type": "code",
   "execution_count": 76,
   "id": "02375ce5",
   "metadata": {},
   "outputs": [
    {
     "data": {
      "text/plain": [
       "(30,)"
      ]
     },
     "execution_count": 76,
     "metadata": {},
     "output_type": "execute_result"
    }
   ],
   "source": [
    "X.shape"
   ]
  },
  {
   "cell_type": "code",
   "execution_count": 77,
   "id": "44de9611",
   "metadata": {},
   "outputs": [
    {
     "data": {
      "image/png": "[encoded data removed]",
      "text/plain": [
       "<Figure size 1008x360 with 3 Axes>"
      ]
     },
     "metadata": {},
     "output_type": "display_data"
    }
   ],
   "source": [
    "from sklearn.pipeline import Pipeline\n",
    "\n",
    "plt.figure(figsize=(14,5))\n",
    "degrees = [1, 4, 15]\n",
    "\n",
    "for i in range(len(degrees)):\n",
    "    ax = plt.subplot(1, len(degrees), i + 1)\n",
    "    plt.setp(ax, xticks=(), yticks=())\n",
    "    \n",
    "    polynomial_features = PolynomialFeatures(degree=degrees[i], include_bias=False)\n",
    "    linear_regression = LinearRegression()\n",
    "    pipeline = Pipeline([(\"polynomial_features\", polynomial_features),\n",
    "                         (\"linear_regression\", linear_regression)])\n",
    "    pipeline.fit(X.reshape(-1, 1), y)\n",
    "    \n",
    "    X_test = np.linspace(0, 1, 100)\n",
    "    plt.plot(X_test, pipeline.predict(X_test[:, np.newaxis]), label=\"Model\")\n",
    "    plt.plot(X_test, true_func(X_test), \"--\", label=\"True fucntion\")\n",
    "    plt.scatter(X, y, edgecolors=\"b\", s=20, label=\"Samples\")\n",
    "    \n",
    "    plt.xlim((0, 1))\n",
    "    plt.ylim((-2, 2))\n",
    "    plt.legend(loc=\"best\")"
   ]
  },
  {
   "cell_type": "code",
   "execution_count": 78,
   "id": "1555261f",
   "metadata": {},
   "outputs": [
    {
     "data": {
      "text/plain": [
       "(30, 1)"
      ]
     },
     "execution_count": 78,
     "metadata": {},
     "output_type": "execute_result"
    }
   ],
   "source": [
    "X.reshape(-1, 1).shape"
   ]
  },
  {
   "cell_type": "code",
   "execution_count": 79,
   "id": "42d3584c",
   "metadata": {},
   "outputs": [
    {
     "data": {
      "text/plain": [
       "(100,)"
      ]
     },
     "execution_count": 79,
     "metadata": {},
     "output_type": "execute_result"
    }
   ],
   "source": [
    "X_test = np.linspace(0, 1, 100)\n",
    "X_test.shape"
   ]
  },
  {
   "cell_type": "code",
   "execution_count": 80,
   "id": "6864164f",
   "metadata": {},
   "outputs": [
    {
     "data": {
      "text/plain": [
       "(100, 1)"
      ]
     },
     "execution_count": 80,
     "metadata": {},
     "output_type": "execute_result"
    }
   ],
   "source": [
    "new_X_test = X_test[:, np.newaxis]\n",
    "new_X_test.shape"
   ]
  },
  {
   "cell_type": "code",
   "execution_count": 81,
   "id": "ab2855fb",
   "metadata": {},
   "outputs": [
    {
     "name": "stdout",
     "output_type": "stream",
     "text": [
      "[[0 1]\n",
      " [2 3]]\n",
      "[  5 125]\n",
      "[[ 1.  0.  1.  0.  0.  1.  0.  0.  0.  1.]\n",
      " [ 1.  2.  3.  4.  6.  9.  8. 12. 18. 27.]]\n"
     ]
    },
    {
     "data": {
      "text/plain": [
       "LinearRegression()"
      ]
     },
     "execution_count": 81,
     "metadata": {},
     "output_type": "execute_result"
    }
   ],
   "source": [
    "def poly_fucn(X):\n",
    "    y = 1 + 2*X[:,0] + 3*X[:,0]**2 + 4*X[:,1]**3\n",
    "    return y\n",
    "    \n",
    "X = np.arange(4).reshape(2, 2)\n",
    "y = poly_fucn(X)\n",
    "\n",
    "print(X)\n",
    "print(y)\n",
    "\n",
    "poly = PolynomialFeatures(degree=3)\n",
    "poly.fit(X)\n",
    "poly_ftr = poly.transform(X)\n",
    "print(poly_ftr)\n",
    "\n",
    "model = LinearRegression()\n",
    "model.fit(poly_ftr, y)"
   ]
  },
  {
   "cell_type": "code",
   "execution_count": 82,
   "id": "026063ef",
   "metadata": {},
   "outputs": [
    {
     "data": {
      "text/plain": [
       "Pipeline(steps=[('poly', PolynomialFeatures(degree=3)),\n",
       "                ('linear', LinearRegression())])"
      ]
     },
     "execution_count": 82,
     "metadata": {},
     "output_type": "execute_result"
    }
   ],
   "source": [
    "model = Pipeline([('poly', PolynomialFeatures(degree=3)), \n",
    "                  ('linear', LinearRegression())])\n",
    "model.fit(X, y)"
   ]
  },
  {
   "cell_type": "code",
   "execution_count": null,
   "id": "5f10a4ec",
   "metadata": {},
   "outputs": [],
   "source": []
  }
 ],
 "metadata": {
  "kernelspec": {
   "display_name": "Python 3 (ipykernel)",
   "language": "python",
   "name": "python3"
  },
  "language_info": {
   "codemirror_mode": {
    "name": "ipython",
    "version": 3
   },
   "file_extension": ".py",
   "mimetype": "text/x-python",
   "name": "python",
   "nbconvert_exporter": "python",
   "pygments_lexer": "ipython3",
   "version": "3.9.7"
  }
 },
 "nbformat": 4,
 "nbformat_minor": 5
}
