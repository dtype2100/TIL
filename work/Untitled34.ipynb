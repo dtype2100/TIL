{
 "cells": [
  {
   "cell_type": "code",
   "execution_count": 56,
   "id": "c1627641",
   "metadata": {},
   "outputs": [],
   "source": [
    "import requests\n",
    "from bs4 import BeautifulSoup"
   ]
  },
  {
   "cell_type": "code",
   "execution_count": 72,
   "id": "ef1be3bd",
   "metadata": {},
   "outputs": [],
   "source": [
    "URL = \"https://scrapying-study.firebaseapp.com/03/\"\n",
    "response = requests.get(URL)\n",
    "html = BeautifulSoup(response.text, \"html.parser\")\n",
    "lis = html.select(\"#popularItemList > li\")"
   ]
  },
  {
   "cell_type": "code",
   "execution_count": 132,
   "id": "1c47eb45",
   "metadata": {},
   "outputs": [
    {
     "name": "stdout",
     "output_type": "stream",
     "text": [
      "[['써니전자', '5,000'], ['삼성전자', '55,200'], ['안랩', '81,000'], ['케이엠더블..', '57,300'], ['피피아이', '12,600'], ['KT&G', '92,500'], ['삼성전자우', '45,600'], ['대양금속', '10,550'], ['SK하이닉스', '94,700'], ['SK텔레콤', '234,000']]\n"
     ]
    }
   ],
   "source": [
    "total = []\n",
    "for li in lis:\n",
    "    temp = []\n",
    "    temp.append(li.select_one(\"a\").text)\n",
    "    temp.append(li.select_one(\"span\").text)\n",
    "    total.append(temp)\n",
    "print(total)"
   ]
  },
  {
   "cell_type": "code",
   "execution_count": 133,
   "id": "b9ba1d0b",
   "metadata": {},
   "outputs": [],
   "source": [
    "URL = \"https://scrapying-study.firebaseapp.com/03/\"\n",
    "response = requests.get(URL)\n",
    "soup = BeautifulSoup(response.text, \"html.parser\")\n",
    "lis = soup.select(\"#popularItemList > li\")"
   ]
  },
  {
   "cell_type": "code",
   "execution_count": 134,
   "id": "d374e4a6",
   "metadata": {},
   "outputs": [
    {
     "name": "stdout",
     "output_type": "stream",
     "text": [
      "[['써니전자', '상한'], ['삼성전자', '하락'], ['안랩', '상승'], ['케이엠더블..', '상승'], ['피피아이', '상한'], ['KT&G', '하락'], ['삼성전자우', '상승'], ['대양금속', '하한'], ['SK하이닉스', '상승'], ['SK텔레콤', '하락']]\n"
     ]
    }
   ],
   "source": [
    "total = []\n",
    "for li in lis:\n",
    "    temp = []\n",
    "    temp.append(li.select_one(\"a\").text)\n",
    "    temp.append(li.select_one('img').attrs['alt'])\n",
    "    total.append(temp)\n",
    "print(total)"
   ]
  },
  {
   "cell_type": "code",
   "execution_count": 131,
   "id": "528983f3",
   "metadata": {},
   "outputs": [],
   "source": [
    "URL = \"https://scrapying-study.firebaseapp.com/03/\"\n",
    "response = requests.get(URL)\n",
    "soup = BeautifulSoup(response.text, \"html.parser\")\n",
    "lis = soup.select(\"#popularItemList > li\")"
   ]
  },
  {
   "cell_type": "code",
   "execution_count": 136,
   "id": "a169e11f",
   "metadata": {},
   "outputs": [
    {
     "name": "stdout",
     "output_type": "stream",
     "text": [
      "[['써니전자', '5,000'], ['삼성전자', '55,200'], ['안랩', '81,000'], ['케이엠더블..', '57,300'], ['피피아이', '12,600'], ['KT&G', '92,500'], ['삼성전자우', '45,600'], ['대양금속', '10,550'], ['SK하이닉스', '94,700'], ['SK텔레콤', '234,000']]\n"
     ]
    }
   ],
   "source": [
    "total = []\n",
    "for li in lis:\n",
    "    temp = []\n",
    "    temp.append(li.select_one(\"a\").text)\n",
    "    temp.append(li.select_one(\"span\").text)\n",
    "    total.append(temp)\n",
    "print(total)"
   ]
  },
  {
   "cell_type": "code",
   "execution_count": 193,
   "id": "bac2e09d",
   "metadata": {},
   "outputs": [],
   "source": [
    "URL = \"https://scrapying-study.firebaseapp.com/03/\"\n",
    "response = requests.get(URL)\n",
    "soup = BeautifulSoup(response.text, \"html.parser\")\n",
    "lis = soup.select(\".sale_list > li\")"
   ]
  },
  {
   "cell_type": "code",
   "execution_count": 210,
   "id": "b46c655d",
   "metadata": {},
   "outputs": [
    {
     "ename": "KeyError",
     "evalue": "'alt'",
     "output_type": "error",
     "traceback": [
      "\u001b[1;31m---------------------------------------------------------------------------\u001b[0m",
      "\u001b[1;31mKeyError\u001b[0m                                  Traceback (most recent call last)",
      "\u001b[1;32m~\\AppData\\Local\\Temp/ipykernel_26752/3275443819.py\u001b[0m in \u001b[0;36m<module>\u001b[1;34m\u001b[0m\n\u001b[0;32m      3\u001b[0m     \u001b[0mtemp\u001b[0m \u001b[1;33m=\u001b[0m \u001b[1;33m[\u001b[0m\u001b[1;33m]\u001b[0m\u001b[1;33m\u001b[0m\u001b[1;33m\u001b[0m\u001b[0m\n\u001b[0;32m      4\u001b[0m     \u001b[0mtemp\u001b[0m\u001b[1;33m.\u001b[0m\u001b[0mappend\u001b[0m\u001b[1;33m(\u001b[0m\u001b[0mli\u001b[0m\u001b[1;33m.\u001b[0m\u001b[0mselect_one\u001b[0m\u001b[1;33m(\u001b[0m\u001b[1;34m\"a\"\u001b[0m\u001b[1;33m)\u001b[0m\u001b[1;33m.\u001b[0m\u001b[0mtext\u001b[0m\u001b[1;33m)\u001b[0m\u001b[1;33m\u001b[0m\u001b[1;33m\u001b[0m\u001b[0m\n\u001b[1;32m----> 5\u001b[1;33m     \u001b[0mtemp\u001b[0m\u001b[1;33m.\u001b[0m\u001b[0mappend\u001b[0m\u001b[1;33m(\u001b[0m\u001b[0mli\u001b[0m\u001b[1;33m.\u001b[0m\u001b[0mselect_one\u001b[0m\u001b[1;33m(\u001b[0m\u001b[1;34m\"span\"\u001b[0m\u001b[1;33m)\u001b[0m\u001b[1;33m.\u001b[0m\u001b[0mattrs\u001b[0m\u001b[1;33m[\u001b[0m\u001b[1;34m'alt'\u001b[0m\u001b[1;33m]\u001b[0m\u001b[1;33m)\u001b[0m\u001b[1;33m\u001b[0m\u001b[1;33m\u001b[0m\u001b[0m\n\u001b[0m\u001b[0;32m      6\u001b[0m     \u001b[0mtotal\u001b[0m\u001b[1;33m.\u001b[0m\u001b[0mappend\u001b[0m\u001b[1;33m(\u001b[0m\u001b[0mtemp\u001b[0m\u001b[1;33m)\u001b[0m\u001b[1;33m\u001b[0m\u001b[1;33m\u001b[0m\u001b[0m\n\u001b[0;32m      7\u001b[0m \u001b[0mprint\u001b[0m\u001b[1;33m(\u001b[0m\u001b[0mtotal\u001b[0m\u001b[1;33m)\u001b[0m\u001b[1;33m\u001b[0m\u001b[1;33m\u001b[0m\u001b[0m\n",
      "\u001b[1;31mKeyError\u001b[0m: 'alt'"
     ]
    }
   ],
   "source": [
    "total = []\n",
    "for li in lis:\n",
    "    temp = []\n",
    "    temp.append(li.select_one(\"a\").text)\n",
    "    temp.append(li.select_one(\"span\").attrs['alt'])\n",
    "    total.append(temp)\n",
    "print(total)"
   ]
  },
  {
   "cell_type": "code",
   "execution_count": 211,
   "id": "6d477a72",
   "metadata": {},
   "outputs": [
    {
     "name": "stdout",
     "output_type": "stream",
     "text": [
      "[['H하우스장위', '보증금', '16,000 만원', '유형', '아파트|일반민간임대', '규모/면적', '분양 134세대|45㎡~65㎡'], ['고덕리엔파크2단지 장기전세', '보증금', '38,400 만원', '유형', '아파트|장기전세주택', '규모/면적', '분양 1세대|149㎡'], ['신정이펜하우스3단지 장기전세', '보증금', '39,040 만원', '유형', '아파트|장기전세주택', '규모/면적', '분양 1세대|148㎡'], ['천왕이펜하우스2단지 장기전세', '보증금', '38,240 만원', '유형', '아파트|장기전세주택', '규모/면적', '분양 1세대|142㎡'], ['송파파크데일2단지 장기전세', '보증금', '45,600 만원', '유형', '아파트|장기전세주택', '규모/면적', '분양 1세대|150㎡']]\n"
     ]
    }
   ],
   "source": [
    "total = []\n",
    "for li in lis:\n",
    "    temp = []\n",
    "    temp.append(li.select_one(\"a\").text)\n",
    "    for idx in range(3):\n",
    "        temp.append(li.select(\"dt\")[idx].text)\n",
    "        temp.append(li.select(\"dd\")[idx].text)\n",
    "    total.append(temp)\n",
    "print(total)"
   ]
  },
  {
   "cell_type": "code",
   "execution_count": 212,
   "id": "8a9e5034",
   "metadata": {},
   "outputs": [
    {
     "name": "stdout",
     "output_type": "stream",
     "text": [
      "1 스파이더맨: 노 웨이 홈\n",
      "2 매트릭스: 리저렉션\n",
      "3 킹스맨: 퍼스트 에이전트\n",
      "4 돈 룩 업\n",
      "5 드라이브 마이 카\n",
      "6 유체이탈자\n",
      "7 엔칸토: 마법의 세계\n",
      "8 레지던트 이블: 라쿤시티\n",
      "9 해피 뉴 이어\n",
      "10 너에게 가는 길\n",
      "11 연애 빠진 로맨스\n",
      "12 램\n",
      "13 경관의 피\n",
      "14 해피 아워\n",
      "15 신데렐라 2: 마법에 걸린 왕자\n",
      "16 간호중\n",
      "17 라임크라임\n",
      "18 티탄\n",
      "19 타이거마스크\n",
      "20 하나 그리고 둘\n",
      "21 기적\n",
      "22 메모리: 조작살인\n",
      "23 모가디슈\n",
      "24 닥터 스트레인지: 대혼돈의 멀티버스\n",
      "25 매트릭스\n",
      "26 특송\n",
      "27 여타짜\n",
      "28 씽2게더\n",
      "29 프렌치 디스패치\n",
      "30 이터널스\n",
      "31 듄\n",
      "32 코다\n",
      "33 나 홀로 집에\n",
      "34 러브 액츄얼리\n",
      "35 베놈 2: 렛 데어 비 카니지\n",
      "36 해적: 도깨비 깃발\n",
      "37 장르만 로맨스\n",
      "38 스파이더맨: 파 프롬 홈\n",
      "39 끝없음에 관하여\n",
      "40 피부를 판 남자\n",
      "41 노웨어 스페셜\n",
      "42 창애: 짐승 잡는 덫\n",
      "43 필로포비아\n",
      "44 기억의 시간\n",
      "45 하우스 오브 구찌\n",
      "46 블랙 위도우\n",
      "47 카페 뤼미에르\n",
      "48 마이 뉴욕 다이어리\n",
      "49 태일이\n",
      "50 웨스트 사이드 스토리\n"
     ]
    }
   ],
   "source": [
    "import requests\n",
    "from bs4 import BeautifulSoup\n",
    "URL = 'https://movie.naver.com/movie/sdb/rank/rmovie.nhn'\n",
    "response = requests.get(URL)\n",
    "soup = BeautifulSoup(response.text, \"html.parser\")\n",
    "result = soup.select(\".list_ranking tr > td.title a\")\n",
    "for i, v in enumerate(result):\n",
    " print(i+1, v.text)\n"
   ]
  },
  {
   "cell_type": "code",
   "execution_count": 230,
   "id": "792d393e",
   "metadata": {},
   "outputs": [],
   "source": [
    "import requests\n",
    "from bs4 import BeautifulSoup\n",
    "URL = \"https://weather.com/ko-KR/weather/monthly/l/b757e0078b0b1350973ea8930d24ef111c7b8457939f4e2046fc8bbe48119f17\"\n",
    "response = requests.get(URL)\n",
    "soup = BeautifulSoup(response.text, \"html.parser\")\n",
    "result = soup.select(\".title\")"
   ]
  },
  {
   "cell_type": "code",
   "execution_count": 235,
   "id": "fbbc6f70",
   "metadata": {},
   "outputs": [
    {
     "data": {
      "text/plain": [
       "'28'"
      ]
     },
     "execution_count": 235,
     "metadata": {},
     "output_type": "execute_result"
    }
   ],
   "source": [
    "URL = 'https://weather.com/ko-KR/weather/monthly/l/b757e0078b0b1350973ea8930d24ef111c7b8457939f4e2046fc8bbe48119f17'\n",
    "response = requests.get(URL)\n",
    "html = BeautifulSoup(response.text, 'html.parser')\n",
    "date = html.select('.Calendar--gridWrapper--1oa1f button')\n",
    "date[0].select('.CalendarDateCell--date--3Fw3h')[0].text"
   ]
  },
  {
   "cell_type": "code",
   "execution_count": 236,
   "id": "0a877b9e",
   "metadata": {},
   "outputs": [],
   "source": [
    "tempHigh = html.select('.CalendarDateCell--tempHigh--2VBba')\n",
    "tempHigh = html.select('.CalendarDateCell--tempLow--2Cs14')"
   ]
  },
  {
   "cell_type": "code",
   "execution_count": 237,
   "id": "14dece90",
   "metadata": {},
   "outputs": [
    {
     "data": {
      "text/plain": [
       "[{'이름': 'H하우스장위',\n",
       "  '분양가': '16000',\n",
       "  '유형': '아파트|일반민간임대',\n",
       "  '분양유형': '|',\n",
       "  '세대수': '분양 134세대|45㎡~65㎡',\n",
       "  '평형': '|'},\n",
       " {'이름': '고덕리엔파크2단지 장기전세',\n",
       "  '분양가': '38400',\n",
       "  '유형': '아파트|장기전세주택',\n",
       "  '분양유형': '|',\n",
       "  '세대수': '분양 1세대|149㎡',\n",
       "  '평형': '|'},\n",
       " {'이름': '신정이펜하우스3단지 장기전세',\n",
       "  '분양가': '39040',\n",
       "  '유형': '아파트|장기전세주택',\n",
       "  '분양유형': '|',\n",
       "  '세대수': '분양 1세대|148㎡',\n",
       "  '평형': '|'},\n",
       " {'이름': '천왕이펜하우스2단지 장기전세',\n",
       "  '분양가': '38240',\n",
       "  '유형': '아파트|장기전세주택',\n",
       "  '분양유형': '|',\n",
       "  '세대수': '분양 1세대|142㎡',\n",
       "  '평형': '|'},\n",
       " {'이름': '송파파크데일2단지 장기전세',\n",
       "  '분양가': '45600',\n",
       "  '유형': '아파트|장기전세주택',\n",
       "  '분양유형': '|',\n",
       "  '세대수': '분양 1세대|150㎡',\n",
       "  '평형': '|'}]"
      ]
     },
     "execution_count": 237,
     "metadata": {},
     "output_type": "execute_result"
    }
   ],
   "source": [
    "URL = \"https://scrapying-study.firebaseapp.com/03/\"\n",
    "response=requests.get(URL)\n",
    "html=BeautifulSoup(response.text,\"html.parser\")\n",
    "user = []\n",
    "lis= html.select(\"div.sale_box\")\n",
    "\n",
    "for div in lis:\n",
    "    temp = {}\n",
    "    temp[\"이름\"] = div.select_one(\"a\").text\n",
    "    temp[\"분양가\"] = div.select(\"dd\")[0].select_one(\"strong\").text.replace(\",\",\"\")\n",
    "    temp[\"유형\"] = div.select(\"dd\")[1].text\n",
    "    temp[\"분양유형\"] = div.select(\"dd\")[1].select_one(\"span\").text\n",
    "    temp[\"세대수\"] = div.select(\"dd\")[2].text\n",
    "    temp[\"평형\"] = div.select(\"dd\")[2].select_one(\"span\").text    \n",
    "    user.append(temp)\n",
    "user\n"
   ]
  },
  {
   "cell_type": "code",
   "execution_count": 241,
   "id": "536fe20c",
   "metadata": {},
   "outputs": [],
   "source": [
    "URL = 'https://weather.com/ko-KR/weather/monthly/l/b757e0078b0b1350973ea8930d24ef111c7b8457939f4e2046fc8bbe48119f17'\n",
    "response = requests.get(URL)\n",
    "html = BeautifulSoup(response.text, 'html.parser')\n",
    "date = html.select('.Calendar--gridWrapper--1oa1f button')\n",
    "date[0].select('.CalendarDateCell--date--3Fw3h')[0].text\n",
    "tempHigh = html.select('.CalendarDateCell--tempHigh--2VBba')\n",
    "tempHigh = html.select('.CalendarDateCell--tempLow--2Cs14')"
   ]
  },
  {
   "cell_type": "code",
   "execution_count": 244,
   "id": "7a16c79e",
   "metadata": {},
   "outputs": [
    {
     "name": "stdout",
     "output_type": "stream",
     "text": [
      "\n"
     ]
    }
   ],
   "source": [
    "print()"
   ]
  },
  {
   "cell_type": "code",
   "execution_count": 245,
   "id": "2c4d2d8f",
   "metadata": {},
   "outputs": [
    {
     "data": {
      "text/plain": [
       "35"
      ]
     },
     "execution_count": 245,
     "metadata": {},
     "output_type": "execute_result"
    }
   ],
   "source": [
    "URL = 'https://weather.com/ko-KR/weather/monthly/l/b757e0078b0b1350973ea8930d24ef111c7b8457939f4e2046fc8bbe48119f17'\n",
    "response = requests.get(URL)\n",
    "html = BeautifulSoup(response.text, 'html.parser')\n",
    "btns = html.select('.Calendar--gridWrapper--1oa1f > button')\n",
    "len(btns)"
   ]
  },
  {
   "cell_type": "code",
   "execution_count": 253,
   "id": "5d48b358",
   "metadata": {},
   "outputs": [
    {
     "name": "stdout",
     "output_type": "stream",
     "text": [
      "날짜 30\n",
      "최고기온 8°\n",
      "최저기온 -2°\n",
      "날짜 1\n",
      "최고기온 1°\n",
      "최저기온 -7°\n",
      "날짜 2\n",
      "최고기온 6°\n",
      "최저기온 1°\n",
      "날짜 3\n",
      "최고기온 4°\n",
      "최저기온 -5°\n",
      "날짜 4\n",
      "최고기온 7°\n",
      "최저기온 -5°\n",
      "날짜 5\n",
      "최고기온 10°\n",
      "최저기온 -4°\n",
      "날짜 6\n",
      "최고기온 12°\n",
      "최저기온 0°\n",
      "날짜 7\n",
      "최고기온 13°\n",
      "최저기온 -1°\n",
      "날짜 8\n",
      "최고기온 13°\n",
      "최저기온 -1°\n",
      "날짜 9\n",
      "최고기온 10°\n",
      "최저기온 2°\n",
      "날짜 10\n",
      "최고기온 8°\n",
      "최저기온 1°\n",
      "날짜 11\n",
      "최고기온 9°\n",
      "최저기온 -1°\n",
      "날짜 12\n",
      "최고기온 5°\n",
      "최저기온 -7°\n",
      "날짜 13\n",
      "최고기온 2°\n",
      "최저기온 -3°\n",
      "날짜 14\n",
      "최고기온 9°\n",
      "최저기온 4°\n",
      "날짜 15\n",
      "최고기온 11°\n",
      "최저기온 0°\n",
      "날짜 16\n",
      "최고기온 10°\n",
      "최저기온 -4°\n",
      "날짜 17\n",
      "최고기온 -2°\n",
      "최저기온 -12°\n",
      "날짜 18\n",
      "최고기온 -1°\n",
      "최저기온 -6°\n",
      "날짜 19\n",
      "최고기온 4°\n",
      "최저기온 -3°\n",
      "날짜 20\n",
      "최고기온 11°\n",
      "최저기온 0°\n",
      "날짜 21\n",
      "최고기온 9°\n",
      "최저기온 -5°\n",
      "날짜 22\n",
      "최고기온 8°\n",
      "최저기온 -6°\n",
      "날짜 23\n",
      "최고기온 9°\n",
      "최저기온 -1°\n",
      "날짜 24\n",
      "최고기온 3°\n",
      "최저기온 -12°\n",
      "날짜 25\n",
      "최고기온 -7°\n",
      "최저기온 -15°\n",
      "날짜 26\n",
      "최고기온 -6°\n",
      "최저기온 -15°\n",
      "날짜 27\n",
      "최고기온 -2°\n",
      "최저기온 -11°\n",
      "날짜 28\n",
      "최고기온 0°\n",
      "최저기온 -7°\n",
      "날짜 30\n",
      "최고기온 -1°\n",
      "최저기온 -12°\n",
      "날짜 31\n",
      "최고기온 -3°\n",
      "최저기온 -11°\n",
      "날짜 1\n",
      "최고기온 1°\n",
      "최저기온 -4°\n"
     ]
    }
   ],
   "source": [
    "titles = [\"날짜\", \"최고기온\", \"최저기온\"]\n",
    "\n",
    "for btn in btns:\n",
    "    spans = btn.select('span') \n",
    "    if spans[1].text != \"--\":\n",
    "        print(f\"날짜 {spans[0].text}\")\n",
    "        print(f\"최고기온 {spans[1].text}\")\n",
    "        print(f\"최저기온 {spans[2].text}\")"
   ]
  },
  {
   "cell_type": "code",
   "execution_count": null,
   "id": "c1e26c7c",
   "metadata": {},
   "outputs": [],
   "source": []
  }
 ],
 "metadata": {
  "kernelspec": {
   "display_name": "Python 3 (ipykernel)",
   "language": "python",
   "name": "python3"
  },
  "language_info": {
   "codemirror_mode": {
    "name": "ipython",
    "version": 3
   },
   "file_extension": ".py",
   "mimetype": "text/x-python",
   "name": "python",
   "nbconvert_exporter": "python",
   "pygments_lexer": "ipython3",
   "version": "3.9.7"
  }
 },
 "nbformat": 4,
 "nbformat_minor": 5
}
