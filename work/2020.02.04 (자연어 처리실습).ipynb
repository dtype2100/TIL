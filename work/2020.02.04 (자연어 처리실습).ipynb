{
 "cells": [
  {
   "cell_type": "code",
   "execution_count": 68,
   "id": "e6c264cb",
   "metadata": {},
   "outputs": [],
   "source": [
    "training_set = [[\"me free lottery\", 1], \n",
    "                [\"free get free you\", 1],\n",
    "                [\"you free scholarship\", 0],\n",
    "                [\"free to contact me\", 0],\n",
    "                [\"you won award\", 0],\n",
    "                [\"you ticket lottery\", 1]]"
   ]
  },
  {
   "cell_type": "code",
   "execution_count": 143,
   "id": "9832756f",
   "metadata": {},
   "outputs": [
    {
     "name": "stdout",
     "output_type": "stream",
     "text": [
      "[0, 0]\n"
     ]
    },
    {
     "data": {
      "text/plain": [
       "[0, 0]"
      ]
     },
     "execution_count": 143,
     "metadata": {},
     "output_type": "execute_result"
    }
   ],
   "source": [
    "wordfreq = defaultdict(lambda : [0, 0])\n",
    "# wordfreq = {}\n",
    "print(wordfreq[\"award\"])\n",
    "\n",
    "\n",
    "wordfreq2 = {}\n",
    "wordfreq2[\"award\"] = [0, 0]\n",
    "wordfreq2[\"award\"]"
   ]
  },
  {
   "cell_type": "code",
   "execution_count": 144,
   "id": "96325aa6",
   "metadata": {},
   "outputs": [
    {
     "name": "stdout",
     "output_type": "stream",
     "text": [
      "defaultdict(<function <lambda> at 0x000001AF4A093558>, {'me': [1, 1], 'free': [2, 3], 'lottery': [0, 2], 'get': [0, 1], 'you': [2, 2], 'scholarship': [1, 0], 'to': [1, 0], 'contact': [1, 0], 'won': [1, 0], 'award': [1, 0], 'ticket': [0, 1]})\n",
      "10\n",
      "10\n"
     ]
    }
   ],
   "source": [
    "#spam : 1, normal : 0\n",
    "#dict = {\"award\": [1, 0] ...\n",
    "#cnt_0 (normal)\n",
    "#cnt_1 (spam)\n",
    "\n",
    "\n",
    "from collections import defaultdict\n",
    "normal_cnt = 0\n",
    "spam_cnt = 0\n",
    "\n",
    "wordfreq = defaultdict(lambda : [0, 0])  #몇번 등장하는지 확인\n",
    "for doc, label in training_set:\n",
    "    words = doc.split() #문장 분리\n",
    "    for word in words: # word : me free lotery\n",
    "        wordfreq[word][label] += 1 #스팸 필터링 생성(다퐇트가 0이라 1생성) / 라벨에 1을 더해서 스팸확인\n",
    "        \n",
    "print(wordfreq)\n",
    "\n",
    "for key, (cnt0, cnt1) in wordfreq.items(): #전체값을 구하기 위해 더함(노말 / 스팸갯수)\n",
    "    normal_cnt += cnt0\n",
    "    spam_cnt += cnt1\n",
    "    \n",
    "print(normal_cnt)\n",
    "print(spam_cnt)"
   ]
  },
  {
   "cell_type": "code",
   "execution_count": 148,
   "id": "8105b5f4",
   "metadata": {},
   "outputs": [
    {
     "data": {
      "text/plain": [
       "defaultdict(<function __main__.<lambda>()>, {})"
      ]
     },
     "execution_count": 148,
     "metadata": {},
     "output_type": "execute_result"
    }
   ],
   "source": [
    "#wordprob = {\"award\": [0.1364, 0.0455], ...\n",
    "k = 0.5\n",
    "wordprob = defaultdict(lambda : [0, 0])\n",
    "\n",
    "for key, (cnt0, cnt1) in wordfreq.items():   # (cnt0, cnt1) = 'me': [1, 1]\n",
    "    wordfreq[key][0] = (k + cnt0) / (2*k + normal_cnt) #0으로 되는 것을 방지하기 위해 라플라스 스무딩\n",
    "    wordfreq[key][1] = (k + cnt1) / (2*k + spam_cnt)\n",
    "    \n",
    "wordprob"
   ]
  },
  {
   "cell_type": "code",
   "execution_count": 149,
   "id": "40548c26",
   "metadata": {},
   "outputs": [
    {
     "data": {
      "text/plain": [
       "defaultdict(<function __main__.<lambda>()>,\n",
       "            {'me': [0.050064886278259675, 0.050064886278259675],\n",
       "             'free': [0.05013318762379619, 0.05020148896933269],\n",
       "             'lottery': [0.04999658493272318, 0.05013318762379619],\n",
       "             'get': [0.04999658493272318, 0.050064886278259675],\n",
       "             'you': [0.05013318762379619, 0.05013318762379619],\n",
       "             'scholarship': [0.050064886278259675, 0.04999658493272318],\n",
       "             'to': [0.050064886278259675, 0.04999658493272318],\n",
       "             'contact': [0.050064886278259675, 0.04999658493272318],\n",
       "             'won': [0.050064886278259675, 0.04999658493272318],\n",
       "             'award': [0.050064886278259675, 0.04999658493272318],\n",
       "             'ticket': [0.04999658493272318, 0.050064886278259675]})"
      ]
     },
     "execution_count": 149,
     "metadata": {},
     "output_type": "execute_result"
    }
   ],
   "source": [
    "k = 0.5\n",
    "wordprob = defaultdict(lambda : [0, 0])\n",
    "\n",
    "for key, (cnt0, cnt1) in wordfreq.items():\n",
    "    wordprob[key][0] = (k + cnt0 ) / ( 2*k + normal_cnt)\n",
    "    wordprob[key][1] = (k + cnt1 ) / ( 2*k + spam_cnt)\n",
    "    \n",
    "wordprob\n"
   ]
  },
  {
   "cell_type": "code",
   "execution_count": 146,
   "id": "b761e16a",
   "metadata": {},
   "outputs": [
    {
     "name": "stdout",
     "output_type": "stream",
     "text": [
      "0.5\n",
      "0.5\n"
     ]
    }
   ],
   "source": [
    "import math\n",
    "\n",
    "doc = \"free lottery\"\n",
    "tokens = doc.split()\n",
    "\n",
    "log_prob0, log_prob1 = 0.0, 0.0\n",
    "\n",
    "for word, (prob0, prob1) in wordprob.items():\n",
    "    if word in tokens:\n",
    "        log_prob0 += math.log(prob0) #wordprob / Exp(Log(P(free | Normal)) + Log(P(lottery | Normal)) + Log(P(Normal)))\n",
    "        log_prob1 += math.log(prob1) #Exp(Log(P(free | Normal)) + Log(P(lottery | Normal)) + Log(P(Normal)))\n",
    "        \n",
    "log_prob0 += math.log(normal_cnt / (normal_cnt + spam_cnt)) #노말의 확률 / P노말\n",
    "log_prob1 += math.log(spam_cnt / (normal_cnt + spam_cnt)) #(normal_cnt + spam_cnt) 분모 P스팸\n",
    "\n",
    "prob0 = math.exp(log_prob0)\n",
    "prob1 = math.exp(log_prob1) #Exp((-1.1451) + (-1.4816) + (-0.6931) = Exp(-3.3199)\n",
    "#P(free | Normal) * P(lottery | Normal) * P(Normal)\n",
    "\n",
    "print(prob0)\n",
    "print(prob1)"
   ]
  },
  {
   "cell_type": "code",
   "execution_count": 150,
   "id": "7e26b90c",
   "metadata": {},
   "outputs": [
    {
     "name": "stdout",
     "output_type": "stream",
     "text": [
      "정상 확률 {:.1f}% 50.0\n",
      "스팸 확률 {:.1f}% 50.0\n"
     ]
    }
   ],
   "source": [
    "print(\"정상 확률 {:.1f}%\", (prob0 / (prob0 + prob1)) * 100)\n",
    "print(\"스팸 확률 {:.1f}%\", (prob1 / (prob0 + prob1)) * 100)"
   ]
  },
  {
   "cell_type": "code",
   "execution_count": null,
   "id": "de71007d",
   "metadata": {},
   "outputs": [],
   "source": []
  },
  {
   "cell_type": "code",
   "execution_count": null,
   "id": "bd2c340d",
   "metadata": {},
   "outputs": [],
   "source": [
    "#wordprob = {\"award\": [0.1364, 0.0455], ...\n",
    "\n",
    "#doc = \"free lottery\"\n",
    "#tokens\n",
    "            \n",
    "\n",
    "#import math\n",
    "#math.log, math.exp"
   ]
  },
  {
   "cell_type": "code",
   "execution_count": null,
   "id": "39c4ece7",
   "metadata": {},
   "outputs": [],
   "source": []
  }
 ],
 "metadata": {
  "kernelspec": {
   "display_name": "nlp",
   "language": "python",
   "name": "nlp"
  },
  "language_info": {
   "codemirror_mode": {
    "name": "ipython",
    "version": 3
   },
   "file_extension": ".py",
   "mimetype": "text/x-python",
   "name": "python",
   "nbconvert_exporter": "python",
   "pygments_lexer": "ipython3",
   "version": "3.7.11"
  }
 },
 "nbformat": 4,
 "nbformat_minor": 5
}
