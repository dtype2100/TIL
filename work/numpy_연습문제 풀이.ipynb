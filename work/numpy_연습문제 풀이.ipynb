{
 "cells": [
  {
   "cell_type": "markdown",
   "metadata": {
    "id": "hgB8T3YBG1VP"
   },
   "source": [
    "## 문제 1 \n",
    "numpy 패키지를 임포트 하세요"
   ]
  },
  {
   "cell_type": "code",
   "execution_count": 1,
   "metadata": {
    "id": "Ol9J2niWCesc"
   },
   "outputs": [],
   "source": [
    "import numpy as np"
   ]
  },
  {
   "cell_type": "markdown",
   "metadata": {
    "id": "J66UaVjSCjq6"
   },
   "source": [
    "## 문제 2\n",
    "\n",
    "numpy 버전을 출력하세요"
   ]
  },
  {
   "cell_type": "code",
   "execution_count": 2,
   "metadata": {
    "colab": {
     "base_uri": "https://localhost:8080/"
    },
    "id": "YrJtIBeiGj4Z",
    "outputId": "c81a25ca-f2ae-4f7b-d810-5218ec1fcc79"
   },
   "outputs": [
    {
     "data": {
      "text/plain": [
       "'1.20.3'"
      ]
     },
     "execution_count": 2,
     "metadata": {},
     "output_type": "execute_result"
    }
   ],
   "source": [
    "np.__version__"
   ]
  },
  {
   "cell_type": "markdown",
   "metadata": {
    "id": "HUW9IAsoHNwU"
   },
   "source": [
    "## 문제 3\n",
    "\n",
    "크기가 10인 zero vector Z 를 만드세요\n"
   ]
  },
  {
   "cell_type": "code",
   "execution_count": 5,
   "metadata": {
    "colab": {
     "base_uri": "https://localhost:8080/"
    },
    "id": "6KNf_lO3GnTz",
    "outputId": "3bc6db81-4b37-4d87-b7d9-e71393787783"
   },
   "outputs": [
    {
     "data": {
      "text/plain": [
       "array([0., 0., 0., 0., 0., 0., 0., 0., 0., 0.])"
      ]
     },
     "execution_count": 5,
     "metadata": {},
     "output_type": "execute_result"
    }
   ],
   "source": [
    "z = np.zeros(10)\n",
    "z"
   ]
  },
  {
   "cell_type": "markdown",
   "metadata": {
    "id": "vJsEU6OIHcre"
   },
   "source": [
    "## 문제 4\n",
    "\n",
    "위에서 만든 zero vector의 5번째 값을 1로 수정하시오"
   ]
  },
  {
   "cell_type": "code",
   "execution_count": 6,
   "metadata": {
    "colab": {
     "base_uri": "https://localhost:8080/"
    },
    "id": "VkA4rz06HXS_",
    "outputId": "26f5e2f9-f002-409f-8296-4066e6c71472"
   },
   "outputs": [
    {
     "name": "stdout",
     "output_type": "stream",
     "text": [
      "[0. 0. 0. 0. 1. 0. 0. 0. 0. 0.]\n"
     ]
    }
   ],
   "source": [
    "z[4] = 1\n",
    "print(z)"
   ]
  },
  {
   "cell_type": "markdown",
   "metadata": {
    "id": "0Z4pFZv8Kxml"
   },
   "source": [
    "# 문제 5\n",
    "\n",
    "10에서 49까지 범위의 값을 갖는 벡터 Z를 만드세요"
   ]
  },
  {
   "cell_type": "code",
   "execution_count": 7,
   "metadata": {
    "colab": {
     "base_uri": "https://localhost:8080/"
    },
    "id": "HI75pVYbJqsY",
    "outputId": "90e3e11e-0c05-420b-c6af-4db4acdafda0"
   },
   "outputs": [
    {
     "name": "stdout",
     "output_type": "stream",
     "text": [
      "[10 11 12 13 14 15 16 17 18 19 20 21 22 23 24 25 26 27 28 29 30 31 32 33\n",
      " 34 35 36 37 38 39 40 41 42 43 44 45 46 47 48 49]\n"
     ]
    }
   ],
   "source": [
    "Z = np.arange(10, 50)\n",
    "print(Z)"
   ]
  },
  {
   "cell_type": "markdown",
   "metadata": {
    "id": "O5frukSnLnPK"
   },
   "source": [
    "## 문제 6\n",
    "\n",
    "위에서 만든 벡터 Z를 역순으로 만드세요"
   ]
  },
  {
   "cell_type": "code",
   "execution_count": 8,
   "metadata": {
    "colab": {
     "base_uri": "https://localhost:8080/"
    },
    "id": "4Il0C_NDLk_3",
    "outputId": "27816eab-b328-4933-8276-0a3f659ad3d3"
   },
   "outputs": [
    {
     "data": {
      "text/plain": [
       "array([49, 48, 47, 46, 45, 44, 43, 42, 41, 40, 39, 38, 37, 36, 35, 34, 33,\n",
       "       32, 31, 30, 29, 28, 27, 26, 25, 24, 23, 22, 21, 20, 19, 18, 17, 16,\n",
       "       15, 14, 13, 12, 11, 10])"
      ]
     },
     "execution_count": 8,
     "metadata": {},
     "output_type": "execute_result"
    }
   ],
   "source": [
    "Z[::-1]"
   ]
  },
  {
   "cell_type": "markdown",
   "metadata": {
    "id": "uAFouGLSZKOZ"
   },
   "source": [
    "## 문제 7\n",
    "\n",
    "\n",
    "arr = np.array([0, 1, 2, 3, 4, 5, 6, 7, 8, 9]) 의 벡터에서 홀수를 모두 -1로 바꾸세요"
   ]
  },
  {
   "cell_type": "code",
   "execution_count": 11,
   "metadata": {
    "colab": {
     "base_uri": "https://localhost:8080/"
    },
    "id": "StM8UiCIZLOn",
    "outputId": "51c59f8a-00cf-43bb-855c-b3641e0d4b46"
   },
   "outputs": [
    {
     "data": {
      "text/plain": [
       "array([ 0, -1,  2, -1,  4, -1,  6, -1,  8, -1])"
      ]
     },
     "execution_count": 11,
     "metadata": {},
     "output_type": "execute_result"
    }
   ],
   "source": [
    "arr = np.array([0, 1, 2, 3, 4, 5, 6, 7, 8, 9]) \n",
    "arr[arr % 2 == 1 ] = -1\n",
    "arr"
   ]
  },
  {
   "cell_type": "markdown",
   "metadata": {
    "id": "u5Cd6MS-ZnvQ"
   },
   "source": [
    "## 문제 8\n",
    "arr = np.array([0, 1, 2, 3, 4, 5, 6, 7, 8, 9]) 의 벡터에서 홀수를 모두 -1인 새로운 벡터를 만드세요"
   ]
  },
  {
   "cell_type": "code",
   "execution_count": 15,
   "metadata": {
    "colab": {
     "base_uri": "https://localhost:8080/"
    },
    "id": "wWl3LbQ8ZzO-",
    "outputId": "88eeb6ba-1166-468a-9b76-0975d93d7777"
   },
   "outputs": [
    {
     "name": "stdout",
     "output_type": "stream",
     "text": [
      "[10  2 -1  6 -1  8 12]\n",
      "[10  2  5  6 -3  8 12]\n"
     ]
    }
   ],
   "source": [
    "arr = np.array([10, 2, 5, 6, -3, 8, 12])\n",
    "print(np.where(arr % 2 == 1, -1, arr))\n",
    "print(arr)"
   ]
  },
  {
   "cell_type": "markdown",
   "metadata": {
    "id": "ahRMBM13Z_uY"
   },
   "source": [
    "## 문제 9\n",
    "\n",
    "arr = np.array([0, 1, 2, 3, 4, 5, 6, 7, 8, 9])  벡터를 2x5 행렬로 바꾸세요"
   ]
  },
  {
   "cell_type": "code",
   "execution_count": 16,
   "metadata": {
    "colab": {
     "base_uri": "https://localhost:8080/"
    },
    "id": "774ytCwUaX9F",
    "outputId": "6622c631-cf41-4612-8720-facdf413881f"
   },
   "outputs": [
    {
     "data": {
      "text/plain": [
       "array([[0, 1, 2, 3, 4],\n",
       "       [5, 6, 7, 8, 9]])"
      ]
     },
     "execution_count": 16,
     "metadata": {},
     "output_type": "execute_result"
    }
   ],
   "source": [
    "arr = np.array([0, 1, 2, 3, 4, 5, 6, 7, 8, 9]) \n",
    "arr = arr.reshape(2, 5)\n",
    "arr"
   ]
  },
  {
   "cell_type": "markdown",
   "metadata": {
    "id": "X-RmGzwkajPO"
   },
   "source": [
    "# 문제 10\n",
    "```\n",
    "a = np.arange(10).reshape(2,-1) \n",
    "b = np.repeat(1, 10).reshape(2,-1)\n",
    "```\n",
    "a 와 b를 아래와 같이 행 기준으로 합치세요\n",
    "```\n",
    "array([[0, 1, 2, 3, 4],\n",
    "       [5, 6, 7, 8, 9],\n",
    "       [1, 1, 1, 1, 1],\n",
    "       [1, 1, 1, 1, 1]])\n",
    "```"
   ]
  },
  {
   "cell_type": "code",
   "execution_count": 18,
   "metadata": {
    "colab": {
     "base_uri": "https://localhost:8080/"
    },
    "id": "392MJ0N-aive",
    "outputId": "0f34a4df-5e38-41fa-fee1-554e5909a1f0"
   },
   "outputs": [
    {
     "name": "stdout",
     "output_type": "stream",
     "text": [
      "[[0 1 2 3 4]\n",
      " [5 6 7 8 9]\n",
      " [1 1 1 1 1]\n",
      " [1 1 1 1 1]]\n",
      "[[0 1 2 3 4]\n",
      " [5 6 7 8 9]\n",
      " [1 1 1 1 1]\n",
      " [1 1 1 1 1]]\n"
     ]
    }
   ],
   "source": [
    "a = np.arange(10).reshape(2,-1) \n",
    "b = np.repeat(1, 10).reshape(2,-1)\n",
    "print(np.concatenate([a, b]))\n",
    "print(np.vstack([a, b]))"
   ]
  },
  {
   "cell_type": "markdown",
   "metadata": {
    "id": "K5snmc19cnz2"
   },
   "source": [
    "## 문제 11\n",
    "```\n",
    "a = np.arange(10).reshape(2,-1)\n",
    "\n",
    "b = np.repeat(1, 10).reshape(2,-1)\n",
    "```\n",
    "\n",
    "a와 b를 아래와 같이 열 기준으로 합치세요\n",
    "```\n",
    "array([[0, 1, 2, 3, 4, 1, 1, 1, 1, 1],\n",
    "       [5, 6, 7, 8, 9, 1, 1, 1, 1, 1]])\n",
    "\n",
    "```\n",
    "\n"
   ]
  },
  {
   "cell_type": "code",
   "execution_count": 20,
   "metadata": {
    "colab": {
     "base_uri": "https://localhost:8080/"
    },
    "id": "tLly26F4c3xf",
    "outputId": "6375c46f-ac98-4e20-fe6b-1be5d8e7b20e"
   },
   "outputs": [
    {
     "name": "stdout",
     "output_type": "stream",
     "text": [
      "[[0 1 2 3 4 1 1 1 1 1]\n",
      " [5 6 7 8 9 1 1 1 1 1]]\n",
      "[[0 1 2 3 4 1 1 1 1 1]\n",
      " [5 6 7 8 9 1 1 1 1 1]]\n"
     ]
    }
   ],
   "source": [
    "a = np.arange(10).reshape(2,-1)\n",
    "b = np.repeat(1, 10).reshape(2,-1)\n",
    "print(np.concatenate([a, b], axis=1))\n",
    "print(np.hstack([a, b]))"
   ]
  },
  {
   "cell_type": "markdown",
   "metadata": {
    "id": "eKCaeCLHMOmj"
   },
   "source": [
    "## 문제 12\n",
    "\n",
    "0에서 8의 값을 갖는 3x3 행렬을 만드세요\n"
   ]
  },
  {
   "cell_type": "code",
   "execution_count": 21,
   "metadata": {
    "colab": {
     "base_uri": "https://localhost:8080/"
    },
    "id": "3_3O-vnJMDau",
    "outputId": "7b090ee3-91dc-4257-bd7d-786ab49840b7"
   },
   "outputs": [
    {
     "data": {
      "text/plain": [
       "array([[0, 1, 2],\n",
       "       [3, 4, 5],\n",
       "       [6, 7, 8]])"
      ]
     },
     "execution_count": 21,
     "metadata": {},
     "output_type": "execute_result"
    }
   ],
   "source": [
    "np.arange(9).reshape(3, 3)"
   ]
  },
  {
   "cell_type": "markdown",
   "metadata": {
    "id": "Zg_H-vFeU8EI"
   },
   "source": [
    "## 문제 13\n",
    "\n",
    "다음과 같은 행렬 [1,2,0,0,4,0] 에서 0이 아닌 값의 인덱스를 찾으세요 "
   ]
  },
  {
   "cell_type": "code",
   "execution_count": 22,
   "metadata": {
    "colab": {
     "base_uri": "https://localhost:8080/"
    },
    "id": "OAn0BTiaU2OK",
    "outputId": "a94637cd-dc6b-45d5-bd6c-304209d74509"
   },
   "outputs": [
    {
     "data": {
      "text/plain": [
       "(array([0, 1, 4], dtype=int64),)"
      ]
     },
     "execution_count": 22,
     "metadata": {},
     "output_type": "execute_result"
    }
   ],
   "source": [
    "np.nonzero([1,2,0,0,4,0])"
   ]
  },
  {
   "cell_type": "markdown",
   "metadata": {
    "id": "083V-LkZVVvc"
   },
   "source": [
    "## 문제 14\n",
    "\n",
    "3x3 크기를 가지는 단위 행렬을 만드세요"
   ]
  },
  {
   "cell_type": "code",
   "execution_count": 23,
   "metadata": {
    "colab": {
     "base_uri": "https://localhost:8080/"
    },
    "id": "Cl0jGRZHVNTL",
    "outputId": "60c13e11-7abd-4a31-821e-cad755198522"
   },
   "outputs": [
    {
     "data": {
      "text/plain": [
       "array([[1., 0., 0.],\n",
       "       [0., 1., 0.],\n",
       "       [0., 0., 1.]])"
      ]
     },
     "execution_count": 23,
     "metadata": {},
     "output_type": "execute_result"
    }
   ],
   "source": [
    "np.eye(3)"
   ]
  },
  {
   "cell_type": "markdown",
   "metadata": {
    "id": "BUhwEnrnWQow"
   },
   "source": [
    "## 문제 15\n",
    "\n",
    "shape가 (3, 3, 3)인 랜덤값을 가지는 3차원 행렬을 만드세요"
   ]
  },
  {
   "cell_type": "code",
   "execution_count": 24,
   "metadata": {
    "colab": {
     "base_uri": "https://localhost:8080/"
    },
    "id": "mPmQsFbxWHbd",
    "outputId": "dab7ad6d-ca3b-42c3-93bb-453cf208b095"
   },
   "outputs": [
    {
     "data": {
      "text/plain": [
       "array([[[0.79013052, 0.60581704, 0.10791204],\n",
       "        [0.04223534, 0.71464607, 0.0860949 ],\n",
       "        [0.84669914, 0.34213561, 0.16648012]],\n",
       "\n",
       "       [[0.9922089 , 0.71124208, 0.03285947],\n",
       "        [0.33451053, 0.34606351, 0.63920277],\n",
       "        [0.50285534, 0.07277564, 0.59555375]],\n",
       "\n",
       "       [[0.4771227 , 0.59429557, 0.27376984],\n",
       "        [0.25913263, 0.49176866, 0.91603613],\n",
       "        [0.110817  , 0.25842933, 0.58002504]]])"
      ]
     },
     "execution_count": 24,
     "metadata": {},
     "output_type": "execute_result"
    }
   ],
   "source": [
    "np.random.random((3, 3, 3))"
   ]
  },
  {
   "cell_type": "markdown",
   "metadata": {
    "id": "sL7msD4NWq42"
   },
   "source": [
    "## 문제 16\n",
    "\n",
    "Create a 10x10 array with random values and find the minimum and maximum\n",
    "values\n",
    "\n",
    "임의의 값으로 채워진 10x10 행렬을 만들고 그 행렬의 최소값과 최대값을 찾으세요."
   ]
  },
  {
   "cell_type": "code",
   "execution_count": 26,
   "metadata": {
    "colab": {
     "base_uri": "https://localhost:8080/"
    },
    "id": "VnGUrceeWO7J",
    "outputId": "7cd62b27-163f-4885-d760-52d3795ee56e"
   },
   "outputs": [
    {
     "name": "stdout",
     "output_type": "stream",
     "text": [
      "[[0.419609   0.62133669 0.69943831 0.87470159 0.55833069 0.10924219\n",
      "  0.59267158 0.23633664 0.55082053 0.79834994]\n",
      " [0.4298697  0.05671469 0.53835221 0.66217003 0.09877896 0.56440631\n",
      "  0.67540432 0.01642794 0.34537103 0.70929677]\n",
      " [0.48066989 0.32735397 0.4231696  0.38445693 0.87562448 0.67495315\n",
      "  0.80478369 0.5126598  0.84538754 0.50100564]\n",
      " [0.44142638 0.88949761 0.1580998  0.19135166 0.94850357 0.69634792\n",
      "  0.93640273 0.83181474 0.73182495 0.04980357]\n",
      " [0.44121227 0.36822892 0.13497895 0.75937693 0.11272066 0.6352037\n",
      "  0.44227813 0.6624992  0.3075949  0.19623532]\n",
      " [0.83252944 0.82309762 0.48166825 0.13676358 0.24718813 0.16739501\n",
      "  0.03248912 0.05971288 0.46894597 0.86955553]\n",
      " [0.3514866  0.20703712 0.58009886 0.6257431  0.17368828 0.03057854\n",
      "  0.65255851 0.75379386 0.61727    0.39477483]\n",
      " [0.29789684 0.10193606 0.27460946 0.79577657 0.93851855 0.75030722\n",
      "  0.19400811 0.60217197 0.68930687 0.06272318]\n",
      " [0.27717291 0.23715127 0.66802761 0.46216215 0.41113692 0.98101598\n",
      "  0.6411225  0.70879471 0.04695753 0.68717678]\n",
      " [0.52623882 0.61551243 0.77272806 0.52157742 0.4084586  0.73738727\n",
      "  0.97581448 0.29651527 0.50870527 0.38439053]]\n",
      "0.9810159776684425\n",
      "0.016427936760859296\n"
     ]
    }
   ],
   "source": [
    "Z = np.random.random((10, 10))\n",
    "print(Z)\n",
    "print(Z.max())\n",
    "print(Z.min())"
   ]
  },
  {
   "cell_type": "markdown",
   "metadata": {
    "id": "m4tA8GTuW2H-"
   },
   "source": [
    "## 문제 17\n",
    "\n",
    "Create a random vector of size 30 and find the mean value\n",
    "\n",
    "크기가 30인 임의의 벡터를 만들고 평균값을 찾으세요."
   ]
  },
  {
   "cell_type": "code",
   "execution_count": 29,
   "metadata": {
    "colab": {
     "base_uri": "https://localhost:8080/"
    },
    "id": "T6swqiRqW0Il",
    "outputId": "f8f2d69a-76da-4300-c7a4-3d01e23e36f9"
   },
   "outputs": [
    {
     "name": "stdout",
     "output_type": "stream",
     "text": [
      "[0.35693852 0.55186535 0.83127179 0.44715891 0.55827731 0.53474112\n",
      " 0.18524535 0.11052225 0.98725795 0.82043259 0.1075538  0.55895553\n",
      " 0.97322341 0.20153526 0.15098823 0.14279948 0.81928017 0.29233756\n",
      " 0.03884376 0.83590559 0.2408385  0.31962688 0.67641332 0.82963927\n",
      " 0.47111791 0.05881161 0.80860119 0.25232001 0.02479535 0.54510458]\n",
      "0.4577467514076506\n",
      "0.4577467514076506\n"
     ]
    }
   ],
   "source": [
    "Z = np.random.random(30)\n",
    "print(Z)\n",
    "\n",
    "print(np.mean(Z))\n",
    "print(Z.mean())"
   ]
  },
  {
   "cell_type": "markdown",
   "metadata": {
    "id": "W4EIdpXOW7fT"
   },
   "source": [
    "## 문제 18\n",
    "\n",
    "10*10 크기를 가지고 테두리가 1이고 내부가 0으로 채워진 2차원 행렬을 만드세요."
   ]
  },
  {
   "cell_type": "code",
   "execution_count": 35,
   "metadata": {
    "id": "kFSSd3V5W6hg"
   },
   "outputs": [
    {
     "data": {
      "text/plain": [
       "array([[1., 1., 1., 1., 1., 1., 1., 1., 1., 1.],\n",
       "       [1., 0., 0., 0., 0., 0., 0., 0., 0., 1.],\n",
       "       [1., 0., 0., 0., 0., 0., 0., 0., 0., 1.],\n",
       "       [1., 0., 0., 0., 0., 0., 0., 0., 0., 1.],\n",
       "       [1., 0., 0., 0., 0., 0., 0., 0., 0., 1.],\n",
       "       [1., 0., 0., 0., 0., 0., 0., 0., 0., 1.],\n",
       "       [1., 0., 0., 0., 0., 0., 0., 0., 0., 1.],\n",
       "       [1., 0., 0., 0., 0., 0., 0., 0., 0., 1.],\n",
       "       [1., 0., 0., 0., 0., 0., 0., 0., 0., 1.],\n",
       "       [1., 1., 1., 1., 1., 1., 1., 1., 1., 1.]])"
      ]
     },
     "execution_count": 35,
     "metadata": {},
     "output_type": "execute_result"
    }
   ],
   "source": [
    "Z = np.ones((10, 10))\n",
    "Z[1:-1, 1:-1] = 0\n",
    "Z"
   ]
  },
  {
   "cell_type": "markdown",
   "metadata": {
    "id": "Bj5DjuaPXCAQ"
   },
   "source": [
    "## 문제 19\n",
    "\n",
    "What is the result of the following expression? \n",
    "\n",
    "다음 연산의 결과는 유추하세요."
   ]
  },
  {
   "cell_type": "code",
   "execution_count": 36,
   "metadata": {
    "colab": {
     "base_uri": "https://localhost:8080/"
    },
    "id": "E04-Sr5WXBIK",
    "outputId": "be5e520e-3c95-4516-d6e0-1ae8a9a78941"
   },
   "outputs": [
    {
     "name": "stdout",
     "output_type": "stream",
     "text": [
      "nan\n",
      "False\n",
      "False\n",
      "nan\n",
      "False\n"
     ]
    }
   ],
   "source": [
    "print(0 * np.nan)\n",
    "print(np.nan == np.nan)\n",
    "print(np.inf > np.nan)\n",
    "print(np.nan - np.nan)\n",
    "print(0.3 == 3 * 0.1)"
   ]
  },
  {
   "cell_type": "code",
   "execution_count": 37,
   "metadata": {},
   "outputs": [
    {
     "data": {
      "text/plain": [
       "0.30000000000000004"
      ]
     },
     "execution_count": 37,
     "metadata": {},
     "output_type": "execute_result"
    }
   ],
   "source": [
    "3 * 0.1"
   ]
  },
  {
   "cell_type": "markdown",
   "metadata": {
    "id": "XrWsm8IeX5CS"
   },
   "source": [
    "## 문제 20\n",
    "\n",
    "Create a vector of size 10 with values ranging from 0 to 1, both excluded\n",
    "\n",
    "0에서 1 사이에 균등하게 배분된 값을 반환하는 벡터를 생성합니다(0, 1을 포함)\n",
    "\n",
    "그 다음 처음과 마지막값을 제외한 배열을 출력하세요(출력하는 배열의 크기는 10입니다.)."
   ]
  },
  {
   "cell_type": "code",
   "execution_count": 40,
   "metadata": {
    "colab": {
     "base_uri": "https://localhost:8080/"
    },
    "id": "fX3gEM6kXHPK",
    "outputId": "acfababa-23e1-4d00-ea8d-3e794462e6d3"
   },
   "outputs": [
    {
     "data": {
      "text/plain": [
       "array([0.09090909, 0.18181818, 0.27272727, 0.36363636, 0.45454545,\n",
       "       0.54545455, 0.63636364, 0.72727273, 0.81818182, 0.90909091])"
      ]
     },
     "execution_count": 40,
     "metadata": {},
     "output_type": "execute_result"
    }
   ],
   "source": [
    "Z = np.linspace(0, 1, 12)[1:-1]\n",
    "Z"
   ]
  },
  {
   "cell_type": "markdown",
   "metadata": {
    "id": "ZvldI6uFYHZg"
   },
   "source": [
    "## 문제 21\n",
    "\n",
    "Create a random vector of size 10 and sort it\n",
    "\n",
    "크기가 10인 임의의 벡터를 만들고 정렬하세요."
   ]
  },
  {
   "cell_type": "code",
   "execution_count": 44,
   "metadata": {
    "colab": {
     "base_uri": "https://localhost:8080/"
    },
    "id": "m5w5WBWQX8WX",
    "outputId": "847e99ae-a818-442f-8ca5-380c6adbc5d3"
   },
   "outputs": [
    {
     "name": "stdout",
     "output_type": "stream",
     "text": [
      "[0.11426483 0.23337664 0.30335532 0.30561397 0.32783978 0.36913315\n",
      " 0.64295535 0.68289284 0.83941339 0.9999057 ]\n",
      "[0.9999057  0.83941339 0.68289284 0.64295535 0.36913315 0.32783978\n",
      " 0.30561397 0.30335532 0.23337664 0.11426483]\n"
     ]
    }
   ],
   "source": [
    "Z = np.random.random(10)\n",
    "Z.sort()\n",
    "print(Z)\n",
    "print(Z[::-1])"
   ]
  },
  {
   "cell_type": "markdown",
   "metadata": {
    "id": "nsOa15RlYTDO"
   },
   "source": [
    "## 문제 22\n",
    "\n",
    "Create random vector of size 10 and replace the maximum value by 0\n",
    "\n",
    "크기가 10인 임의의 벡터를 만들고 최대값을 0으로 바꾸세요."
   ]
  },
  {
   "cell_type": "code",
   "execution_count": 48,
   "metadata": {
    "colab": {
     "base_uri": "https://localhost:8080/"
    },
    "id": "BESTsCWIYKQp",
    "outputId": "5c9b9512-4315-469c-f25e-8bcdd3f6da83"
   },
   "outputs": [
    {
     "name": "stdout",
     "output_type": "stream",
     "text": [
      "[0.94470398 0.42516606 0.25568559 0.9063159  0.01511295 0.75334065\n",
      " 0.15673407 0.4675114  0.79624942 0.38302608]\n",
      "[0.         0.42516606 0.25568559 0.9063159  0.01511295 0.75334065\n",
      " 0.15673407 0.4675114  0.79624942 0.38302608]\n"
     ]
    }
   ],
   "source": [
    "Z = np.random.random(10)\n",
    "print(Z)\n",
    "Z[Z.argmax()] = 0\n",
    "print(Z)"
   ]
  },
  {
   "cell_type": "markdown",
   "metadata": {
    "id": "0ExMpgwPdSqR"
   },
   "source": [
    "\n",
    "## 문제 23\n",
    "\n",
    "```\n",
    "a = np.array([1,2,3,2,3,4,3,4,5,6])\n",
    "b = np.array([7,2,10,2,7,4,9,4,9,8])\n",
    "\n",
    "```\n",
    "\n",
    "a, b 두 벡터의 같은 위치에 있는 값이 같은 인덱스를 구하세요\n",
    "```\n",
    "결과 예)\n",
    "(array([1, 3, 5, 7]),)\n",
    "```"
   ]
  },
  {
   "cell_type": "code",
   "execution_count": 49,
   "metadata": {
    "colab": {
     "base_uri": "https://localhost:8080/"
    },
    "id": "1OkHKHwAYT0c",
    "outputId": "14b1b773-37f1-4106-f7e8-38980ad2b74f"
   },
   "outputs": [
    {
     "data": {
      "text/plain": [
       "(array([1, 3, 5, 7], dtype=int64),)"
      ]
     },
     "execution_count": 49,
     "metadata": {},
     "output_type": "execute_result"
    }
   ],
   "source": [
    "a = np.array([1,2,3,2,3,4,3,4,5,6])\n",
    "b = np.array([7,2,10,2,7,4,9,4,9,8])\n",
    "\n",
    "np.where(a == b)"
   ]
  },
  {
   "cell_type": "markdown",
   "metadata": {
    "id": "lX_KWlyJeOUJ"
   },
   "source": [
    "## 문제 24\n",
    "\n",
    "```\n",
    "a = np.array([2, 6, 1, 9, 10, 3, 27])\n",
    "```\n",
    "\n",
    "a 에서 5이상 10 이하의 값만 가지는 벡터를 만드세요\n"
   ]
  },
  {
   "cell_type": "code",
   "execution_count": 50,
   "metadata": {
    "colab": {
     "base_uri": "https://localhost:8080/"
    },
    "id": "_F-RY4A4eKG8",
    "outputId": "151750a1-e24e-40b3-a368-0123b5474503"
   },
   "outputs": [
    {
     "data": {
      "text/plain": [
       "array([ 6,  9, 10])"
      ]
     },
     "execution_count": 50,
     "metadata": {},
     "output_type": "execute_result"
    }
   ],
   "source": [
    "a = np.array([2, 6, 1, 9, 10, 3, 27])\n",
    "ind = np.where((a >= 5) & (a <= 10))\n",
    "a[ind]"
   ]
  },
  {
   "cell_type": "code",
   "execution_count": null,
   "metadata": {
    "id": "lO5nVYCih-EP"
   },
   "outputs": [],
   "source": []
  }
 ],
 "metadata": {
  "colab": {
   "collapsed_sections": [],
   "name": "numpy_연습문제.ipynb",
   "provenance": []
  },
  "kernelspec": {
   "display_name": "Python 3 (ipykernel)",
   "language": "python",
   "name": "python3"
  },
  "language_info": {
   "codemirror_mode": {
    "name": "ipython",
    "version": 3
   },
   "file_extension": ".py",
   "mimetype": "text/x-python",
   "name": "python",
   "nbconvert_exporter": "python",
   "pygments_lexer": "ipython3",
   "version": "3.9.7"
  }
 },
 "nbformat": 4,
 "nbformat_minor": 4
}
