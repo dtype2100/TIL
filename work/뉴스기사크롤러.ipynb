{
 "cells": [
  {
   "cell_type": "markdown",
   "metadata": {},
   "source": [
    "# setting"
   ]
  },
  {
   "cell_type": "code",
   "execution_count": 1,
   "metadata": {},
   "outputs": [],
   "source": [
    "from selenium import webdriver\n",
    "from selenium.webdriver.common.keys import Keys\n",
    "from selenium.webdriver.common.by import By\n",
    "import time"
   ]
  },
  {
   "cell_type": "code",
   "execution_count": 2,
   "metadata": {},
   "outputs": [],
   "source": [
    "import pandas as pd"
   ]
  },
  {
   "cell_type": "code",
   "execution_count": 3,
   "metadata": {},
   "outputs": [],
   "source": [
    "from selenium.common.exceptions import NoSuchElementException"
   ]
  },
  {
   "cell_type": "code",
   "execution_count": 4,
   "metadata": {},
   "outputs": [],
   "source": [
    "# 년월일 순서로 (ex. 20200501)\n",
    "# type -> str\n",
    "start_date = '20200501'\n",
    "end_date = '20200531'"
   ]
  },
  {
   "cell_type": "code",
   "execution_count": 5,
   "metadata": {},
   "outputs": [],
   "source": [
    "# 해당 기사의 주소 리스트\n",
    "url_list = []"
   ]
  },
  {
   "cell_type": "code",
   "execution_count": 6,
   "metadata": {},
   "outputs": [
    {
     "name": "stderr",
     "output_type": "stream",
     "text": [
      "C:\\Users\\user\\AppData\\Local\\Temp/ipykernel_22368/3777582125.py:1: DeprecationWarning: executable_path has been deprecated, please pass in a Service object\n",
      "  driver = webdriver.Chrome('C:\\\\Users\\\\user\\\\workspace\\\\chromedriver.exe')\n"
     ]
    }
   ],
   "source": [
    "driver = webdriver.Chrome('C:\\\\Users\\\\user\\\\workspace\\\\chromedriver.exe')"
   ]
  },
  {
   "cell_type": "markdown",
   "metadata": {},
   "source": [
    "## 언론사 선택"
   ]
  },
  {
   "cell_type": "code",
   "execution_count": 7,
   "metadata": {},
   "outputs": [],
   "source": [
    "# 조선일보(1023) 중앙일보(1025) 동아일보(1020) 매경(1009)\n",
    "paper = 1023"
   ]
  },
  {
   "cell_type": "markdown",
   "metadata": {},
   "source": [
    "# 크롤링"
   ]
  },
  {
   "cell_type": "markdown",
   "metadata": {},
   "source": [
    "## 기사 URL 읽어오기"
   ]
  },
  {
   "cell_type": "code",
   "execution_count": 8,
   "metadata": {},
   "outputs": [
    {
     "name": "stderr",
     "output_type": "stream",
     "text": [
      "C:\\Users\\user\\anaconda3\\lib\\site-packages\\selenium\\webdriver\\remote\\webelement.py:359: UserWarning: find_elements_by_* commands are deprecated. Please use find_elements() instead\n",
      "  warnings.warn(\"find_elements_by_* commands are deprecated. Please use find_elements() instead\")\n"
     ]
    }
   ],
   "source": [
    "num = 1\n",
    "while True:\n",
    "    driver.get(f'https://search.naver.com/search.naver?where=news&query=%EC%A7%80%EC%97%AD%ED%99%94%ED%8F%90&sm=tab_opt&sort=0&photo=0&field=0&pd=3&ds={start_date[0:4]}.{start_date[4:6]}.{start_date[6:]}&de={end_date[0:4]}.{end_date[4:6]}.{end_date[6:]}&docid=&related=0&mynews=1&office_type=1&office_section_code=1&news_office_checked={paper}&nso=so%3Ar%2Cp%3Afrom{start_date}to{end_date},a:all&start={num}')\n",
    "    time.sleep(3)\n",
    "    \n",
    "    try:\n",
    "        ul = driver.find_element(By.CSS_SELECTOR, '#main_pack > section > div > div.group_news > ul')\n",
    "    except NoSuchElementException:\n",
    "        print(\"Not exist paper\")\n",
    "        break\n",
    "    lis = ul.find_elements_by_tag_name(\"li\")\n",
    "    \n",
    "    check = False\n",
    "    \n",
    "    for li in lis:\n",
    "        tmp = li.get_attribute('id')\n",
    "        tmp_url = driver.find_element(By.CSS_SELECTOR, f'#{tmp} > div > div > a').get_attribute(\"href\")\n",
    "        if tmp_url in url_list:\n",
    "            check = True\n",
    "            break\n",
    "        url_list.append(tmp_url)\n",
    "        \n",
    "    if check:\n",
    "        break\n",
    "        \n",
    "    num += 10"
   ]
  },
  {
   "cell_type": "code",
   "execution_count": 9,
   "metadata": {},
   "outputs": [
    {
     "data": {
      "text/plain": [
       "['https://news.chosun.com/site/data/html_dir/2020/05/18/2020051803214.html?utm_source=naver&utm_medium=original&utm_campaign=news',\n",
       " 'https://news.chosun.com/site/data/html_dir/2020/05/13/2020051302885.html?utm_source=naver&utm_medium=original&utm_campaign=news',\n",
       " 'https://news.chosun.com/site/data/html_dir/2020/05/07/2020050703964.html?utm_source=naver&utm_medium=original&utm_campaign=news',\n",
       " 'https://news.chosun.com/site/data/html_dir/2020/05/06/2020050600538.html?utm_source=naver&utm_medium=original&utm_campaign=news',\n",
       " 'https://news.chosun.com/site/data/html_dir/2020/05/26/2020052601413.html?utm_source=naver&utm_medium=original&utm_campaign=news',\n",
       " 'https://news.chosun.com/site/data/html_dir/2020/05/23/2020052300351.html?utm_source=naver&utm_medium=original&utm_campaign=news',\n",
       " 'https://news.chosun.com/site/data/html_dir/2020/05/07/2020050700254.html?utm_source=naver&utm_medium=original&utm_campaign=news',\n",
       " 'https://news.chosun.com/site/data/html_dir/2020/05/11/2020051101445.html?utm_source=naver&utm_medium=original&utm_campaign=news',\n",
       " 'https://news.chosun.com/site/data/html_dir/2020/05/10/2020051000381.html?utm_source=naver&utm_medium=original&utm_campaign=news',\n",
       " 'https://news.chosun.com/site/data/html_dir/2020/05/18/2020051803118.html?utm_source=naver&utm_medium=original&utm_campaign=news',\n",
       " 'https://news.chosun.com/site/data/html_dir/2020/05/07/2020050703374.html?utm_source=naver&utm_medium=original&utm_campaign=news',\n",
       " 'https://www.chosun.com/site/data/html_dir/2020/05/01/2020050101412.html?utm_source=naver&utm_medium=original&utm_campaign=news',\n",
       " 'https://news.chosun.com/site/data/html_dir/2020/05/12/2020051200150.html?utm_source=naver&utm_medium=original&utm_campaign=news',\n",
       " 'https://news.chosun.com/site/data/html_dir/2020/05/27/2020052700002.html?utm_source=naver&utm_medium=original&utm_campaign=news',\n",
       " 'https://news.chosun.com/site/data/html_dir/2020/05/01/2020050102285.html?utm_source=naver&utm_medium=original&utm_campaign=news']"
      ]
     },
     "execution_count": 9,
     "metadata": {},
     "output_type": "execute_result"
    }
   ],
   "source": [
    "url_list"
   ]
  },
  {
   "cell_type": "markdown",
   "metadata": {},
   "source": [
    "## URL의 기사 내용 받아오기"
   ]
  },
  {
   "cell_type": "markdown",
   "metadata": {},
   "source": [
    "### 조선일보"
   ]
  },
  {
   "cell_type": "code",
   "execution_count": 11,
   "metadata": {},
   "outputs": [
    {
     "name": "stderr",
     "output_type": "stream",
     "text": [
      "C:\\Users\\user\\AppData\\Local\\Temp/ipykernel_22368/193909015.py:4: DeprecationWarning: find_element_by_* commands are deprecated. Please use find_element() instead\n",
      "  title = driver.find_element_by_xpath('//*[@id=\"fusion-app\"]/div[1]/div[2]/div/div/div[3]/h1/span').text\n",
      "C:\\Users\\user\\AppData\\Local\\Temp/ipykernel_22368/193909015.py:5: DeprecationWarning: find_element_by_* commands are deprecated. Please use find_element() instead\n",
      "  content = driver.find_element_by_xpath('//*[@id=\"fusion-app\"]/div[1]/div[2]/div/section/article/section').text\n"
     ]
    },
    {
     "name": "stdout",
     "output_type": "stream",
     "text": [
      "코로나 덕분...충남도 올해 지역화폐 1232억원 발행\n",
      "충남 계룡시 지역화폐\n",
      "코로나 사태로 인해 충남도의 지역화폐 발행이 크게 늘어났다.\n",
      "18일 충남도에 따르면 올해 1월부터 4월까지 충남 15개 시·군은 1232억원의 지역화폐를 발행했다. 이는 지난 한 해 473억원의 2.6배에 달하는 규모다.\n",
      "충남도 관계자는 “올해부터 본격적으로 지역화폐를 홍보하면서 발행규모가 늘었다”면서 “여기에 코로나 관련 지원금을 지역화폐로 제공하는 경우가 있어 발행액이 폭발적으로 증가했다”고 말했다.\n",
      "지난달까지 발행된 지역화폐 가운데 판매된 금액은 961억원이며 이 가운데 589억원이 그동안 실제 결제에 사용됐다. 지역화폐는 지역에서 발행하고, 지역에서만 사용할 수 있는 상품권이나 코인 등 결제수단을 말한다. 사용처를 지역내 소상공인 업체를 대상으로 제한하기 때문에 돈이 지역경제에 풀리는 효과가 있다.\n",
      "올해 충남도가 계획한 지역화폐 발행액은 3329억2000만원이다. 현재 추세라면 올해 연말까지 충남지역 지역화폐 발행액은 3300억원을 넘어설 것으로 전망된다.\n",
      "충남연구원은 당초 충남도가 계획한 올해 지역화폐 발행액을 기준으로 분석한 결과 1조4000억원의 지역 경제 파급효과를 거둘 것으로 전망했다. 생산 유발효과는 2156억원, 부가가치 유발효과는 1031억원, 소비촉진 효과는 665억원, 가계 수입 증대효과는 160억원 등이다. 이로 인한 고용 유발 효과는 2636명으로 분석했다.\n",
      "충남에서 지역화폐를 사용할 수 있는 가맹 업소는 7만4334곳으로 전체 대상 업소 9만6095곳 중 77%가 가입했다. 충남도 관꼐자는 “지역화폐가 코로나로 위축된 지역 경제에 윤활유와 같은 역할을 할 것으로 기대하고 있다”고 말했다.\n",
      "==============================\n",
      "==============================\n",
      "대전 지역화폐 '온통대전' 14일 출시된다\n",
      "대전시의 지역화폐인 ‘온통대전(On通대전)’이 14일 출시된다.\n",
      "오는 14일 출시되는 대전시_지역화폐 '온통대전'\n",
      "대전시는 ‘모두에게 통용되는 큰 돈이자 소통의 매개체’라는 뜻을 담은 온통대전을 5000억원 규모로 발행한다고 13일 밝혔다. 시는 당초 발행 규모를 2500억원으로 정했다가, 코로나19 확산으로 경영난을 겪는 소상공인을 돕기 위해 발행규모를 배로 늘렸다. 발행 시기도 당초 7월에서 두 달을 앞당겼다.\n",
      "신청은 스마트폰 앱(온통대전)을 내려받아 회원으로 가입하거나 카드를 신청하면 된다.\n",
      "앱을 이용해 모바일 방식으로 월 최대 100만원까지 충전해 사용할 수 있다. 스마트폰이 없는 고령층 등 사회적 배려자를 위해 하나은행 46개 영업소에서도 카드를 발급한다. 출시 후 2개월 안에 사용하면 코로나와 관련한 경제활력 지원금 5%를 포함해 최대 15% 캐시백을 받는다.\n",
      "만 14세 이상이면 누구나 온통대전을 발급받을 수 있다. 연회비와 재발급 수수료가 없고, 30%의 소득공제를 받을 수 있다. 국가정책에 따라 오는 7월까지 사용한 경우에 대해선 80%의 소득공제도 받을 수 있다.\n",
      "지역화폐는 발행일부터 5년간 대전에서만 쓸 수 있다. 백화점과 대형마트, 사행·유흥업소, 다른 지역에 본사가 있는 직영점, 온라인 결제 등을 제외한 지역 내 신용카드 단말기가 있는 모든 점포에서 쓸 수 있다. 삼성페이·LG페이로 탑재해 모바일 간편결제도 할 수 있다.\n",
      "기존에 대덕구에서만 쓸 수 있던 ‘대덕e로움 카드’ 소지자도 대전 전 지역에서 같은 혜택을 받으며 사용할 수 있다. 다만 이중 혜택 방지를 위해 온통대전과 대덕e로움 가운데 한 개 카드만 발급받아야 한다.\n",
      "코로나19와 관련해 대전시와 정부가 제공한 긴급생계지원금을 온통대전으로 받을 경우는 해당 금액 부분에 대해선 캐시백이 지급되지 않는다.\n",
      "허태정 대전시장은 “지역 자본이 다른 곳에 유출되는 것을 막고, 소비 촉진을 통해 지역 소상공인·자영업자의 매출을 늘리고자 지역화폐를 출시한다”며 “지역내 상생을 위해 적극적으로 이용해달라”고 당부했다.\n",
      "==============================\n",
      "==============================\n",
      "이재명 \"지역화폐에 웃돈 요구 업소 고발 등 강력 대응\"\n",
      "이재명 경기지사가 일부 업소에서 지역화폐로 거래하는 손님에게 수수료를 부과하는 등 현금 거래와 차별하는 행위에 강력히 대응한다고 7일 밝혔다. 경기도는 하루 단속에서 차별사례 15건을 확인했으며, 전원 고발 및 가맹점 취소, 세무조사 착수 방침을 밝혔다.\n",
      "이 지사는 소셜미디어에 “20명의 경기도 특사경이 동시다발 미스터리 쇼핑(손님을 가장해 조사)을 통해 하루 만에 지역 화폐를 현금과 차별한 업소 15개를 발각했다”고 밝혔다.\n",
      "이 지사가 소개한 지역화폐 차별거래 적발 사례를 살펴보면 ‘부가세 10% 추가요구’ ‘수수료 5~10% 추가 요구’ ‘17만원 상품을 18만원에 판매’ ‘2만5000원 상품을 2만7000원 판매’ 등이었다. 업종은 의류, 미용, 철물, 떡집 등이다. 지역은 수원, 용인, 부천, 화성 등이다.\n",
      "경기도는 해당 업체를 여신전문금융법과 전자금융거래법 위반으로 고발조치한다는 입장이다. 또한 신용카드 가맹과 지역화폐 가맹을 취소시키고 전산상 허용업체에서 배제해 앞으로 재난소득과 정부지원금 결제를 하지 못하도록 조치할 예정이다. 이 지사는 “지방세조사팀으로 매출조작 여부 세무조사도 실시할 계획”이라고 설명했다.\n",
      "이 지사는 이날 오후 ‘경기지역화폐 차별거래 관련 자영업자 간담회’에서 “모두를 위한 정책이 소수의 욕심으로 망가지는 상황이 올 수 있기 때문에 명백한 범죄행위로 보고 엄정하게 조사해 책임을 묻겠다”고 말했다. 이날 간담회는 재난소득 관련 지역화폐를 사용할 때 일선에서 추가 금액을 요구한다는 사례가 발생하자 대책을 논의하기 위해 마련됐다.\n",
      "경기도는 31개 시·군, 상인단체 등과 협의해 지역화폐 가맹점을 대상으로 계도 활동에 나선다. 또한 특별사법경찰단을 활용해 부당한 차별거래를 확인하고 사실로 확인될 경우 지역화폐 가맹 자격을 제한할 계획이다.\n",
      "==============================\n",
      "==============================\n",
      "이재명 \"지역화폐 바가지 땐 형사처벌에 가맹해지·세무조사\" 3단 경고\n",
      "이재명 경기지사는 경기도 재난기본소득으로 지급된 선불카드나 상품권으로 결제할 때 웃돈을 얹어 물건을 파는 이른바 ‘바가지’를 씌운다는 제보를 받았다며 “추가 수수료를 요구하거나 거래를 거부하면 형사처벌과 가맹해지 사유이며 세무조사 대상”이라고 말했다.\n",
      "이재명 경기지사.\n",
      "이 지사는 지난 5일 페이스북에 ‘지역화폐 차별 바가지는 형사처벌, 가맹점 박탈, 세무조사 대상’이라는 제목의 글을 올리며 이 같이 밝혔다. 그는 “신용카드 가맹점이 신용카드 사용자에 대해 거래 거절이나 수수료 요구 등 차별을 하면 여신금융업법 19조 1항·21조에 따라 가맹 취소를 하고, 같은 법 70조 4항 4호·71조에 따라 관련자와 사장은 최대 징역 1년 또는 벌금 1000만원에 처한다”고 했다.\n",
      "이 지사는 “(재난기본소득으로 지급받은) 선불카드나 종이상품권 거래를 하면서 현금이 아니라는 이유로 수수료나 부가세 등 어떤 명목으로든 추가 금전을 받거나 현금 결제 시 금액을 할인해주면 지역화폐 가맹자격을 박탈한다”며 “지방 정부는 지방소득세 관련 세무조사권이 있고, 현금이 아닌 신용카드나 지역화폐에 대해 추가 금전을 받으면서 현금거래를 유도하는 것은 탈세 이외에 다른 이유가 없으므로 세무조사 대상”이라고 했다.\n",
      "그는 “지역화폐 ‘깡’(불법 할인 거래)을 단속하기 위해 구성된 경기도특별사법경찰단 특별수사팀에 지역화폐 바가지 조사업무를 맡기고, 확인되는 업체는 가맹제한과 형사처벌하며 시군과 합동으로 세무조사를 실시할 것”이라고 했다. 또 “신고자 신분을 보장하고 특별사법경찰이 손님을 가장해 사실을 확인하겠다”고도 했다.\n",
      "이 지사는 “극소수의 작은 탐욕을 위한 지역화폐 바가지는 선량한 대다수 중소상공인의 명예와 신뢰를 훼손하고, 중소상공인을 위한 지역화폐의 정착을 방해한다”며 “힘겹게 만든 소상공인 회생과 공동체 회복 기회를 소수의 불법 부도덕 행위로 망칠 수는 없다. 지역화폐 바가지 근절을 응원하고 힘을 모아 주시기 바란다”고 당부했다.\n",
      "아래는 이재명 경기지사의 페이스북 글 전문\n",
      "먼저, 신용카드 가맹점이 신용카드 사용자를 차별(거래거절, 수수료 요구 등)하면 필수적으로 가맹취소를 당하고(여신금융업법 19조 1항, 21조), 관계자와 사장은 최대 징역 1년 또는 벌금 1천만원에 처해지는데(70조 4항 4호, 71조),\n",
      "신용카드로 받은 지역화폐를 사용할 때 추가 수수료를 요구하거나 거래를 거부하면 위 조항 위반되어 형사처벌과 가맹해지 사유입니다.\n",
      "다음으로, 선불카드나 종이상품권 거래를 하면서 현금이 아니라는 이유로 수수료나 부가세 기타 어떤 명목으로든 추가금전을 받으면(현금으로 주면 대금을 깍아주는 경우 포함) 지역화폐 가맹자격을 박탈합니다.\n",
      "지방정부는 지방소득세와 관련된 세무조사권이 있고, 현금 아닌 신용카드나 지역화폐에 대해 추가 금전을 받으면서 현금거래를 유도하는 것은 탈세 이외에 다른 이유가 없으므로 세무조사 대상입니다.\n",
      "지역화폐 깡을 단속하기 위해 경기도특별사법경찰단으로 구성된 특별수사팀에 지역화폐 바가지 조사업무를 맡기고, 확인되는 업체는 가맹제한과 형사처벌하며 시군과 합동으로 세무조사를 실시할 것입니다.\n",
      "031-120과 이재명 또는 경기도의 모든 SNS에 신고해 주시기 바랍니다.(031-120 전화가 업무 폭주로 통화가 되지 않는 경우가 많으므로 가급적 SNS메시지를 이용해 주시기 바랍니다.)\n",
      "신고시 본인을 드러내기 어려우시면 거래일자와 거래점의 명칭과 주소, 추상적 거래내용을 알려 주시면 신고자 신분은 보장하고, 도 특사경이 손님을 가장하여 사실을 확인한 다음 처벌과 가맹해지 및 세무조사 대상으로 선정하겠습니다.\n",
      "모두를 위한 법과 약속은 지켜져야 합니다. 적폐청산에는 네편내편 크고 작은 것이 있을 수 없습니다. 작은 불법도 하지 않아야 기득권자들의 큰 불법척결에 정당성이 부여됩니다.\n",
      "극소수의 작은 탐욕을 위한 지역화폐 바가지는 선량한 대다수 중소상공인의 명예와 신뢰를 훼손하고, 중소상공인을 위한 지역화폐의 정착을 방해합니다.\n",
      "모처럼 힘겹게 만든 소상공인 회생과 공동체 회복 기회를 소수의 불법 부도덕 행위로 망칠 수는 없습니다. 지역화폐 바가지 근절을 응원하고 힘을 모아 주시기 바랍니다.\n",
      "* 참고로 아래 첨부사진의 031-120 답변은 휴일이라 관련 지침이 콜센터까지 전달되지 못해 생긴 잘못된 답변입니다. 수정답변하도록 지시했습니다.\n",
      "==============================\n",
      "==============================\n",
      "이재명 \"'전시재정'에 공감, 재원은 국채로\"\n",
      "문재인 대통령의 “전시재정(戰時財政)을 편성한다는 각오로 재정 역량을 총동원해야 한다”는 방침에 이재명 경기지사가 “문 대통령의 인식에 전적으로 공감한다”고 밝혔다.\n",
      "이재명 경기지사.\n",
      "이 지사는 26일 소셜미디어에 올린 글에서 “전대미문의 경제위기에서 정부 역할과 재정 기능을 전시에 준하는 수준으로 대폭 늘릴 때가 맞다”며 “다만 재원은 증세 아닌 국채 발행으로 해야한다”고 밝혔다.\n",
      "이 지사는 국채 발행 이유에 대해 “기업이나 부자도 어렵긴 마찬가지고, 우리 국채 비율은 세계적으로 가장 낮아 여력이 충분하기 때문”이라며 “사실상 상환 의무가 없는 영구채의 한시 발행도 검토해야 한다”고 말했다.\n",
      "또 “이제 K방역에 이은 K경제의 길을 열어가야 한다”며 “K경제의 핵심은 바로 소멸성 지역화폐와 기본소득을 통한 소비역량 강화”라고 주장했다. 이 지사는 “전 가구 재난지원금과 경기도 재난기본소득의 재정지출 가성비가 상상 이상”이라고 덧붙였다.\n",
      "또 “포스트 코로나 시대에는 소비역량을 늘려 공급역량과 균형을 맞춤으로서 수요공급의 선순환 보장정책이 필수”라며 “그게 바로 이번에 체험한 ‘지역화폐식 기본소득’이고, 전세계가 배우고 따라올 수 밖에 없는 세계경제의 새로운 모범 K경제의 길”이라고 말했다.\n",
      "==============================\n",
      "==============================\n"
     ]
    },
    {
     "ename": "NoSuchElementException",
     "evalue": "Message: no such element: Unable to locate element: {\"method\":\"xpath\",\"selector\":\"//*[@id=\"fusion-app\"]/div[1]/div[2]/div/div/div[3]/h1/span\"}\n  (Session info: chrome=96.0.4664.110)\nStacktrace:\nBacktrace:\n\tOrdinal0 [0x00E26903+2517251]\n\tOrdinal0 [0x00DBF8E1+2095329]\n\tOrdinal0 [0x00CC2848+1058888]\n\tOrdinal0 [0x00CED448+1233992]\n\tOrdinal0 [0x00CED63B+1234491]\n\tOrdinal0 [0x00D17812+1406994]\n\tOrdinal0 [0x00D0650A+1336586]\n\tOrdinal0 [0x00D15BBF+1399743]\n\tOrdinal0 [0x00D0639B+1336219]\n\tOrdinal0 [0x00CE27A7+1189799]\n\tOrdinal0 [0x00CE3609+1193481]\n\tGetHandleVerifier [0x00FB5904+1577972]\n\tGetHandleVerifier [0x01060B97+2279047]\n\tGetHandleVerifier [0x00EB6D09+534521]\n\tGetHandleVerifier [0x00EB5DB9+530601]\n\tOrdinal0 [0x00DC4FF9+2117625]\n\tOrdinal0 [0x00DC98A8+2136232]\n\tOrdinal0 [0x00DC99E2+2136546]\n\tOrdinal0 [0x00DD3541+2176321]\n\tBaseThreadInitThunk [0x7725FA29+25]\n\tRtlGetAppContainerNamedObjectPath [0x77487A9E+286]\n\tRtlGetAppContainerNamedObjectPath [0x77487A6E+238]\n",
     "output_type": "error",
     "traceback": [
      "\u001b[1;31m---------------------------------------------------------------------------\u001b[0m",
      "\u001b[1;31mNoSuchElementException\u001b[0m                    Traceback (most recent call last)",
      "\u001b[1;32m~\\AppData\\Local\\Temp/ipykernel_22368/193909015.py\u001b[0m in \u001b[0;36m<module>\u001b[1;34m\u001b[0m\n\u001b[0;32m      2\u001b[0m     \u001b[0mdriver\u001b[0m\u001b[1;33m.\u001b[0m\u001b[0mget\u001b[0m\u001b[1;33m(\u001b[0m\u001b[0murl\u001b[0m\u001b[1;33m)\u001b[0m\u001b[1;33m\u001b[0m\u001b[1;33m\u001b[0m\u001b[0m\n\u001b[0;32m      3\u001b[0m     \u001b[0mtime\u001b[0m\u001b[1;33m.\u001b[0m\u001b[0msleep\u001b[0m\u001b[1;33m(\u001b[0m\u001b[1;36m1\u001b[0m\u001b[1;33m)\u001b[0m\u001b[1;33m\u001b[0m\u001b[1;33m\u001b[0m\u001b[0m\n\u001b[1;32m----> 4\u001b[1;33m     \u001b[0mtitle\u001b[0m \u001b[1;33m=\u001b[0m \u001b[0mdriver\u001b[0m\u001b[1;33m.\u001b[0m\u001b[0mfind_element_by_xpath\u001b[0m\u001b[1;33m(\u001b[0m\u001b[1;34m'//*[@id=\"fusion-app\"]/div[1]/div[2]/div/div/div[3]/h1/span'\u001b[0m\u001b[1;33m)\u001b[0m\u001b[1;33m.\u001b[0m\u001b[0mtext\u001b[0m\u001b[1;33m\u001b[0m\u001b[1;33m\u001b[0m\u001b[0m\n\u001b[0m\u001b[0;32m      5\u001b[0m     \u001b[0mcontent\u001b[0m \u001b[1;33m=\u001b[0m \u001b[0mdriver\u001b[0m\u001b[1;33m.\u001b[0m\u001b[0mfind_element_by_xpath\u001b[0m\u001b[1;33m(\u001b[0m\u001b[1;34m'//*[@id=\"fusion-app\"]/div[1]/div[2]/div/section/article/section'\u001b[0m\u001b[1;33m)\u001b[0m\u001b[1;33m.\u001b[0m\u001b[0mtext\u001b[0m\u001b[1;33m\u001b[0m\u001b[1;33m\u001b[0m\u001b[0m\n\u001b[0;32m      6\u001b[0m     \u001b[0mprint\u001b[0m\u001b[1;33m(\u001b[0m\u001b[0mtitle\u001b[0m\u001b[1;33m)\u001b[0m\u001b[1;33m\u001b[0m\u001b[1;33m\u001b[0m\u001b[0m\n",
      "\u001b[1;32m~\\anaconda3\\lib\\site-packages\\selenium\\webdriver\\remote\\webdriver.py\u001b[0m in \u001b[0;36mfind_element_by_xpath\u001b[1;34m(self, xpath)\u001b[0m\n\u001b[0;32m    518\u001b[0m             \u001b[0mstacklevel\u001b[0m\u001b[1;33m=\u001b[0m\u001b[1;36m2\u001b[0m\u001b[1;33m,\u001b[0m\u001b[1;33m\u001b[0m\u001b[1;33m\u001b[0m\u001b[0m\n\u001b[0;32m    519\u001b[0m         )\n\u001b[1;32m--> 520\u001b[1;33m         \u001b[1;32mreturn\u001b[0m \u001b[0mself\u001b[0m\u001b[1;33m.\u001b[0m\u001b[0mfind_element\u001b[0m\u001b[1;33m(\u001b[0m\u001b[0mby\u001b[0m\u001b[1;33m=\u001b[0m\u001b[0mBy\u001b[0m\u001b[1;33m.\u001b[0m\u001b[0mXPATH\u001b[0m\u001b[1;33m,\u001b[0m \u001b[0mvalue\u001b[0m\u001b[1;33m=\u001b[0m\u001b[0mxpath\u001b[0m\u001b[1;33m)\u001b[0m\u001b[1;33m\u001b[0m\u001b[1;33m\u001b[0m\u001b[0m\n\u001b[0m\u001b[0;32m    521\u001b[0m \u001b[1;33m\u001b[0m\u001b[0m\n\u001b[0;32m    522\u001b[0m     \u001b[1;32mdef\u001b[0m \u001b[0mfind_elements_by_xpath\u001b[0m\u001b[1;33m(\u001b[0m\u001b[0mself\u001b[0m\u001b[1;33m,\u001b[0m \u001b[0mxpath\u001b[0m\u001b[1;33m)\u001b[0m \u001b[1;33m->\u001b[0m \u001b[0mWebElement\u001b[0m\u001b[1;33m:\u001b[0m\u001b[1;33m\u001b[0m\u001b[1;33m\u001b[0m\u001b[0m\n",
      "\u001b[1;32m~\\anaconda3\\lib\\site-packages\\selenium\\webdriver\\remote\\webdriver.py\u001b[0m in \u001b[0;36mfind_element\u001b[1;34m(self, by, value)\u001b[0m\n\u001b[0;32m   1242\u001b[0m             \u001b[0mvalue\u001b[0m \u001b[1;33m=\u001b[0m \u001b[1;34m'[name=\"%s\"]'\u001b[0m \u001b[1;33m%\u001b[0m \u001b[0mvalue\u001b[0m\u001b[1;33m\u001b[0m\u001b[1;33m\u001b[0m\u001b[0m\n\u001b[0;32m   1243\u001b[0m \u001b[1;33m\u001b[0m\u001b[0m\n\u001b[1;32m-> 1244\u001b[1;33m         return self.execute(Command.FIND_ELEMENT, {\n\u001b[0m\u001b[0;32m   1245\u001b[0m             \u001b[1;34m'using'\u001b[0m\u001b[1;33m:\u001b[0m \u001b[0mby\u001b[0m\u001b[1;33m,\u001b[0m\u001b[1;33m\u001b[0m\u001b[1;33m\u001b[0m\u001b[0m\n\u001b[0;32m   1246\u001b[0m             'value': value})['value']\n",
      "\u001b[1;32m~\\anaconda3\\lib\\site-packages\\selenium\\webdriver\\remote\\webdriver.py\u001b[0m in \u001b[0;36mexecute\u001b[1;34m(self, driver_command, params)\u001b[0m\n\u001b[0;32m    422\u001b[0m         \u001b[0mresponse\u001b[0m \u001b[1;33m=\u001b[0m \u001b[0mself\u001b[0m\u001b[1;33m.\u001b[0m\u001b[0mcommand_executor\u001b[0m\u001b[1;33m.\u001b[0m\u001b[0mexecute\u001b[0m\u001b[1;33m(\u001b[0m\u001b[0mdriver_command\u001b[0m\u001b[1;33m,\u001b[0m \u001b[0mparams\u001b[0m\u001b[1;33m)\u001b[0m\u001b[1;33m\u001b[0m\u001b[1;33m\u001b[0m\u001b[0m\n\u001b[0;32m    423\u001b[0m         \u001b[1;32mif\u001b[0m \u001b[0mresponse\u001b[0m\u001b[1;33m:\u001b[0m\u001b[1;33m\u001b[0m\u001b[1;33m\u001b[0m\u001b[0m\n\u001b[1;32m--> 424\u001b[1;33m             \u001b[0mself\u001b[0m\u001b[1;33m.\u001b[0m\u001b[0merror_handler\u001b[0m\u001b[1;33m.\u001b[0m\u001b[0mcheck_response\u001b[0m\u001b[1;33m(\u001b[0m\u001b[0mresponse\u001b[0m\u001b[1;33m)\u001b[0m\u001b[1;33m\u001b[0m\u001b[1;33m\u001b[0m\u001b[0m\n\u001b[0m\u001b[0;32m    425\u001b[0m             response['value'] = self._unwrap_value(\n\u001b[0;32m    426\u001b[0m                 response.get('value', None))\n",
      "\u001b[1;32m~\\anaconda3\\lib\\site-packages\\selenium\\webdriver\\remote\\errorhandler.py\u001b[0m in \u001b[0;36mcheck_response\u001b[1;34m(self, response)\u001b[0m\n\u001b[0;32m    245\u001b[0m                 \u001b[0malert_text\u001b[0m \u001b[1;33m=\u001b[0m \u001b[0mvalue\u001b[0m\u001b[1;33m[\u001b[0m\u001b[1;34m'alert'\u001b[0m\u001b[1;33m]\u001b[0m\u001b[1;33m.\u001b[0m\u001b[0mget\u001b[0m\u001b[1;33m(\u001b[0m\u001b[1;34m'text'\u001b[0m\u001b[1;33m)\u001b[0m\u001b[1;33m\u001b[0m\u001b[1;33m\u001b[0m\u001b[0m\n\u001b[0;32m    246\u001b[0m             \u001b[1;32mraise\u001b[0m \u001b[0mexception_class\u001b[0m\u001b[1;33m(\u001b[0m\u001b[0mmessage\u001b[0m\u001b[1;33m,\u001b[0m \u001b[0mscreen\u001b[0m\u001b[1;33m,\u001b[0m \u001b[0mstacktrace\u001b[0m\u001b[1;33m,\u001b[0m \u001b[0malert_text\u001b[0m\u001b[1;33m)\u001b[0m  \u001b[1;31m# type: ignore[call-arg]  # mypy is not smart enough here\u001b[0m\u001b[1;33m\u001b[0m\u001b[1;33m\u001b[0m\u001b[0m\n\u001b[1;32m--> 247\u001b[1;33m         \u001b[1;32mraise\u001b[0m \u001b[0mexception_class\u001b[0m\u001b[1;33m(\u001b[0m\u001b[0mmessage\u001b[0m\u001b[1;33m,\u001b[0m \u001b[0mscreen\u001b[0m\u001b[1;33m,\u001b[0m \u001b[0mstacktrace\u001b[0m\u001b[1;33m)\u001b[0m\u001b[1;33m\u001b[0m\u001b[1;33m\u001b[0m\u001b[0m\n\u001b[0m\u001b[0;32m    248\u001b[0m \u001b[1;33m\u001b[0m\u001b[0m\n\u001b[0;32m    249\u001b[0m     \u001b[1;32mdef\u001b[0m \u001b[0m_value_or_default\u001b[0m\u001b[1;33m(\u001b[0m\u001b[0mself\u001b[0m\u001b[1;33m,\u001b[0m \u001b[0mobj\u001b[0m\u001b[1;33m:\u001b[0m \u001b[0mMapping\u001b[0m\u001b[1;33m[\u001b[0m\u001b[0m_KT\u001b[0m\u001b[1;33m,\u001b[0m \u001b[0m_VT\u001b[0m\u001b[1;33m]\u001b[0m\u001b[1;33m,\u001b[0m \u001b[0mkey\u001b[0m\u001b[1;33m:\u001b[0m \u001b[0m_KT\u001b[0m\u001b[1;33m,\u001b[0m \u001b[0mdefault\u001b[0m\u001b[1;33m:\u001b[0m \u001b[0m_VT\u001b[0m\u001b[1;33m)\u001b[0m \u001b[1;33m->\u001b[0m \u001b[0m_VT\u001b[0m\u001b[1;33m:\u001b[0m\u001b[1;33m\u001b[0m\u001b[1;33m\u001b[0m\u001b[0m\n",
      "\u001b[1;31mNoSuchElementException\u001b[0m: Message: no such element: Unable to locate element: {\"method\":\"xpath\",\"selector\":\"//*[@id=\"fusion-app\"]/div[1]/div[2]/div/div/div[3]/h1/span\"}\n  (Session info: chrome=96.0.4664.110)\nStacktrace:\nBacktrace:\n\tOrdinal0 [0x00E26903+2517251]\n\tOrdinal0 [0x00DBF8E1+2095329]\n\tOrdinal0 [0x00CC2848+1058888]\n\tOrdinal0 [0x00CED448+1233992]\n\tOrdinal0 [0x00CED63B+1234491]\n\tOrdinal0 [0x00D17812+1406994]\n\tOrdinal0 [0x00D0650A+1336586]\n\tOrdinal0 [0x00D15BBF+1399743]\n\tOrdinal0 [0x00D0639B+1336219]\n\tOrdinal0 [0x00CE27A7+1189799]\n\tOrdinal0 [0x00CE3609+1193481]\n\tGetHandleVerifier [0x00FB5904+1577972]\n\tGetHandleVerifier [0x01060B97+2279047]\n\tGetHandleVerifier [0x00EB6D09+534521]\n\tGetHandleVerifier [0x00EB5DB9+530601]\n\tOrdinal0 [0x00DC4FF9+2117625]\n\tOrdinal0 [0x00DC98A8+2136232]\n\tOrdinal0 [0x00DC99E2+2136546]\n\tOrdinal0 [0x00DD3541+2176321]\n\tBaseThreadInitThunk [0x7725FA29+25]\n\tRtlGetAppContainerNamedObjectPath [0x77487A9E+286]\n\tRtlGetAppContainerNamedObjectPath [0x77487A6E+238]\n"
     ]
    }
   ],
   "source": [
    "for url in url_list:\n",
    "    driver.get(url)\n",
    "    time.sleep(1)\n",
    "    title = driver.find_element_by_xpath('//*[@id=\"fusion-app\"]/div[1]/div[2]/div/div/div[3]/h1/span').text\n",
    "    content = driver.find_element_by_xpath('//*[@id=\"fusion-app\"]/div[1]/div[2]/div/section/article/section').text\n",
    "    print(title)\n",
    "    print(content)\n",
    "    \n",
    "    print('='*30)\n",
    "    print('='*30)"
   ]
  },
  {
   "cell_type": "code",
   "execution_count": 21,
   "metadata": {},
   "outputs": [
    {
     "name": "stderr",
     "output_type": "stream",
     "text": [
      "C:\\Users\\user\\AppData\\Local\\Temp/ipykernel_22368/2163321800.py:7: DeprecationWarning: find_element_by_* commands are deprecated. Please use find_element() instead\n",
      "  title = driver.find_element_by_xpath('//*[@id=\"fusion-app\"]/div[1]/div[2]/div/div/div[3]/h1/span').text\n",
      "C:\\Users\\user\\AppData\\Local\\Temp/ipykernel_22368/2163321800.py:8: DeprecationWarning: find_element_by_* commands are deprecated. Please use find_element() instead\n",
      "  content = driver.find_element_by_xpath('//*[@id=\"fusion-app\"]/div[1]/div[2]/div/section/article/section').text\n"
     ]
    },
    {
     "name": "stdout",
     "output_type": "stream",
     "text": [
      "No more news\n"
     ]
    }
   ],
   "source": [
    "new_text=[]\n",
    "number=-1\n",
    "for url in url_list:\n",
    "    try:\n",
    "        driver.get(url)\n",
    "        time.sleep(1)\n",
    "        title = driver.find_element_by_xpath('//*[@id=\"fusion-app\"]/div[1]/div[2]/div/div/div[3]/h1/span').text\n",
    "        content = driver.find_element_by_xpath('//*[@id=\"fusion-app\"]/div[1]/div[2]/div/section/article/section').text\n",
    "        number += 1\n",
    "        news = f'코드 : {paper} 순번 :{number}\\n 제목 : {title} \\n 본문 : {content}'\n",
    "        new_text.append(news)\n",
    "    except NoSuchElementException:\n",
    "        print(\"No more news\")\n",
    "        break"
   ]
  },
  {
   "cell_type": "code",
   "execution_count": 5,
   "metadata": {},
   "outputs": [
    {
     "ename": "NameError",
     "evalue": "name 'pd' is not defined",
     "output_type": "error",
     "traceback": [
      "\u001b[1;31m---------------------------------------------------------------------------\u001b[0m",
      "\u001b[1;31mNameError\u001b[0m                                 Traceback (most recent call last)",
      "\u001b[1;32m~\\AppData\\Local\\Temp/ipykernel_27088/17278662.py\u001b[0m in \u001b[0;36m<module>\u001b[1;34m\u001b[0m\n\u001b[0;32m      1\u001b[0m \u001b[0mcol\u001b[0m \u001b[1;33m=\u001b[0m \u001b[1;33m{\u001b[0m\u001b[1;34m'순번'\u001b[0m\u001b[1;33m:\u001b[0m \u001b[1;33m[\u001b[0m\u001b[1;33m]\u001b[0m\u001b[1;33m,\u001b[0m \u001b[1;34m'제목'\u001b[0m\u001b[1;33m:\u001b[0m \u001b[1;33m[\u001b[0m\u001b[1;33m]\u001b[0m\u001b[1;33m,\u001b[0m \u001b[1;34m'본문'\u001b[0m\u001b[1;33m:\u001b[0m \u001b[1;33m[\u001b[0m\u001b[1;33m]\u001b[0m\u001b[1;33m}\u001b[0m\u001b[1;33m\u001b[0m\u001b[1;33m\u001b[0m\u001b[0m\n\u001b[1;32m----> 2\u001b[1;33m \u001b[0mnews_lists\u001b[0m \u001b[1;33m=\u001b[0m \u001b[0mpd\u001b[0m\u001b[1;33m.\u001b[0m\u001b[0mDataFrame\u001b[0m\u001b[1;33m(\u001b[0m\u001b[0mnews_list\u001b[0m\u001b[1;33m)\u001b[0m\u001b[1;33m\u001b[0m\u001b[1;33m\u001b[0m\u001b[0m\n\u001b[0m\u001b[0;32m      3\u001b[0m \u001b[0mprint\u001b[0m\u001b[1;33m(\u001b[0m\u001b[0mnews_lists\u001b[0m\u001b[1;33m)\u001b[0m\u001b[1;33m\u001b[0m\u001b[1;33m\u001b[0m\u001b[0m\n",
      "\u001b[1;31mNameError\u001b[0m: name 'pd' is not defined"
     ]
    }
   ],
   "source": [
    "col = {'순번': [], '제목': [], '본문': []}\n",
    "news_lists = pd.DataFrame(news_list)\n",
    "print(news_lists)"
   ]
  },
  {
   "cell_type": "code",
   "execution_count": null,
   "metadata": {},
   "outputs": [],
   "source": []
  }
 ],
 "metadata": {
  "kernelspec": {
   "display_name": "Python 3 (ipykernel)",
   "language": "python",
   "name": "python3"
  },
  "language_info": {
   "codemirror_mode": {
    "name": "ipython",
    "version": 3
   },
   "file_extension": ".py",
   "mimetype": "text/x-python",
   "name": "python",
   "nbconvert_exporter": "python",
   "pygments_lexer": "ipython3",
   "version": "3.9.7"
  },
  "toc": {
   "base_numbering": 1,
   "nav_menu": {},
   "number_sections": true,
   "sideBar": true,
   "skip_h1_title": false,
   "title_cell": "Table of Contents",
   "title_sidebar": "Contents",
   "toc_cell": false,
   "toc_position": {},
   "toc_section_display": true,
   "toc_window_display": false
  },
  "varInspector": {
   "cols": {
    "lenName": 16,
    "lenType": 16,
    "lenVar": 40
   },
   "kernels_config": {
    "python": {
     "delete_cmd_postfix": "",
     "delete_cmd_prefix": "del ",
     "library": "var_list.py",
     "varRefreshCmd": "print(var_dic_list())"
    },
    "r": {
     "delete_cmd_postfix": ") ",
     "delete_cmd_prefix": "rm(",
     "library": "var_list.r",
     "varRefreshCmd": "cat(var_dic_list()) "
    }
   },
   "types_to_exclude": [
    "module",
    "function",
    "builtin_function_or_method",
    "instance",
    "_Feature"
   ],
   "window_display": false
  }
 },
 "nbformat": 4,
 "nbformat_minor": 2
}
