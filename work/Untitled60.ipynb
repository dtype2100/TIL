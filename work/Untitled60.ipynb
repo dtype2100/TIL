{
 "cells": [
  {
   "cell_type": "code",
   "execution_count": 1,
   "id": "6ea87c4c",
   "metadata": {},
   "outputs": [],
   "source": [
    "import re\n",
    "\n",
    "import requests\n",
    "from bs4 import BeautifulSoup\n",
    "from konlpy.tag import Hannanum, Kkma, Komoran, Mecab, Okt\n",
    "hannanum = Hannanum()\n",
    "kkma = Kkma()\n",
    "komoran = Komoran()\n",
    "mecab = Mecab()\n",
    "okt = Okt()"
   ]
  },
  {
   "cell_type": "code",
   "execution_count": 2,
   "id": "29e7d340",
   "metadata": {},
   "outputs": [],
   "source": [
    "url = \"https://news.naver.com/main/read.naver?mode=LSD&mid=sec&sid1=105&oid=018&aid=0004430108\"\n",
    "headers = {\"user-agent\":\"Mozilla/5.0\"}\n",
    "response = requests.get(url, headers=headers)\n",
    "html = BeautifulSoup(response.text, 'html.parser')"
   ]
  },
  {
   "cell_type": "code",
   "execution_count": 3,
   "id": "2f040651",
   "metadata": {},
   "outputs": [
    {
     "data": {
      "text/plain": [
       "'\\n\\n\\n\\n\\n과기정통부, 22일 유영민 장관 등 참석해 기념행사2021년까지 1516억원 투입, 5100여종 데이터 구축민간 클라우드 통한 외부연계체계도..\"개방성 강화\"[이데일리 이재운 기자] 국가 차원의 빅데이터 활용 시대가 열린다. 새로운 산업 창출과 기존 산업의 변화에 이르는 ‘혁신성장’을 위한 센터가 문을 연다. 10개 분야에 걸쳐 ‘데이터 경제’의 발전을 위한 정부의 청사진을 현실로 구현하는데 앞장선다는 계획이다.22일 과학기술정보통신부는 서울 중구 대한상공회의소에서 데이터 생태계 조성과 혁신 성장의 기반 마련을 위한 ‘빅데이터 플랫폼 및 센터’ 출범식 행사를 개최했다. 유영민 과기정통부 장관을 비롯해 노웅래 국회 과학기술정보방송통신위원회 위원장 등 300여명이 참가했다.◇10개 분야 100개 센터..3년간 1516억원 투입이미지: 픽사베이빅데이터는 데이터 활용을 통해 혁신성장을 이루자는 문재인 정부의 경제 성장 핵심 요소중 하나다. 문재인 대통령이 직접 올 들어 데이터 활용과 이에 따른 정보보호(보안)에 대한 중요성을 강조하기도 했다.이런 맥락 속에서 빅데이터센터는 공공과 민간이 협업해 활용도 높은 양질의 데이터를 생산·구축하고, 플랫폼은 이를 수집·분석·유통하는 역할을 담당한다. 과기정통부는 분야별 플랫폼 10개소와 이와 연계된 기관별 센터 100개소를 구축하는데 3년간 총 1516억원을 투입할 계획이며, 올해 우선 640억원 규모의 사업을 추진하고 있다.대상 분야는 △금융(BC카드) △환경(한국수자원공사) △문화(한국문화정보원) △교통(한국교통연구원) △헬스케어(국립암센터) △유통·소비(매일방송) △통신(KT) △중소기업(더존비즈온) △지역경제(경기도청) △산림(한국임업진흥원) 등으로 현재 1차 공모를 통해 72개 빅데이터 센터를 선정했고, 다음달 8일까지 2차 공모를 통해 28개를 추가 선정해 총 100개를 지원, 운영할 계획이다. 이를 통해 데이터 생태계를 혁신하고 기업의 경쟁력을 제고하는 역할을 수행한다.주요 활용 전략·사례를 보면 빅데이터 활용을 통해 ‘신(新) 시장’을 창출하는 방안을 담고 있다. 금융 플랫폼의 경우 소상공인 신용평가 고도화 등을 통해 금융 취약 계층 대상 중금리 대출이자를 2%p 절감해 연간 1조원의 신규대출을 창출할 전망이다. 유통·소비와 중소기업 플랫폼은 소상공인이나 중소기업의 폐업률 감소를, 문화 플랫폼은 문화·예술 관람률과 생활체육 참여율을 높이는 방안을 모색한다. 의료비 절감(헬스케어)과 기업의 매출 향상을 통한 산업 육성(통신·산림) 등도 눈길을 끈다.과기정통부 제공◇2021년까지 5100여종 데이터 구축..AI 알고리즘 제공도센터는 우선 분야별 데이터 부족 문제를 해소하기 위해 올해 말까지 시장 수요가 높은 1400여종 신규 데이터를 생산ㆍ구축하고, 사업이 완료되는 2021년까지 총 5100여종 양질의 풍부한 데이터를 생산·구축해 시장에 공급할 계획이다.특히 공공과 민간 사이 데이터 파일형식 등이 달라 호환이 제대로 이뤄지지 못한 문제를 해소하기 위해 개방형 표준을 적용하고, 품질관리기준도 마련해 운영한다.기업들이 실제 활용 가능한 최신 데이터를 확보하는데도 수개월이 소요된다는 문제점을 개선하기 위한 방안도 추진한다. 센터와 플랫폼 간 연계체계에는 민간 클라우드를 기반으로 활용하고, 센터에 축적된 데이터도 계속 외부와 개방·공유하며 최신·연속성을 확보한다는 계획이다.100개 센터에서 수집된 데이터를 융합·분석한 뒤 맞춤형 데이터 제작 등 양질의 데이터로 재생산하고, 기업들이 필요로 하는 데이터를 원하는 형태로 즉시 활용할 수 있도록 제공할 계획이다. 다양한 분석 도구는 물론 인공지능(AI) 학습 알고리즘도 제공해 이용자가 보다 사용하기 편리한 환경을 제공한다.이밖에 필요한 데이터를 쉽게 등록하고 검색할 수 있도록 기준을 마련하고, 데이터 보유와 관리에 대한 체계(거버넌스)를 논의하는 ‘데이터 얼라이언스’를 구성해 보다 안전하게 이용하는 방안도 마련했다.유영민 과기정통부 장관은 “오늘 출범식은 대한민국이 데이터 강국으로 가기 위한 초석을 놓은 자리”라며 “세계 주요국들보다 데이터 경제로 나아가는 발걸음이 다소 늦었지만, 빅데이터 플랫폼과 센터를 지렛대로 우리나라의 낙후된 데이터 생태계를 혁신하고 기업의 경쟁력을 한 단계 제고할 수 있도록 정책적 역량을 집중하겠다”고 밝혔다.이재운 (jwlee@edaily.co.kr)네이버 홈에서 ‘이데일리’ 뉴스 [구독하기▶]꿀잼가득 [영상보기▶] , 청춘뉘우스~ [스냅타임▶]＜ⓒ종합 경제정보 미디어 이데일리 - 무단전재 & 재배포 금지＞\\n\\n'"
      ]
     },
     "execution_count": 3,
     "metadata": {},
     "output_type": "execute_result"
    }
   ],
   "source": [
    "article = html.select_one(\"#articleBodyContents\").text\n",
    "article"
   ]
  },
  {
   "cell_type": "code",
   "execution_count": 4,
   "id": "36569bb6",
   "metadata": {},
   "outputs": [
    {
     "data": {
      "text/plain": [
       "12"
      ]
     },
     "execution_count": 4,
     "metadata": {},
     "output_type": "execute_result"
    }
   ],
   "source": [
    "from nltk import sent_tokenize\n",
    "\n",
    "sentences = sent_tokenize(article)\n",
    "len(sentences)"
   ]
  },
  {
   "cell_type": "code",
   "execution_count": 5,
   "id": "f62e5c64",
   "metadata": {},
   "outputs": [
    {
     "data": {
      "text/plain": [
       "'과기정통부, 22일 유영민 장관 등 참석해 기념행사2021년까지 1516억원 투입, 5100여종 데이터 구축민간 클라우드 통한 외부연계체계도..\"개방성 강화\"[이데일리 이재운 기자] 국가 차원의 빅데이터 활용 시대가 열린다.'"
      ]
     },
     "execution_count": 5,
     "metadata": {},
     "output_type": "execute_result"
    }
   ],
   "source": [
    "sentence = sentences[0].strip()\n",
    "sentence"
   ]
  },
  {
   "cell_type": "code",
   "execution_count": 6,
   "id": "8d2be792",
   "metadata": {},
   "outputs": [
    {
     "data": {
      "text/plain": [
       "['과기',\n",
       " '정통부',\n",
       " ',',\n",
       " '22',\n",
       " '일',\n",
       " '유영민',\n",
       " '장관',\n",
       " '등',\n",
       " '참석',\n",
       " '해',\n",
       " '기념행사',\n",
       " '2021',\n",
       " '년',\n",
       " '까지',\n",
       " '1516',\n",
       " '억',\n",
       " '원',\n",
       " '투입',\n",
       " ',',\n",
       " '5100',\n",
       " '여종',\n",
       " '데이터',\n",
       " '구축',\n",
       " '민간',\n",
       " '클라우드',\n",
       " '통한',\n",
       " '외부',\n",
       " '연계',\n",
       " '체계',\n",
       " '도',\n",
       " '.',\n",
       " '.\"',\n",
       " '개방',\n",
       " '성',\n",
       " '강화',\n",
       " '\"[',\n",
       " '이',\n",
       " '데일리',\n",
       " '이재운',\n",
       " '기자',\n",
       " ']',\n",
       " '국가',\n",
       " '차원',\n",
       " '의',\n",
       " '빅',\n",
       " '데이터',\n",
       " '활용',\n",
       " '시대',\n",
       " '가',\n",
       " '열린다',\n",
       " '.']"
      ]
     },
     "execution_count": 6,
     "metadata": {},
     "output_type": "execute_result"
    }
   ],
   "source": [
    "mecab.morphs(sentence)"
   ]
  },
  {
   "cell_type": "code",
   "execution_count": 7,
   "id": "2a1559c2",
   "metadata": {},
   "outputs": [
    {
     "data": {
      "text/plain": [
       "[('과기', 'NNG'),\n",
       " ('정통부', 'NNG'),\n",
       " (',', 'SC'),\n",
       " ('22', 'SN'),\n",
       " ('일', 'NNBC'),\n",
       " ('유영민', 'NNP'),\n",
       " ('장관', 'NNG'),\n",
       " ('등', 'NNB'),\n",
       " ('참석', 'NNG'),\n",
       " ('해', 'XSV+EC'),\n",
       " ('기념행사', 'NNG'),\n",
       " ('2021', 'SN'),\n",
       " ('년', 'NNBC'),\n",
       " ('까지', 'JX'),\n",
       " ('1516', 'SN'),\n",
       " ('억', 'NR'),\n",
       " ('원', 'NNBC'),\n",
       " ('투입', 'NNG'),\n",
       " (',', 'SC'),\n",
       " ('5100', 'SN'),\n",
       " ('여종', 'NNG'),\n",
       " ('데이터', 'NNG'),\n",
       " ('구축', 'NNG'),\n",
       " ('민간', 'NNG'),\n",
       " ('클라우드', 'NNP'),\n",
       " ('통한', 'VV+ETM'),\n",
       " ('외부', 'NNG'),\n",
       " ('연계', 'NNG'),\n",
       " ('체계', 'NNG'),\n",
       " ('도', 'JX'),\n",
       " ('.', 'SF'),\n",
       " ('.\"', 'SY'),\n",
       " ('개방', 'NNG'),\n",
       " ('성', 'XSN'),\n",
       " ('강화', 'NNG'),\n",
       " ('\"[', 'SY'),\n",
       " ('이', 'JKS'),\n",
       " ('데일리', 'NNP'),\n",
       " ('이재운', 'NNP'),\n",
       " ('기자', 'NNG'),\n",
       " (']', 'SSC'),\n",
       " ('국가', 'NNG'),\n",
       " ('차원', 'NNG'),\n",
       " ('의', 'JKG'),\n",
       " ('빅', 'NNG'),\n",
       " ('데이터', 'NNG'),\n",
       " ('활용', 'NNG'),\n",
       " ('시대', 'NNG'),\n",
       " ('가', 'JKS'),\n",
       " ('열린다', 'VV+EF'),\n",
       " ('.', 'SF')]"
      ]
     },
     "execution_count": 7,
     "metadata": {},
     "output_type": "execute_result"
    }
   ],
   "source": [
    "mecab.pos(sentence)"
   ]
  },
  {
   "cell_type": "code",
   "execution_count": 8,
   "id": "2a3a19a2",
   "metadata": {},
   "outputs": [],
   "source": [
    "import nltk\n",
    "from nltk import bigrams, word_tokenize\n",
    "from nltk.util import ngrams\n"
   ]
  },
  {
   "cell_type": "code",
   "execution_count": 9,
   "id": "6a9cb1b4",
   "metadata": {},
   "outputs": [
    {
     "data": {
      "text/plain": [
       "<generator object bigrams at 0x0000019A516898C8>"
      ]
     },
     "execution_count": 9,
     "metadata": {},
     "output_type": "execute_result"
    }
   ],
   "source": [
    "bigram_list = bigrams(mecab.morphs(sentence))\n",
    "bigram_list"
   ]
  },
  {
   "cell_type": "code",
   "execution_count": 10,
   "id": "33cff8df",
   "metadata": {},
   "outputs": [
    {
     "name": "stdout",
     "output_type": "stream",
     "text": [
      "('과기', '정통부')\n",
      "('정통부', ',')\n",
      "(',', '22')\n",
      "('22', '일')\n",
      "('일', '유영민')\n",
      "('유영민', '장관')\n",
      "('장관', '등')\n",
      "('등', '참석')\n",
      "('참석', '해')\n",
      "('해', '기념행사')\n",
      "('기념행사', '2021')\n",
      "('2021', '년')\n",
      "('년', '까지')\n",
      "('까지', '1516')\n",
      "('1516', '억')\n",
      "('억', '원')\n",
      "('원', '투입')\n",
      "('투입', ',')\n",
      "(',', '5100')\n",
      "('5100', '여종')\n",
      "('여종', '데이터')\n",
      "('데이터', '구축')\n",
      "('구축', '민간')\n",
      "('민간', '클라우드')\n",
      "('클라우드', '통한')\n",
      "('통한', '외부')\n",
      "('외부', '연계')\n",
      "('연계', '체계')\n",
      "('체계', '도')\n",
      "('도', '.')\n",
      "('.', '.\"')\n",
      "('.\"', '개방')\n",
      "('개방', '성')\n",
      "('성', '강화')\n",
      "('강화', '\"[')\n",
      "('\"[', '이')\n",
      "('이', '데일리')\n",
      "('데일리', '이재운')\n",
      "('이재운', '기자')\n",
      "('기자', ']')\n",
      "(']', '국가')\n",
      "('국가', '차원')\n",
      "('차원', '의')\n",
      "('의', '빅')\n",
      "('빅', '데이터')\n",
      "('데이터', '활용')\n",
      "('활용', '시대')\n",
      "('시대', '가')\n",
      "('가', '열린다')\n",
      "('열린다', '.')\n"
     ]
    }
   ],
   "source": [
    "for token in bigram_list:\n",
    "    print(token)"
   ]
  },
  {
   "cell_type": "code",
   "execution_count": 11,
   "id": "27d2a0c7",
   "metadata": {},
   "outputs": [
    {
     "data": {
      "text/plain": [
       "<zip at 0x19a517f2288>"
      ]
     },
     "execution_count": 11,
     "metadata": {},
     "output_type": "execute_result"
    }
   ],
   "source": [
    "trigram_list = ngrams(mecab.morphs(sentence), 3)\n",
    "trigram_list"
   ]
  },
  {
   "cell_type": "code",
   "execution_count": 12,
   "id": "baa0f768",
   "metadata": {},
   "outputs": [
    {
     "name": "stdout",
     "output_type": "stream",
     "text": [
      "('과기', '정통부', ',')\n",
      "('정통부', ',', '22')\n",
      "(',', '22', '일')\n",
      "('22', '일', '유영민')\n",
      "('일', '유영민', '장관')\n",
      "('유영민', '장관', '등')\n",
      "('장관', '등', '참석')\n",
      "('등', '참석', '해')\n",
      "('참석', '해', '기념행사')\n",
      "('해', '기념행사', '2021')\n",
      "('기념행사', '2021', '년')\n",
      "('2021', '년', '까지')\n",
      "('년', '까지', '1516')\n",
      "('까지', '1516', '억')\n",
      "('1516', '억', '원')\n",
      "('억', '원', '투입')\n",
      "('원', '투입', ',')\n",
      "('투입', ',', '5100')\n",
      "(',', '5100', '여종')\n",
      "('5100', '여종', '데이터')\n",
      "('여종', '데이터', '구축')\n",
      "('데이터', '구축', '민간')\n",
      "('구축', '민간', '클라우드')\n",
      "('민간', '클라우드', '통한')\n",
      "('클라우드', '통한', '외부')\n",
      "('통한', '외부', '연계')\n",
      "('외부', '연계', '체계')\n",
      "('연계', '체계', '도')\n",
      "('체계', '도', '.')\n",
      "('도', '.', '.\"')\n",
      "('.', '.\"', '개방')\n",
      "('.\"', '개방', '성')\n",
      "('개방', '성', '강화')\n",
      "('성', '강화', '\"[')\n",
      "('강화', '\"[', '이')\n",
      "('\"[', '이', '데일리')\n",
      "('이', '데일리', '이재운')\n",
      "('데일리', '이재운', '기자')\n",
      "('이재운', '기자', ']')\n",
      "('기자', ']', '국가')\n",
      "(']', '국가', '차원')\n",
      "('국가', '차원', '의')\n",
      "('차원', '의', '빅')\n",
      "('의', '빅', '데이터')\n",
      "('빅', '데이터', '활용')\n",
      "('데이터', '활용', '시대')\n",
      "('활용', '시대', '가')\n",
      "('시대', '가', '열린다')\n",
      "('가', '열린다', '.')\n"
     ]
    }
   ],
   "source": [
    "for token in trigram_list:\n",
    "    print(token)"
   ]
  },
  {
   "cell_type": "code",
   "execution_count": 13,
   "id": "0eb29ffe",
   "metadata": {},
   "outputs": [
    {
     "name": "stdout",
     "output_type": "stream",
     "text": [
      "불용어 제거 전 : [\"'\", '과', '기', '정통부', ',', '22일', '유영민', '장관', '등', '참석', '해', '기념', '행사', '2021년', '까지', '1516억원', '투입', ',', '5100', '여종', '데이터', '구축', '민간', '클라우드', '통한', '외부', '연', '계', '체계', '도', '..', '개방', '성', '강화', '[', '이데일리', '이', '재운', '기자', ']', '국가', '차원', '의', '빅데이터', '활용', '시대', '가', '열', '린다', '.']\n",
      "불용어 제거 후 : [\"'\", '과', '기', '정통부', ',', '22일', '유영민', '장관', '등', '참석', '해', '기념', '행사', '2021년', '까지', ',', '5100', '여종', '데이터', '구축', '민간', '클라우드', '통한', '외부', '연', '계', '체계', '도', '..', '개방', '성', '강화', '[', '이데일리', '이', '재운', '기자', ']', '차원', '의', '시대', '가', '열', '린다', '.']\n"
     ]
    }
   ],
   "source": [
    "okt = Okt()\n",
    "\n",
    "example = \"'과기정통부, 22일 유영민 장관 등 참석해 기념행사2021년까지 1516억원 투입, 5100여종 데이터 구축민간 클라우드 통한 외부연계체계도..개방성 강화[이데일리 이재운 기자] 국가 차원의 빅데이터 활용 시대가 열린다.\"\n",
    "stop_words = \"기념행사2021년까지 1516억원 투입 국가 차원의 빅데이터 활용 시대가 열린다\"\n",
    "\n",
    "stop_words = set(stop_words.split(' '))\n",
    "word_tokens = okt.morphs(example)\n",
    "\n",
    "result = [word for word in word_tokens if not word in stop_words]\n",
    "\n",
    "print('불용어 제거 전 :',word_tokens) \n",
    "print('불용어 제거 후 :',result)"
   ]
  },
  {
   "cell_type": "code",
   "execution_count": 14,
   "id": "7165a973",
   "metadata": {},
   "outputs": [],
   "source": [
    "docs = ['과기정통부, 22일 유영민 장관 등 참석해 기념행사2021년까지 1516억원 투입' \n",
    "        '5100여종 데이터 구축민간 클라우드 통한 외부연계체계도'      \n",
    "        '개방성 강화[이데일리 이재운 기자] 국가 차원의 빅데이터 활용 시대가 열린다.']"
   ]
  },
  {
   "cell_type": "code",
   "execution_count": 15,
   "id": "f3621557",
   "metadata": {},
   "outputs": [
    {
     "data": {
      "text/plain": [
       "[['과기정통부,',\n",
       "  '22일',\n",
       "  '유영민',\n",
       "  '장관',\n",
       "  '등',\n",
       "  '참석해',\n",
       "  '기념행사2021년까지',\n",
       "  '1516억원',\n",
       "  '투입5100여종',\n",
       "  '데이터',\n",
       "  '구축민간',\n",
       "  '클라우드',\n",
       "  '통한',\n",
       "  '외부연계체계도개방성',\n",
       "  '강화[이데일리',\n",
       "  '이재운',\n",
       "  '기자]',\n",
       "  '국가',\n",
       "  '차원의',\n",
       "  '빅데이터',\n",
       "  '활용',\n",
       "  '시대가',\n",
       "  '열린다.']]"
      ]
     },
     "execution_count": 15,
     "metadata": {},
     "output_type": "execute_result"
    }
   ],
   "source": [
    "doc_ls = [doc.split() for doc in docs]\n",
    "doc_ls"
   ]
  },
  {
   "cell_type": "code",
   "execution_count": 16,
   "id": "02abd7f3",
   "metadata": {},
   "outputs": [
    {
     "data": {
      "text/plain": [
       "{'과기정통부,': 0,\n",
       " '22일': 1,\n",
       " '유영민': 2,\n",
       " '장관': 3,\n",
       " '등': 4,\n",
       " '참석해': 5,\n",
       " '기념행사2021년까지': 6,\n",
       " '1516억원': 7,\n",
       " '투입5100여종': 8,\n",
       " '데이터': 9,\n",
       " '구축민간': 10,\n",
       " '클라우드': 11,\n",
       " '통한': 12,\n",
       " '외부연계체계도개방성': 13,\n",
       " '강화[이데일리': 14,\n",
       " '이재운': 15,\n",
       " '기자]': 16,\n",
       " '국가': 17,\n",
       " '차원의': 18,\n",
       " '빅데이터': 19,\n",
       " '활용': 20,\n",
       " '시대가': 21,\n",
       " '열린다.': 22}"
      ]
     },
     "execution_count": 16,
     "metadata": {},
     "output_type": "execute_result"
    }
   ],
   "source": [
    "word2id = {}\n",
    "\n",
    "index = 0\n",
    "for doc in doc_ls:\n",
    "    for token in doc:\n",
    "        if token not in word2id:\n",
    "            word2id[token] = index\n",
    "            index += 1\n",
    "\n",
    "word2id"
   ]
  },
  {
   "cell_type": "code",
   "execution_count": 17,
   "id": "034531bc",
   "metadata": {},
   "outputs": [
    {
     "data": {
      "text/plain": [
       "{'과기정통부,': 0,\n",
       " '22일': 1,\n",
       " '유영민': 2,\n",
       " '장관': 3,\n",
       " '등': 4,\n",
       " '참석해': 5,\n",
       " '기념행사2021년까지': 6,\n",
       " '1516억원': 7,\n",
       " '투입5100여종': 8,\n",
       " '데이터': 9,\n",
       " '구축민간': 10,\n",
       " '클라우드': 11,\n",
       " '통한': 12,\n",
       " '외부연계체계도개방성': 13,\n",
       " '강화[이데일리': 14,\n",
       " '이재운': 15,\n",
       " '기자]': 16,\n",
       " '국가': 17,\n",
       " '차원의': 18,\n",
       " '빅데이터': 19,\n",
       " '활용': 20,\n",
       " '시대가': 21,\n",
       " '열린다.': 22}"
      ]
     },
     "execution_count": 17,
     "metadata": {},
     "output_type": "execute_result"
    }
   ],
   "source": [
    "word2id = {}\n",
    "\n",
    "\n",
    "for doc in doc_ls:\n",
    "    for token in doc:\n",
    "        if token not in word2id:\n",
    "            word2id[token] = len(word2id)\n",
    "\n",
    "\n",
    "word2id"
   ]
  },
  {
   "cell_type": "code",
   "execution_count": 18,
   "id": "a2812124",
   "metadata": {},
   "outputs": [
    {
     "name": "stdout",
     "output_type": "stream",
     "text": [
      "defaultdict(<function <lambda> at 0x0000019A517FCEE8>, {})\n",
      "defaultdict(<function <lambda> at 0x0000019A517FCEE8>, {'과기정통부,': 0, '22일': 1, '유영민': 2, '장관': 3, '등': 4, '참석해': 5, '기념행사2021년까지': 6, '1516억원': 7, '투입5100여종': 8, '데이터': 9, '구축민간': 10, '클라우드': 11, '통한': 12, '외부연계체계도개방성': 13, '강화[이데일리': 14, '이재운': 15, '기자]': 16, '국가': 17, '차원의': 18, '빅데이터': 19, '활용': 20, '시대가': 21, '열린다.': 22})\n"
     ]
    }
   ],
   "source": [
    "from collections import defaultdict\n",
    "\n",
    "word2id = defaultdict(lambda : len(word2id))\n",
    "print(word2id)\n",
    "[word2id[token] for doc in doc_ls for token in doc]\n",
    "print(word2id)"
   ]
  },
  {
   "cell_type": "code",
   "execution_count": 19,
   "id": "03b4b48b",
   "metadata": {},
   "outputs": [
    {
     "data": {
      "text/plain": [
       "{'과기정통부,': 0,\n",
       " '22일': 1,\n",
       " '유영민': 2,\n",
       " '장관': 3,\n",
       " '등': 4,\n",
       " '참석해': 5,\n",
       " '기념행사2021년까지': 6,\n",
       " '1516억원': 7,\n",
       " '투입5100여종': 8,\n",
       " '데이터': 9,\n",
       " '구축민간': 10,\n",
       " '클라우드': 11,\n",
       " '통한': 12,\n",
       " '외부연계체계도개방성': 13,\n",
       " '강화[이데일리': 14,\n",
       " '이재운': 15,\n",
       " '기자]': 16,\n",
       " '국가': 17,\n",
       " '차원의': 18,\n",
       " '빅데이터': 19,\n",
       " '활용': 20,\n",
       " '시대가': 21,\n",
       " '열린다.': 22}"
      ]
     },
     "execution_count": 19,
     "metadata": {},
     "output_type": "execute_result"
    }
   ],
   "source": [
    "word2id={}\n",
    "for doc in doc_ls:\n",
    "    for token in doc:\n",
    "        if token not in word2id:\n",
    "            word2id[token]=len(word2id)\n",
    "word2id"
   ]
  },
  {
   "cell_type": "code",
   "execution_count": 25,
   "id": "fc0d3c2f",
   "metadata": {},
   "outputs": [
    {
     "name": "stdout",
     "output_type": "stream",
     "text": [
      "[[1, 1, 1, 1, 1, 1, 1, 1, 1, 1, 1, 1, 1, 1, 1, 1, 1, 1, 1, 1, 1, 1, 1]]\n"
     ]
    }
   ],
   "source": [
    "import numpy as np\n",
    "import pandas as pd\n",
    "\n",
    "BoW_ls = []\n",
    "\n",
    "for doc in doc_ls:\n",
    "    bow = np.zeros(len(word2id), dtype=int)\n",
    "    for token in doc:\n",
    "        bow[word2id[token]] += 1\n",
    "    BoW_ls.append(bow.tolist())\n",
    "    \n",
    "print(BoW_ls)"
   ]
  },
  {
   "cell_type": "code",
   "execution_count": 26,
   "id": "d117161a",
   "metadata": {},
   "outputs": [
    {
     "name": "stdout",
     "output_type": "stream",
     "text": [
      "문서 0 : 과기정통부, 22일 유영민 장관 등 참석해 기념행사2021년까지 1516억원 투입5100여종 데이터 구축민간 클라우드 통한 외부연계체계도개방성 강화[이데일리 이재운 기자] 국가 차원의 빅데이터 활용 시대가 열린다.\n"
     ]
    },
    {
     "data": {
      "text/html": [
       "<div>\n",
       "<style scoped>\n",
       "    .dataframe tbody tr th:only-of-type {\n",
       "        vertical-align: middle;\n",
       "    }\n",
       "\n",
       "    .dataframe tbody tr th {\n",
       "        vertical-align: top;\n",
       "    }\n",
       "\n",
       "    .dataframe thead th {\n",
       "        text-align: right;\n",
       "    }\n",
       "</style>\n",
       "<table border=\"1\" class=\"dataframe\">\n",
       "  <thead>\n",
       "    <tr style=\"text-align: right;\">\n",
       "      <th></th>\n",
       "      <th>과기정통부,</th>\n",
       "      <th>22일</th>\n",
       "      <th>유영민</th>\n",
       "      <th>장관</th>\n",
       "      <th>등</th>\n",
       "      <th>참석해</th>\n",
       "      <th>기념행사2021년까지</th>\n",
       "      <th>1516억원</th>\n",
       "      <th>투입5100여종</th>\n",
       "      <th>데이터</th>\n",
       "      <th>...</th>\n",
       "      <th>외부연계체계도개방성</th>\n",
       "      <th>강화[이데일리</th>\n",
       "      <th>이재운</th>\n",
       "      <th>기자]</th>\n",
       "      <th>국가</th>\n",
       "      <th>차원의</th>\n",
       "      <th>빅데이터</th>\n",
       "      <th>활용</th>\n",
       "      <th>시대가</th>\n",
       "      <th>열린다.</th>\n",
       "    </tr>\n",
       "  </thead>\n",
       "  <tbody>\n",
       "    <tr>\n",
       "      <th>0</th>\n",
       "      <td>1</td>\n",
       "      <td>1</td>\n",
       "      <td>1</td>\n",
       "      <td>1</td>\n",
       "      <td>1</td>\n",
       "      <td>1</td>\n",
       "      <td>1</td>\n",
       "      <td>1</td>\n",
       "      <td>1</td>\n",
       "      <td>1</td>\n",
       "      <td>...</td>\n",
       "      <td>1</td>\n",
       "      <td>1</td>\n",
       "      <td>1</td>\n",
       "      <td>1</td>\n",
       "      <td>1</td>\n",
       "      <td>1</td>\n",
       "      <td>1</td>\n",
       "      <td>1</td>\n",
       "      <td>1</td>\n",
       "      <td>1</td>\n",
       "    </tr>\n",
       "  </tbody>\n",
       "</table>\n",
       "<p>1 rows × 23 columns</p>\n",
       "</div>"
      ],
      "text/plain": [
       "   과기정통부,  22일  유영민  장관  등  참석해  기념행사2021년까지  1516억원  투입5100여종  데이터  ...  \\\n",
       "0       1    1    1   1  1    1            1       1         1    1  ...   \n",
       "\n",
       "   외부연계체계도개방성  강화[이데일리  이재운  기자]  국가  차원의  빅데이터  활용  시대가  열린다.  \n",
       "0           1        1    1    1   1    1     1   1    1     1  \n",
       "\n",
       "[1 rows x 23 columns]"
      ]
     },
     "metadata": {},
     "output_type": "display_data"
    },
    {
     "name": "stdout",
     "output_type": "stream",
     "text": [
      "\n",
      "\n"
     ]
    }
   ],
   "source": [
    "from IPython.core import display as ICD\n",
    "\n",
    "sorted_vocab = sorted((value, key) for key, value in word2id.items())\n",
    "vocab = [v[1] for v in sorted_vocab]\n",
    "for i in range(len(docs)):\n",
    "    print(\"문서 {} : {}\".format(i, docs[i]))\n",
    "    ICD.display(pd.DataFrame([BoW_ls[i]], columns=vocab))\n",
    "    print(\"\\n\")"
   ]
  },
  {
   "cell_type": "code",
   "execution_count": 27,
   "id": "00830fde",
   "metadata": {},
   "outputs": [
    {
     "data": {
      "text/plain": [
       "array([[1, 1, 1, 1, 1, 1, 1, 1, 1, 1, 1, 1, 1, 1, 1, 1, 1, 1, 1, 1, 1, 1,\n",
       "        1]], dtype=int64)"
      ]
     },
     "execution_count": 27,
     "metadata": {},
     "output_type": "execute_result"
    }
   ],
   "source": [
    "from sklearn.feature_extraction.text import CountVectorizer\n",
    "\n",
    "count_vect = CountVectorizer()\n",
    "BoW = count_vect.fit_transform(docs)\n",
    "BoW.toarray()"
   ]
  },
  {
   "cell_type": "code",
   "execution_count": 28,
   "id": "e90b4707",
   "metadata": {},
   "outputs": [
    {
     "data": {
      "text/plain": [
       "array(['1516억원', '22일', '강화', '과기정통부', '구축민간', '국가', '기념행사2021년까지', '기자',\n",
       "       '데이터', '빅데이터', '시대가', '열린다', '외부연계체계도개방성', '유영민', '이데일리', '이재운',\n",
       "       '장관', '차원의', '참석해', '클라우드', '통한', '투입5100여종', '활용'], dtype=object)"
      ]
     },
     "execution_count": 28,
     "metadata": {},
     "output_type": "execute_result"
    }
   ],
   "source": [
    "from IPython.core import display as ICD\n",
    "\n",
    "vocab = count_vect.get_feature_names_out()\n",
    "vocab"
   ]
  },
  {
   "cell_type": "code",
   "execution_count": 29,
   "id": "17a589b6",
   "metadata": {},
   "outputs": [
    {
     "name": "stdout",
     "output_type": "stream",
     "text": [
      "문서 0 : 과기정통부, 22일 유영민 장관 등 참석해 기념행사2021년까지 1516억원 투입5100여종 데이터 구축민간 클라우드 통한 외부연계체계도개방성 강화[이데일리 이재운 기자] 국가 차원의 빅데이터 활용 시대가 열린다.\n"
     ]
    },
    {
     "data": {
      "text/html": [
       "<div>\n",
       "<style scoped>\n",
       "    .dataframe tbody tr th:only-of-type {\n",
       "        vertical-align: middle;\n",
       "    }\n",
       "\n",
       "    .dataframe tbody tr th {\n",
       "        vertical-align: top;\n",
       "    }\n",
       "\n",
       "    .dataframe thead th {\n",
       "        text-align: right;\n",
       "    }\n",
       "</style>\n",
       "<table border=\"1\" class=\"dataframe\">\n",
       "  <thead>\n",
       "    <tr style=\"text-align: right;\">\n",
       "      <th></th>\n",
       "      <th>1516억원</th>\n",
       "      <th>22일</th>\n",
       "      <th>강화</th>\n",
       "      <th>과기정통부</th>\n",
       "      <th>구축민간</th>\n",
       "      <th>국가</th>\n",
       "      <th>기념행사2021년까지</th>\n",
       "      <th>기자</th>\n",
       "      <th>데이터</th>\n",
       "      <th>빅데이터</th>\n",
       "      <th>...</th>\n",
       "      <th>유영민</th>\n",
       "      <th>이데일리</th>\n",
       "      <th>이재운</th>\n",
       "      <th>장관</th>\n",
       "      <th>차원의</th>\n",
       "      <th>참석해</th>\n",
       "      <th>클라우드</th>\n",
       "      <th>통한</th>\n",
       "      <th>투입5100여종</th>\n",
       "      <th>활용</th>\n",
       "    </tr>\n",
       "  </thead>\n",
       "  <tbody>\n",
       "    <tr>\n",
       "      <th>0</th>\n",
       "      <td>1</td>\n",
       "      <td>1</td>\n",
       "      <td>1</td>\n",
       "      <td>1</td>\n",
       "      <td>1</td>\n",
       "      <td>1</td>\n",
       "      <td>1</td>\n",
       "      <td>1</td>\n",
       "      <td>1</td>\n",
       "      <td>1</td>\n",
       "      <td>...</td>\n",
       "      <td>1</td>\n",
       "      <td>1</td>\n",
       "      <td>1</td>\n",
       "      <td>1</td>\n",
       "      <td>1</td>\n",
       "      <td>1</td>\n",
       "      <td>1</td>\n",
       "      <td>1</td>\n",
       "      <td>1</td>\n",
       "      <td>1</td>\n",
       "    </tr>\n",
       "  </tbody>\n",
       "</table>\n",
       "<p>1 rows × 23 columns</p>\n",
       "</div>"
      ],
      "text/plain": [
       "   1516억원  22일  강화  과기정통부  구축민간  국가  기념행사2021년까지  기자  데이터  빅데이터  ...  유영민  \\\n",
       "0       1    1   1      1     1   1            1   1    1     1  ...    1   \n",
       "\n",
       "   이데일리  이재운  장관  차원의  참석해  클라우드  통한  투입5100여종  활용  \n",
       "0     1    1   1    1    1     1   1         1   1  \n",
       "\n",
       "[1 rows x 23 columns]"
      ]
     },
     "metadata": {},
     "output_type": "display_data"
    },
    {
     "name": "stdout",
     "output_type": "stream",
     "text": [
      "\n",
      "\n"
     ]
    }
   ],
   "source": [
    "for i in range(len(docs)):\n",
    "    print(\"문서 {} : {}\".format(i, docs[i]))\n",
    "    ICD.display(pd.DataFrame([BoW.toarray()[i]], columns=vocab))\n",
    "    print(\"\\n\")"
   ]
  },
  {
   "cell_type": "code",
   "execution_count": 30,
   "id": "c3676e74",
   "metadata": {},
   "outputs": [
    {
     "data": {
      "text/plain": [
       "array([[0],\n",
       "       [0],\n",
       "       [0],\n",
       "       [0],\n",
       "       [0],\n",
       "       [0],\n",
       "       [0],\n",
       "       [0],\n",
       "       [0],\n",
       "       [0],\n",
       "       [0],\n",
       "       [0],\n",
       "       [0],\n",
       "       [0],\n",
       "       [0],\n",
       "       [0],\n",
       "       [0],\n",
       "       [0],\n",
       "       [0],\n",
       "       [0],\n",
       "       [0],\n",
       "       [0],\n",
       "       [0]])"
      ]
     },
     "execution_count": 30,
     "metadata": {},
     "output_type": "execute_result"
    }
   ],
   "source": [
    "TDM = np.zeros((len(word2id), len(doc_ls)), dtype=int)\n",
    "TDM"
   ]
  },
  {
   "cell_type": "code",
   "execution_count": 31,
   "id": "9db6f7ca",
   "metadata": {},
   "outputs": [
    {
     "data": {
      "text/plain": [
       "array([[1],\n",
       "       [1],\n",
       "       [1],\n",
       "       [1],\n",
       "       [1],\n",
       "       [1],\n",
       "       [1],\n",
       "       [1],\n",
       "       [1],\n",
       "       [1],\n",
       "       [1],\n",
       "       [1],\n",
       "       [1],\n",
       "       [1],\n",
       "       [1],\n",
       "       [1],\n",
       "       [1],\n",
       "       [1],\n",
       "       [1],\n",
       "       [1],\n",
       "       [1],\n",
       "       [1],\n",
       "       [1]])"
      ]
     },
     "execution_count": 31,
     "metadata": {},
     "output_type": "execute_result"
    }
   ],
   "source": [
    "for i, doc in enumerate(doc_ls):\n",
    "    for token in doc:\n",
    "        TDM[word2id[token], i] += 1\n",
    "TDM"
   ]
  },
  {
   "cell_type": "code",
   "execution_count": 32,
   "id": "864f9c39",
   "metadata": {},
   "outputs": [
    {
     "data": {
      "text/html": [
       "<div>\n",
       "<style scoped>\n",
       "    .dataframe tbody tr th:only-of-type {\n",
       "        vertical-align: middle;\n",
       "    }\n",
       "\n",
       "    .dataframe tbody tr th {\n",
       "        vertical-align: top;\n",
       "    }\n",
       "\n",
       "    .dataframe thead th {\n",
       "        text-align: right;\n",
       "    }\n",
       "</style>\n",
       "<table border=\"1\" class=\"dataframe\">\n",
       "  <thead>\n",
       "    <tr style=\"text-align: right;\">\n",
       "      <th></th>\n",
       "      <th>문서0</th>\n",
       "    </tr>\n",
       "    <tr>\n",
       "      <th>단어</th>\n",
       "      <th></th>\n",
       "    </tr>\n",
       "  </thead>\n",
       "  <tbody>\n",
       "    <tr>\n",
       "      <th>과기정통부,</th>\n",
       "      <td>1</td>\n",
       "    </tr>\n",
       "    <tr>\n",
       "      <th>22일</th>\n",
       "      <td>1</td>\n",
       "    </tr>\n",
       "    <tr>\n",
       "      <th>유영민</th>\n",
       "      <td>1</td>\n",
       "    </tr>\n",
       "    <tr>\n",
       "      <th>장관</th>\n",
       "      <td>1</td>\n",
       "    </tr>\n",
       "    <tr>\n",
       "      <th>등</th>\n",
       "      <td>1</td>\n",
       "    </tr>\n",
       "    <tr>\n",
       "      <th>참석해</th>\n",
       "      <td>1</td>\n",
       "    </tr>\n",
       "    <tr>\n",
       "      <th>기념행사2021년까지</th>\n",
       "      <td>1</td>\n",
       "    </tr>\n",
       "    <tr>\n",
       "      <th>1516억원</th>\n",
       "      <td>1</td>\n",
       "    </tr>\n",
       "    <tr>\n",
       "      <th>투입5100여종</th>\n",
       "      <td>1</td>\n",
       "    </tr>\n",
       "    <tr>\n",
       "      <th>데이터</th>\n",
       "      <td>1</td>\n",
       "    </tr>\n",
       "    <tr>\n",
       "      <th>구축민간</th>\n",
       "      <td>1</td>\n",
       "    </tr>\n",
       "    <tr>\n",
       "      <th>클라우드</th>\n",
       "      <td>1</td>\n",
       "    </tr>\n",
       "    <tr>\n",
       "      <th>통한</th>\n",
       "      <td>1</td>\n",
       "    </tr>\n",
       "    <tr>\n",
       "      <th>외부연계체계도개방성</th>\n",
       "      <td>1</td>\n",
       "    </tr>\n",
       "    <tr>\n",
       "      <th>강화[이데일리</th>\n",
       "      <td>1</td>\n",
       "    </tr>\n",
       "    <tr>\n",
       "      <th>이재운</th>\n",
       "      <td>1</td>\n",
       "    </tr>\n",
       "    <tr>\n",
       "      <th>기자]</th>\n",
       "      <td>1</td>\n",
       "    </tr>\n",
       "    <tr>\n",
       "      <th>국가</th>\n",
       "      <td>1</td>\n",
       "    </tr>\n",
       "    <tr>\n",
       "      <th>차원의</th>\n",
       "      <td>1</td>\n",
       "    </tr>\n",
       "    <tr>\n",
       "      <th>빅데이터</th>\n",
       "      <td>1</td>\n",
       "    </tr>\n",
       "    <tr>\n",
       "      <th>활용</th>\n",
       "      <td>1</td>\n",
       "    </tr>\n",
       "    <tr>\n",
       "      <th>시대가</th>\n",
       "      <td>1</td>\n",
       "    </tr>\n",
       "    <tr>\n",
       "      <th>열린다.</th>\n",
       "      <td>1</td>\n",
       "    </tr>\n",
       "  </tbody>\n",
       "</table>\n",
       "</div>"
      ],
      "text/plain": [
       "             문서0\n",
       "단어              \n",
       "과기정통부,         1\n",
       "22일            1\n",
       "유영민            1\n",
       "장관             1\n",
       "등              1\n",
       "참석해            1\n",
       "기념행사2021년까지    1\n",
       "1516억원         1\n",
       "투입5100여종       1\n",
       "데이터            1\n",
       "구축민간           1\n",
       "클라우드           1\n",
       "통한             1\n",
       "외부연계체계도개방성     1\n",
       "강화[이데일리        1\n",
       "이재운            1\n",
       "기자]            1\n",
       "국가             1\n",
       "차원의            1\n",
       "빅데이터           1\n",
       "활용             1\n",
       "시대가            1\n",
       "열린다.           1"
      ]
     },
     "execution_count": 32,
     "metadata": {},
     "output_type": "execute_result"
    }
   ],
   "source": [
    "doc_names = ['문서'+str(i) for i in range(len(doc_ls))]\n",
    "sorted_vocab = sorted((value, key) for key, value in word2id.items())\n",
    "vocab = [v[1] for v in sorted_vocab]\n",
    "df_TDM = pd.DataFrame(TDM, columns=doc_names)\n",
    "df_TDM['단어'] = vocab\n",
    "df_TDM.set_index('단어', inplace=True)\n",
    "df_TDM"
   ]
  },
  {
   "cell_type": "code",
   "execution_count": 33,
   "id": "84d93e58",
   "metadata": {},
   "outputs": [
    {
     "data": {
      "text/plain": [
       "array([[1, 1, 1, 1, 1, 1, 1, 1, 1, 1, 1, 1, 1, 1, 1, 1, 1, 1, 1, 1, 1, 1,\n",
       "        1]], dtype=int64)"
      ]
     },
     "execution_count": 33,
     "metadata": {},
     "output_type": "execute_result"
    }
   ],
   "source": [
    "from sklearn.feature_extraction.text import CountVectorizer\n",
    "\n",
    "count_vect = CountVectorizer()\n",
    "DTM = count_vect.fit_transform(docs)\n",
    "DTM.toarray()"
   ]
  },
  {
   "cell_type": "code",
   "execution_count": 34,
   "id": "c2cecf88",
   "metadata": {},
   "outputs": [
    {
     "ename": "NameError",
     "evalue": "name 'id2word' is not defined",
     "output_type": "error",
     "traceback": [
      "\u001b[1;31m---------------------------------------------------------------------------\u001b[0m",
      "\u001b[1;31mNameError\u001b[0m                                 Traceback (most recent call last)",
      "\u001b[1;32m~\\AppData\\Local\\Temp\\ipykernel_6984\\4134595191.py\u001b[0m in \u001b[0;36m<module>\u001b[1;34m\u001b[0m\n\u001b[0;32m      1\u001b[0m \u001b[1;32mfrom\u001b[0m \u001b[0mgensim\u001b[0m\u001b[1;33m.\u001b[0m\u001b[0mmatutils\u001b[0m \u001b[1;32mimport\u001b[0m \u001b[0msparse2full\u001b[0m\u001b[1;33m\u001b[0m\u001b[1;33m\u001b[0m\u001b[0m\n\u001b[0;32m      2\u001b[0m \u001b[1;33m\u001b[0m\u001b[0m\n\u001b[1;32m----> 3\u001b[1;33m \u001b[0mvocab\u001b[0m \u001b[1;33m=\u001b[0m \u001b[1;33m[\u001b[0m\u001b[0mid2word\u001b[0m\u001b[1;33m[\u001b[0m\u001b[0mkey\u001b[0m\u001b[1;33m]\u001b[0m \u001b[1;32mfor\u001b[0m \u001b[0mkey\u001b[0m \u001b[1;32min\u001b[0m \u001b[0mid2word\u001b[0m\u001b[1;33m.\u001b[0m\u001b[0mkeys\u001b[0m\u001b[1;33m(\u001b[0m\u001b[1;33m)\u001b[0m\u001b[1;33m]\u001b[0m\u001b[1;33m\u001b[0m\u001b[1;33m\u001b[0m\u001b[0m\n\u001b[0m\u001b[0;32m      4\u001b[0m \u001b[0mDTM_matrix\u001b[0m \u001b[1;33m=\u001b[0m \u001b[1;33m[\u001b[0m\u001b[0msparse2full\u001b[0m\u001b[1;33m(\u001b[0m\u001b[0mdoc\u001b[0m\u001b[1;33m,\u001b[0m \u001b[0mlen\u001b[0m\u001b[1;33m(\u001b[0m\u001b[0mvocab\u001b[0m\u001b[1;33m)\u001b[0m\u001b[1;33m)\u001b[0m\u001b[1;33m.\u001b[0m\u001b[0mtolist\u001b[0m\u001b[1;33m(\u001b[0m\u001b[1;33m)\u001b[0m \u001b[1;32mfor\u001b[0m \u001b[0mdoc\u001b[0m \u001b[1;32min\u001b[0m \u001b[0mtfidf\u001b[0m\u001b[1;33m]\u001b[0m\u001b[1;33m\u001b[0m\u001b[1;33m\u001b[0m\u001b[0m\n\u001b[0;32m      5\u001b[0m \u001b[0mpd\u001b[0m\u001b[1;33m.\u001b[0m\u001b[0mDataFrame\u001b[0m\u001b[1;33m(\u001b[0m\u001b[0mDTM_matrix\u001b[0m\u001b[1;33m,\u001b[0m \u001b[0mcolumns\u001b[0m\u001b[1;33m=\u001b[0m\u001b[0mvocab\u001b[0m\u001b[1;33m)\u001b[0m\u001b[1;33m\u001b[0m\u001b[1;33m\u001b[0m\u001b[0m\n",
      "\u001b[1;31mNameError\u001b[0m: name 'id2word' is not defined"
     ]
    }
   ],
   "source": [
    "from gensim.matutils import sparse2full\n",
    "\n",
    "vocab = [id2word[key] for key in id2word.keys()]\n",
    "DTM_matrix = [sparse2full(doc, len(vocab)).tolist() for doc in tfidf]\n",
    "pd.DataFrame(DTM_matrix, columns=vocab)"
   ]
  },
  {
   "cell_type": "code",
   "execution_count": null,
   "id": "ca3a3bd7",
   "metadata": {},
   "outputs": [],
   "source": []
  }
 ],
 "metadata": {
  "kernelspec": {
   "display_name": "nlp",
   "language": "python",
   "name": "nlp"
  },
  "language_info": {
   "codemirror_mode": {
    "name": "ipython",
    "version": 3
   },
   "file_extension": ".py",
   "mimetype": "text/x-python",
   "name": "python",
   "nbconvert_exporter": "python",
   "pygments_lexer": "ipython3",
   "version": "3.7.11"
  }
 },
 "nbformat": 4,
 "nbformat_minor": 5
}
