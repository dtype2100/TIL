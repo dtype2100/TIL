{
  "cells": [
    {
      "cell_type": "markdown",
      "metadata": {
        "id": "view-in-github",
        "colab_type": "text"
      },
      "source": [
        "<a href=\"https://colab.research.google.com/github/dtype2100/TIL/blob/master/0103_practice.ipynb\" target=\"_parent\"><img src=\"https://colab.research.google.com/assets/colab-badge.svg\" alt=\"Open In Colab\"/></a>"
      ]
    },
    {
      "cell_type": "code",
      "execution_count": null,
      "id": "f605e6af-99c6-41cb-b0e9-ffbfe8512838",
      "metadata": {
        "id": "f605e6af-99c6-41cb-b0e9-ffbfe8512838"
      },
      "outputs": [],
      "source": [
        "import re"
      ]
    },
    {
      "cell_type": "code",
      "execution_count": null,
      "id": "440bd168-c07e-4fa3-851b-f9055f5811e9",
      "metadata": {
        "id": "440bd168-c07e-4fa3-851b-f9055f5811e9"
      },
      "outputs": [],
      "source": [
        "phone_list = [\n",
        "'010-2334-3234',\n",
        "'02-302-3033',\n",
        "'010-1321-4043',\n",
        "'02-01-32',\n",
        "'33-3303-3033',\n",
        "'016-444-3042']"
      ]
    },
    {
      "cell_type": "code",
      "execution_count": null,
      "id": "bc88b5f1-8838-4864-8f76-1f14acb83ab5",
      "metadata": {
        "id": "bc88b5f1-8838-4864-8f76-1f14acb83ab5",
        "outputId": "fef78cd7-8dd5-4f16-b5d6-2d67476a28bd"
      },
      "outputs": [
        {
          "name": "stdout",
          "output_type": "stream",
          "text": [
            "010-2334-3234\n",
            "02-302-3033\n",
            "010-1321-4043\n"
          ]
        }
      ],
      "source": [
        "for phone in phone_list:\n",
        "    matched  = re.search(\"0(10|[2-6]\\d?)-[0-9]{3,4}-[0-9]{4}\", phone)\n",
        "    if matched:\n",
        "        print(matched.group())\n",
        "    "
      ]
    },
    {
      "cell_type": "code",
      "execution_count": null,
      "id": "d42292e7-bda1-4b8e-bb1b-784614c179cf",
      "metadata": {
        "id": "d42292e7-bda1-4b8e-bb1b-784614c179cf"
      },
      "outputs": [],
      "source": [
        "text = '''[앵커]\n",
        "\n",
        "바로 좀 팩트체크를 해 보겠습니다. 제모를 하면 마약검사에서 빠져나갈 수 있다. 연예인 마약사건과 맞물려서 이런 글들이 온라인에서 확산됐습니다. 수사기법을 비웃는 듯한 내용입니다. 팩트체크팀이 국립과학수사연구원의 도움을 받아서 확인을 했습니다. 결론은 마약 성분은 체모 외에도 온몸을 흔적을 남긴다는 겁니다.\n",
        "오대영 기자 나와 있습니다. 구체적으로 어떤 글들이 퍼져 있습니까?\n",
        "\n",
        "[기자]\n",
        "\n",
        "전신 제모를 하면 문제가 없다. 염색, 탈색을 하면 된다. 눈썹은 검사해도 소용없다 등의 내용입니다.\n",
        "포털사이트에서 마약 검사라고 검색을 하면 모발 검사 안 걸리는 법이라는 연관 검색어까지 뜹니다.'''"
      ]
    },
    {
      "cell_type": "code",
      "execution_count": null,
      "id": "5b089d4d-c710-4753-8642-2bee47b6e362",
      "metadata": {
        "id": "5b089d4d-c710-4753-8642-2bee47b6e362",
        "outputId": "02807758-c5a7-4058-ef0e-e6364db03789"
      },
      "outputs": [
        {
          "data": {
            "text/plain": [
              "'\\n\\n바로 좀 팩트체크를 해 보겠습니다. 제모를 하면 마약검사에서 빠져나갈 수 있다. 연예인 마약사건과 맞물려서 이런 글들이 온라인에서 확산됐습니다. 수사기법을 비웃는 듯한 내용입니다. 팩트체크팀이 국립과학수사연구원의 도움을 받아서 확인을 했습니다. 결론은 마약 성분은 체모 외에도 온몸을 흔적을 남긴다는 겁니다.\\n오대영 기자 나와 있습니다. 구체적으로 어떤 글들이 퍼져 있습니까?\\n\\n\\n\\n전신 제모를 하면 문제가 없다. 염색, 탈색을 하면 된다. 눈썹은 검사해도 소용없다 등의 내용입니다.\\n포털사이트에서 마약 검사라고 검색을 하면 모발 검사 안 걸리는 법이라는 연관 검색어까지 뜹니다.'"
            ]
          },
          "execution_count": 11,
          "metadata": {},
          "output_type": "execute_result"
        }
      ],
      "source": [
        "text = re.sub(\"\\[.+\\]\", \"\", text)\n",
        "text"
      ]
    },
    {
      "cell_type": "code",
      "execution_count": null,
      "id": "a9787b2c-623b-46ea-b069-d6415a0ba300",
      "metadata": {
        "id": "a9787b2c-623b-46ea-b069-d6415a0ba300",
        "outputId": "a0b2ce7c-ed9f-41db-d3da-18fbbe8d5e92"
      },
      "outputs": [
        {
          "data": {
            "text/plain": [
              "['apple, orange! banana pineapple']"
            ]
          },
          "execution_count": 12,
          "metadata": {},
          "output_type": "execute_result"
        }
      ],
      "source": [
        "text = \"apple, orange! banana pineapple\"\n",
        "text.split(\",! \")"
      ]
    },
    {
      "cell_type": "code",
      "execution_count": null,
      "id": "6854dc71-818e-461b-b6ff-813b9e56794d",
      "metadata": {
        "id": "6854dc71-818e-461b-b6ff-813b9e56794d",
        "outputId": "0de53df6-c3d2-499c-c983-14dd38f05fa2"
      },
      "outputs": [
        {
          "data": {
            "text/plain": [
              "['apple', '', 'orange', '', 'banana', 'pineapple']"
            ]
          },
          "execution_count": 13,
          "metadata": {},
          "output_type": "execute_result"
        }
      ],
      "source": [
        "re.split(\"[,! ]\", text)"
      ]
    },
    {
      "cell_type": "code",
      "execution_count": null,
      "id": "34c26e1a-1b5b-4aea-9def-5453490fb6ef",
      "metadata": {
        "id": "34c26e1a-1b5b-4aea-9def-5453490fb6ef"
      },
      "outputs": [],
      "source": [
        "emails = \"\"\"jkilee@gmail.com\n",
        "kttredef@naver.com\n",
        "akdef!aa.com\n",
        "adekik@best.kr\n",
        "abkereff@aacde\n",
        "adefgree@korea.co.kr\n",
        "\"\"\""
      ]
    },
    {
      "cell_type": "code",
      "execution_count": null,
      "id": "dbf34ee5-dbfa-49a3-85a8-8a02798df116",
      "metadata": {
        "id": "dbf34ee5-dbfa-49a3-85a8-8a02798df116",
        "outputId": "02b232e3-d1ca-4a65-da35-fc8d39078a4c"
      },
      "outputs": [
        {
          "data": {
            "text/plain": [
              "['jkilee@gmail.com',\n",
              " 'kttredef@naver.com',\n",
              " 'adekik@best.kr',\n",
              " 'adefgree@korea.co.kr']"
            ]
          },
          "execution_count": 15,
          "metadata": {},
          "output_type": "execute_result"
        }
      ],
      "source": [
        "re.findall(\".+@.+\\..+\", emails)"
      ]
    },
    {
      "cell_type": "code",
      "execution_count": null,
      "id": "a0895888-ae24-4b05-ab46-4bfe0ae9942c",
      "metadata": {
        "id": "a0895888-ae24-4b05-ab46-4bfe0ae9942c"
      },
      "outputs": [],
      "source": [
        "text = '안녕하세요 저는 <em>홍길동</em> 입니다. 나이는 24살 세계 최고의 <a href=\"aa.aa.com\">데이터 분석가</a>가 되고싶습니다.'"
      ]
    },
    {
      "cell_type": "code",
      "execution_count": null,
      "id": "ef4dfaee-778e-4b6b-a47d-68e005907498",
      "metadata": {
        "id": "ef4dfaee-778e-4b6b-a47d-68e005907498",
        "outputId": "6b12892f-3b4c-47e3-a565-eb5e0e8c1b79"
      },
      "outputs": [
        {
          "data": {
            "text/plain": [
              "'안녕하세요 저는 홍길동 입니다. 나이는 24살 세계 최고의 데이터 분석가가 되고싶습니다.'"
            ]
          },
          "execution_count": 18,
          "metadata": {},
          "output_type": "execute_result"
        }
      ],
      "source": [
        "re.sub(\"<.+?>\", \"\", text)"
      ]
    },
    {
      "cell_type": "code",
      "execution_count": null,
      "id": "d2089c1e-5c65-4891-96b2-7c2c409f25f7",
      "metadata": {
        "id": "d2089c1e-5c65-4891-96b2-7c2c409f25f7",
        "outputId": "9ddbfec6-0929-4e2a-df78-03abdb3e65d4"
      },
      "outputs": [
        {
          "data": {
            "text/plain": [
              "'안녕하세요 저는 홍길동 입니다. 나이는 24살 세계 최고의 데이터 분석가가 되고싶습니다.'"
            ]
          },
          "execution_count": 19,
          "metadata": {},
          "output_type": "execute_result"
        }
      ],
      "source": [
        "re.sub(\"<[^<]+>\", \"\", text)"
      ]
    },
    {
      "cell_type": "code",
      "execution_count": null,
      "id": "36774822-4c1d-47f4-b022-14f767d5319a",
      "metadata": {
        "id": "36774822-4c1d-47f4-b022-14f767d5319a"
      },
      "outputs": [],
      "source": [
        "text = \"\"\"<p>\n",
        "<span>네이버가 뉴스 서비스에 인공지능(AI)을 도입해 페이지 뷰(PV)를 늘리고 이용자를 끌어 모으고 있다.</span>\n",
        "<span>네이버는 5일 오전 서울 강남구 그랜드 인터컨티넨털 호텔에서 AI 콜로키움 2019를 열고 이 같은 AI 성과와 전략을 소개했다.</span>\n",
        "<span>이날 기조연설에서 김광현 네이버 서치앤클로바 리더는 \"AI 뉴스 추천 시스템인 에어스(AiRS)를 도입하면서 뉴스 소비량이 확대되고 있다\" 고 말했다.</span>\n",
        "</p>\"\"\""
      ]
    },
    {
      "cell_type": "code",
      "execution_count": null,
      "id": "5d1cff23-e1f6-4a35-9ff4-58d86495fffd",
      "metadata": {
        "id": "5d1cff23-e1f6-4a35-9ff4-58d86495fffd",
        "outputId": "700404fb-b070-4ee8-8d30-d6bd41425fbb"
      },
      "outputs": [
        {
          "data": {
            "text/plain": [
              "['네이버가 뉴스 서비스에 인공지능(AI)을 도입해 페이지 뷰(PV)를 늘리고 이용자를 끌어 모으고 있다.',\n",
              " '네이버는 5일 오전 서울 강남구 그랜드 인터컨티넨털 호텔에서 AI 콜로키움 2019를 열고 이 같은 AI 성과와 전략을 소개했다.',\n",
              " '이날 기조연설에서 김광현 네이버 서치앤클로바 리더는 \"AI 뉴스 추천 시스템인 에어스(AiRS)를 도입하면서 뉴스 소비량이 확대되고 있다\" 고 말했다.']"
            ]
          },
          "execution_count": 24,
          "metadata": {},
          "output_type": "execute_result"
        }
      ],
      "source": [
        "re.findall(\"<span>(.+)</span>\", text)"
      ]
    },
    {
      "cell_type": "code",
      "execution_count": null,
      "id": "a82a231a-1af5-4c4a-b23d-543a0450b764",
      "metadata": {
        "id": "a82a231a-1af5-4c4a-b23d-543a0450b764",
        "outputId": "4414446c-b170-44e7-e8f5-cb3d879836d7"
      },
      "outputs": [
        {
          "name": "stdout",
          "output_type": "stream",
          "text": [
            "<span>네이버가 뉴스 서비스에 인공지능(AI)을 도입해 페이지 뷰(PV)를 늘리고 이용자를 끌어 모으고 있다.</span>\n",
            "<span>네이버는 5일 오전 서울 강남구 그랜드 인터컨티넨털 호텔에서 AI 콜로키움 2019를 열고 이 같은 AI 성과와 전략을 소개했다.</span>\n",
            "<span>이날 기조연설에서 김광현 네이버 서치앤클로바 리더는 \"AI 뉴스 추천 시스템인 에어스(AiRS)를 도입하면서 뉴스 소비량이 확대되고 있다\" 고 말했다.</span>\n"
          ]
        }
      ],
      "source": [
        "for matched in re.finditer(\"<span>(.+)</span>\", text):\n",
        "    print(matched.group())"
      ]
    },
    {
      "cell_type": "code",
      "execution_count": null,
      "id": "638d4175-1100-428f-9223-8224cb22e433",
      "metadata": {
        "id": "638d4175-1100-428f-9223-8224cb22e433",
        "outputId": "f175db26-452c-4f16-f6a2-0602cfc46f7a"
      },
      "outputs": [
        {
          "name": "stdout",
          "output_type": "stream",
          "text": [
            "네이버가 뉴스 서비스에 인공지능(AI)을 도입해 페이지 뷰(PV)를 늘리고 이용자를 끌어 모으고 있다.\n",
            "</span>\n",
            "네이버는 5일 오전 서울 강남구 그랜드 인터컨티넨털 호텔에서 AI 콜로키움 2019를 열고 이 같은 AI 성과와 전략을 소개했다.\n",
            "</span>\n",
            "이날 기조연설에서 김광현 네이버 서치앤클로바 리더는 \"AI 뉴스 추천 시스템인 에어스(AiRS)를 도입하면서 뉴스 소비량이 확대되고 있다\" 고 말했다.\n",
            "</span>\n"
          ]
        }
      ],
      "source": [
        "for matched in re.finditer(\"<span>(.+)(</span>)\", text):\n",
        "    print(matched.group(1))\n",
        "    print(matched.group(2))"
      ]
    },
    {
      "cell_type": "code",
      "execution_count": null,
      "id": "02215c16-a953-4da4-ab5f-f677bebfa429",
      "metadata": {
        "id": "02215c16-a953-4da4-ab5f-f677bebfa429",
        "outputId": "ca33b9ae-14ab-4ac7-d974-bac1caa6739b"
      },
      "outputs": [
        {
          "name": "stdout",
          "output_type": "stream",
          "text": [
            "네이버가 뉴스 서비스에 인공지능(AI)을 도입해 페이지 뷰(PV)를 늘리고 이용자를 끌어 모으고 있다.\n",
            "네이버는 5일 오전 서울 강남구 그랜드 인터컨티넨털 호텔에서 AI 콜로키움 2019를 열고 이 같은 AI 성과와 전략을 소개했다.\n",
            "이날 기조연설에서 김광현 네이버 서치앤클로바 리더는 \"AI 뉴스 추천 시스템인 에어스(AiRS)를 도입하면서 뉴스 소비량이 확대되고 있다\" 고 말했다.\n"
          ]
        }
      ],
      "source": [
        "for matched in re.finditer(\"(?<=<span>).+(?=</span>)\", text):\n",
        "    print(matched.group())"
      ]
    },
    {
      "cell_type": "code",
      "execution_count": null,
      "id": "860a93d9-9ead-48e8-8038-a65711226e21",
      "metadata": {
        "id": "860a93d9-9ead-48e8-8038-a65711226e21"
      },
      "outputs": [],
      "source": [
        "from selenium import webdriver\n",
        "from selenium.webdriver.common.by import By\n",
        "import time"
      ]
    },
    {
      "cell_type": "code",
      "execution_count": null,
      "id": "635135b9-33ec-4f2a-a438-b02dbfc0354c",
      "metadata": {
        "id": "635135b9-33ec-4f2a-a438-b02dbfc0354c",
        "outputId": "fadb1ecf-3aff-4c10-f8f1-286ed6222cbd"
      },
      "outputs": [
        {
          "name": "stderr",
          "output_type": "stream",
          "text": [
            "C:\\Users\\student\\AppData\\Local\\Temp/ipykernel_2416/3725622149.py:8: DeprecationWarning: executable_path has been deprecated, please pass in a Service object\n",
            "  driver = webdriver.Chrome(\"./chromedriver\", chrome_options=options)\n",
            "C:\\Users\\student\\AppData\\Local\\Temp/ipykernel_2416/3725622149.py:8: DeprecationWarning: use options instead of chrome_options\n",
            "  driver = webdriver.Chrome(\"./chromedriver\", chrome_options=options)\n"
          ]
        }
      ],
      "source": [
        "url = \"https://www.youtube.com/watch?v=W7edvITC9g4\"\n",
        "\n",
        "options =  webdriver.ChromeOptions()\n",
        "options.add_argument(\"headless\")\n",
        "options.add_argument(\"--no-sandbox\")\n",
        "options.add_argument(\"--disable-dev-shm-usage\")\n",
        "\n",
        "driver = webdriver.Chrome(\"./chromedriver\", chrome_options=options)\n",
        "driver.get(url)\n",
        "\n"
      ]
    },
    {
      "cell_type": "code",
      "execution_count": null,
      "id": "1341061c-ca32-41d3-b984-0bfd04c52502",
      "metadata": {
        "id": "1341061c-ca32-41d3-b984-0bfd04c52502"
      },
      "outputs": [],
      "source": [
        "last_height = driver.execute_script(\"return document.documentElement.scrollHeight\")\n",
        "\n",
        "while True:\n",
        "    # Scroll down 'til \"next load\".\n",
        "    driver.execute_script(\"window.scrollTo(0, document.documentElement.scrollHeight);\")\n",
        "\n",
        "    # Wait to load everything thus far.\n",
        "    time.sleep(1)\n",
        "\n",
        "    # Calculate new scroll height and compare with last scroll height.\n",
        "    new_height = driver.execute_script(\"return document.documentElement.scrollHeight\")\n",
        "    if new_height == last_height:\n",
        "        break\n",
        "    last_height = new_height\n",
        "\n",
        "# One last scroll just in case.\n",
        "driver.execute_script(\"window.scrollTo(0, document.documentElement.scrollHeight);\")"
      ]
    },
    {
      "cell_type": "code",
      "execution_count": null,
      "id": "1e28b693-c6eb-4765-9364-bc9adadda846",
      "metadata": {
        "id": "1e28b693-c6eb-4765-9364-bc9adadda846",
        "outputId": "0ce1a37a-6e92-489a-b4e1-cd00cf9fbb30"
      },
      "outputs": [
        {
          "data": {
            "text/plain": [
              "'[스파이더맨: 노 웨이 홈] 티저 예고편'"
            ]
          },
          "execution_count": 37,
          "metadata": {},
          "output_type": "execute_result"
        }
      ],
      "source": [
        "title = driver.find_element(By.CSS_SELECTOR, \"#container > h1\").text\n",
        "title"
      ]
    },
    {
      "cell_type": "code",
      "execution_count": null,
      "id": "18e7e145-f099-4e64-bce5-b503f855f841",
      "metadata": {
        "id": "18e7e145-f099-4e64-bce5-b503f855f841",
        "outputId": "fefdf14c-5389-45fa-aa7e-b897bc091e68"
      },
      "outputs": [
        {
          "data": {
            "text/plain": [
              "'조회수 6,772,870회'"
            ]
          },
          "execution_count": 38,
          "metadata": {},
          "output_type": "execute_result"
        }
      ],
      "source": [
        "views = driver.find_element(By.CSS_SELECTOR, \"#info-text span.view-count\").text\n",
        "views"
      ]
    },
    {
      "cell_type": "code",
      "execution_count": null,
      "id": "b1e709b3-58ef-4901-969c-0fbc9da75915",
      "metadata": {
        "id": "b1e709b3-58ef-4901-969c-0fbc9da75915",
        "outputId": "6dc33257-2701-4ff2-c3c0-8d7cf0122c95"
      },
      "outputs": [
        {
          "data": {
            "text/plain": [
              "'2021. 8. 23.'"
            ]
          },
          "execution_count": 39,
          "metadata": {},
          "output_type": "execute_result"
        }
      ],
      "source": [
        "upload_date= driver.find_element(By.CSS_SELECTOR, \"#info-strings\").text\n",
        "upload_date"
      ]
    },
    {
      "cell_type": "code",
      "execution_count": null,
      "id": "7ff72816-d3f5-47f7-a33d-72e14cab996c",
      "metadata": {
        "id": "7ff72816-d3f5-47f7-a33d-72e14cab996c",
        "outputId": "b9f483c9-28e9-4225-97fe-8923f69efd17"
      },
      "outputs": [
        {
          "data": {
            "text/plain": [
              "'6.8만'"
            ]
          },
          "execution_count": 47,
          "metadata": {},
          "output_type": "execute_result"
        }
      ],
      "source": [
        "like_count = driver.find_element(By.CSS_SELECTOR, \"#top-level-buttons-computed\").text\n",
        "like_count.split(\"\\n\")[0]"
      ]
    },
    {
      "cell_type": "code",
      "execution_count": null,
      "id": "feacbf2e-c201-4d55-86dc-8aa1f05a9ae1",
      "metadata": {
        "id": "feacbf2e-c201-4d55-86dc-8aa1f05a9ae1",
        "outputId": "9b6ba79d-4fce-48a2-b6aa-bff6bd0b0913"
      },
      "outputs": [
        {
          "data": {
            "text/plain": [
              "5112"
            ]
          },
          "execution_count": 43,
          "metadata": {},
          "output_type": "execute_result"
        }
      ],
      "source": [
        "len(driver.find_elements(By.CSS_SELECTOR, \"#text\"))"
      ]
    },
    {
      "cell_type": "code",
      "execution_count": null,
      "id": "86242aa8-ec34-486c-a08a-5b9f9d9d836c",
      "metadata": {
        "id": "86242aa8-ec34-486c-a08a-5b9f9d9d836c",
        "outputId": "27afecb2-31f0-426c-e29f-e88fb2395ff9"
      },
      "outputs": [
        {
          "data": {
            "text/plain": [
              "'16,045'"
            ]
          },
          "execution_count": 50,
          "metadata": {},
          "output_type": "execute_result"
        }
      ],
      "source": [
        "comment = driver.find_elements(By.CSS_SELECTOR, \"#header h2#count span\")\n",
        "comment[1].text"
      ]
    },
    {
      "cell_type": "code",
      "execution_count": null,
      "id": "04299065-546c-499c-bfe9-ab1ebf42cc20",
      "metadata": {
        "id": "04299065-546c-499c-bfe9-ab1ebf42cc20",
        "outputId": "03011cc6-6b85-4b04-d354-17ffed2178cd"
      },
      "outputs": [
        {
          "data": {
            "text/plain": [
              "3559"
            ]
          },
          "execution_count": 52,
          "metadata": {},
          "output_type": "execute_result"
        }
      ],
      "source": [
        "comments = driver.find_elements(By.CSS_SELECTOR, \"ytd-comment-thread-renderer #content-text\")\n",
        "len(comments)"
      ]
    },
    {
      "cell_type": "code",
      "execution_count": null,
      "id": "a8ef6cf2-9415-496b-8df6-e8a14fa66add",
      "metadata": {
        "id": "a8ef6cf2-9415-496b-8df6-e8a14fa66add",
        "outputId": "05f32bb9-842d-4e8a-8a2d-338caa4c843d"
      },
      "outputs": [
        {
          "name": "stdout",
          "output_type": "stream",
          "text": [
            "통상적인 예고편에 기대하는 설렘 지수 적정선을 넘어버린 느낌이다…\n",
            "진짜 최근 몇년간 본 영화중에 제일 재밌었음..2시간 30분동안 지루했던적이 한번도 없었음\n",
            "닥터 옥토퍼스는 진짜 원 영화에서도 레전드 캐스팅이었음.....연기력 ㄷㄷㄷ\n",
            "진짜 영화 좋아하길 잘했다.. 이 심장박동을 느낄 수 있다는게\n",
            "내가 그렇게 스파이더맨 팬은 아니지만, 어릴적 봤던 스파이더맨 작품의 옥토퍼스 배우가 다시 이렇게 등장하면서 인사를 건네주니 진짜 지려버렸다...ㄷㄷ\n",
            "진심 마블 영화 좋아하는 사람인데 이처럼 설레고 기대되는 예고편은 처음이다. 어릴때 부모님이 영화관 데리고 가서 본 스파이더맨 빌런들 되게 무서웠었는데 이렇게 다시보니 너무 두근두근 댄다 ㅜㅜㅜ\n",
            "아 심장아파\n",
            "2:31 헐.... 스파이더맨2에서 빌런으로 나온지 17년만에 다시 같은 빌런으로 연기하다니... 미쳤다 이건ㅠㅠ\n",
            "존나 가슴이 웅장해지네\n",
            "근 몇년간 봤던 예고편중에서 제일 잘만든것 같다\n",
            "옛날 스파이더맨 영화만 봤던 나한테도 충격이 너무 크다\n",
            "스파이더맨 만큼 빌런 잘뽑는 만화는 ㄹㅇ 없을것같다 역대 스파이더맨 나오는것도 가슴이 웅장한데 시니스터 식스라니...마블 형 나 미쳐... 제발 영화관에서 화장실 안가고 지려도 되니까 러닝타임 4시간이였으면 좋겠다...스파이더맨이 매력적인 이유는 매력적인 빌런들이 있어서지 ㅠㅠ\n",
            "2:30 와 그랩나올때 설마설마했는데ㅋㅋㅋㅋㅋ진짜 미쳤네...온몸에 소름쫙돋는다ㄷㄷ;이러면 세계관내의 모든스파이더맨들도 다나올수있을지도\n",
            "다른 예고편보다 더 가슴이 웅장해진다 ㄹㅇ\n",
            "멀티버스라니.. 기대된다 \n",
            "와 진짜 기대감이 커지다 못해 미칠 지경,, 지금도 이미 미쳤는데 진짜 토비하고 앤드류까지 나오면 엔드게임도 초월할듯\n",
            "몇번을보는지 모르겠다...\n",
            "볼때마다  가슴이 웅장해진다\n",
            "너무 기대된다~!!빨리 개봉했으면 좋겠다\n",
            "예고편  박진감을 위해 다시 1.2정주행 하고왔다..웅장해진다..................얼른개봉!!\n",
            "닥터옥토버스..멀티버스...와..마블 시네마틱 유니버스는 진짜 매번 내 예상을 뛰어넘는다...결국 토비의 스파이더맨 시리즈를 멀티버스 개념으로 흡수한다는 게...진짜 소름이다... 디씨빠지만 마블 시네마틱 유니버스의 제작 역량은 진짜 존경스러움...  디씨빠로서 샹치는 실망그자체였고 수어사이드는 희망 그자체였으며 노웨이홈은 두려움이다 ㅋㅋㅋㅋㅋ\n",
            "와 ㅋㅋㅋㅋ 마지막에 옥토퍼스 박사 그대로 나오는거 보고 소름이;\n",
            "2:14 여기서 '니가 두 삶을 살려는 게 문제야\" 이거 보고 갑자기 떠올랐는데, 다른 히어로들과는 다르게 정체를 감추고 있던 스파이더맨이라서 스파이더맨으로 있었던 일에 피터로서 책임지지는 않았지만 원치 않게 정체 밝혀지고  정신 못차리다가 멘토 토니가 처음부터 자기가 아이언맨이란 걸 밝힌거 떠올리고 '큰 힘에는 큰 책임이 따른다' 이러면서 정체가 밝혀진 것을 받아드리고 각성할 거 같음\n",
            "닥터스트레인지 등장 이후로 단순 닥스 시리즈 뿐만 아니라 다른 여러곳에서 써먹으려는 움직임이 너무 잘 보여서 정말 좋다 ...\n",
            "마블 스파이더맨만 알았는데 앞선 다른 스파이더맨 5편 다 정주행 하고 영화봤어요 ㅜㅜ 진짜 이런 나도 눈물나고 큰 선물을 받은 것 같아서 좋았는데 스파이더맨 예전부터 팬인분들은 정말 감동 그자체의 영화일 것 같아요. 영화 너무 드라마틱하구 등장인물이며 대사며 상황이며 너무 다 완벽 ㅠㅠ 두번 봤는데 4D로 또 볼거임 ㅠㅠ\n",
            "스파이더맨 영화들을 좋아하는 사람들에게 최고의 크리스마스 선물이였다. 마치 어벤져스 인피니티 워 때 마블 캐릭터들이 모이는 걸 보는 기분이 이 영화에서도 느껴짐\n",
            "어벤져스 예고편 처음봤을때보다 가슴이 웅장해지네\n",
            "진짜 가슴이 웅장해진다...\n",
            "2:35 지린다 진짜\n",
            "댓글만 보고 있습니다..예고편 보면 장면이 강하게 각인될 것 같아 영화관에서 한번에 보겠습니다\n",
            "진짜 오랜만에 영화관 가고 싶게 만드는 영화다\n",
            "엔드게임 이후 마블영화를 기대했지만 아이언맨 1편의 감동은 주지 못했는데,\n",
            "이번 스파이더맨 예고편을 보면서 노래가 나오며 내 가슴속에 뭔가가 꿈틀대기 시작했다.\n",
            "와 내가 제일 좋아하는 영웅 둘이 모두 나온다니...이건 무조건 봐야겠네...ㄷㄷㄷ\n",
            "진짜 가슴이 웅장해진다..\n",
            "스파이더맨 마블로 컴백후\n",
            "가슴떨리는 최고의 예고편입니다\n",
            "마블 찐팬으로써 기대되는작품이네요\n",
            "고블린은 아버지가 나올지 친구 해리가 나오는것일지\n",
            "리부트 이전의 배우들을 다시 섭외했다는거 자체가 양덕이 돈까지 많으면 어디까지 할 수 있는가를 보여주는 것 같다… 진심 옥토퍼스까지 그대로일줄이야…. 마블 사랑해요….\n",
            "2004년, 중학교 1학년, ocn의 스파이더맨 2 주입식 교육을 받고 2021년, 17년 후 닥터 옥타비우스의 아무렇지 않다는 듯한  모습을 봤을때 울컥함은 그 어떤 영화를 보고 재현할 수 있겠습니까? 감동이 자꾸 사라져서 예고편을 볼수록 아깝습니다. 진짜 너무 기대됩니다.\n",
            "진짜 너무 기대된다\n",
            "진짜 사람 미치게 한다 증말ㅋㅋㅋㅋㅋㅋㅋㅋㅋㅋㅋㅋㅋㅋ 넘 보고싶다ㅋㅋㅋㅋ ㅠㅜㅠㅠ\n",
            "와 타사 스파이더맨 세계관까지 결론적으로 다합쳐버리네...\n",
            "큰 힘에는 큰 책임이 따른다는 말에 가장 잘 어울리는 히어로..\n",
            "진짜 답답할 정도로 모든 사람을 지키고 싶어해서 빡쳤는데 나중엔 그러니까 얘가 히어로구나 싶었음. \n",
            "근데 남이 주문 외울땐 좀 가만히 있길\n",
            "실수로 멀티버스건드려서 이전시리즈 캐릭 불러내는거 실제 영화화되니까 소름이네..인워 티저이후에 감탄사 나오게 하는 티저는 정말 오랜만인듯ㅠㅠ\n",
            "진짜 토비맥과이어나올때 사람들 환호성지름 ㅋㅋ 개소름돋았다\n",
            "12월까지 숨 참겠습니다 흡!\n",
            "예고만 봤는데도 설렌다ㅜㅜ 완전 기다렸는데 너무 좋아\n",
            "파프롬홈때 피터가 직접만든 검정빨강슈트가 아니라 토니가 만들어줬던 홈커밍버전 슈트 였다면 미스테리오랑 있을때도 캐런이 자동으로 녹화해놔서 저런 오해 안 받았을텐데... (홈커밍에서는 캐런이 피터가 마스크 쓰고 보는 모든 장면을 스스로 녹화해둔 장면이 나왔었음)\n",
            "매번 나오는 마블 마다 역대급인데 이번엔 진짜 역대급 ㅠ 스파이더맨 셋이서 포즈 잡을때 나... 심쿵\n",
            "이러면 개봉전에 스파이더맨 시리즈 다 보고 봐야겠네...개설렌다 진짜\n",
            "어벤저스 나올땐 이정도 기대는 안했은데 ㄷㄷ\n",
            "연출에 다시한번 감동하고 갑니다.\n",
            "다들 다른 스파이디들이 나오는 티저를 바라고있을텐데\n",
            "기대감을 유지한채로 주인공들의 메인 빌런을 출연시켜서 \n",
            "그들이 나온다는 확신을 주는 연출\n",
            "아 진짜 너무 기대된다.\n",
            "\"Hello Peter\" 하는게 꼭 어린시절 우리들보고 지금까지 잘 살아왓지? 하고 다시 반겨쥬는 느낌이다 ㅠㅠㅠㅠ\n",
            "스파이더맨 시리즈 3명이 다나온다면 토비의 모습도 볼 수 있으면ㅠ  헬로우 피터 하는데 전율이ㅋㅋ 확실히 레전드는 시즌1인 것 같습니다 스토리나 연출이나 스파이더맨1은 레전드 명작인듯~\n"
          ]
        }
      ],
      "source": [
        "for i, comment in enumerate(comments):\n",
        "    print(comment.text)\n",
        "    if i == 49:\n",
        "        break\n",
        "    "
      ]
    },
    {
      "cell_type": "code",
      "execution_count": null,
      "id": "0577b207-02c5-4264-b6b6-0872ef2327d8",
      "metadata": {
        "id": "0577b207-02c5-4264-b6b6-0872ef2327d8",
        "outputId": "1994ec5d-bad9-4c22-80a5-4531bf9dfc42"
      },
      "outputs": [
        {
          "name": "stdout",
          "output_type": "stream",
          "text": [
            "[스파이더맨: 노 웨이 홈] 티저 예고편\n",
            "조회수: 6,773,088회\n",
            "날짜: 2021. 8. 23.\n",
            "좋아요 수: 6.8만\n"
          ]
        },
        {
          "data": {
            "text/plain": [
              "[<selenium.webdriver.remote.webelement.WebElement (session=\"bb9f8e0ce08ede61f6ee83bdda0553b4\", element=\"3e63c0e1-b96a-4db7-a37b-05648a7a2557\")>,\n",
              " <selenium.webdriver.remote.webelement.WebElement (session=\"bb9f8e0ce08ede61f6ee83bdda0553b4\", element=\"2126e89d-6c97-48bf-99d1-1f4a5592d254\")>,\n",
              " <selenium.webdriver.remote.webelement.WebElement (session=\"bb9f8e0ce08ede61f6ee83bdda0553b4\", element=\"7df5b14c-4426-49ab-8925-fc73d25d500a\")>]"
            ]
          },
          "execution_count": 60,
          "metadata": {},
          "output_type": "execute_result"
        }
      ],
      "source": [
        "from selenium import webdriver\n",
        "from selenium.webdriver.common.keys import Keys\n",
        "chromedriver='./chromedriver, chrome_options=options'\n",
        "\n",
        "# from selenium.webdriver.common.by import By\n",
        "# options = webdriver.ChromeOptions()\n",
        "# options.add_argument(\"headless\")\n",
        "# options.add_argument(\"--no-sandbox\")\n",
        "# options.add_argument(\"disable-dev-shm-usage\")\n",
        "driver = webdriver.Chrome('chromedriver')\n",
        "\n",
        "driver.get(\"https://www.youtube.com/watch?v=W7edvITC9g4\")\n",
        "driver.implicitly_wait(2)\n",
        "\n",
        "import time\n",
        "last_height=driver.execute_script(\"return document.documentElement.scrollHeight\")\n",
        "for i in range(5):\n",
        "    driver.execute_script(\"window.scrollTo(0,document.documentElement.scrollHeight);\")\n",
        "    time.sleep(1)\n",
        "    \n",
        "    new_height=driver.execute_script(\"return document.documentElement.scrollHeight\")\n",
        "    if new_height==last_height:\n",
        "        break\n",
        "    last_height=new_height\n",
        "driver.execute_script(\"window.scrollTo(0,document.documentElement.scrollHeight);\")\n",
        "\n",
        "print(driver.find_element(By.CSS_SELECTOR,\"#container > h1\").text)\n",
        "print(\"조회수:\",driver.find_element(By.CSS_SELECTOR, \".view-count\").text.split(\" \")[1])\n",
        "print(\"날짜:\",driver.find_element(By.CSS_SELECTOR,\"div#info-strings.style-scope\").text)\n",
        "print(\"좋아요 수:\",driver.find_element(By.CSS_SELECTOR,\"div#menu a\").text)\n",
        "driver.find_elements(By.CSS_SELECTOR,\"h2#count span\")"
      ]
    },
    {
      "cell_type": "code",
      "execution_count": null,
      "id": "aed74ebb-b383-422a-b469-1c459547d062",
      "metadata": {
        "id": "aed74ebb-b383-422a-b469-1c459547d062",
        "outputId": "cf4f15f5-a1b6-4e03-a7cd-cd184674547a"
      },
      "outputs": [
        {
          "name": "stdout",
          "output_type": "stream",
          "text": [
            "[스파이더맨: 노 웨이 홈] 티저 예고편\n",
            "조회수: 6,773,063회\n",
            "날짜: 2021. 8. 23.\n",
            "좋아요 수: 6.8만\n"
          ]
        },
        {
          "data": {
            "text/plain": [
              "[<selenium.webdriver.remote.webelement.WebElement (session=\"08c265731d1256d869f459a314b3031d\", element=\"7811515a-5c49-43ed-98e1-f4e765c63f67\")>,\n",
              " <selenium.webdriver.remote.webelement.WebElement (session=\"08c265731d1256d869f459a314b3031d\", element=\"f9722719-047a-468d-ae6c-cc5edea4054c\")>,\n",
              " <selenium.webdriver.remote.webelement.WebElement (session=\"08c265731d1256d869f459a314b3031d\", element=\"e10957a5-8218-4331-8376-f6970eb2799c\")>]"
            ]
          },
          "execution_count": 55,
          "metadata": {},
          "output_type": "execute_result"
        }
      ],
      "source": [
        ""
      ]
    },
    {
      "cell_type": "code",
      "execution_count": null,
      "id": "1b0b2990-e5a1-4f14-97ee-d82cab66a69a",
      "metadata": {
        "id": "1b0b2990-e5a1-4f14-97ee-d82cab66a69a",
        "outputId": "31db22fc-c99f-4c0a-cf42-5c673c17d475"
      },
      "outputs": [
        {
          "data": {
            "text/plain": [
              "[<selenium.webdriver.remote.webelement.WebElement (session=\"08c265731d1256d869f459a314b3031d\", element=\"7811515a-5c49-43ed-98e1-f4e765c63f67\")>,\n",
              " <selenium.webdriver.remote.webelement.WebElement (session=\"08c265731d1256d869f459a314b3031d\", element=\"f9722719-047a-468d-ae6c-cc5edea4054c\")>,\n",
              " <selenium.webdriver.remote.webelement.WebElement (session=\"08c265731d1256d869f459a314b3031d\", element=\"e10957a5-8218-4331-8376-f6970eb2799c\")>]"
            ]
          },
          "execution_count": 59,
          "metadata": {},
          "output_type": "execute_result"
        }
      ],
      "source": [
        ""
      ]
    },
    {
      "cell_type": "code",
      "execution_count": null,
      "id": "34852de2-7604-4a81-a107-2221e3565f2c",
      "metadata": {
        "id": "34852de2-7604-4a81-a107-2221e3565f2c",
        "outputId": "54f9e140-b18c-4cb7-a0e5-7cc1da2a06c7"
      },
      "outputs": [
        {
          "data": {
            "text/plain": [
              "'\\r\\n\\r\\n<!DOCTYPE html>\\r\\n<html lang=\"ko\">\\r\\n<head><title>\\r\\n\\t기록실 | 기록 | KBO\\r\\n</title><meta http-equiv=\"Content-Type\" content=\"text/html; charset=utf-8\" /><meta http-equiv=\"Content-Script-Type\" content=\"text/javascript\" /><meta http-equiv=\"Content-Style-Type\" content=\"text/css\" /><meta http-equiv=\"X-UA-Compatible\" content=\"IE=edge, Chrome\" /><meta name=\"title\" content=\"KBO\" /><meta name=\"author\" content=\"스포츠투아이\" /><meta name=\"keywords\" content=\"KBO, 한국야구위원회, 프로야구, KBO 리그, 퓨처스리그, 프로야구순위, 프로야구 일정\" /><meta name=\"viewport\" content=\"width=1200\" /><meta property=\"og:type\" content=\"website\" /><meta property=\"og:title\" content=\"KBO 홈페이지\" /><meta property=\"og:description\" content=\"KBO, 한국야구위원회, 프로야구, KBO 리그, 퓨처스리그, 프로야구순위, 프로야구 일정\" /><meta property=\"og:image\" content=\"//lgcxydabfbch3774324.cdn.ntruss.com/KBO_IMAGE/KBOHome/resources/images/common/open_graph_kbo.png\" /><meta property=\"og:url\" content=\"//www.koreabaseball.com/\" />\\r\\n\\r\\n\\t<link rel=\"shortcut icon\" type=\"image/x-icon\" href=\"//lgcxydabfbch3774324.cdn.ntruss.com/KBO_IMAGE/KBOHome/resources/images/common/favicon.ico\" />\\r\\n    <link href=\"/resources/css/font.css\" rel=\"stylesheet\" type=\"text/css\" />\\r\\n\\t<link rel=\"stylesheet\" type=\"text/css\" href=\"//lgcxydabfbch3774324.cdn.ntruss.com/KBO_IMAGE/KBOHome/resources/min/css/reset.min.css?version=20211117\" />\\r\\n\\t<link rel=\"stylesheet\" type=\"text/css\" href=\"//lgcxydabfbch3774324.cdn.ntruss.com/KBO_IMAGE/KBOHome/resources/min/css/common.min.css?version=20211117\" />\\r\\n\\t<link rel=\"stylesheet\" type=\"text/css\" href=\"//lgcxydabfbch3774324.cdn.ntruss.com/KBO_IMAGE/KBOHome/resources/min/css/layout.min.css?version=20211117\" />\\r\\n\\t<link rel=\"stylesheet\" type=\"text/css\" href=\"//lgcxydabfbch3774324.cdn.ntruss.com/KBO_IMAGE/KBOHome/resources/min/css/contents.min.css?version=20211117\" />\\r\\n    <link rel=\"stylesheet\" type=\"text/css\" href=\"//lgcxydabfbch3774324.cdn.ntruss.com/KBO_IMAGE/KBOHome/resources/min/css/jquery-ui.min.css?version=20211117\" />\\r\\n    <link rel=\"stylesheet\" type=\"text/css\" href=\"//lgcxydabfbch3774324.cdn.ntruss.com/KBO_IMAGE/KBOHome/resources/min/css/jquery-ui-theme.min.css?version=20211117\" />\\r\\n\\t<link rel=\"stylesheet\" type=\"text/css\" href=\"//lgcxydabfbch3774324.cdn.ntruss.com/KBO_IMAGE/KBOHome/resources/min/css/jquery.bxslider.min.css?version=20211117\" />\\r\\n\\r\\n\\t<script type=\"text/javascript\" charset=\"utf-8\" src=\"//lgcxydabfbch3774324.cdn.ntruss.com/KBO_IMAGE/KBOHome/resources/min/js/jquery-1.12.4.min.js?version=20211231\"></script>\\r\\n    <script type=\"text/javascript\" charset=\"utf-8\" src=\"//lgcxydabfbch3774324.cdn.ntruss.com/KBO_IMAGE/KBOHome/resources/min/js/jquery-migrate-1.1.1.min.js?version=20211231\"></script>\\r\\n    <script type=\"text/javascript\" charset=\"utf-8\" src=\"//lgcxydabfbch3774324.cdn.ntruss.com/KBO_IMAGE/KBOHome/resources/min/js/jquery-ui.min.js?version=20211231\"></script>\\r\\n\\t<script type=\"text/javascript\" charset=\"utf-8\" src=\"//lgcxydabfbch3774324.cdn.ntruss.com/KBO_IMAGE/KBOHome/resources/min/js/jquery.bxslider.min.js?version=20211231\"></script>\\r\\n    <script type=\"text/javascript\" charset=\"utf-8\" src=\"//lgcxydabfbch3774324.cdn.ntruss.com/KBO_IMAGE/KBOHome/resources/min/js/jquery.ui.datepicker-ko.min.js?version=20211231\"></script>\\r\\n    <script type=\"text/javascript\" charset=\"utf-8\" src=\"//lgcxydabfbch3774324.cdn.ntruss.com/KBO_IMAGE/KBOHome/resources/min/js/S2i.Common-1.0.1.min.js?version=20211231\"></script>\\r\\n    <script type=\"text/javascript\" charset=\"utf-8\" src=\"//lgcxydabfbch3774324.cdn.ntruss.com/KBO_IMAGE/KBOHome/resources/min/js/S2i.Paging-1.0.8.min.js?version=20211231\"></script>\\r\\n\\t<script type=\"text/javascript\" charset=\"utf-8\" src=\"//lgcxydabfbch3774324.cdn.ntruss.com/KBO_IMAGE/KBOHome/resources/min/js/common.min.js?version=20211231\"></script>\\r\\n    <script type=\"text/javascript\" charset=\"utf-8\" src=\"//lgcxydabfbch3774324.cdn.ntruss.com/KBO_IMAGE/KBOHome/resources/min/js/S2i.MakeTable-1.0.3.min.js?version=20211231\"></script>\\r\\n    <script type=\"text/javascript\" charset=\"utf-8\" src=\"//lgcxydabfbch3774324.cdn.ntruss.com/KBO_IMAGE/KBOHome/resources/min/js/bTogether.min.js?version=20211231\"></script>\\r\\n    \\r\\n\\t<!—[if lt IE 9]>\\r\\n\\t\\t<script src=\"//lgcxydabfbch3774324.cdn.ntruss.com/KBO_IMAGE/KBOHome/resources/min/js/html5shiv.min.js?version=20211231\"></script>\\r\\n\\t<![endif]—>\\r\\n    <script type=\"text/javascript\">\\r\\n        (function (i, s, o, g, r, a, m) {\\r\\n            i[\\'GoogleAnalyticsObject\\'] = r; i[r] = i[r] || function () {\\r\\n                (i[r].q = i[r].q || []).push(arguments)\\r\\n            }, i[r].l = 1 * new Date(); a = s.createElement(o),\\r\\n                m = s.getElementsByTagName(o)[0]; a.async = 1; a.src = g; m.parentNode.insertBefore(a, m)\\r\\n        })(window, document, \\'script\\', \\'//www.google-analytics.com/analytics.js\\', \\'ga\\');\\r\\n\\r\\n        ga(\\'create\\', \\'UA-15700655-14\\', \\'auto\\');\\r\\n        ga(\\'send\\', \\'pageview\\');\\r\\n    </script>\\r\\n    \\r\\n    <link type=\"text/css\" rel=\"stylesheet\" href=\"//lgcxydabfbch3774324.cdn.ntruss.com/KBO_IMAGE/KBOHome/resources/min/css/common_old.min.css?version=20211117\"/>\\r\\n    <link rel=\"stylesheet\" type=\"text/css\" href=\"//lgcxydabfbch3774324.cdn.ntruss.com/KBO_IMAGE/KBOHome/resources/css/sub.css?version=20211117\" />\\r\\n    \\r\\n\\t<link type=\"text/css\" rel=\"stylesheet\" href=\"//lgcxydabfbch3774324.cdn.ntruss.com/KBO_IMAGE/KBOHome/resources/min/css/Record.min.css?version=20211117\"/>\\r\\n    \\r\\n\\r\\n\\r\\n</head>\\r\\n<body>\\r\\n    <form method=\"post\" action=\"./BasicOld.aspx?sort=HRA_RT\" id=\"mainForm\">\\r\\n<div class=\"aspNetHidden\">\\r\\n<input type=\"hidden\" name=\"__EVENTTARGET\" id=\"__EVENTTARGET\" value=\"\" />\\r\\n<input type=\"hidden\" name=\"__EVENTARGUMENT\" id=\"__EVENTARGUMENT\" value=\"\" />\\r\\n<input type=\"hidden\" name=\"__LASTFOCUS\" id=\"__LASTFOCUS\" value=\"\" />\\r\\n<input type=\"hidden\" name=\"__VIEWSTATE\" id=\"__VIEWSTATE\" value=\"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\" />\\r\\n</div>\\r\\n\\r\\n<script type=\"text/javascript\">\\r\\n//<![CDATA[\\r\\nvar theForm = document.forms[\\'mainForm\\'];\\r\\nif (!theForm) {\\r\\n    theForm = document.mainForm;\\r\\n}\\r\\nfunction __doPostBack(eventTarget, eventArgument) {\\r\\n    if (!theForm.onsubmit || (theForm.onsubmit() != false)) {\\r\\n        theForm.__EVENTTARGET.value = eventTarget;\\r\\n        theForm.__EVENTARGUMENT.value = eventArgument;\\r\\n        theForm.submit();\\r\\n    }\\r\\n}\\r\\n//]]>\\r\\n</script>\\r\\n\\r\\n\\r\\n<script src=\"/WebResource.axd?d=PHjscMelH67yviXkMxBmAtMsyrcMF7Maou2s8HPugRoLTnu1T-HaBtMOXbnof2jKeNDCStNzVfdZx5xTWXz5_AmL3WHQMYzBvTdCnir0KCA1&amp;t=637461305481343508\" type=\"text/javascript\"></script>\\r\\n\\r\\n\\r\\n<script src=\"/ScriptResource.axd?d=n-n-w8IaAGbzsuxzp-eBZon0hRp7syvVHVWhaSTLYIYXbiuPSbAOM4MrhxwFknAFnLcj_CvloNLuWPIoiZzLZAQRLIqV8BKadDFRFpzWfdHP2X8LoGiq_tD3V30iGmRtcM6JpIRrCFbUojWDI1FNFk6S9T-MCiiRZeEDHDkGaqHqbbhuhX2BowmVKC54I5Eo0&amp;t=2fe674eb\" type=\"text/javascript\"></script>\\r\\n<script type=\"text/javascript\">\\r\\n//<![CDATA[\\r\\nif (typeof(Sys) === \\'undefined\\') throw new Error(\\'ASP.NET Ajax 클라이언트 쪽 프레임워크를 로드하지 못했습니다.\\');\\r\\n//]]>\\r\\n</script>\\r\\n\\r\\n<script src=\"/ScriptResource.axd?d=6QRitqrGsXi6Ij6fGLCyFerh1Kn2AN1sSsFhtxfY_fWldOidEOw4jNNEKZz-Q427ZzE749w9KPM0Sy6Ts-Pw8iTyLKoVGDnpomEk1QQDpxMbv_oA5Lk-oevBqLAWVOlpbJEjlI7O7ADv3C5CnEEAH1yyMa0ZsE0CS9S0fRu2UpNSiQ5JOEAxTEybHO-_CFw50&amp;t=2fe674eb\" type=\"text/javascript\"></script>\\r\\n<div class=\"aspNetHidden\">\\r\\n\\r\\n\\t<input type=\"hidden\" name=\"__VIEWSTATEGENERATOR\" id=\"__VIEWSTATEGENERATOR\" value=\"33D3A891\" />\\r\\n\\t<input type=\"hidden\" name=\"__EVENTVALIDATION\" id=\"__EVENTVALIDATION\" value=\"/wEdAEUd7fXDqqL+VTHtTxOf+9srMzj2o/Kl3exwtkWJg3O5wUXPArnrpnBEHgYewENEHAHN0KWRtFnUB520854STIKEF5H2d3ilWP1wNV0aXdjy0vtzQsR+QRc0xVJHti5+cOFyE1/cwJtk7pXwOpF/aAt2Z9zuKHrloXfA/yQr8D2Ucrrt9yxA54GObgPZf99RTyjTKnVrlhwsRCE+lowuR7r0bf2pla371+2DOYtPosfhtmyozayEWKkG2Z+gM3Qk1x4/Y5L9N0WTBZCeC5SLVRvBUnDfXDZ6VjcflzHQHbrIShj/U/uqvJYmwAXVt8pp8y7DNtdq70Ie9QlBLUvZdOLYXtWczA60sUIuI3W7v7mxOkbTa2oa77ETfy7ZEV08USxZA91lnQOJsTJ+xNBTbPtjON+ipKcUHaNaBlWXPkOacsmf4QkjtnqhqNi9c4HCG4rg1o0ToOFLs7Hm3BlM4RUSFTV56aEQCnu0p0WZNFmJK++U1++ulUMRSBtH0tKELRcz/45AdAtlOLzaqSrdORpPagFmZb7WMq0ob0u5jY9vRw+oX9baQPl2b3ydxTtWcku6QQYX82nKf7eh+ZLKhA0A1FGC+DJZsSmb0JTnezgKfibuCmdrfh/c4c1cSncDtBZ4Dm6yPaag+gdonM6+L18lZmbefxecbg3k640ix0tpJkliQCd7D8Upo2sF3CAj6M0trgHX1rtHRDG0wPytwjIpe9CWUD+HEZjDxFyN9UyrJ/OyXRqTZrmK4PtxOFathuW24yqZeC8B8R43azSgcKguOXeAeMuYLmxIgdUODE8fjK0/3xEN42R992kWuOxCSyCfs2vPcPJLuARZhRD2PsOFfxlwig/KXayMIZTm3Kg+aD2D46W+XyptikgI3qHBtVlt+1RaSWeP5wW4+ssNHBvd5if0UrG/fr3rb85q2NXNReuTVCNu0QpgyBDsMbWwHnZ+3E8QgnA5L9ln82SQITXxOvwJOtLSS9ehfAKfe8hKlBZOnecS+MQB3blP4nXht/jrC6YM4udi1VxfozHCyTG2p/74UTTGRLYPSqtfwlbAQ5mevCeUecOX0uLLWn0C206yd3RS4zvz+jFKuSDhaTdEhMCsI28D3U11yTv1v5sN26rBbPyHj3lKTX76zzcBHnUWhcOykAkRJXzW0B70EUeiOvd3eJu3lxP+d7EDS7ti9Cstp9k4GTS1vtpEN6Wq+CjK9A9r2vSCab6p1U4/OO6VkuhkApDnJz2QYJ4+WtiVI/BX9FcIhpzUjf6aWSg0KxZfk8/g5053ihgiVWBrAfi8lMQ44crGiAzvrGqenAxeWOZ8mDbKjELLdoHfvhada9FXshlYN2OBm4eu9GhEnuohIgSynfy/m1AkZNqRiApT0alCuvpkbHcYZzQgPlhttdq2O7zjuwnvixFYHJG7bT/PNAwKMgzpZ1p+YZVq5mUASU4PBdGSDK7UxaYcQc23SDnFeNiDdpOw/63Uwh6uhzVpaaQVQlkR72vcYlQcXW9YjQ==\" />\\r\\n</div>\\r\\n\\t    <!-- wrap -->\\r\\n\\t    <div id=\"wrap\">\\r\\n\\t\\t    <!-- header -->\\r\\n\\t\\t    <header>\\t\\r\\n\\t\\t\\t    <div id=\"gnb\" class=\"bgf3\">\\r\\n\\t\\t\\t\\t    <div class=\"gnb-wrap\">\\r\\n\\t\\t\\t\\t\\t    <ul class=\"menu\">\\r\\n                            \\r\\n\\t\\t\\t\\t\\t\\t    <li><a href=\"/Member/Login.aspx\">로그인</a></li>\\r\\n                            <li><a href=\"/Member/Join/Accessterms.aspx\">회원가입</a></li>\\r\\n                            \\r\\n\\t\\t\\t\\t\\t\\t    <li><a href=\"http://eng.koreabaseball.com/\">ENGLISH</a></li>\\t\\t\\t\\t\\t\\t\\r\\n\\t\\t\\t\\t\\t    </ul>\\r\\n\\t\\t\\t\\t\\t    <div class=\"search-area\">\\r\\n\\t\\t\\t\\t\\t\\t    <div class=\"search-box\">\\r\\n\\t\\t\\t\\t\\t\\t\\t    <input class=\"ipt-search\" type=\"text\" id=\"txtTopPlayerWord\" placeholder=\"선수 검색하기\" />\\r\\n\\t\\t\\t\\t\\t\\t\\t    <a href=\"#none;\" id=\"btnTopPlayerSearch\" class=\"btn-search\"><img src=\"//lgcxydabfbch3774324.cdn.ntruss.com/KBO_IMAGE/KBOHome/resources/images/common/btn_search.png\" alt=\"검색\" /></a>\\r\\n\\t\\t\\t\\t\\t\\t    </div>\\r\\n\\t\\t\\t\\t\\t\\t    <div id=\"player_search_area\" class=\"search-result\">\\r\\n\\t\\t\\t\\t\\t\\t\\t    <!-- <p class=\"null\">검색 결과가 없습니다.</p> -->\\r\\n\\t\\t\\t\\t\\t\\t\\t    \\r\\n\\t\\t\\t\\t\\t\\t    </div>\\r\\n\\t\\t\\t\\t\\t    </div>\\r\\n\\t\\t\\t\\t    </div>\\r\\n\\t\\t\\t    </div>\\r\\n\\t\\t\\t    <div class=\"wrapping lnb-wrap\">\\r\\n\\t\\t\\t\\t    <h1 class=\"logo\"><a href=\"/Default.aspx\"><img src=\"//lgcxydabfbch3774324.cdn.ntruss.com/KBO_IMAGE/KBOHome/resources/images/common/h1_logo.png\" alt=\"\" /></a></h1>\\r\\n\\t\\t\\t\\t    <nav>\\r\\n\\t\\t\\t\\t\\t    <ul id=\"lnb\">\\r\\n\\t\\t\\t\\t\\t\\t    <li>\\r\\n\\t\\t\\t\\t\\t\\t\\t    <a href=\"/Schedule/GameCenter/Main.aspx\">일정/결과</a>\\r\\n\\t\\t\\t\\t\\t\\t\\t    <div class=\"lnb-sub\">\\r\\n\\t\\t\\t\\t\\t\\t\\t\\t    <ul class=\"lnb01\">\\r\\n\\t\\t\\t\\t\\t\\t\\t\\t\\t    <li><a href=\"/Schedule/GameCenter/Main.aspx\">게임센터</a></li>\\r\\n\\t\\t\\t\\t\\t\\t\\t\\t\\t    <li><a href=\"/Schedule/ScoreBoard.aspx\">스코어보드</a></li>\\r\\n                                        \\r\\n                                        <li><a href=\"/Schedule/Schedule.aspx\">경기일정/결과</a></li>\\r\\n                                        \\r\\n\\t\\t\\t\\t\\t\\t\\t\\t\\t    <li><a href=\"/Schedule/Calendar.aspx\">월별일정/결과</a></li>\\r\\n\\t\\t\\t\\t\\t\\t\\t\\t\\t    <li><a href=\"/Schedule/International/Olympic/Main2021.aspx\">국제대회</a></li>\\r\\n                                        <li><a href=\"/Schedule/Allstar/Game/Main2019.aspx\">KBO 올스타전</a></li>\\r\\n                                        <li><a href=\"/Schedule/Weather.aspx\">야구장 날씨</a></li>\\r\\n\\t\\t\\t\\t\\t\\t\\t\\t    </ul>\\r\\n\\t\\t\\t\\t\\t\\t\\t    </div>\\r\\n\\t\\t\\t\\t\\t\\t    </li>\\r\\n\\t\\t\\t\\t\\t\\t    <li>\\r\\n\\t\\t\\t\\t\\t\\t\\t    <a href=\"/TeamRank/TeamRank.aspx\">순위</a>\\r\\n\\t\\t\\t\\t\\t\\t\\t    <div class=\"lnb-sub\">\\r\\n\\t\\t\\t\\t\\t\\t\\t\\t    <ul class=\"lnb02\">\\r\\n\\t\\t\\t\\t\\t\\t\\t\\t\\t    <li><a href=\"/TeamRank/TeamRank.aspx\">팀순위</a></li>\\r\\n\\t\\t\\t                            <li><a href=\"/TeamRank/GraphDaily.aspx\">팀별 순위변동 그래프</a></li>\\r\\n\\t\\t\\t\\t\\t\\t\\t\\t    </ul>\\r\\n\\t\\t\\t\\t\\t\\t\\t    </div>\\r\\n\\t\\t\\t\\t\\t\\t    </li>\\r\\n\\t\\t\\t\\t\\t\\t    <li>\\r\\n\\t\\t\\t\\t\\t\\t\\t    <a href=\"/Record/Main.aspx\">기록</a>\\r\\n\\t\\t\\t\\t\\t\\t\\t    <div class=\"lnb-sub\">\\r\\n\\t\\t\\t\\t\\t\\t\\t\\t    <ul class=\"lnb03\">\\r\\n\\t\\t\\t\\t\\t\\t\\t\\t\\t    <li><a href=\"/Record/Main.aspx\">TOP5</a></li>\\r\\n\\t\\t\\t\\t\\t\\t\\t\\t\\t\\t<li><a href=\"/Record/Ranking/Week.aspx\">주간/월간 랭킹</a></li>\\r\\n\\t\\t\\t\\t\\t\\t\\t\\t\\t    <li><a href=\"/Record/Player/HitterBasic/Basic1.aspx\">기록실</a></li>\\r\\n\\t\\t\\t\\t\\t\\t\\t\\t\\t    <li><a href=\"/Record/Etc/HitVsPit.aspx\">투수 vs 타자</a></li>\\r\\n\\t\\t\\t\\t\\t\\t\\t\\t\\t    <li><a href=\"/Record/History/Top/Hitter.aspx\">역대기록실</a></li>\\r\\n                                        <li><a href=\"/Record/Expectation/WeekList.aspx\">주간/일간 예상 달성기록</a></li>\\r\\n\\t\\t\\t\\t\\t\\t\\t\\t    </ul>\\r\\n\\t\\t\\t\\t\\t\\t\\t    </div>\\r\\n\\t\\t\\t\\t\\t\\t    </li>\\r\\n\\t\\t\\t\\t\\t\\t    <li>\\r\\n\\t\\t\\t\\t\\t\\t\\t    <a href=\"/Player/Search.aspx\">선수</a>\\r\\n\\t\\t\\t\\t\\t\\t\\t    <div class=\"lnb-sub\">\\r\\n\\t\\t\\t\\t\\t\\t\\t\\t    <ul class=\"lnb04\">\\r\\n\\t\\t\\t\\t\\t\\t\\t\\t\\t    <li><a href=\"/Player/Search.aspx\">선수조회</a></li>\\r\\n\\t\\t\\t\\t\\t\\t\\t\\t\\t    <li><a href=\"/Player/Register.aspx\">선수등록현황</a></li>\\r\\n\\t\\t\\t\\t\\t\\t\\t\\t\\t    <li><a href=\"/Player/RegisterAll.aspx\">전체등록현황</a></li>\\r\\n\\t\\t\\t\\t\\t\\t\\t\\t\\t    <li><a href=\"/Player/CareerCertificate.aspx\">경력증명서 신청</a></li>\\r\\n\\t\\t\\t\\t\\t\\t\\t\\t\\t\\t<li><a href=\"/Player/Trade.aspx\">선수이동현황</a></li>\\r\\n\\t\\t\\t\\t\\t\\t\\t\\t\\t\\t<li style=\"font-size:13px;\"><a href=\"https://draft.koreabaseball.com/\" target=\"_blank\" >신인 지명 참가 신청</a></li>\\r\\n\\t\\t\\t\\t\\t\\t\\t\\t    </ul>\\r\\n\\t\\t\\t\\t\\t\\t\\t    </div>\\r\\n\\t\\t\\t\\t\\t\\t    </li>\\t\\t\\t\\t\\t\\t    \\r\\n\\t\\t\\t\\t\\t\\t    <li class=\"\">\\r\\n\\t\\t\\t\\t\\t\\t\\t    <a href=\"/News/BreakingNews/List.aspx\">NEWS</a>\\r\\n\\t\\t\\t\\t\\t\\t\\t    <div class=\"lnb-sub\">\\r\\n\\t\\t\\t\\t\\t\\t\\t\\t    <ul class=\"lnb05\">\\r\\n\\t\\t\\t\\t\\t\\t\\t\\t\\t\\t<li><a href=\"/News/BreakingNews/List.aspx\">NEWS</a></li>\\r\\n\\t\\t\\t\\t\\t\\t\\t\\t\\t\\t<li><a href=\"/News/Notice/List.aspx\">KBO 보도자료</a></li>\\r\\n                                        \\r\\n\\t\\t\\t\\t\\t\\t\\t\\t\\t</ul>\\r\\n\\t\\t\\t\\t\\t\\t\\t    </div>\\r\\n\\t\\t\\t\\t\\t\\t    </li>\\r\\n\\t\\t\\t\\t\\t\\t    <li>\\r\\n\\t\\t\\t\\t\\t\\t\\t    <a href=\"javascript:;\">KBO</a>\\r\\n\\t\\t\\t\\t\\t\\t\\t    <div class=\"lnb-sub lnb-style-all\">\\r\\n\\t\\t\\t\\t\\t\\t\\t\\t    <div class=\"wrapping lnb-all-wrap\">\\r\\n\\t\\t\\t\\t\\t\\t\\t\\t\\t    <h3>KBO</h3>\\r\\n\\t\\t\\t\\t\\t\\t\\t\\t\\t    <div class=\"lnb-all kbo01\">\\r\\n\\t\\t\\t\\t\\t\\t\\t\\t\\t\\t    <h4>HISTORY</h4>\\r\\n\\t\\t\\t\\t\\t\\t\\t\\t\\t\\t    <ul>\\r\\n\\t\\t\\t\\t\\t\\t\\t\\t\\t\\t\\t    <li><a href=\"/History/Crowd/GraphTeam.aspx\">관중현황</a></li>\\r\\n\\t\\t\\t\\t\\t\\t\\t\\t\\t\\t\\t    <li><a href=\"/History/Etc/PlayerPrize.aspx\">역대 개인수상</a></li>\\r\\n\\t\\t\\t\\t\\t\\t\\t\\t\\t\\t\\t    <li><a href=\"/History/Etc/GoldenGlove.aspx\">역대 골든글러브</a></li>\\r\\n\\t\\t\\t\\t\\t\\t\\t\\t\\t\\t\\t    <li><a href=\"/History/Etc/GameManage.aspx\">경기운영제도</a></li>\\r\\n\\t\\t\\t\\t\\t\\t\\t\\t\\t\\t\\t    <li><a href=\"/History/Etc/TeamHistory.aspx\">각 구단 변천사</a></li>\\r\\n\\t\\t\\t\\t\\t\\t\\t\\t\\t\\t    </ul>\\r\\n\\t\\t\\t\\t\\t\\t\\t\\t\\t    </div>\\r\\n\\t\\t\\t\\t\\t\\t\\t\\t\\t    <div class=\"lnb-all kbo02\">\\r\\n\\t\\t\\t\\t\\t\\t\\t\\t\\t\\t    <h4>KBO TV</h4>\\r\\n\\t\\t\\t\\t\\t\\t\\t\\t\\t\\t    <ul>\\r\\n\\t\\t\\t\\t\\t\\t\\t\\t\\t\\t\\t    <li><a href=\"/KboTv/Highlight/List.aspx\">하이라이트</a></li>\\r\\n\\t\\t\\t\\t\\t\\t\\t\\t\\t\\t\\t    <li><a href=\"/KboTv/MonthMvp/List.aspx\">월간MVP</a></li>\\r\\n\\t\\t\\t\\t\\t\\t\\t\\t\\t\\t\\t    <li><a href=\"/KboTv/Legend/List.aspx\">레전드 올스타 동영상</a></li>\\r\\n\\t\\t\\t\\t\\t\\t\\t\\t\\t\\t\\t    <li><a href=\"/KboTv/Event/List.aspx\">KBO 공식 영상</a></li>\\r\\n\\t\\t\\t\\t\\t\\t\\t\\t\\t\\t\\t    <li><a href=\"/KboTv/VeteranInterview/List.aspx\">야구 원로 인터뷰</a></li>\\r\\n\\t\\t\\t\\t\\t\\t\\t\\t\\t\\t    </ul>\\r\\n\\t\\t\\t\\t\\t\\t\\t\\t\\t    </div>\\t\\r\\n\\t\\t\\t\\t\\t\\t\\t\\t\\t    <div class=\"lnb-all kbo03\">\\r\\n\\t\\t\\t\\t\\t\\t\\t\\t\\t\\t    <h4>게시판</h4>\\r\\n\\t\\t\\t\\t\\t\\t\\t\\t\\t\\t    <ul>\\r\\n\\t\\t\\t\\t\\t\\t\\t\\t\\t\\t\\t    <li><a href=\"/Board/Notice/List.aspx\">NOTICE</a></li>\\r\\n\\t\\t\\t\\t\\t\\t\\t\\t\\t\\t\\t    <li><a href=\"/Board/Faqs/List.aspx\">자주하는질문</a></li>\\r\\n\\t\\t\\t\\t\\t\\t\\t\\t\\t\\t\\t    \\r\\n\\t\\t\\t\\t\\t\\t\\t\\t\\t\\t\\t    \\r\\n\\t\\t\\t\\t\\t\\t\\t\\t\\t\\t\\t    \\r\\n\\t\\t\\t\\t\\t\\t\\t\\t\\t\\t\\t\\t\\r\\n\\t\\t\\t\\t\\t\\t\\t\\t\\t\\t\\t\\t<li><a href=\"/Board/UnivMarketer/VideoList.aspx\">대학생 마케터</a></li>\\r\\n\\t\\t\\t\\t\\t\\t\\t\\t\\t\\t    </ul>\\r\\n\\t\\t\\t\\t\\t\\t\\t\\t\\t    </div>\\t\\r\\n\\t\\t\\t\\t\\t\\t\\t\\t\\t    <div class=\"lnb-all kbo04\">\\r\\n\\t\\t\\t\\t\\t\\t\\t\\t\\t\\t    <h4>자료실</h4>\\r\\n\\t\\t\\t\\t\\t\\t\\t\\t\\t\\t    <ul>\\r\\n\\t\\t\\t\\t\\t\\t\\t\\t\\t\\t\\t    <li><a href=\"/Reference/Etc/Amazing.aspx\">진기록 명기록</a></li>\\r\\n\\t\\t\\t\\t                                <li><a href=\"/Reference/Ebook/EbookPublication.aspx\">E-BOOK</a></li>\\r\\n\\t\\t\\t\\t                                <li><a href=\"/Reference/OnlineLecture/List.aspx\">초급자용 사이버야구교실</a></li>\\r\\n\\t\\t\\t\\t                                <li><a href=\"/Reference/Etc/GameRule.aspx\">경기규칙</a></li>\\r\\n\\t\\t\\t\\t\\t\\t\\t\\t\\t\\t    </ul>\\r\\n\\t\\t\\t\\t\\t\\t\\t\\t\\t    </div>\\t\\r\\n\\t\\t\\t\\t\\t\\t\\t\\t\\t    <div class=\"lnb-all kbo05\">\\r\\n\\t\\t\\t\\t\\t\\t\\t\\t\\t\\t    <h4>ABOUT KBO</h4>\\r\\n\\t\\t\\t\\t\\t\\t\\t\\t\\t\\t    <ul>\\r\\n\\t\\t\\t\\t\\t\\t\\t\\t\\t\\t\\t    <li><a href=\"/About/Etc/TeamInfo.aspx\">구단 소개</a></li>\\r\\n\\t\\t\\t\\t\\t\\t\\t\\t\\t\\t\\t    <li><a href=\"/About/Group/Activity.aspx\">조직 및 활동</a></li>\\r\\n                                                <li><a href=\"/Event/Etc/OfficialChannel.aspx\">KBO 공식 채널</a></li>\\r\\n\\t\\t\\t\\t\\t\\t\\t\\t\\t\\t\\t    <li><a href=\"/About/Etc/KboCi.aspx\">KBO CI / 캐치프레이즈</a></li>\\r\\n\\t\\t\\t\\t\\t\\t\\t\\t\\t\\t\\t    <li><a href=\"/About/Etc/Map.aspx\">약도 / 관람료</a></li>\\r\\n\\t\\t\\t\\t\\t\\t\\t\\t\\t\\t\\t    <li><a href=\"/About/Committee/OrganizationChart.aspx\">기록위원회</a></li>\\r\\n                                                <li><a href=\"http://www.cleankbo.com/\" target=\"_blank\">클린베이스볼센터</a></li>\\r\\n\\t\\t\\t\\t\\t\\t\\t\\t\\t\\t    </ul>\\r\\n\\t\\t\\t\\t\\t\\t\\t\\t\\t    </div>\\t\\r\\n\\t\\t\\t\\t\\t\\t\\t\\t\\t    <div class=\"lnb-all kbo06\">\\r\\n\\t\\t\\t\\t\\t\\t\\t\\t\\t\\t    <h4>주요 사업/행사</h4>\\r\\n\\t\\t\\t\\t\\t\\t\\t\\t\\t\\t    <ul>\\r\\n\\t\\t\\t\\t\\t\\t\\t\\t\\t\\t\\t    <li><a href=\"/Event/Etc/TimeLine.aspx\">KBO 타임라인</a></li>                                                \\r\\n\\t\\t\\t\\t\\t\\t\\t\\t\\t\\t\\t    <li><a href=\"/Event/Contribution/Service2019.aspx\">KBO 사회공헌</a></li>\\r\\n                                                <li><a href=\"/Event/RecordClass/Professional.aspx\">기록강습회</a></li>\\r\\n\\t\\t\\t\\t\\t\\t\\t\\t\\t\\t\\t    <li><a href=\"/Event/WinterMeeting/WinterMeeting2019.aspx\">KBO 윈터미팅</a></li> <!-- 20180417 KBO 요청 임시삭제 -->\\r\\n\\t\\t\\t\\t\\t\\t\\t\\t\\t\\t\\t    <li><a href=\"/Event/Etc/SafeGuide.aspx\">KBO 경기장 안전정책</a></li>\\r\\n\\t\\t\\t\\t\\t\\t\\t\\t\\t\\t\\t\\t<li><a href=\"/Event/Etc/SaveSacrifice.aspx\">Save & Sacrifice</a></li>\\r\\n\\t\\t\\t\\t\\t\\t\\t\\t\\t\\t\\t\\t\\r\\n\\t\\t\\t\\t\\t\\t\\t\\t\\t\\t    </ul>\\r\\n\\t\\t\\t\\t\\t\\t\\t\\t\\t    </div>\\r\\n\\t\\t\\t\\t\\t\\t\\t\\t    </div>\\r\\n\\t\\t\\t\\t\\t\\t\\t\\t    \\r\\n\\t\\t\\t\\t\\t\\t\\t    </div>\\r\\n\\t\\t\\t\\t\\t\\t    </li>\\r\\n\\t\\t\\t\\t\\t\\t\\t<li class=\"futures\">\\r\\n\\t\\t\\t\\t\\t\\t\\t    <a href=\"/Futures/Main.aspx\">퓨처스리그</a>\\r\\n\\t\\t\\t\\t\\t\\t\\t    \\t\\t\\t\\t\\r\\n\\t\\t\\t\\t\\t\\t    </li>\\r\\n\\t\\t\\t\\t\\t\\t\\t<li id=\"market\" class=\"market\"><a href=\"https://www.kbomarket.com/\" target=\"_blank\">KBO 마켓</a></li>\\r\\n\\t\\t\\t\\t\\t\\t    <li id=\"lnbAll\">\\r\\n\\t\\t\\t\\t\\t\\t\\t    <a href=\"javascript:;\">전체 메뉴</a>\\r\\n\\t\\t\\t\\t\\t\\t\\t    <div class=\"lnb-sub lnb-style-all\">\\r\\n\\t\\t\\t\\t\\t\\t\\t\\t    <div class=\"wrapping lnb-all-wrap\">\\r\\n\\t\\t\\t\\t\\t\\t\\t\\t\\t    <div class=\"line line01\">\\r\\n\\t\\t\\t\\t\\t\\t\\t\\t\\t\\t    <h3>전체 메뉴</h3>\\r\\n\\t\\t\\t\\t\\t\\t\\t\\t\\t\\t    <div class=\"lnb-all menu01\">\\r\\n\\t\\t\\t\\t\\t\\t\\t\\t\\t\\t\\t    <h4>일정/결과</h4>\\r\\n\\t\\t\\t\\t\\t\\t\\t\\t\\t\\t\\t    <ul>\\r\\n\\t\\t\\t\\t\\t\\t\\t\\t\\t\\t\\t\\t    <li><a href=\"/Schedule/GameCenter/Main.aspx\">게임센터</a></li>\\r\\n\\t\\t\\t\\t\\t\\t\\t\\t\\t                <li><a href=\"/Schedule/ScoreBoard.aspx\">스코어보드</a></li>\\r\\n\\t\\t\\t\\t\\t\\t\\t\\t\\t                \\r\\n                                                    <li><a href=\"/Schedule/Schedule.aspx\">경기일정/결과</a></li>\\r\\n                                                    \\r\\n\\t\\t\\t\\t\\t\\t\\t\\t\\t                <li><a href=\"/Schedule/Calendar.aspx\">월별일정/결과</a></li>\\r\\n\\t\\t\\t\\t\\t\\t\\t\\t\\t                <li><a href=\"/Schedule/International/Olympic/Main2021.aspx\">국제대회</a></li>\\r\\n                                                    <li><a href=\"/Schedule/Allstar/Game/Main2019.aspx\">KBO 올스타전</a></li>\\r\\n\\t\\t\\t\\t\\t\\t\\t\\t\\t\\t\\t\\t\\t<li><a href=\"/Schedule/Weather.aspx\">야구장 날씨</a></li>\\r\\n\\t\\t\\t\\t\\t\\t\\t\\t\\t\\t\\t    </ul>\\r\\n\\t\\t\\t\\t\\t\\t\\t\\t\\t\\t    </div>\\r\\n\\t\\t\\t\\t\\t\\t\\t\\t\\t\\t    <div class=\"lnb-all menu02\">\\r\\n\\t\\t\\t\\t\\t\\t\\t\\t\\t\\t\\t    <h4>순위</h4>\\r\\n\\t\\t\\t\\t\\t\\t\\t\\t\\t\\t\\t    <ul>\\r\\n\\t\\t\\t\\t\\t\\t\\t\\t\\t\\t\\t\\t    <li><a href=\"/TeamRank/TeamRank.aspx\">팀순위</a></li>\\r\\n\\t\\t\\t                                        <li><a href=\"/TeamRank/GraphDaily.aspx\">팀별 순위변동 그래프</a></li>\\r\\n\\t\\t\\t\\t\\t\\t\\t\\t\\t\\t\\t    </ul>\\r\\n\\t\\t\\t\\t\\t\\t\\t\\t\\t\\t    </div>\\t\\r\\n\\t\\t\\t\\t\\t\\t\\t\\t\\t\\t    <div class=\"lnb-all menu03\">\\r\\n\\t\\t\\t\\t\\t\\t\\t\\t\\t\\t\\t    <h4>기록</h4>\\r\\n\\t\\t\\t\\t\\t\\t\\t\\t\\t\\t\\t    <ul>\\r\\n\\t\\t\\t\\t\\t\\t\\t\\t\\t\\t\\t\\t    <li><a href=\"/Record/Main.aspx\">TOP5</a></li>\\r\\n\\t\\t\\t\\t\\t\\t\\t\\t\\t\\t\\t\\t\\t<li><a href=\"/Record/Ranking/Week.aspx\">주간/월간 랭킹</a></li>\\r\\n\\t\\t\\t\\t\\t\\t\\t\\t\\t                <li><a href=\"/Record/Player/HitterBasic/Basic1.aspx\">기록실</a></li>\\r\\n\\t\\t\\t\\t\\t\\t\\t\\t\\t                <li><a href=\"/Record/Etc/HitVsPit.aspx\">투수 vs 타자</a></li>\\r\\n\\t\\t\\t\\t\\t\\t\\t\\t\\t                <li><a href=\"/Record/History/Top/Hitter.aspx\">역대기록실</a></li>\\r\\n                                                    <li class=\"menu0305\"><a href=\"/Record/Expectation/WeekList.aspx\">주간/일간 예상 달성기록</a></li>\\r\\n\\t\\t\\t\\t\\t\\t\\t\\t\\t\\t\\t    </ul>\\r\\n\\t\\t\\t\\t\\t\\t\\t\\t\\t\\t    </div>\\t\\r\\n\\t\\t\\t\\t\\t\\t\\t\\t\\t\\t    <div class=\"lnb-all menu04\">\\r\\n\\t\\t\\t\\t\\t\\t\\t\\t\\t\\t\\t    <h4>선수</h4>\\r\\n\\t\\t\\t\\t\\t\\t\\t\\t\\t\\t\\t    <ul>\\r\\n\\t\\t\\t\\t\\t\\t\\t\\t\\t\\t\\t\\t    <li><a href=\"/Player/Search.aspx\">선수조회</a></li>\\r\\n\\t\\t\\t\\t\\t\\t\\t\\t\\t                <li><a href=\"/Player/Register.aspx\">선수등록현황</a></li>\\r\\n\\t\\t\\t\\t\\t\\t\\t\\t\\t                <li><a href=\"/Player/RegisterAll.aspx\">전체등록현황</a></li>\\r\\n\\t\\t\\t\\t\\t\\t\\t\\t\\t                <li><a href=\"/Player/CareerCertificate.aspx\">경력증명서 신청</a></li>\\r\\n\\t\\t\\t\\t\\t\\t\\t\\t\\t\\t\\t\\t\\t<li><a href=\"/Player/Trade.aspx\">선수이동현황</a></li>\\r\\n\\t\\t\\t\\t\\t\\t\\t\\t\\t\\t\\t\\t\\t<li><a href=\"https://draft.koreabaseball.com/\" target=\"_blank\">신인 지명 참가 신청</a></li>\\r\\n\\t\\t\\t\\t\\t\\t\\t\\t\\t\\t\\t    </ul>\\r\\n\\t\\t\\t\\t\\t\\t\\t\\t\\t\\t    </div>\\t\\r\\n\\t\\t\\t\\t\\t\\t\\t\\t\\t\\t    <div class=\"lnb-all menu05\">\\r\\n\\t\\t\\t\\t\\t\\t\\t\\t\\t\\t\\t    <h4>퓨처스리그</h4>\\r\\n\\t\\t\\t\\t\\t\\t\\t\\t\\t\\t\\t    <ul>\\r\\n\\t\\t\\t\\t\\t\\t\\t\\t\\t\\t\\t\\t    <li><a href=\"/Futures/Schedule/GameList.aspx\">경기일정/결과</a></li>\\r\\n\\t\\t\\t\\t\\t\\t\\t\\t\\t\\t\\t\\t    <li><a href=\"/Futures/TeamRank/North.aspx\">팀순위</a></li>\\r\\n\\t\\t\\t\\t\\t\\t\\t\\t\\t\\t\\t\\t    <li><a href=\"/Futures/Top/Main.aspx\">TOP5</a></li>\\r\\n\\t\\t\\t\\t\\t\\t\\t\\t\\t\\t\\t\\t    <li><a href=\"/Futures/Player/Hitter.aspx\">기록실</a></li>\\r\\n\\t\\t\\t\\t\\t\\t\\t\\t\\t\\t\\t\\t\\t<li><a href=\"/Futures/Player/Register.aspx\">선수등록현황</a></li>\\r\\n\\t\\t\\t\\t\\t\\t\\t\\t\\t\\t\\t\\t    \\r\\n\\t\\t\\t\\t\\t\\t\\t\\t\\t\\t\\t\\t    <li><a href=\"/Futures/Reporter/List.aspx\">퓨처스리그 대학생<br />기자단</a></li>\\t\\t\\t\\t\\t\\t\\t\\t\\t\\t\\t\\t\\t\\r\\n\\t\\t\\t\\t\\t\\t\\t\\t\\t\\t\\t    </ul>\\r\\n\\t\\t\\t\\t\\t\\t\\t\\t\\t\\t    </div>\\t\\r\\n\\t\\t\\t\\t\\t\\t\\t\\t\\t\\t    <div class=\"lnb-all menu06\">\\r\\n\\t\\t\\t\\t\\t\\t\\t\\t\\t\\t\\t    <h4>NEWS</h4>\\r\\n\\t\\t\\t\\t\\t\\t\\t\\t\\t\\t\\t    <ul>\\r\\n\\t\\t\\t\\t\\t\\t\\t\\t\\t\\t\\t\\t    <li><a href=\"/News/BreakingNews/List.aspx\">NEWS</a></li>\\r\\n\\t\\t\\t\\t\\t\\t\\t\\t\\t\\t            <li><a href=\"/News/Notice/List.aspx\">KBO 보도자료</a></li>\\r\\n                                                    \\r\\n\\t\\t\\t\\t\\t\\t\\t\\t\\t\\t\\t    </ul>\\r\\n\\t\\t\\t\\t\\t\\t\\t\\t\\t\\t    </div>\\r\\n\\t\\t\\t\\t\\t\\t\\t\\t\\t    </div>\\r\\n\\t\\t\\t\\t\\t\\t\\t\\t\\t    <div class=\"line line02\">\\r\\n\\t\\t\\t\\t\\t\\t\\t\\t\\t\\t    <h3>KBO</h3>\\r\\n\\t\\t\\t\\t\\t\\t\\t\\t\\t\\t    <div class=\"lnb-all menu07\">\\r\\n\\t\\t\\t\\t\\t\\t\\t\\t\\t\\t\\t    <h4>HISTORY</h4>\\r\\n\\t\\t\\t\\t\\t\\t\\t\\t\\t\\t\\t    <ul>\\r\\n                                                    <li><a href=\"/History/Crowd/GraphTeam.aspx\">관중현황</a></li>\\r\\n\\t\\t\\t\\t\\t\\t\\t\\t\\t\\t\\t        <li><a href=\"/History/Etc/PlayerPrize.aspx\">역대 개인수상</a></li>\\r\\n\\t\\t\\t\\t\\t\\t\\t\\t\\t\\t\\t        <li><a href=\"/History/Etc/GoldenGlove.aspx\">역대 골든글러브</a></li>\\r\\n\\t\\t\\t\\t\\t\\t\\t\\t\\t\\t\\t        <li><a href=\"/History/Etc/GameManage.aspx\">경기운영제도</a></li>\\r\\n\\t\\t\\t\\t\\t\\t\\t\\t\\t\\t\\t        <li><a href=\"/History/Etc/TeamHistory.aspx\">각 구단 변천사</a></li>\\r\\n\\t\\t\\t\\t\\t\\t\\t\\t\\t\\t\\t    </ul>\\r\\n\\t\\t\\t\\t\\t\\t\\t\\t\\t\\t    </div>\\r\\n\\t\\t\\t\\t\\t\\t\\t\\t\\t\\t    <div class=\"lnb-all menu08\">\\r\\n\\t\\t\\t\\t\\t\\t\\t\\t\\t\\t\\t    <h4>KBO TV</h4>\\r\\n\\t\\t\\t\\t\\t\\t\\t\\t\\t\\t\\t    <ul>\\r\\n\\t\\t\\t\\t\\t\\t\\t\\t\\t\\t\\t\\t    <li><a href=\"/KboTv/Highlight/List.aspx\">하이라이트</a></li>\\r\\n\\t\\t\\t\\t\\t\\t\\t\\t\\t\\t\\t        <li><a href=\"/KboTv/MonthMvp/List.aspx\">월간MVP</a></li>\\r\\n\\t\\t\\t\\t\\t\\t\\t\\t\\t\\t\\t        <li><a href=\"/KboTv/Legend/List.aspx\">레전드 올스타 동영상</a></li>\\r\\n\\t\\t\\t\\t\\t\\t\\t\\t\\t\\t\\t        <li><a href=\"/KboTv/Event/List.aspx\">KBO 공식 영상</a></li>\\r\\n\\t\\t\\t\\t\\t\\t\\t\\t\\t\\t\\t        <li><a href=\"/KboTv/VeteranInterview/List.aspx\">야구 원로 인터뷰</a></li>\\r\\n\\t\\t\\t\\t\\t\\t\\t\\t\\t\\t\\t    </ul>\\r\\n\\t\\t\\t\\t\\t\\t\\t\\t\\t\\t    </div>\\t\\r\\n\\t\\t\\t\\t\\t\\t\\t\\t\\t\\t    <div class=\"lnb-all menu09\">\\r\\n\\t\\t\\t\\t\\t\\t\\t\\t\\t\\t\\t    <h4>게시판</h4>\\r\\n\\t\\t\\t\\t\\t\\t\\t\\t\\t\\t\\t    <ul>\\r\\n\\t\\t\\t\\t\\t\\t\\t\\t\\t\\t\\t\\t    <li><a href=\"/Board/Notice/List.aspx\">NOTICE</a></li>\\r\\n\\t\\t\\t\\t\\t\\t\\t\\t\\t\\t\\t        <li><a href=\"/Board/Faqs/List.aspx\">자주하는질문</a></li>\\r\\n\\t\\t\\t\\t\\t\\t\\t\\t\\t\\t\\t       \\r\\n\\t\\t\\t\\t\\t\\t\\t\\t\\t\\t\\t        \\r\\n\\t\\t\\t\\t\\t\\t\\t\\t\\t\\t\\t        \\r\\n\\t\\t\\t\\t\\t\\t\\t\\t\\t\\t\\t\\t\\t\\r\\n\\t\\t\\t\\t\\t\\t\\t\\t\\t\\t\\t\\t\\t<li><a href=\"/Board/UnivMarketer/VideoList.aspx\">대학생 마케터</a></li>\\r\\n\\t\\t\\t\\t\\t\\t\\t\\t\\t\\t\\t    </ul>\\r\\n\\t\\t\\t\\t\\t\\t\\t\\t\\t\\t    </div>\\t\\r\\n\\t\\t\\t\\t\\t\\t\\t\\t\\t\\t    <div class=\"lnb-all menu10 \">\\r\\n\\t\\t\\t\\t\\t\\t\\t\\t\\t\\t\\t    <h4>자료실</h4>\\r\\n\\t\\t\\t\\t\\t\\t\\t\\t\\t\\t\\t    <ul>\\r\\n\\t\\t\\t\\t\\t\\t\\t\\t\\t\\t\\t\\t    <li><a href=\"/Reference/Etc/Amazing.aspx\">진기록 명기록</a></li>\\r\\n\\t\\t\\t\\t                                    <li><a href=\"/Reference/Ebook/EbookPublication.aspx\">E-BOOK</a></li>\\r\\n\\t\\t\\t\\t                                    <li><a href=\"/Reference/OnlineLecture/List.aspx\">초급자용 사이버야구교실</a></li>\\r\\n\\t\\t\\t\\t                                    <li><a href=\"/Reference/Etc/GameRule.aspx\">경기규칙</a></li>\\r\\n\\t\\t\\t\\t\\t\\t\\t\\t\\t\\t\\t    </ul>\\r\\n\\t\\t\\t\\t\\t\\t\\t\\t\\t\\t    </div>\\t\\r\\n\\t\\t\\t\\t\\t\\t\\t\\t\\t\\t    <div class=\"lnb-all menu11\">\\r\\n\\t\\t\\t\\t\\t\\t\\t\\t\\t\\t\\t    <h4>ABOUT KBO</h4>\\r\\n\\t\\t\\t\\t\\t\\t\\t\\t\\t\\t\\t    <ul>\\r\\n\\t\\t\\t\\t\\t\\t\\t\\t\\t\\t\\t\\t    <li><a href=\"/About/Etc/TeamInfo.aspx\">구단 소개</a></li>\\r\\n\\t\\t\\t\\t\\t\\t\\t\\t\\t\\t\\t        <li><a href=\"/About/Group/Activity.aspx\">조직 및 활동</a></li>\\r\\n                                                    <li><a href=\"/Event/Etc/OfficialChannel.aspx\">KBO 공식 채널</a></li>\\r\\n\\t\\t\\t\\t\\t\\t\\t\\t\\t\\t\\t        <li><a href=\"/About/Etc/KboCi.aspx\">KBO CI / 캐치프레이즈</a></li>\\r\\n\\t\\t\\t\\t\\t\\t\\t\\t\\t\\t\\t        <li><a href=\"/About/Etc/Map.aspx\">약도 / 관람료</a></li>\\r\\n\\t\\t\\t\\t\\t\\t\\t\\t\\t\\t\\t        <li><a href=\"/About/Committee/OrganizationChart.aspx\">기록위원회</a></li>\\r\\n                                                    <li><a href=\"http://www.cleankbo.com/\" target=\"_blank\">클린베이스볼센터</a></li>\\r\\n\\t\\t\\t\\t\\t\\t\\t\\t\\t\\t\\t    </ul>\\r\\n\\t\\t\\t\\t\\t\\t\\t\\t\\t\\t    </div>\\t\\r\\n\\t\\t\\t\\t\\t\\t\\t\\t\\t\\t    <div class=\"lnb-all menu12\">\\r\\n\\t\\t\\t\\t\\t\\t\\t\\t\\t\\t\\t    <h4>주요 사업/행사</h4>\\r\\n\\t\\t\\t\\t\\t\\t\\t\\t\\t\\t\\t    <ul>\\r\\n\\t\\t\\t\\t\\t\\t\\t\\t\\t\\t\\t\\t    <li><a href=\"/Event/Etc/TimeLine.aspx\">KBO 타임라인</a></li>                                                    \\r\\n\\t\\t\\t\\t\\t\\t\\t\\t\\t\\t\\t        <li><a href=\"/Event/Contribution/Service2019.aspx\">KBO 사회공헌</a></li>\\r\\n                                                    <li><a href=\"/Event/RecordClass/Professional.aspx\">기록강습회</a></li>\\r\\n\\t\\t\\t\\t\\t\\t\\t\\t\\t\\t\\t         <li><a href=\"/Event/WinterMeeting/WinterMeeting2019.aspx\">KBO 윈터미팅</a></li>  <!-- 20180417 KBO 요청 임시삭제 -->\\r\\n\\t\\t\\t\\t\\t\\t\\t\\t\\t\\t\\t        <li><a href=\"/Event/Etc/SafeGuide.aspx\">KBO 경기장 안전정책</a></li>\\r\\n\\t\\t\\t\\t\\t\\t\\t\\t\\t\\t\\t\\t\\t<li><a href=\"/Event/Etc/SaveSacrifice.aspx\">Save & Sacrifice</a></li>\\r\\n\\t\\t\\t\\t\\t\\t\\t\\t\\t\\t\\t\\t\\t\\r\\n\\t\\t\\t\\t\\t\\t\\t\\t\\t\\t\\t    </ul>\\r\\n\\t\\t\\t\\t\\t\\t\\t\\t\\t\\t    </div>\\r\\n\\t\\t\\t\\t\\t\\t\\t\\t\\t    </div>\\r\\n\\t\\t\\t\\t\\t\\t\\t\\t    </div>\\r\\n\\t\\t\\t\\t\\t\\t\\t\\t    <div class=\"btn-close\">\\r\\n\\t\\t\\t\\t\\t\\t\\t\\t\\t    <a href=\"javascript:;\">\\r\\n\\t\\t\\t\\t\\t\\t\\t\\t\\t\\t    <img src=\"//lgcxydabfbch3774324.cdn.ntruss.com/KBO_IMAGE/KBOHome/resources/images/common/btn_close_fff.png\" alt=\"\" />\\r\\n\\t\\t\\t\\t\\t\\t\\t\\t\\t\\t    <span>닫기</span>\\r\\n\\t\\t\\t\\t\\t\\t\\t\\t\\t    </a>\\t\\t\\t\\t\\t\\t\\t\\t\\t\\r\\n\\t\\t\\t\\t\\t\\t\\t\\t    </div>\\r\\n\\t\\t\\t\\t\\t\\t\\t    </div>\\r\\n\\t\\t\\t\\t\\t\\t    </li>\\r\\n\\t\\t\\t\\t\\t    </ul>\\r\\n\\t\\t\\t\\t    </nav>\\r\\n\\t\\t\\t    </div>\\r\\n\\t\\t    </header>\\r\\n\\t\\t    <!-- // header -->\\r\\n\\t\\t    <hr />\\r\\n\\t\\t    <!-- container -->\\r\\n\\t\\t    \\r\\n    \\r\\n<section id=\"container\">\\r\\n\\t<div class=\"wrapping container-wrap\">\\t\\t\\t\\r\\n\\t\\t<aside>\\r\\n\\t\\t\\t<h3>기록</h3>\\r\\n\\t\\t\\t<ul id=\"snb\">\\r\\n\\t\\t\\t\\t<li><a href=\"/Record/Main.aspx\" id=\"lnb01\">TOP5</a></li>\\r\\n\\t\\t\\t    <li><a href=\"/Record/Ranking/Week.aspx\" id=\"lnb06\">주간/월간 랭킹</a></li>\\r\\n\\t\\t\\t\\t<li><a href=\"/Record/Player/HitterBasic/Basic1.aspx\" id=\"lnb02\">기록실</a></li>\\r\\n\\t\\t\\t    <li><a href=\"/Record/Etc/HitVsPit.aspx\" id=\"lnb03\">투수 vs 타자</a></li>\\r\\n\\t\\t\\t\\t<li><a href=\"/Record/History/Top/Hitter.aspx\" id=\"lnb04\">역대기록실</a></li>\\r\\n\\t\\t\\t\\t<li><a href=\"/Record/Expectation/WeekList.aspx\" id=\"lnb05\">주간/일간 예상 달성기록</a></li>\\r\\n\\t\\t\\t</ul>\\r\\n\\t\\t\\t\\r\\n\\t\\t</aside>\\r\\n\\t\\t\\r\\n<script type=\"text/javascript\">\\r\\n//<![CDATA[\\r\\nSys.WebForms.PageRequestManager._initialize(\\'ctl00$ctl00$ctl00$cphContents$cphContents$cphContents$smData\\', \\'mainForm\\', [\\'tctl00$ctl00$ctl00$cphContents$cphContents$cphContents$udpContent\\',\\'cphContents_cphContents_cphContents_udpContent\\'], [\\'ctl00$ctl00$ctl00$cphContents$cphContents$cphContents$lbtnOrderBy\\',\\'cphContents_cphContents_cphContents_lbtnOrderBy\\',\\'ctl00$ctl00$ctl00$cphContents$cphContents$cphContents$ddlSeason\\',\\'cphContents_cphContents_cphContents_ddlSeason\\',\\'ctl00$ctl00$ctl00$cphContents$cphContents$cphContents$ddlSeries\\',\\'cphContents_cphContents_cphContents_ddlSeries\\',\\'ctl00$ctl00$ctl00$cphContents$cphContents$cphContents$ddlTeam\\',\\'cphContents_cphContents_cphContents_ddlTeam\\',\\'ctl00$ctl00$ctl00$cphContents$cphContents$cphContents$ddlPos\\',\\'cphContents_cphContents_cphContents_ddlPos\\'], [], 90, \\'ctl00$ctl00$ctl00\\');\\r\\n//]]>\\r\\n</script>\\r\\n\\r\\n<div id=\"contents\">\\r\\n\\t<!--sub title & location -->\\r\\n\\t<div class=\"location\">\\r\\n\\t\\t<span class=\"home\"><a href=\"/Default.aspx\"><img src=\"//lgcxydabfbch3774324.cdn.ntruss.com/KBO_IMAGE/KBOHome/resources/images/common/ico_home.gif\" alt=\"홈으로\" /></a></span> &gt;\\r\\n\\t\\t<span class=\"depth1\"><a href=\"/Record/Main.aspx\">기록</a></span> &gt;\\r\\n\\t\\t<span class=\"depth2\">기록실</span>\\r\\n\\t</div>\\r\\n\\t<h4 class=\"tit-page\">기록실</h4>\\r\\n\\t<!-- // sub title & location -->\\r\\n\\t\\r\\n\\t<div class=\"sub-content\">\\r\\n\\t\\t<div class=\"tab-depth1\">\\r\\n\\t\\t\\t<ul class=\"tab\">\\r\\n\\t\\t\\t\\t<li class=\"on\"><a href=\"/Record/Player/HitterBasic/BasicOld.aspx\">선수기록</a></li>\\r\\n\\t\\t\\t\\t<li><a href=\"/Record/Team/Hitter/BasicOld.aspx\">팀기록</a></li>\\r\\n\\t\\t\\t</ul>\\r\\n\\t\\t\\t<span class=\"record_words\"><a href=\"#\"><img src=\"//lgcxydabfbch3774324.cdn.ntruss.com/KBO_IMAGE/KBOHome/resources/images/record/btn_record_words.png\" alt=\"기록용어\" /></a></span>\\r\\n\\t\\t\\t<div class=\"words\" id=\"words\">\\r\\n\\t\\t\\t</div>\\r\\n\\t\\t</div>\\r\\n\\t\\t<div class=\"tab-depth2\">\\r\\n\\t\\t\\t<ul class=\"tab\">\\r\\n\\t\\t\\t\\t<li class=\"on\"> <a href=\"/Record/Player/HitterBasic/BasicOld.aspx\">타자</a></li>\\r\\n\\t\\t\\t\\t<li> <a href=\"/Record/Player/PitcherBasic/BasicOld.aspx\">투수</a></li>\\r\\n\\t\\t\\t\\t<li> <a href=\"/Record/Player/Defense/Basic.aspx\">수비</a></li>\\r\\n\\t\\t\\t\\t<li class=\"last\"> <a href=\"/Record/Player/Runner/Basic.aspx\">주루</a></li>\\r\\n\\t\\t\\t</ul>\\r\\n\\t\\t</div>\\r\\n\\r\\n\\t\\t<div id=\"cphContents_cphContents_cphContents_udpContent\">\\r\\n\\t\\r\\n\\t\\t\\t\\t<div class=\"compare mt25\">\\r\\n\\t\\t\\t\\t\\t\\r\\n<div class=\"styled-select02 mt5 bar01\">\\r\\n    <select name=\"ctl00$ctl00$ctl00$cphContents$cphContents$cphContents$ddlSeason$ddlSeason\" onchange=\"javascript:setTimeout(&#39;__doPostBack(\\\\&#39;ctl00$ctl00$ctl00$cphContents$cphContents$cphContents$ddlSeason$ddlSeason\\\\&#39;,\\\\&#39;\\\\&#39;)&#39;, 0)\" id=\"cphContents_cphContents_cphContents_ddlSeason_ddlSeason\" class=\"select03\">\\r\\n\\t\\t<option value=\"1982\">1982</option>\\r\\n\\t\\t<option value=\"1983\">1983</option>\\r\\n\\t\\t<option value=\"1984\">1984</option>\\r\\n\\t\\t<option value=\"1985\">1985</option>\\r\\n\\t\\t<option value=\"1986\">1986</option>\\r\\n\\t\\t<option value=\"1987\">1987</option>\\r\\n\\t\\t<option value=\"1988\">1988</option>\\r\\n\\t\\t<option value=\"1989\">1989</option>\\r\\n\\t\\t<option value=\"1990\">1990</option>\\r\\n\\t\\t<option value=\"1991\">1991</option>\\r\\n\\t\\t<option value=\"1992\">1992</option>\\r\\n\\t\\t<option value=\"1993\">1993</option>\\r\\n\\t\\t<option value=\"1994\">1994</option>\\r\\n\\t\\t<option value=\"1995\">1995</option>\\r\\n\\t\\t<option value=\"1996\">1996</option>\\r\\n\\t\\t<option value=\"1997\">1997</option>\\r\\n\\t\\t<option value=\"1998\">1998</option>\\r\\n\\t\\t<option value=\"1999\">1999</option>\\r\\n\\t\\t<option value=\"2000\">2000</option>\\r\\n\\t\\t<option value=\"2001\">2001</option>\\r\\n\\t\\t<option value=\"2002\">2002</option>\\r\\n\\t\\t<option value=\"2003\">2003</option>\\r\\n\\t\\t<option value=\"2004\">2004</option>\\r\\n\\t\\t<option value=\"2005\">2005</option>\\r\\n\\t\\t<option value=\"2006\">2006</option>\\r\\n\\t\\t<option value=\"2007\">2007</option>\\r\\n\\t\\t<option value=\"2008\">2008</option>\\r\\n\\t\\t<option value=\"2009\">2009</option>\\r\\n\\t\\t<option value=\"2010\">2010</option>\\r\\n\\t\\t<option value=\"2011\">2011</option>\\r\\n\\t\\t<option value=\"2012\">2012</option>\\r\\n\\t\\t<option value=\"2013\">2013</option>\\r\\n\\t\\t<option value=\"2014\">2014</option>\\r\\n\\t\\t<option value=\"2015\">2015</option>\\r\\n\\t\\t<option value=\"2016\">2016</option>\\r\\n\\t\\t<option value=\"2017\">2017</option>\\r\\n\\t\\t<option value=\"2018\">2018</option>\\r\\n\\t\\t<option value=\"2019\">2019</option>\\r\\n\\t\\t<option value=\"2020\">2020</option>\\r\\n\\t\\t<option selected=\"selected\" value=\"2021\">2021</option>\\r\\n\\r\\n\\t</select>\\r\\n</div>\\r\\n\\t\\t\\t\\t\\t<span class=\"bar\">|</span>\\r\\n\\t\\t\\t\\t\\t\\r\\n<div class=\"styled-select03 mt5\" style=\"width:130px\">\\r\\n    <select name=\"ctl00$ctl00$ctl00$cphContents$cphContents$cphContents$ddlSeries$ddlSeries\" onchange=\"javascript:setTimeout(&#39;__doPostBack(\\\\&#39;ctl00$ctl00$ctl00$cphContents$cphContents$cphContents$ddlSeries$ddlSeries\\\\&#39;,\\\\&#39;\\\\&#39;)&#39;, 0)\" id=\"cphContents_cphContents_cphContents_ddlSeries_ddlSeries\" class=\"select02\" style=\"width:150px;\">\\r\\n\\t\\t<option value=\"0\">KBO 정규시즌</option>\\r\\n\\t\\t<option value=\"1\">KBO 시범경기</option>\\r\\n\\t\\t<option value=\"4\">KBO 와일드카드</option>\\r\\n\\t\\t<option value=\"3\">KBO 준플레이오프</option>\\r\\n\\t\\t<option value=\"5\">KBO 플레이오프</option>\\r\\n\\t\\t<option selected=\"selected\" value=\"7\">KBO 한국시리즈</option>\\r\\n\\r\\n\\t</select>\\r\\n</div>\\r\\n\\t\\t\\t\\t\\t\\r\\n<div class=\"styled-select03 mt5\">\\r\\n    <select name=\"ctl00$ctl00$ctl00$cphContents$cphContents$cphContents$ddlTeam$ddlTeam\" onchange=\"javascript:setTimeout(&#39;__doPostBack(\\\\&#39;ctl00$ctl00$ctl00$cphContents$cphContents$cphContents$ddlTeam$ddlTeam\\\\&#39;,\\\\&#39;\\\\&#39;)&#39;, 0)\" id=\"cphContents_cphContents_cphContents_ddlTeam_ddlTeam\" class=\"select02\">\\r\\n\\t\\t<option selected=\"selected\" value=\"\">팀 선택</option>\\r\\n\\t\\t<option value=\"OB\">두산</option>\\r\\n\\t\\t<option value=\"LT\">롯데</option>\\r\\n\\t\\t<option value=\"SS\">삼성</option>\\r\\n\\t\\t<option value=\"WO\">키움</option>\\r\\n\\t\\t<option value=\"HH\">한화</option>\\r\\n\\t\\t<option value=\"HT\">KIA</option>\\r\\n\\t\\t<option value=\"KT\">KT</option>\\r\\n\\t\\t<option value=\"LG\">LG</option>\\r\\n\\t\\t<option value=\"NC\">NC</option>\\r\\n\\t\\t<option value=\"SK\">SSG</option>\\r\\n\\r\\n\\t</select>\\r\\n</div>\\r\\n\\t\\t\\t\\t\\t\\r\\n<div class=\"styled-select03 mt5\">\\r\\n    <select name=\"ctl00$ctl00$ctl00$cphContents$cphContents$cphContents$ddlPos$ddlPos\" onchange=\"javascript:setTimeout(&#39;__doPostBack(\\\\&#39;ctl00$ctl00$ctl00$cphContents$cphContents$cphContents$ddlPos$ddlPos\\\\&#39;,\\\\&#39;\\\\&#39;)&#39;, 0)\" id=\"cphContents_cphContents_cphContents_ddlPos_ddlPos\" class=\"select02\">\\r\\n\\t\\t<option selected=\"selected\" value=\"\">포지션 선택</option>\\r\\n\\t\\t<option value=\"2\">포수</option>\\r\\n\\t\\t<option value=\"3,4,5,6\">내야수</option>\\r\\n\\t\\t<option value=\"7,8,9\">외야수</option>\\r\\n\\r\\n\\t</select>\\r\\n</div>\\r\\n\\t\\t\\t\\t</div>\\r\\n\\r\\n\\t\\t\\t\\t<h4 class=\"bul_history mt30\"> 타자기록</h4>\\r\\n\\t\\t\\t\\t<div class=\"record_result\">\\r\\n\\t\\t\\t\\t\\t<table class=\"tData01 tt\" cellspacing=\"0\" cellpadding=\"0\" summary=\"선수 기본기록으로 타율,경기,타수,2루타,3루타,홈런,타율,도루허용,도루저지,볼넷,사구,삼진 등을 나타냅니다\">\\r\\n\\t\\t\\t\\t\\t\\t<thead>\\r\\n\\t\\t\\t\\t\\t\\t\\t<tr>\\r\\n\\t\\t\\t\\t\\t\\t\\t\\t<th>순위</th>\\r\\n\\t\\t\\t\\t\\t\\t\\t\\t<th>선수명</th>\\r\\n\\t\\t\\t\\t\\t\\t\\t\\t<th>팀명</th>\\r\\n\\t\\t\\t\\t\\t\\t\\t\\t<th><a onmouseenter=\"tooltip(this)\" onmouseout=\"hideTip()\" href=\"javascript:sort(\\'HRA_RT\\');\" title=\"타율\">AVG</a></th>\\r\\n\\t\\t\\t\\t\\t\\t\\t\\t<th><a onmouseenter=\"tooltip(this)\" onmouseout=\"hideTip()\" href=\"javascript:sort(\\'GAME_CN\\');\" title=\"경기\">G</a></th>\\r\\n\\t\\t\\t\\t\\t\\t\\t\\t<th><a onmouseenter=\"tooltip(this)\" onmouseout=\"hideTip()\" href=\"javascript:sort(\\'PA_CN\\');\" title=\"타석\">PA</a></th>\\r\\n\\t\\t\\t\\t\\t\\t\\t\\t<th><a onmouseenter=\"tooltip(this)\" onmouseout=\"hideTip()\" href=\"javascript:sort(\\'AB_CN\\');\" title=\"타수\">AB</a></th>\\r\\n\\t\\t\\t\\t\\t\\t\\t\\t<th><a onmouseenter=\"tooltip(this)\" onmouseout=\"hideTip()\" href=\"javascript:sort(\\'HIT_CN\\');\" title=\"안타\">H</a></th>\\r\\n\\t\\t\\t\\t\\t\\t\\t\\t<th><a onmouseenter=\"tooltip(this)\" onmouseout=\"hideTip()\" href=\"javascript:sort(\\'H2_CN\\');\" title=\"2루타\">2B</a></th>\\r\\n\\t\\t\\t\\t\\t\\t\\t\\t<th><a onmouseenter=\"tooltip(this)\" onmouseout=\"hideTip()\" href=\"javascript:sort(\\'H3_CN\\');\" title=\"3루타\">3B</a></th>\\r\\n\\t\\t\\t\\t\\t\\t\\t\\t<th><a onmouseenter=\"tooltip(this)\" onmouseout=\"hideTip()\" href=\"javascript:sort(\\'HR_CN\\');\" title=\"홈런\">HR</a></th>\\r\\n\\t\\t\\t\\t\\t\\t\\t\\t<th><a onmouseenter=\"tooltip(this)\" onmouseout=\"hideTip()\" href=\"javascript:sort(\\'RBI_CN\\');\" title=\"타점\">RBI</a></th>\\r\\n\\t\\t\\t\\t\\t\\t\\t\\t<th><a onmouseenter=\"tooltip(this)\" onmouseout=\"hideTip()\" href=\"javascript:sort(\\'SB_CN\\');\" title=\"도루\">SB</a></th>\\r\\n\\t\\t\\t\\t\\t\\t\\t\\t<th><a onmouseenter=\"tooltip(this)\" onmouseout=\"hideTip()\" href=\"javascript:sort(\\'CS_CN\\');\" title=\"도루실패\">CS</a></th>\\r\\n\\t\\t\\t\\t\\t\\t\\t\\t<th><a onmouseenter=\"tooltip(this)\" onmouseout=\"hideTip()\" href=\"javascript:sort(\\'BB_CN\\');\" title=\"볼넷\">BB</a></th>\\r\\n\\t\\t\\t\\t\\t\\t\\t\\t<th><a onmouseenter=\"tooltip(this)\" onmouseout=\"hideTip()\" href=\"javascript:sort(\\'HP_CN\\');\" title=\"사구\">HBP</a></th>\\r\\n\\t\\t\\t\\t\\t\\t\\t\\t<th><a onmouseenter=\"tooltip(this)\" onmouseout=\"hideTip()\" href=\"javascript:sort(\\'KK_CN\\');\" title=\"삼진\">SO</a></th>\\r\\n\\t\\t\\t\\t\\t\\t\\t\\t<th><a onmouseenter=\"tooltip(this)\" onmouseout=\"hideTip()\" href=\"javascript:sort(\\'GD_CN\\');\" title=\"병살타\">GDP</a></th>\\r\\n\\t\\t\\t\\t\\t\\t\\t\\t<th><a onmouseenter=\"tooltip(this)\" onmouseout=\"hideTip()\" href=\"javascript:sort(\\'ERR_CN\\');\" title=\"실책\">E</a></th>\\r\\n\\t\\t\\t\\t\\t\\t\\t</tr>\\r\\n\\t\\t\\t\\t\\t\\t</thead>\\r\\n\\t\\t\\t\\t\\t\\t<tbody>\\r\\n\\t\\t\\t\\t\\t\\t\\t\\r\\n\\t\\t\\t\\t\\t\\t\\t<tr>\\r\\n\\t\\t\\t\\t\\t\\t\\t\\t<td>1</td>\\r\\n\\t\\t\\t\\t\\t\\t\\t\\t<td><a href=\"/Record/Player/HitterDetail/Basic.aspx?playerId=68050\">강백호</a></td>\\r\\n\\t\\t\\t\\t\\t\\t\\t\\t<td>KT</td>\\r\\n\\t\\t\\t\\t\\t\\t\\t\\t<td data-id=\"HRA_RT\">0.500</td>\\r\\n\\t\\t\\t\\t\\t\\t\\t\\t<td data-id=\"GAME_CN\">4</td>\\r\\n\\t\\t\\t\\t\\t\\t\\t\\t<td data-id=\"PA_CN\">17</td>\\r\\n\\t\\t\\t\\t\\t\\t\\t\\t<td data-id=\"AB_CN\">12</td>\\r\\n\\t\\t\\t\\t\\t\\t\\t\\t<td data-id=\"HIT_CN\">6</td>\\r\\n\\t\\t\\t\\t\\t\\t\\t\\t<td data-id=\"H2_CN\">0</td>\\r\\n\\t\\t\\t\\t\\t\\t\\t\\t<td data-id=\"H3_CN\">0</td>\\r\\n\\t\\t\\t\\t\\t\\t\\t\\t<td data-id=\"HR_CN\">0</td>\\r\\n\\t\\t\\t\\t\\t\\t\\t\\t<td data-id=\"RBI_CN\">1</td>\\r\\n\\t\\t\\t\\t\\t\\t\\t\\t<td data-id=\"SB_CN\">0</td>\\r\\n\\t\\t\\t\\t\\t\\t\\t\\t<td data-id=\"CS_CN\">0</td>\\r\\n\\t\\t\\t\\t\\t\\t\\t\\t<td data-id=\"BB_CN\">4</td>\\r\\n\\t\\t\\t\\t\\t\\t\\t\\t<td data-id=\"HP_CN\">1</td>\\r\\n\\t\\t\\t\\t\\t\\t\\t\\t<td data-id=\"KK_CN\">2</td>\\r\\n\\t\\t\\t\\t\\t\\t\\t\\t<td data-id=\"GD_CN\">1</td>\\r\\n\\t\\t\\t\\t\\t\\t\\t\\t<td data-id=\"ERR_CN\">0</td>\\r\\n\\t\\t\\t\\t\\t\\t\\t</tr>\\r\\n\\t\\t\\t\\t\\t\\t\\r\\n\\t\\t\\t\\t\\t\\t\\t<tr>\\r\\n\\t\\t\\t\\t\\t\\t\\t\\t<td>2</td>\\r\\n\\t\\t\\t\\t\\t\\t\\t\\t<td><a href=\"/Record/Player/HitterDetail/Basic.aspx?playerId=69209\">페르난데스</a></td>\\r\\n\\t\\t\\t\\t\\t\\t\\t\\t<td>두산</td>\\r\\n\\t\\t\\t\\t\\t\\t\\t\\t<td data-id=\"HRA_RT\">0.400</td>\\r\\n\\t\\t\\t\\t\\t\\t\\t\\t<td data-id=\"GAME_CN\">4</td>\\r\\n\\t\\t\\t\\t\\t\\t\\t\\t<td data-id=\"PA_CN\">16</td>\\r\\n\\t\\t\\t\\t\\t\\t\\t\\t<td data-id=\"AB_CN\">15</td>\\r\\n\\t\\t\\t\\t\\t\\t\\t\\t<td data-id=\"HIT_CN\">6</td>\\r\\n\\t\\t\\t\\t\\t\\t\\t\\t<td data-id=\"H2_CN\">2</td>\\r\\n\\t\\t\\t\\t\\t\\t\\t\\t<td data-id=\"H3_CN\">0</td>\\r\\n\\t\\t\\t\\t\\t\\t\\t\\t<td data-id=\"HR_CN\">0</td>\\r\\n\\t\\t\\t\\t\\t\\t\\t\\t<td data-id=\"RBI_CN\">3</td>\\r\\n\\t\\t\\t\\t\\t\\t\\t\\t<td data-id=\"SB_CN\">0</td>\\r\\n\\t\\t\\t\\t\\t\\t\\t\\t<td data-id=\"CS_CN\">0</td>\\r\\n\\t\\t\\t\\t\\t\\t\\t\\t<td data-id=\"BB_CN\">1</td>\\r\\n\\t\\t\\t\\t\\t\\t\\t\\t<td data-id=\"HP_CN\">0</td>\\r\\n\\t\\t\\t\\t\\t\\t\\t\\t<td data-id=\"KK_CN\">0</td>\\r\\n\\t\\t\\t\\t\\t\\t\\t\\t<td data-id=\"GD_CN\">2</td>\\r\\n\\t\\t\\t\\t\\t\\t\\t\\t<td data-id=\"ERR_CN\">0</td>\\r\\n\\t\\t\\t\\t\\t\\t\\t</tr>\\r\\n\\t\\t\\t\\t\\t\\t\\r\\n\\t\\t\\t\\t\\t\\t\\t<tr>\\r\\n\\t\\t\\t\\t\\t\\t\\t\\t<td>2</td>\\r\\n\\t\\t\\t\\t\\t\\t\\t\\t<td><a href=\"/Record/Player/HitterDetail/Basic.aspx?playerId=64006\">심우준</a></td>\\r\\n\\t\\t\\t\\t\\t\\t\\t\\t<td>KT</td>\\r\\n\\t\\t\\t\\t\\t\\t\\t\\t<td data-id=\"HRA_RT\">0.400</td>\\r\\n\\t\\t\\t\\t\\t\\t\\t\\t<td data-id=\"GAME_CN\">4</td>\\r\\n\\t\\t\\t\\t\\t\\t\\t\\t<td data-id=\"PA_CN\">15</td>\\r\\n\\t\\t\\t\\t\\t\\t\\t\\t<td data-id=\"AB_CN\">15</td>\\r\\n\\t\\t\\t\\t\\t\\t\\t\\t<td data-id=\"HIT_CN\">6</td>\\r\\n\\t\\t\\t\\t\\t\\t\\t\\t<td data-id=\"H2_CN\">1</td>\\r\\n\\t\\t\\t\\t\\t\\t\\t\\t<td data-id=\"H3_CN\">0</td>\\r\\n\\t\\t\\t\\t\\t\\t\\t\\t<td data-id=\"HR_CN\">0</td>\\r\\n\\t\\t\\t\\t\\t\\t\\t\\t<td data-id=\"RBI_CN\">0</td>\\r\\n\\t\\t\\t\\t\\t\\t\\t\\t<td data-id=\"SB_CN\">1</td>\\r\\n\\t\\t\\t\\t\\t\\t\\t\\t<td data-id=\"CS_CN\">0</td>\\r\\n\\t\\t\\t\\t\\t\\t\\t\\t<td data-id=\"BB_CN\">0</td>\\r\\n\\t\\t\\t\\t\\t\\t\\t\\t<td data-id=\"HP_CN\">0</td>\\r\\n\\t\\t\\t\\t\\t\\t\\t\\t<td data-id=\"KK_CN\">1</td>\\r\\n\\t\\t\\t\\t\\t\\t\\t\\t<td data-id=\"GD_CN\">0</td>\\r\\n\\t\\t\\t\\t\\t\\t\\t\\t<td data-id=\"ERR_CN\">0</td>\\r\\n\\t\\t\\t\\t\\t\\t\\t</tr>\\r\\n\\t\\t\\t\\t\\t\\t\\r\\n\\t\\t\\t\\t\\t\\t\\t<tr>\\r\\n\\t\\t\\t\\t\\t\\t\\t\\t<td>2</td>\\r\\n\\t\\t\\t\\t\\t\\t\\t\\t<td><a href=\"/Record/Player/HitterDetail/Basic.aspx?playerId=68730\">호잉</a></td>\\r\\n\\t\\t\\t\\t\\t\\t\\t\\t<td>KT</td>\\r\\n\\t\\t\\t\\t\\t\\t\\t\\t<td data-id=\"HRA_RT\">0.400</td>\\r\\n\\t\\t\\t\\t\\t\\t\\t\\t<td data-id=\"GAME_CN\">4</td>\\r\\n\\t\\t\\t\\t\\t\\t\\t\\t<td data-id=\"PA_CN\">17</td>\\r\\n\\t\\t\\t\\t\\t\\t\\t\\t<td data-id=\"AB_CN\">15</td>\\r\\n\\t\\t\\t\\t\\t\\t\\t\\t<td data-id=\"HIT_CN\">6</td>\\r\\n\\t\\t\\t\\t\\t\\t\\t\\t<td data-id=\"H2_CN\">3</td>\\r\\n\\t\\t\\t\\t\\t\\t\\t\\t<td data-id=\"H3_CN\">0</td>\\r\\n\\t\\t\\t\\t\\t\\t\\t\\t<td data-id=\"HR_CN\">1</td>\\r\\n\\t\\t\\t\\t\\t\\t\\t\\t<td data-id=\"RBI_CN\">4</td>\\r\\n\\t\\t\\t\\t\\t\\t\\t\\t<td data-id=\"SB_CN\">0</td>\\r\\n\\t\\t\\t\\t\\t\\t\\t\\t<td data-id=\"CS_CN\">0</td>\\r\\n\\t\\t\\t\\t\\t\\t\\t\\t<td data-id=\"BB_CN\">1</td>\\r\\n\\t\\t\\t\\t\\t\\t\\t\\t<td data-id=\"HP_CN\">0</td>\\r\\n\\t\\t\\t\\t\\t\\t\\t\\t<td data-id=\"KK_CN\">2</td>\\r\\n\\t\\t\\t\\t\\t\\t\\t\\t<td data-id=\"GD_CN\">1</td>\\r\\n\\t\\t\\t\\t\\t\\t\\t\\t<td data-id=\"ERR_CN\">0</td>\\r\\n\\t\\t\\t\\t\\t\\t\\t</tr>\\r\\n\\t\\t\\t\\t\\t\\t\\r\\n\\t\\t\\t\\t\\t\\t\\t<tr>\\r\\n\\t\\t\\t\\t\\t\\t\\t\\t<td>5</td>\\r\\n\\t\\t\\t\\t\\t\\t\\t\\t<td><a href=\"/Record/Player/HitterDetail/Basic.aspx?playerId=76313\">황재균</a></td>\\r\\n\\t\\t\\t\\t\\t\\t\\t\\t<td>KT</td>\\r\\n\\t\\t\\t\\t\\t\\t\\t\\t<td data-id=\"HRA_RT\">0.286</td>\\r\\n\\t\\t\\t\\t\\t\\t\\t\\t<td data-id=\"GAME_CN\">4</td>\\r\\n\\t\\t\\t\\t\\t\\t\\t\\t<td data-id=\"PA_CN\">17</td>\\r\\n\\t\\t\\t\\t\\t\\t\\t\\t<td data-id=\"AB_CN\">14</td>\\r\\n\\t\\t\\t\\t\\t\\t\\t\\t<td data-id=\"HIT_CN\">4</td>\\r\\n\\t\\t\\t\\t\\t\\t\\t\\t<td data-id=\"H2_CN\">2</td>\\r\\n\\t\\t\\t\\t\\t\\t\\t\\t<td data-id=\"H3_CN\">0</td>\\r\\n\\t\\t\\t\\t\\t\\t\\t\\t<td data-id=\"HR_CN\">1</td>\\r\\n\\t\\t\\t\\t\\t\\t\\t\\t<td data-id=\"RBI_CN\">5</td>\\r\\n\\t\\t\\t\\t\\t\\t\\t\\t<td data-id=\"SB_CN\">0</td>\\r\\n\\t\\t\\t\\t\\t\\t\\t\\t<td data-id=\"CS_CN\">0</td>\\r\\n\\t\\t\\t\\t\\t\\t\\t\\t<td data-id=\"BB_CN\">1</td>\\r\\n\\t\\t\\t\\t\\t\\t\\t\\t<td data-id=\"HP_CN\">0</td>\\r\\n\\t\\t\\t\\t\\t\\t\\t\\t<td data-id=\"KK_CN\">0</td>\\r\\n\\t\\t\\t\\t\\t\\t\\t\\t<td data-id=\"GD_CN\">0</td>\\r\\n\\t\\t\\t\\t\\t\\t\\t\\t<td data-id=\"ERR_CN\">1</td>\\r\\n\\t\\t\\t\\t\\t\\t\\t</tr>\\r\\n\\t\\t\\t\\t\\t\\t\\r\\n\\t\\t\\t\\t\\t\\t\\t<tr>\\r\\n\\t\\t\\t\\t\\t\\t\\t\\t<td>6</td>\\r\\n\\t\\t\\t\\t\\t\\t\\t\\t<td><a href=\"/Record/Player/HitterDetail/Basic.aspx?playerId=78224\">김재환</a></td>\\r\\n\\t\\t\\t\\t\\t\\t\\t\\t<td>두산</td>\\r\\n\\t\\t\\t\\t\\t\\t\\t\\t<td data-id=\"HRA_RT\">0.267</td>\\r\\n\\t\\t\\t\\t\\t\\t\\t\\t<td data-id=\"GAME_CN\">4</td>\\r\\n\\t\\t\\t\\t\\t\\t\\t\\t<td data-id=\"PA_CN\">16</td>\\r\\n\\t\\t\\t\\t\\t\\t\\t\\t<td data-id=\"AB_CN\">15</td>\\r\\n\\t\\t\\t\\t\\t\\t\\t\\t<td data-id=\"HIT_CN\">4</td>\\r\\n\\t\\t\\t\\t\\t\\t\\t\\t<td data-id=\"H2_CN\">2</td>\\r\\n\\t\\t\\t\\t\\t\\t\\t\\t<td data-id=\"H3_CN\">0</td>\\r\\n\\t\\t\\t\\t\\t\\t\\t\\t<td data-id=\"HR_CN\">1</td>\\r\\n\\t\\t\\t\\t\\t\\t\\t\\t<td data-id=\"RBI_CN\">2</td>\\r\\n\\t\\t\\t\\t\\t\\t\\t\\t<td data-id=\"SB_CN\">0</td>\\r\\n\\t\\t\\t\\t\\t\\t\\t\\t<td data-id=\"CS_CN\">0</td>\\r\\n\\t\\t\\t\\t\\t\\t\\t\\t<td data-id=\"BB_CN\">1</td>\\r\\n\\t\\t\\t\\t\\t\\t\\t\\t<td data-id=\"HP_CN\">0</td>\\r\\n\\t\\t\\t\\t\\t\\t\\t\\t<td data-id=\"KK_CN\">6</td>\\r\\n\\t\\t\\t\\t\\t\\t\\t\\t<td data-id=\"GD_CN\">0</td>\\r\\n\\t\\t\\t\\t\\t\\t\\t\\t<td data-id=\"ERR_CN\">0</td>\\r\\n\\t\\t\\t\\t\\t\\t\\t</tr>\\r\\n\\t\\t\\t\\t\\t\\t\\r\\n\\t\\t\\t\\t\\t\\t\\t<tr>\\r\\n\\t\\t\\t\\t\\t\\t\\t\\t<td>6</td>\\r\\n\\t\\t\\t\\t\\t\\t\\t\\t<td><a href=\"/Record/Player/HitterDetail/Basic.aspx?playerId=79215\">박건우</a></td>\\r\\n\\t\\t\\t\\t\\t\\t\\t\\t<td>두산</td>\\r\\n\\t\\t\\t\\t\\t\\t\\t\\t<td data-id=\"HRA_RT\">0.267</td>\\r\\n\\t\\t\\t\\t\\t\\t\\t\\t<td data-id=\"GAME_CN\">4</td>\\r\\n\\t\\t\\t\\t\\t\\t\\t\\t<td data-id=\"PA_CN\">16</td>\\r\\n\\t\\t\\t\\t\\t\\t\\t\\t<td data-id=\"AB_CN\">15</td>\\r\\n\\t\\t\\t\\t\\t\\t\\t\\t<td data-id=\"HIT_CN\">4</td>\\r\\n\\t\\t\\t\\t\\t\\t\\t\\t<td data-id=\"H2_CN\">2</td>\\r\\n\\t\\t\\t\\t\\t\\t\\t\\t<td data-id=\"H3_CN\">0</td>\\r\\n\\t\\t\\t\\t\\t\\t\\t\\t<td data-id=\"HR_CN\">0</td>\\r\\n\\t\\t\\t\\t\\t\\t\\t\\t<td data-id=\"RBI_CN\">1</td>\\r\\n\\t\\t\\t\\t\\t\\t\\t\\t<td data-id=\"SB_CN\">1</td>\\r\\n\\t\\t\\t\\t\\t\\t\\t\\t<td data-id=\"CS_CN\">0</td>\\r\\n\\t\\t\\t\\t\\t\\t\\t\\t<td data-id=\"BB_CN\">0</td>\\r\\n\\t\\t\\t\\t\\t\\t\\t\\t<td data-id=\"HP_CN\">1</td>\\r\\n\\t\\t\\t\\t\\t\\t\\t\\t<td data-id=\"KK_CN\">4</td>\\r\\n\\t\\t\\t\\t\\t\\t\\t\\t<td data-id=\"GD_CN\">0</td>\\r\\n\\t\\t\\t\\t\\t\\t\\t\\t<td data-id=\"ERR_CN\">0</td>\\r\\n\\t\\t\\t\\t\\t\\t\\t</tr>\\r\\n\\t\\t\\t\\t\\t\\t\\r\\n\\t\\t\\t\\t\\t\\t\\t<tr>\\r\\n\\t\\t\\t\\t\\t\\t\\t\\t<td>6</td>\\r\\n\\t\\t\\t\\t\\t\\t\\t\\t<td><a href=\"/Record/Player/HitterDetail/Basic.aspx?playerId=64166\">배정대</a></td>\\r\\n\\t\\t\\t\\t\\t\\t\\t\\t<td>KT</td>\\r\\n\\t\\t\\t\\t\\t\\t\\t\\t<td data-id=\"HRA_RT\">0.267</td>\\r\\n\\t\\t\\t\\t\\t\\t\\t\\t<td data-id=\"GAME_CN\">4</td>\\r\\n\\t\\t\\t\\t\\t\\t\\t\\t<td data-id=\"PA_CN\">17</td>\\r\\n\\t\\t\\t\\t\\t\\t\\t\\t<td data-id=\"AB_CN\">15</td>\\r\\n\\t\\t\\t\\t\\t\\t\\t\\t<td data-id=\"HIT_CN\">4</td>\\r\\n\\t\\t\\t\\t\\t\\t\\t\\t<td data-id=\"H2_CN\">0</td>\\r\\n\\t\\t\\t\\t\\t\\t\\t\\t<td data-id=\"H3_CN\">0</td>\\r\\n\\t\\t\\t\\t\\t\\t\\t\\t<td data-id=\"HR_CN\">1</td>\\r\\n\\t\\t\\t\\t\\t\\t\\t\\t<td data-id=\"RBI_CN\">2</td>\\r\\n\\t\\t\\t\\t\\t\\t\\t\\t<td data-id=\"SB_CN\">1</td>\\r\\n\\t\\t\\t\\t\\t\\t\\t\\t<td data-id=\"CS_CN\">0</td>\\r\\n\\t\\t\\t\\t\\t\\t\\t\\t<td data-id=\"BB_CN\">2</td>\\r\\n\\t\\t\\t\\t\\t\\t\\t\\t<td data-id=\"HP_CN\">0</td>\\r\\n\\t\\t\\t\\t\\t\\t\\t\\t<td data-id=\"KK_CN\">5</td>\\r\\n\\t\\t\\t\\t\\t\\t\\t\\t<td data-id=\"GD_CN\">0</td>\\r\\n\\t\\t\\t\\t\\t\\t\\t\\t<td data-id=\"ERR_CN\">0</td>\\r\\n\\t\\t\\t\\t\\t\\t\\t</tr>\\r\\n\\t\\t\\t\\t\\t\\t\\r\\n\\t\\t\\t\\t\\t\\t\\t<tr>\\r\\n\\t\\t\\t\\t\\t\\t\\t\\t<td>9</td>\\r\\n\\t\\t\\t\\t\\t\\t\\t\\t<td><a href=\"/Record/Player/HitterDetail/Basic.aspx?playerId=78548\">장성우</a></td>\\r\\n\\t\\t\\t\\t\\t\\t\\t\\t<td>KT</td>\\r\\n\\t\\t\\t\\t\\t\\t\\t\\t<td data-id=\"HRA_RT\">0.250</td>\\r\\n\\t\\t\\t\\t\\t\\t\\t\\t<td data-id=\"GAME_CN\">4</td>\\r\\n\\t\\t\\t\\t\\t\\t\\t\\t<td data-id=\"PA_CN\">17</td>\\r\\n\\t\\t\\t\\t\\t\\t\\t\\t<td data-id=\"AB_CN\">16</td>\\r\\n\\t\\t\\t\\t\\t\\t\\t\\t<td data-id=\"HIT_CN\">4</td>\\r\\n\\t\\t\\t\\t\\t\\t\\t\\t<td data-id=\"H2_CN\">1</td>\\r\\n\\t\\t\\t\\t\\t\\t\\t\\t<td data-id=\"H3_CN\">0</td>\\r\\n\\t\\t\\t\\t\\t\\t\\t\\t<td data-id=\"HR_CN\">0</td>\\r\\n\\t\\t\\t\\t\\t\\t\\t\\t<td data-id=\"RBI_CN\">4</td>\\r\\n\\t\\t\\t\\t\\t\\t\\t\\t<td data-id=\"SB_CN\">0</td>\\r\\n\\t\\t\\t\\t\\t\\t\\t\\t<td data-id=\"CS_CN\">0</td>\\r\\n\\t\\t\\t\\t\\t\\t\\t\\t<td data-id=\"BB_CN\">0</td>\\r\\n\\t\\t\\t\\t\\t\\t\\t\\t<td data-id=\"HP_CN\">0</td>\\r\\n\\t\\t\\t\\t\\t\\t\\t\\t<td data-id=\"KK_CN\">3</td>\\r\\n\\t\\t\\t\\t\\t\\t\\t\\t<td data-id=\"GD_CN\">1</td>\\r\\n\\t\\t\\t\\t\\t\\t\\t\\t<td data-id=\"ERR_CN\">0</td>\\r\\n\\t\\t\\t\\t\\t\\t\\t</tr>\\r\\n\\t\\t\\t\\t\\t\\t\\r\\n\\t\\t\\t\\t\\t\\t\\t<tr>\\r\\n\\t\\t\\t\\t\\t\\t\\t\\t<td>10</td>\\r\\n\\t\\t\\t\\t\\t\\t\\t\\t<td><a href=\"/Record/Player/HitterDetail/Basic.aspx?playerId=63123\">강승호</a></td>\\r\\n\\t\\t\\t\\t\\t\\t\\t\\t<td>두산</td>\\r\\n\\t\\t\\t\\t\\t\\t\\t\\t<td data-id=\"HRA_RT\">0.214</td>\\r\\n\\t\\t\\t\\t\\t\\t\\t\\t<td data-id=\"GAME_CN\">4</td>\\r\\n\\t\\t\\t\\t\\t\\t\\t\\t<td data-id=\"PA_CN\">16</td>\\r\\n\\t\\t\\t\\t\\t\\t\\t\\t<td data-id=\"AB_CN\">14</td>\\r\\n\\t\\t\\t\\t\\t\\t\\t\\t<td data-id=\"HIT_CN\">3</td>\\r\\n\\t\\t\\t\\t\\t\\t\\t\\t<td data-id=\"H2_CN\">1</td>\\r\\n\\t\\t\\t\\t\\t\\t\\t\\t<td data-id=\"H3_CN\">1</td>\\r\\n\\t\\t\\t\\t\\t\\t\\t\\t<td data-id=\"HR_CN\">0</td>\\r\\n\\t\\t\\t\\t\\t\\t\\t\\t<td data-id=\"RBI_CN\">1</td>\\r\\n\\t\\t\\t\\t\\t\\t\\t\\t<td data-id=\"SB_CN\">0</td>\\r\\n\\t\\t\\t\\t\\t\\t\\t\\t<td data-id=\"CS_CN\">0</td>\\r\\n\\t\\t\\t\\t\\t\\t\\t\\t<td data-id=\"BB_CN\">1</td>\\r\\n\\t\\t\\t\\t\\t\\t\\t\\t<td data-id=\"HP_CN\">0</td>\\r\\n\\t\\t\\t\\t\\t\\t\\t\\t<td data-id=\"KK_CN\">4</td>\\r\\n\\t\\t\\t\\t\\t\\t\\t\\t<td data-id=\"GD_CN\">1</td>\\r\\n\\t\\t\\t\\t\\t\\t\\t\\t<td data-id=\"ERR_CN\">0</td>\\r\\n\\t\\t\\t\\t\\t\\t\\t</tr>\\r\\n\\t\\t\\t\\t\\t\\t\\r\\n\\t\\t\\t\\t\\t\\t\\t<tr>\\r\\n\\t\\t\\t\\t\\t\\t\\t\\t<td>10</td>\\r\\n\\t\\t\\t\\t\\t\\t\\t\\t<td><a href=\"/Record/Player/HitterDetail/Basic.aspx?playerId=62244\">박세혁</a></td>\\r\\n\\t\\t\\t\\t\\t\\t\\t\\t<td>두산</td>\\r\\n\\t\\t\\t\\t\\t\\t\\t\\t<td data-id=\"HRA_RT\">0.214</td>\\r\\n\\t\\t\\t\\t\\t\\t\\t\\t<td data-id=\"GAME_CN\">4</td>\\r\\n\\t\\t\\t\\t\\t\\t\\t\\t<td data-id=\"PA_CN\">14</td>\\r\\n\\t\\t\\t\\t\\t\\t\\t\\t<td data-id=\"AB_CN\">14</td>\\r\\n\\t\\t\\t\\t\\t\\t\\t\\t<td data-id=\"HIT_CN\">3</td>\\r\\n\\t\\t\\t\\t\\t\\t\\t\\t<td data-id=\"H2_CN\">0</td>\\r\\n\\t\\t\\t\\t\\t\\t\\t\\t<td data-id=\"H3_CN\">0</td>\\r\\n\\t\\t\\t\\t\\t\\t\\t\\t<td data-id=\"HR_CN\">0</td>\\r\\n\\t\\t\\t\\t\\t\\t\\t\\t<td data-id=\"RBI_CN\">0</td>\\r\\n\\t\\t\\t\\t\\t\\t\\t\\t<td data-id=\"SB_CN\">0</td>\\r\\n\\t\\t\\t\\t\\t\\t\\t\\t<td data-id=\"CS_CN\">0</td>\\r\\n\\t\\t\\t\\t\\t\\t\\t\\t<td data-id=\"BB_CN\">0</td>\\r\\n\\t\\t\\t\\t\\t\\t\\t\\t<td data-id=\"HP_CN\">0</td>\\r\\n\\t\\t\\t\\t\\t\\t\\t\\t<td data-id=\"KK_CN\">2</td>\\r\\n\\t\\t\\t\\t\\t\\t\\t\\t<td data-id=\"GD_CN\">1</td>\\r\\n\\t\\t\\t\\t\\t\\t\\t\\t<td data-id=\"ERR_CN\">0</td>\\r\\n\\t\\t\\t\\t\\t\\t\\t</tr>\\r\\n\\t\\t\\t\\t\\t\\t\\r\\n\\t\\t\\t\\t\\t\\t\\t<tr>\\r\\n\\t\\t\\t\\t\\t\\t\\t\\t<td>12</td>\\r\\n\\t\\t\\t\\t\\t\\t\\t\\t<td><a href=\"/Record/Player/HitterDetail/Basic.aspx?playerId=64868\">조용호</a></td>\\r\\n\\t\\t\\t\\t\\t\\t\\t\\t<td>KT</td>\\r\\n\\t\\t\\t\\t\\t\\t\\t\\t<td data-id=\"HRA_RT\">0.200</td>\\r\\n\\t\\t\\t\\t\\t\\t\\t\\t<td data-id=\"GAME_CN\">4</td>\\r\\n\\t\\t\\t\\t\\t\\t\\t\\t<td data-id=\"PA_CN\">16</td>\\r\\n\\t\\t\\t\\t\\t\\t\\t\\t<td data-id=\"AB_CN\">10</td>\\r\\n\\t\\t\\t\\t\\t\\t\\t\\t<td data-id=\"HIT_CN\">2</td>\\r\\n\\t\\t\\t\\t\\t\\t\\t\\t<td data-id=\"H2_CN\">0</td>\\r\\n\\t\\t\\t\\t\\t\\t\\t\\t<td data-id=\"H3_CN\">0</td>\\r\\n\\t\\t\\t\\t\\t\\t\\t\\t<td data-id=\"HR_CN\">0</td>\\r\\n\\t\\t\\t\\t\\t\\t\\t\\t<td data-id=\"RBI_CN\">2</td>\\r\\n\\t\\t\\t\\t\\t\\t\\t\\t<td data-id=\"SB_CN\">0</td>\\r\\n\\t\\t\\t\\t\\t\\t\\t\\t<td data-id=\"CS_CN\">0</td>\\r\\n\\t\\t\\t\\t\\t\\t\\t\\t<td data-id=\"BB_CN\">4</td>\\r\\n\\t\\t\\t\\t\\t\\t\\t\\t<td data-id=\"HP_CN\">0</td>\\r\\n\\t\\t\\t\\t\\t\\t\\t\\t<td data-id=\"KK_CN\">1</td>\\r\\n\\t\\t\\t\\t\\t\\t\\t\\t<td data-id=\"GD_CN\">1</td>\\r\\n\\t\\t\\t\\t\\t\\t\\t\\t<td data-id=\"ERR_CN\">0</td>\\r\\n\\t\\t\\t\\t\\t\\t\\t</tr>\\r\\n\\t\\t\\t\\t\\t\\t\\r\\n\\t\\t\\t\\t\\t\\t\\t<tr>\\r\\n\\t\\t\\t\\t\\t\\t\\t\\t<td>13</td>\\r\\n\\t\\t\\t\\t\\t\\t\\t\\t<td><a href=\"/Record/Player/HitterDetail/Basic.aspx?playerId=79231\">정수빈</a></td>\\r\\n\\t\\t\\t\\t\\t\\t\\t\\t<td>두산</td>\\r\\n\\t\\t\\t\\t\\t\\t\\t\\t<td data-id=\"HRA_RT\">0.182</td>\\r\\n\\t\\t\\t\\t\\t\\t\\t\\t<td data-id=\"GAME_CN\">3</td>\\r\\n\\t\\t\\t\\t\\t\\t\\t\\t<td data-id=\"PA_CN\">12</td>\\r\\n\\t\\t\\t\\t\\t\\t\\t\\t<td data-id=\"AB_CN\">11</td>\\r\\n\\t\\t\\t\\t\\t\\t\\t\\t<td data-id=\"HIT_CN\">2</td>\\r\\n\\t\\t\\t\\t\\t\\t\\t\\t<td data-id=\"H2_CN\">0</td>\\r\\n\\t\\t\\t\\t\\t\\t\\t\\t<td data-id=\"H3_CN\">0</td>\\r\\n\\t\\t\\t\\t\\t\\t\\t\\t<td data-id=\"HR_CN\">0</td>\\r\\n\\t\\t\\t\\t\\t\\t\\t\\t<td data-id=\"RBI_CN\">0</td>\\r\\n\\t\\t\\t\\t\\t\\t\\t\\t<td data-id=\"SB_CN\">0</td>\\r\\n\\t\\t\\t\\t\\t\\t\\t\\t<td data-id=\"CS_CN\">0</td>\\r\\n\\t\\t\\t\\t\\t\\t\\t\\t<td data-id=\"BB_CN\">1</td>\\r\\n\\t\\t\\t\\t\\t\\t\\t\\t<td data-id=\"HP_CN\">0</td>\\r\\n\\t\\t\\t\\t\\t\\t\\t\\t<td data-id=\"KK_CN\">2</td>\\r\\n\\t\\t\\t\\t\\t\\t\\t\\t<td data-id=\"GD_CN\">0</td>\\r\\n\\t\\t\\t\\t\\t\\t\\t\\t<td data-id=\"ERR_CN\">0</td>\\r\\n\\t\\t\\t\\t\\t\\t\\t</tr>\\r\\n\\t\\t\\t\\t\\t\\t\\r\\n\\t\\t\\t\\t\\t\\t\\t<tr>\\r\\n\\t\\t\\t\\t\\t\\t\\t\\t<td>14</td>\\r\\n\\t\\t\\t\\t\\t\\t\\t\\t<td><a href=\"/Record/Player/HitterDetail/Basic.aspx?playerId=74339\">유한준</a></td>\\r\\n\\t\\t\\t\\t\\t\\t\\t\\t<td>KT</td>\\r\\n\\t\\t\\t\\t\\t\\t\\t\\t<td data-id=\"HRA_RT\">0.167</td>\\r\\n\\t\\t\\t\\t\\t\\t\\t\\t<td data-id=\"GAME_CN\">4</td>\\r\\n\\t\\t\\t\\t\\t\\t\\t\\t<td data-id=\"PA_CN\">17</td>\\r\\n\\t\\t\\t\\t\\t\\t\\t\\t<td data-id=\"AB_CN\">12</td>\\r\\n\\t\\t\\t\\t\\t\\t\\t\\t<td data-id=\"HIT_CN\">2</td>\\r\\n\\t\\t\\t\\t\\t\\t\\t\\t<td data-id=\"H2_CN\">1</td>\\r\\n\\t\\t\\t\\t\\t\\t\\t\\t<td data-id=\"H3_CN\">0</td>\\r\\n\\t\\t\\t\\t\\t\\t\\t\\t<td data-id=\"HR_CN\">0</td>\\r\\n\\t\\t\\t\\t\\t\\t\\t\\t<td data-id=\"RBI_CN\">1</td>\\r\\n\\t\\t\\t\\t\\t\\t\\t\\t<td data-id=\"SB_CN\">0</td>\\r\\n\\t\\t\\t\\t\\t\\t\\t\\t<td data-id=\"CS_CN\">0</td>\\r\\n\\t\\t\\t\\t\\t\\t\\t\\t<td data-id=\"BB_CN\">4</td>\\r\\n\\t\\t\\t\\t\\t\\t\\t\\t<td data-id=\"HP_CN\">1</td>\\r\\n\\t\\t\\t\\t\\t\\t\\t\\t<td data-id=\"KK_CN\">0</td>\\r\\n\\t\\t\\t\\t\\t\\t\\t\\t<td data-id=\"GD_CN\">1</td>\\r\\n\\t\\t\\t\\t\\t\\t\\t\\t<td data-id=\"ERR_CN\">0</td>\\r\\n\\t\\t\\t\\t\\t\\t\\t</tr>\\r\\n\\t\\t\\t\\t\\t\\t\\r\\n\\t\\t\\t\\t\\t\\t\\t<tr>\\r\\n\\t\\t\\t\\t\\t\\t\\t\\t<td>15</td>\\r\\n\\t\\t\\t\\t\\t\\t\\t\\t<td><a href=\"/Record/Player/HitterDetail/Basic.aspx?playerId=79240\">허경민</a></td>\\r\\n\\t\\t\\t\\t\\t\\t\\t\\t<td>두산</td>\\r\\n\\t\\t\\t\\t\\t\\t\\t\\t<td data-id=\"HRA_RT\">0.154</td>\\r\\n\\t\\t\\t\\t\\t\\t\\t\\t<td data-id=\"GAME_CN\">4</td>\\r\\n\\t\\t\\t\\t\\t\\t\\t\\t<td data-id=\"PA_CN\">16</td>\\r\\n\\t\\t\\t\\t\\t\\t\\t\\t<td data-id=\"AB_CN\">13</td>\\r\\n\\t\\t\\t\\t\\t\\t\\t\\t<td data-id=\"HIT_CN\">2</td>\\r\\n\\t\\t\\t\\t\\t\\t\\t\\t<td data-id=\"H2_CN\">0</td>\\r\\n\\t\\t\\t\\t\\t\\t\\t\\t<td data-id=\"H3_CN\">0</td>\\r\\n\\t\\t\\t\\t\\t\\t\\t\\t<td data-id=\"HR_CN\">0</td>\\r\\n\\t\\t\\t\\t\\t\\t\\t\\t<td data-id=\"RBI_CN\">0</td>\\r\\n\\t\\t\\t\\t\\t\\t\\t\\t<td data-id=\"SB_CN\">2</td>\\r\\n\\t\\t\\t\\t\\t\\t\\t\\t<td data-id=\"CS_CN\">0</td>\\r\\n\\t\\t\\t\\t\\t\\t\\t\\t<td data-id=\"BB_CN\">3</td>\\r\\n\\t\\t\\t\\t\\t\\t\\t\\t<td data-id=\"HP_CN\">0</td>\\r\\n\\t\\t\\t\\t\\t\\t\\t\\t<td data-id=\"KK_CN\">2</td>\\r\\n\\t\\t\\t\\t\\t\\t\\t\\t<td data-id=\"GD_CN\">0</td>\\r\\n\\t\\t\\t\\t\\t\\t\\t\\t<td data-id=\"ERR_CN\">1</td>\\r\\n\\t\\t\\t\\t\\t\\t\\t</tr>\\r\\n\\t\\t\\t\\t\\t\\t\\r\\n\\t\\t\\t\\t\\t\\t\\t<tr>\\r\\n\\t\\t\\t\\t\\t\\t\\t\\t<td>16</td>\\r\\n\\t\\t\\t\\t\\t\\t\\t\\t<td><a href=\"/Record/Player/HitterDetail/Basic.aspx?playerId=64153\">양석환</a></td>\\r\\n\\t\\t\\t\\t\\t\\t\\t\\t<td>두산</td>\\r\\n\\t\\t\\t\\t\\t\\t\\t\\t<td data-id=\"HRA_RT\">0.133</td>\\r\\n\\t\\t\\t\\t\\t\\t\\t\\t<td data-id=\"GAME_CN\">4</td>\\r\\n\\t\\t\\t\\t\\t\\t\\t\\t<td data-id=\"PA_CN\">16</td>\\r\\n\\t\\t\\t\\t\\t\\t\\t\\t<td data-id=\"AB_CN\">15</td>\\r\\n\\t\\t\\t\\t\\t\\t\\t\\t<td data-id=\"HIT_CN\">2</td>\\r\\n\\t\\t\\t\\t\\t\\t\\t\\t<td data-id=\"H2_CN\">0</td>\\r\\n\\t\\t\\t\\t\\t\\t\\t\\t<td data-id=\"H3_CN\">0</td>\\r\\n\\t\\t\\t\\t\\t\\t\\t\\t<td data-id=\"HR_CN\">0</td>\\r\\n\\t\\t\\t\\t\\t\\t\\t\\t<td data-id=\"RBI_CN\">0</td>\\r\\n\\t\\t\\t\\t\\t\\t\\t\\t<td data-id=\"SB_CN\">0</td>\\r\\n\\t\\t\\t\\t\\t\\t\\t\\t<td data-id=\"CS_CN\">0</td>\\r\\n\\t\\t\\t\\t\\t\\t\\t\\t<td data-id=\"BB_CN\">1</td>\\r\\n\\t\\t\\t\\t\\t\\t\\t\\t<td data-id=\"HP_CN\">0</td>\\r\\n\\t\\t\\t\\t\\t\\t\\t\\t<td data-id=\"KK_CN\">9</td>\\r\\n\\t\\t\\t\\t\\t\\t\\t\\t<td data-id=\"GD_CN\">0</td>\\r\\n\\t\\t\\t\\t\\t\\t\\t\\t<td data-id=\"ERR_CN\">0</td>\\r\\n\\t\\t\\t\\t\\t\\t\\t</tr>\\r\\n\\t\\t\\t\\t\\t\\t\\r\\n\\t\\t\\t\\t\\t\\t\\t\\r\\n\\t\\t\\t\\t\\t\\t</tbody>\\r\\n\\t\\t\\t\\t\\t</table> \\r\\n\\t\\t\\t\\t\\t\\r\\n<div class=\"paging\">    \\r\\n\\t\\r\\n\\t\\r\\n\\t<a id=\"cphContents_cphContents_cphContents_ucPager_btnNo1\" class=\"on\" href=\"javascript:__doPostBack(&#39;ctl00$ctl00$ctl00$cphContents$cphContents$cphContents$ucPager$btnNo1&#39;,&#39;&#39;)\">1</a>\\r\\n\\t\\r\\n\\t\\r\\n\\t\\r\\n\\t\\r\\n\\t\\r\\n\\t\\r\\n\\t\\r\\n\\t\\r\\n\\t\\r\\n\\t\\r\\n\\t\\r\\n</div>\\r\\n\\t\\t\\t\\t\\t<input type=\"hidden\" name=\"ctl00$ctl00$ctl00$cphContents$cphContents$cphContents$hfPage\" id=\"cphContents_cphContents_cphContents_hfPage\" value=\"1\" />\\r\\n\\t\\t\\t\\t\\t<input type=\"hidden\" name=\"ctl00$ctl00$ctl00$cphContents$cphContents$cphContents$hfOrderByCol\" id=\"cphContents_cphContents_cphContents_hfOrderByCol\" value=\"HRA_RT\" />\\r\\n\\t\\t\\t\\t\\t<input type=\"hidden\" name=\"ctl00$ctl00$ctl00$cphContents$cphContents$cphContents$hfOrderBy\" id=\"cphContents_cphContents_cphContents_hfOrderBy\" value=\"DESC\" />\\r\\n\\t\\t\\t\\t\\t<a id=\"cphContents_cphContents_cphContents_lbtnOrderBy\" href=\"javascript:__doPostBack(&#39;ctl00$ctl00$ctl00$cphContents$cphContents$cphContents$lbtnOrderBy&#39;,&#39;&#39;)\" style=\"display:none\"></a>\\r\\n\\t\\t\\t\\t</div>\\r\\n\\t\\t\\t\\r\\n</div>\\r\\n\\t</div>\\r\\n</div>\\r\\n\\r\\n\\t</div>\\r\\n</section>\\r\\n\\r\\n\\r\\n\\t\\t    <!-- // container -->\\t\\r\\n\\t\\t    <hr />\\r\\n\\t\\t    <!-- footer -->\\r\\n\\t\\t    <footer>\\r\\n\\t\\t\\t    <div id=\"fnb\">\\r\\n\\t\\t\\t\\t    <div class=\"wrapping fnb-wrap\">\\r\\n\\t\\t\\t\\t\\t    <ul class=\"fnb-list\">\\r\\n\\t\\t\\t\\t\\t\\t    <li class=\"privacy\"><a href=\"/Etc/Privacy.aspx\">개인정보 처리방침</a></li>\\r\\n\\t\\t\\t\\t\\t\\t    <li><a href=\"/Schedule/ScoreBoard.aspx\">문자중계</a></li>\\r\\n\\t\\t\\t\\t\\t\\t    <li><a href=\"/Board/Faqs/List.aspx\">고객질문</a></li>\\r\\n\\t\\t\\t\\t\\t\\t    <li><a href=\"/Etc/SiteMap.aspx\">사이트맵</a></li>\\r\\n\\t\\t\\t\\t\\t\\t    \\r\\n\\t\\t\\t\\t\\t    </ul>\\r\\n\\t\\t\\t\\t\\t    <div class=\"btn-kbo\"><a href=\"/About/Etc/TeamInfo.aspx\">KBO 리그 구단소개</a></div>\\r\\n\\t\\t\\t\\t    </div>\\r\\n\\t\\t\\t    </div>\\r\\n\\t\\t\\t    <div id=\"kboInfo\" class=\"wrapping\">\\r\\n\\t\\t\\t\\t    <h2><a href=\"/Etc/PressRelease.aspx\"><img src=\"//lgcxydabfbch3774324.cdn.ntruss.com/KBO_IMAGE/KBOHome/resources/images/common/h2_logo.png\" alt=\"KBO\" /></a></h2>\\r\\n\\t\\t\\t\\t    <address class=\"kbo-info\">\\r\\n\\t\\t\\t\\t\\t    <div class=\"address01\">\\r\\n\\t\\t\\t\\t\\t\\t    <p>(사)한국야구위원회</p>\\r\\n\\t\\t\\t\\t\\t\\t\\t<p>02) 3460-4600</p>\\r\\n\\t\\t\\t\\t\\t\\t\\t<p>서울시 강남구 강남대로 278</p>\\t\\t\\t\\t\\t\\r\\n\\t\\t\\t\\t\\t    </div>\\r\\n\\t\\t\\t\\t\\t    \\r\\n\\t\\t\\t\\t    </address>\\r\\n\\t\\t\\t\\t    <div class=\"copyright\">\\r\\n\\t\\t\\t\\t\\t    <span>본 사이트는 스포츠투아이㈜가 KBO 리그 팬을 위해 운영하는 KBO 공식 사이트입니다. </span><br />\\r\\n\\t\\t\\t\\t\\t    <span>Copyrightⓒ KBO, All Rights Reserved.</span>\\r\\n\\t\\t\\t\\t    </div>\\r\\n\\t\\t\\t\\t\\t<div class=\"certification\">\\r\\n\\t\\t\\t\\t\\t\\t<img src=\"//lgcxydabfbch3774324.cdn.ntruss.com/KBO_IMAGE/KBOHome/resources/images/main/img_certification.png\" alt=\"w3c xhtml 3.0, Verisign\" />\\r\\n\\t\\t\\t\\t\\t</div>\\r\\n\\t\\t\\t    </div>\\r\\n\\t\\t    </footer>\\r\\n\\t\\t    <!-- // footer -->\\r\\n\\t    </div>\\r\\n\\t    <!-- // wrap -->\\r\\n    \\r\\n\\r\\n<script type=\"text/javascript\">\\r\\n//<![CDATA[\\r\\njQuery(function ($) {$(\\'[data-id=HRA_RT]\\').addClass(\\'asc\\');$(\\'[data-id=HRA_RT]\\').siblings().removeClass(\\'asc\\');});//]]>\\r\\n</script>\\r\\n</form>\\r\\n    \\r\\n    \\r\\n\\r\\n    \\r\\n    \\r\\n    \\r\\n<script type=\"text/javascript\">\\r\\n    currentLnb(\"02\");\\r\\n\\r\\n    function tooltip(x) {\\r\\n        var title = $(x).attr(\"title\");\\r\\n        $(x).append(\"<div class=\\'tooltip\\'></div>\");\\r\\n        $(\".tooltip\").html(title);\\r\\n        var cnt = $(\".tooltip\").text().length;\\r\\n        $(\".tooltip\").css(\"width\", cnt * 12);\\r\\n        $(\".tData01 thead tr th:last-child\").find(\"> a .tooltip\").css({\\r\\n            right: 0,\\r\\n            top: \\'-35px\\'\\r\\n        });\\r\\n        return false;\\r\\n    }\\r\\n\\r\\n    function hideTip() {\\r\\n        $(\".tooltip\").remove();\\r\\n    }\\r\\n\\r\\n    $(\".record_words a\").on(\"click\", function (e) {\\r\\n        e.preventDefault();\\r\\n        Words();\\r\\n        $(\".words\").show();\\r\\n    });\\r\\n\\r\\n    function sort(colName) {\\r\\n\\t    var order = $(\"#cphContents_cphContents_cphContents_hfOrderBy\").val();           //정렬조건 \\r\\n\\r\\n        if($(\"#cphContents_cphContents_cphContents_hfOrderByCol\").val() == colName) {\\r\\n            if (order.indexOf(\"DESC\") > -1) {\\r\\n                order = \"ASC\";\\r\\n            } else {\\r\\n                order = \"DESC\";\\r\\n            }\\r\\n        } else {\\r\\n            if(colName == \"ERA_RT\") {\\r\\n                order = \"ASC\";\\r\\n            } else {\\r\\n                order = \"DESC\";\\r\\n            }\\r\\n        } \\r\\n\\r\\n        $(\"#cphContents_cphContents_cphContents_hfOrderByCol\").val(colName);\\r\\n        $(\"#cphContents_cphContents_cphContents_hfOrderBy\").val(order);\\r\\n        __doPostBack(\\'ctl00$ctl00$ctl00$cphContents$cphContents$cphContents$lbtnOrderBy\\',\\'\\')\\r\\n    }\\r\\n</script>\\r\\n\\r\\n\\r\\n\\r\\n    <script type=\"text/javascript\">\\r\\n        $(document).ready(function () {\\r\\n            // 선수 검색\\r\\n            $(document).on(\"click\", \"#btnTopPlayerSearch\", function (e) {\\r\\n                getPlayerSearch();\\r\\n                e.preventDefault();\\r\\n            });\\r\\n\\r\\n            // 선수 검색 엔터\\r\\n            $(document).on(\"keypress\", \"#txtTopPlayerWord\", function (e) {\\r\\n                if (event.keyCode == 13) {\\r\\n                    getPlayerSearch();\\r\\n                    e.preventDefault();\\r\\n                }\\r\\n            });\\r\\n\\r\\n            //// 선수 검색 마우스 아웃\\r\\n            //$(\"body\").click(function (e) {\\r\\n            //    var container = $(\"#player_search_area\");\\r\\n\\r\\n            //    if (container.css(\"display\") == \"block\") {\\r\\n            //        if (!container.has(e.target).length) {\\r\\n            //            container.hide();\\r\\n            //        }\\r\\n            //    }\\r\\n            //});\\r\\n\\r\\n\\t\\t\\t// 21.06.29 | veron | 나중에 탭들 다 지우고 배너 다시 원복 후 이부분 삭제해야함\\r\\n\\t\\t\\t// 8월 15일 00시 지나가면 삭제 \\r\\n            if (new Date().getTime() > new Date(\"2021/08/15 00:00:00\").getTime()) {\\r\\n\\t\\t\\t\\t// 위에 탭 삭제\\r\\n                $(\".menu04 li:last\").remove();\\r\\n                $(\".lnb-sub ul.lnb04 li:last\").remove();\\r\\n\\t\\t\\t\\t// Player.master 삭제\\r\\n                $(\"#liRookie\").remove();\\r\\n\\t\\t\\t\\t// 메인 배너 교체\\r\\n                $(\"#imgGijang\").attr(\"href\", \"http://gijangcmc.or.kr/baseball/main/main.asp\");\\r\\n                $(\"#imgGijang img\").attr(\"src\", \"//lgcxydabfbch3774324.cdn.ntruss.com/KBO_IMAGE/KBOHome/resources/images/main/img_banner01.jpg\");\\r\\n            }\\r\\n        });\\r\\n\\r\\n        // 선수 검색\\r\\n        function getPlayerSearch() {\\r\\n            if ($(\"#txtTopPlayerWord\").val() == \"\") {\\r\\n                alert(\"선수명은 필수 입니다.\");\\r\\n                $(\"#txtTopPlayerWord\").focus();\\r\\n                return false;\\r\\n            } else {\\r\\n                //var searchWord = encodeURI($(\"#txtTopPlayerWord\").val());\\r\\n\\r\\n                //if (searchWord != \"\") {\\r\\n                //    location.href = \"/Player/Search.aspx?searchWord=\" + searchWord;\\r\\n                //}\\r\\n                var request = $.ajax({\\r\\n                    type: \"post\"\\r\\n                    , url: \"/ws/Controls.asmx/GetSearchPlayer\"\\r\\n                    , dataType: \"json\"\\r\\n                    , data: {\\r\\n                        name: $(\"#txtTopPlayerWord\").val()\\r\\n                    }\\r\\n                    , error: ajaxFailed\\r\\n                    , async: true\\r\\n                });\\r\\n\\r\\n                request.done(function (data) {\\r\\n                    if (data.code == \"100\") {\\r\\n                        var container = $(\".search-result\");\\r\\n                        container.children().remove();\\r\\n\\r\\n                        container.hide();\\r\\n\\r\\n                        if (data.now.length > 0 || data.retire.length > 0) {\\r\\n                            // 2017-05-22 yeeun, 홍지희 사원 요청, 결과가 1명일 경우 바로 페이지 연결\\r\\n                            if (data.now.length + data.retire.length == 1) {\\r\\n                                var link = \"\";\\r\\n\\r\\n                                if (data.now.length == 1) {\\r\\n                                    link = data.now[0][\"P_LINK\"];\\r\\n                                } else {\\r\\n                                    link = data.retire[0][\"P_LINK\"];\\r\\n                                }\\r\\n\\r\\n                                location.href = link;\\r\\n                            } else {\\r\\n                                if (data.now.length > 0) {\\r\\n                                    container.append($(\"<h4>등록 선수</h4>\"));\\r\\n\\r\\n                                    var div = $(\"<div class=\\'active\\' />\");\\r\\n                                    div.children().remove();\\r\\n\\r\\n                                    setPlayerDiv(data.now, div, true);\\r\\n\\r\\n                                    container.append(div);\\r\\n                                }\\r\\n\\r\\n                                if (data.retire.length > 0) {\\r\\n                                    container.append($(\"<h4>역대 선수</h4>\"));\\r\\n\\r\\n                                    var div = $(\"<div class=\\'retire\\'/>\");\\r\\n                                    div.children().remove();\\r\\n\\r\\n                                    setPlayerDiv(data.retire, div, false);\\r\\n\\r\\n                                    container.append(div);\\r\\n                                }\\r\\n\\r\\n                                //container.append($(String.format(\"<p><a href=\\'/Player/Search.aspx?searchWord={0}\\'\\'>\\'{0}\\' 검색결과 모두 보기</a></p>\", $(\"#txtTopPlayerWord\").val())));\\r\\n                                container.append($(\"<p><a href=\\'/Player/Search.aspx?searchWord=\" + $(\"#txtTopPlayerWord\").val() + \"\\'\\'>\\'\" + $(\"#txtTopPlayerWord\").val() + \"\\' 검색결과 모두 보기</a></p>\"));\\r\\n                                container.show();\\r\\n                            }\\r\\n                        } else {\\r\\n                            container.append($(\"<p class=\\'null\\'>검색 결과가 없습니다.</p>\"));\\r\\n                            container.show();\\r\\n                        }\\r\\n                    }\\r\\n                });\\r\\n            }\\r\\n        }\\r\\n\\r\\n        // 선수 검색 div \\r\\n        function setPlayerDiv(list, div, isActive) {\\r\\n            $.each(list, function (index, player) {\\r\\n                var aLink = $(\"<a />\");\\r\\n                aLink.attr(\"href\", player[\"P_LINK\"]);\\r\\n\\r\\n                var dl = $(\"<dl />\");\\r\\n                var dt = $(\"<dt />\");\\r\\n                var backNo = \"\";\\r\\n\\r\\n                if (isActive) {\\r\\n                    //backNo = String.format(\"No.{0}\", player[\"BACK_NO\"]);\\r\\n                    backNo = \"No.\" + player[\"BACK_NO\"];\\r\\n                }\\r\\n\\r\\n                //dt.text(String.format(\"{0} {1}\", player[\"P_NM\"], backNo));\\r\\n                dt.text(player[\"P_NM\"] + \" \" + backNo);\\r\\n                dl.append(dt);\\r\\n\\r\\n                var dd = $(\"<dd />\");\\r\\n                //dd.text(String.format(\"{0} {1}({2})\", player[\"T_NM\"], player[\"POS_NO\"], player[\"P_TYPE\"]));\\r\\n                dd.text(player[\"T_NM\"] + \" \" + player[\"POS_NO\"] + \"(\" + player[\"P_TYPE\"] + \")\");\\r\\n                dl.append(dd);\\r\\n\\r\\n                var ddImg = $(String.format(\"<dd class=\\'btn-arrow\\'><img src=\\'{0}/resources/images/common/btn_arrow_search.png\\' alt=\\'\\' /></dd>\", \"//lgcxydabfbch3774324.cdn.ntruss.com/KBO_IMAGE/KBOHome\"));\\r\\n                dl.append(ddImg);\\r\\n\\r\\n                aLink.append(dl);\\r\\n                div.append(aLink);\\r\\n            });\\r\\n        }\\r\\n    </script>\\r\\n</body>\\r\\n</html>'"
            ]
          },
          "execution_count": 63,
          "metadata": {},
          "output_type": "execute_result"
        }
      ],
      "source": [
        "import requests\n",
        "from bs4 import BeautifulSoup\n",
        "\n",
        "headers ={\"user-agent\": \"Mozilla/5.0 (Windows NT 10.0; Win64; x64) AppleWebKit/537.36 (KHTML, like Gecko) Chrome/96.0.4664.110 Safari/537.36\", \n",
        "          \"Referer\":\"https://www.koreabaseball.com/Record/Player/HitterBasic/BasicOld.aspx?sort=HRA_RT\"}\n",
        "\n",
        "URL='https://www.koreabaseball.com/Record/Player/HitterBasic/Basic1.aspx?sort=HRA_RT'\n",
        "response=requests.get(URL, headers=headers)\n",
        "response.text\n",
        "\n"
      ]
    },
    {
      "cell_type": "code",
      "execution_count": null,
      "id": "f1cf9a8e-8d4b-4e30-871e-dc94d8606436",
      "metadata": {
        "id": "f1cf9a8e-8d4b-4e30-871e-dc94d8606436",
        "outputId": "75a47884-4868-4a34-be40-c16d8a0e3960"
      },
      "outputs": [
        {
          "name": "stderr",
          "output_type": "stream",
          "text": [
            "C:\\Users\\student\\AppData\\Local\\Temp/ipykernel_2416/2948708919.py:4: DeprecationWarning: find_element_by_* commands are deprecated. Please use find_element() instead\n",
            "  more_button=driver.find_element_by_css_selector('#cphContents_cphContents_cphContents_ddlSeries_ddlSeries')\n"
          ]
        },
        {
          "ename": "NameError",
          "evalue": "name 'moer_button' is not defined",
          "output_type": "error",
          "traceback": [
            "\u001b[1;31m---------------------------------------------------------------------------\u001b[0m",
            "\u001b[1;31mNameError\u001b[0m                                 Traceback (most recent call last)",
            "\u001b[1;32m~\\AppData\\Local\\Temp/ipykernel_2416/2948708919.py\u001b[0m in \u001b[0;36m<module>\u001b[1;34m\u001b[0m\n\u001b[0;32m      4\u001b[0m \u001b[0mmore_button\u001b[0m\u001b[1;33m=\u001b[0m\u001b[0mdriver\u001b[0m\u001b[1;33m.\u001b[0m\u001b[0mfind_element_by_css_selector\u001b[0m\u001b[1;33m(\u001b[0m\u001b[1;34m'#cphContents_cphContents_cphContents_ddlSeries_ddlSeries'\u001b[0m\u001b[1;33m)\u001b[0m\u001b[1;33m\u001b[0m\u001b[1;33m\u001b[0m\u001b[0m\n\u001b[0;32m      5\u001b[0m \u001b[0mdriver\u001b[0m\u001b[1;33m.\u001b[0m\u001b[0mimplicitly_wait\u001b[0m\u001b[1;33m(\u001b[0m\u001b[1;36m1\u001b[0m\u001b[1;33m)\u001b[0m\u001b[1;33m\u001b[0m\u001b[1;33m\u001b[0m\u001b[0m\n\u001b[1;32m----> 6\u001b[1;33m \u001b[0mmoer_button\u001b[0m\u001b[1;33m.\u001b[0m\u001b[0mclick\u001b[0m\u001b[1;33m(\u001b[0m\u001b[1;33m)\u001b[0m\u001b[1;33m\u001b[0m\u001b[1;33m\u001b[0m\u001b[0m\n\u001b[0m",
            "\u001b[1;31mNameError\u001b[0m: name 'moer_button' is not defined"
          ]
        }
      ],
      "source": [
        "driver = webdriver.Chrome(\"chromedriver\")\n",
        "driver.get('https://www.koreabaseball.com/Record/Player/HitterBasic/BasicOld.aspx?sort=HRA_RT')\n",
        "driver.implicitly_wait(2)\n",
        "more_button=driver.find_element_by_css_selector('#cphContents_cphContents_cphContents_ddlSeries_ddlSeries')\n",
        "driver.implicitly_wait(1)\n",
        "morㄷ_button.click()\n"
      ]
    },
    {
      "cell_type": "code",
      "execution_count": null,
      "id": "0a80d65f-8fb4-4349-86e1-49f0de673e92",
      "metadata": {
        "id": "0a80d65f-8fb4-4349-86e1-49f0de673e92"
      },
      "outputs": [],
      "source": [
        ""
      ]
    }
  ],
  "metadata": {
    "kernelspec": {
      "display_name": "Python 3 (ipykernel)",
      "language": "python",
      "name": "python3"
    },
    "language_info": {
      "codemirror_mode": {
        "name": "ipython",
        "version": 3
      },
      "file_extension": ".py",
      "mimetype": "text/x-python",
      "name": "python",
      "nbconvert_exporter": "python",
      "pygments_lexer": "ipython3",
      "version": "3.9.7"
    },
    "colab": {
      "name": "0103_practice.ipynb",
      "provenance": [],
      "include_colab_link": true
    }
  },
  "nbformat": 4,
  "nbformat_minor": 5
}