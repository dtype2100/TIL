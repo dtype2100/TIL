{
  "cells": [
    {
      "cell_type": "markdown",
      "metadata": {
        "id": "view-in-github",
        "colab_type": "text"
      },
      "source": [
        "<a href=\"https://colab.research.google.com/github/dtype2100/TIL/blob/master/0127_nlp.ipynb\" target=\"_parent\"><img src=\"https://colab.research.google.com/assets/colab-badge.svg\" alt=\"Open In Colab\"/></a>"
      ]
    },
    {
      "cell_type": "code",
      "execution_count": null,
      "id": "4fd53731-76cb-4db3-87f1-e91582b9cbdf",
      "metadata": {
        "id": "4fd53731-76cb-4db3-87f1-e91582b9cbdf",
        "outputId": "43ef1793-5d71-4b2c-a35e-9eacb52addec"
      },
      "outputs": [
        {
          "name": "stdout",
          "output_type": "stream",
          "text": [
            "{'바나나': 0, '사과': 1, '파인애플': 2, '딸기': 3}\n",
            "{0: '바나나', 1: '사과', 2: '파인애플', 3: '딸기'}\n"
          ]
        }
      ],
      "source": [
        "tokens = [\"딸기\", \"바나나\", \"사과\", \"딸기\", \"파인애플\"]\n",
        "# nodes =  list(set(tokens))\n",
        "vocab = [\"바나나\", \"사과\", \"파인애플\", \"딸기\"]\n",
        "\n",
        "vocab2id = { vocab[i] : i for i in range(len(vocab))}\n",
        "id2vocab = { i : vocab[i] for i in range(len(vocab))}\n",
        "\n",
        "print(vocab2id)\n",
        "print(id2vocab)"
      ]
    },
    {
      "cell_type": "code",
      "execution_count": null,
      "id": "588a8ec6-8ec8-42f6-96ea-d83d7d82dd6d",
      "metadata": {
        "id": "588a8ec6-8ec8-42f6-96ea-d83d7d82dd6d",
        "outputId": "2e58bfb4-7210-4c86-8dfa-b72f92d468a4"
      },
      "outputs": [
        {
          "name": "stdout",
          "output_type": "stream",
          "text": [
            "[[0. 1. 0. 1.]\n",
            " [1. 0. 0. 1.]\n",
            " [0. 0. 0. 1.]\n",
            " [1. 1. 1. 0.]]\n"
          ]
        },
        {
          "data": {
            "text/plain": [
              "array([[0.        , 0.5       , 0.        , 0.5       ],\n",
              "       [0.5       , 0.        , 0.        , 0.5       ],\n",
              "       [0.        , 0.        , 0.        , 1.        ],\n",
              "       [0.33333334, 0.33333334, 0.33333334, 0.        ]], dtype=float32)"
            ]
          },
          "execution_count": 35,
          "metadata": {},
          "output_type": "execute_result"
        }
      ],
      "source": [
        "import numpy as np\n",
        "\n",
        "vocab_len = len(vocab)\n",
        "weight_edge = np.zeros((vocab_len, vocab_len), dtype=np.float32)\n",
        "scores = np.ones(vocab_len, dtype=np.float32)\n",
        "\n",
        "window_size = 2\n",
        "\n",
        "covered_coocurrences = []\n",
        "\n",
        "for window_start in range(0, len(tokens)-window_size + 1):\n",
        "    window = tokens[window_start : window_start + window_size]\n",
        "    for i in range(window_size - 1):\n",
        "        for j in range(i+1, window_size):\n",
        "            \n",
        "            if window[i] in vocab and window[j] in vocab:\n",
        "                index_of_i = window_start + i\n",
        "                index_of_j = window_start + j\n",
        "\n",
        "                if (index_of_i, index_of_j) not in covered_coocurrences:\n",
        "                    weight_edge[vocab2id[window[i]]][vocab2id[window[j]]] = 1\n",
        "                    weight_edge[vocab2id[window[j]]][vocab2id[window[i]]] = 1\n",
        "                    covered_coocurrences.append((index_of_i, index_of_j))\n",
        "\n",
        "print(weight_edge)\n",
        "\n",
        "for i in range(vocab_len):\n",
        "    row_sum =  weight_edge[i].sum()\n",
        "    weight_edge[i] = weight_edge[i] / row_sum if row_sum > 0 else 0\n",
        "    \n",
        "                \n",
        "                \n",
        "weight_edge          "
      ]
    },
    {
      "cell_type": "code",
      "execution_count": null,
      "id": "32e9e660-fadb-41b1-81e6-f9bcf7ecc6d2",
      "metadata": {
        "id": "32e9e660-fadb-41b1-81e6-f9bcf7ecc6d2",
        "outputId": "002131d4-9761-4f9b-f177-5ef6bd269b7e"
      },
      "outputs": [
        {
          "data": {
            "text/plain": [
              "(4,)"
            ]
          },
          "execution_count": 75,
          "metadata": {},
          "output_type": "execute_result"
        }
      ],
      "source": [
        "weight_edge[:, 0].shape"
      ]
    },
    {
      "cell_type": "code",
      "execution_count": null,
      "id": "9d4a6600-9e91-492a-99f6-1c439cb1366b",
      "metadata": {
        "id": "9d4a6600-9e91-492a-99f6-1c439cb1366b",
        "outputId": "001dc5db-ce39-4e98-aacd-fc6fef11caa5"
      },
      "outputs": [
        {
          "data": {
            "text/plain": [
              "(4,)"
            ]
          },
          "execution_count": 76,
          "metadata": {},
          "output_type": "execute_result"
        }
      ],
      "source": [
        "scores.shape"
      ]
    },
    {
      "cell_type": "code",
      "execution_count": null,
      "id": "9d77274e-0b6b-4f10-8e81-3507a4ce4c8a",
      "metadata": {
        "id": "9d77274e-0b6b-4f10-8e81-3507a4ce4c8a",
        "outputId": "df1303f8-1a24-458f-ad95-00a80d1cda20"
      },
      "outputs": [
        {
          "data": {
            "text/plain": [
              "array([0.9837155 , 0.9837155 , 0.56564105, 1.4669281 ], dtype=float32)"
            ]
          },
          "execution_count": 41,
          "metadata": {},
          "output_type": "execute_result"
        }
      ],
      "source": [
        "MAX_ITERATIONS = 50\n",
        "d = 0.85\n",
        "threshold = 0.0001\n",
        "\n",
        "for it in range(MAX_ITERATIONS):\n",
        "    prev_score = np.copy(scores)\n",
        "    \n",
        "    for i in range(vocab_len):\n",
        "        \n",
        "        summation = 0\n",
        "        \n",
        "        for j in range(vocab_len):            \n",
        "            summation += weight_edge[j][i] * prev_score[j]\n",
        "            \n",
        "        scores[i] = (1 - d) + d * summation\n",
        "        \n",
        "    if np.sum(np.fabs(prev_score - scores)) <= threshold:\n",
        "        break\n",
        "        \n",
        "scores"
      ]
    },
    {
      "cell_type": "code",
      "execution_count": null,
      "id": "2e41175b-9638-4d42-9271-8b0779355c7d",
      "metadata": {
        "id": "2e41175b-9638-4d42-9271-8b0779355c7d",
        "outputId": "5349d7f4-0372-4c54-90dd-776ddfa72f5a"
      },
      "outputs": [
        {
          "data": {
            "text/plain": [
              "array([2, 0, 1, 3], dtype=int64)"
            ]
          },
          "execution_count": 42,
          "metadata": {},
          "output_type": "execute_result"
        }
      ],
      "source": [
        "np.argsort(scores)"
      ]
    },
    {
      "cell_type": "code",
      "execution_count": null,
      "id": "f5bf01ee-2542-468b-be7c-d7a43a2a9083",
      "metadata": {
        "id": "f5bf01ee-2542-468b-be7c-d7a43a2a9083",
        "outputId": "fa6d5895-404c-4236-f13e-e50ee36f218b"
      },
      "outputs": [
        {
          "data": {
            "text/plain": [
              "array([3, 1, 0, 2], dtype=int64)"
            ]
          },
          "execution_count": 44,
          "metadata": {},
          "output_type": "execute_result"
        }
      ],
      "source": [
        "sorted_index = np.flip(np.argsort(scores), 0)\n",
        "sorted_index"
      ]
    },
    {
      "cell_type": "code",
      "execution_count": null,
      "id": "1da6cd15-8fb1-4dab-baaf-8ac46d9f00c3",
      "metadata": {
        "id": "1da6cd15-8fb1-4dab-baaf-8ac46d9f00c3",
        "outputId": "86349111-cb5b-4e73-d637-1c31f91fbc7b"
      },
      "outputs": [
        {
          "name": "stdout",
          "output_type": "stream",
          "text": [
            "딸기 : 1.4669281244277954 \n",
            "사과 : 0.9837154746055603 \n",
            "바나나 : 0.9837154746055603 \n"
          ]
        }
      ],
      "source": [
        "n = 3\n",
        "for i in range(n):\n",
        "    print(\"{} : {} \".format(id2vocab[sorted_index[i]], scores[sorted_index[i]]))"
      ]
    },
    {
      "cell_type": "code",
      "execution_count": null,
      "id": "1c2136d3-a92d-4110-b6e6-689c37310977",
      "metadata": {
        "id": "1c2136d3-a92d-4110-b6e6-689c37310977"
      },
      "outputs": [],
      "source": [
        "MAX_ITERATIONS = 50\n",
        "d = 0.85\n",
        "threshold = 0.0001\n",
        "\n",
        "def get_scores(weight_edge, vocab_len):\n",
        "    scores = np.ones(vocab_len, dtype=np.float32)\n",
        "    \n",
        "    for it in range(MAX_ITERATIONS):\n",
        "        prev_score = np.copy(scores)\n",
        "\n",
        "        for i in range(vocab_len):\n",
        "            summation = (weight_edge[:, i] * prev_score).sum()\n",
        "            scores[i] = (1 - d) + d * summation\n",
        "\n",
        "        if np.sum(np.fabs(prev_score - scores)) <= threshold:\n",
        "            break\n",
        "\n",
        "    return scores"
      ]
    },
    {
      "cell_type": "code",
      "execution_count": null,
      "id": "77e10d4e-8207-44fa-91dc-f8247c4145e3",
      "metadata": {
        "id": "77e10d4e-8207-44fa-91dc-f8247c4145e3"
      },
      "outputs": [],
      "source": [
        "def get_weight_edge(vocab, tokens, window_size = 2):\n",
        "    vocab_len = len(vocab)\n",
        "    weight_edge = np.zeros((vocab_len, vocab_len), dtype=np.float32)\n",
        "    covered_coocurrences = []\n",
        "\n",
        "    for window_start in range(0, len(tokens)-window_size + 1):\n",
        "        window = tokens[window_start : window_start + window_size]\n",
        "        for i in range(window_size - 1):\n",
        "            for j in range(i+1, window_size):\n",
        "\n",
        "                if window[i] in vocab and window[j] in vocab:\n",
        "                    index_of_i = window_start + i\n",
        "                    index_of_j = window_start + j\n",
        "\n",
        "                    if (index_of_i, index_of_j) not in covered_coocurrences:\n",
        "                        weight_edge[vocab2id[window[i]]][vocab2id[window[j]]] = 1\n",
        "                        weight_edge[vocab2id[window[j]]][vocab2id[window[i]]] = 1\n",
        "                        covered_coocurrences.append((index_of_i, index_of_j))\n",
        "\n",
        "    for i in range(vocab_len):\n",
        "        row_sum =  weight_edge[i].sum()\n",
        "        weight_edge[i] = weight_edge[i] / row_sum if row_sum > 0 else 0\n",
        "\n",
        "    return weight_edge          "
      ]
    },
    {
      "cell_type": "code",
      "execution_count": null,
      "id": "f065b89f-91dd-45a4-a1c9-0a32597cb616",
      "metadata": {
        "id": "f065b89f-91dd-45a4-a1c9-0a32597cb616"
      },
      "outputs": [],
      "source": [
        "def preprocess(news_article, node_pos= [\"NNG\", \"NNP\"]):\n",
        "    \n",
        "    vocab = [token[0] for token in mecab.pos(news_article) if token[1] in node_pos]\n",
        "    tokens = [token[0] for token in mecab.pos(news_article)]\n",
        "    \n",
        "    vocab = list(set(vocab))\n",
        "             \n",
        "    vocab2id = { vocab[i] : i for i in range(len(vocab))}\n",
        "    id2vocab = { i : vocab[i] for i in range(len(vocab))}\n",
        "    \n",
        "    vocab_len = len(vocab)\n",
        "    \n",
        "    return vocab, tokens, vocab2id, id2vocab, vocab_len"
      ]
    },
    {
      "cell_type": "code",
      "execution_count": null,
      "id": "f1a3fad0-9b0e-41f4-8f25-558d75da0d5f",
      "metadata": {
        "id": "f1a3fad0-9b0e-41f4-8f25-558d75da0d5f"
      },
      "outputs": [],
      "source": [
        "def report_result(scores, id2vocab):\n",
        "    sorted_index = np.flip(np.argsort(scores), 0)\n",
        "    \n",
        "    print(\"핵심키워드\")\n",
        "    for i in range(top_n):        \n",
        "        print(\"{} : {} \".format(id2vocab[sorted_index[i]], scores[sorted_index[i]]))\n",
        "    print(\"\")"
      ]
    },
    {
      "cell_type": "code",
      "execution_count": null,
      "id": "9738d0b7-4e13-4719-9998-c769f44248e1",
      "metadata": {
        "id": "9738d0b7-4e13-4719-9998-c769f44248e1",
        "outputId": "7e71317f-f98c-4941-9666-9f8e9207656a"
      },
      "outputs": [
        {
          "name": "stdout",
          "output_type": "stream",
          "text": [
            "핵심키워드\n",
            "데이터 : 7.4343390464782715 \n",
            "활용 : 2.795384645462036 \n",
            "정보 : 2.7120308876037598 \n",
            "플랫 : 2.188546657562256 \n",
            "경제 : 2.1860430240631104 \n",
            "\n",
            "핵심키워드\n",
            "대회 : 1.6575965881347656 \n",
            "한전 : 1.6287670135498047 \n",
            "서비스 : 1.5968517065048218 \n",
            "선정 : 1.4593236446380615 \n",
            "모델 : 1.4593236446380615 \n",
            "\n",
            "핵심키워드\n",
            "주행 : 4.062406063079834 \n",
            "데이터 : 3.5409367084503174 \n",
            "자율 : 2.3876307010650635 \n",
            "산업 : 1.9965639114379883 \n",
            "뉴스 : 1.9186471700668335 \n",
            "\n",
            "핵심키워드\n",
            "인구 : 3.6806445121765137 \n",
            "지역 : 2.842867136001587 \n",
            "간 : 2.663395404815674 \n",
            "이동 : 2.6485180854797363 \n",
            "데이터 : 2.024946689605713 \n",
            "\n",
            "핵심키워드\n",
            "데이터 : 4.3792619705200195 \n",
            "금융 : 4.025979995727539 \n",
            "중계 : 3.5793404579162598 \n",
            "인프라 : 2.860461711883545 \n",
            "개발 : 2.756382703781128 \n",
            "\n"
          ]
        }
      ],
      "source": [
        "import requests\n",
        "from bs4 import BeautifulSoup\n",
        "\n",
        "from konlpy.tag import Mecab\n",
        "mecab = Mecab()\n",
        "\n",
        "\n",
        "def get_news(url):\n",
        "    headers = {\"user-agent\":\"Mozilla/5.0\"}\n",
        "    response = requests.get(url, headers=headers)\n",
        "    html = BeautifulSoup(response.text, 'html.parser')\n",
        "    \n",
        "    article = html.select_one(\"#articleBodyContents\").text\n",
        "    return article\n",
        "\n",
        "urls = [\"https://news.naver.com/main/read.nhn?mode=LSD&mid=sec&sid1=105&oid=018&aid=0004430108\",\n",
        "\"https://news.naver.com/main/read.nhn?mode=LSD&mid=sec&sid1=101&oid=001&aid=0011614790\",\n",
        "\"https://news.naver.com/main/read.nhn?mode=LSD&mid=sec&sid1=102&oid=014&aid=0004424362\",\n",
        "\"https://news.naver.com/main/read.nhn?mode=LSD&mid=sec&sid1=101&oid=119&aid=0002402191\",\n",
        "\"https://news.naver.com/main/read.nhn?mode=LSD&mid=sec&sid1=101&oid=030&aid=0002882728\"]\n",
        "\n",
        "docs = []\n",
        "top_n = 5\n",
        "\n",
        "for url in urls:\n",
        "    news_article = get_news(url)\n",
        "    \n",
        "    vocab, tokens, vocab2id, id2vocab, vocab_len = preprocess(news_article)\n",
        "    \n",
        "    weight_edge = get_weight_edge(vocab, tokens, window_size=2)\n",
        "    scores = get_scores(weight_edge, vocab_len)\n",
        "    \n",
        "    report_result(scores, id2vocab)\n",
        "    \n",
        "\n",
        "    \n",
        "    "
      ]
    },
    {
      "cell_type": "code",
      "execution_count": null,
      "id": "c56225f7-1b33-4b52-8fd4-55f8ce582950",
      "metadata": {
        "id": "c56225f7-1b33-4b52-8fd4-55f8ce582950"
      },
      "outputs": [],
      "source": [
        ""
      ]
    }
  ],
  "metadata": {
    "kernelspec": {
      "display_name": "nlp",
      "language": "python",
      "name": "nlp"
    },
    "language_info": {
      "codemirror_mode": {
        "name": "ipython",
        "version": 3
      },
      "file_extension": ".py",
      "mimetype": "text/x-python",
      "name": "python",
      "nbconvert_exporter": "python",
      "pygments_lexer": "ipython3",
      "version": "3.7.11"
    },
    "colab": {
      "name": "0127_nlp.ipynb",
      "provenance": [],
      "include_colab_link": true
    }
  },
  "nbformat": 4,
  "nbformat_minor": 5
}