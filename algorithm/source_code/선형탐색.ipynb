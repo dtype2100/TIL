{
 "cells": [
  {
   "cell_type": "code",
   "execution_count": null,
   "metadata": {},
   "outputs": [],
   "source": [
    "def linear_search(element, some_list):\n",
    "    for i in range(len(some_list)):\n",
    "        if some_list[i] == element:\n",
    "            return i\n",
    "    return None"
   ]
  },
  {
   "cell_type": "code",
   "execution_count": null,
   "metadata": {},
   "outputs": [],
   "source": [
    "print(linear_search(2, [2, 3, 5, 7, 11]))\n",
    "print(linear_search(0, [2, 3, 5, 7, 11]))\n",
    "print(linear_search(5, [2, 3, 5, 7, 11]))\n",
    "print(linear_search(3, [2, 3, 5, 7, 11]))\n",
    "print(linear_search(11, [2, 3, 5, 7, 11]))"
   ]
  },
  {
   "cell_type": "code",
   "execution_count": null,
   "metadata": {},
   "outputs": [],
   "source": []
  }
 ],
 "metadata": {
  "language_info": {
   "name": "python"
  },
  "orig_nbformat": 4
 },
 "nbformat": 4,
 "nbformat_minor": 2
}
