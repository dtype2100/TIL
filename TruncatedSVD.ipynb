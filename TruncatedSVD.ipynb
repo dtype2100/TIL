{
  "nbformat": 4,
  "nbformat_minor": 0,
  "metadata": {
    "colab": {
      "name": "TruncatedSVD.ipynb",
      "provenance": [],
      "authorship_tag": "ABX9TyNvpw4GenDfU6yPAoDphr3P",
      "include_colab_link": true
    },
    "kernelspec": {
      "name": "python3",
      "display_name": "Python 3"
    },
    "language_info": {
      "name": "python"
    }
  },
  "cells": [
    {
      "cell_type": "markdown",
      "metadata": {
        "id": "view-in-github",
        "colab_type": "text"
      },
      "source": [
        "<a href=\"https://colab.research.google.com/github/dtype2100/TIL/blob/master/TruncatedSVD.ipynb\" target=\"_parent\"><img src=\"https://colab.research.google.com/assets/colab-badge.svg\" alt=\"Open In Colab\"/></a>"
      ]
    },
    {
      "cell_type": "code",
      "source": [
        "from google.colab import drive\n",
        "drive.mount('/content/drive')"
      ],
      "metadata": {
        "colab": {
          "base_uri": "https://localhost:8080/"
        },
        "id": "POQi-HHzY0bg",
        "outputId": "de1f5a05-5962-4bae-b3f7-8fc5f13999c3"
      },
      "execution_count": null,
      "outputs": [
        {
          "output_type": "stream",
          "name": "stdout",
          "text": [
            "Mounted at /content/drive\n"
          ]
        }
      ]
    },
    {
      "cell_type": "code",
      "source": [
        "import pandas as pd\n",
        "df = pd.read_excel('/content/drive/MyDrive/Colab Notebooks/Final/soynlp/newsresult.xlsx')"
      ],
      "metadata": {
        "colab": {
          "base_uri": "https://localhost:8080/"
        },
        "id": "qFAWZi4SY9VQ",
        "outputId": "c39c1209-807a-46c7-ee59-914deb44c513"
      },
      "execution_count": null,
      "outputs": [
        {
          "output_type": "stream",
          "name": "stderr",
          "text": [
            "/usr/local/lib/python3.7/dist-packages/openpyxl/styles/stylesheet.py:226: UserWarning: Workbook contains no default style, apply openpyxl's default\n",
            "  warn(\"Workbook contains no default style, apply openpyxl's default\")\n"
          ]
        }
      ]
    },
    {
      "cell_type": "code",
      "source": [
        "doc_ls = df['제목']"
      ],
      "metadata": {
        "id": "L_GCwUGZZNuH"
      },
      "execution_count": null,
      "outputs": []
    },
    {
      "cell_type": "code",
      "execution_count": null,
      "metadata": {
        "id": "nZeyNT9-Yy33"
      },
      "outputs": [],
      "source": [
        "from sklearn.feature_extraction.text import TfidfVectorizer\n",
        "from sklearn.decomposition import TruncatedSVD\n",
        "\n",
        "n_topics = 4\n",
        "\n",
        "tfidf_vect = TfidfVectorizer()\n",
        "tfidf = tfidf_vect.fit_transform(doc_ls)\n",
        "svd = TruncatedSVD(n_components=n_topics, n_iter=100)\n",
        "\n",
        "U = svd.fit_transform(tfidf)\n",
        "Vt = svd.components_"
      ]
    },
    {
      "cell_type": "code",
      "source": [
        "vocab = tfidf_vect.get_feature_names_out()\n",
        "print(len(vocab))"
      ],
      "metadata": {
        "colab": {
          "base_uri": "https://localhost:8080/"
        },
        "id": "Pq6BeSCtZ1Ju",
        "outputId": "1ec4f0f2-17cc-47ce-9d1e-0db39a650464"
      },
      "execution_count": null,
      "outputs": [
        {
          "output_type": "stream",
          "name": "stdout",
          "text": [
            "36505\n"
          ]
        }
      ]
    },
    {
      "cell_type": "code",
      "source": [
        "n = 4\n",
        "for i, topic in enumerate(Vt):\n",
        "    print(\"Topic {} :\".format(i), [ (vocab[i], topic[i].round(3)) for i in topic.argsort()[:-n-1:-1]])"
      ],
      "metadata": {
        "colab": {
          "base_uri": "https://localhost:8080/"
        },
        "id": "3MP8FpXCaJX-",
        "outputId": "3ce9b60c-a017-4dd9-9511-7340cd901c1c"
      },
      "execution_count": null,
      "outputs": [
        {
          "output_type": "stream",
          "name": "stdout",
          "text": [
            "Topic 0 : [('결정', 0.578), ('현금배당', 0.552), ('주당', 0.475), ('100원', 0.113)]\n",
            "Topic 1 : [('지원', 0.45), ('러시아', 0.195), ('우크라', 0.194), ('최대', 0.194)]\n",
            "Topic 2 : [('3월', 0.378), ('코스피', 0.192), ('상승', 0.178), ('하락', 0.16)]\n",
            "Topic 3 : [('3월', 0.563), ('지원', 0.276), ('동향', 0.13), ('증시', 0.129)]\n"
          ]
        }
      ]
    },
    {
      "cell_type": "code",
      "source": [
        "n = 3\n",
        "temp = [0, 1, 2, 3, 4, 5]\n",
        "temp[:-n:-1]"
      ],
      "metadata": {
        "colab": {
          "base_uri": "https://localhost:8080/"
        },
        "id": "eAqTeoUTa7SX",
        "outputId": "cc02b614-826b-4a50-ffa7-c4b59a16a98e"
      },
      "execution_count": null,
      "outputs": [
        {
          "output_type": "execute_result",
          "data": {
            "text/plain": [
              "[5, 4]"
            ]
          },
          "metadata": {},
          "execution_count": 7
        }
      ]
    },
    {
      "cell_type": "code",
      "source": [
        "import numpy as np\n",
        "from numpy import dot\n",
        "from numpy.linalg import norm\n",
        "\n",
        "def cosine_similarity(a, b):\n",
        "    return dot(a, b) / (norm(a) * norm(b))\n",
        "\n",
        "def calc_similarity_matrix(vectors):\n",
        "    \n",
        "    n_word = len(vectors)\n",
        "    similarity_matrix = np.zeros((n_word, n_word))\n",
        "    \n",
        "    for i in range(n_word):\n",
        "        for j in range(n_word):\n",
        "            similarity_matrix[i, j] = cosine_similarity(vectors[i], vectors[j]).round(3)\n",
        "            \n",
        "    return similarity_matrix"
      ],
      "metadata": {
        "id": "5lk_MUIVbHGG"
      },
      "execution_count": null,
      "outputs": []
    },
    {
      "cell_type": "code",
      "source": [
        "vectors = Vt.T\n",
        "word_similarity_matrix = calc_similarity_matrix(vectors)\n",
        "word_similarity_matrix.shape"
      ],
      "metadata": {
        "id": "YPOrO5ekbIqu"
      },
      "execution_count": null,
      "outputs": []
    },
    {
      "cell_type": "code",
      "source": [
        "import matplotlib.pyplot as plt\n",
        "import seaborn as sns\n",
        "\n",
        "plt.rc(\"font\", family=\"Malgun Gothic\") #windows\n",
        "# plt.rc(\"font\", family=\"AppleGothic\") #mac\n",
        "\n",
        "def visualize_similarity(similarity_matrix, label):\n",
        "    mask = np.triu(np.ones_like(similarity_matrix, dtype=np.bool))\n",
        "    plt.rcParams['figure.figsize'] = [8, 6]\n",
        "    ax = sns.heatmap(similarity_matrix, mask=mask, xticklabels=label, yticklabels=label, \n",
        "                     annot=True, fmt=\".2f\", annot_kws={\"size\":8}, cmap=\"coolwarm\") "
      ],
      "metadata": {
        "id": "VvYalrDUbJ2m"
      },
      "execution_count": null,
      "outputs": []
    },
    {
      "cell_type": "code",
      "source": [
        "visualize_similarity(word_similarity_matrix, vocab)"
      ],
      "metadata": {
        "id": "APrNqIUObLF2"
      },
      "execution_count": null,
      "outputs": []
    },
    {
      "cell_type": "code",
      "source": [
        "doc_similarity_matrix = calc_similarity_matrix(U)\n",
        "visualize_similarity(doc_similarity_matrix, doc_ls)"
      ],
      "metadata": {
        "id": "Xr01RTJ2bNC2"
      },
      "execution_count": null,
      "outputs": []
    },
    {
      "cell_type": "code",
      "source": [
        "from sklearn.manifold import TSNE\n",
        "\n",
        "def visualize_vectors(vectors, labels):\n",
        "    tsne = TSNE(n_components=2, n_iter=10000, perplexity=2)\n",
        "    T = tsne.fit_transform(vectors)\n",
        "    \n",
        "    plt.figure(figsize=(10, 6))\n",
        "    plt.scatter(T[:, 0], T[:, 1], c='orange', edgecolors='r')\n",
        "    for label, x, y in zip(labels, T[:, 0], T[:, 1]):\n",
        "        plt.annotate(label, xy=(x+1, y+1), xytext=(0, 0), textcoords=\"offset points\")"
      ],
      "metadata": {
        "id": "u-cHLiCvbPMW"
      },
      "execution_count": null,
      "outputs": []
    },
    {
      "cell_type": "code",
      "source": [
        "visualize_vectors(vectors, vocab)"
      ],
      "metadata": {
        "id": "yaqd_pOtbRIe"
      },
      "execution_count": null,
      "outputs": []
    },
    {
      "cell_type": "code",
      "source": [
        "!pip install pyLDAvis"
      ],
      "metadata": {
        "id": "1totECctbSd-"
      },
      "execution_count": null,
      "outputs": []
    },
    {
      "cell_type": "code",
      "source": [
        "from sklearn.feature_extraction.text import TfidfVectorizer\n",
        "from sklearn.decomposition import LatentDirichletAllocation\n",
        "\n",
        "tfidf_vect = TfidfVectorizer()\n",
        "tfidf = tfidf_vect.fit_transform(tokenized_docs)\n",
        "lda = LatentDirichletAllocation(n_components=5, max_iter=50, learning_method=\"online\", random_state=42)\n",
        "lda_output = lda.fit_transform(tfidf)"
      ],
      "metadata": {
        "id": "jKN7PbEnbUQm"
      },
      "execution_count": null,
      "outputs": []
    },
    {
      "cell_type": "code",
      "source": [
        "import pyLDAvis\n",
        "import pyLDAvis.sklearn\n",
        "\n",
        "pyLDAvis.enable_notebook()\n",
        "vis = pyLDAvis.sklearn.prepare(lda, tfidf, tfidf_vect, mds=\"tsne\")\n",
        "pyLDAvis.display(vis)"
      ],
      "metadata": {
        "id": "QQ1XCR_4bbJn"
      },
      "execution_count": null,
      "outputs": []
    },
    {
      "cell_type": "code",
      "source": [
        ""
      ],
      "metadata": {
        "id": "R0E83tl8bck-"
      },
      "execution_count": null,
      "outputs": []
    }
  ]
}