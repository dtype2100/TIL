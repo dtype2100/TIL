{
  "cells": [
    {
      "cell_type": "markdown",
      "metadata": {
        "id": "view-in-github",
        "colab_type": "text"
      },
      "source": [
        "<a href=\"https://colab.research.google.com/github/dtype2100/TIL/blob/master/1214_practice.ipynb\" target=\"_parent\"><img src=\"https://colab.research.google.com/assets/colab-badge.svg\" alt=\"Open In Colab\"/></a>"
      ]
    },
    {
      "cell_type": "code",
      "execution_count": null,
      "id": "257dfa10",
      "metadata": {
        "id": "257dfa10",
        "outputId": "5c31f074-490d-4e0b-b82c-c783667583f5"
      },
      "outputs": [
        {
          "name": "stdout",
          "output_type": "stream",
          "text": [
            "n2 = 0003.25\n"
          ]
        }
      ],
      "source": [
        "n2 = 3.25\n",
        "print(\"n2 = %07.2f\" % n2)\n"
      ]
    },
    {
      "cell_type": "code",
      "execution_count": null,
      "id": "1528da4b",
      "metadata": {
        "id": "1528da4b",
        "outputId": "5e0746f8-a25f-43c8-c448-456c0b3e6884"
      },
      "outputs": [
        {
          "name": "stdout",
          "output_type": "stream",
          "text": [
            "n2 =    3.25\n"
          ]
        }
      ],
      "source": [
        "print(\"n2 = %7.2f\" % n2)"
      ]
    },
    {
      "cell_type": "code",
      "execution_count": null,
      "id": "c7de5ce4",
      "metadata": {
        "id": "c7de5ce4"
      },
      "outputs": [],
      "source": [
        "num_str = \"720\"  #형변환\n"
      ]
    },
    {
      "cell_type": "code",
      "execution_count": null,
      "id": "9d1750bb",
      "metadata": {
        "id": "9d1750bb",
        "outputId": "7aac4da6-a357-4c17-e0ee-87f089bd92bc"
      },
      "outputs": [
        {
          "name": "stdout",
          "output_type": "stream",
          "text": [
            "7201 <class 'str'>\n",
            "721 <class 'int'>\n"
          ]
        }
      ],
      "source": [
        "print(num_str+\"1\", type(num_str))\n",
        "\n",
        "num_str = int(num_str)\n",
        "print(num_str+1, type(num_str))"
      ]
    },
    {
      "cell_type": "code",
      "execution_count": null,
      "id": "7fe3ef1e",
      "metadata": {
        "id": "7fe3ef1e",
        "outputId": "36cd7b09-9a1f-4af8-997f-2460573d012a"
      },
      "outputs": [
        {
          "name": "stdout",
          "output_type": "stream",
          "text": [
            "n2 =    3.25\n"
          ]
        }
      ],
      "source": [
        "print(\"n2 = %7.2f\" % n2)\n"
      ]
    },
    {
      "cell_type": "code",
      "execution_count": null,
      "id": "05a792be",
      "metadata": {
        "id": "05a792be"
      },
      "outputs": [],
      "source": [
        "a = 1\n",
        "b = 2\n"
      ]
    },
    {
      "cell_type": "code",
      "execution_count": null,
      "id": "954aa8ec",
      "metadata": {
        "id": "954aa8ec",
        "outputId": "f8421a22-c9f2-48f5-8e2d-0da7e23c5681"
      },
      "outputs": [
        {
          "name": "stdout",
          "output_type": "stream",
          "text": [
            "a:  2\n",
            "b:  2\n"
          ]
        }
      ],
      "source": [
        "a = b\n",
        "b = a\n",
        "\n",
        "print(\"a: \", a)\n",
        "print(\"b: \", b)"
      ]
    },
    {
      "cell_type": "code",
      "execution_count": null,
      "id": "a05f87a9",
      "metadata": {
        "id": "a05f87a9",
        "outputId": "13fe9ceb-5642-452a-bbcc-4687b0012e0d"
      },
      "outputs": [
        {
          "name": "stdout",
          "output_type": "stream",
          "text": [
            "a:  2\n",
            "b:  1\n"
          ]
        }
      ],
      "source": [
        "a = 1\n",
        "b = 2\n",
        "\n",
        "tmp = a\n",
        "a = b\n",
        "b = tmp\n",
        "\n",
        "print(\"a: \", a)\n",
        "print(\"b: \", b)"
      ]
    },
    {
      "cell_type": "code",
      "execution_count": null,
      "id": "1e0096d9",
      "metadata": {
        "id": "1e0096d9",
        "outputId": "3d7277e8-ebe4-4764-e446-791adc993567"
      },
      "outputs": [
        {
          "name": "stdout",
          "output_type": "stream",
          "text": [
            "a:  2\n",
            "b:  1\n"
          ]
        }
      ],
      "source": [
        "a = 1\n",
        "b = 2\n",
        "\n",
        "a, b = b, a\n",
        "\n",
        "print(\"a: \", a)\n",
        "print(\"b: \", b)"
      ]
    },
    {
      "cell_type": "code",
      "execution_count": null,
      "id": "55fd6a54",
      "metadata": {
        "id": "55fd6a54",
        "outputId": "f9b46b0f-9cc6-4e23-944f-c4ee599b0f9d"
      },
      "outputs": [
        {
          "data": {
            "text/plain": [
              "[0, 1, 2, 3, 4, 5, 6, 7, 8, 9]"
            ]
          },
          "execution_count": 18,
          "metadata": {},
          "output_type": "execute_result"
        }
      ],
      "source": [
        "a = list(range(10))\n",
        "a"
      ]
    },
    {
      "cell_type": "code",
      "execution_count": null,
      "id": "8fdb24da",
      "metadata": {
        "id": "8fdb24da"
      },
      "outputs": [],
      "source": [
        "b = a"
      ]
    },
    {
      "cell_type": "code",
      "execution_count": null,
      "id": "a34068a5",
      "metadata": {
        "id": "a34068a5",
        "outputId": "166452a3-8858-4d5c-ecd2-2413f2d85ee6"
      },
      "outputs": [
        {
          "data": {
            "text/plain": [
              "[0, 1, 2, 3, 4, 5, 6, 7, 8, 9]"
            ]
          },
          "execution_count": 20,
          "metadata": {},
          "output_type": "execute_result"
        }
      ],
      "source": [
        "b"
      ]
    },
    {
      "cell_type": "code",
      "execution_count": null,
      "id": "963f6148",
      "metadata": {
        "id": "963f6148",
        "outputId": "ffe571e0-738b-4057-8171-be11b5dac7ec"
      },
      "outputs": [
        {
          "data": {
            "text/plain": [
              "[0, 1, 2, 3, 4, 100, 6, 7, 8, 9]"
            ]
          },
          "execution_count": 21,
          "metadata": {},
          "output_type": "execute_result"
        }
      ],
      "source": [
        "b[5] = 100\n",
        "b"
      ]
    },
    {
      "cell_type": "code",
      "execution_count": null,
      "id": "1362a6a8",
      "metadata": {
        "id": "1362a6a8",
        "outputId": "b926f209-c598-4448-d20b-c4e05bb7030e"
      },
      "outputs": [
        {
          "data": {
            "text/plain": [
              "[0, 1, 2, 3, 4, 100, 6, 7, 8, 9]"
            ]
          },
          "execution_count": 22,
          "metadata": {},
          "output_type": "execute_result"
        }
      ],
      "source": [
        "a"
      ]
    },
    {
      "cell_type": "code",
      "execution_count": null,
      "id": "c2d28b1d",
      "metadata": {
        "id": "c2d28b1d"
      },
      "outputs": [],
      "source": [
        "a = [1, \"apple\", 3.14, False]\n"
      ]
    },
    {
      "cell_type": "code",
      "execution_count": null,
      "id": "697908dc",
      "metadata": {
        "id": "697908dc",
        "outputId": "7d96484a-6786-4a4a-aaee-074ca827a133"
      },
      "outputs": [
        {
          "data": {
            "text/plain": [
              "'apple'"
            ]
          },
          "execution_count": 24,
          "metadata": {},
          "output_type": "execute_result"
        }
      ],
      "source": [
        "a.pop(1)"
      ]
    },
    {
      "cell_type": "code",
      "execution_count": null,
      "id": "5ab8b903",
      "metadata": {
        "id": "5ab8b903",
        "outputId": "038a8637-3222-4d59-940f-762e54d5c1fd"
      },
      "outputs": [
        {
          "data": {
            "text/plain": [
              "[1, 3.14, False]"
            ]
          },
          "execution_count": 25,
          "metadata": {},
          "output_type": "execute_result"
        }
      ],
      "source": [
        "a"
      ]
    },
    {
      "cell_type": "code",
      "execution_count": null,
      "id": "6a68408b",
      "metadata": {
        "id": "6a68408b",
        "outputId": "89d383e1-e436-4fa0-8fe7-a850c7e792a6"
      },
      "outputs": [
        {
          "data": {
            "text/plain": [
              "[1, 3.14, False]"
            ]
          },
          "execution_count": 26,
          "metadata": {},
          "output_type": "execute_result"
        }
      ],
      "source": [
        "a = [1, \"apple\", 3.14, False]\n",
        "a.remove(\"apple\")\n",
        "a"
      ]
    },
    {
      "cell_type": "code",
      "execution_count": null,
      "id": "81820181",
      "metadata": {
        "id": "81820181",
        "outputId": "dd9594e4-5f0f-43fb-e207-c065f26140eb"
      },
      "outputs": [
        {
          "data": {
            "text/plain": [
              "[1, 'apple', 3.14, False]"
            ]
          },
          "execution_count": 29,
          "metadata": {},
          "output_type": "execute_result"
        }
      ],
      "source": [
        "a = [1, \"apple\", \"apple\", 3.14, False]\n",
        "a.remove(\"apple\")\n",
        "a"
      ]
    },
    {
      "cell_type": "code",
      "execution_count": null,
      "id": "601b52ba",
      "metadata": {
        "id": "601b52ba"
      },
      "outputs": [],
      "source": [
        "a = [1, \"apple\", \"apple\", 3.14, False]\n",
        "a.remove(\"apple\")\n",
        "a"
      ]
    },
    {
      "cell_type": "code",
      "execution_count": null,
      "id": "7f911f42",
      "metadata": {
        "id": "7f911f42",
        "outputId": "43059910-1694-4a90-a336-60767e518d45"
      },
      "outputs": [
        {
          "data": {
            "text/plain": [
              "['닥터 스트레인지', '슈퍼맨', '스플릿', '럭키', '배트맨']"
            ]
          },
          "execution_count": 31,
          "metadata": {},
          "output_type": "execute_result"
        }
      ],
      "source": [
        "movie_rank = ['닥터 스트레인지', '스플릿', '럭키', '배트맨']\n",
        "movie_rank.insert(1, \"슈퍼맨\")\n",
        "movie_rank"
      ]
    },
    {
      "cell_type": "code",
      "execution_count": null,
      "id": "19b97616",
      "metadata": {
        "id": "19b97616",
        "outputId": "388c3255-3a4b-47e7-b2c3-44e5c1c88ab4"
      },
      "outputs": [
        {
          "name": "stdout",
          "output_type": "stream",
          "text": [
            "['삼성전자', 'Naver']\n"
          ]
        },
        {
          "data": {
            "text/plain": [
              "'삼성전자 Naver'"
            ]
          },
          "execution_count": 35,
          "metadata": {},
          "output_type": "execute_result"
        }
      ],
      "source": [
        "interest = ['삼성전자', 'LG전자', 'Naver']\n",
        "print(interest[::2])\n",
        "\" \".join(interest[::2])"
      ]
    },
    {
      "cell_type": "code",
      "execution_count": null,
      "id": "f847bd34",
      "metadata": {
        "id": "f847bd34",
        "outputId": "90023481-a9e9-496b-c77d-8d8aca741312"
      },
      "outputs": [
        {
          "data": {
            "text/plain": [
              "[1, 3, 5, 7, 9]"
            ]
          },
          "execution_count": 36,
          "metadata": {},
          "output_type": "execute_result"
        }
      ],
      "source": [
        "nums = [1, 2, 3, 4, 5, 6, 7, 8, 9, 10]\n",
        "nums[::2]"
      ]
    },
    {
      "cell_type": "code",
      "execution_count": null,
      "id": "04bec74d",
      "metadata": {
        "id": "04bec74d",
        "outputId": "276895e2-c2b1-46b3-96d7-ce91545e0f8d"
      },
      "outputs": [
        {
          "data": {
            "text/plain": [
              "[1, 3, 5, 7, 9]"
            ]
          },
          "execution_count": 37,
          "metadata": {},
          "output_type": "execute_result"
        }
      ],
      "source": [
        "nums[0:9:2]"
      ]
    },
    {
      "cell_type": "code",
      "execution_count": null,
      "id": "276d90ee",
      "metadata": {
        "id": "276d90ee",
        "outputId": "c3e6eeed-a79e-4845-cd13-170bd1752d52"
      },
      "outputs": [
        {
          "data": {
            "text/plain": [
              "[2, 4, 6, 8, 10]"
            ]
          },
          "execution_count": 38,
          "metadata": {},
          "output_type": "execute_result"
        }
      ],
      "source": [
        "nums[1::2]"
      ]
    },
    {
      "cell_type": "code",
      "execution_count": null,
      "id": "3c44b814",
      "metadata": {
        "id": "3c44b814",
        "outputId": "7a877545-a74c-4014-935d-60ca58bef89a"
      },
      "outputs": [
        {
          "name": "stdout",
          "output_type": "stream",
          "text": [
            "숫자를 입력해주세요 : 20\n"
          ]
        },
        {
          "data": {
            "text/plain": [
              "[2, 4, 6, 8, 10, 12, 14, 16, 18, 20, 20]"
            ]
          },
          "execution_count": 58,
          "metadata": {},
          "output_type": "execute_result"
        }
      ],
      "source": [
        "num = input(\"숫자를 입력해주세요 : \")\n",
        "num = int(num)\n",
        "new_list = list(range(2,num+1,2))\n",
        "new_list.append(num)\n",
        "new_list"
      ]
    },
    {
      "cell_type": "code",
      "execution_count": null,
      "id": "4536a967",
      "metadata": {
        "id": "4536a967",
        "outputId": "77c6eede-a031-4f88-8145-29c14be83017"
      },
      "outputs": [
        {
          "data": {
            "text/plain": [
              "[5, 4, 3, 2, 1]"
            ]
          },
          "execution_count": 60,
          "metadata": {},
          "output_type": "execute_result"
        }
      ],
      "source": [
        "nums = [1, 2, 3, 4, 5]\n",
        "nums.reverse()\n",
        "nums"
      ]
    },
    {
      "cell_type": "code",
      "execution_count": null,
      "id": "3a0e450c",
      "metadata": {
        "id": "3a0e450c",
        "outputId": "77c64202-18d5-484d-d99a-25b21ee0305a"
      },
      "outputs": [
        {
          "data": {
            "text/plain": [
              "[5, 4, 3, 2, 1]"
            ]
          },
          "execution_count": 61,
          "metadata": {},
          "output_type": "execute_result"
        }
      ],
      "source": [
        "숫자 = [1, 2, 3, 4, 5]\n",
        "숫자.reverse()\n",
        "숫자"
      ]
    },
    {
      "cell_type": "code",
      "execution_count": null,
      "id": "4ed99698",
      "metadata": {
        "id": "4ed99698",
        "outputId": "4675d3c5-82de-4a5f-9e86-efa699930223"
      },
      "outputs": [
        {
          "data": {
            "text/plain": [
              "[2, 4, 6, 8, 10, 10]"
            ]
          },
          "execution_count": 57,
          "metadata": {},
          "output_type": "execute_result"
        }
      ],
      "source": [
        ""
      ]
    },
    {
      "cell_type": "code",
      "execution_count": null,
      "id": "33b60546",
      "metadata": {
        "id": "33b60546",
        "outputId": "1c6ffdf7-aea6-4b80-d350-672660e087e7"
      },
      "outputs": [
        {
          "data": {
            "text/plain": [
              "{'name': 'Tom', 'math': 80, 'english': 70}"
            ]
          },
          "execution_count": 62,
          "metadata": {},
          "output_type": "execute_result"
        }
      ],
      "source": [
        "score = {\"name\":\"Tom\", \"math\": 80, \"english\" : 70}\n",
        "score"
      ]
    },
    {
      "cell_type": "code",
      "execution_count": null,
      "id": "c51095e0",
      "metadata": {
        "id": "c51095e0",
        "outputId": "b316043e-eb30-4dc6-9880-ebc672a1de81"
      },
      "outputs": [
        {
          "data": {
            "text/plain": [
              "{'name': 'Tom', 'math': 80, 'english': 70}"
            ]
          },
          "execution_count": 63,
          "metadata": {},
          "output_type": "execute_result"
        }
      ],
      "source": [
        "score2 = dict(name=\"Tom\", math=80, english=70)\n",
        "score2"
      ]
    },
    {
      "cell_type": "code",
      "execution_count": null,
      "id": "d53ba0c2",
      "metadata": {
        "scrolled": true,
        "id": "d53ba0c2",
        "outputId": "0afbfcc4-5f97-4a0f-cf46-fa9dd9ccc738"
      },
      "outputs": [
        {
          "ename": "SyntaxError",
          "evalue": "expression cannot contain assignment, perhaps you meant \"==\"? (Temp/ipykernel_5420/2234723070.py, line 1)",
          "output_type": "error",
          "traceback": [
            "\u001b[1;36m  File \u001b[1;32m\"C:\\Users\\student\\AppData\\Local\\Temp/ipykernel_5420/2234723070.py\"\u001b[1;36m, line \u001b[1;32m1\u001b[0m\n\u001b[1;33m    score2 = dict(\"name\"=\"Tom\", math=80, english=70)\u001b[0m\n\u001b[1;37m                  ^\u001b[0m\n\u001b[1;31mSyntaxError\u001b[0m\u001b[1;31m:\u001b[0m expression cannot contain assignment, perhaps you meant \"==\"?\n"
          ]
        }
      ],
      "source": [
        "score2 = dict(\"name\"=\"Tom\", math=80, english=70)"
      ]
    },
    {
      "cell_type": "code",
      "execution_count": null,
      "id": "f3fd6f35",
      "metadata": {
        "id": "f3fd6f35"
      },
      "outputs": [],
      "source": [
        "score['name'] = \"Michael\""
      ]
    },
    {
      "cell_type": "code",
      "execution_count": null,
      "id": "b79813a1",
      "metadata": {
        "id": "b79813a1",
        "outputId": "6f59ee8b-2499-438e-9774-d2ea1fb003e8"
      },
      "outputs": [
        {
          "data": {
            "text/plain": [
              "{'name': 'Michael', 'math': 80, 'english': 70}"
            ]
          },
          "execution_count": 66,
          "metadata": {},
          "output_type": "execute_result"
        }
      ],
      "source": [
        "score"
      ]
    },
    {
      "cell_type": "code",
      "execution_count": null,
      "id": "aeff88f8",
      "metadata": {
        "id": "aeff88f8"
      },
      "outputs": [],
      "source": [
        "score['Korean'] = 90"
      ]
    },
    {
      "cell_type": "code",
      "execution_count": null,
      "id": "b80a7890",
      "metadata": {
        "id": "b80a7890",
        "outputId": "fc670d3e-ab3a-42a7-d6b7-43d2988cdbe5"
      },
      "outputs": [
        {
          "data": {
            "text/plain": [
              "{'name': 'Michael', 'math': 80, 'english': 70, 'Korean': 90}"
            ]
          },
          "execution_count": 68,
          "metadata": {},
          "output_type": "execute_result"
        }
      ],
      "source": [
        "score"
      ]
    },
    {
      "cell_type": "code",
      "execution_count": null,
      "id": "3ad3297e",
      "metadata": {
        "id": "3ad3297e"
      },
      "outputs": [],
      "source": [
        "score3 = {80:\"Tom\", \"math\": 80, \"english\" : 70}"
      ]
    },
    {
      "cell_type": "code",
      "execution_count": null,
      "id": "2207497d",
      "metadata": {
        "id": "2207497d",
        "outputId": "49294dfb-0d8a-4504-9e88-9b8bce33f7fd"
      },
      "outputs": [
        {
          "data": {
            "text/plain": [
              "{80: 'Tom', 'math': 80, 'english': 70}"
            ]
          },
          "execution_count": 70,
          "metadata": {},
          "output_type": "execute_result"
        }
      ],
      "source": [
        "score3"
      ]
    },
    {
      "cell_type": "code",
      "execution_count": null,
      "id": "2393a205",
      "metadata": {
        "id": "2393a205",
        "outputId": "ac7ff5bb-8b03-4baf-a946-082a44ef4697"
      },
      "outputs": [
        {
          "data": {
            "text/plain": [
              "True"
            ]
          },
          "execution_count": 71,
          "metadata": {},
          "output_type": "execute_result"
        }
      ],
      "source": [
        "\"math\" in score"
      ]
    },
    {
      "cell_type": "code",
      "execution_count": null,
      "id": "49743dfc",
      "metadata": {
        "id": "49743dfc",
        "outputId": "514ab2fc-a471-4d4b-aabf-4a6fe9f19d6c"
      },
      "outputs": [
        {
          "data": {
            "text/plain": [
              "False"
            ]
          },
          "execution_count": 72,
          "metadata": {},
          "output_type": "execute_result"
        }
      ],
      "source": [
        "70 in score"
      ]
    },
    {
      "cell_type": "code",
      "execution_count": null,
      "id": "bdb2528c",
      "metadata": {
        "id": "bdb2528c"
      },
      "outputs": [],
      "source": [
        "score['Science'] = 90"
      ]
    },
    {
      "cell_type": "code",
      "execution_count": null,
      "id": "41a97fc6",
      "metadata": {
        "id": "41a97fc6"
      },
      "outputs": [],
      "source": [
        "score.update({\"Science\": 90})"
      ]
    },
    {
      "cell_type": "code",
      "execution_count": null,
      "id": "5d25f69d",
      "metadata": {
        "id": "5d25f69d",
        "outputId": "66e601db-eb83-434d-bba2-dc32daecec91"
      },
      "outputs": [
        {
          "data": {
            "text/plain": [
              "{'name': 'Michael', 'math': 80, 'english': 70, 'Science': 90, 'Korean': 90}"
            ]
          },
          "execution_count": 87,
          "metadata": {},
          "output_type": "execute_result"
        }
      ],
      "source": [
        "score"
      ]
    },
    {
      "cell_type": "code",
      "execution_count": null,
      "id": "35ebe701",
      "metadata": {
        "id": "35ebe701",
        "outputId": "ddc4a16b-ef27-4873-8cac-9581e19829b0"
      },
      "outputs": [
        {
          "data": {
            "text/plain": [
              "90"
            ]
          },
          "execution_count": 75,
          "metadata": {},
          "output_type": "execute_result"
        }
      ],
      "source": [
        "score.pop(\"Science\")"
      ]
    },
    {
      "cell_type": "code",
      "execution_count": null,
      "id": "fce8a9e1",
      "metadata": {
        "id": "fce8a9e1"
      },
      "outputs": [],
      "source": [
        "del score['Korean']"
      ]
    },
    {
      "cell_type": "code",
      "execution_count": null,
      "id": "627a6573",
      "metadata": {
        "id": "627a6573",
        "outputId": "02a7eb4f-4e3e-4f8c-a759-3f6577965834"
      },
      "outputs": [
        {
          "data": {
            "text/plain": [
              "{'name': 'Michael', 'math': 80, 'english': 70}"
            ]
          },
          "execution_count": 90,
          "metadata": {},
          "output_type": "execute_result"
        }
      ],
      "source": [
        "score"
      ]
    },
    {
      "cell_type": "code",
      "execution_count": null,
      "id": "208330fa",
      "metadata": {
        "id": "208330fa",
        "outputId": "d6ef0f01-2e23-4a87-b46d-3d6e12561057"
      },
      "outputs": [
        {
          "ename": "KeyError",
          "evalue": "'Science'",
          "output_type": "error",
          "traceback": [
            "\u001b[1;31m---------------------------------------------------------------------------\u001b[0m",
            "\u001b[1;31mKeyError\u001b[0m                                  Traceback (most recent call last)",
            "\u001b[1;32m~\\AppData\\Local\\Temp/ipykernel_5420/3805104808.py\u001b[0m in \u001b[0;36m<module>\u001b[1;34m\u001b[0m\n\u001b[1;32m----> 1\u001b[1;33m \u001b[0mscore\u001b[0m\u001b[1;33m.\u001b[0m\u001b[0mpop\u001b[0m\u001b[1;33m(\u001b[0m\u001b[1;34m\"Science\"\u001b[0m\u001b[1;33m)\u001b[0m\u001b[1;33m\u001b[0m\u001b[1;33m\u001b[0m\u001b[0m\n\u001b[0m",
            "\u001b[1;31mKeyError\u001b[0m: 'Science'"
          ]
        }
      ],
      "source": [
        "score.pop(\"Science\")"
      ]
    },
    {
      "cell_type": "code",
      "execution_count": null,
      "id": "6580bcef",
      "metadata": {
        "id": "6580bcef",
        "outputId": "50b2e94b-9b17-44f4-f0e3-6c8f4265532f"
      },
      "outputs": [
        {
          "data": {
            "text/plain": [
              "'error'"
            ]
          },
          "execution_count": 94,
          "metadata": {},
          "output_type": "execute_result"
        }
      ],
      "source": [
        "score.pop(\"Science\", \"error\")"
      ]
    },
    {
      "cell_type": "code",
      "execution_count": null,
      "id": "4f532d51",
      "metadata": {
        "id": "4f532d51",
        "outputId": "436c5dfd-950c-418c-cf5e-bcb9ae9ed7a6"
      },
      "outputs": [
        {
          "ename": "KeyError",
          "evalue": "'Korean'",
          "output_type": "error",
          "traceback": [
            "\u001b[1;31m---------------------------------------------------------------------------\u001b[0m",
            "\u001b[1;31mKeyError\u001b[0m                                  Traceback (most recent call last)",
            "\u001b[1;32m~\\AppData\\Local\\Temp/ipykernel_5420/1266658150.py\u001b[0m in \u001b[0;36m<module>\u001b[1;34m\u001b[0m\n\u001b[1;32m----> 1\u001b[1;33m \u001b[1;32mdel\u001b[0m \u001b[0mscore\u001b[0m\u001b[1;33m[\u001b[0m\u001b[1;34m'Korean'\u001b[0m\u001b[1;33m]\u001b[0m\u001b[1;33m\u001b[0m\u001b[1;33m\u001b[0m\u001b[0m\n\u001b[0m",
            "\u001b[1;31mKeyError\u001b[0m: 'Korean'"
          ]
        }
      ],
      "source": [
        "del score['Korean']"
      ]
    },
    {
      "cell_type": "code",
      "execution_count": null,
      "id": "41a64c45",
      "metadata": {
        "id": "41a64c45",
        "outputId": "0b2137e9-fbb7-4b62-eea7-4b9245a27d5d"
      },
      "outputs": [
        {
          "data": {
            "text/plain": [
              "{'name': 'Michael', 'math': 80, 'english': 70}"
            ]
          },
          "execution_count": 82,
          "metadata": {},
          "output_type": "execute_result"
        }
      ],
      "source": [
        "score"
      ]
    },
    {
      "cell_type": "code",
      "execution_count": null,
      "id": "6f690649",
      "metadata": {
        "id": "6f690649",
        "outputId": "564cd8a2-9a0c-4da1-b98f-655df66b1fe5"
      },
      "outputs": [
        {
          "data": {
            "text/plain": [
              "{}"
            ]
          },
          "execution_count": 95,
          "metadata": {},
          "output_type": "execute_result"
        }
      ],
      "source": [
        "score.clear()\n",
        "score"
      ]
    },
    {
      "cell_type": "code",
      "execution_count": null,
      "id": "aff0c21e",
      "metadata": {
        "id": "aff0c21e"
      },
      "outputs": [],
      "source": [
        "score = dict(name=\"Tom\", math=80, english=70)"
      ]
    },
    {
      "cell_type": "code",
      "execution_count": null,
      "id": "35aae373",
      "metadata": {
        "id": "35aae373",
        "outputId": "6fb47a5f-12cb-4256-8bc1-d9f96e32599d"
      },
      "outputs": [
        {
          "data": {
            "text/plain": [
              "['name', 'math', 'english']"
            ]
          },
          "execution_count": 101,
          "metadata": {},
          "output_type": "execute_result"
        }
      ],
      "source": [
        "list(score.keys())"
      ]
    },
    {
      "cell_type": "code",
      "execution_count": null,
      "id": "e602c51a",
      "metadata": {
        "id": "e602c51a",
        "outputId": "094d196a-a2ce-4673-9aff-f4be53f4a9ce"
      },
      "outputs": [
        {
          "data": {
            "text/plain": [
              "'math'"
            ]
          },
          "execution_count": 102,
          "metadata": {},
          "output_type": "execute_result"
        }
      ],
      "source": [
        "list(score.keys())[1]"
      ]
    },
    {
      "cell_type": "code",
      "execution_count": null,
      "id": "8bcd5f1c",
      "metadata": {
        "id": "8bcd5f1c",
        "outputId": "3eab07bf-4ef8-4790-9674-312915d10068"
      },
      "outputs": [
        {
          "data": {
            "text/plain": [
              "['Tom', 80, 70]"
            ]
          },
          "execution_count": 104,
          "metadata": {},
          "output_type": "execute_result"
        }
      ],
      "source": [
        "list(score.values())"
      ]
    },
    {
      "cell_type": "code",
      "execution_count": null,
      "id": "f51ecce1",
      "metadata": {
        "id": "f51ecce1",
        "outputId": "90fd7061-2e8e-4916-e0e9-5a376c3e4d96"
      },
      "outputs": [
        {
          "data": {
            "text/plain": [
              "[('name', 'Tom'), ('math', 80), ('english', 70)]"
            ]
          },
          "execution_count": 105,
          "metadata": {},
          "output_type": "execute_result"
        }
      ],
      "source": [
        "list(score.items())"
      ]
    },
    {
      "cell_type": "code",
      "execution_count": null,
      "id": "adb75c74",
      "metadata": {
        "id": "adb75c74",
        "outputId": "32caafa8-2210-4da8-96a7-848d05da2504"
      },
      "outputs": [
        {
          "data": {
            "text/plain": [
              "{'name': 'Tom', 'math': 80, 'english': 70}"
            ]
          },
          "execution_count": 116,
          "metadata": {},
          "output_type": "execute_result"
        }
      ],
      "source": [
        "score"
      ]
    },
    {
      "cell_type": "code",
      "execution_count": null,
      "id": "be293997",
      "metadata": {
        "id": "be293997",
        "outputId": "321d04cf-dc6d-4e63-d6e6-08aa2733cf54"
      },
      "outputs": [
        {
          "data": {
            "text/plain": [
              "{'name': 'Kyungsoo', 'math': 80, 'english': 70}"
            ]
          },
          "execution_count": 120,
          "metadata": {},
          "output_type": "execute_result"
        }
      ],
      "source": [
        "score2 = score\n",
        "score2['name'] = \"Kyungsoo\"\n",
        "score"
      ]
    },
    {
      "cell_type": "code",
      "execution_count": null,
      "id": "0d55e480",
      "metadata": {
        "id": "0d55e480",
        "outputId": "6e037832-abc2-4cda-ed51-473cd552d8c9"
      },
      "outputs": [
        {
          "data": {
            "text/plain": [
              "{'name': 'Tom', 'math': 80, 'english': 70}"
            ]
          },
          "execution_count": 121,
          "metadata": {},
          "output_type": "execute_result"
        }
      ],
      "source": [
        "score = dict(name=\"Tom\", math=80, english=70)\n",
        "score2 = score.copy()\n",
        "score2['name'] = 'Kyungsoo'\n",
        "score"
      ]
    },
    {
      "cell_type": "code",
      "execution_count": null,
      "id": "df9fb01f",
      "metadata": {
        "id": "df9fb01f",
        "outputId": "8894109f-5864-43e8-e9e6-15e3c16ad7d8"
      },
      "outputs": [
        {
          "name": "stdout",
          "output_type": "stream",
          "text": [
            "['사과', '배', '옥수수', '당근']\n"
          ]
        }
      ],
      "source": [
        "fruit = \"사과,배,옥수수,당근\"\n",
        "fruit_list = fruit.split(\",\")\n",
        "print(fruit_list)"
      ]
    },
    {
      "cell_type": "code",
      "execution_count": null,
      "id": "15f13672",
      "metadata": {
        "id": "15f13672",
        "outputId": "d3824391-c703-4931-be74-446240df6888"
      },
      "outputs": [
        {
          "name": "stdout",
          "output_type": "stream",
          "text": [
            "['사과,배,옥수수,당근']\n"
          ]
        }
      ],
      "source": [
        "fruit = \"사과,배,옥수수,당근\"\n",
        "fruit_list = fruit.split()\n",
        "print(fruit_list)"
      ]
    },
    {
      "cell_type": "code",
      "execution_count": null,
      "id": "1c737444",
      "metadata": {
        "id": "1c737444",
        "outputId": "7c7cf677-2b64-48a1-b443-03aecf9d1698"
      },
      "outputs": [
        {
          "data": {
            "text/plain": [
              "'사과배옥수수당근'"
            ]
          },
          "execution_count": 129,
          "metadata": {},
          "output_type": "execute_result"
        }
      ],
      "source": [
        "fruit_list = ['사과', '배', '옥수수', '당근']\n",
        "\"\".join(fruit_list)"
      ]
    },
    {
      "cell_type": "code",
      "execution_count": null,
      "id": "dddbb5a7",
      "metadata": {
        "id": "dddbb5a7",
        "outputId": "89a8cda5-e7d1-48c3-bc86-6cba86b78183"
      },
      "outputs": [
        {
          "data": {
            "text/plain": [
              "'사과 배 옥수수 당근'"
            ]
          },
          "execution_count": 130,
          "metadata": {},
          "output_type": "execute_result"
        }
      ],
      "source": [
        "fruit_list = ['사과', '배', '옥수수', '당근']\n",
        "\" \".join(fruit_list)"
      ]
    },
    {
      "cell_type": "code",
      "execution_count": null,
      "id": "238603c3",
      "metadata": {
        "id": "238603c3",
        "outputId": "9a14be54-9489-48f3-f4f2-5753b231f514"
      },
      "outputs": [
        {
          "data": {
            "text/plain": [
              "'사과, 배, 옥수수, 당근'"
            ]
          },
          "execution_count": 133,
          "metadata": {},
          "output_type": "execute_result"
        }
      ],
      "source": [
        "fruit_list = ['사과', '배', '옥수수', '당근']\n",
        "\", \".join(fruit_list)"
      ]
    },
    {
      "cell_type": "code",
      "execution_count": null,
      "id": "30476dd9",
      "metadata": {
        "id": "30476dd9",
        "outputId": "9d33f100-95a0-4c3f-b417-1527e429635b"
      },
      "outputs": [
        {
          "data": {
            "text/plain": [
              "'삼성전자 Naver'"
            ]
          },
          "execution_count": 128,
          "metadata": {},
          "output_type": "execute_result"
        }
      ],
      "source": [
        "interest = ['삼성전자', 'LG전자', 'Naver']\n",
        "\" \".join(interest[::2])"
      ]
    },
    {
      "cell_type": "code",
      "execution_count": null,
      "id": "9a34c6ad",
      "metadata": {
        "id": "9a34c6ad"
      },
      "outputs": [],
      "source": [
        "inventory = dict(메로나 = [300, 20], \n",
        "             비비빅 = [400, 3], \n",
        "             죠스바 =  [250, 100])\n"
      ]
    },
    {
      "cell_type": "code",
      "execution_count": null,
      "id": "74862f8b",
      "metadata": {
        "id": "74862f8b",
        "outputId": "899632ff-ce56-47df-bb34-aaba09f8f346"
      },
      "outputs": [
        {
          "data": {
            "text/plain": [
              "{'메로나': [300, 20], '비비빅': [400, 3], '죠스바': [250, 100]}"
            ]
          },
          "execution_count": 137,
          "metadata": {},
          "output_type": "execute_result"
        }
      ],
      "source": [
        "inventory"
      ]
    },
    {
      "cell_type": "code",
      "execution_count": null,
      "id": "d71d2844",
      "metadata": {
        "id": "d71d2844"
      },
      "outputs": [],
      "source": [
        "inventory = {\"메로나\": [300, 20], \n",
        "             \"비비빅\": [400, 3], \n",
        "             \"죠스바\": [250, 100]}\n"
      ]
    },
    {
      "cell_type": "code",
      "execution_count": null,
      "id": "1235a2b1",
      "metadata": {
        "id": "1235a2b1"
      },
      "outputs": [],
      "source": [
        "\n",
        "ice = {\"메로나\": 1000,\n",
        "       \"폴로포\": 1200,\n",
        "       \"빵빠레\": 1800,\n",
        "       \"죠스바\": 1200,\n",
        "       \"월드콘\": 1500}\n",
        "\n",
        "\n"
      ]
    },
    {
      "cell_type": "code",
      "execution_count": null,
      "id": "6184a3a8",
      "metadata": {
        "id": "6184a3a8",
        "outputId": "de25fee5-525b-40f4-d0f0-78695b30f8b9"
      },
      "outputs": [
        {
          "data": {
            "text/plain": [
              "1000"
            ]
          },
          "execution_count": 142,
          "metadata": {},
          "output_type": "execute_result"
        }
      ],
      "source": [
        "list(ice.values())[0]"
      ]
    },
    {
      "cell_type": "code",
      "execution_count": null,
      "id": "3dd4cc2c",
      "metadata": {
        "id": "3dd4cc2c",
        "outputId": "3aa0f9a0-b350-4339-c72e-9f0200d403be"
      },
      "outputs": [
        {
          "data": {
            "text/plain": [
              "'메로나'"
            ]
          },
          "execution_count": 143,
          "metadata": {},
          "output_type": "execute_result"
        }
      ],
      "source": [
        "list(ice.keys())[0]"
      ]
    },
    {
      "cell_type": "code",
      "execution_count": null,
      "id": "01824100",
      "metadata": {
        "id": "01824100",
        "outputId": "42cf882f-2e3e-4be4-e0f2-8cf69f8506e6"
      },
      "outputs": [
        {
          "name": "stdout",
          "output_type": "stream",
          "text": [
            "메로나 가격 : 1000\n"
          ]
        }
      ],
      "source": [
        "print(\"{} 가격 : {}\".format(list(ice.keys())[0],list(ice.values())[0]))\n"
      ]
    },
    {
      "cell_type": "code",
      "execution_count": null,
      "id": "7e3533f2",
      "metadata": {
        "id": "7e3533f2",
        "outputId": "30cf1222-3fd5-44ab-bde0-927d5cdcac49"
      },
      "outputs": [
        {
          "name": "stdout",
          "output_type": "stream",
          "text": [
            "메로나 가격 : 1000\n"
          ]
        }
      ],
      "source": [
        "kind = list(ice.keys())[0]\n",
        "price = list(ice.values())[0]\n",
        "\n",
        "print(f\"{kind} 가격 : {price}\")"
      ]
    },
    {
      "cell_type": "code",
      "execution_count": null,
      "id": "9d768a2c",
      "metadata": {
        "id": "9d768a2c",
        "outputId": "e4fdadab-7b13-4b81-8e88-d73c0f4e03bc"
      },
      "outputs": [
        {
          "name": "stdout",
          "output_type": "stream",
          "text": [
            "{'메로나': 1000, '폴로포': 1200, '빵빠레': 1800, '죠스바': 1200, '월드콘': 1500}\n"
          ]
        }
      ],
      "source": [
        "print(f\"{ice}\")"
      ]
    },
    {
      "cell_type": "code",
      "execution_count": null,
      "id": "7064997b",
      "metadata": {
        "id": "7064997b",
        "outputId": "64148af2-3298-45fa-97f5-4a5c7ccf745f"
      },
      "outputs": [
        {
          "name": "stdout",
          "output_type": "stream",
          "text": [
            "{'메로나': [300, 20], '비비빅': [400, 3], '죠스바': [250, 100], '월드콘': [500, 7]}\n"
          ]
        }
      ],
      "source": [
        "inventory = {\"메로나\": [300, 20],\n",
        "              \"비비빅\": [400, 3],\n",
        "              \"죠스바\": [250, 100]}\n",
        "inventory.setdefault(\"월드콘\",[500, 7])\n",
        "print(inventroy)\n"
      ]
    },
    {
      "cell_type": "code",
      "execution_count": null,
      "id": "1eb30a55",
      "metadata": {
        "id": "1eb30a55",
        "outputId": "4c96f7a7-e6c8-4336-83c9-dc9d943c8075"
      },
      "outputs": [
        {
          "name": "stdout",
          "output_type": "stream",
          "text": [
            "이름을 입력해주세요: 홍길동\n",
            "나이를 입력해주세요: 27\n",
            "연락처를 입력해주세요: 010-111-1111\n"
          ]
        }
      ],
      "source": [
        "name = input(\"이름을 입력해주세요: \")\n",
        "age = input(\"나이를 입력해주세요: \")\n",
        "\n",
        "phone = input(\"연락처를 입력해주세요: \")\n",
        "result1 = {\"이름\":name, \"나이\":age, \"연락처\":phone}"
      ]
    },
    {
      "cell_type": "code",
      "execution_count": null,
      "id": "5c7dab9b",
      "metadata": {
        "id": "5c7dab9b",
        "outputId": "28c61640-20a3-42e5-9a01-fb989d9ef19b"
      },
      "outputs": [
        {
          "data": {
            "text/plain": [
              "{'이름': '홍길동', '나이': '27', '연락처': '010-111-1111'}"
            ]
          },
          "execution_count": 152,
          "metadata": {},
          "output_type": "execute_result"
        }
      ],
      "source": [
        "result1"
      ]
    },
    {
      "cell_type": "code",
      "execution_count": null,
      "id": "d92b2cac",
      "metadata": {
        "id": "d92b2cac",
        "outputId": "d7d5b668-c478-45b1-d7f6-1a32d61aa5e7"
      },
      "outputs": [
        {
          "name": "stdout",
          "output_type": "stream",
          "text": [
            "이름을 입력해주세요: 홍길동\n",
            "나이를 입력해주세요: 27\n",
            "연락처를 입력해주세요: 010-1111-111\n",
            "이름을 입력해주세요: 이몽룡\n",
            "나이를 입력해주세요: 30\n",
            "연락처를 입력해주세요: 010-2222-2222\n"
          ]
        }
      ],
      "source": [
        "total_list = []\n",
        "\n",
        "name = input(\"이름을 입력해주세요: \")\n",
        "age = input(\"나이를 입력해주세요: \")\n",
        "phone = input(\"연락처를 입력해주세요: \")\n",
        "total_list.append({\"이름\":name, \"나이\":age, \"연락처\":phone})\n",
        "\n",
        "name = input(\"이름을 입력해주세요: \")\n",
        "age = input(\"나이를 입력해주세요: \")\n",
        "phone = input(\"연락처를 입력해주세요: \")\n",
        "total_list.append({\"이름\":name, \"나이\":age, \"연락처\":phone})\n",
        "\n"
      ]
    },
    {
      "cell_type": "code",
      "execution_count": null,
      "id": "36a9f314",
      "metadata": {
        "id": "36a9f314",
        "outputId": "24bad819-bc6f-4404-809a-135e00b9f51e"
      },
      "outputs": [
        {
          "data": {
            "text/plain": [
              "[{'이름': '홍길동', '나이': '27', '연락처': '010-1111-111'},\n",
              " {'이름': '이몽룡', '나이': '30', '연락처': '010-2222-2222'}]"
            ]
          },
          "execution_count": 154,
          "metadata": {},
          "output_type": "execute_result"
        }
      ],
      "source": [
        "total_list"
      ]
    },
    {
      "cell_type": "code",
      "execution_count": null,
      "id": "c9d7c3b9",
      "metadata": {
        "id": "c9d7c3b9",
        "outputId": "93bf187d-a6e6-417a-8eb6-8297573e4180"
      },
      "outputs": [
        {
          "data": {
            "text/plain": [
              "{'a', 'i', 'l', 'm', 'n'}"
            ]
          },
          "execution_count": 155,
          "metadata": {},
          "output_type": "execute_result"
        }
      ],
      "source": [
        "a = set(\"animal\")\n",
        "a"
      ]
    },
    {
      "cell_type": "code",
      "execution_count": null,
      "id": "e85a5144",
      "metadata": {
        "id": "e85a5144",
        "outputId": "640e9f42-7894-41a5-a379-ca27805bfb29"
      },
      "outputs": [
        {
          "data": {
            "text/plain": [
              "{2, 3, 4}"
            ]
          },
          "execution_count": 156,
          "metadata": {},
          "output_type": "execute_result"
        }
      ],
      "source": [
        "a = {1, 2, 3, 4}\n",
        "a.remove(1)\n",
        "a"
      ]
    },
    {
      "cell_type": "code",
      "execution_count": null,
      "id": "192e7d89",
      "metadata": {
        "id": "192e7d89",
        "outputId": "2383bbd2-9dc1-49e5-d8e9-f000f4f420e6"
      },
      "outputs": [
        {
          "data": {
            "text/plain": [
              "{2, 3, 4}"
            ]
          },
          "execution_count": 157,
          "metadata": {},
          "output_type": "execute_result"
        }
      ],
      "source": [
        "a = {1, 2, 3, 4}\n",
        "a.discard(1)\n",
        "a"
      ]
    },
    {
      "cell_type": "code",
      "execution_count": null,
      "id": "b7541f12",
      "metadata": {
        "id": "b7541f12",
        "outputId": "052c7ac0-564c-4d12-a7d6-e0d9000fb71a"
      },
      "outputs": [
        {
          "ename": "KeyError",
          "evalue": "5",
          "output_type": "error",
          "traceback": [
            "\u001b[1;31m---------------------------------------------------------------------------\u001b[0m",
            "\u001b[1;31mKeyError\u001b[0m                                  Traceback (most recent call last)",
            "\u001b[1;32m~\\AppData\\Local\\Temp/ipykernel_5420/2215079093.py\u001b[0m in \u001b[0;36m<module>\u001b[1;34m\u001b[0m\n\u001b[0;32m      1\u001b[0m \u001b[0ma\u001b[0m \u001b[1;33m=\u001b[0m \u001b[1;33m{\u001b[0m\u001b[1;36m1\u001b[0m\u001b[1;33m,\u001b[0m \u001b[1;36m2\u001b[0m\u001b[1;33m,\u001b[0m \u001b[1;36m3\u001b[0m\u001b[1;33m,\u001b[0m \u001b[1;36m4\u001b[0m\u001b[1;33m}\u001b[0m\u001b[1;33m\u001b[0m\u001b[1;33m\u001b[0m\u001b[0m\n\u001b[1;32m----> 2\u001b[1;33m \u001b[0ma\u001b[0m\u001b[1;33m.\u001b[0m\u001b[0mremove\u001b[0m\u001b[1;33m(\u001b[0m\u001b[1;36m5\u001b[0m\u001b[1;33m)\u001b[0m\u001b[1;33m\u001b[0m\u001b[1;33m\u001b[0m\u001b[0m\n\u001b[0m\u001b[0;32m      3\u001b[0m \u001b[0ma\u001b[0m\u001b[1;33m\u001b[0m\u001b[1;33m\u001b[0m\u001b[0m\n",
            "\u001b[1;31mKeyError\u001b[0m: 5"
          ]
        }
      ],
      "source": [
        "a = {1, 2, 3, 4}\n",
        "a.remove(5)\n",
        "a"
      ]
    },
    {
      "cell_type": "code",
      "execution_count": null,
      "id": "6104c949",
      "metadata": {
        "id": "6104c949",
        "outputId": "784f2140-0c9a-4769-bf9e-89a04da75929"
      },
      "outputs": [
        {
          "data": {
            "text/plain": [
              "{1, 2, 3, 4}"
            ]
          },
          "execution_count": 159,
          "metadata": {},
          "output_type": "execute_result"
        }
      ],
      "source": [
        "a = {1, 2, 3, 4}\n",
        "a.discard(5)\n",
        "a"
      ]
    },
    {
      "cell_type": "code",
      "execution_count": null,
      "id": "82d7de52",
      "metadata": {
        "id": "82d7de52",
        "outputId": "0a682cfb-e66e-461f-9172-a24b5aa3b7c6"
      },
      "outputs": [
        {
          "name": "stdout",
          "output_type": "stream",
          "text": [
            "{1, 2, 3, 4}\n",
            "{1, 2, 3, 4}\n"
          ]
        }
      ],
      "source": [
        "if True:\n",
        "    #code\n",
        "    c = {1, 2, 3, 4}\n",
        "    c.discard(5)\n",
        "    print(c)\n",
        "\n",
        "print(c)\n",
        "    "
      ]
    },
    {
      "cell_type": "code",
      "execution_count": null,
      "id": "ef2a130e",
      "metadata": {
        "id": "ef2a130e",
        "outputId": "39719635-be5b-48e4-abaf-6daaaa9857da"
      },
      "outputs": [
        {
          "name": "stdout",
          "output_type": "stream",
          "text": [
            "{1, 2, 3, 4}\n"
          ]
        }
      ],
      "source": [
        "if True:\n",
        "    #a를 크게하자\n",
        "    pass\n",
        "    \n",
        "print(c)"
      ]
    },
    {
      "cell_type": "code",
      "execution_count": null,
      "id": "dca282ac",
      "metadata": {
        "id": "dca282ac",
        "outputId": "7e8b37cf-fb61-43c6-9848-f74088bc271b"
      },
      "outputs": [
        {
          "ename": "SyntaxError",
          "evalue": "invalid syntax (Temp/ipykernel_5420/3067905735.py, line 3)",
          "output_type": "error",
          "traceback": [
            "\u001b[1;36m  File \u001b[1;32m\"C:\\Users\\student\\AppData\\Local\\Temp/ipykernel_5420/3067905735.py\"\u001b[1;36m, line \u001b[1;32m3\u001b[0m\n\u001b[1;33m    if x = 'A':\u001b[0m\n\u001b[1;37m         ^\u001b[0m\n\u001b[1;31mSyntaxError\u001b[0m\u001b[1;31m:\u001b[0m invalid syntax\n"
          ]
        }
      ],
      "source": [
        "x = 'C'\n",
        "\n",
        "if x == 'A':\n",
        "    print('x 는 A')\n",
        "elif x == 'C':\n",
        "    print('x는 C')"
      ]
    },
    {
      "cell_type": "code",
      "execution_count": null,
      "id": "c57d97b7",
      "metadata": {
        "id": "c57d97b7",
        "outputId": "88567a38-f5b9-4a85-ded0-ff3c99cdeb77"
      },
      "outputs": [
        {
          "name": "stdout",
          "output_type": "stream",
          "text": [
            "x는 C\n"
          ]
        }
      ],
      "source": [
        "x = 'C'\n",
        "\n",
        "\n",
        "if x == 'A':\n",
        "    print('x 는 A')\n",
        "elif x == 'C':\n",
        "    print('x는 C')"
      ]
    },
    {
      "cell_type": "code",
      "execution_count": null,
      "id": "014e7eec",
      "metadata": {
        "id": "014e7eec"
      },
      "outputs": [],
      "source": [
        "if x == 'A':\n",
        "    print('x 는 A')\n",
        "    if x == 'C':\n",
        "        print('x는 C')"
      ]
    },
    {
      "cell_type": "code",
      "execution_count": null,
      "id": "aee9a213",
      "metadata": {
        "id": "aee9a213",
        "outputId": "68c84809-5b89-4c7c-a791-b7553d586018"
      },
      "outputs": [
        {
          "name": "stdout",
          "output_type": "stream",
          "text": [
            "x는 C\n"
          ]
        }
      ],
      "source": [
        "if x == 'A':\n",
        "    print('x 는 A')\n",
        "    \n",
        "    \n",
        "    \n",
        "if x == 'C':\n",
        "    print('x는 C')"
      ]
    },
    {
      "cell_type": "code",
      "execution_count": null,
      "id": "07aea6c1",
      "metadata": {
        "id": "07aea6c1",
        "outputId": "e779385e-6696-491c-efa1-980e6d319416"
      },
      "outputs": [
        {
          "name": "stdout",
          "output_type": "stream",
          "text": [
            "x는 C\n"
          ]
        }
      ],
      "source": [
        "if x == 'A':\n",
        "    print('x 는 A')\n",
        "else:x\n",
        "    print('x는 C')"
      ]
    },
    {
      "cell_type": "code",
      "execution_count": null,
      "id": "af69b456",
      "metadata": {
        "id": "af69b456",
        "outputId": "08e3cab3-d5b4-41eb-9a5d-4ed398755653"
      },
      "outputs": [
        {
          "name": "stdout",
          "output_type": "stream",
          "text": [
            "x는 C\n"
          ]
        }
      ],
      "source": [
        "x = 'D'\n",
        "\n",
        "if x == 'A':\n",
        "    print('x 는 A')\n",
        "else:\n",
        "    print('x는 C')"
      ]
    },
    {
      "cell_type": "code",
      "execution_count": null,
      "id": "35dfd565",
      "metadata": {
        "id": "35dfd565",
        "outputId": "00df5334-5fc5-47d1-e12b-d9818ec99b0b"
      },
      "outputs": [
        {
          "name": "stdout",
          "output_type": "stream",
          "text": [
            "x 는 5 이상\n"
          ]
        }
      ],
      "source": [
        "x = 10\n",
        "\n",
        "if x >= 5:\n",
        "    print('x 는 5 이상')\n",
        "elif x >= 10 :\n",
        "    print('x는 10 이상')\n",
        "    \n",
        "    "
      ]
    },
    {
      "cell_type": "code",
      "execution_count": null,
      "id": "8e658fcf",
      "metadata": {
        "id": "8e658fcf",
        "outputId": "b9e5aac9-e48e-4e50-c15a-fc699d337d7f"
      },
      "outputs": [
        {
          "name": "stdout",
          "output_type": "stream",
          "text": [
            "x 는 5 이상\n",
            "x는 10 이상\n"
          ]
        }
      ],
      "source": [
        "x = 10\n",
        "\n",
        "if x >= 5:\n",
        "    print('x 는 5 이상')\n",
        "    \n",
        "if x >= 10 :\n",
        "    print('x는 10 이상')\n",
        "    "
      ]
    },
    {
      "cell_type": "code",
      "execution_count": null,
      "id": "3c9f3c6d",
      "metadata": {
        "id": "3c9f3c6d",
        "outputId": "a6d7bb6d-fa93-483b-f2bb-6fdfc2562e6f"
      },
      "outputs": [
        {
          "name": "stdout",
          "output_type": "stream",
          "text": [
            "4\n",
            "5\n"
          ]
        }
      ],
      "source": [
        "if False :\n",
        "    if True:\n",
        "        print(\"1\")\n",
        "        print(\"2\")\n",
        "    else:\n",
        "        print(\"3\")\n",
        "else :\n",
        "    print(\"4\")\n",
        "print(\"5\")"
      ]
    },
    {
      "cell_type": "code",
      "execution_count": null,
      "id": "f4fba949",
      "metadata": {
        "id": "f4fba949"
      },
      "outputs": [],
      "source": [
        "if True :\n",
        "    print (\"1\")\n",
        "    print (\"2\")\n",
        "else :\n",
        "    print(\"3\")\n",
        "print(\"4\")"
      ]
    },
    {
      "cell_type": "code",
      "execution_count": null,
      "id": "5bc7ca4d",
      "metadata": {
        "id": "5bc7ca4d",
        "outputId": "e93f349f-8a97-4868-c6d5-c71a96f1c730"
      },
      "outputs": [
        {
          "name": "stdout",
          "output_type": "stream",
          "text": [
            "3\n",
            "True\n"
          ]
        }
      ],
      "source": [
        "num = input()\n",
        "if num.isdigit():\n",
        "    num = int(num)\n",
        "\n",
        "    print(num % 2 == 1 )"
      ]
    },
    {
      "cell_type": "code",
      "execution_count": null,
      "id": "26cdb7d6",
      "metadata": {
        "id": "26cdb7d6",
        "outputId": "dad1900f-4aea-42a4-a6f8-e70e5f79f059"
      },
      "outputs": [
        {
          "name": "stdout",
          "output_type": "stream",
          "text": [
            "입력3\n"
          ]
        }
      ],
      "source": [
        "num = input(\"입력\")"
      ]
    },
    {
      "cell_type": "code",
      "execution_count": null,
      "id": "8816b22f",
      "metadata": {
        "id": "8816b22f",
        "outputId": "944b4691-38ed-4c74-ede1-d6f1caf467ba"
      },
      "outputs": [
        {
          "data": {
            "text/plain": [
              "False"
            ]
          },
          "execution_count": 192,
          "metadata": {},
          "output_type": "execute_result"
        }
      ],
      "source": [
        "num =\"3\"\n",
        "num.isdigit()"
      ]
    },
    {
      "cell_type": "code",
      "execution_count": null,
      "id": "b68c2377",
      "metadata": {
        "id": "b68c2377"
      },
      "outputs": [],
      "source": [
        "warn_investment_list = [\"Microsoft\", \"Google\", \"Naver\", \"Kakao\", \"SAMSUNG\", \"LG\"]"
      ]
    },
    {
      "cell_type": "code",
      "execution_count": null,
      "id": "b8bd35f1",
      "metadata": {
        "id": "b8bd35f1"
      },
      "outputs": [],
      "source": [
        "warn_investment_list[0] = warn_investment_list[0].lower()"
      ]
    },
    {
      "cell_type": "code",
      "execution_count": null,
      "id": "039a86a4",
      "metadata": {
        "id": "039a86a4",
        "outputId": "35939449-b6ba-4e01-8c04-f1450c979e64"
      },
      "outputs": [
        {
          "data": {
            "text/plain": [
              "['Microsoft', 'Google', 'Naver', 'Kakao', 'SAMSUNG', 'LG']"
            ]
          },
          "execution_count": 197,
          "metadata": {},
          "output_type": "execute_result"
        }
      ],
      "source": [
        "warn_investment_list"
      ]
    },
    {
      "cell_type": "code",
      "execution_count": null,
      "id": "40d75952",
      "metadata": {
        "id": "40d75952",
        "outputId": "dede5427-a115-4a05-9709-b933acf5d45f"
      },
      "outputs": [
        {
          "name": "stdout",
          "output_type": "stream",
          "text": [
            "입력 : google\n"
          ]
        }
      ],
      "source": [
        "company = input(\"입력 : \")"
      ]
    },
    {
      "cell_type": "code",
      "execution_count": null,
      "id": "f98dd813",
      "metadata": {
        "id": "f98dd813",
        "outputId": "a0c4bbf9-828b-428d-9e8b-68bd4928c972"
      },
      "outputs": [
        {
          "name": "stdout",
          "output_type": "stream",
          "text": [
            "투자 경고 종목입니다\n"
          ]
        }
      ],
      "source": [
        "if company in warn_investment_list or company.upper() in warn_investment_list or \\\n",
        "company.lower() in warn_investment_list or company.capitalize() in warn_investment_list :\n",
        "    print('투자 경고 종목입니다')\n",
        "else:\n",
        "    print(\"투자 경고 종목이 아닙니다.\")"
      ]
    },
    {
      "cell_type": "code",
      "execution_count": null,
      "id": "faea86ba",
      "metadata": {
        "id": "faea86ba",
        "outputId": "01aa5b40-2f5c-4574-987a-b00fa3dcf315"
      },
      "outputs": [
        {
          "data": {
            "text/plain": [
              "False"
            ]
          },
          "execution_count": 202,
          "metadata": {},
          "output_type": "execute_result"
        }
      ],
      "source": [
        "company in warn_investment_list"
      ]
    },
    {
      "cell_type": "code",
      "execution_count": null,
      "id": "bab48721",
      "metadata": {
        "id": "bab48721",
        "outputId": "ee7e7207-fb10-4f73-a752-8daa252bff47"
      },
      "outputs": [
        {
          "data": {
            "text/plain": [
              "True"
            ]
          },
          "execution_count": 203,
          "metadata": {},
          "output_type": "execute_result"
        }
      ],
      "source": [
        "company.upper() in warn_investment_list"
      ]
    },
    {
      "cell_type": "code",
      "execution_count": null,
      "id": "1cf74ab0",
      "metadata": {
        "id": "1cf74ab0",
        "outputId": "68723a02-d986-4874-d47e-030fcd3b2b70"
      },
      "outputs": [
        {
          "data": {
            "text/plain": [
              "True"
            ]
          },
          "execution_count": 210,
          "metadata": {},
          "output_type": "execute_result"
        }
      ],
      "source": [
        "company.capitalize() in warn_investment_list"
      ]
    },
    {
      "cell_type": "code",
      "execution_count": null,
      "id": "7076799e",
      "metadata": {
        "id": "7076799e"
      },
      "outputs": [],
      "source": [
        "currency = {\"달러\":1167, \"엔\":1096, \"유로\":1268, \"위안\": 171}\n"
      ]
    },
    {
      "cell_type": "code",
      "execution_count": null,
      "id": "542aaf5a",
      "metadata": {
        "id": "542aaf5a",
        "outputId": "65ba1381-6286-4729-a194-ecef8747c238"
      },
      "outputs": [
        {
          "name": "stdout",
          "output_type": "stream",
          "text": [
            "입력100 달러\n"
          ]
        },
        {
          "data": {
            "text/plain": [
              "'100 달러'"
            ]
          },
          "execution_count": 268,
          "metadata": {},
          "output_type": "execute_result"
        }
      ],
      "source": [
        "amount = input(\"입력\")\n",
        "amount"
      ]
    },
    {
      "cell_type": "code",
      "execution_count": null,
      "id": "f0a5861f",
      "metadata": {
        "id": "f0a5861f",
        "outputId": "3a9eb2b3-9fb2-4574-8235-234fc8de3c72"
      },
      "outputs": [
        {
          "name": "stdout",
          "output_type": "stream",
          "text": [
            "100 달러\n"
          ]
        }
      ],
      "source": [
        "num, curr = amount.split()\n",
        "print(num, curr)"
      ]
    },
    {
      "cell_type": "code",
      "execution_count": null,
      "id": "72393500",
      "metadata": {
        "id": "72393500"
      },
      "outputs": [],
      "source": [
        "curr = amount[1]\n",
        "money = float(amount[0])"
      ]
    },
    {
      "cell_type": "code",
      "execution_count": null,
      "id": "5e452e55",
      "metadata": {
        "id": "5e452e55",
        "outputId": "82bc0fcd-61c0-40e8-b2f2-d3d9546b18b0"
      },
      "outputs": [
        {
          "name": "stdout",
          "output_type": "stream",
          "text": [
            "116700.0 원\n"
          ]
        }
      ],
      "source": [
        "print(f\"{currency[curr] * money} 원\")"
      ]
    },
    {
      "cell_type": "code",
      "execution_count": null,
      "id": "bc43cd8a",
      "metadata": {
        "id": "bc43cd8a",
        "outputId": "794565af-147d-4a6e-ca34-72f30acbe23e"
      },
      "outputs": [
        {
          "name": "stdout",
          "output_type": "stream",
          "text": [
            "score: 80\n",
            "grade is b\n"
          ]
        }
      ],
      "source": [
        "s = input(\"score: \")\n",
        "s = int(s)\n",
        "if 81<=s<=100:\n",
        "    print(\"grade is a\")\n",
        "elif 61<=s<=80:\n",
        "    print(\"grade is b\")\n",
        "elif 41<=s<=60:\n",
        "    print(\"grade is c\")\n",
        "elif 21<=s<=40:\n",
        "    print(\"grade is d\")\n",
        "else:\n",
        "    print(\"grade is f\")\n"
      ]
    },
    {
      "cell_type": "code",
      "execution_count": null,
      "id": "e7616d23",
      "metadata": {
        "id": "e7616d23",
        "outputId": "225f0448-212c-4af0-a235-f4ea629b93c6"
      },
      "outputs": [
        {
          "name": "stdout",
          "output_type": "stream",
          "text": [
            "등록할 카테고리를 선택해주세요(과일,채소) :과일\n",
            "등록할 과일를 입력해주세요 :오렌지\n"
          ]
        }
      ],
      "source": [
        "fruit=['사과','오렌지']\n",
        "vegetable=['당근','호박']\n",
        "\n",
        "c = input('등록할 카테고리를 선택해주세요(과일,채소) :')\n",
        "val = input(f'등록할 {c}를 입력해주세요 :') "
      ]
    },
    {
      "cell_type": "code",
      "execution_count": null,
      "id": "b5b15aed",
      "metadata": {
        "id": "b5b15aed"
      },
      "outputs": [],
      "source": [
        "print('등록할 ', c, '를 입력해주세요 :')"
      ]
    },
    {
      "cell_type": "code",
      "execution_count": null,
      "id": "6b034379",
      "metadata": {
        "id": "6b034379"
      },
      "outputs": [],
      "source": [
        "result = '''\n",
        "{\n",
        "  \"status\": \"0000\",\n",
        "  \"data\": {\n",
        "    \"opening_price\": \"59766000\",\n",
        "    \"closing_price\": \"57614000\",\n",
        "    \"min_price\": \"57600000\",\n",
        "    \"max_price\": \"59766000\",\n",
        "    \"units_traded\": \"1438.55115127\",\n",
        "    \"acc_trade_value\": \"84302778049.582\",\n",
        "    \"prev_closing_price\": \"59768000\",\n",
        "    \"units_traded_24H\": \"1994.40646591\",\n",
        "    \"acc_trade_value_24H\": \"117780083989.0672\",\n",
        "    \"fluctate_24H\": \"-3214000\",\n",
        "    \"fluctate_rate_24H\": \"-5.28\",\n",
        "    \"date\": \"1639463311824\"\n",
        "  }\n",
        "}'''\n"
      ]
    },
    {
      "cell_type": "code",
      "execution_count": null,
      "id": "0d25666e",
      "metadata": {
        "id": "0d25666e",
        "outputId": "a51926bd-a2fd-4232-9b16-e307e724b486"
      },
      "outputs": [
        {
          "data": {
            "text/plain": [
              "{'opening_price': '59766000',\n",
              " 'closing_price': '57488000',\n",
              " 'min_price': '57410000',\n",
              " 'max_price': '59766000',\n",
              " 'units_traded': '1451.06493026',\n",
              " 'acc_trade_value': '85022408397.4541',\n",
              " 'prev_closing_price': '59768000',\n",
              " 'units_traded_24H': '2002.02831894',\n",
              " 'acc_trade_value_24H': '118202188492.6127',\n",
              " 'fluctate_24H': '-3454000',\n",
              " 'fluctate_rate_24H': '-5.67',\n",
              " 'date': '1639463642668'}"
            ]
          },
          "execution_count": 232,
          "metadata": {},
          "output_type": "execute_result"
        }
      ],
      "source": [
        "import requests\n",
        "btc = requests.get(\"https://api.bithumb.com/public/ticker/\").json()['data']\n",
        "(btc)"
      ]
    },
    {
      "cell_type": "code",
      "execution_count": null,
      "id": "76962a18",
      "metadata": {
        "id": "76962a18"
      },
      "outputs": [],
      "source": [
        "max_price = int(btc['max_price'])\n",
        "opening_price = int(btc['opening_price'])"
      ]
    },
    {
      "cell_type": "code",
      "execution_count": null,
      "id": "ddd0ce32",
      "metadata": {
        "id": "ddd0ce32",
        "outputId": "41fa9371-9a5f-44bd-c3bb-43e1aa8a3f3f"
      },
      "outputs": [
        {
          "data": {
            "text/plain": [
              "2356000"
            ]
          },
          "execution_count": 236,
          "metadata": {},
          "output_type": "execute_result"
        }
      ],
      "source": [
        "difference = max_price - int(btc['min_price'])\n",
        "difference"
      ]
    },
    {
      "cell_type": "code",
      "execution_count": null,
      "id": "096b0d9b",
      "metadata": {
        "id": "096b0d9b"
      },
      "outputs": [],
      "source": [
        "if (difference + opening_price) > difference :\n",
        "    pass\n",
        "else:\n",
        "    pass"
      ]
    },
    {
      "cell_type": "code",
      "execution_count": null,
      "id": "b2e59b98",
      "metadata": {
        "id": "b2e59b98"
      },
      "outputs": [],
      "source": [
        "carriers = {\"011\" : \"SKT\", \"016\": \"KT\", \"019\" : \"LGU\", \"010\": \"알수없음\"}"
      ]
    },
    {
      "cell_type": "code",
      "execution_count": null,
      "id": "7c1b143c",
      "metadata": {
        "id": "7c1b143c",
        "outputId": "7211e2bc-8b4e-4c4b-cfa1-894b8ca7ae8c"
      },
      "outputs": [
        {
          "name": "stdout",
          "output_type": "stream",
          "text": [
            "휴대전화 번호 입력: 010-345-1922\n"
          ]
        },
        {
          "data": {
            "text/plain": [
              "'010-345-1922'"
            ]
          },
          "execution_count": 249,
          "metadata": {},
          "output_type": "execute_result"
        }
      ],
      "source": [
        "phone_num = input(\"휴대전화 번호 입력: \")\n",
        "phone_num"
      ]
    },
    {
      "cell_type": "code",
      "execution_count": null,
      "id": "8e32be47",
      "metadata": {
        "id": "8e32be47",
        "outputId": "208f08af-24d9-4495-b5ab-48f243183ec9"
      },
      "outputs": [
        {
          "data": {
            "text/plain": [
              "'010'"
            ]
          },
          "execution_count": 250,
          "metadata": {},
          "output_type": "execute_result"
        }
      ],
      "source": [
        "phone_num = phone_num[:3]\n",
        "phone_num"
      ]
    },
    {
      "cell_type": "code",
      "execution_count": null,
      "id": "4cfae5c1",
      "metadata": {
        "id": "4cfae5c1",
        "outputId": "7bc4519d-cdb0-4c47-fb0e-ed8fd6e1c31f"
      },
      "outputs": [
        {
          "name": "stdout",
          "output_type": "stream",
          "text": [
            "당신은 알수없음 사용자입니다.\n"
          ]
        }
      ],
      "source": [
        "print(f\"당신은 {carriers[phone_num]} 사용자입니다.\")"
      ]
    },
    {
      "cell_type": "code",
      "execution_count": null,
      "id": "9604fe54",
      "metadata": {
        "id": "9604fe54"
      },
      "outputs": [],
      "source": [
        "time = \"02:00\"\n"
      ]
    },
    {
      "cell_type": "code",
      "execution_count": null,
      "id": "26e2e29c",
      "metadata": {
        "id": "26e2e29c",
        "outputId": "19de155d-1039-4ffa-b96e-95e1df47cd49"
      },
      "outputs": [
        {
          "data": {
            "text/plain": [
              "'00'"
            ]
          },
          "execution_count": 255,
          "metadata": {},
          "output_type": "execute_result"
        }
      ],
      "source": [
        "time[-2:] == \"00\""
      ]
    },
    {
      "cell_type": "code",
      "execution_count": null,
      "id": "8893ce56",
      "metadata": {
        "id": "8893ce56",
        "outputId": "c47c50d4-c790-4208-cda8-27353afb2afa"
      },
      "outputs": [
        {
          "name": "stdout",
          "output_type": "stream",
          "text": [
            "주민등록번호: 821010-1635210\n",
            "35\n"
          ]
        }
      ],
      "source": [
        "my_number = input(\"주민등록번호: \")\n",
        "numbers = my_number.split(\"-\")\n",
        "back_number = numbers[1]\n",
        "print(back_number[1:3])"
      ]
    },
    {
      "cell_type": "code",
      "execution_count": null,
      "id": "4b10dfb0",
      "metadata": {
        "id": "4b10dfb0",
        "outputId": "7bb9145c-a164-4e15-ad99-0ea7d19765c5"
      },
      "outputs": [
        {
          "name": "stdout",
          "output_type": "stream",
          "text": [
            "서울이 아닙니다.\n"
          ]
        }
      ],
      "source": [
        "if int(back_number[1:3]) <= 8 :\n",
        "    print(\"서울 입니다.\")\n",
        "else :\n",
        "    print(\"서울이 아닙니다.\")\n"
      ]
    },
    {
      "cell_type": "code",
      "execution_count": null,
      "id": "27fb46c7",
      "metadata": {
        "id": "27fb46c7",
        "outputId": "d3e1e24f-b5b6-432a-cbfb-fc3651f54ca8"
      },
      "outputs": [
        {
          "name": "stdout",
          "output_type": "stream",
          "text": [
            "우편번호: 01400\n"
          ]
        },
        {
          "ename": "NameError",
          "evalue": "name 'I' is not defined",
          "output_type": "error",
          "traceback": [
            "\u001b[1;31m---------------------------------------------------------------------------\u001b[0m",
            "\u001b[1;31mNameError\u001b[0m                                 Traceback (most recent call last)",
            "\u001b[1;32m~\\AppData\\Local\\Temp/ipykernel_5420/2137473180.py\u001b[0m in \u001b[0;36m<module>\u001b[1;34m\u001b[0m\n\u001b[0;32m      3\u001b[0m \u001b[1;32mif\u001b[0m \u001b[0ml\u001b[0m \u001b[1;32min\u001b[0m \u001b[1;33m[\u001b[0m\u001b[1;34m\"010\"\u001b[0m\u001b[1;33m,\u001b[0m \u001b[1;34m\"011\"\u001b[0m\u001b[1;33m,\u001b[0m \u001b[1;34m\"012\"\u001b[0m\u001b[1;33m]\u001b[0m\u001b[1;33m:\u001b[0m\u001b[1;33m\u001b[0m\u001b[1;33m\u001b[0m\u001b[0m\n\u001b[0;32m      4\u001b[0m     \u001b[0mprint\u001b[0m\u001b[1;33m(\u001b[0m\u001b[1;34m\"강북구\"\u001b[0m\u001b[1;33m)\u001b[0m\u001b[1;33m\u001b[0m\u001b[1;33m\u001b[0m\u001b[0m\n\u001b[1;32m----> 5\u001b[1;33m \u001b[1;32melif\u001b[0m \u001b[0mI\u001b[0m \u001b[1;32min\u001b[0m \u001b[1;33m[\u001b[0m\u001b[1;34m\"013\"\u001b[0m\u001b[1;33m,\u001b[0m \u001b[1;34m\"014\"\u001b[0m\u001b[1;33m,\u001b[0m \u001b[1;34m\"015\"\u001b[0m\u001b[1;33m]\u001b[0m\u001b[1;33m:\u001b[0m\u001b[1;33m\u001b[0m\u001b[1;33m\u001b[0m\u001b[0m\n\u001b[0m\u001b[0;32m      6\u001b[0m     \u001b[0mprint\u001b[0m\u001b[1;33m(\u001b[0m\u001b[1;34m\"도봉구\"\u001b[0m\u001b[1;33m)\u001b[0m\u001b[1;33m\u001b[0m\u001b[1;33m\u001b[0m\u001b[0m\n\u001b[0;32m      7\u001b[0m \u001b[1;32melse\u001b[0m\u001b[1;33m:\u001b[0m\u001b[1;33m\u001b[0m\u001b[1;33m\u001b[0m\u001b[0m\n",
            "\u001b[1;31mNameError\u001b[0m: name 'I' is not defined"
          ]
        }
      ],
      "source": [
        "\n"
      ]
    },
    {
      "cell_type": "code",
      "execution_count": null,
      "id": "d1c5133e",
      "metadata": {
        "scrolled": true,
        "id": "d1c5133e"
      },
      "outputs": [],
      "source": [
        "score1 = int(input(\"첫번째 점수를 입력해주세요 :\"))\n",
        "score2 = int(input(\"두번째 점수를 입력해주세요 :\"))\n",
        "score3 = int(input(\"세번째 점수를 입력해주세요 :\"))\n",
        "\n",
        "\n",
        "if score1 < 0 or score1 > 100 or  score2 < 0 or score2 > 100 or score3 < 0 or score3 > 100:\n",
        "    print(\"잘못된 점수가 입력되었습니다.\")\n",
        "elif score1 > 65 and score2 > 65 and score3 > 65:\n",
        "    print(\"합격\")\n",
        "else:\n",
        "    print(\"불합격\")"
      ]
    },
    {
      "cell_type": "code",
      "execution_count": null,
      "id": "26c68684",
      "metadata": {
        "id": "26c68684"
      },
      "outputs": [],
      "source": [
        "score1 = int(input(\"첫번째 점수를 입력해주세요 :\"))\n",
        "score2 = int(input(\"두번째 점수를 입력해주세요 :\"))\n",
        "score3 = int(input(\"세번째 점수를 입력해주세요 :\"))\n",
        "\n",
        "if 0 <= score1 <= 100 and 0 <= score2 <= 100 and 0 <= score2 <= 100:\n",
        "    if score1 > 65 and score2 > 65 and score3 > 65:\n",
        "        print(\"합격\")\n",
        "    else:\n",
        "        print(\"불합격\")\n",
        "else:\n",
        "    print(\"잘못된 점수가 입력되었습니다.\")\n"
      ]
    },
    {
      "cell_type": "code",
      "execution_count": null,
      "id": "3f3743f2",
      "metadata": {
        "id": "3f3743f2",
        "outputId": "026c3c05-5b30-4a3f-d629-5a8d1f20e634"
      },
      "outputs": [
        {
          "name": "stdout",
          "output_type": "stream",
          "text": [
            "등록할 카테고리를 선택해주세요 (과일, 채소) :야채\n",
            "등록할 야채를 입력해주세요 :오이\n",
            "존재하지 않는 카테고리입니다.\n"
          ]
        }
      ],
      "source": [
        "fruit = ['사과','오렌지']\n",
        "vegetable = ['당근','호박']\n",
        "\n",
        "\n",
        "category = input(\"등록할 카테고리를 선택해주세요 (과일, 채소) :\")\n",
        "item = input(f\"등록할 {category}를 입력해주세요 :\")\n",
        "\n",
        "\n",
        "if category == \"과일\":\n",
        "    if item in fruit:\n",
        "         print(f\"이미 등록된 {category}입니다.\")\n",
        "    else:\n",
        "        fruit.append(item)\n",
        "        print(fruit)\n",
        "        \n",
        "elif category == \"채소\":\n",
        "    if item in vegetable:\n",
        "        print(f\"이미 등록된 {category}입니다.\")\n",
        "    else:\n",
        "        vegetable.append(item)\n",
        "        print(vegetable)\n",
        "else:\n",
        "    print(\"존재하지 않는 카테고리입니다.\")\n"
      ]
    },
    {
      "cell_type": "code",
      "execution_count": null,
      "id": "f1d3402e",
      "metadata": {
        "id": "f1d3402e",
        "outputId": "69ed5889-80ef-4318-e415-32da1ca896d6"
      },
      "outputs": [
        {
          "name": "stdout",
          "output_type": "stream",
          "text": [
            "등록할 카테고리를 선택해주세요 (과일, 채소) :채소\n",
            "등록할 채소를 입력해주세요 :당근\n",
            "이미 등록된 채소입니다.\n"
          ]
        }
      ],
      "source": [
        "fruit = ['사과','오렌지']\n",
        "vegetable = ['당근','호박']\n",
        "\n",
        "category_dict = {\"과일\": fruit, \"채소\": vegetable}\n",
        "\n",
        "\n",
        "category = input(\"등록할 카테고리를 선택해주세요 (과일, 채소) :\")\n",
        "item = input(f\"등록할 {category}를 입력해주세요 :\")\n",
        "\n",
        "item_list = category_dict.get(category)\n",
        "\n",
        "if item_list:\n",
        "    if item in item_list:\n",
        "         print(f\"이미 등록된 {category}입니다.\")\n",
        "    else:\n",
        "        item_list.append(item)\n",
        "        print(item_list)\n",
        "else:\n",
        "    print(\"존재하지 않는 카테고리입니다.\")\n"
      ]
    },
    {
      "cell_type": "code",
      "execution_count": null,
      "id": "8c6498b3",
      "metadata": {
        "id": "8c6498b3",
        "outputId": "70dc39f3-db74-41fb-b1bb-a1442f43c434"
      },
      "outputs": [
        {
          "name": "stdout",
          "output_type": "stream",
          "text": [
            "현재값 :  0\n",
            "현재값 :  2\n",
            "현재값 :  4\n",
            "현재값 :  6\n",
            "현재값 :  8\n"
          ]
        }
      ],
      "source": [
        "for i in range(0, 10, 2):\n",
        "    print(\"현재값 : \", i)"
      ]
    },
    {
      "cell_type": "code",
      "execution_count": null,
      "id": "cdb94f69",
      "metadata": {
        "id": "cdb94f69",
        "outputId": "82d5b638-4f1d-42e6-96bb-911749ec4409"
      },
      "outputs": [
        {
          "data": {
            "text/plain": [
              "[{'이름': '홍길동', '나이': '27', '연락처': '010-1111-111'},\n",
              " {'이름': '이몽룡', '나이': '30', '연락처': '010-2222-2222'}]"
            ]
          },
          "execution_count": 288,
          "metadata": {},
          "output_type": "execute_result"
        }
      ],
      "source": [
        "total_list"
      ]
    },
    {
      "cell_type": "code",
      "execution_count": null,
      "id": "519c7d7c",
      "metadata": {
        "id": "519c7d7c",
        "outputId": "966408aa-739e-4846-b1c0-fdb0dfebef76"
      },
      "outputs": [
        {
          "name": "stdout",
          "output_type": "stream",
          "text": [
            "홍길동\n",
            "이몽룡\n"
          ]
        }
      ],
      "source": [
        "for user_info in total_list:\n",
        "    print(user_info['이름'])"
      ]
    },
    {
      "cell_type": "code",
      "execution_count": null,
      "id": "d6bae399",
      "metadata": {
        "id": "d6bae399",
        "outputId": "a68717a0-1eba-451a-9368-ef8a30bc06f5"
      },
      "outputs": [
        {
          "name": "stdout",
          "output_type": "stream",
          "text": [
            "홍길동\n",
            "이몽룡\n"
          ]
        }
      ],
      "source": [
        "for user_index in range(len(total_list)):\n",
        "    print(total_list[user_index]['이름'])"
      ]
    },
    {
      "cell_type": "code",
      "execution_count": null,
      "id": "5980bdb6",
      "metadata": {
        "id": "5980bdb6",
        "outputId": "e4908f8e-f743-40e7-89f6-dcfc9008be6c"
      },
      "outputs": [
        {
          "name": "stdout",
          "output_type": "stream",
          "text": [
            "O,r,a,n,g,e,"
          ]
        }
      ],
      "source": [
        "for s in \"Orange\":\n",
        "    print(s, end=\",\")"
      ]
    },
    {
      "cell_type": "code",
      "execution_count": null,
      "id": "19af6772",
      "metadata": {
        "id": "19af6772",
        "outputId": "e5c7bff4-59c3-4649-b8d3-71178085f7e6"
      },
      "outputs": [
        {
          "name": "stdout",
          "output_type": "stream",
          "text": [
            "('name', 'Tom')\n",
            "('math', 80)\n",
            "('english', 70)\n"
          ]
        }
      ],
      "source": [
        "score = {\"name\":\"Tom\", \"math\": 80, \"english\" : 70}\n",
        "\n",
        "for key in score.items():\n",
        "    print(key)"
      ]
    },
    {
      "cell_type": "code",
      "execution_count": null,
      "id": "d0095c32",
      "metadata": {
        "id": "d0095c32",
        "outputId": "601807de-81d1-4ba1-e3ed-37194b6079c9"
      },
      "outputs": [
        {
          "data": {
            "text/plain": [
              "dict_values(['Tom', 80, 70])"
            ]
          },
          "execution_count": 296,
          "metadata": {},
          "output_type": "execute_result"
        }
      ],
      "source": [
        "score.values()"
      ]
    },
    {
      "cell_type": "code",
      "execution_count": null,
      "id": "1ba63188",
      "metadata": {
        "id": "1ba63188",
        "outputId": "1f46e1d6-d2ee-4cc4-a695-aa6dce3406ad"
      },
      "outputs": [
        {
          "name": "stdout",
          "output_type": "stream",
          "text": [
            "반복할 횟수?10\n",
            "Hello world! 0\n",
            "Hello world! 1\n",
            "Hello world! 2\n",
            "Hello world! 3\n",
            "Hello world! 4\n",
            "Hello world! 5\n",
            "Hello world! 6\n",
            "Hello world! 7\n",
            "Hello world! 8\n",
            "Hello world! 9\n"
          ]
        }
      ],
      "source": [
        "count = int(input(\"반복할 횟수?\"))\n",
        "\n",
        "for i in range(count):\n",
        "    print(\"Hello world!\", i)"
      ]
    },
    {
      "cell_type": "code",
      "execution_count": null,
      "id": "54116277",
      "metadata": {
        "scrolled": true,
        "id": "54116277",
        "outputId": "f74213d3-fb28-4362-c5f3-6810c601ce26"
      },
      "outputs": [
        {
          "name": "stdout",
          "output_type": "stream",
          "text": [
            "0 1\n",
            "1 2\n",
            "2 3\n",
            "3 4\n",
            "4 5\n",
            "5 6\n",
            "6 7\n"
          ]
        }
      ],
      "source": [
        "a = [1, 2, 3, 4, 5, 6, 7]\n",
        "\n",
        "for i, value in enumerate(a):\n",
        "    print(i, value)"
      ]
    },
    {
      "cell_type": "code",
      "execution_count": null,
      "id": "57b21b48",
      "metadata": {
        "id": "57b21b48",
        "outputId": "ab964b33-9afd-41ed-a64f-8578da84b9ac"
      },
      "outputs": [
        {
          "name": "stdout",
          "output_type": "stream",
          "text": [
            "****************************** 0\n",
            "j :  0\n",
            "j :  1\n",
            "j :  2\n",
            "j :  3\n",
            "j :  4\n",
            "****************************** 1\n",
            "j :  0\n",
            "j :  1\n",
            "j :  2\n",
            "j :  3\n",
            "j :  4\n",
            "****************************** 2\n",
            "j :  0\n",
            "j :  1\n",
            "j :  2\n",
            "j :  3\n",
            "j :  4\n",
            "****************************** 3\n",
            "j :  0\n",
            "j :  1\n",
            "j :  2\n",
            "j :  3\n",
            "j :  4\n",
            "****************************** 4\n",
            "j :  0\n",
            "j :  1\n",
            "j :  2\n",
            "j :  3\n",
            "j :  4\n"
          ]
        }
      ],
      "source": [
        "for i in range(5):\n",
        "    print(\"*\" * 30, i)\n",
        "    for j in range(5):\n",
        "        print(\"j : \", j)"
      ]
    },
    {
      "cell_type": "code",
      "execution_count": null,
      "id": "7977f569",
      "metadata": {
        "id": "7977f569"
      },
      "outputs": [],
      "source": [
        ""
      ]
    }
  ],
  "metadata": {
    "kernelspec": {
      "display_name": "Python 3 (ipykernel)",
      "language": "python",
      "name": "python3"
    },
    "language_info": {
      "codemirror_mode": {
        "name": "ipython",
        "version": 3
      },
      "file_extension": ".py",
      "mimetype": "text/x-python",
      "name": "python",
      "nbconvert_exporter": "python",
      "pygments_lexer": "ipython3",
      "version": "3.9.7"
    },
    "colab": {
      "name": "1214_practice.ipynb",
      "provenance": [],
      "include_colab_link": true
    }
  },
  "nbformat": 4,
  "nbformat_minor": 5
}