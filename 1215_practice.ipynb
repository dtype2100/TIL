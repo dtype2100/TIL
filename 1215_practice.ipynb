{
  "cells": [
    {
      "cell_type": "markdown",
      "metadata": {
        "id": "view-in-github",
        "colab_type": "text"
      },
      "source": [
        "<a href=\"https://colab.research.google.com/github/dtype2100/TIL/blob/master/1215_practice.ipynb\" target=\"_parent\"><img src=\"https://colab.research.google.com/assets/colab-badge.svg\" alt=\"Open In Colab\"/></a>"
      ]
    },
    {
      "cell_type": "code",
      "execution_count": null,
      "id": "67abba5c",
      "metadata": {
        "id": "67abba5c"
      },
      "outputs": [],
      "source": [
        "string = \"PYTHON\""
      ]
    },
    {
      "cell_type": "code",
      "execution_count": null,
      "id": "6f2235da",
      "metadata": {
        "id": "6f2235da",
        "outputId": "8a11cb08-0fa9-4eb1-f49e-3d845b94c62a"
      },
      "outputs": [
        {
          "data": {
            "text/plain": [
              "'NOHTYP'"
            ]
          },
          "execution_count": 4,
          "metadata": {},
          "output_type": "execute_result"
        }
      ],
      "source": [
        "string[::-1]"
      ]
    },
    {
      "cell_type": "code",
      "execution_count": null,
      "id": "91ea99ab",
      "metadata": {
        "id": "91ea99ab",
        "outputId": "2365b99f-c83e-47f8-a94c-48c837e1248e"
      },
      "outputs": [
        {
          "data": {
            "text/plain": [
              "['P', 'Y', 'T', 'H', 'O', 'N']"
            ]
          },
          "execution_count": 6,
          "metadata": {},
          "output_type": "execute_result"
        }
      ],
      "source": [
        "str_list = list(string)\n",
        "str_list"
      ]
    },
    {
      "cell_type": "code",
      "execution_count": null,
      "id": "b33a9b50",
      "metadata": {
        "id": "b33a9b50"
      },
      "outputs": [],
      "source": [
        "str_list.reverse()"
      ]
    },
    {
      "cell_type": "code",
      "execution_count": null,
      "id": "a131f14c",
      "metadata": {
        "id": "a131f14c",
        "outputId": "c854377f-e45d-4008-8d1c-7fbc89f46864"
      },
      "outputs": [
        {
          "data": {
            "text/plain": [
              "['N', 'O', 'H', 'T', 'Y', 'P']"
            ]
          },
          "execution_count": 8,
          "metadata": {},
          "output_type": "execute_result"
        }
      ],
      "source": [
        "str_list"
      ]
    },
    {
      "cell_type": "code",
      "execution_count": null,
      "id": "d9fcec1d",
      "metadata": {
        "id": "d9fcec1d",
        "outputId": "abb2375b-edb4-4aa1-ff5b-91c29533c0dd"
      },
      "outputs": [
        {
          "data": {
            "text/plain": [
              "'NOHTYP'"
            ]
          },
          "execution_count": 9,
          "metadata": {},
          "output_type": "execute_result"
        }
      ],
      "source": [
        "\"\".join(str_list)"
      ]
    },
    {
      "cell_type": "code",
      "execution_count": null,
      "id": "bd862464",
      "metadata": {
        "id": "bd862464"
      },
      "outputs": [],
      "source": [
        "a = {1, 2, 3, 4}"
      ]
    },
    {
      "cell_type": "code",
      "execution_count": null,
      "id": "c62f67ed",
      "metadata": {
        "id": "c62f67ed",
        "outputId": "8e97651b-2c61-4de1-c574-260a5b01f103"
      },
      "outputs": [
        {
          "data": {
            "text/plain": [
              "{1, 2, 3, 4}"
            ]
          },
          "execution_count": 11,
          "metadata": {},
          "output_type": "execute_result"
        }
      ],
      "source": [
        "a.add(1)\n",
        "a"
      ]
    },
    {
      "cell_type": "code",
      "execution_count": null,
      "id": "ef291b6b",
      "metadata": {
        "id": "ef291b6b",
        "outputId": "c47ee30a-86b3-4039-eede-200e0cf5f529"
      },
      "outputs": [
        {
          "name": "stdout",
          "output_type": "stream",
          "text": [
            "0,1\n",
            "1,2\n",
            "2,3\n",
            "3,4\n",
            "4,5\n",
            "5,6\n",
            "6,7\n"
          ]
        }
      ],
      "source": [
        "a = [1, 2, 3, 4, 5, 6, 7]\n",
        "for idx, val in enumerate(a):\n",
        "    print(idx, val, sep=\",\")"
      ]
    },
    {
      "cell_type": "code",
      "execution_count": null,
      "id": "1a5cc10a",
      "metadata": {
        "id": "1a5cc10a",
        "outputId": "d5fcc16e-ff79-41a3-c833-78ece48b4efd"
      },
      "outputs": [
        {
          "data": {
            "text/plain": [
              "{'opening_price': '58605000',\n",
              " 'closing_price': '59416000',\n",
              " 'min_price': '57550000',\n",
              " 'max_price': '60062000',\n",
              " 'units_traded': '774.38746369',\n",
              " 'acc_trade_value': '45570484596.4223',\n",
              " 'prev_closing_price': '58605000',\n",
              " 'units_traded_24H': '2027.21043654',\n",
              " 'acc_trade_value_24H': '118603334338.7896',\n",
              " 'fluctate_24H': '846000',\n",
              " 'fluctate_rate_24H': '1.44',\n",
              " 'date': '1639530498178'}"
            ]
          },
          "execution_count": 18,
          "metadata": {},
          "output_type": "execute_result"
        }
      ],
      "source": [
        "import requests\n",
        "btc = requests.get(\"https://api.bithumb.com/public/ticker/\").json().get('data')\n",
        "btc"
      ]
    },
    {
      "cell_type": "code",
      "execution_count": null,
      "id": "efe167be",
      "metadata": {
        "id": "efe167be",
        "outputId": "c396ead9-3867-45d9-9f14-783b24d6b0e0"
      },
      "outputs": [
        {
          "name": "stdout",
          "output_type": "stream",
          "text": [
            "None\n"
          ]
        }
      ],
      "source": [
        "btc = requests.get(\"https://api.bithumb.com/public/tick/\").json().get('data')\n",
        "print(btc)"
      ]
    },
    {
      "cell_type": "code",
      "execution_count": null,
      "id": "78e022ba",
      "metadata": {
        "id": "78e022ba"
      },
      "outputs": [],
      "source": [
        "if btc:\n",
        "    print(btc[max_price])\n",
        "else:\n",
        "    print(\"장애가 생겼습니다. 잠시뒤에 접속해주세요\")"
      ]
    },
    {
      "cell_type": "code",
      "execution_count": null,
      "id": "bb9324cd",
      "metadata": {
        "id": "bb9324cd"
      },
      "outputs": [],
      "source": [
        "if btc == None:\n",
        "    pass\n",
        "else:\n",
        "    print(btc[max_price])\n",
        "    "
      ]
    },
    {
      "cell_type": "code",
      "execution_count": null,
      "id": "788af5cc",
      "metadata": {
        "id": "788af5cc"
      },
      "outputs": [],
      "source": [
        "news = \"\"\"\n",
        "주식투자를 하는 지인들의 이야기를 듣다 보면 특정 시기(보통은 증시 고점)에 투자를 시작하고 그 이후에는 그냥 그 투자원금만 유지하거나 나중에는 투자금을 빼는 경우가 대부분입니다. 초기에 투입한 한정된 투자원금으로 엄청난 대박 수익을 내려 하다 보니 무리한 투자를 하여 안타깝게 끝나는 경우가 다반사이지요. 하지만 투자 인생에서 큰 자산을 만들고자 한다면 꾸준한 적립은 따라주어야만 합니다.\n",
        "\n",
        "그리고 꾸준한 적립은 투자전략 차원에서 은근히 큰 효과를 만들어 줍니다.\n",
        "\n",
        " \n",
        "\n",
        " \n",
        "\n",
        "▶ 꾸준한 적립의 효과 1. 종잣돈이 커진다. 복리의 효과 증대\n",
        "\n",
        " \n",
        "\n",
        "매달 월급에서 일부를 주식투자에 적립하거나 혹은 1년에 한 번이라도 성과급이 나왔을 때 주식투자 금액을 추가 적립하는 분들은 생각보다 많지 않은 듯합니다.\n",
        "\n",
        "그 시점에 증시 상황이 초강세 장일 때에만 “진작에 증액했어야 했는데!!”라고 후회하면서 적립하지만, 주식시장이 애매하거나, 약세장일 경우에는 주식투자 증액을 생각하지 않게 되지요.\n",
        "\n",
        " \n",
        "\n",
        "하지만, 꾸준한 적립은 자연스럽게 종잣돈을 키우는 효과를 만들어 줍니다.\n",
        "\n",
        "단순히 계산하여 보아도, 주식투자를 1천만 원으로 시작하여 증액 없이 투자를 이어간 투자자와 똑같이 1천만 원으로 시작하였어도, 매달 100만 원씩 증액한 투자자는 투자원금에서 단 1년 만에 2.2배 차이가 나게 됩니다. 10년이면 투자원금은 13배 차이가 납니다.\n",
        "\n",
        " \n",
        "\n",
        "\n",
        "[ 1천만 원 종잣돈으로 꾸준히 적립한 투자자와 원금만 투자한 투자자의 투자 결과 차이]\n",
        "\n",
        "[ 매년 10%씩 수익률 발생 가정, 매달 100만 원씩(연 1,200만 원) 적립 가정 ]\n",
        "\n",
        " \n",
        "\n",
        "당연히 투자원금이 증가하여 종잣돈이 커지고 나면 단, 몇 퍼센트의 수익률만으로도 매달 적립하는 금액 이상의 수익률이 만들어질 뿐만 아니라, 똑같은 수익률을 매년 만들었다 하더라도 매달 꾸준히 적립한 투자자와 적립이 아예 없는 투자자의 자산은 세월이 흘러갈수록 기하급수적으로 벌어지게 됩니다.\n",
        "\n",
        " \n",
        "\n",
        "위의 표에서는 1천만 원 원금만으로 투자를 이어간 A씨 그리고 매달 100만 원씩(연 1,200만 원)을 추가 적립한 B씨가 똑같이 매년 10% 수익률을 만들었다 가정하였을 때의 투자 자산 결과를 보여주고 있습니다. 0년 차에 1천만 원으로 투자금이 똑같았던 상황은 10년 차 때는 2억1,718만 원과 2,593만 원으로 8배 이상으로 벌어졌고, 20년 차 때에는 11배 이상으로 투자 자산 규모가 벌어지게 됩니다.\n",
        "\n",
        " \n",
        "\n",
        " \n",
        "\n",
        "▶ 꾸준한 적립의 효과 2. 자산 배분 전략 리밸런싱과 주식 포트 스무싱이 자연스럽게 반복된다.\n",
        "\n",
        " \n",
        "\n",
        "꾸준한 적립의 효과 두 번째는 바로 꾸준히 투자금을 적립함에 따라 자연스럽게 나타나는 전략적인 측면의 효과입니다. 바로 자산 배분 리밸런싱과 주식 포트폴리오의 스무싱이 자연스럽게 반복된다는 점이지요.\n",
        "\n",
        " \n",
        "\n",
        "자산 배분 리밸런싱은 이제 모르는 분들이 없을 정도로 보편화되었습니다. 그리고 리밸런싱 과정에서 발생하는 간접적인 저가 매수, 간접적인 고가 매도 반복 속에서 수익이 만들어지는 섀넌의 도깨비 현상은 자산 배분 리밸런싱의 백미이지요.\n",
        "\n",
        " \n",
        "\n",
        "주식 포트폴리오의 경우 포트폴리오들의 비중을 나름대로 세워두고 투자하고 계실 것입니다. 그런데 처음 세팅 후 시간이 흐르면 주가가 상승한 종목과 하락한 종목들의 차이로 인해 포트폴리오 간의 비율이 처음하고 틀어지게 됩니다. 이를 다시 맞추어 주는 과정을 필자는 “스무싱(Smoothing) 작업”이라고 명칭을 만들어 부르고 있습니다. 일종의 자산 배분 전략 리밸런싱을 주식 포트폴리오에서 하는 것이지요.\n",
        "\n",
        " \n",
        "\n",
        "그런데 꾸준히 적립하게 되면 이 과정에서 자산 배분 전략 비율이든 포트폴리오 간의 비중이든 다시금 비율을 조정하면서 주식을 매수하기 때문에 포트폴리오 중 빠진 종목을 조금 더 사고, 때에 따라 증시가 하락하였을 때는 주식을 전체적으로 사주는 효과가 만들어집니다.\n",
        "\n",
        "이를 매달 꾸준히 반복하다 보면 1년에 1~2%P 수준의 수익률 이점이 만들어집니다.\n",
        "\n",
        " \n",
        "\n",
        "\n",
        "[ lovefund이성수의 연구용 가치 포트(2월 포트)의 성과 추이 ]\n",
        "\n",
        " \n",
        "\n",
        "위의 도표는 필자가 연구용으로 추적하고 있는 연구용 가치 포트의 2009년 2월 이후 수익률 추이입니다. (매년 2월 말 포트폴리오 추출 후 실제 현실에서 수익률 추적하며 실전 검증)\n",
        "\n",
        "적색 선은 단순히 1년에 한 번만 포트폴리오를 변경하는 것이고 연두색 선은 포트폴리오를 1년에 한 번씩 바꾸지만 한 달에 한 번씩 스무싱 작업을 해주었을 때의 수익률입니다.\n",
        "\n",
        "크진 않더라도 스무싱 작업을 해준 것이 단순 보유 전략보다 우위에 있다는 것을 한눈에 확인할 수 있습니다.\n",
        "\n",
        " \n",
        "\n",
        "꾸준한 적립은 적립금을 포트폴리오에 배분하는 과정에서 자연스럽게 스무싱 작업과 유사한 상황이 발생하게 되면서 장기 성과를 조금 더 높게 만들어 주는 효과를 만듭니다.\n",
        "\n",
        " \n",
        "\n",
        " \n",
        "\n",
        "꾸준한 적립은 이 외에도 달러코스트 에버리지(Dollar Cost Average)효과를 만들면서 주식시장 하락 시기에 평균 매입 단가를 단순 평균 가격보다도 빨리 낮추어주면서 증시 상승 시기에 수익률을 더욱 극대화하는 효과를 만들어 줍니다.\n",
        "\n",
        "(※ 달러 코스트 에버리지까지 글에 담으면 너무 길어질 수 있어서 언급만 하겠습니다.)\n",
        "\n",
        " \n",
        "\n",
        "투자금액의 꾸준한 적립 작지만, 장기적으로는 큰 투자 결실의 차이를 만들게 됩니다.\n",
        "\n",
        "물론 1, 2년에서는 그 차이가 거의 보이지 않지요. 하지만 3년, 5년, 10년 기간이 길어질수록 투자원금으로만 투자한 이들과는 큰 차이를 만들어가고 있을 것입니다.\n",
        "\n",
        " \n",
        "\"\"\""
      ]
    },
    {
      "cell_type": "code",
      "execution_count": null,
      "id": "7a4cc7f0",
      "metadata": {
        "id": "7a4cc7f0"
      },
      "outputs": [],
      "source": [
        "word_list  = news.split()"
      ]
    },
    {
      "cell_type": "code",
      "execution_count": null,
      "id": "620fa1ee",
      "metadata": {
        "id": "620fa1ee",
        "outputId": "25fd1682-7161-4ef1-f2d4-9eb2183e12d5"
      },
      "outputs": [
        {
          "data": {
            "text/plain": [
              "614"
            ]
          },
          "execution_count": 28,
          "metadata": {},
          "output_type": "execute_result"
        }
      ],
      "source": [
        "len(word_list)"
      ]
    },
    {
      "cell_type": "code",
      "execution_count": null,
      "id": "44e4d07d",
      "metadata": {
        "scrolled": false,
        "id": "44e4d07d",
        "outputId": "46822ca9-3225-4c34-f987-b9803b29de91"
      },
      "outputs": [
        {
          "data": {
            "text/plain": [
              "{'(※',\n",
              " '(매년',\n",
              " '0년',\n",
              " '1,',\n",
              " '1,200만',\n",
              " '1.',\n",
              " '10%',\n",
              " '10%씩',\n",
              " '100만',\n",
              " '10년',\n",
              " '10년이면',\n",
              " '11배',\n",
              " '13배',\n",
              " '1~2%P',\n",
              " '1년',\n",
              " '1년에',\n",
              " '1천만',\n",
              " '2,593만',\n",
              " '2.',\n",
              " '2.2배',\n",
              " '2009년',\n",
              " '20년',\n",
              " '2년에서는',\n",
              " '2억1,718만',\n",
              " '2월',\n",
              " '3년,',\n",
              " '5년,',\n",
              " '8배',\n",
              " 'Average)효과를',\n",
              " 'A씨',\n",
              " 'B씨가',\n",
              " 'Cost',\n",
              " '[',\n",
              " ']',\n",
              " 'lovefund이성수의',\n",
              " '“스무싱(Smoothing)',\n",
              " '“진작에',\n",
              " '▶',\n",
              " '가격보다도',\n",
              " '가정',\n",
              " '가정,',\n",
              " '가정하였을',\n",
              " '가치',\n",
              " '간의',\n",
              " '간접적인',\n",
              " '거의',\n",
              " '검증)',\n",
              " '것을',\n",
              " '것이',\n",
              " '것이고',\n",
              " '것이지요.',\n",
              " '것입니다.',\n",
              " '결과',\n",
              " '결과를',\n",
              " '결실의',\n",
              " '경우',\n",
              " '경우가',\n",
              " '경우에는',\n",
              " '계산하여',\n",
              " '계실',\n",
              " '고가',\n",
              " '고점)에',\n",
              " '과정에서',\n",
              " '과정을',\n",
              " '규모가',\n",
              " '그',\n",
              " '그냥',\n",
              " '그런데',\n",
              " '그리고',\n",
              " '극대화하는',\n",
              " '글에',\n",
              " '금액',\n",
              " '금액을',\n",
              " '기간이',\n",
              " '기하급수적으로',\n",
              " '길어질',\n",
              " '길어질수록',\n",
              " '꾸준한',\n",
              " '꾸준히',\n",
              " '끝나는',\n",
              " '나게',\n",
              " '나름대로',\n",
              " '나면',\n",
              " '나왔을',\n",
              " '나중에는',\n",
              " '나타나는',\n",
              " '납니다.',\n",
              " '낮추어주면서',\n",
              " '내려',\n",
              " '너무',\n",
              " '높게',\n",
              " '다반사이지요.',\n",
              " '다시',\n",
              " '다시금',\n",
              " '단',\n",
              " '단,',\n",
              " '단가를',\n",
              " '단순',\n",
              " '단순히',\n",
              " '달러',\n",
              " '달러코스트',\n",
              " '달에',\n",
              " '담으면',\n",
              " '당연히',\n",
              " '대박',\n",
              " '대부분입니다.',\n",
              " '더',\n",
              " '더욱',\n",
              " '도깨비',\n",
              " '도표는',\n",
              " '되면',\n",
              " '되면서',\n",
              " '되지요.',\n",
              " '됩니다.',\n",
              " '두',\n",
              " '듣다',\n",
              " '듯합니다.',\n",
              " '따라',\n",
              " '따라주어야만',\n",
              " '때',\n",
              " '때는',\n",
              " '때문에',\n",
              " '때에',\n",
              " '때에는',\n",
              " '때에만',\n",
              " '때의',\n",
              " '똑같았던',\n",
              " '똑같은',\n",
              " '똑같이',\n",
              " '리밸런싱',\n",
              " '리밸런싱과',\n",
              " '리밸런싱은',\n",
              " '리밸런싱을',\n",
              " '리밸런싱의',\n",
              " '만들게',\n",
              " '만들고자',\n",
              " '만들면서',\n",
              " '만들어',\n",
              " '만들어가고',\n",
              " '만들어지는',\n",
              " '만들어질',\n",
              " '만들어집니다.',\n",
              " '만들었다',\n",
              " '만듭니다.',\n",
              " '만에',\n",
              " '많지',\n",
              " '말',\n",
              " '맞추어',\n",
              " '매년',\n",
              " '매달',\n",
              " '매도',\n",
              " '매수,',\n",
              " '매수하기',\n",
              " '매입',\n",
              " '명칭을',\n",
              " '몇',\n",
              " '모르는',\n",
              " '무리한',\n",
              " '물론',\n",
              " '바꾸지만',\n",
              " '바로',\n",
              " '반복',\n",
              " '반복된다.',\n",
              " '반복된다는',\n",
              " '반복하다',\n",
              " '발생',\n",
              " '발생하게',\n",
              " '발생하는',\n",
              " '배분',\n",
              " '배분하는',\n",
              " '백미이지요.',\n",
              " '번만',\n",
              " '번씩',\n",
              " '번이라도',\n",
              " '번째는',\n",
              " '벌어졌고,',\n",
              " '벌어지게',\n",
              " '변경하는',\n",
              " '보니',\n",
              " '보면',\n",
              " '보아도,',\n",
              " '보여주고',\n",
              " '보유',\n",
              " '보이지',\n",
              " '보편화되었습니다.',\n",
              " '복리의',\n",
              " '부르고',\n",
              " '분들은',\n",
              " '분들이',\n",
              " '비율을',\n",
              " '비율이',\n",
              " '비율이든',\n",
              " '비중을',\n",
              " '비중이든',\n",
              " '빠진',\n",
              " '빨리',\n",
              " '빼는',\n",
              " '뿐만',\n",
              " '사고,',\n",
              " '사주는',\n",
              " '상승',\n",
              " '상승한',\n",
              " '상황은',\n",
              " '상황이',\n",
              " '생각보다',\n",
              " '생각하지',\n",
              " '섀넌의',\n",
              " '선은',\n",
              " '성과',\n",
              " '성과급이',\n",
              " '성과를',\n",
              " '세워두고',\n",
              " '세월이',\n",
              " '세팅',\n",
              " '속에서',\n",
              " '수',\n",
              " '수익률',\n",
              " '수익률만으로도',\n",
              " '수익률을',\n",
              " '수익률이',\n",
              " '수익률입니다.',\n",
              " '수익을',\n",
              " '수익이',\n",
              " '수준의',\n",
              " '스무싱',\n",
              " '스무싱이',\n",
              " '시간이',\n",
              " '시기(보통은',\n",
              " '시기에',\n",
              " '시작하고',\n",
              " '시작하여',\n",
              " '시작하였어도,',\n",
              " '시점에',\n",
              " '실전',\n",
              " '실제',\n",
              " '아니라,',\n",
              " '아예',\n",
              " '안타깝게',\n",
              " '않게',\n",
              " '않더라도',\n",
              " '않은',\n",
              " '않지요.',\n",
              " '애매하거나,',\n",
              " '약세장일',\n",
              " '언급만',\n",
              " '엄청난',\n",
              " '없는',\n",
              " '없을',\n",
              " '없이',\n",
              " '에버리지(Dollar',\n",
              " '에버리지까지',\n",
              " '연구용',\n",
              " '연구용으로',\n",
              " '연두색',\n",
              " '외에도',\n",
              " '우위에',\n",
              " '원',\n",
              " '원)',\n",
              " '원)을',\n",
              " '원과',\n",
              " '원금만',\n",
              " '원금만으로',\n",
              " '원씩',\n",
              " '원씩(연',\n",
              " '원으로',\n",
              " '월급에서',\n",
              " '위의',\n",
              " '유사한',\n",
              " '유지하거나',\n",
              " '은근히',\n",
              " '이',\n",
              " '이들과는',\n",
              " '이를',\n",
              " '이상으로',\n",
              " '이상의',\n",
              " '이야기를',\n",
              " '이어간',\n",
              " '이점이',\n",
              " '이제',\n",
              " '이후',\n",
              " '이후에는',\n",
              " '인생에서',\n",
              " '인해',\n",
              " '일부를',\n",
              " '일종의',\n",
              " '있는',\n",
              " '있다는',\n",
              " '있습니다.',\n",
              " '있어서',\n",
              " '있을',\n",
              " '자산',\n",
              " '자산은',\n",
              " '자산을',\n",
              " '자연스럽게',\n",
              " '작업”이라고',\n",
              " '작업과',\n",
              " '작업을',\n",
              " '작지만,',\n",
              " '장기',\n",
              " '장기적으로는',\n",
              " '장일',\n",
              " '저가',\n",
              " '적립',\n",
              " '적립금을',\n",
              " '적립은',\n",
              " '적립의',\n",
              " '적립이',\n",
              " '적립하거나',\n",
              " '적립하게',\n",
              " '적립하는',\n",
              " '적립하지만,',\n",
              " '적립한',\n",
              " '적립함에',\n",
              " '적색',\n",
              " '전략',\n",
              " '전략보다',\n",
              " '전략적인',\n",
              " '전체적으로',\n",
              " '점이지요.',\n",
              " '정도로',\n",
              " '조금',\n",
              " '조정하면서',\n",
              " '종목과',\n",
              " '종목들의',\n",
              " '종목을',\n",
              " '종잣돈으로',\n",
              " '종잣돈을',\n",
              " '종잣돈이',\n",
              " '주가가',\n",
              " '주는',\n",
              " '주식',\n",
              " '주식시장',\n",
              " '주식시장이',\n",
              " '주식을',\n",
              " '주식투자',\n",
              " '주식투자를',\n",
              " '주식투자에',\n",
              " '줍니다.',\n",
              " '중',\n",
              " '증가하여',\n",
              " '증대',\n",
              " '증시',\n",
              " '증시가',\n",
              " '증액',\n",
              " '증액을',\n",
              " '증액한',\n",
              " '증액했어야',\n",
              " '지인들의',\n",
              " '차',\n",
              " '차에',\n",
              " '차원에서',\n",
              " '차이]',\n",
              " '차이가',\n",
              " '차이로',\n",
              " '차이를',\n",
              " '처음',\n",
              " '처음하고',\n",
              " '초강세',\n",
              " '초기에',\n",
              " '추가',\n",
              " '추이',\n",
              " '추이입니다.',\n",
              " '추적하고',\n",
              " '추적하며',\n",
              " '추출',\n",
              " '측면의',\n",
              " '커지고',\n",
              " '커진다.',\n",
              " '코스트',\n",
              " '크진',\n",
              " '큰',\n",
              " '키우는',\n",
              " '투입한',\n",
              " '투자',\n",
              " '투자금액의',\n",
              " '투자금을',\n",
              " '투자금이',\n",
              " '투자를',\n",
              " '투자원금만',\n",
              " '투자원금에서',\n",
              " '투자원금으로',\n",
              " '투자원금으로만',\n",
              " '투자원금은',\n",
              " '투자원금이',\n",
              " '투자자는',\n",
              " '투자자와',\n",
              " '투자자의',\n",
              " '투자전략',\n",
              " '투자하고',\n",
              " '투자한',\n",
              " '특정',\n",
              " '틀어지게',\n",
              " '퍼센트의',\n",
              " '평균',\n",
              " '포트',\n",
              " '포트(2월',\n",
              " '포트)의',\n",
              " '포트의',\n",
              " '포트폴리오',\n",
              " '포트폴리오들의',\n",
              " '포트폴리오를',\n",
              " '포트폴리오에',\n",
              " '포트폴리오에서',\n",
              " '포트폴리오의',\n",
              " '표에서는',\n",
              " '필자가',\n",
              " '필자는',\n",
              " '하겠습니다.)',\n",
              " '하는',\n",
              " '하다',\n",
              " '하더라도',\n",
              " '하락',\n",
              " '하락하였을',\n",
              " '하락한',\n",
              " '하여',\n",
              " '하지만',\n",
              " '하지만,',\n",
              " '한',\n",
              " '한눈에',\n",
              " '한다면',\n",
              " '한정된',\n",
              " '합니다.',\n",
              " '해주었을',\n",
              " '해준',\n",
              " '했는데!!”라고',\n",
              " '현상은',\n",
              " '현실에서',\n",
              " '혹은',\n",
              " '확인할',\n",
              " '효과',\n",
              " '효과가',\n",
              " '효과를',\n",
              " '효과입니다.',\n",
              " '후',\n",
              " '후회하면서',\n",
              " '흐르면',\n",
              " '흘러갈수록'}"
            ]
          },
          "execution_count": 29,
          "metadata": {},
          "output_type": "execute_result"
        }
      ],
      "source": [
        "word_set = set(word_list)\n",
        "word_set"
      ]
    },
    {
      "cell_type": "code",
      "execution_count": null,
      "id": "76ae85b0",
      "metadata": {
        "id": "76ae85b0",
        "outputId": "634cfde8-2467-497c-93e5-aa9c9c707837"
      },
      "outputs": [
        {
          "data": {
            "text/plain": [
              "437"
            ]
          },
          "execution_count": 30,
          "metadata": {},
          "output_type": "execute_result"
        }
      ],
      "source": [
        "len(word_set)"
      ]
    },
    {
      "cell_type": "code",
      "execution_count": null,
      "id": "5b3fe2e9",
      "metadata": {
        "id": "5b3fe2e9",
        "outputId": "6af7d1a3-a708-4dc2-fa74-941e3501ea2d"
      },
      "outputs": [
        {
          "name": "stdout",
          "output_type": "stream",
          "text": [
            "1\n"
          ]
        }
      ],
      "source": [
        "for i in range(2):\n",
        "    new_value = i\n",
        "    \n",
        "print(new_value)"
      ]
    },
    {
      "cell_type": "code",
      "execution_count": null,
      "id": "0960ccad",
      "metadata": {
        "id": "0960ccad"
      },
      "outputs": [],
      "source": [
        "del input"
      ]
    },
    {
      "cell_type": "code",
      "execution_count": null,
      "id": "414eacf8",
      "metadata": {
        "id": "414eacf8"
      },
      "outputs": [],
      "source": [
        "\n",
        "user = int(input(\"값을 입력해주세요 : \"))\n",
        "total = user\n",
        "while user != 0 :\n",
        "    user = int(input(\"값을 입력해주세요 : \"))\n",
        "    total += user\n",
        "    \n",
        "print(\"합계는?\",total)\n",
        "\n"
      ]
    },
    {
      "cell_type": "code",
      "execution_count": null,
      "id": "39122024",
      "metadata": {
        "id": "39122024",
        "outputId": "7c072a3d-a647-4a61-818e-271b8434dfe5"
      },
      "outputs": [
        {
          "name": "stdout",
          "output_type": "stream",
          "text": [
            "값을 입력해주세요 : 30\n",
            "값을 입력해주세요 : 20\n",
            "값을 입력해주세요 : 50\n",
            "값을 입력해주세요 : 40\n",
            "값을 입력해주세요 : 30\n",
            "값을 입력해주세요 : 0\n",
            "합계는? 170\n"
          ]
        }
      ],
      "source": [
        "\n",
        "user = 100\n",
        "total = 0\n",
        "while user != 0 :\n",
        "    user = int(input(\"값을 입력해주세요 : \"))\n",
        "    total += user\n",
        "    \n",
        "print(\"합계는?\",total)\n",
        "\n"
      ]
    },
    {
      "cell_type": "code",
      "execution_count": null,
      "id": "101fa92e",
      "metadata": {
        "id": "101fa92e",
        "outputId": "c6113118-49f8-41d3-c98c-4e0053a2746f"
      },
      "outputs": [
        {
          "name": "stdout",
          "output_type": "stream",
          "text": [
            "값을 입력해주세요 : 10\n",
            "값을 입력해주세요 : 20\n",
            "값을 입력해주세요 : 30\n",
            "값을 입력해주세요 : 0\n",
            "60\n"
          ]
        }
      ],
      "source": [
        "\n",
        "user = int(input(\"값을 입력해주세요 : \"))\n",
        "total = [user]\n",
        "while user != 0 :\n",
        "    user = int(input(\"값을 입력해주세요 : \"))\n",
        "    total.append(user)\n",
        "    \n",
        "print(sum(total))\n",
        "\n"
      ]
    },
    {
      "cell_type": "code",
      "execution_count": null,
      "id": "51f99167",
      "metadata": {
        "id": "51f99167",
        "outputId": "a8677f98-be75-4bec-e32d-39853efcad8f"
      },
      "outputs": [
        {
          "name": "stdout",
          "output_type": "stream",
          "text": [
            "hello\n",
            "ex01\n",
            "intro\n"
          ]
        }
      ],
      "source": [
        "리스트 = ['hello.py', 'ex01.py', 'intro.hwp']\n",
        "for y in 리스트:\n",
        "    splited = y.split(\".\") \n",
        "    print((splited[0]))\n"
      ]
    },
    {
      "cell_type": "code",
      "execution_count": null,
      "id": "953125ef",
      "metadata": {
        "id": "953125ef"
      },
      "outputs": [],
      "source": [
        "del len"
      ]
    },
    {
      "cell_type": "code",
      "execution_count": null,
      "id": "eee6877e",
      "metadata": {
        "id": "eee6877e",
        "outputId": "af01cbd0-8723-4be8-c37a-1edea60f1a9e"
      },
      "outputs": [
        {
          "name": "stdout",
          "output_type": "stream",
          "text": [
            "\n"
          ]
        }
      ],
      "source": [
        "text = 'hello.py'\n",
        "\n",
        "print(text[::-1])\n"
      ]
    },
    {
      "cell_type": "code",
      "execution_count": null,
      "id": "786d82ec",
      "metadata": {
        "id": "786d82ec",
        "outputId": "acfcdaca-3eaf-484f-a3cb-0ad204425edb"
      },
      "outputs": [
        {
          "name": "stdout",
          "output_type": "stream",
          "text": [
            "['라', '다', '나', '가']\n",
            "라\n",
            "다\n",
            "나\n",
            "가\n"
          ]
        }
      ],
      "source": [
        "리스트 = [\"가\", \"나\", \"다\", \"라\"]\n",
        "print(리스트[: :-1])\n",
        "for x in 리스트[: :-1]:\n",
        "    print(x)\n"
      ]
    },
    {
      "cell_type": "code",
      "execution_count": null,
      "id": "3b793b2b",
      "metadata": {
        "id": "3b793b2b"
      },
      "outputs": [],
      "source": [
        "for x in  [\"가\", \"나\", \"다\", \"라\"]\n"
      ]
    },
    {
      "cell_type": "code",
      "execution_count": null,
      "id": "7eac781f",
      "metadata": {
        "id": "7eac781f"
      },
      "outputs": [],
      "source": [
        "import random"
      ]
    },
    {
      "cell_type": "code",
      "execution_count": null,
      "id": "7ed22624",
      "metadata": {
        "id": "7ed22624",
        "outputId": "347dab09-6c0f-43f9-a21a-70bda02c2794"
      },
      "outputs": [
        {
          "data": {
            "text/plain": [
              "0.7137235895837698"
            ]
          },
          "execution_count": 77,
          "metadata": {},
          "output_type": "execute_result"
        }
      ],
      "source": [
        "random.random()"
      ]
    },
    {
      "cell_type": "code",
      "execution_count": null,
      "id": "b174cea9",
      "metadata": {
        "id": "b174cea9",
        "outputId": "5d9cd882-dd8b-404b-9c67-6f5c805ca52e"
      },
      "outputs": [
        {
          "data": {
            "text/plain": [
              "3"
            ]
          },
          "execution_count": 100,
          "metadata": {},
          "output_type": "execute_result"
        }
      ],
      "source": [
        "random.randint(1, 3)"
      ]
    },
    {
      "cell_type": "code",
      "execution_count": null,
      "id": "66ff6569",
      "metadata": {
        "id": "66ff6569",
        "outputId": "6cd32988-511b-41b8-9998-3026c633cf78"
      },
      "outputs": [
        {
          "name": "stdout",
          "output_type": "stream",
          "text": [
            "4 32100\n",
            "3 32150\n",
            "2 32000\n",
            "1 32500\n",
            "0 32500\n"
          ]
        }
      ],
      "source": [
        "price_list = [32100, 32150, 32000, 32500, 32500]\n",
        "total_size = len(price_list)\n",
        "for i, price in enumerate(price_list):\n",
        "    print(f\"{total_size - i - 1} {price}\")"
      ]
    },
    {
      "cell_type": "code",
      "execution_count": null,
      "id": "697ed941",
      "metadata": {
        "id": "697ed941",
        "outputId": "8e9cbaa6-6bb2-4f6d-e08f-c91ebe6cc8ea"
      },
      "outputs": [
        {
          "data": {
            "text/plain": [
              "{'math': 80, 'science': 90, 'english': 30}"
            ]
          },
          "execution_count": 105,
          "metadata": {},
          "output_type": "execute_result"
        }
      ],
      "source": [
        "y = {'math': 70, 'science': 80, 'english': 20}\n",
        "\n",
        "for k in y:\n",
        "    y[k] = y[k] + 10\n",
        "    \n",
        "y"
      ]
    },
    {
      "cell_type": "code",
      "execution_count": null,
      "id": "bc1d75b5",
      "metadata": {
        "id": "bc1d75b5"
      },
      "outputs": [],
      "source": [
        "for i in range(len(my_list) - 1, 0, -1):     \n",
        "    print(my_list[i], my_list[i-1])\n"
      ]
    },
    {
      "cell_type": "code",
      "execution_count": null,
      "id": "e0b87836",
      "metadata": {
        "id": "e0b87836"
      },
      "outputs": [],
      "source": [
        "my_list = [\"가\", \"나\", \"다\", \"라\"]"
      ]
    },
    {
      "cell_type": "code",
      "execution_count": null,
      "id": "9c7a98e0",
      "metadata": {
        "id": "9c7a98e0",
        "outputId": "c0588f3d-2573-4c75-cdf1-485716f5031e"
      },
      "outputs": [
        {
          "name": "stdout",
          "output_type": "stream",
          "text": [
            "[3, 2, 1]\n"
          ]
        }
      ],
      "source": [
        "print(list(range(len(my_list) - 1, 0, -1)))"
      ]
    },
    {
      "cell_type": "code",
      "execution_count": null,
      "id": "7465fc0d",
      "metadata": {
        "id": "7465fc0d",
        "outputId": "265a5b65-579c-44d5-abb5-ac6ef8385956"
      },
      "outputs": [
        {
          "name": "stdout",
          "output_type": "stream",
          "text": [
            "101 호\n",
            "102 호\n",
            "201 호\n",
            "202 호\n",
            "301 호\n",
            "302 호\n"
          ]
        }
      ],
      "source": [
        "apart = [ [101, 102], [201, 202], [301, 302] ]\n",
        "\n",
        "for floor in apart:\n",
        "    for ho in floor:\n",
        "        print(f\"{ho} 호\")"
      ]
    },
    {
      "cell_type": "code",
      "execution_count": null,
      "id": "2644a598",
      "metadata": {
        "id": "2644a598",
        "outputId": "f2eff9d1-a28d-4cf4-e3ef-8d9baa3cc15a"
      },
      "outputs": [
        {
          "name": "stdout",
          "output_type": "stream",
          "text": [
            "합: 25\n"
          ]
        }
      ],
      "source": [
        "x=0\n",
        "for 변수 in range(1,11):\n",
        "    if 변수%2==1:\n",
        "        x+=변수\n",
        "print(\"합:\",x) \n"
      ]
    },
    {
      "cell_type": "code",
      "execution_count": null,
      "id": "b717864f",
      "metadata": {
        "id": "b717864f",
        "outputId": "564f92f4-04b5-49a0-82c5-c525a60273bf"
      },
      "outputs": [
        {
          "name": "stdout",
          "output_type": "stream",
          "text": [
            "233.33333333333334\n",
            "466.6666666666667\n",
            "733.3333333333334\n",
            "1033.3333333333333\n"
          ]
        }
      ],
      "source": [
        "my_list = [100, 200, 400, 800, 1000, 1300]\n",
        "\n",
        "print(sum(my_list[0:3])/3)\n",
        "print(sum(my_list[1:4])/3)\n",
        "print(sum(my_list[2:5])/3)\n",
        "print(sum(my_list[3:6])/3)\n"
      ]
    },
    {
      "cell_type": "code",
      "execution_count": null,
      "id": "c665b4cf",
      "metadata": {
        "id": "c665b4cf",
        "outputId": "7e75eb22-edc6-42d8-925b-1168aaa5fa28"
      },
      "outputs": [
        {
          "name": "stdout",
          "output_type": "stream",
          "text": [
            "375.0\n",
            "600.0\n",
            "875.0\n"
          ]
        }
      ],
      "source": [
        "duration = 4\n",
        "for i in range(len(my_list) - duration + 1):\n",
        "    print(sum(my_list[i : i + duration])/duration)\n",
        "    "
      ]
    },
    {
      "cell_type": "code",
      "execution_count": null,
      "id": "e21997e5",
      "metadata": {
        "id": "e21997e5",
        "outputId": "af28aa3a-1fea-4690-88b0-e6d94ca87968"
      },
      "outputs": [
        {
          "data": {
            "text/plain": [
              "['intra', 'h']"
            ]
          },
          "execution_count": 129,
          "metadata": {},
          "output_type": "execute_result"
        }
      ],
      "source": [
        "filename = \"intra.h\"\n",
        "file_info = filename.split(\".\")\n",
        "file_info"
      ]
    },
    {
      "cell_type": "code",
      "execution_count": null,
      "id": "822c8d6c",
      "metadata": {
        "id": "822c8d6c"
      },
      "outputs": [],
      "source": [
        "리스트 = ['intra.h', 'intra.c', 'define.h', 'run.py']\n",
        "for 변수 in 리스트:\n",
        "  split = 변수.split(\".\")\n",
        "  if (split[1] == \"h\") or (split[1] == \"c\"):\n",
        "    print(변수)\n"
      ]
    },
    {
      "cell_type": "code",
      "execution_count": null,
      "id": "b8115c20",
      "metadata": {
        "id": "b8115c20"
      },
      "outputs": [],
      "source": [
        "ohlc = [[\"open\", \"high\", \"low\", \"close\"],\n",
        "        [100, 110, 70, 100],\n",
        "        [200, 210, 180, 190],\n",
        "        [300, 310, 300, 310]]"
      ]
    },
    {
      "cell_type": "code",
      "execution_count": null,
      "id": "9c7443c7",
      "metadata": {
        "id": "9c7443c7"
      },
      "outputs": [],
      "source": [
        "volatility = []\n",
        "for i in range(1, len(ohlc)):\n",
        "    volatility.append(ohlc[i][1] - ohlc[i][2])"
      ]
    },
    {
      "cell_type": "code",
      "execution_count": null,
      "id": "b8c28cb4",
      "metadata": {
        "id": "b8c28cb4",
        "outputId": "40aadb9f-bcd5-4b7e-ba97-4283cb0850de"
      },
      "outputs": [
        {
          "data": {
            "text/plain": [
              "[40, 30, 10]"
            ]
          },
          "execution_count": 135,
          "metadata": {},
          "output_type": "execute_result"
        }
      ],
      "source": [
        "volatility"
      ]
    },
    {
      "cell_type": "code",
      "execution_count": null,
      "id": "be92f72d",
      "metadata": {
        "id": "be92f72d",
        "outputId": "5772bdbc-fab8-48ea-f957-924781b190e3"
      },
      "outputs": [
        {
          "name": "stdout",
          "output_type": "stream",
          "text": [
            "40\n",
            "30\n",
            "10\n"
          ]
        }
      ],
      "source": [
        "for i, item in enumerate(ohlc):\n",
        "    if i == 0:\n",
        "        continue\n",
        "        \n",
        "    print(item[1] - item[2])\n",
        "    "
      ]
    },
    {
      "cell_type": "code",
      "execution_count": null,
      "id": "53109af4",
      "metadata": {
        "id": "53109af4",
        "outputId": "1e681595-5b36-47d1-b5e7-ed01fa83b380"
      },
      "outputs": [
        {
          "data": {
            "text/plain": [
              "[30, 60, 90, 200, -70, 50]"
            ]
          },
          "execution_count": 137,
          "metadata": {},
          "output_type": "execute_result"
        }
      ],
      "source": [
        "x = [3, 6, 9, 20, -7, 5]\n",
        "\n",
        "for i in range(len(x)):\n",
        "    x[i] *= 10\n",
        "\n",
        "x"
      ]
    },
    {
      "cell_type": "code",
      "execution_count": null,
      "id": "ca88dae5",
      "metadata": {
        "id": "ca88dae5",
        "outputId": "873ef66a-a48b-442e-ee15-a13706c9eea8"
      },
      "outputs": [
        {
          "data": {
            "text/plain": [
              "{'math': 80, 'science': 90, 'english': 30}"
            ]
          },
          "execution_count": 138,
          "metadata": {},
          "output_type": "execute_result"
        }
      ],
      "source": [
        "y = {\"math\": 70, \"science\": 80, \"english\": 20} \n",
        "\n",
        "for k in y:\n",
        "    y[k] += 10\n",
        "    \n",
        "y"
      ]
    },
    {
      "cell_type": "code",
      "execution_count": null,
      "id": "6053f1f0",
      "metadata": {
        "id": "6053f1f0",
        "outputId": "2539b9ac-c471-47b4-fffe-98fb2cc19ecd"
      },
      "outputs": [
        {
          "name": "stdout",
          "output_type": "stream",
          "text": [
            "몇단을 출력하시겠습니까?3\n",
            "3 * 1 = 3\n",
            "3 * 2 = 6\n",
            "3 * 3 = 9\n",
            "3 * 4 = 12\n",
            "3 * 5 = 15\n",
            "3 * 6 = 18\n",
            "3 * 7 = 21\n",
            "3 * 8 = 24\n",
            "3 * 9 = 27\n"
          ]
        }
      ],
      "source": [
        "num = int(input(\"몇단을 출력하시겠습니까?\"))\n",
        "\n",
        "for i in range(1, 10):\n",
        "    print(f\"{num} * {i} = {num * i}\")"
      ]
    },
    {
      "cell_type": "code",
      "execution_count": null,
      "id": "60fbd7df",
      "metadata": {
        "id": "60fbd7df",
        "outputId": "cfe90222-0cd5-4369-db14-de350c2a7076"
      },
      "outputs": [
        {
          "data": {
            "text/plain": [
              "['school', 'science', 'mountain']"
            ]
          },
          "execution_count": 141,
          "metadata": {},
          "output_type": "execute_result"
        }
      ],
      "source": [
        "words = [\"school\", \"game\", \"piano\", \"science\",\"hotel\",\"mountain\"]\n",
        "\n",
        "result = []\n",
        "for word in words:\n",
        "    if len(word) >= 6:\n",
        "        result.append(word)\n",
        "        \n",
        "result"
      ]
    },
    {
      "cell_type": "code",
      "execution_count": null,
      "id": "93f8a4dc",
      "metadata": {
        "id": "93f8a4dc",
        "outputId": "4128c2cd-a15f-48ca-bb17-fa755fb29401"
      },
      "outputs": [
        {
          "name": "stdout",
          "output_type": "stream",
          "text": [
            "['school']\n",
            "['school', 'mountain']\n"
          ]
        }
      ],
      "source": [
        "ww = [\"school\",\"game\",\"piano\",\"hotel\",\"mountain\"]\n",
        "z = []\n",
        "for i in ww:\n",
        "    if len(i)>=6:\n",
        "        z.append(i)\n",
        "print(z)\n"
      ]
    },
    {
      "cell_type": "code",
      "execution_count": null,
      "id": "3fb0f14a",
      "metadata": {
        "id": "3fb0f14a",
        "outputId": "9148b1bd-0868-420f-b132-281fc5388f4b"
      },
      "outputs": [
        {
          "name": "stdout",
          "output_type": "stream",
          "text": [
            "1 * 1 = 1\n",
            "1 * 2 = 2\n",
            "1 * 3 = 3\n",
            "1 * 4 = 4\n",
            "1 * 5 = 5\n",
            "1 * 6 = 6\n",
            "1 * 7 = 7\n",
            "1 * 8 = 8\n",
            "1 * 9 = 9\n",
            "2 * 1 = 2\n",
            "2 * 2 = 4\n",
            "2 * 3 = 6\n",
            "2 * 4 = 8\n",
            "2 * 5 = 10\n",
            "2 * 6 = 12\n",
            "2 * 7 = 14\n",
            "2 * 8 = 16\n",
            "2 * 9 = 18\n",
            "3 * 1 = 3\n",
            "3 * 2 = 6\n",
            "3 * 3 = 9\n",
            "3 * 4 = 12\n",
            "3 * 5 = 15\n",
            "3 * 6 = 18\n",
            "3 * 7 = 21\n",
            "3 * 8 = 24\n",
            "3 * 9 = 27\n",
            "4 * 1 = 4\n",
            "4 * 2 = 8\n",
            "4 * 3 = 12\n",
            "4 * 4 = 16\n",
            "4 * 5 = 20\n",
            "4 * 6 = 24\n",
            "4 * 7 = 28\n",
            "4 * 8 = 32\n",
            "4 * 9 = 36\n",
            "5 * 1 = 5\n",
            "5 * 2 = 10\n",
            "5 * 3 = 15\n",
            "5 * 4 = 20\n",
            "5 * 5 = 25\n",
            "5 * 6 = 30\n",
            "5 * 7 = 35\n",
            "5 * 8 = 40\n",
            "5 * 9 = 45\n",
            "6 * 1 = 6\n",
            "6 * 2 = 12\n",
            "6 * 3 = 18\n",
            "6 * 4 = 24\n",
            "6 * 5 = 30\n",
            "6 * 6 = 36\n",
            "6 * 7 = 42\n",
            "6 * 8 = 48\n",
            "6 * 9 = 54\n",
            "7 * 1 = 7\n",
            "7 * 2 = 14\n",
            "7 * 3 = 21\n",
            "7 * 4 = 28\n",
            "7 * 5 = 35\n",
            "7 * 6 = 42\n",
            "7 * 7 = 49\n",
            "7 * 8 = 56\n",
            "7 * 9 = 63\n",
            "8 * 1 = 8\n",
            "8 * 2 = 16\n",
            "8 * 3 = 24\n",
            "8 * 4 = 32\n",
            "8 * 5 = 40\n",
            "8 * 6 = 48\n",
            "8 * 7 = 56\n",
            "8 * 8 = 64\n",
            "8 * 9 = 72\n",
            "9 * 1 = 9\n",
            "9 * 2 = 18\n",
            "9 * 3 = 27\n",
            "9 * 4 = 36\n",
            "9 * 5 = 45\n",
            "9 * 6 = 54\n",
            "9 * 7 = 63\n",
            "9 * 8 = 72\n",
            "9 * 9 = 81\n"
          ]
        }
      ],
      "source": [
        "for num in range(1, 10):\n",
        "    for i in range(1, 10):\n",
        "        print(f\"{num} * {i} = {num * i}\")"
      ]
    },
    {
      "cell_type": "code",
      "execution_count": null,
      "id": "7cd7ab4f",
      "metadata": {
        "id": "7cd7ab4f",
        "outputId": "7d6ea885-4d0d-4a2f-dfab-38b844caf4d9"
      },
      "outputs": [
        {
          "name": "stdout",
          "output_type": "stream",
          "text": [
            "[3, 6, 9, -7, 5, 20]\n",
            "[3, 6, -7, 5, 9, 20]\n",
            "[3, -7, 5, 6, 9, 20]\n",
            "[-7, 3, 5, 6, 9, 20]\n",
            "[-7, 3, 5, 6, 9, 20]\n"
          ]
        }
      ],
      "source": [
        "numbers = [3, 6, 9, 20, -7, 5]\n",
        "\n",
        "for i in range(len(numbers) - 1):\n",
        "    for j in range(len(numbers) - i - 1):\n",
        "        if numbers[j] > numbers[j + 1]:\n",
        "            numbers[j], numbers[j + 1] = numbers[j + 1], numbers[j]\n",
        "    print(numbers)\n",
        "\n",
        "#             tmp = numbers[i]\n",
        "#             numbers[j] = numbers[j + 1]\n",
        "#             numbers[j + 1] = tmp"
      ]
    },
    {
      "cell_type": "code",
      "execution_count": null,
      "id": "875c0b37",
      "metadata": {
        "id": "875c0b37",
        "outputId": "26b8f61f-32d0-49d3-9439-d7096e311f51"
      },
      "outputs": [
        {
          "name": "stdout",
          "output_type": "stream",
          "text": [
            "1\n",
            "2\n",
            "3의 공배수\n",
            "4\n",
            "5의 공배수\n",
            "3의 공배수\n",
            "7\n",
            "8\n",
            "3의 공배수\n",
            "5의 공배수\n",
            "11\n",
            "3의 공배수\n",
            "13\n",
            "14\n",
            "3과 5의 공배수\n",
            "16\n",
            "17\n",
            "3의 공배수\n",
            "19\n",
            "5의 공배수\n",
            "3의 공배수\n",
            "22\n",
            "23\n",
            "3의 공배수\n",
            "5의 공배수\n",
            "26\n",
            "3의 공배수\n",
            "28\n",
            "29\n",
            "3과 5의 공배수\n",
            "31\n",
            "32\n",
            "3의 공배수\n",
            "34\n",
            "5의 공배수\n",
            "3의 공배수\n",
            "37\n",
            "38\n",
            "3의 공배수\n",
            "5의 공배수\n",
            "41\n",
            "3의 공배수\n",
            "43\n",
            "44\n",
            "3과 5의 공배수\n",
            "46\n",
            "47\n",
            "3의 공배수\n",
            "49\n",
            "5의 공배수\n",
            "3의 공배수\n",
            "52\n",
            "53\n",
            "3의 공배수\n",
            "5의 공배수\n",
            "56\n",
            "3의 공배수\n",
            "58\n",
            "59\n",
            "3과 5의 공배수\n",
            "61\n",
            "62\n",
            "3의 공배수\n",
            "64\n",
            "5의 공배수\n",
            "3의 공배수\n",
            "67\n",
            "68\n",
            "3의 공배수\n",
            "5의 공배수\n",
            "71\n",
            "3의 공배수\n",
            "73\n",
            "74\n",
            "3과 5의 공배수\n",
            "76\n",
            "77\n",
            "3의 공배수\n",
            "79\n",
            "5의 공배수\n",
            "3의 공배수\n",
            "82\n",
            "83\n",
            "3의 공배수\n",
            "5의 공배수\n",
            "86\n",
            "3의 공배수\n",
            "88\n",
            "89\n",
            "3과 5의 공배수\n",
            "91\n",
            "92\n",
            "3의 공배수\n",
            "94\n",
            "5의 공배수\n",
            "3의 공배수\n",
            "97\n",
            "98\n",
            "3의 공배수\n",
            "5의 공배수\n"
          ]
        }
      ],
      "source": [
        "for num in range(1, 101):\n",
        "    if num % 3 == 0 and num % 5 == 0:\n",
        "        print(\"3과 5의 공배수\")\n",
        "    elif num % 3 == 0:\n",
        "        print(\"3의 공배수\")\n",
        "    elif num % 5 == 0:\n",
        "        print(\"5의 공배수\")\n",
        "    else:\n",
        "        print(num)"
      ]
    },
    {
      "cell_type": "code",
      "execution_count": null,
      "id": "a2e1e4d6",
      "metadata": {
        "id": "a2e1e4d6",
        "outputId": "be67ee72-b833-444e-d5bf-ae5bd72a1598"
      },
      "outputs": [
        {
          "data": {
            "text/plain": [
              "2"
            ]
          },
          "execution_count": 230,
          "metadata": {},
          "output_type": "execute_result"
        }
      ],
      "source": [
        "import random \n",
        "\n",
        "random.randint(1, 3)\n",
        "    \n",
        "    "
      ]
    },
    {
      "cell_type": "code",
      "execution_count": null,
      "id": "32d451fd",
      "metadata": {
        "id": "32d451fd"
      },
      "outputs": [],
      "source": [
        "import os\n",
        "\n",
        "filename = \"./data/game_info.pkl\"\n",
        "\n",
        "if os.path.exists(filename):\n",
        "    total_count = 3\n",
        "    win_count = 0\n",
        "else:\n",
        "    total_count = 0\n",
        "    win_count = 0\n",
        "\n",
        "        \n",
        "        \n",
        "user = 0\n",
        "total_count = 0\n",
        "win_count = 0\n",
        "\n",
        "\n",
        "\n",
        "rsp = [\"가위\", \"바위\", \"보\"]\n",
        "\n",
        "while user != 4:\n",
        "    user = int(input(\"가위(1), 바위(2), 보(3) 을 입력해주세요 : \"))\n",
        "    computer = random.randint(1, 3)\n",
        "    \n",
        "    if user not in [1, 2, 3]:\n",
        "        break\n",
        "    \n",
        "    print(f\"유저 : {rsp[user - 1]}, 컴퓨터 : {rsp[computer - 1]}\")\n",
        "\n",
        "    \n",
        "    if (user == 1 and computer == 3) or \\\n",
        "    (user == 2 and computer == 1) or \\\n",
        "    (user == 3 and computer == 2):\n",
        "        win_count += 1\n",
        "        \n",
        "    total_count += 1\n",
        "    \n",
        "print(f\"게임종료 (전체:{total_count}, 승리: {win_count})\")"
      ]
    },
    {
      "cell_type": "code",
      "execution_count": null,
      "id": "2ff319dd",
      "metadata": {
        "id": "2ff319dd",
        "outputId": "65e0fb3e-ba56-445c-8a61-a9121a012c74"
      },
      "outputs": [
        {
          "ename": "NameError",
          "evalue": "name 'total_count' is not defined",
          "output_type": "error",
          "traceback": [
            "\u001b[1;31m---------------------------------------------------------------------------\u001b[0m",
            "\u001b[1;31mNameError\u001b[0m                                 Traceback (most recent call last)",
            "\u001b[1;32m~\\AppData\\Local\\Temp/ipykernel_7216/3163332516.py\u001b[0m in \u001b[0;36m<module>\u001b[1;34m\u001b[0m\n\u001b[1;32m----> 1\u001b[1;33m \u001b[0mtotal_count\u001b[0m\u001b[1;33m\u001b[0m\u001b[1;33m\u001b[0m\u001b[0m\n\u001b[0m",
            "\u001b[1;31mNameError\u001b[0m: name 'total_count' is not defined"
          ]
        }
      ],
      "source": [
        "total_count"
      ]
    },
    {
      "cell_type": "code",
      "execution_count": null,
      "id": "266b98e7",
      "metadata": {
        "id": "266b98e7",
        "outputId": "3fd24f09-7c98-4c80-bf76-546232146a7d"
      },
      "outputs": [
        {
          "name": "stdout",
          "output_type": "stream",
          "text": [
            "숫자를 입력하세요: 20\n",
            "0\n",
            "1\n",
            "2\n",
            "3\n",
            "4\n",
            "5\n",
            "6\n",
            "7\n",
            "8\n",
            "9\n",
            "10\n",
            "11\n",
            "12\n",
            "13\n",
            "14\n",
            "15\n",
            "16\n",
            "17\n",
            "18\n",
            "19\n",
            "20\n"
          ]
        }
      ],
      "source": [
        "num = int(input(\"숫자를 입력하세요: \"))\n",
        "i = 0\n",
        "while i <= num:\n",
        "    print(i)\n",
        "    i += 1"
      ]
    },
    {
      "cell_type": "code",
      "execution_count": null,
      "id": "9fcf6e5e",
      "metadata": {
        "id": "9fcf6e5e",
        "outputId": "a622fbcc-258c-4e6b-c989-0ea74d392f18"
      },
      "outputs": [
        {
          "name": "stdout",
          "output_type": "stream",
          "text": [
            "숫자를 입력하세요: 20\n",
            "0\n",
            "2\n",
            "4\n",
            "6\n",
            "8\n",
            "10\n",
            "12\n",
            "14\n",
            "16\n",
            "18\n",
            "20\n"
          ]
        }
      ],
      "source": [
        "num = int(input(\"숫자를 입력하세요: \"))\n",
        "for i in range(num+1):\n",
        "    if i % 2 == 1:\n",
        "        continue\n",
        "    print(i)\n"
      ]
    },
    {
      "cell_type": "code",
      "execution_count": null,
      "id": "7ca29118",
      "metadata": {
        "id": "7ca29118",
        "outputId": "3715068c-8f13-4c62-ff18-ee3f89152bc1"
      },
      "outputs": [
        {
          "name": "stdout",
          "output_type": "stream",
          "text": [
            "2\n"
          ]
        }
      ],
      "source": [
        "a = [32, 45, 2, 5, 76]\n",
        "small = 100000000\n",
        "for num in a:\n",
        "    if num < small:\n",
        "        small = num\n",
        "\n",
        "print(small)\n",
        "\n"
      ]
    },
    {
      "cell_type": "code",
      "execution_count": null,
      "id": "46b4a754",
      "metadata": {
        "id": "46b4a754",
        "outputId": "6cc3889a-6d3b-4fc6-9430-a5d0dd713e17"
      },
      "outputs": [
        {
          "name": "stdout",
          "output_type": "stream",
          "text": [
            "76\n"
          ]
        }
      ],
      "source": [
        "big = a[0]\n",
        "for i in range(1, len(a)):\n",
        "    if big < a[i]:\n",
        "        big = a[i]\n",
        "\n",
        "print(big)\n"
      ]
    },
    {
      "cell_type": "code",
      "execution_count": null,
      "id": "dc384e57",
      "metadata": {
        "id": "dc384e57"
      },
      "outputs": [],
      "source": [
        "x = [3, 6, 9, 20, -7, 5]\n",
        "\n",
        "for i in range(len(x)):\n",
        "    x[i] *= 10\n",
        "\n",
        "x"
      ]
    },
    {
      "cell_type": "code",
      "execution_count": null,
      "id": "2626d5c0",
      "metadata": {
        "id": "2626d5c0",
        "outputId": "59560f0a-d1ca-4bd0-8759-7bd186646ba6"
      },
      "outputs": [
        {
          "data": {
            "text/plain": [
              "[300, 600, 900, 2000, -700, 500]"
            ]
          },
          "execution_count": 240,
          "metadata": {},
          "output_type": "execute_result"
        }
      ],
      "source": [
        "[ x[i] * 10  for i in range(len(x))]"
      ]
    },
    {
      "cell_type": "code",
      "execution_count": null,
      "id": "2b1fd657",
      "metadata": {
        "id": "2b1fd657",
        "outputId": "31d654bd-e3d8-436a-9169-3011acbf205a"
      },
      "outputs": [
        {
          "data": {
            "text/plain": [
              "[0, 1, 2, 3, 4, 5, 6, 7, 8, 9]"
            ]
          },
          "execution_count": 241,
          "metadata": {},
          "output_type": "execute_result"
        }
      ],
      "source": [
        "my_list = []\n",
        "for i in range(10):\n",
        "    my_list.append(i)\n",
        "\n",
        "my_list"
      ]
    },
    {
      "cell_type": "code",
      "execution_count": null,
      "id": "352cbc3f",
      "metadata": {
        "id": "352cbc3f",
        "outputId": "09795dc2-87f6-4f31-c80a-1276a833d361"
      },
      "outputs": [
        {
          "name": "stdout",
          "output_type": "stream",
          "text": [
            "[0, 1, 2, 3, 4, 5, 6, 7, 8, 9]\n"
          ]
        }
      ],
      "source": [
        "my_list = [i for i in range(10)]\n",
        "print(my_list)"
      ]
    },
    {
      "cell_type": "code",
      "execution_count": null,
      "id": "2c17ec4f",
      "metadata": {
        "id": "2c17ec4f",
        "outputId": "d6fdb122-08ef-4b6c-d635-817345c02275"
      },
      "outputs": [
        {
          "data": {
            "text/plain": [
              "[0, 3, 6, 9, 12, 15, 18, 21, 24, 27]"
            ]
          },
          "execution_count": 244,
          "metadata": {},
          "output_type": "execute_result"
        }
      ],
      "source": [
        "my_list = []\n",
        "for i in range(10):\n",
        "    my_list.append(i * 3)\n",
        "\n",
        "my_list"
      ]
    },
    {
      "cell_type": "code",
      "execution_count": null,
      "id": "33655333",
      "metadata": {
        "id": "33655333",
        "outputId": "36641790-4fd8-4b45-f3b3-8d0950dc3a30"
      },
      "outputs": [
        {
          "data": {
            "text/plain": [
              "[0, 3, 6, 9, 12, 15, 18, 21, 24, 27]"
            ]
          },
          "execution_count": 245,
          "metadata": {},
          "output_type": "execute_result"
        }
      ],
      "source": [
        "my_list = [i * 3 for i in range(10)]\n",
        "my_list"
      ]
    },
    {
      "cell_type": "code",
      "execution_count": null,
      "id": "c7043c1e",
      "metadata": {
        "id": "c7043c1e",
        "outputId": "efd59a21-2c5c-4e43-877e-2c1078bc268c"
      },
      "outputs": [
        {
          "data": {
            "text/plain": [
              "['school', 'science', 'mountain']"
            ]
          },
          "execution_count": 246,
          "metadata": {},
          "output_type": "execute_result"
        }
      ],
      "source": [
        "words = [\"school\", \"game\", \"piano\", \"science\",\"hotel\",\"mountain\"]\n",
        "\n",
        "result = []\n",
        "for word in words:\n",
        "    if len(word) >= 6:\n",
        "        result.append(word)\n",
        "        \n",
        "result"
      ]
    },
    {
      "cell_type": "code",
      "execution_count": null,
      "id": "8c90944a",
      "metadata": {
        "id": "8c90944a",
        "outputId": "7a761bb5-989c-4306-af93-b64d9616d42c"
      },
      "outputs": [
        {
          "data": {
            "text/plain": [
              "['school', 'science', 'mountain']"
            ]
          },
          "execution_count": 247,
          "metadata": {},
          "output_type": "execute_result"
        }
      ],
      "source": [
        "result = [word for word in words if len(word) >= 6]\n",
        "result"
      ]
    },
    {
      "cell_type": "code",
      "execution_count": null,
      "id": "fc5537da",
      "metadata": {
        "id": "fc5537da",
        "outputId": "d27b0707-c59f-424f-88e7-dc0f68880d05"
      },
      "outputs": [
        {
          "data": {
            "text/plain": [
              "['1 * 1 = 1',\n",
              " '1 * 2 = 2',\n",
              " '1 * 3 = 3',\n",
              " '1 * 4 = 4',\n",
              " '1 * 5 = 5',\n",
              " '1 * 6 = 6',\n",
              " '1 * 7 = 7',\n",
              " '1 * 8 = 8',\n",
              " '1 * 9 = 9',\n",
              " '2 * 1 = 2',\n",
              " '2 * 2 = 4',\n",
              " '2 * 3 = 6',\n",
              " '2 * 4 = 8',\n",
              " '2 * 5 = 10',\n",
              " '2 * 6 = 12',\n",
              " '2 * 7 = 14',\n",
              " '2 * 8 = 16',\n",
              " '2 * 9 = 18',\n",
              " '3 * 1 = 3',\n",
              " '3 * 2 = 6',\n",
              " '3 * 3 = 9',\n",
              " '3 * 4 = 12',\n",
              " '3 * 5 = 15',\n",
              " '3 * 6 = 18',\n",
              " '3 * 7 = 21',\n",
              " '3 * 8 = 24',\n",
              " '3 * 9 = 27',\n",
              " '4 * 1 = 4',\n",
              " '4 * 2 = 8',\n",
              " '4 * 3 = 12',\n",
              " '4 * 4 = 16',\n",
              " '4 * 5 = 20',\n",
              " '4 * 6 = 24',\n",
              " '4 * 7 = 28',\n",
              " '4 * 8 = 32',\n",
              " '4 * 9 = 36',\n",
              " '5 * 1 = 5',\n",
              " '5 * 2 = 10',\n",
              " '5 * 3 = 15',\n",
              " '5 * 4 = 20',\n",
              " '5 * 5 = 25',\n",
              " '5 * 6 = 30',\n",
              " '5 * 7 = 35',\n",
              " '5 * 8 = 40',\n",
              " '5 * 9 = 45',\n",
              " '6 * 1 = 6',\n",
              " '6 * 2 = 12',\n",
              " '6 * 3 = 18',\n",
              " '6 * 4 = 24',\n",
              " '6 * 5 = 30',\n",
              " '6 * 6 = 36',\n",
              " '6 * 7 = 42',\n",
              " '6 * 8 = 48',\n",
              " '6 * 9 = 54',\n",
              " '7 * 1 = 7',\n",
              " '7 * 2 = 14',\n",
              " '7 * 3 = 21',\n",
              " '7 * 4 = 28',\n",
              " '7 * 5 = 35',\n",
              " '7 * 6 = 42',\n",
              " '7 * 7 = 49',\n",
              " '7 * 8 = 56',\n",
              " '7 * 9 = 63',\n",
              " '8 * 1 = 8',\n",
              " '8 * 2 = 16',\n",
              " '8 * 3 = 24',\n",
              " '8 * 4 = 32',\n",
              " '8 * 5 = 40',\n",
              " '8 * 6 = 48',\n",
              " '8 * 7 = 56',\n",
              " '8 * 8 = 64',\n",
              " '8 * 9 = 72',\n",
              " '9 * 1 = 9',\n",
              " '9 * 2 = 18',\n",
              " '9 * 3 = 27',\n",
              " '9 * 4 = 36',\n",
              " '9 * 5 = 45',\n",
              " '9 * 6 = 54',\n",
              " '9 * 7 = 63',\n",
              " '9 * 8 = 72',\n",
              " '9 * 9 = 81']"
            ]
          },
          "execution_count": 249,
          "metadata": {},
          "output_type": "execute_result"
        }
      ],
      "source": [
        "gugu = []\n",
        "for num in range(1, 10):\n",
        "    for i in range(1, 10):\n",
        "        gugu.append(f\"{num} * {i} = {num * i}\")\n",
        "gugu"
      ]
    },
    {
      "cell_type": "code",
      "execution_count": null,
      "id": "bfcbfd49",
      "metadata": {
        "id": "bfcbfd49",
        "outputId": "b9a52a1b-50b4-4dd7-bd88-371dc55a0569"
      },
      "outputs": [
        {
          "data": {
            "text/plain": [
              "['1 * 1 = 1',\n",
              " '1 * 2 = 2',\n",
              " '1 * 3 = 3',\n",
              " '1 * 4 = 4',\n",
              " '1 * 5 = 5',\n",
              " '1 * 6 = 6',\n",
              " '1 * 7 = 7',\n",
              " '1 * 8 = 8',\n",
              " '1 * 9 = 9',\n",
              " '2 * 1 = 2',\n",
              " '2 * 2 = 4',\n",
              " '2 * 3 = 6',\n",
              " '2 * 4 = 8',\n",
              " '2 * 5 = 10',\n",
              " '2 * 6 = 12',\n",
              " '2 * 7 = 14',\n",
              " '2 * 8 = 16',\n",
              " '2 * 9 = 18',\n",
              " '3 * 1 = 3',\n",
              " '3 * 2 = 6',\n",
              " '3 * 3 = 9',\n",
              " '3 * 4 = 12',\n",
              " '3 * 5 = 15',\n",
              " '3 * 6 = 18',\n",
              " '3 * 7 = 21',\n",
              " '3 * 8 = 24',\n",
              " '3 * 9 = 27',\n",
              " '4 * 1 = 4',\n",
              " '4 * 2 = 8',\n",
              " '4 * 3 = 12',\n",
              " '4 * 4 = 16',\n",
              " '4 * 5 = 20',\n",
              " '4 * 6 = 24',\n",
              " '4 * 7 = 28',\n",
              " '4 * 8 = 32',\n",
              " '4 * 9 = 36',\n",
              " '5 * 1 = 5',\n",
              " '5 * 2 = 10',\n",
              " '5 * 3 = 15',\n",
              " '5 * 4 = 20',\n",
              " '5 * 5 = 25',\n",
              " '5 * 6 = 30',\n",
              " '5 * 7 = 35',\n",
              " '5 * 8 = 40',\n",
              " '5 * 9 = 45',\n",
              " '6 * 1 = 6',\n",
              " '6 * 2 = 12',\n",
              " '6 * 3 = 18',\n",
              " '6 * 4 = 24',\n",
              " '6 * 5 = 30',\n",
              " '6 * 6 = 36',\n",
              " '6 * 7 = 42',\n",
              " '6 * 8 = 48',\n",
              " '6 * 9 = 54',\n",
              " '7 * 1 = 7',\n",
              " '7 * 2 = 14',\n",
              " '7 * 3 = 21',\n",
              " '7 * 4 = 28',\n",
              " '7 * 5 = 35',\n",
              " '7 * 6 = 42',\n",
              " '7 * 7 = 49',\n",
              " '7 * 8 = 56',\n",
              " '7 * 9 = 63',\n",
              " '8 * 1 = 8',\n",
              " '8 * 2 = 16',\n",
              " '8 * 3 = 24',\n",
              " '8 * 4 = 32',\n",
              " '8 * 5 = 40',\n",
              " '8 * 6 = 48',\n",
              " '8 * 7 = 56',\n",
              " '8 * 8 = 64',\n",
              " '8 * 9 = 72',\n",
              " '9 * 1 = 9',\n",
              " '9 * 2 = 18',\n",
              " '9 * 3 = 27',\n",
              " '9 * 4 = 36',\n",
              " '9 * 5 = 45',\n",
              " '9 * 6 = 54',\n",
              " '9 * 7 = 63',\n",
              " '9 * 8 = 72',\n",
              " '9 * 9 = 81']"
            ]
          },
          "execution_count": 250,
          "metadata": {},
          "output_type": "execute_result"
        }
      ],
      "source": [
        "gugu = [f\"{num} * {i} = {num * i}\" for num in range(1, 10) for i in range(1, 10)]\n",
        "gugu\n"
      ]
    },
    {
      "cell_type": "code",
      "execution_count": null,
      "id": "d8313aaf",
      "metadata": {
        "id": "d8313aaf",
        "outputId": "86b1afa3-8d7d-49b2-9878-05769d0b1f16"
      },
      "outputs": [
        {
          "data": {
            "text/plain": [
              "[('name', 'tom'), ('age', 20), ('address', 'incheon')]"
            ]
          },
          "execution_count": 253,
          "metadata": {},
          "output_type": "execute_result"
        }
      ],
      "source": [
        "keys = [\"name\", \"age\", \"address\"]\n",
        "users = [\"tom\", 20, \"incheon\"]\n",
        "\n",
        "list(zip(keys, users))"
      ]
    },
    {
      "cell_type": "code",
      "execution_count": null,
      "id": "255019db",
      "metadata": {
        "id": "255019db",
        "outputId": "784d7fa5-dc69-4b86-b9f9-2e8f5aac7ea3"
      },
      "outputs": [
        {
          "data": {
            "text/plain": [
              "[('name', 'tom'), ('age', 20)]"
            ]
          },
          "execution_count": 254,
          "metadata": {},
          "output_type": "execute_result"
        }
      ],
      "source": [
        "keys = [\"name\", \"age\", \"address\"]\n",
        "users = [\"tom\", 20, ]\n",
        "\n",
        "list(zip(keys, users))"
      ]
    },
    {
      "cell_type": "code",
      "execution_count": null,
      "id": "1a0d4329",
      "metadata": {
        "id": "1a0d4329",
        "outputId": "0c7d9b92-66af-4740-c627-367d0076912f"
      },
      "outputs": [
        {
          "data": {
            "text/plain": [
              "[6, 4, 5, 7, 5, 8]"
            ]
          },
          "execution_count": 255,
          "metadata": {},
          "output_type": "execute_result"
        }
      ],
      "source": [
        "words = [\"school\", \"game\", \"piano\", \"science\",\"hotel\",\"mountain\"]\n",
        "\n",
        "result = []\n",
        "for word in words:\n",
        "    result.append(len(word))\n",
        "        \n",
        "result"
      ]
    },
    {
      "cell_type": "code",
      "execution_count": null,
      "id": "5f3925e7",
      "metadata": {
        "id": "5f3925e7",
        "outputId": "625ab451-e2b6-4c15-a287-8102722c0099"
      },
      "outputs": [
        {
          "data": {
            "text/plain": [
              "[6, 4, 5, 7, 5, 8]"
            ]
          },
          "execution_count": 256,
          "metadata": {},
          "output_type": "execute_result"
        }
      ],
      "source": [
        "result = [len(word) for word in words]\n",
        "result"
      ]
    },
    {
      "cell_type": "code",
      "execution_count": null,
      "id": "b057bde7",
      "metadata": {
        "id": "b057bde7",
        "outputId": "aef0a972-358e-40f5-c1d8-4b44e6590af5"
      },
      "outputs": [
        {
          "data": {
            "text/plain": [
              "[[0, 0, 0, 0, 0], [0, 0, 0, 0, 0], [0, 0, 0, 0, 0]]"
            ]
          },
          "execution_count": 260,
          "metadata": {},
          "output_type": "execute_result"
        }
      ],
      "source": [
        "a = []\n",
        "for i in range(3):\n",
        "    temp = []\n",
        "    for j in range(5):\n",
        "        temp.append(0)\n",
        "    a.append(temp)\n",
        "    \n",
        "a"
      ]
    },
    {
      "cell_type": "code",
      "execution_count": null,
      "id": "57c92f68",
      "metadata": {
        "id": "57c92f68"
      },
      "outputs": [],
      "source": [
        "a = [[10, 20], [30, 40, 50], [50, 60]]\n",
        "b = [[2, 3], [4, 5, 6], [6, 7]]\n"
      ]
    },
    {
      "cell_type": "code",
      "execution_count": null,
      "id": "fb94d139",
      "metadata": {
        "id": "fb94d139",
        "outputId": "10fbff1f-3013-42f7-a6c0-0f4b03e316bb"
      },
      "outputs": [
        {
          "data": {
            "text/plain": [
              "[[20, 60], [120, 200, 300], [300, 420]]"
            ]
          },
          "execution_count": 265,
          "metadata": {},
          "output_type": "execute_result"
        }
      ],
      "source": [
        "C = []\n",
        "for i in range(len(a)):\n",
        "    x = []\n",
        "    for j in range(len(a[i])):\n",
        "        x.append(a[i][j] * b[i][j])\n",
        "    C.append(x)     \n",
        "C"
      ]
    },
    {
      "cell_type": "code",
      "execution_count": null,
      "id": "2cd51984",
      "metadata": {
        "id": "2cd51984",
        "outputId": "24d379fb-2666-459a-9407-5a7f461a4801"
      },
      "outputs": [
        {
          "data": {
            "text/plain": [
              "[[1, 2], [3, 4], [5, 6]]"
            ]
          },
          "execution_count": 267,
          "metadata": {},
          "output_type": "execute_result"
        }
      ],
      "source": [
        "a = []\n",
        "for i in range(3):\n",
        "    temp = []\n",
        "    for j in range(2):\n",
        "        temp.append(i * 2 + j + 1)\n",
        "        print(\"daa\")\n",
        "    a.append(temp)\n",
        "    \n",
        "a"
      ]
    },
    {
      "cell_type": "code",
      "execution_count": null,
      "id": "9f446bcd",
      "metadata": {
        "id": "9f446bcd"
      },
      "outputs": [],
      "source": [
        "a = []\n",
        "for i in range(3):\n",
        "    temp = []\n",
        "    temp.append(i * 2 + 0 + 1)\n",
        "    temp.append(i * 2 + 1 + 1)\n",
        "    a.append(temp)\n",
        "    \n",
        "a"
      ]
    },
    {
      "cell_type": "code",
      "execution_count": null,
      "id": "3d9e7684",
      "metadata": {
        "id": "3d9e7684"
      },
      "outputs": [],
      "source": [
        "a = [32,45,2,5,76]\n",
        "small = a[0] \n",
        "\n",
        "for i in a:\n",
        "    if i < small: \n",
        "        small = i \n"
      ]
    },
    {
      "cell_type": "code",
      "execution_count": null,
      "id": "5fa976b4",
      "metadata": {
        "id": "5fa976b4",
        "outputId": "902cffd1-b4a5-4bd8-a9e8-6dbb2e9edfc6"
      },
      "outputs": [
        {
          "name": "stdout",
          "output_type": "stream",
          "text": [
            "[20]\n",
            "[20, 60]\n"
          ]
        },
        {
          "data": {
            "text/plain": [
              "[[20, 60], [20, 60]]"
            ]
          },
          "execution_count": 269,
          "metadata": {},
          "output_type": "execute_result"
        }
      ],
      "source": [
        "a = [[10, 20], [30, 40, 50], [50, 60]]\n",
        "b = [[2, 3], [4, 5, 6], [6, 7]]\n",
        "\n",
        "C = []\n",
        "for i in range(len(a)):\n",
        "    x = []\n",
        "    for j in range(len(a[i])):\n",
        "        x.append(a[i][j] * b[i][j])\n",
        "        C.append(x)     \n",
        "        print(x)\n",
        "        \n",
        "    break\n",
        "C"
      ]
    },
    {
      "cell_type": "code",
      "execution_count": null,
      "id": "beedb4ae",
      "metadata": {
        "id": "beedb4ae"
      },
      "outputs": [],
      "source": [
        "file = open(\"new_file.txt\", \"w\")\n",
        "file.write(\"Python is awesome!\")\n",
        "file.close()"
      ]
    },
    {
      "cell_type": "code",
      "execution_count": null,
      "id": "639ec5ec",
      "metadata": {
        "id": "639ec5ec",
        "outputId": "0cbb5b38-7abf-4b33-ab86-6f4230d2a62f"
      },
      "outputs": [
        {
          "name": "stdout",
          "output_type": "stream",
          "text": [
            "Java is awesome!\n"
          ]
        }
      ],
      "source": [
        "file = open(\"new_file.txt\", \"r\")\n",
        "content = file.read()\n",
        "print(content)\n",
        "file.close()"
      ]
    },
    {
      "cell_type": "code",
      "execution_count": null,
      "id": "217dfb58",
      "metadata": {
        "id": "217dfb58"
      },
      "outputs": [],
      "source": [
        "with open(\"new_file.txt\", \"w\") as file:\n",
        "    file.write(\"Python is awesome!\")"
      ]
    },
    {
      "cell_type": "code",
      "execution_count": null,
      "id": "9abcd82c",
      "metadata": {
        "id": "9abcd82c",
        "outputId": "281633e1-a1f9-47e5-8306-1fb1c908b445"
      },
      "outputs": [
        {
          "name": "stdout",
          "output_type": "stream",
          "text": [
            "Python is awesome!\n"
          ]
        }
      ],
      "source": [
        "with open(\"new_file.txt\", \"r\") as file:\n",
        "    content = file.read()\n",
        "    print(content)"
      ]
    },
    {
      "cell_type": "code",
      "execution_count": null,
      "id": "f09de46b",
      "metadata": {
        "id": "f09de46b",
        "outputId": "70b4fa18-0349-4a2d-d950-9c3431097247"
      },
      "outputs": [
        {
          "data": {
            "text/plain": [
              "{'name': 'tom', 'age': 20, 'address': 'incheon'}"
            ]
          },
          "execution_count": 2,
          "metadata": {},
          "output_type": "execute_result"
        }
      ],
      "source": [
        "keys = [\"name\", \"age\", \"address\"]\n",
        "users = [\"tom\", 20, \"incheon\"]\n",
        "\n",
        "my_info = dict(zip(keys, users))\n",
        "my_info"
      ]
    },
    {
      "cell_type": "code",
      "execution_count": null,
      "id": "24a459d7",
      "metadata": {
        "id": "24a459d7"
      },
      "outputs": [],
      "source": [
        "with open(\"new_info.txt\", \"w\") as file:\n",
        "    file.write(str(my_info))"
      ]
    },
    {
      "cell_type": "code",
      "execution_count": null,
      "id": "1f10ddb8",
      "metadata": {
        "id": "1f10ddb8",
        "outputId": "83c8553f-31af-4971-d3e0-0cfa30cde634"
      },
      "outputs": [
        {
          "name": "stdout",
          "output_type": "stream",
          "text": [
            "{'name': 'tom', 'age': 20, 'address': 'incheon'}\n"
          ]
        },
        {
          "ename": "TypeError",
          "evalue": "string indices must be integers",
          "output_type": "error",
          "traceback": [
            "\u001b[1;31m---------------------------------------------------------------------------\u001b[0m",
            "\u001b[1;31mTypeError\u001b[0m                                 Traceback (most recent call last)",
            "\u001b[1;32m~\\AppData\\Local\\Temp/ipykernel_9592/3572054936.py\u001b[0m in \u001b[0;36m<module>\u001b[1;34m\u001b[0m\n\u001b[0;32m      2\u001b[0m     \u001b[0mcontent\u001b[0m \u001b[1;33m=\u001b[0m \u001b[0mfile\u001b[0m\u001b[1;33m.\u001b[0m\u001b[0mread\u001b[0m\u001b[1;33m(\u001b[0m\u001b[1;33m)\u001b[0m\u001b[1;33m\u001b[0m\u001b[1;33m\u001b[0m\u001b[0m\n\u001b[0;32m      3\u001b[0m     \u001b[0mprint\u001b[0m\u001b[1;33m(\u001b[0m\u001b[0mcontent\u001b[0m\u001b[1;33m)\u001b[0m\u001b[1;33m\u001b[0m\u001b[1;33m\u001b[0m\u001b[0m\n\u001b[1;32m----> 4\u001b[1;33m     \u001b[0mprint\u001b[0m\u001b[1;33m(\u001b[0m\u001b[0mcontent\u001b[0m\u001b[1;33m[\u001b[0m\u001b[1;34m'name'\u001b[0m\u001b[1;33m]\u001b[0m\u001b[1;33m)\u001b[0m\u001b[1;33m\u001b[0m\u001b[1;33m\u001b[0m\u001b[0m\n\u001b[0m",
            "\u001b[1;31mTypeError\u001b[0m: string indices must be integers"
          ]
        }
      ],
      "source": [
        "with open(\"new_info.txt\", \"r\") as file:\n",
        "    content = file.read()\n",
        "    print(content)\n",
        "    print(content['name'])"
      ]
    },
    {
      "cell_type": "code",
      "execution_count": null,
      "id": "5d0cbf00",
      "metadata": {
        "id": "5d0cbf00"
      },
      "outputs": [],
      "source": [
        "import pickle\n",
        "\n",
        "with open(\"./data/new_info.pkl\", \"wb\") as file:\n",
        "    pickle.dump(my_info, file)"
      ]
    },
    {
      "cell_type": "code",
      "execution_count": null,
      "id": "810fef41",
      "metadata": {
        "id": "810fef41",
        "outputId": "c4ab5e5a-b487-474e-91a2-5b587a417ed9"
      },
      "outputs": [
        {
          "name": "stdout",
          "output_type": "stream",
          "text": [
            "{'name': 'tom', 'age': 20, 'address': 'incheon'}\n",
            "<class 'dict'>\n",
            "tom\n"
          ]
        }
      ],
      "source": [
        "with open(\"./data/new_info.pkl\", \"rb\") as file:\n",
        "    data = pickle.load(file)\n",
        "    print(data)\n",
        "    print(type(data))\n",
        "    print(data[\"name\"])"
      ]
    },
    {
      "cell_type": "code",
      "execution_count": null,
      "id": "742408ad",
      "metadata": {
        "id": "742408ad"
      },
      "outputs": [],
      "source": [
        "import pickle\n",
        "\n",
        "name = \"Tom\"\n",
        "age = 24\n",
        "address = \"서울시 마포구\"\n",
        "scores = {\"python\":90, \"deeplearnig\":95, \"database\":80}\n",
        "\n",
        "with open(\"data2.pkl\", \"wb\") as file:\n",
        "    pickle.dump(name, file)\n",
        "    pickle.dump(age, file)\n",
        "    pickle.dump(address, file)\n",
        "    pickle.dump(scores, file)\n",
        "    \n",
        "    \n",
        "        "
      ]
    },
    {
      "cell_type": "code",
      "execution_count": null,
      "id": "494ce576",
      "metadata": {
        "id": "494ce576"
      },
      "outputs": [],
      "source": [
        "with open(\"data2.pkl\", \"rb\") as file:\n",
        "    name2 = pickle.load(file)\n",
        "    age2 = pickle.load(file)\n",
        "    address2 = pickle.load(file)\n",
        "    scores2 = pickle.load(file)\n",
        "    "
      ]
    },
    {
      "cell_type": "code",
      "execution_count": null,
      "id": "755b0f10",
      "metadata": {
        "id": "755b0f10",
        "outputId": "bd62c90e-0f1e-44ec-87c1-b2e1ce1f251f"
      },
      "outputs": [
        {
          "name": "stdout",
          "output_type": "stream",
          "text": [
            "Tom 24 서울시 마포구 {'python': 90, 'deeplearnig': 95, 'database': 80}\n"
          ]
        }
      ],
      "source": [
        "print(name2, age2, address2, scores2)"
      ]
    },
    {
      "cell_type": "code",
      "execution_count": null,
      "id": "3dc95f4c",
      "metadata": {
        "id": "3dc95f4c",
        "outputId": "ffcdf235-af0b-436d-93f6-a0937d02215b"
      },
      "outputs": [
        {
          "name": "stdout",
          "output_type": "stream",
          "text": [
            "<class 'str'> <class 'int'> <class 'str'> <class 'dict'>\n"
          ]
        }
      ],
      "source": [
        "print(type(name2), type(age2), type(address2), type(scores2))"
      ]
    },
    {
      "cell_type": "code",
      "execution_count": null,
      "id": "49bdf08b",
      "metadata": {
        "id": "49bdf08b"
      },
      "outputs": [],
      "source": [
        "import os"
      ]
    },
    {
      "cell_type": "code",
      "execution_count": null,
      "id": "493c8884",
      "metadata": {
        "id": "493c8884",
        "outputId": "b231af46-2655-4617-a55e-1295532ddff8"
      },
      "outputs": [
        {
          "data": {
            "text/plain": [
              "False"
            ]
          },
          "execution_count": 8,
          "metadata": {},
          "output_type": "execute_result"
        }
      ],
      "source": [
        "os.path.exists(\"./data/my_info.pkl\")"
      ]
    },
    {
      "cell_type": "code",
      "execution_count": null,
      "id": "a6830329",
      "metadata": {
        "id": "a6830329"
      },
      "outputs": [],
      "source": [
        ""
      ]
    },
    {
      "cell_type": "code",
      "execution_count": null,
      "id": "51b4bfb4",
      "metadata": {
        "id": "51b4bfb4"
      },
      "outputs": [],
      "source": [
        ""
      ]
    }
  ],
  "metadata": {
    "kernelspec": {
      "display_name": "Python 3 (ipykernel)",
      "language": "python",
      "name": "python3"
    },
    "language_info": {
      "codemirror_mode": {
        "name": "ipython",
        "version": 3
      },
      "file_extension": ".py",
      "mimetype": "text/x-python",
      "name": "python",
      "nbconvert_exporter": "python",
      "pygments_lexer": "ipython3",
      "version": "3.9.7"
    },
    "colab": {
      "name": "1215_practice.ipynb",
      "provenance": [],
      "include_colab_link": true
    }
  },
  "nbformat": 4,
  "nbformat_minor": 5
}