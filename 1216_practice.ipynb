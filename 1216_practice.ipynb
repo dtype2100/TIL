{
  "cells": [
    {
      "cell_type": "markdown",
      "metadata": {
        "id": "view-in-github",
        "colab_type": "text"
      },
      "source": [
        "<a href=\"https://colab.research.google.com/github/dtype2100/TIL/blob/master/1216_practice.ipynb\" target=\"_parent\"><img src=\"https://colab.research.google.com/assets/colab-badge.svg\" alt=\"Open In Colab\"/></a>"
      ]
    },
    {
      "cell_type": "code",
      "execution_count": null,
      "id": "c9b6782a",
      "metadata": {
        "id": "c9b6782a"
      },
      "outputs": [],
      "source": [
        "with open (\"매수종목1.txt\", \"w\") as file:\n",
        "    file.write(\"005930\")\n",
        "    file.write(\"005380\")\n",
        "    file.write(\"035420\")\n"
      ]
    },
    {
      "cell_type": "code",
      "execution_count": null,
      "id": "f4739c3d",
      "metadata": {
        "id": "f4739c3d"
      },
      "outputs": [],
      "source": [
        "with open (\"매수종목1.txt\", \"w\") as file:\n",
        "    file.write(\"{}\\n{}\\n{}\".format(\"005930\", \"005380\", \"035420\"))"
      ]
    },
    {
      "cell_type": "code",
      "execution_count": null,
      "id": "bfe6e694",
      "metadata": {
        "id": "bfe6e694",
        "outputId": "30cba9a8-0186-4c0a-99f5-1c6c6f808487"
      },
      "outputs": [
        {
          "name": "stdout",
          "output_type": "stream",
          "text": [
            "삼성전자 : 005930\n",
            " 현대 자동차 : 005380\n",
            " 네이버 : 035420\n"
          ]
        }
      ],
      "source": [
        "!type \"매수종목1.txt\""
      ]
    },
    {
      "cell_type": "code",
      "execution_count": null,
      "id": "c43fd683",
      "metadata": {
        "id": "c43fd683"
      },
      "outputs": [],
      "source": [
        "with open (\"매수종목1.txt\", \"w\") as file:\n",
        "    file.write(\"삼성전자 : {}\\n 현대 자동차 : {}\\n 네이버 : {}\".format(\"005930\", \"005380\", \"035420\"))"
      ]
    },
    {
      "cell_type": "code",
      "execution_count": null,
      "id": "65833342",
      "metadata": {
        "id": "65833342",
        "outputId": "0bc261ae-58bb-48c4-ff3c-fbf469ffded5"
      },
      "outputs": [
        {
          "name": "stdout",
          "output_type": "stream",
          "text": [
            "저는 홍경수입니다. \n",
            "빅데이터 과정 강사입니다.\n"
          ]
        }
      ],
      "source": [
        "with open (\"big_data.txt\", encoding=\"utf-8\") as file:\n",
        "    contents = file.read()\n",
        "    print(contents)"
      ]
    },
    {
      "cell_type": "code",
      "execution_count": null,
      "id": "c3426755",
      "metadata": {
        "id": "c3426755",
        "outputId": "1fd5b84a-6094-4e10-ba14-e08dc74328a3"
      },
      "outputs": [
        {
          "name": "stdout",
          "output_type": "stream",
          "text": [
            "삼성전자 : 005930\n",
            " 현대 자동차 : 005380\n",
            " 네이버 : 035420\n"
          ]
        }
      ],
      "source": [
        "with open (\"매수종목1.txt\", ) as file:\n",
        "    contents = file.read()\n",
        "    print(contents)"
      ]
    },
    {
      "cell_type": "code",
      "execution_count": null,
      "id": "ea6cecc0",
      "metadata": {
        "id": "ea6cecc0"
      },
      "outputs": [],
      "source": [
        "def func():\n",
        "    print(\"Hello, Function\")\n",
        "    print(\"Hello, Function\")\n",
        "    print(\"Hello, Function\")\n",
        "    print(\"Hello, Function\")"
      ]
    },
    {
      "cell_type": "code",
      "execution_count": null,
      "id": "7f49aa6e",
      "metadata": {
        "id": "7f49aa6e",
        "outputId": "cf6a1df1-6b8a-4676-9af1-63afa7f616ab"
      },
      "outputs": [
        {
          "name": "stdout",
          "output_type": "stream",
          "text": [
            "Hello, Function\n",
            "Hello, Function\n",
            "Hello, Function\n",
            "Hello, Function\n",
            "None\n"
          ]
        }
      ],
      "source": [
        "print(func())"
      ]
    },
    {
      "cell_type": "code",
      "execution_count": null,
      "id": "09b60170",
      "metadata": {
        "id": "09b60170"
      },
      "outputs": [],
      "source": [
        "def greeting(name):\n",
        "    print(\"Hello\", name)"
      ]
    },
    {
      "cell_type": "code",
      "execution_count": null,
      "id": "80d5db97",
      "metadata": {
        "id": "80d5db97",
        "outputId": "fa4d63f1-11a5-4040-bc33-1880e93c44d3"
      },
      "outputs": [
        {
          "name": "stdout",
          "output_type": "stream",
          "text": [
            "Hello 경수\n"
          ]
        }
      ],
      "source": [
        "greeting(\"경수\")"
      ]
    },
    {
      "cell_type": "code",
      "execution_count": null,
      "id": "40c24b4c",
      "metadata": {
        "id": "40c24b4c"
      },
      "outputs": [],
      "source": [
        "def add(a, b):\n",
        "    return a + b"
      ]
    },
    {
      "cell_type": "code",
      "execution_count": null,
      "id": "631ebb5d",
      "metadata": {
        "id": "631ebb5d",
        "outputId": "1ca507c2-9bdd-41ce-f19f-eb3f6856852c"
      },
      "outputs": [
        {
          "data": {
            "text/plain": [
              "10"
            ]
          },
          "execution_count": 22,
          "metadata": {},
          "output_type": "execute_result"
        }
      ],
      "source": [
        "y = add(3, 7)\n",
        "y"
      ]
    },
    {
      "cell_type": "code",
      "execution_count": null,
      "id": "a823144d",
      "metadata": {
        "id": "a823144d"
      },
      "outputs": [],
      "source": [
        "def calc(a, b):\n",
        "    return a + b, a - b"
      ]
    },
    {
      "cell_type": "code",
      "execution_count": null,
      "id": "ed3a4edc",
      "metadata": {
        "id": "ed3a4edc",
        "outputId": "9e127859-95ca-483d-b059-dd40e01eacb5"
      },
      "outputs": [
        {
          "data": {
            "text/plain": [
              "(10, -4)"
            ]
          },
          "execution_count": 24,
          "metadata": {},
          "output_type": "execute_result"
        }
      ],
      "source": [
        "y = calc(3, 7)\n",
        "y"
      ]
    },
    {
      "cell_type": "code",
      "execution_count": null,
      "id": "d1d4f0b9",
      "metadata": {
        "id": "d1d4f0b9",
        "outputId": "2fc69bdd-a94c-49c6-ad70-182b78025734"
      },
      "outputs": [
        {
          "name": "stdout",
          "output_type": "stream",
          "text": [
            "10\n",
            "-4\n"
          ]
        }
      ],
      "source": [
        "x, y = calc(3, 7)\n",
        "print(x)\n",
        "print(y)"
      ]
    },
    {
      "cell_type": "code",
      "execution_count": null,
      "id": "b99b0c2d",
      "metadata": {
        "id": "b99b0c2d",
        "outputId": "de56af11-9a20-4ca6-de60-4cf2e856116c"
      },
      "outputs": [
        {
          "name": "stdout",
          "output_type": "stream",
          "text": [
            "valid id :  <built-in function id>\n"
          ]
        }
      ],
      "source": [
        "def id_check(id):\n",
        "    if id == \"admin\":\n",
        "        print(\"invalid id : admin\")\n",
        "        return\n",
        "\n",
        "print(\"valid id : \", id)\n",
        "    "
      ]
    },
    {
      "cell_type": "code",
      "execution_count": null,
      "id": "1db590b2",
      "metadata": {
        "id": "1db590b2"
      },
      "outputs": [],
      "source": [
        "id_check(\"jihwaja\")"
      ]
    },
    {
      "cell_type": "code",
      "execution_count": null,
      "id": "a9230b5c",
      "metadata": {
        "id": "a9230b5c",
        "outputId": "95083f5f-bf62-4255-a070-73810cf7a317"
      },
      "outputs": [
        {
          "name": "stdout",
          "output_type": "stream",
          "text": [
            "invalid id : admin\n"
          ]
        }
      ],
      "source": [
        "id_check(\"admin\")"
      ]
    },
    {
      "cell_type": "code",
      "execution_count": null,
      "id": "6850b78e",
      "metadata": {
        "id": "6850b78e"
      },
      "outputs": [],
      "source": [
        "a = 5"
      ]
    },
    {
      "cell_type": "code",
      "execution_count": null,
      "id": "8fee405b",
      "metadata": {
        "id": "8fee405b",
        "outputId": "ae312364-092a-4a90-ac78-051d223b7e7b"
      },
      "outputs": [
        {
          "name": "stdout",
          "output_type": "stream",
          "text": [
            "5\n"
          ]
        }
      ],
      "source": [
        "print(a)"
      ]
    },
    {
      "cell_type": "code",
      "execution_count": null,
      "id": "ef863030",
      "metadata": {
        "id": "ef863030"
      },
      "outputs": [],
      "source": [
        "def func1():\n",
        "    a = 1\n",
        "    print(a)"
      ]
    },
    {
      "cell_type": "code",
      "execution_count": null,
      "id": "b641b49f",
      "metadata": {
        "id": "b641b49f",
        "outputId": "d4295757-4d9c-430f-84bd-8b2442a858d7"
      },
      "outputs": [
        {
          "name": "stdout",
          "output_type": "stream",
          "text": [
            "1\n"
          ]
        }
      ],
      "source": [
        "func1()"
      ]
    },
    {
      "cell_type": "code",
      "execution_count": null,
      "id": "29c540d0",
      "metadata": {
        "id": "29c540d0",
        "outputId": "23221fe7-6815-41d2-9d02-148fef9a8417"
      },
      "outputs": [
        {
          "name": "stdout",
          "output_type": "stream",
          "text": [
            "5\n"
          ]
        }
      ],
      "source": [
        "print(a)"
      ]
    },
    {
      "cell_type": "code",
      "execution_count": null,
      "id": "e772b74a",
      "metadata": {
        "id": "e772b74a"
      },
      "outputs": [],
      "source": [
        "def func2():\n",
        "    print(a)"
      ]
    },
    {
      "cell_type": "code",
      "execution_count": null,
      "id": "15eaeead",
      "metadata": {
        "id": "15eaeead",
        "outputId": "2c70f146-83b3-4c89-cc43-81e7254032c8"
      },
      "outputs": [
        {
          "name": "stdout",
          "output_type": "stream",
          "text": [
            "5\n"
          ]
        }
      ],
      "source": [
        "func2()"
      ]
    },
    {
      "cell_type": "code",
      "execution_count": null,
      "id": "223d3951",
      "metadata": {
        "id": "223d3951"
      },
      "outputs": [],
      "source": [
        "def func3():\n",
        "    global a\n",
        "    a = 1\n",
        "    print(a)\n",
        "    "
      ]
    },
    {
      "cell_type": "code",
      "execution_count": null,
      "id": "7e12ca6d",
      "metadata": {
        "id": "7e12ca6d",
        "outputId": "ed852b63-57c4-4050-b3be-19ae9c3d0afd"
      },
      "outputs": [
        {
          "name": "stdout",
          "output_type": "stream",
          "text": [
            "1\n"
          ]
        }
      ],
      "source": [
        "func3()"
      ]
    },
    {
      "cell_type": "code",
      "execution_count": null,
      "id": "bd61f971",
      "metadata": {
        "id": "bd61f971",
        "outputId": "e40e2d16-4b62-49be-dfd3-82fe7df00b8a"
      },
      "outputs": [
        {
          "name": "stdout",
          "output_type": "stream",
          "text": [
            "1\n"
          ]
        }
      ],
      "source": [
        "print(a)"
      ]
    },
    {
      "cell_type": "code",
      "execution_count": null,
      "id": "9dcf907f",
      "metadata": {
        "id": "9dcf907f"
      },
      "outputs": [],
      "source": [
        "def func4():\n",
        "    b = 1\n",
        "    print(b)"
      ]
    },
    {
      "cell_type": "code",
      "execution_count": null,
      "id": "e1073dab",
      "metadata": {
        "id": "e1073dab",
        "outputId": "1f20520b-77f2-4c29-fe5b-3ad2fb3fc26f"
      },
      "outputs": [
        {
          "name": "stdout",
          "output_type": "stream",
          "text": [
            "1\n"
          ]
        }
      ],
      "source": [
        "func4()"
      ]
    },
    {
      "cell_type": "code",
      "execution_count": null,
      "id": "c047d1ff",
      "metadata": {
        "id": "c047d1ff"
      },
      "outputs": [],
      "source": [
        "def func5():\n",
        "    print(b)"
      ]
    },
    {
      "cell_type": "code",
      "execution_count": null,
      "id": "939a424c",
      "metadata": {
        "id": "939a424c",
        "outputId": "4563ec04-06cb-4b9d-81c1-99b913af85fa"
      },
      "outputs": [
        {
          "ename": "NameError",
          "evalue": "name 'b' is not defined",
          "output_type": "error",
          "traceback": [
            "\u001b[1;31m---------------------------------------------------------------------------\u001b[0m",
            "\u001b[1;31mNameError\u001b[0m                                 Traceback (most recent call last)",
            "\u001b[1;32m~\\AppData\\Local\\Temp/ipykernel_10220/3891600513.py\u001b[0m in \u001b[0;36m<module>\u001b[1;34m\u001b[0m\n\u001b[1;32m----> 1\u001b[1;33m \u001b[0mfunc5\u001b[0m\u001b[1;33m(\u001b[0m\u001b[1;33m)\u001b[0m\u001b[1;33m\u001b[0m\u001b[1;33m\u001b[0m\u001b[0m\n\u001b[0m",
            "\u001b[1;32m~\\AppData\\Local\\Temp/ipykernel_10220/344845477.py\u001b[0m in \u001b[0;36mfunc5\u001b[1;34m()\u001b[0m\n\u001b[0;32m      1\u001b[0m \u001b[1;32mdef\u001b[0m \u001b[0mfunc5\u001b[0m\u001b[1;33m(\u001b[0m\u001b[1;33m)\u001b[0m\u001b[1;33m:\u001b[0m\u001b[1;33m\u001b[0m\u001b[1;33m\u001b[0m\u001b[0m\n\u001b[1;32m----> 2\u001b[1;33m     \u001b[0mprint\u001b[0m\u001b[1;33m(\u001b[0m\u001b[0mb\u001b[0m\u001b[1;33m)\u001b[0m\u001b[1;33m\u001b[0m\u001b[1;33m\u001b[0m\u001b[0m\n\u001b[0m",
            "\u001b[1;31mNameError\u001b[0m: name 'b' is not defined"
          ]
        }
      ],
      "source": [
        "func5()"
      ]
    },
    {
      "cell_type": "code",
      "execution_count": null,
      "id": "b8ea10ee",
      "metadata": {
        "id": "b8ea10ee"
      },
      "outputs": [],
      "source": [
        "def print_coins():     \n",
        "    for i in range(100):         \n",
        "        print('bit') \n"
      ]
    },
    {
      "cell_type": "code",
      "execution_count": null,
      "id": "f9bbfdb3",
      "metadata": {
        "id": "f9bbfdb3"
      },
      "outputs": [],
      "source": [
        "print_coins()"
      ]
    },
    {
      "cell_type": "code",
      "execution_count": null,
      "id": "bbba4dd1",
      "metadata": {
        "id": "bbba4dd1"
      },
      "outputs": [],
      "source": [
        "print(\"A\")\n",
        "\n",
        "def message() :\n",
        "    print(\"B\")\n",
        "\n",
        "print(\"C\")\n",
        "message()"
      ]
    },
    {
      "cell_type": "code",
      "execution_count": null,
      "id": "7a39dab4",
      "metadata": {
        "id": "7a39dab4",
        "outputId": "2ad105b8-00d7-4c9e-bf86-0734de80476d"
      },
      "outputs": [
        {
          "name": "stdout",
          "output_type": "stream",
          "text": [
            "700\n"
          ]
        }
      ],
      "source": [
        "def print_max(a,b,c):\n",
        "    max_val = a\n",
        "    \n",
        "    for num in [b, c]:\n",
        "        if num > max_val: \n",
        "            max_val= num\n",
        "\n",
        "    print(max_val)\n",
        "    \n",
        "print_max(32,265,700)\n"
      ]
    },
    {
      "cell_type": "code",
      "execution_count": null,
      "id": "0c848eea",
      "metadata": {
        "id": "0c848eea"
      },
      "outputs": [],
      "source": [
        "def print_with_smile(text):\n",
        "    return text + \":D\""
      ]
    },
    {
      "cell_type": "code",
      "execution_count": null,
      "id": "a79f2601",
      "metadata": {
        "id": "a79f2601",
        "outputId": "7eac8dd5-36d4-4e24-8c3b-34706b854746"
      },
      "outputs": [
        {
          "data": {
            "text/plain": [
              "'안녕하세요:D'"
            ]
          },
          "execution_count": 64,
          "metadata": {},
          "output_type": "execute_result"
        }
      ],
      "source": [
        "print_with_smile(\"안녕하세요\")"
      ]
    },
    {
      "cell_type": "code",
      "execution_count": null,
      "id": "c590e04b",
      "metadata": {
        "id": "c590e04b"
      },
      "outputs": [],
      "source": [
        "def print_max (a, b, c):\n",
        "    max_val = a\n",
        "    \n",
        "    for num in [b, c]:\n",
        "        if max_val < num:\n",
        "            max_val = num\n",
        "        \n",
        "    print(max_val)\n"
      ]
    },
    {
      "cell_type": "code",
      "execution_count": null,
      "id": "20334117",
      "metadata": {
        "id": "20334117",
        "outputId": "d6448268-a121-49b9-8211-013a0c5af765"
      },
      "outputs": [
        {
          "name": "stdout",
          "output_type": "stream",
          "text": [
            "7\n",
            "None\n"
          ]
        }
      ],
      "source": [
        "print(print_max(2, 4, 7))"
      ]
    },
    {
      "cell_type": "code",
      "execution_count": null,
      "id": "8bde0e43",
      "metadata": {
        "id": "8bde0e43"
      },
      "outputs": [],
      "source": [
        "def print_xn(text, slice_size):\n",
        "    while len(text) > 0:\n",
        "        print(text[:slice_size])\n",
        "        text = text[slice_size:]"
      ]
    },
    {
      "cell_type": "code",
      "execution_count": null,
      "id": "fd745d88",
      "metadata": {
        "id": "fd745d88",
        "outputId": "9e0ea1b8-e110-4fb9-9b74-956ab3aa31da"
      },
      "outputs": [
        {
          "name": "stdout",
          "output_type": "stream",
          "text": [
            "아이엠어\n",
            "보이유알\n",
            "어걸아이\n",
            "엠어보이\n",
            "유알어걸\n"
          ]
        }
      ],
      "source": [
        "print_xn(\"아이엠어보이유알어걸아이엠어보이유알어걸\", 4)"
      ]
    },
    {
      "cell_type": "code",
      "execution_count": null,
      "id": "3871f157",
      "metadata": {
        "id": "3871f157"
      },
      "outputs": [],
      "source": [
        "def print_even (my_list) :\n",
        "    for v in my_list :\n",
        "        if v % 2 == 0 :\n",
        "            print(v)\n",
        "            \n"
      ]
    },
    {
      "cell_type": "code",
      "execution_count": null,
      "id": "4c7a9ad0",
      "metadata": {
        "id": "4c7a9ad0",
        "outputId": "ee0f66bd-59dc-4251-c184-442fcc3f0647"
      },
      "outputs": [
        {
          "ename": "TypeError",
          "evalue": "'list' object cannot be interpreted as an integer",
          "output_type": "error",
          "traceback": [
            "\u001b[1;31m---------------------------------------------------------------------------\u001b[0m",
            "\u001b[1;31mTypeError\u001b[0m                                 Traceback (most recent call last)",
            "\u001b[1;32m~\\AppData\\Local\\Temp/ipykernel_10220/1670345308.py\u001b[0m in \u001b[0;36m<module>\u001b[1;34m\u001b[0m\n\u001b[1;32m----> 1\u001b[1;33m \u001b[0mprint_even\u001b[0m \u001b[1;33m(\u001b[0m\u001b[1;33m[\u001b[0m\u001b[1;36m1\u001b[0m\u001b[1;33m,\u001b[0m \u001b[1;36m3\u001b[0m\u001b[1;33m,\u001b[0m \u001b[1;36m2\u001b[0m\u001b[1;33m,\u001b[0m \u001b[1;36m10\u001b[0m\u001b[1;33m,\u001b[0m \u001b[1;36m12\u001b[0m\u001b[1;33m,\u001b[0m \u001b[1;36m11\u001b[0m\u001b[1;33m,\u001b[0m \u001b[1;36m15\u001b[0m\u001b[1;33m]\u001b[0m\u001b[1;33m)\u001b[0m\u001b[1;33m\u001b[0m\u001b[1;33m\u001b[0m\u001b[0m\n\u001b[0m",
            "\u001b[1;32m~\\AppData\\Local\\Temp/ipykernel_10220/2058493590.py\u001b[0m in \u001b[0;36mprint_even\u001b[1;34m(my_list)\u001b[0m\n\u001b[0;32m      1\u001b[0m \u001b[1;32mdef\u001b[0m \u001b[0mprint_even\u001b[0m \u001b[1;33m(\u001b[0m\u001b[0mmy_list\u001b[0m\u001b[1;33m)\u001b[0m \u001b[1;33m:\u001b[0m\u001b[1;33m\u001b[0m\u001b[1;33m\u001b[0m\u001b[0m\n\u001b[1;32m----> 2\u001b[1;33m     \u001b[1;32mfor\u001b[0m \u001b[0mv\u001b[0m \u001b[1;32min\u001b[0m \u001b[0mrange\u001b[0m\u001b[1;33m(\u001b[0m\u001b[0mmy_list\u001b[0m\u001b[1;33m)\u001b[0m \u001b[1;33m:\u001b[0m\u001b[1;33m\u001b[0m\u001b[1;33m\u001b[0m\u001b[0m\n\u001b[0m\u001b[0;32m      3\u001b[0m         \u001b[1;32mif\u001b[0m \u001b[0mv\u001b[0m \u001b[1;33m%\u001b[0m \u001b[1;36m2\u001b[0m \u001b[1;33m==\u001b[0m \u001b[1;36m0\u001b[0m \u001b[1;33m:\u001b[0m\u001b[1;33m\u001b[0m\u001b[1;33m\u001b[0m\u001b[0m\n\u001b[0;32m      4\u001b[0m             \u001b[0mprint\u001b[0m\u001b[1;33m(\u001b[0m\u001b[0mv\u001b[0m\u001b[1;33m)\u001b[0m\u001b[1;33m\u001b[0m\u001b[1;33m\u001b[0m\u001b[0m\n\u001b[0;32m      5\u001b[0m \u001b[1;33m\u001b[0m\u001b[0m\n",
            "\u001b[1;31mTypeError\u001b[0m: 'list' object cannot be interpreted as an integer"
          ]
        }
      ],
      "source": [
        "print_even ([1, 3, 2, 10, 12, 11, 15])"
      ]
    },
    {
      "cell_type": "code",
      "execution_count": null,
      "id": "cab6513c",
      "metadata": {
        "id": "cab6513c",
        "outputId": "f4f92a17-1311-445b-c5a3-629e5f65f6c2"
      },
      "outputs": [
        {
          "name": "stdout",
          "output_type": "stream",
          "text": [
            "리스트에 추가할 숫자를 입력해주세요(멈추고 싶으면 음수 값을 입력하세요): 2\n",
            "리스트에 추가할 숫자를 입력해주세요(멈추고 싶으면 음수 값을 입력하세요): 3\n",
            "리스트에 추가할 숫자를 입력해주세요(멈추고 싶으면 음수 값을 입력하세요): 4\n",
            "리스트에 추가할 숫자를 입력해주세요(멈추고 싶으면 음수 값을 입력하세요): 6\n",
            "리스트에 추가할 숫자를 입력해주세요(멈추고 싶으면 음수 값을 입력하세요): \n",
            "[2, 3, 4, 6]\n",
            "2\n",
            "4\n",
            "6\n"
          ]
        }
      ],
      "source": [
        "lst=[]\n",
        "def print_even():\n",
        "    user=1\n",
        "    while True:\n",
        "        user=input(\"리스트에 추가할 숫자를 입력해주세요(멈추고 싶으면 음수 값을 입력하세요): \")    \n",
        "        if not user.isdigit():\n",
        "            break\n",
        "        lst.append(int(user))\n",
        "    \n",
        "    print(lst)\n",
        "    for v in lst:\n",
        "        if v%2==0:\n",
        "            print(v)\n",
        "print_even()\n"
      ]
    },
    {
      "cell_type": "code",
      "execution_count": null,
      "id": "305882bf",
      "metadata": {
        "id": "305882bf"
      },
      "outputs": [],
      "source": [
        "def print_5xn(line):\n",
        "    chunk_num = int(len(line) / 5)\n",
        "    for x in range(chunk_num + 1) :\n",
        "        print(line[x * 5: x * 5 + 5])"
      ]
    },
    {
      "cell_type": "code",
      "execution_count": null,
      "id": "860fbbef",
      "metadata": {
        "id": "860fbbef",
        "outputId": "b61f942b-13f1-4d83-b58a-2f8e78c38f17"
      },
      "outputs": [
        {
          "name": "stdout",
          "output_type": "stream",
          "text": [
            "아이엠어보\n",
            "이유알어걸\n",
            "\n"
          ]
        }
      ],
      "source": [
        "print_5xn(\"아이엠어보이유알어걸\")"
      ]
    },
    {
      "cell_type": "code",
      "execution_count": null,
      "id": "c785f263",
      "metadata": {
        "id": "c785f263"
      },
      "outputs": [],
      "source": [
        "def make_url(a):\n",
        "    url =  (\"www.\"+ a + \".com\")\n",
        "    return url"
      ]
    },
    {
      "cell_type": "code",
      "execution_count": null,
      "id": "b68a75f5",
      "metadata": {
        "id": "b68a75f5",
        "outputId": "707497f6-542c-4203-9914-f86cca110827"
      },
      "outputs": [
        {
          "name": "stdout",
          "output_type": "stream",
          "text": [
            "www.naver.com\n"
          ]
        }
      ],
      "source": [
        "print(make_url(\"naver\"))\n"
      ]
    },
    {
      "cell_type": "code",
      "execution_count": null,
      "id": "ade4e7d3",
      "metadata": {
        "id": "ade4e7d3",
        "outputId": "5ce89bf7-455d-4bb8-a18b-8d422d769c99"
      },
      "outputs": [
        {
          "name": "stdout",
          "output_type": "stream",
          "text": [
            "abcde\n",
            "fghij\n",
            "klmno\n",
            "\n"
          ]
        }
      ],
      "source": [
        "def print_5xn(i):\n",
        "    if len(i) >= 5:\n",
        "        for j in range(int(len(i)/5) + 1):\n",
        "            print(i[j * 5:j * 5 + 5])\n",
        "print_5xn(\"abcdefghijklmno\")\n",
        "\n"
      ]
    },
    {
      "cell_type": "code",
      "execution_count": null,
      "id": "defb3d07",
      "metadata": {
        "id": "defb3d07",
        "outputId": "ca6f2569-acb9-4746-feac-86f994b362e6"
      },
      "outputs": [
        {
          "data": {
            "text/plain": [
              "2.8"
            ]
          },
          "execution_count": 103,
          "metadata": {},
          "output_type": "execute_result"
        }
      ],
      "source": [
        "i = \"abcdefghijklmnop\"\n",
        "len(i)/5"
      ]
    },
    {
      "cell_type": "code",
      "execution_count": null,
      "id": "83ba031d",
      "metadata": {
        "id": "83ba031d"
      },
      "outputs": [],
      "source": [
        "lis = [1, 2, 3, 1, 4, 2, 1]\n",
        "def allindex(lst, num):\n",
        "#     result = []\n",
        "#     for i, n in enumerate(lst):\n",
        "#         if n == num:\n",
        "#             result.append(i)\n",
        "            \n",
        "#     return result\n",
        "\n",
        "    return [i for i, n in enumerate(lst) if n == num]\n",
        "        "
      ]
    },
    {
      "cell_type": "code",
      "execution_count": null,
      "id": "f397d244",
      "metadata": {
        "id": "f397d244",
        "outputId": "4c46f8ce-dd78-4427-f99f-82560e17f635"
      },
      "outputs": [
        {
          "name": "stdout",
          "output_type": "stream",
          "text": [
            "[0, 3, 6]\n"
          ]
        }
      ],
      "source": [
        "res = allindex(lis, 1)\n",
        "print(res)"
      ]
    },
    {
      "cell_type": "code",
      "execution_count": null,
      "id": "8382d884",
      "metadata": {
        "id": "8382d884",
        "outputId": "0bd510d3-8dae-4e24-858e-c33ee4b74113"
      },
      "outputs": [
        {
          "ename": "TypeError",
          "evalue": "allindex() takes 2 positional arguments but 3 were given",
          "output_type": "error",
          "traceback": [
            "\u001b[1;31m---------------------------------------------------------------------------\u001b[0m",
            "\u001b[1;31mTypeError\u001b[0m                                 Traceback (most recent call last)",
            "\u001b[1;32m~\\AppData\\Local\\Temp/ipykernel_10220/484285312.py\u001b[0m in \u001b[0;36m<module>\u001b[1;34m\u001b[0m\n\u001b[1;32m----> 1\u001b[1;33m \u001b[0mallindex\u001b[0m\u001b[1;33m(\u001b[0m\u001b[0mlis\u001b[0m\u001b[1;33m,\u001b[0m \u001b[1;36m1\u001b[0m\u001b[1;33m,\u001b[0m \u001b[1;36m2\u001b[0m\u001b[1;33m)\u001b[0m\u001b[1;33m\u001b[0m\u001b[1;33m\u001b[0m\u001b[0m\n\u001b[0m",
            "\u001b[1;31mTypeError\u001b[0m: allindex() takes 2 positional arguments but 3 were given"
          ]
        }
      ],
      "source": [
        "allindex(lis, 1, 2)"
      ]
    },
    {
      "cell_type": "code",
      "execution_count": null,
      "id": "9a710cd7",
      "metadata": {
        "id": "9a710cd7"
      },
      "outputs": [],
      "source": [
        "def func(*args):\n",
        "    print(type(args))\n",
        "    print(args)\n",
        "    \n",
        "    for arg in args:\n",
        "        print(arg)"
      ]
    },
    {
      "cell_type": "code",
      "execution_count": null,
      "id": "da7f389d",
      "metadata": {
        "id": "da7f389d",
        "outputId": "00981beb-4492-44ec-d5ab-d48a17864c06"
      },
      "outputs": [
        {
          "name": "stdout",
          "output_type": "stream",
          "text": [
            "<class 'tuple'>\n",
            "(1, 2, 3, 4, 5)\n",
            "1\n",
            "2\n",
            "3\n",
            "4\n",
            "5\n"
          ]
        }
      ],
      "source": [
        "func(1, 2, 3, 4, 5)"
      ]
    },
    {
      "cell_type": "code",
      "execution_count": null,
      "id": "e39b6c75",
      "metadata": {
        "id": "e39b6c75",
        "outputId": "e2597063-768d-4e0b-afaf-3f252dc3f6a9"
      },
      "outputs": [
        {
          "name": "stdout",
          "output_type": "stream",
          "text": [
            "<class 'tuple'>\n",
            "(1,)\n",
            "1\n"
          ]
        }
      ],
      "source": [
        "func(1)"
      ]
    },
    {
      "cell_type": "code",
      "execution_count": null,
      "id": "efd825af",
      "metadata": {
        "id": "efd825af"
      },
      "outputs": [],
      "source": [
        "def func(a, b, c):\n",
        "    print(a, b, c)"
      ]
    },
    {
      "cell_type": "code",
      "execution_count": null,
      "id": "fa9d5427",
      "metadata": {
        "id": "fa9d5427",
        "outputId": "1826bbc1-2402-42ec-ce82-e7d118845cf2"
      },
      "outputs": [
        {
          "name": "stdout",
          "output_type": "stream",
          "text": [
            "1 2 3\n"
          ]
        }
      ],
      "source": [
        "x = [1, 2, 3]\n",
        "func(*x)"
      ]
    },
    {
      "cell_type": "code",
      "execution_count": null,
      "id": "224de3ec",
      "metadata": {
        "id": "224de3ec",
        "outputId": "1ce844c2-6605-4fb3-d9c9-e715877c56ff"
      },
      "outputs": [
        {
          "name": "stdout",
          "output_type": "stream",
          "text": [
            "1 2 3\n"
          ]
        }
      ],
      "source": [
        "x = (1, 2, 3)\n",
        "func(*x)"
      ]
    },
    {
      "cell_type": "code",
      "execution_count": null,
      "id": "68585915",
      "metadata": {
        "id": "68585915",
        "outputId": "266e3fec-95ed-44b1-882a-0ade8a5cca5f"
      },
      "outputs": [
        {
          "name": "stdout",
          "output_type": "stream",
          "text": [
            "1 2 3\n"
          ]
        }
      ],
      "source": [
        "x = {1, 2, 3}\n",
        "func(*x)"
      ]
    },
    {
      "cell_type": "code",
      "execution_count": null,
      "id": "7efdf7b4",
      "metadata": {
        "id": "7efdf7b4"
      },
      "outputs": [],
      "source": [
        "def func(**kwargs):\n",
        "    print(type(kwargs))\n",
        "    print(kwargs)\n",
        "    print(\"이메일 : \", kwargs[\"email\"])\n",
        "    print(\"이름 : \", kwargs[\"name\"])"
      ]
    },
    {
      "cell_type": "code",
      "execution_count": null,
      "id": "11e70142",
      "metadata": {
        "id": "11e70142",
        "outputId": "a4181936-1c77-45cf-dbc9-9fee2db249f6"
      },
      "outputs": [
        {
          "name": "stdout",
          "output_type": "stream",
          "text": [
            "<class 'dict'>\n",
            "{'email': 'aa@aa.com', 'name': 'tom', 'address': '강남구'}\n",
            "이메일 :  aa@aa.com\n",
            "이름 :  tom\n"
          ]
        }
      ],
      "source": [
        "func(email=\"aa@aa.com\", name=\"tom\", address=\"강남구\")"
      ]
    },
    {
      "cell_type": "code",
      "execution_count": null,
      "id": "4098911c",
      "metadata": {
        "id": "4098911c"
      },
      "outputs": [],
      "source": [
        "def func(email, name):\n",
        "    print(\"이메일 : \", email)\n",
        "    print(\"이름 : \", name)"
      ]
    },
    {
      "cell_type": "code",
      "execution_count": null,
      "id": "fa4d9808",
      "metadata": {
        "id": "fa4d9808",
        "outputId": "b4458027-7213-4366-b938-4b1d0acfefab"
      },
      "outputs": [
        {
          "ename": "TypeError",
          "evalue": "func() got an unexpected keyword argument 'emal'",
          "output_type": "error",
          "traceback": [
            "\u001b[1;31m---------------------------------------------------------------------------\u001b[0m",
            "\u001b[1;31mTypeError\u001b[0m                                 Traceback (most recent call last)",
            "\u001b[1;32m~\\AppData\\Local\\Temp/ipykernel_10220/580635367.py\u001b[0m in \u001b[0;36m<module>\u001b[1;34m\u001b[0m\n\u001b[0;32m      1\u001b[0m \u001b[0mx\u001b[0m \u001b[1;33m=\u001b[0m \u001b[1;33m{\u001b[0m\u001b[1;34m\"emal\"\u001b[0m\u001b[1;33m:\u001b[0m \u001b[1;34m\"ad@aa.com\"\u001b[0m\u001b[1;33m,\u001b[0m \u001b[1;34m\"name\"\u001b[0m\u001b[1;33m:\u001b[0m\u001b[1;34m\"Tom\"\u001b[0m\u001b[1;33m}\u001b[0m\u001b[1;33m\u001b[0m\u001b[1;33m\u001b[0m\u001b[0m\n\u001b[1;32m----> 2\u001b[1;33m \u001b[0mfunc\u001b[0m\u001b[1;33m(\u001b[0m\u001b[1;33m**\u001b[0m\u001b[0mx\u001b[0m\u001b[1;33m)\u001b[0m\u001b[1;33m\u001b[0m\u001b[1;33m\u001b[0m\u001b[0m\n\u001b[0m",
            "\u001b[1;31mTypeError\u001b[0m: func() got an unexpected keyword argument 'emal'"
          ]
        }
      ],
      "source": [
        "x = {\"email\": \"ad@aa.com\", \"name\":\"Tom\"}\n",
        "func(**x)"
      ]
    },
    {
      "cell_type": "code",
      "execution_count": null,
      "id": "972b9d97",
      "metadata": {
        "id": "972b9d97"
      },
      "outputs": [],
      "source": [
        "def calc_monthly_salary(pay):\n",
        "    m_pay=int(pay/12)\n",
        "    return m_pay\n"
      ]
    },
    {
      "cell_type": "code",
      "execution_count": null,
      "id": "3241213c",
      "metadata": {
        "id": "3241213c",
        "outputId": "1481a99e-d50e-4f48-cd45-aa3b2e0f3de3"
      },
      "outputs": [
        {
          "data": {
            "text/plain": [
              "8"
            ]
          },
          "execution_count": 147,
          "metadata": {},
          "output_type": "execute_result"
        }
      ],
      "source": [
        "calc_monthly_salary(100)"
      ]
    },
    {
      "cell_type": "code",
      "execution_count": null,
      "id": "2f254df7",
      "metadata": {
        "id": "2f254df7",
        "outputId": "d36e5591-6aea-4d8c-cb40-39c6df4b742d"
      },
      "outputs": [
        {
          "name": "stdout",
          "output_type": "stream",
          "text": [
            "메뉴를 선택해주세요 1 - 입력, 2 - 조회, 3 - 삭제, 0 - 종료) : 2\n",
            "[0] 이름 : 이민호, 수학 : 40, 과학 : 30, 영어 : 50\n",
            "메뉴를 선택해주세요 1 - 입력, 2 - 조회, 3 - 삭제, 0 - 종료) : 1\n",
            "이름 : 홍경수\n",
            "수학 : 90\n",
            "과학 : 80\n",
            "영어 : 90\n",
            "메뉴를 선택해주세요 1 - 입력, 2 - 조회, 3 - 삭제, 0 - 종료) : 2\n",
            "[0] 이름 : 이민호, 수학 : 40, 과학 : 30, 영어 : 50\n",
            "[1] 이름 : 홍경수, 수학 : 90, 과학 : 80, 영어 : 90\n",
            "메뉴를 선택해주세요 1 - 입력, 2 - 조회, 3 - 삭제, 0 - 종료) : 3\n",
            "[0] 이름 : 이민호, 수학 : 40, 과학 : 30, 영어 : 50\n",
            "[1] 이름 : 홍경수, 수학 : 90, 과학 : 80, 영어 : 90\n"
          ]
        }
      ],
      "source": [
        "import os\n",
        "import pickle\n",
        "\n",
        "file_name = \"students.pkl\"\n",
        "\n",
        "if os.path.exists(file_name):\n",
        "    with open(file_name, \"rb\") as file:\n",
        "        student_info = pickle.load(file)            \n",
        "else:\n",
        "    student_info = []\n",
        "\n",
        "menu = -1\n",
        "\n",
        "def display_student():\n",
        "    for i, student in enumerate(student_info):           \n",
        "        print(f'[{i}] 이름 : {student[\"이름\"]}, 수학 : {student[\"수학\"]}, 과학 : {student[\"과학\"]}, 영어 : {student[\"영어\"]}')\n",
        "\n",
        "while menu != 0:\n",
        "    menu  = input(\"메뉴를 선택해주세요 1 - 입력, 2 - 조회, 3 - 삭제, 0 - 종료) : \")\n",
        "    \n",
        "    if not menu.isdigit():\n",
        "        print(\"잘못된 입력입니다!\")\n",
        "        continue\n",
        "    menu = int(menu)\n",
        "    if menu == 1:\n",
        "        name = input(\"이름 : \")\n",
        "        math = input(\"수학 : \")\n",
        "        science = input(\"과학 : \")\n",
        "        english = input(\"영어 : \")\n",
        "        \n",
        "        student_info.append({\"이름\" : name, \"수학\": math, \"과학\":science, \"영어\":english})\n",
        "\n",
        "    elif menu == 2:\n",
        "        display_student()\n",
        "        \n",
        "    elif menu == 3:\n",
        "        display_student()\n",
        "        \n",
        "        del_num = int(input(\"삭제할 번호를 입력해주세요 :\"))        \n",
        "        student_info.pop(del_num)\n",
        "        print(\"삭제되었습니다\")\n",
        "                    \n",
        "    elif menu == 0:\n",
        "        print(\"종료되었습니다!\")\n",
        "        with open(file_name, \"wb\") as file:\n",
        "            pickle.dump(student_info, file)\n",
        "            \n",
        "        break\n",
        "    else:\n",
        "        print(\"잘못된 입력입니다!\")\n",
        "        continue\n",
        "        "
      ]
    },
    {
      "cell_type": "code",
      "execution_count": null,
      "id": "0c6b4e94",
      "metadata": {
        "id": "0c6b4e94"
      },
      "outputs": [],
      "source": [
        ""
      ]
    }
  ],
  "metadata": {
    "kernelspec": {
      "display_name": "Python 3 (ipykernel)",
      "language": "python",
      "name": "python3"
    },
    "language_info": {
      "codemirror_mode": {
        "name": "ipython",
        "version": 3
      },
      "file_extension": ".py",
      "mimetype": "text/x-python",
      "name": "python",
      "nbconvert_exporter": "python",
      "pygments_lexer": "ipython3",
      "version": "3.9.7"
    },
    "colab": {
      "name": "1216_practice.ipynb",
      "provenance": [],
      "include_colab_link": true
    }
  },
  "nbformat": 4,
  "nbformat_minor": 5
}